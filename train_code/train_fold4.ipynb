{
 "cells": [
  {
   "cell_type": "markdown",
   "id": "ebcd47b3-5c3c-4176-8739-14bb28bb9922",
   "metadata": {},
   "source": [
    "# Library"
   ]
  },
  {
   "cell_type": "code",
   "execution_count": 1,
   "id": "bf9681d4-2ed8-4351-a54d-1f116ffbbba4",
   "metadata": {},
   "outputs": [],
   "source": [
    "#general\n",
    "import argparse\n",
    "import sys\n",
    "import os\n",
    "import random\n",
    "from scipy import signal\n",
    "import copy\n",
    "from typing import Union\n",
    "from tqdm.notebook import tqdm\n",
    "import numpy as np\n",
    "import pandas as pd\n",
    "from typing import Callable, Tuple\n",
    "\n",
    "from typing import List, Dict\n",
    "import torch.nn as nn\n",
    "import itertools\n",
    "import random\n",
    "import numpy as np\n",
    "\n",
    "import torch\n",
    "from torch.utils.data import Sampler\n",
    "from torch.utils.data import DataLoader, Dataset\n",
    "from typing import TypeVar, Iterable, Dict, List\n",
    "\n",
    "#sklearn\n",
    "from sklearn.metrics import accuracy_score, f1_score\n",
    "from sklearn.calibration import calibration_curve\n",
    "from sklearn.metrics import mean_squared_error\n",
    "from sklearn.metrics import roc_auc_score\n",
    "from sklearn.model_selection import train_test_split,StratifiedKFold\n",
    "from scipy.interpolate import interp1d\n",
    "from scipy.optimize import brentq\n",
    "from sklearn.metrics import roc_curve, precision_recall_fscore_support, roc_auc_score\n",
    "\n",
    "#hf\n",
    "from transformers import (AutoConfig,AutoModel)\n",
    "\n",
    "#torch\n",
    "import torch.nn.functional as F\n",
    "from torch.utils.data import Dataset\n",
    "import torch\n",
    "from torch import nn\n",
    "from torch import Tensor\n",
    "from torch.utils.data import DataLoader\n",
    "from torch.optim.lr_scheduler import LambdaLR\n",
    "\n",
    "\n",
    "#librosa\n",
    "import librosa\n",
    "\n",
    "#wandb\n",
    "import wandb\n",
    "\n",
    "\n",
    "import warnings\n",
    "warnings.filterwarnings(\"ignore\")"
   ]
  },
  {
   "cell_type": "code",
   "execution_count": 2,
   "id": "af531ac2-eb00-4068-b7f7-d4411a8e3589",
   "metadata": {},
   "outputs": [],
   "source": [
    "class ForeverDataIterator:\n",
    "    r\"\"\"A data iterator that will never stop producing data\"\"\"\n",
    "\n",
    "    def __init__(self, data_loader: DataLoader, device=None):\n",
    "        self.data_loader = data_loader\n",
    "        self.iter = iter(self.data_loader)\n",
    "        self.device = device\n",
    "\n",
    "    def __next__(self):\n",
    "        try:\n",
    "            data = next(self.iter)\n",
    "            if self.device is not None:\n",
    "                data = send_to_device(data, self.device)\n",
    "        except StopIteration:\n",
    "            self.iter = iter(self.data_loader)\n",
    "            data = next(self.iter)\n",
    "            if self.device is not None:\n",
    "                data = send_to_device(data, self.device)\n",
    "        return data\n",
    "\n",
    "    def __len__(self):\n",
    "        return len(self.data_loader)\n",
    "\n",
    "\n",
    "class SAM(torch.optim.Optimizer):\n",
    "    def __init__(self, params, base_optimizer, rho=0.05, adaptive=False, **kwargs):\n",
    "        assert rho >= 0.0, f\"Invalid rho, should be non-negative: {rho}\"\n",
    "\n",
    "        defaults = dict(rho=rho, adaptive=adaptive, **kwargs)\n",
    "        super(SAM, self).__init__(params, defaults)\n",
    "\n",
    "        self.base_optimizer = base_optimizer(self.param_groups, **kwargs)\n",
    "        self.param_groups = self.base_optimizer.param_groups\n",
    "\n",
    "    @torch.no_grad()\n",
    "    def first_step(self, zero_grad=False):\n",
    "        grad_norm = self._grad_norm()\n",
    "        for group in self.param_groups:\n",
    "            scale = group[\"rho\"] / (grad_norm + 1e-12)\n",
    "\n",
    "            for p in group[\"params\"]:\n",
    "                if p.grad is None: continue\n",
    "                e_w = (torch.pow(p, 2) if group[\"adaptive\"] else 1.0) * p.grad * scale.to(p)\n",
    "                p.add_(e_w)  # climb to the local maximum \"w + e(w)\"\n",
    "                self.state[p][\"e_w\"] = e_w\n",
    "\n",
    "        if zero_grad: self.zero_grad()\n",
    "\n",
    "    @torch.no_grad()\n",
    "    def second_step(self, zero_grad=False):\n",
    "        for group in self.param_groups:\n",
    "            for p in group[\"params\"]:\n",
    "                if p.grad is None: continue\n",
    "                p.sub_(self.state[p][\"e_w\"])  # get back to \"w\" from \"w + e(w)\"\n",
    "\n",
    "        self.base_optimizer.step()  # do the actual \"sharpness-aware\" update\n",
    "\n",
    "        if zero_grad: self.zero_grad()\n",
    "\n",
    "    @torch.no_grad()\n",
    "    def step(self, closure=None):\n",
    "        assert closure is not None, \"Sharpness Aware Minimization requires closure, but it was not provided\"\n",
    "        closure = torch.enable_grad()(closure)  # the closure should do a full forward-backward pass\n",
    "\n",
    "        self.first_step(zero_grad=True)\n",
    "        closure()\n",
    "        self.second_step()\n",
    "\n",
    "    def _grad_norm(self):\n",
    "        shared_device = self.param_groups[0][\"params\"][0].device  # put everything on the same device, in case of model parallelism\n",
    "        norm = torch.norm(\n",
    "                    torch.stack([\n",
    "                        ((torch.abs(p) if group[\"adaptive\"] else 1.0) * p.grad).norm(p=2).to(shared_device)\n",
    "                        for group in self.param_groups for p in group[\"params\"]\n",
    "                        if p.grad is not None\n",
    "                    ]),\n",
    "                    p=2\n",
    "               )\n",
    "        return norm\n",
    "\n",
    "\n",
    "class ConditionalDomainAdversarialLoss(nn.Module):\n",
    "    r\"\"\"The Conditional Domain Adversarial Loss used in `Conditional Adversarial Domain Adaptation (NIPS 2018) <https://arxiv.org/abs/1705.10667>`_\n",
    "\n",
    "    Conditional Domain adversarial loss measures the domain discrepancy through training a domain discriminator in a\n",
    "    conditional manner. Given domain discriminator :math:`D`, feature representation :math:`f` and\n",
    "    classifier predictions :math:`g`, the definition of CDAN loss is\n",
    "\n",
    "    .. math::\n",
    "        loss(\\mathcal{D}_s, \\mathcal{D}_t) &= \\mathbb{E}_{x_i^s \\sim \\mathcal{D}_s} \\text{log}[D(T(f_i^s, g_i^s))] \\\\\n",
    "        &+ \\mathbb{E}_{x_j^t \\sim \\mathcal{D}_t} \\text{log}[1-D(T(f_j^t, g_j^t))],\\\\\n",
    "\n",
    "    where :math:`T` is a :class:`MultiLinearMap`  or :class:`RandomizedMultiLinearMap` which convert two tensors to a single tensor.\n",
    "\n",
    "    Args:\n",
    "        domain_discriminator (torch.nn.Module): A domain discriminator object, which predicts the domains of\n",
    "          features. Its input shape is (N, F) and output shape is (N, 1)\n",
    "        entropy_conditioning (bool, optional): If True, use entropy-aware weight to reweight each training example.\n",
    "          Default: False\n",
    "        randomized (bool, optional): If True, use `randomized multi linear map`. Else, use `multi linear map`.\n",
    "          Default: False\n",
    "        num_classes (int, optional): Number of classes. Default: -1\n",
    "        features_dim (int, optional): Dimension of input features. Default: -1\n",
    "        randomized_dim (int, optional): Dimension of features after randomized. Default: 1024\n",
    "        reduction (str, optional): Specifies the reduction to apply to the output:\n",
    "          ``'none'`` | ``'mean'`` | ``'sum'``. ``'none'``: no reduction will be applied,\n",
    "          ``'mean'``: the sum of the output will be divided by the number of\n",
    "          elements in the output, ``'sum'``: the output will be summed. Default: ``'mean'``\n",
    "\n",
    "    .. note::\n",
    "        You need to provide `num_classes`, `features_dim` and `randomized_dim` **only when** `randomized`\n",
    "        is set True.\n",
    "\n",
    "    Inputs:\n",
    "        - g_s (tensor): unnormalized classifier predictions on source domain, :math:`g^s`\n",
    "        - f_s (tensor): feature representations on source domain, :math:`f^s`\n",
    "        - g_t (tensor): unnormalized classifier predictions on target domain, :math:`g^t`\n",
    "        - f_t (tensor): feature representations on target domain, :math:`f^t`\n",
    "\n",
    "    Shape:\n",
    "        - g_s, g_t: :math:`(minibatch, C)` where C means the number of classes.\n",
    "        - f_s, f_t: :math:`(minibatch, F)` where F means the dimension of input features.\n",
    "        - Output: scalar by default. If :attr:`reduction` is ``'none'``, then :math:`(minibatch, )`.\n",
    "\n",
    "    Examples::\n",
    "\n",
    "        >>> from dalib.modules.domain_discriminator import DomainDiscriminator\n",
    "        >>> from dalib.adaptation.cdan import ConditionalDomainAdversarialLoss\n",
    "        >>> import torch\n",
    "        >>> num_classes = 2\n",
    "        >>> feature_dim = 1024\n",
    "        >>> batch_size = 10\n",
    "        >>> discriminator = DomainDiscriminator(in_feature=feature_dim * num_classes, hidden_size=1024)\n",
    "        >>> loss = ConditionalDomainAdversarialLoss(discriminator, reduction='mean')\n",
    "        >>> # features from source domain and target domain\n",
    "        >>> f_s, f_t = torch.randn(batch_size, feature_dim), torch.randn(batch_size, feature_dim)\n",
    "        >>> # logits output from source domain adn target domain\n",
    "        >>> g_s, g_t = torch.randn(batch_size, num_classes), torch.randn(batch_size, num_classes)\n",
    "        >>> output = loss(g_s, f_s, g_t, f_t)\n",
    "    \"\"\"\n",
    "\n",
    "    def __init__(self, domain_discriminator: nn.Module, entropy_conditioning: Optional[bool] = False,\n",
    "                 randomized: Optional[bool] = False, num_classes: Optional[int] = -1,\n",
    "                 features_dim: Optional[int] = -1, randomized_dim: Optional[int] = 1024,\n",
    "                 reduction: Optional[str] = 'mean'):\n",
    "        super(ConditionalDomainAdversarialLoss, self).__init__()\n",
    "        self.domain_discriminator = domain_discriminator\n",
    "        self.grl = WarmStartGradientReverseLayer(alpha=1., lo=0., hi=1., max_iters=1000, auto_step=True)\n",
    "        self.entropy_conditioning = entropy_conditioning\n",
    "\n",
    "        if randomized:\n",
    "            assert num_classes > 0 and features_dim > 0 and randomized_dim > 0\n",
    "            self.map = RandomizedMultiLinearMap(features_dim, num_classes, randomized_dim)\n",
    "        else:\n",
    "            self.map = MultiLinearMap()\n",
    "\n",
    "        self.bce = lambda input, target, weight: F.binary_cross_entropy(input, target, weight,\n",
    "                                                                        reduction=reduction) if self.entropy_conditioning \\\n",
    "            else F.binary_cross_entropy(input, target, reduction=reduction)\n",
    "        self.domain_discriminator_accuracy = None\n",
    "\n",
    "    def forward(self, g_s: torch.Tensor, f_s: torch.Tensor, g_t: torch.Tensor, f_t: torch.Tensor) -> torch.Tensor:\n",
    "        f = torch.cat((f_s, f_t), dim=0)\n",
    "        g = torch.cat((g_s, g_t), dim=0)\n",
    "        g = F.softmax(g, dim=1).detach()\n",
    "        h = self.grl(self.map(f, g))\n",
    "        d = self.domain_discriminator(h)\n",
    "        d_label = torch.cat((\n",
    "            torch.ones((g_s.size(0), 1)).to(g_s.device),\n",
    "            torch.zeros((g_t.size(0), 1)).to(g_t.device),\n",
    "        ))\n",
    "        weight = 1.0 + torch.exp(-entropy(g))\n",
    "        batch_size = f.size(0)\n",
    "        weight = weight / torch.sum(weight) * batch_size\n",
    "        return self.bce(d, d_label, weight.view_as(d))\n",
    "\n",
    "\n",
    "class RandomizedMultiLinearMap(nn.Module):\n",
    "    \"\"\"Random multi linear map\n",
    "\n",
    "    Given two inputs :math:`f` and :math:`g`, the definition is\n",
    "\n",
    "    .. math::\n",
    "        T_{\\odot}(f,g) = \\dfrac{1}{\\sqrt{d}} (R_f f) \\odot (R_g g),\n",
    "\n",
    "    where :math:`\\odot` is element-wise product, :math:`R_f` and :math:`R_g` are random matrices\n",
    "    sampled only once and ﬁxed in training.\n",
    "\n",
    "    Args:\n",
    "        features_dim (int): dimension of input :math:`f`\n",
    "        num_classes (int): dimension of input :math:`g`\n",
    "        output_dim (int, optional): dimension of output tensor. Default: 1024\n",
    "\n",
    "    Shape:\n",
    "        - f: (minibatch, features_dim)\n",
    "        - g: (minibatch, num_classes)\n",
    "        - Outputs: (minibatch, output_dim)\n",
    "    \"\"\"\n",
    "\n",
    "    def __init__(self, features_dim: int, num_classes: int, output_dim: Optional[int] = 1024):\n",
    "        super(RandomizedMultiLinearMap, self).__init__()\n",
    "        self.Rf = torch.randn(features_dim, output_dim)\n",
    "        self.Rg = torch.randn(num_classes, output_dim)\n",
    "        self.output_dim = output_dim\n",
    "\n",
    "    def forward(self, f: torch.Tensor, g: torch.Tensor) -> torch.Tensor:\n",
    "        f = torch.mm(f, self.Rf.to(f.device))\n",
    "        g = torch.mm(g, self.Rg.to(g.device))\n",
    "        output = torch.mul(f, g) / np.sqrt(float(self.output_dim))\n",
    "        return output\n",
    "\n",
    "\n",
    "class MultiLinearMap(nn.Module):\n",
    "    \"\"\"Multi linear map\n",
    "\n",
    "    Shape:\n",
    "        - f: (minibatch, F)\n",
    "        - g: (minibatch, C)\n",
    "        - Outputs: (minibatch, F * C)\n",
    "    \"\"\"\n",
    "\n",
    "    def __init__(self):\n",
    "        super(MultiLinearMap, self).__init__()\n",
    "\n",
    "    def forward(self, f: torch.Tensor, g: torch.Tensor) -> torch.Tensor:\n",
    "        batch_size = f.size(0)\n",
    "        output = torch.bmm(g.unsqueeze(2), f.unsqueeze(1))\n",
    "        return output.view(batch_size, -1)\n",
    "\n",
    "\n",
    "from typing import Optional, Any, Tuple\n",
    "import numpy as np\n",
    "import torch.nn as nn\n",
    "from torch.autograd import Function\n",
    "import torch\n",
    "\n",
    "\n",
    "class GradientReverseFunction(Function):\n",
    "\n",
    "    @staticmethod\n",
    "    def forward(ctx: Any, input: torch.Tensor, coeff: Optional[float] = 1.) -> torch.Tensor:\n",
    "        ctx.coeff = coeff\n",
    "        output = input * 1.0\n",
    "        return output\n",
    "\n",
    "    @staticmethod\n",
    "    def backward(ctx: Any, grad_output: torch.Tensor) -> Tuple[torch.Tensor, Any]:\n",
    "        return grad_output.neg() * ctx.coeff, None\n",
    "\n",
    "\n",
    "class GradientReverseLayer(nn.Module):\n",
    "    def __init__(self):\n",
    "        super(GradientReverseLayer, self).__init__()\n",
    "\n",
    "    def forward(self, *input):\n",
    "        return GradientReverseFunction.apply(*input)\n",
    "\n",
    "\n",
    "class WarmStartGradientReverseLayer(nn.Module):\n",
    "    \"\"\"Gradient Reverse Layer :math:`\\mathcal{R}(x)` with warm start\n",
    "\n",
    "        The forward and backward behaviours are:\n",
    "\n",
    "        .. math::\n",
    "            \\mathcal{R}(x) = x,\n",
    "\n",
    "            \\dfrac{ d\\mathcal{R}} {dx} = - \\lambda I.\n",
    "\n",
    "        :math:`\\lambda` is initiated at :math:`lo` and is gradually changed to :math:`hi` using the following schedule:\n",
    "\n",
    "        .. math::\n",
    "            \\lambda = \\dfrac{2(hi-lo)}{1+\\exp(- α \\dfrac{i}{N})} - (hi-lo) + lo\n",
    "\n",
    "        where :math:`i` is the iteration step.\n",
    "\n",
    "        Args:\n",
    "            alpha (float, optional): :math:`α`. Default: 1.0\n",
    "            lo (float, optional): Initial value of :math:`\\lambda`. Default: 0.0\n",
    "            hi (float, optional): Final value of :math:`\\lambda`. Default: 1.0\n",
    "            max_iters (int, optional): :math:`N`. Default: 1000\n",
    "            auto_step (bool, optional): If True, increase :math:`i` each time `forward` is called.\n",
    "              Otherwise use function `step` to increase :math:`i`. Default: False\n",
    "        \"\"\"\n",
    "\n",
    "    def __init__(self, alpha: Optional[float] = 1.0, lo: Optional[float] = 0.0, hi: Optional[float] = 1.,\n",
    "                 max_iters: Optional[int] = 1000., auto_step: Optional[bool] = False):\n",
    "        super(WarmStartGradientReverseLayer, self).__init__()\n",
    "        self.alpha = alpha\n",
    "        self.lo = lo\n",
    "        self.hi = hi\n",
    "        self.iter_num = 0\n",
    "        self.max_iters = max_iters\n",
    "        self.auto_step = auto_step\n",
    "\n",
    "    def forward(self, input: torch.Tensor) -> torch.Tensor:\n",
    "        \"\"\"\"\"\"\n",
    "        coeff = float(\n",
    "            2.0 * (self.hi - self.lo) / (1.0 + np.exp(-self.alpha * self.iter_num / self.max_iters))\n",
    "            - (self.hi - self.lo) + self.lo\n",
    "        )\n",
    "        if self.auto_step:\n",
    "            self.step()\n",
    "        return GradientReverseFunction.apply(input, coeff)\n",
    "\n",
    "    def step(self):\n",
    "        \"\"\"Increase iteration number :math:`i` by 1\"\"\"\n",
    "        self.iter_num += 1"
   ]
  },
  {
   "cell_type": "markdown",
   "id": "12f22985-b074-4a19-8adc-05d9422fa222",
   "metadata": {},
   "source": [
    "# Model"
   ]
  },
  {
   "cell_type": "code",
   "execution_count": 3,
   "id": "4e405595-ff29-40dc-b476-81f62c7cdced",
   "metadata": {},
   "outputs": [],
   "source": [
    "class GraphAttentionLayer(nn.Module):\n",
    "    def __init__(self, in_dim, out_dim, **kwargs):\n",
    "        super().__init__()\n",
    "\n",
    "        # attention map\n",
    "        self.att_proj = nn.Linear(in_dim, out_dim)\n",
    "        self.att_weight = self._init_new_params(out_dim, 1)\n",
    "\n",
    "        # project\n",
    "        self.proj_with_att = nn.Linear(in_dim, out_dim)\n",
    "        self.proj_without_att = nn.Linear(in_dim, out_dim)\n",
    "\n",
    "        # batch norm\n",
    "        self.bn = nn.BatchNorm1d(out_dim)\n",
    "\n",
    "        # dropout for inputs\n",
    "        self.input_drop = nn.Dropout(p=0.2)\n",
    "\n",
    "        # activate\n",
    "        self.act = nn.SELU(inplace=True)\n",
    "\n",
    "        # temperature\n",
    "        self.temp = 1.\n",
    "        if \"temperature\" in kwargs:\n",
    "            self.temp = kwargs[\"temperature\"]\n",
    "\n",
    "    def forward(self, x):\n",
    "        '''\n",
    "        x   :(#bs, #node, #dim)\n",
    "        '''\n",
    "        # apply input dropout\n",
    "        x = self.input_drop(x)\n",
    "\n",
    "        # derive attention map\n",
    "        att_map = self._derive_att_map(x)\n",
    "\n",
    "        # projection\n",
    "        x = self._project(x, att_map)\n",
    "\n",
    "        # apply batch norm\n",
    "        x = self._apply_BN(x)\n",
    "        x = self.act(x)\n",
    "        return x\n",
    "\n",
    "    def _pairwise_mul_nodes(self, x):\n",
    "        '''\n",
    "        Calculates pairwise multiplication of nodes.\n",
    "        - for attention map\n",
    "        x           :(#bs, #node, #dim)\n",
    "        out_shape   :(#bs, #node, #node, #dim)\n",
    "        '''\n",
    "\n",
    "        nb_nodes = x.size(1)\n",
    "        x = x.unsqueeze(2).expand(-1, -1, nb_nodes, -1)\n",
    "        x_mirror = x.transpose(1, 2)\n",
    "\n",
    "        return x * x_mirror\n",
    "\n",
    "    def _derive_att_map(self, x):\n",
    "        '''\n",
    "        x           :(#bs, #node, #dim)\n",
    "        out_shape   :(#bs, #node, #node, 1)\n",
    "        '''\n",
    "        att_map = self._pairwise_mul_nodes(x)\n",
    "        # size: (#bs, #node, #node, #dim_out)\n",
    "        att_map = torch.tanh(self.att_proj(att_map))\n",
    "        # size: (#bs, #node, #node, 1)\n",
    "        att_map = torch.matmul(att_map, self.att_weight)\n",
    "\n",
    "        # apply temperature\n",
    "        att_map = att_map / self.temp\n",
    "\n",
    "        att_map = F.softmax(att_map, dim=-2)\n",
    "\n",
    "        return att_map\n",
    "\n",
    "    def _project(self, x, att_map):\n",
    "        x1 = self.proj_with_att(torch.matmul(att_map.squeeze(-1), x))\n",
    "        x2 = self.proj_without_att(x)\n",
    "\n",
    "        return x1 + x2\n",
    "\n",
    "    def _apply_BN(self, x):\n",
    "        org_size = x.size()\n",
    "        x = x.view(-1, org_size[-1])\n",
    "        x = self.bn(x)\n",
    "        x = x.view(org_size)\n",
    "\n",
    "        return x\n",
    "\n",
    "    def _init_new_params(self, *size):\n",
    "        out = nn.Parameter(torch.FloatTensor(*size))\n",
    "        nn.init.xavier_normal_(out)\n",
    "        return out\n",
    "\n",
    "\n",
    "class HtrgGraphAttentionLayer(nn.Module):\n",
    "    def __init__(self, in_dim, out_dim, **kwargs):\n",
    "        super().__init__()\n",
    "\n",
    "        self.proj_type1 = nn.Linear(in_dim, in_dim)\n",
    "        self.proj_type2 = nn.Linear(in_dim, in_dim)\n",
    "\n",
    "        # attention map\n",
    "        self.att_proj = nn.Linear(in_dim, out_dim)\n",
    "        self.att_projM = nn.Linear(in_dim, out_dim)\n",
    "\n",
    "        self.att_weight11 = self._init_new_params(out_dim, 1)\n",
    "        self.att_weight22 = self._init_new_params(out_dim, 1)\n",
    "        self.att_weight12 = self._init_new_params(out_dim, 1)\n",
    "        self.att_weightM = self._init_new_params(out_dim, 1)\n",
    "\n",
    "        # project\n",
    "        self.proj_with_att = nn.Linear(in_dim, out_dim)\n",
    "        self.proj_without_att = nn.Linear(in_dim, out_dim)\n",
    "\n",
    "        self.proj_with_attM = nn.Linear(in_dim, out_dim)\n",
    "        self.proj_without_attM = nn.Linear(in_dim, out_dim)\n",
    "\n",
    "        # batch norm\n",
    "        self.bn = nn.BatchNorm1d(out_dim)\n",
    "\n",
    "        # dropout for inputs\n",
    "        self.input_drop = nn.Dropout(p=0.2)\n",
    "\n",
    "        # activate\n",
    "        self.act = nn.SELU(inplace=True)\n",
    "\n",
    "        # temperature\n",
    "        self.temp = 1.\n",
    "        if \"temperature\" in kwargs:\n",
    "            self.temp = kwargs[\"temperature\"]\n",
    "\n",
    "    def forward(self, x1, x2, master=None):\n",
    "        '''\n",
    "        x1  :(#bs, #node, #dim)\n",
    "        x2  :(#bs, #node, #dim)\n",
    "        '''\n",
    "        num_type1 = x1.size(1)\n",
    "        num_type2 = x2.size(1)\n",
    "\n",
    "        x1 = self.proj_type1(x1)\n",
    "        x2 = self.proj_type2(x2)\n",
    "\n",
    "        x = torch.cat([x1, x2], dim=1)\n",
    "\n",
    "        if master is None:\n",
    "            master = torch.mean(x, dim=1, keepdim=True)\n",
    "\n",
    "        # apply input dropout\n",
    "        x = self.input_drop(x)\n",
    "\n",
    "        # derive attention map\n",
    "        att_map = self._derive_att_map(x, num_type1, num_type2)\n",
    "\n",
    "        # directional edge for master node\n",
    "        master = self._update_master(x, master)\n",
    "\n",
    "        # projection\n",
    "        x = self._project(x, att_map)\n",
    "\n",
    "        # apply batch norm\n",
    "        x = self._apply_BN(x)\n",
    "        x = self.act(x)\n",
    "\n",
    "        x1 = x.narrow(1, 0, num_type1)\n",
    "        x2 = x.narrow(1, num_type1, num_type2)\n",
    "\n",
    "        return x1, x2, master\n",
    "\n",
    "    def _update_master(self, x, master):\n",
    "\n",
    "        att_map = self._derive_att_map_master(x, master)\n",
    "        master = self._project_master(x, master, att_map)\n",
    "\n",
    "        return master\n",
    "\n",
    "    def _pairwise_mul_nodes(self, x):\n",
    "        '''\n",
    "        Calculates pairwise multiplication of nodes.\n",
    "        - for attention map\n",
    "        x           :(#bs, #node, #dim)\n",
    "        out_shape   :(#bs, #node, #node, #dim)\n",
    "        '''\n",
    "\n",
    "        nb_nodes = x.size(1)\n",
    "        x = x.unsqueeze(2).expand(-1, -1, nb_nodes, -1)\n",
    "        x_mirror = x.transpose(1, 2)\n",
    "\n",
    "        return x * x_mirror\n",
    "\n",
    "    def _derive_att_map_master(self, x, master):\n",
    "        '''\n",
    "        x           :(#bs, #node, #dim)\n",
    "        out_shape   :(#bs, #node, #node, 1)\n",
    "        '''\n",
    "        att_map = x * master\n",
    "        att_map = torch.tanh(self.att_projM(att_map))\n",
    "\n",
    "        att_map = torch.matmul(att_map, self.att_weightM)\n",
    "\n",
    "        # apply temperature\n",
    "        att_map = att_map / self.temp\n",
    "\n",
    "        att_map = F.softmax(att_map, dim=-2)\n",
    "\n",
    "        return att_map\n",
    "\n",
    "    def _derive_att_map(self, x, num_type1, num_type2):\n",
    "        '''\n",
    "        x           :(#bs, #node, #dim)\n",
    "        out_shape   :(#bs, #node, #node, 1)\n",
    "        '''\n",
    "        att_map = self._pairwise_mul_nodes(x)\n",
    "        # size: (#bs, #node, #node, #dim_out)\n",
    "        att_map = torch.tanh(self.att_proj(att_map))\n",
    "        # size: (#bs, #node, #node, 1)\n",
    "\n",
    "        att_board = torch.zeros_like(att_map[:, :, :, 0]).unsqueeze(-1)\n",
    "\n",
    "        att_board[:, :num_type1, :num_type1, :] = torch.matmul(\n",
    "            att_map[:, :num_type1, :num_type1, :], self.att_weight11)\n",
    "        att_board[:, num_type1:, num_type1:, :] = torch.matmul(\n",
    "            att_map[:, num_type1:, num_type1:, :], self.att_weight22)\n",
    "        att_board[:, :num_type1, num_type1:, :] = torch.matmul(\n",
    "            att_map[:, :num_type1, num_type1:, :], self.att_weight12)\n",
    "        att_board[:, num_type1:, :num_type1, :] = torch.matmul(\n",
    "            att_map[:, num_type1:, :num_type1, :], self.att_weight12)\n",
    "\n",
    "        att_map = att_board\n",
    "\n",
    "        # att_map = torch.matmul(att_map, self.att_weight12)\n",
    "\n",
    "        # apply temperature\n",
    "        att_map = att_map / self.temp\n",
    "\n",
    "        att_map = F.softmax(att_map, dim=-2)\n",
    "\n",
    "        return att_map\n",
    "\n",
    "    def _project(self, x, att_map):\n",
    "        x1 = self.proj_with_att(torch.matmul(att_map.squeeze(-1), x))\n",
    "        x2 = self.proj_without_att(x)\n",
    "\n",
    "        return x1 + x2\n",
    "\n",
    "    def _project_master(self, x, master, att_map):\n",
    "\n",
    "        x1 = self.proj_with_attM(torch.matmul(\n",
    "            att_map.squeeze(-1).unsqueeze(1), x))\n",
    "        x2 = self.proj_without_attM(master)\n",
    "\n",
    "        return x1 + x2\n",
    "\n",
    "    def _apply_BN(self, x):\n",
    "        org_size = x.size()\n",
    "        x = x.view(-1, org_size[-1])\n",
    "        x = self.bn(x)\n",
    "        x = x.view(org_size)\n",
    "\n",
    "        return x\n",
    "\n",
    "    def _init_new_params(self, *size):\n",
    "        out = nn.Parameter(torch.FloatTensor(*size))\n",
    "        nn.init.xavier_normal_(out)\n",
    "        return out\n",
    "\n",
    "\n",
    "class GraphPool(nn.Module):\n",
    "    def __init__(self, k: float, in_dim: int, p: Union[float, int]):\n",
    "        super().__init__()\n",
    "        self.k = k\n",
    "        self.sigmoid = nn.Sigmoid()\n",
    "        self.proj = nn.Linear(in_dim, 1)\n",
    "        self.drop = nn.Dropout(p=p) if p > 0 else nn.Identity()\n",
    "        self.in_dim = in_dim\n",
    "\n",
    "    def forward(self, h):\n",
    "        Z = self.drop(h)\n",
    "        weights = self.proj(Z)\n",
    "        scores = self.sigmoid(weights)\n",
    "        new_h = self.top_k_graph(scores, h, self.k)\n",
    "\n",
    "        return new_h\n",
    "\n",
    "    def top_k_graph(self, scores, h, k):\n",
    "        \"\"\"\n",
    "        args\n",
    "        =====\n",
    "        scores: attention-based weights (#bs, #node, 1)\n",
    "        h: graph data (#bs, #node, #dim)\n",
    "        k: ratio of remaining nodes, (float)\n",
    "\n",
    "        returns\n",
    "        =====\n",
    "        h: graph pool applied data (#bs, #node', #dim)\n",
    "        \"\"\"\n",
    "        _, n_nodes, n_feat = h.size()\n",
    "        n_nodes = max(int(n_nodes * k), 1)\n",
    "        _, idx = torch.topk(scores, n_nodes, dim=1)\n",
    "        idx = idx.expand(-1, -1, n_feat)\n",
    "\n",
    "        h = h * scores\n",
    "        h = torch.gather(h, 1, idx)\n",
    "\n",
    "        return h\n",
    "\n",
    "\n",
    "class CONV(nn.Module):\n",
    "    @staticmethod\n",
    "    def to_mel(hz):\n",
    "        return 2595 * np.log10(1 + hz / 700)\n",
    "\n",
    "    @staticmethod\n",
    "    def to_hz(mel):\n",
    "        return 700 * (10**(mel / 2595) - 1)\n",
    "\n",
    "    def __init__(self,\n",
    "                 out_channels,\n",
    "                 kernel_size,\n",
    "                 sample_rate=16000,\n",
    "                 in_channels=1,\n",
    "                 stride=1,\n",
    "                 padding=0,\n",
    "                 dilation=1,\n",
    "                 bias=False,\n",
    "                 groups=1,\n",
    "                 mask=False):\n",
    "        super().__init__()\n",
    "        if in_channels != 1:\n",
    "\n",
    "            msg = \"SincConv only support one input channel (here, in_channels = {%i})\" % (\n",
    "                in_channels)\n",
    "            raise ValueError(msg)\n",
    "        self.out_channels = out_channels\n",
    "        self.kernel_size = kernel_size\n",
    "        self.sample_rate = sample_rate\n",
    "\n",
    "        # Forcing the filters to be odd (i.e, perfectly symmetrics)\n",
    "        if kernel_size % 2 == 0:\n",
    "            self.kernel_size = self.kernel_size + 1\n",
    "        self.stride = stride\n",
    "        self.padding = padding\n",
    "        self.dilation = dilation\n",
    "        self.mask = mask\n",
    "        if bias:\n",
    "            raise ValueError('SincConv does not support bias.')\n",
    "        if groups > 1:\n",
    "            raise ValueError('SincConv does not support groups.')\n",
    "\n",
    "        NFFT = 512\n",
    "        f = int(self.sample_rate / 2) * np.linspace(0, 1, int(NFFT / 2) + 1)\n",
    "        fmel = self.to_mel(f)\n",
    "        fmelmax = np.max(fmel)\n",
    "        fmelmin = np.min(fmel)\n",
    "        filbandwidthsmel = np.linspace(fmelmin, fmelmax, self.out_channels + 1)\n",
    "        filbandwidthsf = self.to_hz(filbandwidthsmel)\n",
    "\n",
    "        self.mel = filbandwidthsf\n",
    "        self.hsupp = torch.arange(-(self.kernel_size - 1) / 2,\n",
    "                                  (self.kernel_size - 1) / 2 + 1)\n",
    "        self.band_pass = torch.zeros(self.out_channels, self.kernel_size)\n",
    "        for i in range(len(self.mel) - 1):\n",
    "            fmin = self.mel[i]\n",
    "            fmax = self.mel[i + 1]\n",
    "            hHigh = (2*fmax/self.sample_rate) * \\\n",
    "                np.sinc(2*fmax*self.hsupp/self.sample_rate)\n",
    "            hLow = (2*fmin/self.sample_rate) * \\\n",
    "                np.sinc(2*fmin*self.hsupp/self.sample_rate)\n",
    "            hideal = hHigh - hLow\n",
    "\n",
    "            self.band_pass[i, :] = Tensor(np.hamming(\n",
    "                self.kernel_size)) * Tensor(hideal)\n",
    "\n",
    "    def forward(self, x, mask=False):\n",
    "        band_pass_filter = self.band_pass.clone().to(x.device)\n",
    "        if mask:\n",
    "            A = np.random.uniform(0, 20)\n",
    "            A = int(A)\n",
    "            A0 = random.randint(0, band_pass_filter.shape[0] - A)\n",
    "            band_pass_filter[A0:A0 + A, :] = 0\n",
    "        else:\n",
    "            band_pass_filter = band_pass_filter\n",
    "\n",
    "        self.filters = (band_pass_filter).view(self.out_channels, 1,\n",
    "                                               self.kernel_size)\n",
    "\n",
    "        return F.conv1d(x,\n",
    "                        self.filters,\n",
    "                        stride=self.stride,\n",
    "                        padding=self.padding,\n",
    "                        dilation=self.dilation,\n",
    "                        bias=None,\n",
    "                        groups=1)\n",
    "\n",
    "\n",
    "class Residual_block(nn.Module):\n",
    "    def __init__(self, nb_filts, first=False):\n",
    "        super().__init__()\n",
    "        self.first = first\n",
    "\n",
    "        if not self.first:\n",
    "            self.bn1 = nn.BatchNorm2d(num_features=nb_filts[0])\n",
    "        self.conv1 = nn.Conv2d(in_channels=nb_filts[0],\n",
    "                               out_channels=nb_filts[1],\n",
    "                               kernel_size=(2, 3),\n",
    "                               padding=(1, 1),\n",
    "                               stride=1)\n",
    "        self.selu = nn.SELU(inplace=True)\n",
    "\n",
    "        self.bn2 = nn.BatchNorm2d(num_features=nb_filts[1])\n",
    "        self.conv2 = nn.Conv2d(in_channels=nb_filts[1],\n",
    "                               out_channels=nb_filts[1],\n",
    "                               kernel_size=(2, 3),\n",
    "                               padding=(0, 1),\n",
    "                               stride=1)\n",
    "\n",
    "        if nb_filts[0] != nb_filts[1]:\n",
    "            self.downsample = True\n",
    "            self.conv_downsample = nn.Conv2d(in_channels=nb_filts[0],\n",
    "                                             out_channels=nb_filts[1],\n",
    "                                             padding=(0, 1),\n",
    "                                             kernel_size=(1, 3),\n",
    "                                             stride=1)\n",
    "\n",
    "        else:\n",
    "            self.downsample = False\n",
    "        self.mp = nn.MaxPool2d((1, 3))  # self.mp = nn.MaxPool2d((1,4))\n",
    "\n",
    "    def forward(self, x):\n",
    "        identity = x\n",
    "        if not self.first:\n",
    "            out = self.bn1(x)\n",
    "            out = self.selu(out)\n",
    "        else:\n",
    "            out = x\n",
    "        out = self.conv1(x)\n",
    "\n",
    "        # print('out',out.shape)\n",
    "        out = self.bn2(out)\n",
    "        out = self.selu(out)\n",
    "        # print('out',out.shape)\n",
    "        out = self.conv2(out)\n",
    "        #print('conv2 out',out.shape)\n",
    "        if self.downsample:\n",
    "            identity = self.conv_downsample(identity)\n",
    "\n",
    "        out += identity\n",
    "        out = self.mp(out)\n",
    "        return out\n",
    "\n",
    "\n",
    "class Model(nn.Module):\n",
    "    def __init__(self, d_args):\n",
    "        super().__init__()\n",
    "\n",
    "        self.d_args = d_args\n",
    "        filts = d_args[\"filts\"]\n",
    "        gat_dims = d_args[\"gat_dims\"]\n",
    "        pool_ratios = d_args[\"pool_ratios\"]\n",
    "        temperatures = d_args[\"temperatures\"]\n",
    "\n",
    "        self.conv_time = CONV(out_channels=filts[0],\n",
    "                              kernel_size=d_args[\"first_conv\"],\n",
    "                              in_channels=1)\n",
    "        self.first_bn = nn.BatchNorm2d(num_features=1)\n",
    "\n",
    "        self.drop = nn.Dropout(0.5, inplace=True)\n",
    "        self.drop_way = nn.Dropout(0.2, inplace=True)\n",
    "        self.selu = nn.SELU(inplace=True)\n",
    "\n",
    "        self.encoder = nn.Sequential(\n",
    "            nn.Sequential(Residual_block(nb_filts=filts[1], first=True)),\n",
    "            nn.Sequential(Residual_block(nb_filts=filts[2])),\n",
    "            nn.Sequential(Residual_block(nb_filts=filts[3])),\n",
    "            nn.Sequential(Residual_block(nb_filts=filts[4])),\n",
    "            nn.Sequential(Residual_block(nb_filts=filts[4])),\n",
    "            nn.Sequential(Residual_block(nb_filts=filts[4])))\n",
    "\n",
    "        self.pos_S = nn.Parameter(torch.randn(1, 23, filts[-1][-1]))\n",
    "        self.master1 = nn.Parameter(torch.randn(1, 1, gat_dims[0]))\n",
    "        self.master2 = nn.Parameter(torch.randn(1, 1, gat_dims[0]))\n",
    "\n",
    "        self.GAT_layer_S = GraphAttentionLayer(filts[-1][-1],\n",
    "                                               gat_dims[0],\n",
    "                                               temperature=temperatures[0])\n",
    "        self.GAT_layer_T = GraphAttentionLayer(filts[-1][-1],\n",
    "                                               gat_dims[0],\n",
    "                                               temperature=temperatures[1])\n",
    "\n",
    "        self.HtrgGAT_layer_ST11 = HtrgGraphAttentionLayer(\n",
    "            gat_dims[0], gat_dims[1], temperature=temperatures[2])\n",
    "        self.HtrgGAT_layer_ST12 = HtrgGraphAttentionLayer(\n",
    "            gat_dims[1], gat_dims[1], temperature=temperatures[2])\n",
    "\n",
    "        self.HtrgGAT_layer_ST21 = HtrgGraphAttentionLayer(\n",
    "            gat_dims[0], gat_dims[1], temperature=temperatures[2])\n",
    "\n",
    "        self.HtrgGAT_layer_ST22 = HtrgGraphAttentionLayer(\n",
    "            gat_dims[1], gat_dims[1], temperature=temperatures[2])\n",
    "\n",
    "        self.pool_S = GraphPool(pool_ratios[0], gat_dims[0], 0.3)\n",
    "        self.pool_T = GraphPool(pool_ratios[1], gat_dims[0], 0.3)\n",
    "        self.pool_hS1 = GraphPool(pool_ratios[2], gat_dims[1], 0.3)\n",
    "        self.pool_hT1 = GraphPool(pool_ratios[2], gat_dims[1], 0.3)\n",
    "\n",
    "        self.pool_hS2 = GraphPool(pool_ratios[2], gat_dims[1], 0.3)\n",
    "        self.pool_hT2 = GraphPool(pool_ratios[2], gat_dims[1], 0.3)\n",
    "\n",
    "        self.out_layer = nn.Linear(5 * gat_dims[1], 2)\n",
    "\n",
    "    def forward(self, x, Freq_aug=False):\n",
    "\n",
    "        x = x.unsqueeze(1)\n",
    "        x = self.conv_time(x, mask=Freq_aug)\n",
    "        x = x.unsqueeze(dim=1)\n",
    "        x = F.max_pool2d(torch.abs(x), (3, 3))\n",
    "        x = self.first_bn(x)\n",
    "        x = self.selu(x)\n",
    "\n",
    "        # get embeddings using encoder\n",
    "        # (#bs, #filt, #spec, #seq)\n",
    "        e = self.encoder(x)\n",
    "\n",
    "        # spectral GAT (GAT-S)\n",
    "        e_S, _ = torch.max(torch.abs(e), dim=3)  # max along time\n",
    "        e_S = e_S.transpose(1, 2) + self.pos_S\n",
    "\n",
    "        gat_S = self.GAT_layer_S(e_S)\n",
    "        out_S = self.pool_S(gat_S)  # (#bs, #node, #dim)\n",
    "\n",
    "        # temporal GAT (GAT-T)\n",
    "        e_T, _ = torch.max(torch.abs(e), dim=2)  # max along freq\n",
    "        e_T = e_T.transpose(1, 2)\n",
    "\n",
    "        gat_T = self.GAT_layer_T(e_T)\n",
    "        out_T = self.pool_T(gat_T)\n",
    "\n",
    "        # learnable master node\n",
    "        master1 = self.master1.expand(x.size(0), -1, -1)\n",
    "        master2 = self.master2.expand(x.size(0), -1, -1)\n",
    "\n",
    "        # inference 1\n",
    "        out_T1, out_S1, master1 = self.HtrgGAT_layer_ST11(\n",
    "            out_T, out_S, master=self.master1)\n",
    "\n",
    "        out_S1 = self.pool_hS1(out_S1)\n",
    "        out_T1 = self.pool_hT1(out_T1)\n",
    "\n",
    "        out_T_aug, out_S_aug, master_aug = self.HtrgGAT_layer_ST12(\n",
    "            out_T1, out_S1, master=master1)\n",
    "        out_T1 = out_T1 + out_T_aug\n",
    "        out_S1 = out_S1 + out_S_aug\n",
    "        master1 = master1 + master_aug\n",
    "\n",
    "        # inference 2\n",
    "        out_T2, out_S2, master2 = self.HtrgGAT_layer_ST21(\n",
    "            out_T, out_S, master=self.master2)\n",
    "        out_S2 = self.pool_hS2(out_S2)\n",
    "        out_T2 = self.pool_hT2(out_T2)\n",
    "\n",
    "        out_T_aug, out_S_aug, master_aug = self.HtrgGAT_layer_ST22(\n",
    "            out_T2, out_S2, master=master2)\n",
    "        out_T2 = out_T2 + out_T_aug\n",
    "        out_S2 = out_S2 + out_S_aug\n",
    "        master2 = master2 + master_aug\n",
    "\n",
    "        out_T1 = self.drop_way(out_T1)\n",
    "        out_T2 = self.drop_way(out_T2)\n",
    "        out_S1 = self.drop_way(out_S1)\n",
    "        out_S2 = self.drop_way(out_S2)\n",
    "        master1 = self.drop_way(master1)\n",
    "        master2 = self.drop_way(master2)\n",
    "\n",
    "        out_T = torch.max(out_T1, out_T2)\n",
    "        out_S = torch.max(out_S1, out_S2)\n",
    "        master = torch.max(master1, master2)\n",
    "\n",
    "        T_max, _ = torch.max(torch.abs(out_T), dim=1)\n",
    "        T_avg = torch.mean(out_T, dim=1)\n",
    "\n",
    "        S_max, _ = torch.max(torch.abs(out_S), dim=1)\n",
    "        S_avg = torch.mean(out_S, dim=1)\n",
    "\n",
    "        last_hidden = torch.cat(\n",
    "            [T_max, T_avg, S_max, S_avg, master.squeeze(1)], dim=1)\n",
    "\n",
    "        last_hidden = self.drop(last_hidden)\n",
    "        output = self.out_layer(last_hidden)\n",
    "\n",
    "        return output,last_hidden"
   ]
  },
  {
   "cell_type": "markdown",
   "id": "d553dbe4-1cdc-42e9-89da-992938bbad01",
   "metadata": {},
   "source": [
    "# RawBoost"
   ]
  },
  {
   "cell_type": "code",
   "execution_count": 4,
   "id": "722762a2-2d04-4e7e-b584-3c86e25aeb6c",
   "metadata": {},
   "outputs": [],
   "source": [
    "'''\n",
    "   Hemlata Tak, Madhu Kamble, Jose Patino, Massimiliano Todisco, Nicholas Evans.\n",
    "   RawBoost: A Raw Data Boosting and Augmentation Method applied to Automatic Speaker Verification Anti-Spoofing.\n",
    "   In Proc. ICASSP 2022, pp:6382--6386.\n",
    "'''\n",
    "\n",
    "def randRange(x1, x2, integer):\n",
    "    y = np.random.uniform(low=x1, high=x2, size=(1,))\n",
    "    if integer:\n",
    "        y = int(y)\n",
    "    return y\n",
    "\n",
    "def normWav(x,always):\n",
    "    if always:\n",
    "        x = x/np.amax(abs(x))\n",
    "    elif np.amax(abs(x)) > 1:\n",
    "            x = x/np.amax(abs(x))\n",
    "    return x\n",
    "\n",
    "\n",
    "def genNotchCoeffs(nBands,minF,maxF,minBW,maxBW,minCoeff,maxCoeff,minG,maxG,fs):\n",
    "    b = 1\n",
    "    for i in range(0, nBands):\n",
    "        fc = randRange(minF,maxF,0);\n",
    "        bw = randRange(minBW,maxBW,0);\n",
    "        c = randRange(minCoeff,maxCoeff,1);\n",
    "          \n",
    "        if c/2 == int(c/2):\n",
    "            c = c + 1\n",
    "        f1 = fc - bw/2\n",
    "        f2 = fc + bw/2\n",
    "        if f1 <= 0:\n",
    "            f1 = 1/1000\n",
    "        if f2 >= fs/2:\n",
    "            f2 =  fs/2-1/1000\n",
    "        b = np.convolve(signal.firwin(c, [float(f1), float(f2)], window='hamming', fs=fs),b)\n",
    "\n",
    "    G = randRange(minG,maxG,0); \n",
    "    _, h = signal.freqz(b, 1, fs=fs)    \n",
    "    b = pow(10, G/20)*b/np.amax(abs(h))   \n",
    "    return b\n",
    "\n",
    "\n",
    "def filterFIR(x,b):\n",
    "    N = b.shape[0] + 1\n",
    "    xpad = np.pad(x, (0, N), 'constant')\n",
    "    y = signal.lfilter(b, 1, xpad)\n",
    "    y = y[int(N/2):int(y.shape[0]-N/2)]\n",
    "    return y\n",
    "\n",
    "# Linear and non-linear convolutive noise\n",
    "def LnL_convolutive_noise(x,N_f,nBands,minF,maxF,minBW,maxBW,minCoeff,maxCoeff,minG,maxG,minBiasLinNonLin,maxBiasLinNonLin,fs):\n",
    "    y = [0] * x.shape[0]\n",
    "    for i in range(0, N_f):\n",
    "        if i == 1:\n",
    "            minG = minG-minBiasLinNonLin;\n",
    "            maxG = maxG-maxBiasLinNonLin;\n",
    "        b = genNotchCoeffs(nBands,minF,maxF,minBW,maxBW,minCoeff,maxCoeff,minG,maxG,fs)\n",
    "        y = y + filterFIR(np.power(x, (i+1)),  b)     \n",
    "    y = y - np.mean(y)\n",
    "    y = normWav(y,0)\n",
    "    return y\n",
    "\n",
    "\n",
    "# Impulsive signal dependent noise\n",
    "def ISD_additive_noise(x, P, g_sd):\n",
    "    beta = randRange(0, P, 0)\n",
    "    \n",
    "    y = copy.deepcopy(x)\n",
    "    x_len = x.shape[0]\n",
    "    n = int(x_len*(beta/100))\n",
    "    p = np.random.permutation(x_len)[:n]\n",
    "    f_r= np.multiply(((2*np.random.rand(p.shape[0]))-1),((2*np.random.rand(p.shape[0]))-1))\n",
    "    r = g_sd * x[p] * f_r\n",
    "    y[p] = x[p] + r\n",
    "    y = normWav(y,0)\n",
    "    return y\n",
    "\n",
    "\n",
    "# Stationary signal independent noise\n",
    "\n",
    "def SSI_additive_noise(x,SNRmin,SNRmax,nBands,minF,maxF,minBW,maxBW,minCoeff,maxCoeff,minG,maxG,fs):\n",
    "    noise = np.random.normal(0, 1, x.shape[0])\n",
    "    b = genNotchCoeffs(nBands,minF,maxF,minBW,maxBW,minCoeff,maxCoeff,minG,maxG,fs)\n",
    "    noise = filterFIR(noise, b)\n",
    "    noise = normWav(noise,1)\n",
    "    SNR = randRange(SNRmin, SNRmax, 0)\n",
    "    noise = noise / np.linalg.norm(noise,2) * np.linalg.norm(x,2) / 10.0**(0.05 * SNR)\n",
    "    x = x + noise\n",
    "    return x"
   ]
  },
  {
   "cell_type": "markdown",
   "id": "508da7ad-b12f-4d68-bf45-aafb6f5f3a5f",
   "metadata": {},
   "source": [
    "# Data Utils"
   ]
  },
  {
   "cell_type": "code",
   "execution_count": 5,
   "id": "e271b211-6947-4b30-ae59-c92660e2e57b",
   "metadata": {},
   "outputs": [],
   "source": [
    "def pad(x, max_len=80000):\n",
    "    x_len = x.shape[0]\n",
    "    if x_len >= max_len:\n",
    "        return x[:max_len]\n",
    "    # need to pad\n",
    "    num_repeats = int(max_len / x_len)+1\n",
    "    padded_x = np.tile(x, (1, num_repeats))[:, :max_len][0]\n",
    "    return padded_x\t\n",
    "\n",
    "class Dataset_ASVspoof_train(Dataset):\n",
    "    def __init__(self,args,list_IDs, labels,algo):\n",
    "            '''self.list_IDs\t: list of strings (each string: utt key),\n",
    "               self.labels      : dictionary (key: utt key, value: label integer)'''\n",
    "            self.list_IDs = list_IDs\n",
    "            self.labels = labels\n",
    "            self.algo=algo\n",
    "            self.args=args\n",
    "            self.cut=80000 # take ~4 sec audio (64600 samples)\n",
    "    def get_labels(self):\n",
    "            return self.labels\n",
    "        \n",
    "    def __len__(self):\n",
    "            return len(self.list_IDs)\n",
    "\n",
    "    def __getitem__(self, index):\n",
    "            X,fs = librosa.load('./train16000/'+self.list_IDs[index]+'.wav', sr=16000)\n",
    "\n",
    "            Y1= pad(X,self.cut)\n",
    "            tmp = np.random.randint(0, len(self.list_IDs))\n",
    "            X,fs = librosa.load('./train16000/'+self.list_IDs[tmp]+'.wav', sr=16000)\n",
    "            Y2= pad(X,self.cut)\n",
    "            Y1 = process_Rawboost_feature(Y1 + Y2,fs,self.args,self.algo)     \n",
    "            return Tensor(Y1), Tensor([(self.labels[index] and self.labels[tmp])^1,self.labels[index] or self.labels[tmp]])\n",
    "\n",
    "\n",
    "\n",
    "class Dataset_ASVspoof_dev(Dataset):\n",
    "    def __init__(self, list_IDs,args,algo):\n",
    "            '''self.list_IDs\t: list of strings (each string: utt key),\n",
    "               '''\n",
    "            self.args = args\n",
    "            self.algo = algo\n",
    "            self.list_IDs = list_IDs\n",
    "            self.cut=80000 # take ~4 sec audio (64600 samples)\n",
    "    \n",
    "    def __len__(self):\n",
    "            return len(self.list_IDs)\n",
    "        \n",
    "    def __getitem__(self, index):\n",
    "            utt_id = self.list_IDs[index]\n",
    "            X, fs = librosa.load('./unlabeled_data16000/'+utt_id+'.wav', sr=16000)\n",
    "            Y=process_Rawboost_feature(X,fs,self.args,self.algo)\n",
    "            X_pad = pad(Y,self.cut)\n",
    "            x_inp = Tensor(X_pad)\n",
    "            return x_inp\n",
    "        \n",
    "\n",
    "class Dataset_ASVspoof_eval(Dataset):\n",
    "    def __init__(self, list_IDs):\n",
    "            '''self.list_IDs\t: list of strings (each string: utt key),\n",
    "               '''\n",
    "               \n",
    "            self.list_IDs = list_IDs\n",
    "            self.cut=80000 # take ~4 sec audio (64600 samples)\n",
    "    \n",
    "    def __len__(self):\n",
    "            return len(self.list_IDs)\n",
    "        \n",
    "    def __getitem__(self, index):\n",
    "            utt_id = self.list_IDs[index]\n",
    "            X, fs = librosa.load('./test16000/'+utt_id+'.wav', sr=16000)\n",
    "            X_pad = pad(X,self.cut)\n",
    "            x_inp = Tensor(X_pad)\n",
    "            return x_inp\n",
    "\n",
    "#--------------RawBoost data augmentation algorithms---------------------------##\n",
    "\n",
    "def process_Rawboost_feature(feature, sr,args,algo):\n",
    "    \n",
    "    # Data process by Convolutive noise (1st algo)\n",
    "    if algo==1:\n",
    "\n",
    "        feature =LnL_convolutive_noise(feature,args.N_f,args.nBands,args.minF,args.maxF,args.minBW,args.maxBW,args.minCoeff,args.maxCoeff,args.minG,args.maxG,args.minBiasLinNonLin,args.maxBiasLinNonLin,sr)\n",
    "                            \n",
    "    # Data process by Impulsive noise (2nd algo)\n",
    "    elif algo==2:\n",
    "        \n",
    "        feature=ISD_additive_noise(feature, args.P, args.g_sd)\n",
    "                            \n",
    "    # Data process by coloured additive noise (3rd algo)\n",
    "    elif algo==3:\n",
    "        \n",
    "        feature=SSI_additive_noise(feature,args.SNRmin,args.SNRmax,args.nBands,args.minF,args.maxF,args.minBW,args.maxBW,args.minCoeff,args.maxCoeff,args.minG,args.maxG,sr)\n",
    "    \n",
    "    # Data process by all 3 algo. together in series (1+2+3)\n",
    "    elif algo==4:\n",
    "        \n",
    "        feature =LnL_convolutive_noise(feature,args.N_f,args.nBands,args.minF,args.maxF,args.minBW,args.maxBW,\n",
    "                 args.minCoeff,args.maxCoeff,args.minG,args.maxG,args.minBiasLinNonLin,args.maxBiasLinNonLin,sr)                         \n",
    "        feature=ISD_additive_noise(feature, args.P, args.g_sd)  \n",
    "        feature=SSI_additive_noise(feature,args.SNRmin,args.SNRmax,args.nBands,args.minF,\n",
    "                args.maxF,args.minBW,args.maxBW,args.minCoeff,args.maxCoeff,args.minG,args.maxG,sr)                 \n",
    "\n",
    "    # Data process by 1st two algo. together in series (1+2)\n",
    "    elif algo==5:\n",
    "        \n",
    "        feature =LnL_convolutive_noise(feature,args.N_f,args.nBands,args.minF,args.maxF,args.minBW,args.maxBW,\n",
    "                 args.minCoeff,args.maxCoeff,args.minG,args.maxG,args.minBiasLinNonLin,args.maxBiasLinNonLin,sr)                         \n",
    "        feature=ISD_additive_noise(feature, args.P, args.g_sd)                \n",
    "                            \n",
    "\n",
    "    # Data process by 1st and 3rd algo. together in series (1+3)\n",
    "    elif algo==6:  \n",
    "        \n",
    "        feature =LnL_convolutive_noise(feature,args.N_f,args.nBands,args.minF,args.maxF,args.minBW,args.maxBW,\n",
    "                 args.minCoeff,args.maxCoeff,args.minG,args.maxG,args.minBiasLinNonLin,args.maxBiasLinNonLin,sr)                         \n",
    "        feature=SSI_additive_noise(feature,args.SNRmin,args.SNRmax,args.nBands,args.minF,args.maxF,args.minBW,args.maxBW,args.minCoeff,args.maxCoeff,args.minG,args.maxG,sr) \n",
    "\n",
    "    # Data process by 2nd and 3rd algo. together in series (2+3)\n",
    "    elif algo==7: \n",
    "        \n",
    "        feature=ISD_additive_noise(feature, args.P, args.g_sd)\n",
    "        feature=SSI_additive_noise(feature,args.SNRmin,args.SNRmax,args.nBands,args.minF,args.maxF,args.minBW,args.maxBW,args.minCoeff,args.maxCoeff,args.minG,args.maxG,sr) \n",
    "   \n",
    "    # Data process by 1st two algo. together in Parallel (1||2)\n",
    "    elif algo==8:\n",
    "        \n",
    "        feature1 =LnL_convolutive_noise(feature,args.N_f,args.nBands,args.minF,args.maxF,args.minBW,args.maxBW,\n",
    "                 args.minCoeff,args.maxCoeff,args.minG,args.maxG,args.minBiasLinNonLin,args.maxBiasLinNonLin,sr)                         \n",
    "        feature2=ISD_additive_noise(feature, args.P, args.g_sd)\n",
    "\n",
    "        feature_para=feature1+feature2\n",
    "        feature=normWav(feature_para,0)  #normalized resultant waveform\n",
    " \n",
    "    # original data without Rawboost processing           \n",
    "    else:\n",
    "        \n",
    "        feature=feature\n",
    "    \n",
    "    return feature"
   ]
  },
  {
   "cell_type": "code",
   "execution_count": 6,
   "id": "51f91053-6df5-427c-af97-f936a89cffcc",
   "metadata": {},
   "outputs": [],
   "source": [
    "import itertools\n",
    "import random\n",
    "import numpy as np\n",
    "\n",
    "import torch\n",
    "from torch.utils.data import Sampler\n",
    "from torch.utils.data import DataLoader, Dataset\n",
    "from typing import TypeVar, Iterable, Dict, List\n",
    "\n",
    "T_co = TypeVar('T_co', covariant=True)\n",
    "T = TypeVar('T')\n",
    "\n",
    "\n",
    "def send_to_device(tensor, device):\n",
    "    \"\"\"\n",
    "    Recursively sends the elements in a nested list/tuple/dictionary of tensors to a given device.\n",
    "\n",
    "    Args:\n",
    "        tensor (nested list/tuple/dictionary of :obj:`torch.Tensor`):\n",
    "            The data to send to a given device.\n",
    "        device (:obj:`torch.device`):\n",
    "            The device to send the data to\n",
    "\n",
    "    Returns:\n",
    "        The same data structure as :obj:`tensor` with all tensors sent to the proper device.\n",
    "    \"\"\"\n",
    "    if isinstance(tensor, (list, tuple)):\n",
    "        return type(tensor)(send_to_device(t, device) for t in tensor)\n",
    "    elif isinstance(tensor, dict):\n",
    "        return type(tensor)({k: send_to_device(v, device) for k, v in tensor.items()})\n",
    "    elif not hasattr(tensor, \"to\"):\n",
    "        return tensor\n",
    "    return tensor.to(device)\n",
    "\n",
    "\n",
    "class ForeverDataIterator:\n",
    "    r\"\"\"A data iterator that will never stop producing data\"\"\"\n",
    "\n",
    "    def __init__(self, data_loader: DataLoader, device=None):\n",
    "        self.data_loader = data_loader\n",
    "        self.iter = iter(self.data_loader)\n",
    "        self.device = device\n",
    "\n",
    "    def __next__(self):\n",
    "        try:\n",
    "            data = next(self.iter)\n",
    "            if self.device is not None:\n",
    "                data = send_to_device(data, self.device)\n",
    "        except StopIteration:\n",
    "            self.iter = iter(self.data_loader)\n",
    "            data = next(self.iter)\n",
    "            if self.device is not None:\n",
    "                data = send_to_device(data, self.device)\n",
    "        return data\n",
    "\n",
    "    def __len__(self):\n",
    "        return len(self.data_loader)\n",
    "\n",
    "\n",
    "def entropy(predictions: torch.Tensor, reduction='none') -> torch.Tensor:\n",
    "    r\"\"\"Entropy of prediction.\n",
    "    The definition is:\n",
    "\n",
    "    .. math::\n",
    "        entropy(p) = - \\sum_{c=1}^C p_c \\log p_c\n",
    "\n",
    "    where C is number of classes.\n",
    "\n",
    "    Args:\n",
    "        predictions (tensor): Classifier predictions. Expected to contain raw, normalized scores for each class\n",
    "        reduction (str, optional): Specifies the reduction to apply to the output:\n",
    "          ``'none'`` | ``'mean'``. ``'none'``: no reduction will be applied,\n",
    "          ``'mean'``: the sum of the output will be divided by the number of\n",
    "          elements in the output. Default: ``'mean'``\n",
    "\n",
    "    Shape:\n",
    "        - predictions: :math:`(minibatch, C)` where C means the number of classes.\n",
    "        - Output: :math:`(minibatch, )` by default. If :attr:`reduction` is ``'mean'``, then scalar.\n",
    "    \"\"\"\n",
    "    epsilon = 1e-5\n",
    "    H = -predictions * torch.log(predictions + epsilon)\n",
    "    H = H.sum(dim=1)\n",
    "    if reduction == 'mean':\n",
    "        return H.mean()\n",
    "    else:\n",
    "        return H\n",
    "\n",
    "\n",
    "\n",
    "class MinimumClassConfusionLoss(nn.Module):\n",
    "    r\"\"\"\n",
    "    Minimum Class Confusion loss minimizes the class confusion in the target predictions.\n",
    "\n",
    "    You can see more details in `Minimum Class Confusion for Versatile Domain Adaptation (ECCV 2020) <https://arxiv.org/abs/1912.03699>`_\n",
    "\n",
    "    Args:\n",
    "        temperature (float) : The temperature for rescaling, the prediction will shrink to vanilla softmax if\n",
    "          temperature is 1.0.\n",
    "\n",
    "    .. note::\n",
    "        Make sure that temperature is larger than 0.\n",
    "\n",
    "    Inputs: g_t\n",
    "        - g_t (tensor): unnormalized classifier predictions on target domain, :math:`g^t`\n",
    "\n",
    "    Shape:\n",
    "        - g_t: :math:`(minibatch, C)` where C means the number of classes.\n",
    "        - Output: scalar.\n",
    "\n",
    "    Examples::\n",
    "        >>> temperature = 2.0\n",
    "        >>> loss = MinimumClassConfusionLoss(temperature)\n",
    "        >>> # logits output from target domain\n",
    "        >>> g_t = torch.randn(batch_size, num_classes)\n",
    "        >>> output = loss(g_t)\n",
    "\n",
    "    MCC can also serve as a regularizer for existing methods.\n",
    "    Examples::\n",
    "        >>> from dalib.modules.domain_discriminator import DomainDiscriminator\n",
    "        >>> num_classes = 2\n",
    "        >>> feature_dim = 1024\n",
    "        >>> batch_size = 10\n",
    "        >>> temperature = 2.0\n",
    "        >>> discriminator = DomainDiscriminator(in_feature=feature_dim, hidden_size=1024)\n",
    "        >>> cdan_loss = ConditionalDomainAdversarialLoss(discriminator, reduction='mean')\n",
    "        >>> mcc_loss = MinimumClassConfusionLoss(temperature)\n",
    "        >>> # features from source domain and target domain\n",
    "        >>> f_s, f_t = torch.randn(batch_size, feature_dim), torch.randn(batch_size, feature_dim)\n",
    "        >>> # logits output from source domain adn target domain\n",
    "        >>> g_s, g_t = torch.randn(batch_size, num_classes), torch.randn(batch_size, num_classes)\n",
    "        >>> total_loss = cdan_loss(g_s, f_s, g_t, f_t) + mcc_loss(g_t)\n",
    "    \"\"\"\n",
    "\n",
    "    def __init__(self, temperature: float):\n",
    "        super(MinimumClassConfusionLoss, self).__init__()\n",
    "        self.temperature = temperature\n",
    "\n",
    "    def forward(self, logits: torch.Tensor) -> torch.Tensor:\n",
    "        batch_size, num_classes = logits.shape\n",
    "        predictions = F.softmax(logits / self.temperature, dim=1)  # batch_size x num_classes\n",
    "        entropy_weight = entropy(predictions).detach()\n",
    "        entropy_weight = 1 + torch.exp(-entropy_weight)\n",
    "        entropy_weight = (batch_size * entropy_weight / torch.sum(entropy_weight)).unsqueeze(dim=1)  # batch_size x 1\n",
    "        class_confusion_matrix = torch.mm((predictions * entropy_weight).transpose(1, 0), predictions) # num_classes x num_classes\n",
    "        class_confusion_matrix = class_confusion_matrix / torch.sum(class_confusion_matrix, dim=1)\n",
    "        mcc_loss = (torch.sum(class_confusion_matrix) - torch.trace(class_confusion_matrix)) / num_classes\n",
    "        return mcc_loss"
   ]
  },
  {
   "cell_type": "markdown",
   "id": "67f44dc4-acf4-43e9-946c-4e293983ec0d",
   "metadata": {},
   "source": [
    "# Seed"
   ]
  },
  {
   "cell_type": "code",
   "execution_count": 7,
   "id": "48443325-7a07-4502-a351-763911467b4b",
   "metadata": {},
   "outputs": [],
   "source": [
    "def set_random_seed(random_seed, args=None):\n",
    "    \"\"\" set_random_seed(random_seed, args=None)\n",
    "    \n",
    "    Set the random_seed for numpy, python, and cudnn\n",
    "    \n",
    "    input\n",
    "    -----\n",
    "      random_seed: integer random seed\n",
    "      args: argue parser\n",
    "    \"\"\"\n",
    "    \n",
    "    # initialization                                       \n",
    "    torch.manual_seed(random_seed)\n",
    "    random.seed(random_seed)\n",
    "    np.random.seed(random_seed)\n",
    "    os.environ['PYTHONHASHSEED'] = str(random_seed)\n",
    "\n",
    "    #For torch.backends.cudnn.deterministic\n",
    "    #Note: this default configuration may result in RuntimeError\n",
    "    #see https://pytorch.org/docs/stable/notes/randomness.html    \n",
    "    if args is None:\n",
    "        cudnn_deterministic = True\n",
    "        cudnn_benchmark = False\n",
    "    else:\n",
    "        cudnn_deterministic = args.cudnn_deterministic_toggle\n",
    "        cudnn_benchmark = args.cudnn_benchmark_toggle\n",
    "    \n",
    "        if not cudnn_deterministic:\n",
    "            print(\"cudnn_deterministic set to False\")\n",
    "        if cudnn_benchmark:\n",
    "            print(\"cudnn_benchmark set to True\")\n",
    "    \n",
    "    if torch.cuda.is_available():\n",
    "        torch.cuda.manual_seed_all(random_seed)\n",
    "        torch.backends.cudnn.deterministic = cudnn_deterministic\n",
    "        torch.backends.cudnn.benchmark = cudnn_benchmark\n",
    "    return"
   ]
  },
  {
   "cell_type": "markdown",
   "id": "99e5c4d0-927a-41a5-899d-1d35767d7a12",
   "metadata": {},
   "source": [
    "# Metrics"
   ]
  },
  {
   "cell_type": "code",
   "execution_count": 8,
   "id": "d127ff40-f591-4850-a107-2995665f6a56",
   "metadata": {},
   "outputs": [],
   "source": [
    "def expected_calibration_error(y_true, y_prob, n_bins=10):\n",
    "    prob_true, prob_pred = calibration_curve(y_true, y_prob, n_bins=n_bins, strategy='uniform')\n",
    "    bin_totals = np.histogram(y_prob, bins=np.linspace(0, 1, n_bins + 1), density=False)[0]\n",
    "    non_empty_bins = bin_totals > 0\n",
    "    bin_weights = bin_totals / len(y_prob)\n",
    "    bin_weights = bin_weights[non_empty_bins]\n",
    "    prob_true = prob_true[:len(bin_weights)]\n",
    "    prob_pred = prob_pred[:len(bin_weights)]\n",
    "    ece = np.sum(bin_weights * np.abs(prob_true - prob_pred))\n",
    "    return ece\n",
    "    \n",
    "def auc_brier_ece(answer_df, submission_df):\n",
    "    # Check for missing values in submission_df\n",
    "    if submission_df.isnull().values.any():\n",
    "        raise ValueError(\"The submission dataframe contains missing values.\")\n",
    "\n",
    "\n",
    "    # Check if the number and names of columns are the same in both dataframes\n",
    "    if len(answer_df.columns) != len(submission_df.columns) or not all(answer_df.columns == submission_df.columns):\n",
    "        raise ValueError(\"The columns of the answer and submission dataframes do not match.\")\n",
    "        \n",
    "    submission_df = submission_df[submission_df.iloc[:, 0].isin(answer_df.iloc[:, 0])]\n",
    "    submission_df.index = range(submission_df.shape[0])\n",
    "    \n",
    "    # Calculate AUC for each class\n",
    "    auc_scores = []\n",
    "    for column in answer_df.columns[1:]:\n",
    "        y_true = answer_df[column]\n",
    "        y_scores = submission_df[column]\n",
    "        auc = roc_auc_score(y_true, y_scores)\n",
    "        auc_scores.append(auc)\n",
    "\n",
    "\n",
    "    # Calculate mean AUC\n",
    "    mean_auc = np.mean(auc_scores)\n",
    "\n",
    "\n",
    "    brier_scores = []\n",
    "    ece_scores = []\n",
    "    \n",
    "    # Calculate Brier Score and ECE for each class\n",
    "    for column in answer_df.columns[1:]:\n",
    "        y_true = answer_df[column].values\n",
    "        y_prob = submission_df[column].values\n",
    "        \n",
    "        # Brier Score\n",
    "        brier = mean_squared_error(y_true, y_prob)\n",
    "        brier_scores.append(brier)\n",
    "        \n",
    "        # ECE\n",
    "        ece = expected_calibration_error(y_true, y_prob)\n",
    "        ece_scores.append(ece)\n",
    "    \n",
    "    # Calculate mean Brier Score and mean ECE\n",
    "    mean_brier = np.mean(brier_scores)\n",
    "    mean_ece = np.mean(ece_scores)\n",
    "    \n",
    "    # Calculate combined score\n",
    "    combined_score = 0.5 * (1 - mean_auc) + 0.25 * mean_brier + 0.25 * mean_ece\n",
    "    \n",
    "    return combined_score"
   ]
  },
  {
   "cell_type": "markdown",
   "id": "89010705-cca9-4480-9a00-a524664440f0",
   "metadata": {},
   "source": [
    "# Main"
   ]
  },
  {
   "cell_type": "code",
   "execution_count": 9,
   "id": "9a632e17-5bb0-4a5b-a45a-0e98407b6a79",
   "metadata": {},
   "outputs": [],
   "source": [
    "def produce_evaluation_file(\n",
    "    data_loader: DataLoader,\n",
    "    model,\n",
    "    device: torch.device,\n",
    "    id):\n",
    "    \"\"\"Perform evaluation and save the score to a file\"\"\"\n",
    "    model.eval()\n",
    "\n",
    "    predictions = []\n",
    "    trues = []\n",
    "    with torch.no_grad():\n",
    "        for batch_x, batch_y in tqdm(data_loader, leave=False):\n",
    "            batch_x = batch_x.to(device)\n",
    "            batch_out = torch.sigmoid(model(batch_x)[0]).cpu().detach().numpy()\n",
    "            # add outputs\n",
    "            predictions += batch_out.tolist()\n",
    "            trues += batch_y.numpy().tolist()\n",
    "    predictions = np.array(predictions)\n",
    "    trues = np.array(trues)\n",
    "    sub = pd.DataFrame({'id':id,\n",
    "                  'fake':predictions[:,0],\n",
    "                  'real':predictions[:,1]})\n",
    "\n",
    "    ans = pd.DataFrame({'id':id,\n",
    "                  'fake':trues[:,0],\n",
    "                  'real':trues[:,1]})\n",
    "\n",
    "    combine_score = auc_brier_ece(ans, sub)\n",
    "    return combine_score\n",
    "\n",
    "def inference(data_loader, model, device, save_path):\n",
    "    model.to(device)\n",
    "    model.eval()\n",
    "    predictions = []\n",
    "    with torch.no_grad():\n",
    "        for features in tqdm(iter(data_loader)):\n",
    "            features = features.to(device)\n",
    "            \n",
    "            probs = torch.sigmoid(model(features)[0])\n",
    "            \n",
    "            probs  = probs.cpu().detach().numpy()\n",
    "            predictions += probs.tolist()\n",
    "    submit = pd.read_csv('./sample_submission.csv')\n",
    "    submit.iloc[:, 1:] = predictions\n",
    "    submit.to_csv(save_path, index=False)\n",
    "    \n",
    "def label_smoothing(labels, smoothing=0.1):\n",
    "\n",
    "    assert 0 <= smoothing < 1\n",
    "    with torch.no_grad():\n",
    "        smoothed_labels = labels * (1 - smoothing) + smoothing / 2\n",
    "        \n",
    "    return smoothed_labels\n",
    "\n",
    "def train(train_source_iter: ForeverDataIterator, train_target_iter: ForeverDataIterator, model,\n",
    "          domain_adv: ConditionalDomainAdversarialLoss,optimizer, ad_optimizer,\n",
    "          lr_scheduler: LambdaLR, lr_scheduler_ad,\n",
    "          epoch: int, args: argparse.Namespace):\n",
    "    # switch to train mode\n",
    "    model.train()\n",
    "    domain_adv.train()\n",
    "    criterion = nn.BCEWithLogitsLoss()\n",
    "    total_cls_loss = 0\n",
    "    total_transfer_loss = 0\n",
    "    total_loss = 0\n",
    "    for i in tqdm(range(args.iters_per_epoch)):\n",
    "        x_s, labels_s = next(train_source_iter)\n",
    "        x_t= next(train_target_iter)\n",
    "\n",
    "        x_s = x_s.to(device)\n",
    "        x_t = x_t.to(device)\n",
    "        labels_s = label_smoothing(labels_s).to(device)\n",
    "\n",
    "        # measure data loading time\n",
    "        optimizer.zero_grad()\n",
    "        ad_optimizer.zero_grad()\n",
    "\n",
    "        # compute task loss for first step\n",
    "        x = torch.cat((x_s, x_t), dim=0)\n",
    "        y, f = model(x)\n",
    "        y_s, y_t = y.chunk(2, dim=0)\n",
    "        f_s, f_t = f.chunk(2, dim=0)\n",
    "        cls_loss = criterion(y_s, labels_s)\n",
    "        loss = cls_loss \n",
    "        loss.backward()\n",
    "\n",
    "        # Calculate ϵ̂ (w) and add it to the weights\n",
    "        optimizer.first_step(zero_grad=True)\n",
    "\n",
    "        # Calculate task loss and domain loss\n",
    "        y, f = model(x)\n",
    "        y_s, y_t = y.chunk(2, dim=0)\n",
    "        f_s, f_t = f.chunk(2, dim=0)\n",
    "\n",
    "        cls_loss = criterion(y_s, labels_s)\n",
    "        transfer_loss = domain_adv(y_s, f_s, y_t, f_t)\n",
    "        loss = cls_loss + transfer_loss * 1.\n",
    "        \n",
    "        total_cls_loss += cls_loss\n",
    "        total_transfer_loss += transfer_loss\n",
    "        total_loss += loss\n",
    "        \n",
    "        loss.backward()\n",
    "        # Update parameters of domain classifier\n",
    "        ad_optimizer.step()\n",
    "        # Update parameters (Sharpness-Aware update)\n",
    "        optimizer.second_step(zero_grad=True)\n",
    "    lr_scheduler.step(total_cls_loss)\n",
    "    lr_scheduler_ad.step(total_transfer_loss)\n",
    "\n",
    "    return total_cls_loss, total_transfer_loss, total_loss"
   ]
  },
  {
   "cell_type": "code",
   "execution_count": 10,
   "id": "55443bd9-edb5-4a18-a523-36fa0884cc05",
   "metadata": {},
   "outputs": [],
   "source": [
    "\"\"\"\n",
    "@author: Junguang Jiang\n",
    "@contact: JiangJunguang1123@outlook.com\n",
    "\"\"\"\n",
    "from typing import List, Dict\n",
    "import torch.nn as nn\n",
    "\n",
    "__all__ = ['DomainDiscriminator']\n",
    "\n",
    "\n",
    "class DomainDiscriminator(nn.Sequential):\n",
    "    r\"\"\"Domain discriminator model from\n",
    "    `Domain-Adversarial Training of Neural Networks (ICML 2015) <https://arxiv.org/abs/1505.07818>`_\n",
    "\n",
    "    Distinguish whether the input features come from the source domain or the target domain.\n",
    "    The source domain label is 1 and the target domain label is 0.\n",
    "\n",
    "    Args:\n",
    "        in_feature (int): dimension of the input feature\n",
    "        hidden_size (int): dimension of the hidden features\n",
    "        batch_norm (bool): whether use :class:`~torch.nn.BatchNorm1d`.\n",
    "            Use :class:`~torch.nn.Dropout` if ``batch_norm`` is False. Default: True.\n",
    "\n",
    "    Shape:\n",
    "        - Inputs: (minibatch, `in_feature`)\n",
    "        - Outputs: :math:`(minibatch, 1)`\n",
    "    \"\"\"\n",
    "\n",
    "    def __init__(self, in_feature: int, hidden_size: int, batch_norm=True):\n",
    "        if batch_norm:\n",
    "            super(DomainDiscriminator, self).__init__(\n",
    "                nn.Linear(in_feature, hidden_size),\n",
    "                nn.BatchNorm1d(hidden_size),\n",
    "                nn.ReLU(),\n",
    "                nn.Linear(hidden_size, hidden_size),\n",
    "                nn.BatchNorm1d(hidden_size),\n",
    "                nn.ReLU(),\n",
    "                nn.Linear(hidden_size, 1),\n",
    "                nn.Sigmoid()\n",
    "            )\n",
    "        else:\n",
    "            super(DomainDiscriminator, self).__init__(\n",
    "                nn.Linear(in_feature, hidden_size),\n",
    "                nn.ReLU(inplace=True),\n",
    "                nn.Dropout(0.5),\n",
    "                nn.Linear(hidden_size, hidden_size),\n",
    "                nn.ReLU(inplace=True),\n",
    "                nn.Dropout(0.5),\n",
    "                nn.Linear(hidden_size, 1),\n",
    "                nn.Sigmoid()\n",
    "            )\n",
    "\n",
    "    def get_parameters(self) -> List[Dict]:\n",
    "        return [{\"params\": self.parameters(), \"lr\": 1.}]"
   ]
  },
  {
   "cell_type": "code",
   "execution_count": 11,
   "id": "4da08fd0",
   "metadata": {
    "scrolled": true
   },
   "outputs": [
    {
     "name": "stdout",
     "output_type": "stream",
     "text": [
      "Device: cuda\n",
      "nb_params: 297866\n"
     ]
    },
    {
     "name": "stderr",
     "output_type": "stream",
     "text": [
      "\u001b[34m\u001b[1mwandb\u001b[0m: Currently logged in as: \u001b[33mbeok\u001b[0m (\u001b[33mbeokay\u001b[0m). Use \u001b[1m`wandb login --relogin`\u001b[0m to force relogin\n"
     ]
    },
    {
     "data": {
      "text/html": [
       "wandb version 0.17.4 is available!  To upgrade, please run:\n",
       " $ pip install wandb --upgrade"
      ],
      "text/plain": [
       "<IPython.core.display.HTML object>"
      ]
     },
     "metadata": {},
     "output_type": "display_data"
    },
    {
     "data": {
      "text/html": [
       "Tracking run with wandb version 0.17.3"
      ],
      "text/plain": [
       "<IPython.core.display.HTML object>"
      ]
     },
     "metadata": {},
     "output_type": "display_data"
    },
    {
     "data": {
      "text/html": [
       "Run data is saved locally in <code>/home/ubuntu/Desktop/ai/wandb/run-20240718_001344-g56466dn</code>"
      ],
      "text/plain": [
       "<IPython.core.display.HTML object>"
      ]
     },
     "metadata": {},
     "output_type": "display_data"
    },
    {
     "data": {
      "text/html": [
       "Syncing run <strong><a href='https://wandb.ai/beokay/FOLD_ADAM_BEST/runs/g56466dn' target=\"_blank\">fold4</a></strong> to <a href='https://wandb.ai/beokay/FOLD_ADAM_BEST' target=\"_blank\">Weights & Biases</a> (<a href='https://wandb.me/run' target=\"_blank\">docs</a>)<br/>"
      ],
      "text/plain": [
       "<IPython.core.display.HTML object>"
      ]
     },
     "metadata": {},
     "output_type": "display_data"
    },
    {
     "data": {
      "text/html": [
       " View project at <a href='https://wandb.ai/beokay/FOLD_ADAM_BEST' target=\"_blank\">https://wandb.ai/beokay/FOLD_ADAM_BEST</a>"
      ],
      "text/plain": [
       "<IPython.core.display.HTML object>"
      ]
     },
     "metadata": {},
     "output_type": "display_data"
    },
    {
     "data": {
      "text/html": [
       " View run at <a href='https://wandb.ai/beokay/FOLD_ADAM_BEST/runs/g56466dn' target=\"_blank\">https://wandb.ai/beokay/FOLD_ADAM_BEST/runs/g56466dn</a>"
      ],
      "text/plain": [
       "<IPython.core.display.HTML object>"
      ]
     },
     "metadata": {},
     "output_type": "display_data"
    },
    {
     "data": {
      "application/vnd.jupyter.widget-view+json": {
       "model_id": "20f2c89a9a8f4ebcb63d475ed9fedff6",
       "version_major": 2,
       "version_minor": 0
      },
      "text/plain": [
       "  0%|          | 0/1000 [00:00<?, ?it/s]"
      ]
     },
     "metadata": {},
     "output_type": "display_data"
    },
    {
     "data": {
      "application/vnd.jupyter.widget-view+json": {
       "model_id": "",
       "version_major": 2,
       "version_minor": 0
      },
      "text/plain": [
       "  0%|          | 0/1386 [00:00<?, ?it/s]"
      ]
     },
     "metadata": {},
     "output_type": "display_data"
    },
    {
     "name": "stdout",
     "output_type": "stream",
     "text": [
      "tensor([[0.5100, 0.8447],\n",
      "        [0.7235, 0.6033],\n",
      "        [0.7844, 0.4834],\n",
      "        [0.7439, 0.5539],\n",
      "        [0.7468, 0.5337],\n",
      "        [0.6200, 0.7584],\n",
      "        [0.7465, 0.5513],\n",
      "        [0.7205, 0.5714]], device='cuda:0', grad_fn=<SigmoidBackward0>)\n",
      "Epoch:0, combine_score:0.179667, cls_loss:651.653015, transfer_loss:492.315155, total_loss:1143.968262\n",
      "\n"
     ]
    },
    {
     "data": {
      "application/vnd.jupyter.widget-view+json": {
       "model_id": "99518f46826f44b0bb34ca52129bbc83",
       "version_major": 2,
       "version_minor": 0
      },
      "text/plain": [
       "  0%|          | 0/1000 [00:00<?, ?it/s]"
      ]
     },
     "metadata": {},
     "output_type": "display_data"
    },
    {
     "data": {
      "application/vnd.jupyter.widget-view+json": {
       "model_id": "",
       "version_major": 2,
       "version_minor": 0
      },
      "text/plain": [
       "  0%|          | 0/1386 [00:00<?, ?it/s]"
      ]
     },
     "metadata": {},
     "output_type": "display_data"
    },
    {
     "name": "stdout",
     "output_type": "stream",
     "text": [
      "tensor([[0.5026, 0.8355],\n",
      "        [0.7055, 0.6389],\n",
      "        [0.8259, 0.4736],\n",
      "        [0.7201, 0.6197],\n",
      "        [0.6854, 0.6563],\n",
      "        [0.7076, 0.6490],\n",
      "        [0.7522, 0.5583],\n",
      "        [0.6957, 0.6462]], device='cuda:0', grad_fn=<SigmoidBackward0>)\n",
      "Epoch:1, combine_score:0.142377, cls_loss:588.018250, transfer_loss:639.411499, total_loss:1227.427979\n",
      "\n"
     ]
    },
    {
     "data": {
      "application/vnd.jupyter.widget-view+json": {
       "model_id": "2c0fbb74a54d407182a8b0175734bfac",
       "version_major": 2,
       "version_minor": 0
      },
      "text/plain": [
       "  0%|          | 0/1000 [00:00<?, ?it/s]"
      ]
     },
     "metadata": {},
     "output_type": "display_data"
    },
    {
     "data": {
      "application/vnd.jupyter.widget-view+json": {
       "model_id": "",
       "version_major": 2,
       "version_minor": 0
      },
      "text/plain": [
       "  0%|          | 0/1386 [00:00<?, ?it/s]"
      ]
     },
     "metadata": {},
     "output_type": "display_data"
    },
    {
     "name": "stdout",
     "output_type": "stream",
     "text": [
      "tensor([[0.4148, 0.9118],\n",
      "        [0.7764, 0.5879],\n",
      "        [0.9073, 0.3656],\n",
      "        [0.7625, 0.6255],\n",
      "        [0.7995, 0.5604],\n",
      "        [0.8081, 0.5690],\n",
      "        [0.8286, 0.4922],\n",
      "        [0.7052, 0.6909]], device='cuda:0', grad_fn=<SigmoidBackward0>)\n",
      "Epoch:2, combine_score:0.112660, cls_loss:554.857422, transfer_loss:659.266541, total_loss:1214.124268\n",
      "\n"
     ]
    },
    {
     "data": {
      "application/vnd.jupyter.widget-view+json": {
       "model_id": "3169d081d87e4a30af20c7e98834252e",
       "version_major": 2,
       "version_minor": 0
      },
      "text/plain": [
       "  0%|          | 0/1000 [00:00<?, ?it/s]"
      ]
     },
     "metadata": {},
     "output_type": "display_data"
    },
    {
     "data": {
      "application/vnd.jupyter.widget-view+json": {
       "model_id": "",
       "version_major": 2,
       "version_minor": 0
      },
      "text/plain": [
       "  0%|          | 0/1386 [00:00<?, ?it/s]"
      ]
     },
     "metadata": {},
     "output_type": "display_data"
    },
    {
     "name": "stdout",
     "output_type": "stream",
     "text": [
      "tensor([[0.3804, 0.9178],\n",
      "        [0.8951, 0.4164],\n",
      "        [0.9668, 0.2038],\n",
      "        [0.8183, 0.6068],\n",
      "        [0.8324, 0.5638],\n",
      "        [0.9096, 0.3937],\n",
      "        [0.9324, 0.3201],\n",
      "        [0.6430, 0.7879]], device='cuda:0', grad_fn=<SigmoidBackward0>)\n",
      "Epoch:3, combine_score:0.099621, cls_loss:523.918518, transfer_loss:671.492859, total_loss:1195.411011\n",
      "\n"
     ]
    },
    {
     "data": {
      "application/vnd.jupyter.widget-view+json": {
       "model_id": "fc354e30e3184c6a8ef55407f4c8cfa9",
       "version_major": 2,
       "version_minor": 0
      },
      "text/plain": [
       "  0%|          | 0/1000 [00:00<?, ?it/s]"
      ]
     },
     "metadata": {},
     "output_type": "display_data"
    },
    {
     "data": {
      "application/vnd.jupyter.widget-view+json": {
       "model_id": "",
       "version_major": 2,
       "version_minor": 0
      },
      "text/plain": [
       "  0%|          | 0/1386 [00:00<?, ?it/s]"
      ]
     },
     "metadata": {},
     "output_type": "display_data"
    },
    {
     "name": "stdout",
     "output_type": "stream",
     "text": [
      "tensor([[0.3152, 0.9402],\n",
      "        [0.8211, 0.6006],\n",
      "        [0.9624, 0.2498],\n",
      "        [0.6970, 0.8024],\n",
      "        [0.7722, 0.7479],\n",
      "        [0.8154, 0.6566],\n",
      "        [0.9261, 0.3892],\n",
      "        [0.4780, 0.9121]], device='cuda:0', grad_fn=<SigmoidBackward0>)\n",
      "Epoch:4, combine_score:0.092000, cls_loss:497.992706, transfer_loss:678.591675, total_loss:1176.583618\n",
      "\n"
     ]
    },
    {
     "data": {
      "application/vnd.jupyter.widget-view+json": {
       "model_id": "95a46b0187664e6dae8c5a4667ae2be9",
       "version_major": 2,
       "version_minor": 0
      },
      "text/plain": [
       "  0%|          | 0/1000 [00:00<?, ?it/s]"
      ]
     },
     "metadata": {},
     "output_type": "display_data"
    },
    {
     "data": {
      "application/vnd.jupyter.widget-view+json": {
       "model_id": "",
       "version_major": 2,
       "version_minor": 0
      },
      "text/plain": [
       "  0%|          | 0/1386 [00:00<?, ?it/s]"
      ]
     },
     "metadata": {},
     "output_type": "display_data"
    },
    {
     "name": "stdout",
     "output_type": "stream",
     "text": [
      "tensor([[0.3343, 0.9187],\n",
      "        [0.8464, 0.5647],\n",
      "        [0.9678, 0.1681],\n",
      "        [0.7417, 0.7868],\n",
      "        [0.8221, 0.6736],\n",
      "        [0.8518, 0.5687],\n",
      "        [0.9309, 0.3226],\n",
      "        [0.4674, 0.9210]], device='cuda:0', grad_fn=<SigmoidBackward0>)\n",
      "Epoch:5, combine_score:0.081779, cls_loss:480.630005, transfer_loss:680.020020, total_loss:1160.649780\n",
      "\n"
     ]
    },
    {
     "data": {
      "application/vnd.jupyter.widget-view+json": {
       "model_id": "c81389c4d9fb4b9fb6be7fafa1445aec",
       "version_major": 2,
       "version_minor": 0
      },
      "text/plain": [
       "  0%|          | 0/1000 [00:00<?, ?it/s]"
      ]
     },
     "metadata": {},
     "output_type": "display_data"
    },
    {
     "data": {
      "application/vnd.jupyter.widget-view+json": {
       "model_id": "",
       "version_major": 2,
       "version_minor": 0
      },
      "text/plain": [
       "  0%|          | 0/1386 [00:00<?, ?it/s]"
      ]
     },
     "metadata": {},
     "output_type": "display_data"
    },
    {
     "name": "stdout",
     "output_type": "stream",
     "text": [
      "tensor([[0.5191, 0.8697],\n",
      "        [0.8923, 0.4833],\n",
      "        [0.9571, 0.2322],\n",
      "        [0.6718, 0.8722],\n",
      "        [0.7695, 0.7630],\n",
      "        [0.8770, 0.5341],\n",
      "        [0.9348, 0.3394],\n",
      "        [0.2531, 0.9592]], device='cuda:0', grad_fn=<SigmoidBackward0>)\n",
      "Epoch:6, combine_score:0.074300, cls_loss:464.392395, transfer_loss:681.714172, total_loss:1146.105591\n",
      "\n"
     ]
    },
    {
     "data": {
      "application/vnd.jupyter.widget-view+json": {
       "model_id": "cefcd14abbd949aa93c2792b6dbb14b4",
       "version_major": 2,
       "version_minor": 0
      },
      "text/plain": [
       "  0%|          | 0/1000 [00:00<?, ?it/s]"
      ]
     },
     "metadata": {},
     "output_type": "display_data"
    },
    {
     "data": {
      "application/vnd.jupyter.widget-view+json": {
       "model_id": "",
       "version_major": 2,
       "version_minor": 0
      },
      "text/plain": [
       "  0%|          | 0/1386 [00:00<?, ?it/s]"
      ]
     },
     "metadata": {},
     "output_type": "display_data"
    },
    {
     "name": "stdout",
     "output_type": "stream",
     "text": [
      "tensor([[0.4396, 0.9191],\n",
      "        [0.9034, 0.5542],\n",
      "        [0.9682, 0.1780],\n",
      "        [0.8003, 0.8401],\n",
      "        [0.8344, 0.7681],\n",
      "        [0.8861, 0.6266],\n",
      "        [0.9372, 0.3632],\n",
      "        [0.4339, 0.9411]], device='cuda:0', grad_fn=<SigmoidBackward0>)\n",
      "Epoch:7, combine_score:0.067493, cls_loss:446.216858, transfer_loss:680.371033, total_loss:1126.588135\n",
      "\n"
     ]
    },
    {
     "data": {
      "application/vnd.jupyter.widget-view+json": {
       "model_id": "9ab49ea0747444be9a47b690632d292f",
       "version_major": 2,
       "version_minor": 0
      },
      "text/plain": [
       "  0%|          | 0/1000 [00:00<?, ?it/s]"
      ]
     },
     "metadata": {},
     "output_type": "display_data"
    },
    {
     "data": {
      "application/vnd.jupyter.widget-view+json": {
       "model_id": "",
       "version_major": 2,
       "version_minor": 0
      },
      "text/plain": [
       "  0%|          | 0/1386 [00:00<?, ?it/s]"
      ]
     },
     "metadata": {},
     "output_type": "display_data"
    },
    {
     "name": "stdout",
     "output_type": "stream",
     "text": [
      "tensor([[0.2485, 0.9415],\n",
      "        [0.8675, 0.6687],\n",
      "        [0.9615, 0.1738],\n",
      "        [0.6987, 0.8971],\n",
      "        [0.7428, 0.8594],\n",
      "        [0.8679, 0.6717],\n",
      "        [0.9303, 0.3714],\n",
      "        [0.2514, 0.9633]], device='cuda:0', grad_fn=<SigmoidBackward0>)\n",
      "Epoch:8, combine_score:0.061684, cls_loss:438.111206, transfer_loss:676.919067, total_loss:1115.029541\n",
      "\n"
     ]
    },
    {
     "data": {
      "application/vnd.jupyter.widget-view+json": {
       "model_id": "a3fce431ebeb4082914198c7d8e6c824",
       "version_major": 2,
       "version_minor": 0
      },
      "text/plain": [
       "  0%|          | 0/1000 [00:00<?, ?it/s]"
      ]
     },
     "metadata": {},
     "output_type": "display_data"
    },
    {
     "data": {
      "application/vnd.jupyter.widget-view+json": {
       "model_id": "",
       "version_major": 2,
       "version_minor": 0
      },
      "text/plain": [
       "  0%|          | 0/1386 [00:00<?, ?it/s]"
      ]
     },
     "metadata": {},
     "output_type": "display_data"
    },
    {
     "name": "stdout",
     "output_type": "stream",
     "text": [
      "tensor([[0.6728, 0.8968],\n",
      "        [0.9281, 0.4880],\n",
      "        [0.9616, 0.1396],\n",
      "        [0.8581, 0.7998],\n",
      "        [0.8934, 0.6550],\n",
      "        [0.9098, 0.6266],\n",
      "        [0.9433, 0.2937],\n",
      "        [0.3982, 0.9518]], device='cuda:0', grad_fn=<SigmoidBackward0>)\n",
      "Epoch:9, combine_score:0.073436, cls_loss:433.211609, transfer_loss:679.081665, total_loss:1112.293335\n",
      "\n"
     ]
    },
    {
     "data": {
      "application/vnd.jupyter.widget-view+json": {
       "model_id": "f155be2888014682aca294664c18e1aa",
       "version_major": 2,
       "version_minor": 0
      },
      "text/plain": [
       "  0%|          | 0/1000 [00:00<?, ?it/s]"
      ]
     },
     "metadata": {},
     "output_type": "display_data"
    },
    {
     "data": {
      "application/vnd.jupyter.widget-view+json": {
       "model_id": "",
       "version_major": 2,
       "version_minor": 0
      },
      "text/plain": [
       "  0%|          | 0/1386 [00:00<?, ?it/s]"
      ]
     },
     "metadata": {},
     "output_type": "display_data"
    },
    {
     "name": "stdout",
     "output_type": "stream",
     "text": [
      "tensor([[0.6701, 0.8874],\n",
      "        [0.9154, 0.5201],\n",
      "        [0.9615, 0.1105],\n",
      "        [0.8421, 0.8410],\n",
      "        [0.8647, 0.7741],\n",
      "        [0.9089, 0.6037],\n",
      "        [0.9378, 0.2810],\n",
      "        [0.1845, 0.9445]], device='cuda:0', grad_fn=<SigmoidBackward0>)\n",
      "Epoch:10, combine_score:0.058505, cls_loss:416.779327, transfer_loss:684.412415, total_loss:1101.191895\n",
      "\n"
     ]
    },
    {
     "data": {
      "application/vnd.jupyter.widget-view+json": {
       "model_id": "82fadddde8154b0f8a3838a7279ad622",
       "version_major": 2,
       "version_minor": 0
      },
      "text/plain": [
       "  0%|          | 0/1000 [00:00<?, ?it/s]"
      ]
     },
     "metadata": {},
     "output_type": "display_data"
    },
    {
     "data": {
      "application/vnd.jupyter.widget-view+json": {
       "model_id": "",
       "version_major": 2,
       "version_minor": 0
      },
      "text/plain": [
       "  0%|          | 0/1386 [00:00<?, ?it/s]"
      ]
     },
     "metadata": {},
     "output_type": "display_data"
    },
    {
     "name": "stdout",
     "output_type": "stream",
     "text": [
      "tensor([[0.4012, 0.9136],\n",
      "        [0.9149, 0.4781],\n",
      "        [0.9502, 0.1041],\n",
      "        [0.8363, 0.8616],\n",
      "        [0.8209, 0.8233],\n",
      "        [0.9165, 0.4875],\n",
      "        [0.9289, 0.2691],\n",
      "        [0.1357, 0.9449]], device='cuda:0', grad_fn=<SigmoidBackward0>)\n",
      "Epoch:11, combine_score:0.053712, cls_loss:409.975128, transfer_loss:684.142395, total_loss:1094.117920\n",
      "\n"
     ]
    },
    {
     "data": {
      "application/vnd.jupyter.widget-view+json": {
       "model_id": "194db61ace454bac8759cea342c3f9c1",
       "version_major": 2,
       "version_minor": 0
      },
      "text/plain": [
       "  0%|          | 0/1000 [00:00<?, ?it/s]"
      ]
     },
     "metadata": {},
     "output_type": "display_data"
    },
    {
     "data": {
      "application/vnd.jupyter.widget-view+json": {
       "model_id": "",
       "version_major": 2,
       "version_minor": 0
      },
      "text/plain": [
       "  0%|          | 0/1386 [00:00<?, ?it/s]"
      ]
     },
     "metadata": {},
     "output_type": "display_data"
    },
    {
     "name": "stdout",
     "output_type": "stream",
     "text": [
      "tensor([[0.2408, 0.9248],\n",
      "        [0.9190, 0.5840],\n",
      "        [0.9618, 0.0879],\n",
      "        [0.8753, 0.8311],\n",
      "        [0.8628, 0.8320],\n",
      "        [0.9189, 0.6643],\n",
      "        [0.9431, 0.2294],\n",
      "        [0.2117, 0.9414]], device='cuda:0', grad_fn=<SigmoidBackward0>)\n",
      "Epoch:12, combine_score:0.051313, cls_loss:409.184387, transfer_loss:682.161438, total_loss:1091.346558\n",
      "\n"
     ]
    },
    {
     "data": {
      "application/vnd.jupyter.widget-view+json": {
       "model_id": "fc359949e2df44c183a8086746a938bb",
       "version_major": 2,
       "version_minor": 0
      },
      "text/plain": [
       "  0%|          | 0/1000 [00:00<?, ?it/s]"
      ]
     },
     "metadata": {},
     "output_type": "display_data"
    },
    {
     "data": {
      "application/vnd.jupyter.widget-view+json": {
       "model_id": "",
       "version_major": 2,
       "version_minor": 0
      },
      "text/plain": [
       "  0%|          | 0/1386 [00:00<?, ?it/s]"
      ]
     },
     "metadata": {},
     "output_type": "display_data"
    },
    {
     "name": "stdout",
     "output_type": "stream",
     "text": [
      "tensor([[0.4482, 0.9216],\n",
      "        [0.9313, 0.5865],\n",
      "        [0.9554, 0.0956],\n",
      "        [0.9060, 0.7864],\n",
      "        [0.9125, 0.7269],\n",
      "        [0.9203, 0.7583],\n",
      "        [0.9430, 0.2357],\n",
      "        [0.2469, 0.9400]], device='cuda:0', grad_fn=<SigmoidBackward0>)\n",
      "Epoch:13, combine_score:0.058147, cls_loss:403.283051, transfer_loss:687.065430, total_loss:1090.348511\n",
      "\n"
     ]
    },
    {
     "data": {
      "application/vnd.jupyter.widget-view+json": {
       "model_id": "11eeb4b9a57541bc9ad8abfeb623f4d3",
       "version_major": 2,
       "version_minor": 0
      },
      "text/plain": [
       "  0%|          | 0/1000 [00:00<?, ?it/s]"
      ]
     },
     "metadata": {},
     "output_type": "display_data"
    },
    {
     "data": {
      "application/vnd.jupyter.widget-view+json": {
       "model_id": "89d74a889b8544f884ac1b0bb30dd83c",
       "version_major": 2,
       "version_minor": 0
      },
      "text/plain": [
       "  0%|          | 0/1386 [00:00<?, ?it/s]"
      ]
     },
     "metadata": {},
     "output_type": "display_data"
    },
    {
     "name": "stdout",
     "output_type": "stream",
     "text": [
      "tensor([[0.6211, 0.9193],\n",
      "        [0.9210, 0.5357],\n",
      "        [0.9477, 0.0818],\n",
      "        [0.8982, 0.8270],\n",
      "        [0.8924, 0.7854],\n",
      "        [0.9245, 0.6186],\n",
      "        [0.9331, 0.2102],\n",
      "        [0.2340, 0.9338]], device='cuda:0', grad_fn=<SigmoidBackward0>)\n",
      "Epoch:14, combine_score:0.047160, cls_loss:394.664154, transfer_loss:687.477905, total_loss:1082.143066\n",
      "\n"
     ]
    },
    {
     "data": {
      "application/vnd.jupyter.widget-view+json": {
       "model_id": "f52f91e696a848abb2033a9ee8771530",
       "version_major": 2,
       "version_minor": 0
      },
      "text/plain": [
       "  0%|          | 0/1000 [00:00<?, ?it/s]"
      ]
     },
     "metadata": {},
     "output_type": "display_data"
    },
    {
     "data": {
      "application/vnd.jupyter.widget-view+json": {
       "model_id": "8875318b9b474a81bf4d3f17229d86f8",
       "version_major": 2,
       "version_minor": 0
      },
      "text/plain": [
       "  0%|          | 0/1386 [00:00<?, ?it/s]"
      ]
     },
     "metadata": {},
     "output_type": "display_data"
    },
    {
     "name": "stdout",
     "output_type": "stream",
     "text": [
      "tensor([[0.4488, 0.9135],\n",
      "        [0.9237, 0.4387],\n",
      "        [0.9598, 0.0294],\n",
      "        [0.8983, 0.7977],\n",
      "        [0.8970, 0.7428],\n",
      "        [0.9269, 0.5172],\n",
      "        [0.9414, 0.1126],\n",
      "        [0.2096, 0.9241]], device='cuda:0', grad_fn=<SigmoidBackward0>)\n",
      "Epoch:15, combine_score:0.048408, cls_loss:388.490265, transfer_loss:686.273682, total_loss:1074.763550\n",
      "\n"
     ]
    },
    {
     "data": {
      "application/vnd.jupyter.widget-view+json": {
       "model_id": "8276073f69d64f28b625b6ffc4a31765",
       "version_major": 2,
       "version_minor": 0
      },
      "text/plain": [
       "  0%|          | 0/1000 [00:00<?, ?it/s]"
      ]
     },
     "metadata": {},
     "output_type": "display_data"
    },
    {
     "data": {
      "application/vnd.jupyter.widget-view+json": {
       "model_id": "434ffe79575e4b3a9a6b7a352c4f6593",
       "version_major": 2,
       "version_minor": 0
      },
      "text/plain": [
       "  0%|          | 0/1386 [00:00<?, ?it/s]"
      ]
     },
     "metadata": {},
     "output_type": "display_data"
    },
    {
     "name": "stdout",
     "output_type": "stream",
     "text": [
      "tensor([[0.6119, 0.9195],\n",
      "        [0.9251, 0.4467],\n",
      "        [0.9472, 0.0564],\n",
      "        [0.9126, 0.8108],\n",
      "        [0.9031, 0.8082],\n",
      "        [0.9317, 0.5987],\n",
      "        [0.9374, 0.1228],\n",
      "        [0.1635, 0.9152]], device='cuda:0', grad_fn=<SigmoidBackward0>)\n",
      "Epoch:16, combine_score:0.055369, cls_loss:382.169891, transfer_loss:687.923950, total_loss:1070.094116\n",
      "\n"
     ]
    },
    {
     "data": {
      "application/vnd.jupyter.widget-view+json": {
       "model_id": "f98103b9184141d2b68f075893d55b20",
       "version_major": 2,
       "version_minor": 0
      },
      "text/plain": [
       "  0%|          | 0/1000 [00:00<?, ?it/s]"
      ]
     },
     "metadata": {},
     "output_type": "display_data"
    },
    {
     "data": {
      "application/vnd.jupyter.widget-view+json": {
       "model_id": "701994f8dd5f4fddb98687f5dab98d73",
       "version_major": 2,
       "version_minor": 0
      },
      "text/plain": [
       "  0%|          | 0/1386 [00:00<?, ?it/s]"
      ]
     },
     "metadata": {},
     "output_type": "display_data"
    },
    {
     "name": "stdout",
     "output_type": "stream",
     "text": [
      "tensor([[0.3854, 0.9318],\n",
      "        [0.9241, 0.6611],\n",
      "        [0.9526, 0.0460],\n",
      "        [0.8860, 0.8682],\n",
      "        [0.8441, 0.8631],\n",
      "        [0.9264, 0.6940],\n",
      "        [0.9313, 0.1803],\n",
      "        [0.0787, 0.9170]], device='cuda:0', grad_fn=<SigmoidBackward0>)\n",
      "Epoch:17, combine_score:0.044062, cls_loss:377.534149, transfer_loss:690.197144, total_loss:1067.731079\n",
      "\n"
     ]
    },
    {
     "data": {
      "application/vnd.jupyter.widget-view+json": {
       "model_id": "f8bfb69da6c24d34acc4a3967e427ba5",
       "version_major": 2,
       "version_minor": 0
      },
      "text/plain": [
       "  0%|          | 0/1000 [00:00<?, ?it/s]"
      ]
     },
     "metadata": {},
     "output_type": "display_data"
    },
    {
     "data": {
      "application/vnd.jupyter.widget-view+json": {
       "model_id": "a02a81186a6b4ed5bd920444eda327ee",
       "version_major": 2,
       "version_minor": 0
      },
      "text/plain": [
       "  0%|          | 0/1386 [00:00<?, ?it/s]"
      ]
     },
     "metadata": {},
     "output_type": "display_data"
    },
    {
     "name": "stdout",
     "output_type": "stream",
     "text": [
      "tensor([[0.2873, 0.9136],\n",
      "        [0.9232, 0.7671],\n",
      "        [0.9306, 0.1540],\n",
      "        [0.8005, 0.9145],\n",
      "        [0.7633, 0.8636],\n",
      "        [0.9101, 0.8383],\n",
      "        [0.9249, 0.2448],\n",
      "        [0.0909, 0.9036]], device='cuda:0', grad_fn=<SigmoidBackward0>)\n",
      "Epoch:18, combine_score:0.050371, cls_loss:381.739868, transfer_loss:685.017456, total_loss:1066.757812\n",
      "\n"
     ]
    },
    {
     "data": {
      "application/vnd.jupyter.widget-view+json": {
       "model_id": "1befce8054fd418eaae8da0b76ffe45e",
       "version_major": 2,
       "version_minor": 0
      },
      "text/plain": [
       "  0%|          | 0/1000 [00:00<?, ?it/s]"
      ]
     },
     "metadata": {},
     "output_type": "display_data"
    },
    {
     "data": {
      "application/vnd.jupyter.widget-view+json": {
       "model_id": "e8811a58c85d4d638f95665cbc6e67e5",
       "version_major": 2,
       "version_minor": 0
      },
      "text/plain": [
       "  0%|          | 0/1386 [00:00<?, ?it/s]"
      ]
     },
     "metadata": {},
     "output_type": "display_data"
    },
    {
     "name": "stdout",
     "output_type": "stream",
     "text": [
      "tensor([[0.7674, 0.9179],\n",
      "        [0.9194, 0.6040],\n",
      "        [0.9413, 0.0564],\n",
      "        [0.8731, 0.8340],\n",
      "        [0.8858, 0.7389],\n",
      "        [0.9229, 0.6393],\n",
      "        [0.9238, 0.1672],\n",
      "        [0.2997, 0.9011]], device='cuda:0', grad_fn=<SigmoidBackward0>)\n",
      "Epoch:19, combine_score:0.046180, cls_loss:373.033813, transfer_loss:686.703674, total_loss:1059.737915\n",
      "\n"
     ]
    },
    {
     "data": {
      "application/vnd.jupyter.widget-view+json": {
       "model_id": "f7b2f562e876485997ab580596e9755e",
       "version_major": 2,
       "version_minor": 0
      },
      "text/plain": [
       "  0%|          | 0/1000 [00:00<?, ?it/s]"
      ]
     },
     "metadata": {},
     "output_type": "display_data"
    },
    {
     "data": {
      "application/vnd.jupyter.widget-view+json": {
       "model_id": "a3d7eb35819e4734a343227a168dc896",
       "version_major": 2,
       "version_minor": 0
      },
      "text/plain": [
       "  0%|          | 0/1386 [00:00<?, ?it/s]"
      ]
     },
     "metadata": {},
     "output_type": "display_data"
    },
    {
     "name": "stdout",
     "output_type": "stream",
     "text": [
      "tensor([[0.5489, 0.9374],\n",
      "        [0.9229, 0.6896],\n",
      "        [0.9407, 0.0706],\n",
      "        [0.8598, 0.8951],\n",
      "        [0.8239, 0.8874],\n",
      "        [0.9248, 0.8052],\n",
      "        [0.9278, 0.1971],\n",
      "        [0.2016, 0.9156]], device='cuda:0', grad_fn=<SigmoidBackward0>)\n",
      "Epoch:20, combine_score:0.038371, cls_loss:370.036987, transfer_loss:690.684814, total_loss:1060.722168\n",
      "\n"
     ]
    },
    {
     "data": {
      "application/vnd.jupyter.widget-view+json": {
       "model_id": "2d0782da6aca4635a334f62e5243deaf",
       "version_major": 2,
       "version_minor": 0
      },
      "text/plain": [
       "  0%|          | 0/1000 [00:00<?, ?it/s]"
      ]
     },
     "metadata": {},
     "output_type": "display_data"
    },
    {
     "data": {
      "application/vnd.jupyter.widget-view+json": {
       "model_id": "a430102c7b594f26b43ddfdd2b06a459",
       "version_major": 2,
       "version_minor": 0
      },
      "text/plain": [
       "  0%|          | 0/1386 [00:00<?, ?it/s]"
      ]
     },
     "metadata": {},
     "output_type": "display_data"
    },
    {
     "name": "stdout",
     "output_type": "stream",
     "text": [
      "tensor([[0.5200, 0.9257],\n",
      "        [0.9282, 0.7529],\n",
      "        [0.9389, 0.0826],\n",
      "        [0.7997, 0.9055],\n",
      "        [0.8353, 0.8665],\n",
      "        [0.9195, 0.8432],\n",
      "        [0.9281, 0.1859],\n",
      "        [0.0564, 0.8941]], device='cuda:0', grad_fn=<SigmoidBackward0>)\n",
      "Epoch:21, combine_score:0.039429, cls_loss:366.460419, transfer_loss:691.863220, total_loss:1058.324463\n",
      "\n"
     ]
    },
    {
     "data": {
      "application/vnd.jupyter.widget-view+json": {
       "model_id": "478f242a3ece425b93a2e5d1a8e730c1",
       "version_major": 2,
       "version_minor": 0
      },
      "text/plain": [
       "  0%|          | 0/1000 [00:00<?, ?it/s]"
      ]
     },
     "metadata": {},
     "output_type": "display_data"
    },
    {
     "data": {
      "application/vnd.jupyter.widget-view+json": {
       "model_id": "c7de76c65d3543f1b1019e795160aae4",
       "version_major": 2,
       "version_minor": 0
      },
      "text/plain": [
       "  0%|          | 0/1386 [00:00<?, ?it/s]"
      ]
     },
     "metadata": {},
     "output_type": "display_data"
    },
    {
     "name": "stdout",
     "output_type": "stream",
     "text": [
      "tensor([[0.8457, 0.9252],\n",
      "        [0.9189, 0.4835],\n",
      "        [0.9357, 0.0816],\n",
      "        [0.9185, 0.6151],\n",
      "        [0.9164, 0.8009],\n",
      "        [0.9344, 0.6921],\n",
      "        [0.9256, 0.1409],\n",
      "        [0.2996, 0.8939]], device='cuda:0', grad_fn=<SigmoidBackward0>)\n",
      "Epoch:22, combine_score:0.056626, cls_loss:361.904724, transfer_loss:689.706116, total_loss:1051.611450\n",
      "\n"
     ]
    },
    {
     "data": {
      "application/vnd.jupyter.widget-view+json": {
       "model_id": "7df28d9a23754b85b80a558969d023aa",
       "version_major": 2,
       "version_minor": 0
      },
      "text/plain": [
       "  0%|          | 0/1000 [00:00<?, ?it/s]"
      ]
     },
     "metadata": {},
     "output_type": "display_data"
    },
    {
     "data": {
      "application/vnd.jupyter.widget-view+json": {
       "model_id": "98ea449f19fe4b008d52ec0e86a4d6f5",
       "version_major": 2,
       "version_minor": 0
      },
      "text/plain": [
       "  0%|          | 0/1386 [00:00<?, ?it/s]"
      ]
     },
     "metadata": {},
     "output_type": "display_data"
    },
    {
     "name": "stdout",
     "output_type": "stream",
     "text": [
      "tensor([[0.3951, 0.9221],\n",
      "        [0.9312, 0.7025],\n",
      "        [0.9406, 0.0603],\n",
      "        [0.9115, 0.7368],\n",
      "        [0.8499, 0.8403],\n",
      "        [0.9416, 0.7631],\n",
      "        [0.9222, 0.1709],\n",
      "        [0.0959, 0.8925]], device='cuda:0', grad_fn=<SigmoidBackward0>)\n",
      "Epoch:23, combine_score:0.039992, cls_loss:367.900146, transfer_loss:688.922363, total_loss:1056.821777\n",
      "\n"
     ]
    },
    {
     "data": {
      "application/vnd.jupyter.widget-view+json": {
       "model_id": "b94774632f5b48e7903bc94560b525bb",
       "version_major": 2,
       "version_minor": 0
      },
      "text/plain": [
       "  0%|          | 0/1000 [00:00<?, ?it/s]"
      ]
     },
     "metadata": {},
     "output_type": "display_data"
    },
    {
     "data": {
      "application/vnd.jupyter.widget-view+json": {
       "model_id": "d7cc4e8a7778427c9b7985ffde3a982f",
       "version_major": 2,
       "version_minor": 0
      },
      "text/plain": [
       "  0%|          | 0/1386 [00:00<?, ?it/s]"
      ]
     },
     "metadata": {},
     "output_type": "display_data"
    },
    {
     "name": "stdout",
     "output_type": "stream",
     "text": [
      "tensor([[0.7008, 0.9246],\n",
      "        [0.9150, 0.4983],\n",
      "        [0.9414, 0.0428],\n",
      "        [0.8799, 0.8515],\n",
      "        [0.8516, 0.8440],\n",
      "        [0.9277, 0.6140],\n",
      "        [0.9229, 0.1274],\n",
      "        [0.0572, 0.9065]], device='cuda:0', grad_fn=<SigmoidBackward0>)\n",
      "Epoch:24, combine_score:0.042003, cls_loss:364.549500, transfer_loss:691.033020, total_loss:1055.583496\n",
      "\n"
     ]
    },
    {
     "data": {
      "application/vnd.jupyter.widget-view+json": {
       "model_id": "3fdae3aac5b94e78afdcce15a401df40",
       "version_major": 2,
       "version_minor": 0
      },
      "text/plain": [
       "  0%|          | 0/1000 [00:00<?, ?it/s]"
      ]
     },
     "metadata": {},
     "output_type": "display_data"
    },
    {
     "data": {
      "application/vnd.jupyter.widget-view+json": {
       "model_id": "9c53104f75b44afb97245f515a65f721",
       "version_major": 2,
       "version_minor": 0
      },
      "text/plain": [
       "  0%|          | 0/1386 [00:00<?, ?it/s]"
      ]
     },
     "metadata": {},
     "output_type": "display_data"
    },
    {
     "name": "stdout",
     "output_type": "stream",
     "text": [
      "tensor([[0.8753, 0.9185],\n",
      "        [0.9154, 0.4240],\n",
      "        [0.9449, 0.0243],\n",
      "        [0.8953, 0.8012],\n",
      "        [0.9034, 0.6623],\n",
      "        [0.9212, 0.4676],\n",
      "        [0.9238, 0.1036],\n",
      "        [0.2520, 0.9046]], device='cuda:0', grad_fn=<SigmoidBackward0>)\n",
      "Epoch:25, combine_score:0.038680, cls_loss:362.791382, transfer_loss:691.122498, total_loss:1053.914429\n",
      "\n"
     ]
    },
    {
     "data": {
      "application/vnd.jupyter.widget-view+json": {
       "model_id": "cddcaa27f3cf49dca81ee5b0dcba0076",
       "version_major": 2,
       "version_minor": 0
      },
      "text/plain": [
       "  0%|          | 0/1000 [00:00<?, ?it/s]"
      ]
     },
     "metadata": {},
     "output_type": "display_data"
    },
    {
     "data": {
      "application/vnd.jupyter.widget-view+json": {
       "model_id": "c9154b48e2dd478a9dcf6ca8355e2f0e",
       "version_major": 2,
       "version_minor": 0
      },
      "text/plain": [
       "  0%|          | 0/1386 [00:00<?, ?it/s]"
      ]
     },
     "metadata": {},
     "output_type": "display_data"
    },
    {
     "name": "stdout",
     "output_type": "stream",
     "text": [
      "tensor([[0.4655, 0.9215],\n",
      "        [0.9262, 0.5910],\n",
      "        [0.9510, 0.0348],\n",
      "        [0.8917, 0.7647],\n",
      "        [0.7995, 0.8504],\n",
      "        [0.9337, 0.7274],\n",
      "        [0.9333, 0.1217],\n",
      "        [0.0874, 0.9021]], device='cuda:0', grad_fn=<SigmoidBackward0>)\n",
      "Epoch:26, combine_score:0.039472, cls_loss:357.357178, transfer_loss:689.023743, total_loss:1046.380859\n",
      "\n"
     ]
    },
    {
     "data": {
      "application/vnd.jupyter.widget-view+json": {
       "model_id": "48f2c1e083c34ef884aae7b7e2707047",
       "version_major": 2,
       "version_minor": 0
      },
      "text/plain": [
       "  0%|          | 0/1000 [00:00<?, ?it/s]"
      ]
     },
     "metadata": {},
     "output_type": "display_data"
    },
    {
     "data": {
      "application/vnd.jupyter.widget-view+json": {
       "model_id": "6379d00203894b0ebaebbb13610d71df",
       "version_major": 2,
       "version_minor": 0
      },
      "text/plain": [
       "  0%|          | 0/1386 [00:00<?, ?it/s]"
      ]
     },
     "metadata": {},
     "output_type": "display_data"
    },
    {
     "name": "stdout",
     "output_type": "stream",
     "text": [
      "tensor([[0.2855, 0.9337],\n",
      "        [0.9316, 0.8033],\n",
      "        [0.9484, 0.0617],\n",
      "        [0.8413, 0.8991],\n",
      "        [0.8275, 0.8624],\n",
      "        [0.9198, 0.8887],\n",
      "        [0.9337, 0.1934],\n",
      "        [0.0533, 0.9097]], device='cuda:0', grad_fn=<SigmoidBackward0>)\n",
      "Epoch:27, combine_score:0.053704, cls_loss:353.109344, transfer_loss:691.407166, total_loss:1044.516724\n",
      "\n"
     ]
    },
    {
     "data": {
      "application/vnd.jupyter.widget-view+json": {
       "model_id": "a2d9b32ab59f4aec94acc7880232286b",
       "version_major": 2,
       "version_minor": 0
      },
      "text/plain": [
       "  0%|          | 0/1000 [00:00<?, ?it/s]"
      ]
     },
     "metadata": {},
     "output_type": "display_data"
    },
    {
     "data": {
      "application/vnd.jupyter.widget-view+json": {
       "model_id": "fe84e539544845719976baec00293370",
       "version_major": 2,
       "version_minor": 0
      },
      "text/plain": [
       "  0%|          | 0/1386 [00:00<?, ?it/s]"
      ]
     },
     "metadata": {},
     "output_type": "display_data"
    },
    {
     "name": "stdout",
     "output_type": "stream",
     "text": [
      "tensor([[0.7730, 0.9278],\n",
      "        [0.9249, 0.5120],\n",
      "        [0.9511, 0.0340],\n",
      "        [0.9074, 0.8109],\n",
      "        [0.8462, 0.8574],\n",
      "        [0.9327, 0.5920],\n",
      "        [0.9356, 0.0951],\n",
      "        [0.0534, 0.8970]], device='cuda:0', grad_fn=<SigmoidBackward0>)\n",
      "Epoch:28, combine_score:0.035479, cls_loss:351.021698, transfer_loss:691.069580, total_loss:1042.090698\n",
      "\n"
     ]
    },
    {
     "data": {
      "application/vnd.jupyter.widget-view+json": {
       "model_id": "12b5de83389142748f2649e1c5e0ce78",
       "version_major": 2,
       "version_minor": 0
      },
      "text/plain": [
       "  0%|          | 0/1000 [00:00<?, ?it/s]"
      ]
     },
     "metadata": {},
     "output_type": "display_data"
    },
    {
     "data": {
      "application/vnd.jupyter.widget-view+json": {
       "model_id": "ab0632cc49a34b82af918b700401d510",
       "version_major": 2,
       "version_minor": 0
      },
      "text/plain": [
       "  0%|          | 0/1386 [00:00<?, ?it/s]"
      ]
     },
     "metadata": {},
     "output_type": "display_data"
    },
    {
     "name": "stdout",
     "output_type": "stream",
     "text": [
      "tensor([[0.8845, 0.9257],\n",
      "        [0.9283, 0.6787],\n",
      "        [0.9333, 0.0964],\n",
      "        [0.8907, 0.8479],\n",
      "        [0.8427, 0.8830],\n",
      "        [0.9395, 0.7761],\n",
      "        [0.9197, 0.2196],\n",
      "        [0.0707, 0.9102]], device='cuda:0', grad_fn=<SigmoidBackward0>)\n",
      "Epoch:29, combine_score:0.036407, cls_loss:353.626984, transfer_loss:687.535583, total_loss:1041.162109\n",
      "\n"
     ]
    },
    {
     "data": {
      "application/vnd.jupyter.widget-view+json": {
       "model_id": "df9c19c49fe3429fb9f94ceff89e246e",
       "version_major": 2,
       "version_minor": 0
      },
      "text/plain": [
       "  0%|          | 0/1000 [00:00<?, ?it/s]"
      ]
     },
     "metadata": {},
     "output_type": "display_data"
    },
    {
     "data": {
      "application/vnd.jupyter.widget-view+json": {
       "model_id": "7b79dda9508943f7973338c0a0d11134",
       "version_major": 2,
       "version_minor": 0
      },
      "text/plain": [
       "  0%|          | 0/1386 [00:00<?, ?it/s]"
      ]
     },
     "metadata": {},
     "output_type": "display_data"
    },
    {
     "name": "stdout",
     "output_type": "stream",
     "text": [
      "tensor([[0.7861, 0.9343],\n",
      "        [0.9279, 0.8110],\n",
      "        [0.9278, 0.0959],\n",
      "        [0.8814, 0.8603],\n",
      "        [0.8184, 0.8706],\n",
      "        [0.9307, 0.8840],\n",
      "        [0.9178, 0.1822],\n",
      "        [0.0788, 0.8968]], device='cuda:0', grad_fn=<SigmoidBackward0>)\n",
      "Epoch:30, combine_score:0.036901, cls_loss:346.094482, transfer_loss:691.556885, total_loss:1037.651733\n",
      "\n"
     ]
    },
    {
     "data": {
      "application/vnd.jupyter.widget-view+json": {
       "model_id": "3345b7544f26479c8ad56619d3ee130b",
       "version_major": 2,
       "version_minor": 0
      },
      "text/plain": [
       "  0%|          | 0/1000 [00:00<?, ?it/s]"
      ]
     },
     "metadata": {},
     "output_type": "display_data"
    },
    {
     "data": {
      "application/vnd.jupyter.widget-view+json": {
       "model_id": "acf50a0efc86427f96e4f29d8f511673",
       "version_major": 2,
       "version_minor": 0
      },
      "text/plain": [
       "  0%|          | 0/1386 [00:00<?, ?it/s]"
      ]
     },
     "metadata": {},
     "output_type": "display_data"
    },
    {
     "name": "stdout",
     "output_type": "stream",
     "text": [
      "tensor([[0.4776, 0.9311],\n",
      "        [0.9189, 0.8826],\n",
      "        [0.9320, 0.0754],\n",
      "        [0.8483, 0.8910],\n",
      "        [0.8868, 0.8684],\n",
      "        [0.8946, 0.9201],\n",
      "        [0.9222, 0.2021],\n",
      "        [0.0644, 0.9087]], device='cuda:0', grad_fn=<SigmoidBackward0>)\n",
      "Epoch:31, combine_score:0.043756, cls_loss:344.358154, transfer_loss:689.623901, total_loss:1033.981079\n",
      "\n"
     ]
    },
    {
     "data": {
      "application/vnd.jupyter.widget-view+json": {
       "model_id": "a41d2e57e69b4a40bfc02c1729117687",
       "version_major": 2,
       "version_minor": 0
      },
      "text/plain": [
       "  0%|          | 0/1000 [00:00<?, ?it/s]"
      ]
     },
     "metadata": {},
     "output_type": "display_data"
    },
    {
     "data": {
      "application/vnd.jupyter.widget-view+json": {
       "model_id": "1ba853722af14e65a7ccad47d05e8589",
       "version_major": 2,
       "version_minor": 0
      },
      "text/plain": [
       "  0%|          | 0/1386 [00:00<?, ?it/s]"
      ]
     },
     "metadata": {},
     "output_type": "display_data"
    },
    {
     "name": "stdout",
     "output_type": "stream",
     "text": [
      "tensor([[0.7761, 0.9235],\n",
      "        [0.9273, 0.7242],\n",
      "        [0.9367, 0.0655],\n",
      "        [0.8532, 0.8841],\n",
      "        [0.7573, 0.8808],\n",
      "        [0.9315, 0.8430],\n",
      "        [0.9246, 0.1641],\n",
      "        [0.0331, 0.8914]], device='cuda:0', grad_fn=<SigmoidBackward0>)\n",
      "Epoch:32, combine_score:0.038060, cls_loss:344.652466, transfer_loss:690.788513, total_loss:1035.441650\n",
      "\n"
     ]
    },
    {
     "data": {
      "application/vnd.jupyter.widget-view+json": {
       "model_id": "a9fca483326a43b1ae4452e66eb501a3",
       "version_major": 2,
       "version_minor": 0
      },
      "text/plain": [
       "  0%|          | 0/1000 [00:00<?, ?it/s]"
      ]
     },
     "metadata": {},
     "output_type": "display_data"
    },
    {
     "data": {
      "application/vnd.jupyter.widget-view+json": {
       "model_id": "58f9bd7d214740169447bc5bcaa3d548",
       "version_major": 2,
       "version_minor": 0
      },
      "text/plain": [
       "  0%|          | 0/1386 [00:00<?, ?it/s]"
      ]
     },
     "metadata": {},
     "output_type": "display_data"
    },
    {
     "name": "stdout",
     "output_type": "stream",
     "text": [
      "tensor([[0.7815, 0.9314],\n",
      "        [0.9261, 0.6032],\n",
      "        [0.9394, 0.0372],\n",
      "        [0.9253, 0.7132],\n",
      "        [0.9089, 0.8100],\n",
      "        [0.9401, 0.8107],\n",
      "        [0.9285, 0.0795],\n",
      "        [0.1162, 0.8921]], device='cuda:0', grad_fn=<SigmoidBackward0>)\n",
      "Epoch:33, combine_score:0.035073, cls_loss:341.002686, transfer_loss:690.022461, total_loss:1031.025391\n",
      "\n"
     ]
    },
    {
     "data": {
      "application/vnd.jupyter.widget-view+json": {
       "model_id": "ddee2f34dc2c4208ba5d5de49a057ab1",
       "version_major": 2,
       "version_minor": 0
      },
      "text/plain": [
       "  0%|          | 0/1000 [00:00<?, ?it/s]"
      ]
     },
     "metadata": {},
     "output_type": "display_data"
    },
    {
     "data": {
      "application/vnd.jupyter.widget-view+json": {
       "model_id": "b57bf4eb7a204e1cb9c382c04d54e56b",
       "version_major": 2,
       "version_minor": 0
      },
      "text/plain": [
       "  0%|          | 0/1386 [00:00<?, ?it/s]"
      ]
     },
     "metadata": {},
     "output_type": "display_data"
    },
    {
     "name": "stdout",
     "output_type": "stream",
     "text": [
      "tensor([[0.6026, 0.9204],\n",
      "        [0.9185, 0.7374],\n",
      "        [0.9301, 0.0492],\n",
      "        [0.9172, 0.6242],\n",
      "        [0.8937, 0.7838],\n",
      "        [0.9276, 0.6941],\n",
      "        [0.9243, 0.1085],\n",
      "        [0.1726, 0.8891]], device='cuda:0', grad_fn=<SigmoidBackward0>)\n",
      "Epoch:34, combine_score:0.052184, cls_loss:347.849670, transfer_loss:689.206970, total_loss:1037.057251\n",
      "\n"
     ]
    },
    {
     "data": {
      "application/vnd.jupyter.widget-view+json": {
       "model_id": "be49a13dd5a947febbf27418bdad0050",
       "version_major": 2,
       "version_minor": 0
      },
      "text/plain": [
       "  0%|          | 0/1000 [00:00<?, ?it/s]"
      ]
     },
     "metadata": {},
     "output_type": "display_data"
    },
    {
     "data": {
      "application/vnd.jupyter.widget-view+json": {
       "model_id": "8a5e5efddf6b4d6887e57011e6da47e7",
       "version_major": 2,
       "version_minor": 0
      },
      "text/plain": [
       "  0%|          | 0/1386 [00:00<?, ?it/s]"
      ]
     },
     "metadata": {},
     "output_type": "display_data"
    },
    {
     "name": "stdout",
     "output_type": "stream",
     "text": [
      "tensor([[0.7234, 0.9234],\n",
      "        [0.9371, 0.7370],\n",
      "        [0.9462, 0.0450],\n",
      "        [0.9200, 0.7408],\n",
      "        [0.8821, 0.8424],\n",
      "        [0.9428, 0.8477],\n",
      "        [0.9323, 0.1097],\n",
      "        [0.0436, 0.9064]], device='cuda:0', grad_fn=<SigmoidBackward0>)\n",
      "Epoch:35, combine_score:0.033473, cls_loss:344.441254, transfer_loss:690.184387, total_loss:1034.625244\n",
      "\n"
     ]
    },
    {
     "data": {
      "application/vnd.jupyter.widget-view+json": {
       "model_id": "13bcdcb558b54b97805ce3c9f0d586e5",
       "version_major": 2,
       "version_minor": 0
      },
      "text/plain": [
       "  0%|          | 0/1000 [00:00<?, ?it/s]"
      ]
     },
     "metadata": {},
     "output_type": "display_data"
    },
    {
     "data": {
      "application/vnd.jupyter.widget-view+json": {
       "model_id": "e98943aa2a1249a9845f9805fe81c5dc",
       "version_major": 2,
       "version_minor": 0
      },
      "text/plain": [
       "  0%|          | 0/1386 [00:00<?, ?it/s]"
      ]
     },
     "metadata": {},
     "output_type": "display_data"
    },
    {
     "name": "stdout",
     "output_type": "stream",
     "text": [
      "tensor([[0.8325, 0.9345],\n",
      "        [0.9363, 0.6065],\n",
      "        [0.9506, 0.0331],\n",
      "        [0.9186, 0.7675],\n",
      "        [0.8406, 0.8689],\n",
      "        [0.9445, 0.7338],\n",
      "        [0.9394, 0.0679],\n",
      "        [0.0368, 0.9029]], device='cuda:0', grad_fn=<SigmoidBackward0>)\n",
      "Epoch:36, combine_score:0.033392, cls_loss:336.726196, transfer_loss:691.589600, total_loss:1028.316284\n",
      "\n"
     ]
    },
    {
     "data": {
      "application/vnd.jupyter.widget-view+json": {
       "model_id": "4863ee36ad6a4bc69b1ba3ef41fba9c4",
       "version_major": 2,
       "version_minor": 0
      },
      "text/plain": [
       "  0%|          | 0/1000 [00:00<?, ?it/s]"
      ]
     },
     "metadata": {},
     "output_type": "display_data"
    },
    {
     "data": {
      "application/vnd.jupyter.widget-view+json": {
       "model_id": "4badc3ce73a848eca3445463037e0487",
       "version_major": 2,
       "version_minor": 0
      },
      "text/plain": [
       "  0%|          | 0/1386 [00:00<?, ?it/s]"
      ]
     },
     "metadata": {},
     "output_type": "display_data"
    },
    {
     "name": "stdout",
     "output_type": "stream",
     "text": [
      "tensor([[0.8066, 0.9319],\n",
      "        [0.9260, 0.5375],\n",
      "        [0.9445, 0.0492],\n",
      "        [0.9097, 0.7730],\n",
      "        [0.8838, 0.8737],\n",
      "        [0.9368, 0.7612],\n",
      "        [0.9374, 0.0683],\n",
      "        [0.0438, 0.9021]], device='cuda:0', grad_fn=<SigmoidBackward0>)\n",
      "Epoch:37, combine_score:0.035588, cls_loss:337.606995, transfer_loss:691.611816, total_loss:1029.218872\n",
      "\n"
     ]
    },
    {
     "data": {
      "application/vnd.jupyter.widget-view+json": {
       "model_id": "307bb13e6d06420e89962a7b9f84e79c",
       "version_major": 2,
       "version_minor": 0
      },
      "text/plain": [
       "  0%|          | 0/1000 [00:00<?, ?it/s]"
      ]
     },
     "metadata": {},
     "output_type": "display_data"
    },
    {
     "data": {
      "application/vnd.jupyter.widget-view+json": {
       "model_id": "e57c3fe67ef94e0588778def39dcda82",
       "version_major": 2,
       "version_minor": 0
      },
      "text/plain": [
       "  0%|          | 0/1386 [00:00<?, ?it/s]"
      ]
     },
     "metadata": {},
     "output_type": "display_data"
    },
    {
     "name": "stdout",
     "output_type": "stream",
     "text": [
      "tensor([[0.8119, 0.9224],\n",
      "        [0.9380, 0.7661],\n",
      "        [0.9521, 0.0493],\n",
      "        [0.9110, 0.8350],\n",
      "        [0.9159, 0.7636],\n",
      "        [0.9453, 0.8738],\n",
      "        [0.9411, 0.1171],\n",
      "        [0.0880, 0.8911]], device='cuda:0', grad_fn=<SigmoidBackward0>)\n",
      "Epoch:38, combine_score:0.038120, cls_loss:341.897980, transfer_loss:688.036560, total_loss:1029.934692\n",
      "\n"
     ]
    },
    {
     "data": {
      "application/vnd.jupyter.widget-view+json": {
       "model_id": "3c0ce803cd1f409e9d509b9fb0e89050",
       "version_major": 2,
       "version_minor": 0
      },
      "text/plain": [
       "  0%|          | 0/1000 [00:00<?, ?it/s]"
      ]
     },
     "metadata": {},
     "output_type": "display_data"
    },
    {
     "data": {
      "application/vnd.jupyter.widget-view+json": {
       "model_id": "8e01d50e9bfa414ea48046dda40a4921",
       "version_major": 2,
       "version_minor": 0
      },
      "text/plain": [
       "  0%|          | 0/1386 [00:00<?, ?it/s]"
      ]
     },
     "metadata": {},
     "output_type": "display_data"
    },
    {
     "name": "stdout",
     "output_type": "stream",
     "text": [
      "tensor([[0.9300, 0.9027],\n",
      "        [0.9261, 0.3083],\n",
      "        [0.9541, 0.0243],\n",
      "        [0.9273, 0.6802],\n",
      "        [0.9237, 0.8095],\n",
      "        [0.9344, 0.4760],\n",
      "        [0.9451, 0.0358],\n",
      "        [0.0466, 0.8916]], device='cuda:0', grad_fn=<SigmoidBackward0>)\n",
      "Epoch:39, combine_score:0.043508, cls_loss:338.982666, transfer_loss:689.871033, total_loss:1028.852417\n",
      "\n"
     ]
    },
    {
     "data": {
      "application/vnd.jupyter.widget-view+json": {
       "model_id": "52653b20bb044121bdaf144b21314091",
       "version_major": 2,
       "version_minor": 0
      },
      "text/plain": [
       "  0%|          | 0/1000 [00:00<?, ?it/s]"
      ]
     },
     "metadata": {},
     "output_type": "display_data"
    },
    {
     "data": {
      "application/vnd.jupyter.widget-view+json": {
       "model_id": "5a20a8b01f8845008cd6479103cec1f4",
       "version_major": 2,
       "version_minor": 0
      },
      "text/plain": [
       "  0%|          | 0/1386 [00:00<?, ?it/s]"
      ]
     },
     "metadata": {},
     "output_type": "display_data"
    },
    {
     "name": "stdout",
     "output_type": "stream",
     "text": [
      "tensor([[0.7541, 0.9348],\n",
      "        [0.9399, 0.7599],\n",
      "        [0.9409, 0.0453],\n",
      "        [0.8780, 0.8644],\n",
      "        [0.9188, 0.8579],\n",
      "        [0.9502, 0.8519],\n",
      "        [0.9262, 0.1251],\n",
      "        [0.0301, 0.8938]], device='cuda:0', grad_fn=<SigmoidBackward0>)\n",
      "Epoch:40, combine_score:0.031229, cls_loss:334.739655, transfer_loss:691.969360, total_loss:1026.708984\n",
      "\n"
     ]
    },
    {
     "data": {
      "application/vnd.jupyter.widget-view+json": {
       "model_id": "0f72d15818a2466cb2c63a1f84acfb40",
       "version_major": 2,
       "version_minor": 0
      },
      "text/plain": [
       "  0%|          | 0/1000 [00:00<?, ?it/s]"
      ]
     },
     "metadata": {},
     "output_type": "display_data"
    },
    {
     "data": {
      "application/vnd.jupyter.widget-view+json": {
       "model_id": "1e6b2dc41d8e4fa68a8027a3663d2cde",
       "version_major": 2,
       "version_minor": 0
      },
      "text/plain": [
       "  0%|          | 0/1386 [00:00<?, ?it/s]"
      ]
     },
     "metadata": {},
     "output_type": "display_data"
    },
    {
     "name": "stdout",
     "output_type": "stream",
     "text": [
      "tensor([[0.8892, 0.9329],\n",
      "        [0.9418, 0.7150],\n",
      "        [0.9463, 0.0364],\n",
      "        [0.9298, 0.7587],\n",
      "        [0.9261, 0.7737],\n",
      "        [0.9457, 0.7154],\n",
      "        [0.9326, 0.0934],\n",
      "        [0.0967, 0.8841]], device='cuda:0', grad_fn=<SigmoidBackward0>)\n",
      "Epoch:41, combine_score:0.033912, cls_loss:334.199677, transfer_loss:690.691528, total_loss:1024.890137\n",
      "\n"
     ]
    },
    {
     "data": {
      "application/vnd.jupyter.widget-view+json": {
       "model_id": "a517620a17d54b3685bbe6e5172d659b",
       "version_major": 2,
       "version_minor": 0
      },
      "text/plain": [
       "  0%|          | 0/1000 [00:00<?, ?it/s]"
      ]
     },
     "metadata": {},
     "output_type": "display_data"
    },
    {
     "data": {
      "application/vnd.jupyter.widget-view+json": {
       "model_id": "49f86b0dcf144a08b24d2852387d42c7",
       "version_major": 2,
       "version_minor": 0
      },
      "text/plain": [
       "  0%|          | 0/1386 [00:00<?, ?it/s]"
      ]
     },
     "metadata": {},
     "output_type": "display_data"
    },
    {
     "name": "stdout",
     "output_type": "stream",
     "text": [
      "tensor([[0.8354, 0.9192],\n",
      "        [0.9341, 0.7120],\n",
      "        [0.9213, 0.1076],\n",
      "        [0.8819, 0.8469],\n",
      "        [0.8532, 0.8736],\n",
      "        [0.9279, 0.8824],\n",
      "        [0.9149, 0.1648],\n",
      "        [0.0316, 0.8874]], device='cuda:0', grad_fn=<SigmoidBackward0>)\n",
      "Epoch:42, combine_score:0.032183, cls_loss:335.310211, transfer_loss:691.370178, total_loss:1026.680786\n",
      "\n"
     ]
    },
    {
     "data": {
      "application/vnd.jupyter.widget-view+json": {
       "model_id": "f146b93cd9bd49a4ada16ba20cf798bd",
       "version_major": 2,
       "version_minor": 0
      },
      "text/plain": [
       "  0%|          | 0/1000 [00:00<?, ?it/s]"
      ]
     },
     "metadata": {},
     "output_type": "display_data"
    },
    {
     "data": {
      "application/vnd.jupyter.widget-view+json": {
       "model_id": "8d01fcc35d24457ca4edd6c86585ac66",
       "version_major": 2,
       "version_minor": 0
      },
      "text/plain": [
       "  0%|          | 0/1386 [00:00<?, ?it/s]"
      ]
     },
     "metadata": {},
     "output_type": "display_data"
    },
    {
     "name": "stdout",
     "output_type": "stream",
     "text": [
      "tensor([[0.8520, 0.9245],\n",
      "        [0.9342, 0.5692],\n",
      "        [0.9381, 0.0413],\n",
      "        [0.8870, 0.8469],\n",
      "        [0.9182, 0.8484],\n",
      "        [0.9499, 0.7794],\n",
      "        [0.9284, 0.0903],\n",
      "        [0.0423, 0.8872]], device='cuda:0', grad_fn=<SigmoidBackward0>)\n",
      "Epoch:43, combine_score:0.031533, cls_loss:331.010284, transfer_loss:691.259827, total_loss:1022.270386\n",
      "\n"
     ]
    },
    {
     "data": {
      "application/vnd.jupyter.widget-view+json": {
       "model_id": "d7d78ec149a24cf3885c01cf06eb638a",
       "version_major": 2,
       "version_minor": 0
      },
      "text/plain": [
       "  0%|          | 0/1000 [00:00<?, ?it/s]"
      ]
     },
     "metadata": {},
     "output_type": "display_data"
    },
    {
     "data": {
      "application/vnd.jupyter.widget-view+json": {
       "model_id": "dcf52cfc85714a3e8f1613d7dc7e1146",
       "version_major": 2,
       "version_minor": 0
      },
      "text/plain": [
       "  0%|          | 0/1386 [00:00<?, ?it/s]"
      ]
     },
     "metadata": {},
     "output_type": "display_data"
    },
    {
     "name": "stdout",
     "output_type": "stream",
     "text": [
      "tensor([[0.9488, 0.9247],\n",
      "        [0.9398, 0.3634],\n",
      "        [0.9616, 0.0343],\n",
      "        [0.9337, 0.4316],\n",
      "        [0.9200, 0.6402],\n",
      "        [0.9512, 0.7005],\n",
      "        [0.9500, 0.0461],\n",
      "        [0.1880, 0.8920]], device='cuda:0', grad_fn=<SigmoidBackward0>)\n",
      "Epoch:44, combine_score:0.051185, cls_loss:334.047791, transfer_loss:688.321411, total_loss:1022.369141\n",
      "\n"
     ]
    },
    {
     "data": {
      "application/vnd.jupyter.widget-view+json": {
       "model_id": "fd48054a85cb44e88b95f15ddddde2ec",
       "version_major": 2,
       "version_minor": 0
      },
      "text/plain": [
       "  0%|          | 0/1000 [00:00<?, ?it/s]"
      ]
     },
     "metadata": {},
     "output_type": "display_data"
    },
    {
     "data": {
      "application/vnd.jupyter.widget-view+json": {
       "model_id": "8d128690283d4819bee898f3e4453d42",
       "version_major": 2,
       "version_minor": 0
      },
      "text/plain": [
       "  0%|          | 0/1386 [00:00<?, ?it/s]"
      ]
     },
     "metadata": {},
     "output_type": "display_data"
    },
    {
     "name": "stdout",
     "output_type": "stream",
     "text": [
      "tensor([[0.8052, 0.9236],\n",
      "        [0.9306, 0.7600],\n",
      "        [0.9340, 0.1013],\n",
      "        [0.8776, 0.8211],\n",
      "        [0.7838, 0.8734],\n",
      "        [0.9104, 0.9112],\n",
      "        [0.9207, 0.1662],\n",
      "        [0.0225, 0.9079]], device='cuda:0', grad_fn=<SigmoidBackward0>)\n",
      "Epoch:45, combine_score:0.033089, cls_loss:338.418365, transfer_loss:689.425293, total_loss:1027.843628\n",
      "\n"
     ]
    },
    {
     "data": {
      "application/vnd.jupyter.widget-view+json": {
       "model_id": "59e6e57e52524879afa7231fdd75df78",
       "version_major": 2,
       "version_minor": 0
      },
      "text/plain": [
       "  0%|          | 0/1000 [00:00<?, ?it/s]"
      ]
     },
     "metadata": {},
     "output_type": "display_data"
    },
    {
     "data": {
      "application/vnd.jupyter.widget-view+json": {
       "model_id": "5e60d64ee0e847aeb28ba54c4f60223f",
       "version_major": 2,
       "version_minor": 0
      },
      "text/plain": [
       "  0%|          | 0/1386 [00:00<?, ?it/s]"
      ]
     },
     "metadata": {},
     "output_type": "display_data"
    },
    {
     "name": "stdout",
     "output_type": "stream",
     "text": [
      "tensor([[0.8831, 0.9202],\n",
      "        [0.9224, 0.7538],\n",
      "        [0.9420, 0.0312],\n",
      "        [0.9114, 0.7282],\n",
      "        [0.9098, 0.7402],\n",
      "        [0.9350, 0.8001],\n",
      "        [0.9174, 0.1180],\n",
      "        [0.1119, 0.8927]], device='cuda:0', grad_fn=<SigmoidBackward0>)\n",
      "Epoch:46, combine_score:0.032534, cls_loss:335.836853, transfer_loss:689.936768, total_loss:1025.772827\n",
      "\n"
     ]
    },
    {
     "data": {
      "application/vnd.jupyter.widget-view+json": {
       "model_id": "c58e5ce4b12f464abfb79fe4b974636f",
       "version_major": 2,
       "version_minor": 0
      },
      "text/plain": [
       "  0%|          | 0/1000 [00:00<?, ?it/s]"
      ]
     },
     "metadata": {},
     "output_type": "display_data"
    },
    {
     "data": {
      "application/vnd.jupyter.widget-view+json": {
       "model_id": "fba4abfdbab24b48af747b5f9b07ee15",
       "version_major": 2,
       "version_minor": 0
      },
      "text/plain": [
       "  0%|          | 0/1386 [00:00<?, ?it/s]"
      ]
     },
     "metadata": {},
     "output_type": "display_data"
    },
    {
     "name": "stdout",
     "output_type": "stream",
     "text": [
      "tensor([[0.9170, 0.9302],\n",
      "        [0.9446, 0.7234],\n",
      "        [0.9382, 0.0499],\n",
      "        [0.9182, 0.7128],\n",
      "        [0.9260, 0.8422],\n",
      "        [0.9538, 0.8452],\n",
      "        [0.9275, 0.0809],\n",
      "        [0.0834, 0.8939]], device='cuda:0', grad_fn=<SigmoidBackward0>)\n",
      "Epoch:47, combine_score:0.033611, cls_loss:326.462402, transfer_loss:691.483215, total_loss:1017.945374\n",
      "\n"
     ]
    },
    {
     "data": {
      "application/vnd.jupyter.widget-view+json": {
       "model_id": "608d6d70357c41538f307c403c84fe66",
       "version_major": 2,
       "version_minor": 0
      },
      "text/plain": [
       "  0%|          | 0/1000 [00:00<?, ?it/s]"
      ]
     },
     "metadata": {},
     "output_type": "display_data"
    },
    {
     "data": {
      "application/vnd.jupyter.widget-view+json": {
       "model_id": "415a458247c0466bb1c9a86d6f2ed965",
       "version_major": 2,
       "version_minor": 0
      },
      "text/plain": [
       "  0%|          | 0/1386 [00:00<?, ?it/s]"
      ]
     },
     "metadata": {},
     "output_type": "display_data"
    },
    {
     "name": "stdout",
     "output_type": "stream",
     "text": [
      "tensor([[0.6656, 0.9235],\n",
      "        [0.9464, 0.6622],\n",
      "        [0.9434, 0.0643],\n",
      "        [0.9084, 0.8284],\n",
      "        [0.9327, 0.8554],\n",
      "        [0.9582, 0.8374],\n",
      "        [0.9358, 0.0853],\n",
      "        [0.0449, 0.9015]], device='cuda:0', grad_fn=<SigmoidBackward0>)\n",
      "Epoch:48, combine_score:0.031626, cls_loss:334.429047, transfer_loss:689.276855, total_loss:1023.705078\n",
      "\n"
     ]
    },
    {
     "data": {
      "application/vnd.jupyter.widget-view+json": {
       "model_id": "3626ce047d2b4fa68755fa8510d26c19",
       "version_major": 2,
       "version_minor": 0
      },
      "text/plain": [
       "  0%|          | 0/1000 [00:00<?, ?it/s]"
      ]
     },
     "metadata": {},
     "output_type": "display_data"
    },
    {
     "data": {
      "application/vnd.jupyter.widget-view+json": {
       "model_id": "12977df7f82e400498918ee15c0b43fb",
       "version_major": 2,
       "version_minor": 0
      },
      "text/plain": [
       "  0%|          | 0/1386 [00:00<?, ?it/s]"
      ]
     },
     "metadata": {},
     "output_type": "display_data"
    },
    {
     "name": "stdout",
     "output_type": "stream",
     "text": [
      "tensor([[0.4980, 0.9206],\n",
      "        [0.9496, 0.7186],\n",
      "        [0.9374, 0.0567],\n",
      "        [0.9056, 0.8149],\n",
      "        [0.9055, 0.8765],\n",
      "        [0.9538, 0.8712],\n",
      "        [0.9289, 0.0980],\n",
      "        [0.0493, 0.9038]], device='cuda:0', grad_fn=<SigmoidBackward0>)\n",
      "Epoch:49, combine_score:0.032662, cls_loss:332.168976, transfer_loss:690.439819, total_loss:1022.608215\n",
      "\n"
     ]
    },
    {
     "data": {
      "application/vnd.jupyter.widget-view+json": {
       "model_id": "fa094b25861a46e1a825a4c5ffe45992",
       "version_major": 2,
       "version_minor": 0
      },
      "text/plain": [
       "  0%|          | 0/1000 [00:00<?, ?it/s]"
      ]
     },
     "metadata": {},
     "output_type": "display_data"
    },
    {
     "data": {
      "application/vnd.jupyter.widget-view+json": {
       "model_id": "be7956cb6b024f4b959bbc821542b9ac",
       "version_major": 2,
       "version_minor": 0
      },
      "text/plain": [
       "  0%|          | 0/1386 [00:00<?, ?it/s]"
      ]
     },
     "metadata": {},
     "output_type": "display_data"
    },
    {
     "name": "stdout",
     "output_type": "stream",
     "text": [
      "tensor([[0.4021, 0.9240],\n",
      "        [0.9336, 0.8640],\n",
      "        [0.9445, 0.0585],\n",
      "        [0.9132, 0.7857],\n",
      "        [0.9279, 0.7673],\n",
      "        [0.9455, 0.8464],\n",
      "        [0.9310, 0.1352],\n",
      "        [0.1325, 0.8923]], device='cuda:0', grad_fn=<SigmoidBackward0>)\n",
      "Epoch:50, combine_score:0.032469, cls_loss:330.423492, transfer_loss:691.857971, total_loss:1022.282043\n",
      "\n"
     ]
    },
    {
     "data": {
      "application/vnd.jupyter.widget-view+json": {
       "model_id": "9157db6ffdde4e3880ec33845217a4e0",
       "version_major": 2,
       "version_minor": 0
      },
      "text/plain": [
       "  0%|          | 0/1000 [00:00<?, ?it/s]"
      ]
     },
     "metadata": {},
     "output_type": "display_data"
    },
    {
     "data": {
      "application/vnd.jupyter.widget-view+json": {
       "model_id": "474aaad8f0524329a5e53c9b54199de2",
       "version_major": 2,
       "version_minor": 0
      },
      "text/plain": [
       "  0%|          | 0/1386 [00:00<?, ?it/s]"
      ]
     },
     "metadata": {},
     "output_type": "display_data"
    },
    {
     "name": "stdout",
     "output_type": "stream",
     "text": [
      "tensor([[0.9133, 0.9138],\n",
      "        [0.9346, 0.5884],\n",
      "        [0.9392, 0.0633],\n",
      "        [0.9073, 0.8031],\n",
      "        [0.9297, 0.8355],\n",
      "        [0.9437, 0.6941],\n",
      "        [0.9351, 0.0811],\n",
      "        [0.0405, 0.9082]], device='cuda:0', grad_fn=<SigmoidBackward0>)\n",
      "Epoch:51, combine_score:0.034830, cls_loss:326.733673, transfer_loss:689.988037, total_loss:1016.722778\n",
      "\n"
     ]
    },
    {
     "data": {
      "application/vnd.jupyter.widget-view+json": {
       "model_id": "7369c06d21394626855005292a8ab8ef",
       "version_major": 2,
       "version_minor": 0
      },
      "text/plain": [
       "  0%|          | 0/1000 [00:00<?, ?it/s]"
      ]
     },
     "metadata": {},
     "output_type": "display_data"
    },
    {
     "data": {
      "application/vnd.jupyter.widget-view+json": {
       "model_id": "5b8135e1d92d40d0a8ded2baa5b43671",
       "version_major": 2,
       "version_minor": 0
      },
      "text/plain": [
       "  0%|          | 0/1386 [00:00<?, ?it/s]"
      ]
     },
     "metadata": {},
     "output_type": "display_data"
    },
    {
     "name": "stdout",
     "output_type": "stream",
     "text": [
      "tensor([[0.9134, 0.9200],\n",
      "        [0.9423, 0.7559],\n",
      "        [0.9465, 0.0503],\n",
      "        [0.9150, 0.6413],\n",
      "        [0.9309, 0.7668],\n",
      "        [0.9475, 0.8426],\n",
      "        [0.9360, 0.0763],\n",
      "        [0.1752, 0.8871]], device='cuda:0', grad_fn=<SigmoidBackward0>)\n",
      "Epoch:52, combine_score:0.035466, cls_loss:329.709412, transfer_loss:687.654541, total_loss:1017.364075\n",
      "\n"
     ]
    },
    {
     "data": {
      "application/vnd.jupyter.widget-view+json": {
       "model_id": "d0fb616dd74f4aa786c58e48e0e7d3e1",
       "version_major": 2,
       "version_minor": 0
      },
      "text/plain": [
       "  0%|          | 0/1000 [00:00<?, ?it/s]"
      ]
     },
     "metadata": {},
     "output_type": "display_data"
    },
    {
     "data": {
      "application/vnd.jupyter.widget-view+json": {
       "model_id": "9f72b2168e864f57b344b2ac7e50e18d",
       "version_major": 2,
       "version_minor": 0
      },
      "text/plain": [
       "  0%|          | 0/1386 [00:00<?, ?it/s]"
      ]
     },
     "metadata": {},
     "output_type": "display_data"
    },
    {
     "name": "stdout",
     "output_type": "stream",
     "text": [
      "tensor([[0.8485, 0.9235],\n",
      "        [0.9396, 0.5930],\n",
      "        [0.9427, 0.0445],\n",
      "        [0.9200, 0.7385],\n",
      "        [0.9164, 0.8793],\n",
      "        [0.9411, 0.5503],\n",
      "        [0.9301, 0.0937],\n",
      "        [0.0326, 0.9101]], device='cuda:0', grad_fn=<SigmoidBackward0>)\n",
      "Epoch:53, combine_score:0.034309, cls_loss:333.266632, transfer_loss:690.014893, total_loss:1023.282043\n",
      "\n"
     ]
    },
    {
     "data": {
      "application/vnd.jupyter.widget-view+json": {
       "model_id": "280568c5448a44f5ba5c3d114e071da6",
       "version_major": 2,
       "version_minor": 0
      },
      "text/plain": [
       "  0%|          | 0/1000 [00:00<?, ?it/s]"
      ]
     },
     "metadata": {},
     "output_type": "display_data"
    },
    {
     "data": {
      "application/vnd.jupyter.widget-view+json": {
       "model_id": "0ec3402651dc415185558e7b2caa4ad4",
       "version_major": 2,
       "version_minor": 0
      },
      "text/plain": [
       "  0%|          | 0/1386 [00:00<?, ?it/s]"
      ]
     },
     "metadata": {},
     "output_type": "display_data"
    },
    {
     "name": "stdout",
     "output_type": "stream",
     "text": [
      "tensor([[0.9429, 0.9070],\n",
      "        [0.9370, 0.5899],\n",
      "        [0.9348, 0.0859],\n",
      "        [0.9084, 0.7583],\n",
      "        [0.9340, 0.8338],\n",
      "        [0.9440, 0.6606],\n",
      "        [0.9314, 0.1050],\n",
      "        [0.1817, 0.8937]], device='cuda:0', grad_fn=<SigmoidBackward0>)\n",
      "Epoch:54, combine_score:0.043791, cls_loss:329.288727, transfer_loss:691.649109, total_loss:1020.939087\n",
      "\n"
     ]
    },
    {
     "data": {
      "application/vnd.jupyter.widget-view+json": {
       "model_id": "d37157d9d80243528536ec0c3e4d23c6",
       "version_major": 2,
       "version_minor": 0
      },
      "text/plain": [
       "  0%|          | 0/1000 [00:00<?, ?it/s]"
      ]
     },
     "metadata": {},
     "output_type": "display_data"
    },
    {
     "data": {
      "application/vnd.jupyter.widget-view+json": {
       "model_id": "6b437acd496a40ec9549dcfcc823ebbd",
       "version_major": 2,
       "version_minor": 0
      },
      "text/plain": [
       "  0%|          | 0/1386 [00:00<?, ?it/s]"
      ]
     },
     "metadata": {},
     "output_type": "display_data"
    },
    {
     "name": "stdout",
     "output_type": "stream",
     "text": [
      "tensor([[0.4808, 0.9297],\n",
      "        [0.9386, 0.8746],\n",
      "        [0.9319, 0.1057],\n",
      "        [0.9026, 0.8212],\n",
      "        [0.8463, 0.9047],\n",
      "        [0.9122, 0.9269],\n",
      "        [0.9262, 0.1645],\n",
      "        [0.0220, 0.9131]], device='cuda:0', grad_fn=<SigmoidBackward0>)\n",
      "Epoch:55, combine_score:0.030624, cls_loss:326.327301, transfer_loss:691.385681, total_loss:1017.711914\n",
      "\n"
     ]
    },
    {
     "data": {
      "application/vnd.jupyter.widget-view+json": {
       "model_id": "102887da6e1f426eba2cf6058d552eb4",
       "version_major": 2,
       "version_minor": 0
      },
      "text/plain": [
       "  0%|          | 0/1000 [00:00<?, ?it/s]"
      ]
     },
     "metadata": {},
     "output_type": "display_data"
    },
    {
     "data": {
      "application/vnd.jupyter.widget-view+json": {
       "model_id": "bd87e7a2808b4740bee15e52aca6344b",
       "version_major": 2,
       "version_minor": 0
      },
      "text/plain": [
       "  0%|          | 0/1386 [00:00<?, ?it/s]"
      ]
     },
     "metadata": {},
     "output_type": "display_data"
    },
    {
     "name": "stdout",
     "output_type": "stream",
     "text": [
      "tensor([[0.6209, 0.9201],\n",
      "        [0.9242, 0.8955],\n",
      "        [0.9347, 0.0995],\n",
      "        [0.8697, 0.8237],\n",
      "        [0.8861, 0.8767],\n",
      "        [0.9434, 0.8899],\n",
      "        [0.9259, 0.2561],\n",
      "        [0.0489, 0.8958]], device='cuda:0', grad_fn=<SigmoidBackward0>)\n",
      "Epoch:56, combine_score:0.031532, cls_loss:328.329071, transfer_loss:692.570190, total_loss:1020.899231\n",
      "\n"
     ]
    },
    {
     "data": {
      "application/vnd.jupyter.widget-view+json": {
       "model_id": "a4449c8720a4464ca41a1b5746a4dbb7",
       "version_major": 2,
       "version_minor": 0
      },
      "text/plain": [
       "  0%|          | 0/1000 [00:00<?, ?it/s]"
      ]
     },
     "metadata": {},
     "output_type": "display_data"
    },
    {
     "data": {
      "application/vnd.jupyter.widget-view+json": {
       "model_id": "f628b67afaee4fa38f0493988f494741",
       "version_major": 2,
       "version_minor": 0
      },
      "text/plain": [
       "  0%|          | 0/1386 [00:00<?, ?it/s]"
      ]
     },
     "metadata": {},
     "output_type": "display_data"
    },
    {
     "name": "stdout",
     "output_type": "stream",
     "text": [
      "tensor([[0.6703, 0.9140],\n",
      "        [0.9365, 0.5997],\n",
      "        [0.9497, 0.0285],\n",
      "        [0.9187, 0.5564],\n",
      "        [0.9026, 0.8684],\n",
      "        [0.9433, 0.7367],\n",
      "        [0.9430, 0.0509],\n",
      "        [0.0297, 0.9061]], device='cuda:0', grad_fn=<SigmoidBackward0>)\n",
      "Epoch:57, combine_score:0.033580, cls_loss:327.171021, transfer_loss:690.960449, total_loss:1018.131653\n",
      "\n"
     ]
    },
    {
     "data": {
      "application/vnd.jupyter.widget-view+json": {
       "model_id": "bcdb3b7b2a7842f7b82b29a5d0adaadd",
       "version_major": 2,
       "version_minor": 0
      },
      "text/plain": [
       "  0%|          | 0/1000 [00:00<?, ?it/s]"
      ]
     },
     "metadata": {},
     "output_type": "display_data"
    },
    {
     "data": {
      "application/vnd.jupyter.widget-view+json": {
       "model_id": "5541422ea02046c1a14ebeb18ba561e5",
       "version_major": 2,
       "version_minor": 0
      },
      "text/plain": [
       "  0%|          | 0/1386 [00:00<?, ?it/s]"
      ]
     },
     "metadata": {},
     "output_type": "display_data"
    },
    {
     "name": "stdout",
     "output_type": "stream",
     "text": [
      "tensor([[0.7198, 0.9314],\n",
      "        [0.9486, 0.7683],\n",
      "        [0.9383, 0.0534],\n",
      "        [0.8704, 0.8186],\n",
      "        [0.8958, 0.8956],\n",
      "        [0.9542, 0.8198],\n",
      "        [0.9298, 0.0882],\n",
      "        [0.0414, 0.9112]], device='cuda:0', grad_fn=<SigmoidBackward0>)\n",
      "Epoch:58, combine_score:0.030266, cls_loss:319.362396, transfer_loss:690.096252, total_loss:1009.459045\n",
      "\n"
     ]
    },
    {
     "data": {
      "application/vnd.jupyter.widget-view+json": {
       "model_id": "f929c720e16a476992945b0755842bcd",
       "version_major": 2,
       "version_minor": 0
      },
      "text/plain": [
       "  0%|          | 0/1000 [00:00<?, ?it/s]"
      ]
     },
     "metadata": {},
     "output_type": "display_data"
    },
    {
     "data": {
      "application/vnd.jupyter.widget-view+json": {
       "model_id": "dd757d1138404978ad2bd960f0490f58",
       "version_major": 2,
       "version_minor": 0
      },
      "text/plain": [
       "  0%|          | 0/1386 [00:00<?, ?it/s]"
      ]
     },
     "metadata": {},
     "output_type": "display_data"
    },
    {
     "name": "stdout",
     "output_type": "stream",
     "text": [
      "tensor([[0.3427, 0.9218],\n",
      "        [0.9129, 0.9212],\n",
      "        [0.9191, 0.1316],\n",
      "        [0.8409, 0.8762],\n",
      "        [0.8984, 0.8958],\n",
      "        [0.9280, 0.9200],\n",
      "        [0.9256, 0.2478],\n",
      "        [0.0529, 0.9070]], device='cuda:0', grad_fn=<SigmoidBackward0>)\n",
      "Epoch:59, combine_score:0.031913, cls_loss:328.499146, transfer_loss:687.998779, total_loss:1016.497803\n",
      "\n"
     ]
    },
    {
     "data": {
      "application/vnd.jupyter.widget-view+json": {
       "model_id": "55990e69507645eebc3ed051f7d8a26e",
       "version_major": 2,
       "version_minor": 0
      },
      "text/plain": [
       "  0%|          | 0/1000 [00:00<?, ?it/s]"
      ]
     },
     "metadata": {},
     "output_type": "display_data"
    },
    {
     "data": {
      "application/vnd.jupyter.widget-view+json": {
       "model_id": "332410ecda3046f88cb58fa595fecff7",
       "version_major": 2,
       "version_minor": 0
      },
      "text/plain": [
       "  0%|          | 0/1386 [00:00<?, ?it/s]"
      ]
     },
     "metadata": {},
     "output_type": "display_data"
    },
    {
     "name": "stdout",
     "output_type": "stream",
     "text": [
      "tensor([[0.8445, 0.9225],\n",
      "        [0.9438, 0.6159],\n",
      "        [0.9347, 0.0661],\n",
      "        [0.8994, 0.7656],\n",
      "        [0.9206, 0.8955],\n",
      "        [0.9530, 0.8099],\n",
      "        [0.9306, 0.0929],\n",
      "        [0.0441, 0.9008]], device='cuda:0', grad_fn=<SigmoidBackward0>)\n",
      "Epoch:60, combine_score:0.033684, cls_loss:318.065582, transfer_loss:691.985474, total_loss:1010.050598\n",
      "\n"
     ]
    },
    {
     "data": {
      "application/vnd.jupyter.widget-view+json": {
       "model_id": "1b10c2fc72f741f1baf556f200b09da8",
       "version_major": 2,
       "version_minor": 0
      },
      "text/plain": [
       "  0%|          | 0/1000 [00:00<?, ?it/s]"
      ]
     },
     "metadata": {},
     "output_type": "display_data"
    },
    {
     "data": {
      "application/vnd.jupyter.widget-view+json": {
       "model_id": "6f6ec85201bd46ffb02a8a5a885a704d",
       "version_major": 2,
       "version_minor": 0
      },
      "text/plain": [
       "  0%|          | 0/1386 [00:00<?, ?it/s]"
      ]
     },
     "metadata": {},
     "output_type": "display_data"
    },
    {
     "name": "stdout",
     "output_type": "stream",
     "text": [
      "tensor([[0.8206, 0.9262],\n",
      "        [0.9416, 0.8239],\n",
      "        [0.9341, 0.0573],\n",
      "        [0.8966, 0.7848],\n",
      "        [0.9159, 0.8445],\n",
      "        [0.9423, 0.8817],\n",
      "        [0.9244, 0.1011],\n",
      "        [0.2530, 0.8832]], device='cuda:0', grad_fn=<SigmoidBackward0>)\n",
      "Epoch:61, combine_score:0.036264, cls_loss:326.433441, transfer_loss:690.135132, total_loss:1016.569275\n",
      "\n"
     ]
    },
    {
     "data": {
      "application/vnd.jupyter.widget-view+json": {
       "model_id": "166a44687d1e425586f66aee97ef5c40",
       "version_major": 2,
       "version_minor": 0
      },
      "text/plain": [
       "  0%|          | 0/1000 [00:00<?, ?it/s]"
      ]
     },
     "metadata": {},
     "output_type": "display_data"
    },
    {
     "data": {
      "application/vnd.jupyter.widget-view+json": {
       "model_id": "3f5156fc7ac447eb85750eb6940d19d1",
       "version_major": 2,
       "version_minor": 0
      },
      "text/plain": [
       "  0%|          | 0/1386 [00:00<?, ?it/s]"
      ]
     },
     "metadata": {},
     "output_type": "display_data"
    },
    {
     "name": "stdout",
     "output_type": "stream",
     "text": [
      "tensor([[0.5046, 0.9113],\n",
      "        [0.9349, 0.8899],\n",
      "        [0.9458, 0.0419],\n",
      "        [0.8879, 0.8372],\n",
      "        [0.9070, 0.8800],\n",
      "        [0.9462, 0.8906],\n",
      "        [0.9365, 0.1214],\n",
      "        [0.0522, 0.8952]], device='cuda:0', grad_fn=<SigmoidBackward0>)\n",
      "Epoch:62, combine_score:0.031831, cls_loss:321.441284, transfer_loss:691.168335, total_loss:1012.609375\n",
      "\n"
     ]
    },
    {
     "data": {
      "application/vnd.jupyter.widget-view+json": {
       "model_id": "f341437519c74e60804e8051724a05fe",
       "version_major": 2,
       "version_minor": 0
      },
      "text/plain": [
       "  0%|          | 0/1000 [00:00<?, ?it/s]"
      ]
     },
     "metadata": {},
     "output_type": "display_data"
    },
    {
     "data": {
      "application/vnd.jupyter.widget-view+json": {
       "model_id": "080000ae56d04ef286ec3a23744336ed",
       "version_major": 2,
       "version_minor": 0
      },
      "text/plain": [
       "  0%|          | 0/1386 [00:00<?, ?it/s]"
      ]
     },
     "metadata": {},
     "output_type": "display_data"
    },
    {
     "name": "stdout",
     "output_type": "stream",
     "text": [
      "tensor([[0.2609, 0.9126],\n",
      "        [0.9401, 0.8301],\n",
      "        [0.9429, 0.0248],\n",
      "        [0.9206, 0.6693],\n",
      "        [0.9180, 0.8160],\n",
      "        [0.9475, 0.8681],\n",
      "        [0.9315, 0.0650],\n",
      "        [0.1447, 0.8745]], device='cuda:0', grad_fn=<SigmoidBackward0>)\n",
      "Epoch:63, combine_score:0.031257, cls_loss:322.610443, transfer_loss:691.354614, total_loss:1013.964294\n",
      "\n"
     ]
    },
    {
     "data": {
      "application/vnd.jupyter.widget-view+json": {
       "model_id": "b4ec247140424a119fb715845e84f2c6",
       "version_major": 2,
       "version_minor": 0
      },
      "text/plain": [
       "  0%|          | 0/1000 [00:00<?, ?it/s]"
      ]
     },
     "metadata": {},
     "output_type": "display_data"
    },
    {
     "data": {
      "application/vnd.jupyter.widget-view+json": {
       "model_id": "7d981a91e2c047b8a772c9e223808662",
       "version_major": 2,
       "version_minor": 0
      },
      "text/plain": [
       "  0%|          | 0/1386 [00:00<?, ?it/s]"
      ]
     },
     "metadata": {},
     "output_type": "display_data"
    },
    {
     "name": "stdout",
     "output_type": "stream",
     "text": [
      "tensor([[0.5905, 0.9287],\n",
      "        [0.9558, 0.8267],\n",
      "        [0.9375, 0.0508],\n",
      "        [0.9152, 0.7423],\n",
      "        [0.8842, 0.9195],\n",
      "        [0.9575, 0.9062],\n",
      "        [0.9373, 0.0822],\n",
      "        [0.0237, 0.9099]], device='cuda:0', grad_fn=<SigmoidBackward0>)\n",
      "Epoch:64, combine_score:0.029966, cls_loss:319.176788, transfer_loss:692.250427, total_loss:1011.427734\n",
      "\n"
     ]
    },
    {
     "data": {
      "application/vnd.jupyter.widget-view+json": {
       "model_id": "c4881c47560d46b9a2a6cca38c434140",
       "version_major": 2,
       "version_minor": 0
      },
      "text/plain": [
       "  0%|          | 0/1000 [00:00<?, ?it/s]"
      ]
     },
     "metadata": {},
     "output_type": "display_data"
    },
    {
     "data": {
      "application/vnd.jupyter.widget-view+json": {
       "model_id": "0e2491ccc04c4226895b9fcd4b7abdbe",
       "version_major": 2,
       "version_minor": 0
      },
      "text/plain": [
       "  0%|          | 0/1386 [00:00<?, ?it/s]"
      ]
     },
     "metadata": {},
     "output_type": "display_data"
    },
    {
     "name": "stdout",
     "output_type": "stream",
     "text": [
      "tensor([[0.4143, 0.9168],\n",
      "        [0.9354, 0.8894],\n",
      "        [0.9327, 0.0698],\n",
      "        [0.9095, 0.7591],\n",
      "        [0.8788, 0.9118],\n",
      "        [0.8874, 0.9246],\n",
      "        [0.9283, 0.1290],\n",
      "        [0.0327, 0.9076]], device='cuda:0', grad_fn=<SigmoidBackward0>)\n",
      "Epoch:65, combine_score:0.029376, cls_loss:320.580780, transfer_loss:690.696289, total_loss:1011.276978\n",
      "\n"
     ]
    },
    {
     "data": {
      "application/vnd.jupyter.widget-view+json": {
       "model_id": "295f39ff3fe0412f9abac42a53a8ef3b",
       "version_major": 2,
       "version_minor": 0
      },
      "text/plain": [
       "  0%|          | 0/1000 [00:00<?, ?it/s]"
      ]
     },
     "metadata": {},
     "output_type": "display_data"
    },
    {
     "data": {
      "application/vnd.jupyter.widget-view+json": {
       "model_id": "e160e40e6b424c94948d603406ead6ce",
       "version_major": 2,
       "version_minor": 0
      },
      "text/plain": [
       "  0%|          | 0/1386 [00:00<?, ?it/s]"
      ]
     },
     "metadata": {},
     "output_type": "display_data"
    },
    {
     "name": "stdout",
     "output_type": "stream",
     "text": [
      "tensor([[0.7703, 0.9255],\n",
      "        [0.9495, 0.8039],\n",
      "        [0.9481, 0.0258],\n",
      "        [0.9275, 0.7002],\n",
      "        [0.9110, 0.8818],\n",
      "        [0.9509, 0.8809],\n",
      "        [0.9361, 0.0810],\n",
      "        [0.0732, 0.8969]], device='cuda:0', grad_fn=<SigmoidBackward0>)\n",
      "Epoch:66, combine_score:0.028114, cls_loss:320.186554, transfer_loss:690.513916, total_loss:1010.701294\n",
      "\n"
     ]
    },
    {
     "data": {
      "application/vnd.jupyter.widget-view+json": {
       "model_id": "91d73d1fd8ba4fbb9cd4ee0af8b8349f",
       "version_major": 2,
       "version_minor": 0
      },
      "text/plain": [
       "  0%|          | 0/1000 [00:00<?, ?it/s]"
      ]
     },
     "metadata": {},
     "output_type": "display_data"
    },
    {
     "data": {
      "application/vnd.jupyter.widget-view+json": {
       "model_id": "b8c52275915442f98c6adfb9266beacf",
       "version_major": 2,
       "version_minor": 0
      },
      "text/plain": [
       "  0%|          | 0/1386 [00:00<?, ?it/s]"
      ]
     },
     "metadata": {},
     "output_type": "display_data"
    },
    {
     "name": "stdout",
     "output_type": "stream",
     "text": [
      "tensor([[0.7282, 0.9269],\n",
      "        [0.9477, 0.7746],\n",
      "        [0.9423, 0.0329],\n",
      "        [0.9222, 0.5497],\n",
      "        [0.9233, 0.8706],\n",
      "        [0.9493, 0.7398],\n",
      "        [0.9334, 0.0515],\n",
      "        [0.0494, 0.8962]], device='cuda:0', grad_fn=<SigmoidBackward0>)\n",
      "Epoch:67, combine_score:0.031309, cls_loss:318.567963, transfer_loss:690.880188, total_loss:1009.447021\n",
      "\n"
     ]
    },
    {
     "data": {
      "application/vnd.jupyter.widget-view+json": {
       "model_id": "1411265e56354cc08a61864fc5141ced",
       "version_major": 2,
       "version_minor": 0
      },
      "text/plain": [
       "  0%|          | 0/1000 [00:00<?, ?it/s]"
      ]
     },
     "metadata": {},
     "output_type": "display_data"
    },
    {
     "data": {
      "application/vnd.jupyter.widget-view+json": {
       "model_id": "1bf2cc727d1548e4971595ac4b3a390a",
       "version_major": 2,
       "version_minor": 0
      },
      "text/plain": [
       "  0%|          | 0/1386 [00:00<?, ?it/s]"
      ]
     },
     "metadata": {},
     "output_type": "display_data"
    },
    {
     "name": "stdout",
     "output_type": "stream",
     "text": [
      "tensor([[0.7278, 0.9305],\n",
      "        [0.9504, 0.7927],\n",
      "        [0.9317, 0.0903],\n",
      "        [0.8420, 0.8371],\n",
      "        [0.9092, 0.8928],\n",
      "        [0.9461, 0.8852],\n",
      "        [0.9288, 0.1261],\n",
      "        [0.0370, 0.9062]], device='cuda:0', grad_fn=<SigmoidBackward0>)\n",
      "Epoch:68, combine_score:0.028247, cls_loss:319.935791, transfer_loss:693.029236, total_loss:1012.964722\n",
      "\n"
     ]
    },
    {
     "data": {
      "application/vnd.jupyter.widget-view+json": {
       "model_id": "4490e6360f5540fd93b16f256112bb9c",
       "version_major": 2,
       "version_minor": 0
      },
      "text/plain": [
       "  0%|          | 0/1000 [00:00<?, ?it/s]"
      ]
     },
     "metadata": {},
     "output_type": "display_data"
    },
    {
     "data": {
      "application/vnd.jupyter.widget-view+json": {
       "model_id": "0d3f63fc11cf4249aa863cd3c778e74e",
       "version_major": 2,
       "version_minor": 0
      },
      "text/plain": [
       "  0%|          | 0/1386 [00:00<?, ?it/s]"
      ]
     },
     "metadata": {},
     "output_type": "display_data"
    },
    {
     "name": "stdout",
     "output_type": "stream",
     "text": [
      "tensor([[0.8616, 0.9224],\n",
      "        [0.9357, 0.5251],\n",
      "        [0.9526, 0.0120],\n",
      "        [0.9093, 0.6011],\n",
      "        [0.9191, 0.5014],\n",
      "        [0.9342, 0.4689],\n",
      "        [0.9358, 0.0385],\n",
      "        [0.1692, 0.8828]], device='cuda:0', grad_fn=<SigmoidBackward0>)\n",
      "Epoch:69, combine_score:0.035388, cls_loss:315.730103, transfer_loss:692.265076, total_loss:1007.995667\n",
      "\n"
     ]
    },
    {
     "data": {
      "application/vnd.jupyter.widget-view+json": {
       "model_id": "8dbc45980d1e48e09d1f5ecb196ac1fc",
       "version_major": 2,
       "version_minor": 0
      },
      "text/plain": [
       "  0%|          | 0/1000 [00:00<?, ?it/s]"
      ]
     },
     "metadata": {},
     "output_type": "display_data"
    },
    {
     "data": {
      "application/vnd.jupyter.widget-view+json": {
       "model_id": "bf14bb18e02b4b8fabc7d10595a4fa13",
       "version_major": 2,
       "version_minor": 0
      },
      "text/plain": [
       "  0%|          | 0/1386 [00:00<?, ?it/s]"
      ]
     },
     "metadata": {},
     "output_type": "display_data"
    },
    {
     "name": "stdout",
     "output_type": "stream",
     "text": [
      "tensor([[0.6711, 0.9282],\n",
      "        [0.9434, 0.8532],\n",
      "        [0.9445, 0.0438],\n",
      "        [0.9087, 0.7947],\n",
      "        [0.9323, 0.8609],\n",
      "        [0.9512, 0.8466],\n",
      "        [0.9341, 0.1071],\n",
      "        [0.1036, 0.9004]], device='cuda:0', grad_fn=<SigmoidBackward0>)\n",
      "Epoch:70, combine_score:0.031067, cls_loss:323.015533, transfer_loss:691.015137, total_loss:1014.030945\n",
      "\n"
     ]
    },
    {
     "data": {
      "application/vnd.jupyter.widget-view+json": {
       "model_id": "c9dcc3a187b94be19f7547f8813ea82c",
       "version_major": 2,
       "version_minor": 0
      },
      "text/plain": [
       "  0%|          | 0/1000 [00:00<?, ?it/s]"
      ]
     },
     "metadata": {},
     "output_type": "display_data"
    },
    {
     "data": {
      "application/vnd.jupyter.widget-view+json": {
       "model_id": "9882da04785c44be9868e2fef0f1d5e9",
       "version_major": 2,
       "version_minor": 0
      },
      "text/plain": [
       "  0%|          | 0/1386 [00:00<?, ?it/s]"
      ]
     },
     "metadata": {},
     "output_type": "display_data"
    },
    {
     "name": "stdout",
     "output_type": "stream",
     "text": [
      "tensor([[0.3764, 0.9247],\n",
      "        [0.9416, 0.8883],\n",
      "        [0.9364, 0.0628],\n",
      "        [0.8959, 0.8189],\n",
      "        [0.8649, 0.9184],\n",
      "        [0.9293, 0.9232],\n",
      "        [0.9274, 0.1143],\n",
      "        [0.0407, 0.9108]], device='cuda:0', grad_fn=<SigmoidBackward0>)\n",
      "Epoch:71, combine_score:0.029856, cls_loss:320.794922, transfer_loss:690.878662, total_loss:1011.673035\n",
      "\n"
     ]
    },
    {
     "data": {
      "application/vnd.jupyter.widget-view+json": {
       "model_id": "76ba055a1f6f409d9c895caabb4633c1",
       "version_major": 2,
       "version_minor": 0
      },
      "text/plain": [
       "  0%|          | 0/1000 [00:00<?, ?it/s]"
      ]
     },
     "metadata": {},
     "output_type": "display_data"
    },
    {
     "data": {
      "application/vnd.jupyter.widget-view+json": {
       "model_id": "06b9779f9c0940fb98bce075954270e7",
       "version_major": 2,
       "version_minor": 0
      },
      "text/plain": [
       "  0%|          | 0/1386 [00:00<?, ?it/s]"
      ]
     },
     "metadata": {},
     "output_type": "display_data"
    },
    {
     "name": "stdout",
     "output_type": "stream",
     "text": [
      "tensor([[0.7938, 0.9225],\n",
      "        [0.9347, 0.4975],\n",
      "        [0.9401, 0.0293],\n",
      "        [0.9022, 0.6755],\n",
      "        [0.9148, 0.8655],\n",
      "        [0.9380, 0.7206],\n",
      "        [0.9339, 0.0487],\n",
      "        [0.0799, 0.9004]], device='cuda:0', grad_fn=<SigmoidBackward0>)\n",
      "Epoch:72, combine_score:0.032719, cls_loss:319.329071, transfer_loss:691.710876, total_loss:1011.039185\n",
      "\n"
     ]
    },
    {
     "data": {
      "application/vnd.jupyter.widget-view+json": {
       "model_id": "47c6dada11e94cdebe47ab3fd5c6af1c",
       "version_major": 2,
       "version_minor": 0
      },
      "text/plain": [
       "  0%|          | 0/1000 [00:00<?, ?it/s]"
      ]
     },
     "metadata": {},
     "output_type": "display_data"
    },
    {
     "data": {
      "application/vnd.jupyter.widget-view+json": {
       "model_id": "449611a67d884f728eb1836a75aefac8",
       "version_major": 2,
       "version_minor": 0
      },
      "text/plain": [
       "  0%|          | 0/1386 [00:00<?, ?it/s]"
      ]
     },
     "metadata": {},
     "output_type": "display_data"
    },
    {
     "name": "stdout",
     "output_type": "stream",
     "text": [
      "tensor([[0.8996, 0.9334],\n",
      "        [0.9393, 0.3884],\n",
      "        [0.9509, 0.0153],\n",
      "        [0.8429, 0.8397],\n",
      "        [0.8934, 0.9066],\n",
      "        [0.9511, 0.7374],\n",
      "        [0.9390, 0.0318],\n",
      "        [0.0174, 0.9208]], device='cuda:0', grad_fn=<SigmoidBackward0>)\n",
      "Epoch:73, combine_score:0.029242, cls_loss:313.781586, transfer_loss:691.450439, total_loss:1005.231934\n",
      "\n"
     ]
    },
    {
     "data": {
      "application/vnd.jupyter.widget-view+json": {
       "model_id": "4d492bb220244596910c2cc4801c9b98",
       "version_major": 2,
       "version_minor": 0
      },
      "text/plain": [
       "  0%|          | 0/1000 [00:00<?, ?it/s]"
      ]
     },
     "metadata": {},
     "output_type": "display_data"
    },
    {
     "data": {
      "application/vnd.jupyter.widget-view+json": {
       "model_id": "6db8d4b125364d6392e85db4268e2805",
       "version_major": 2,
       "version_minor": 0
      },
      "text/plain": [
       "  0%|          | 0/1386 [00:00<?, ?it/s]"
      ]
     },
     "metadata": {},
     "output_type": "display_data"
    },
    {
     "name": "stdout",
     "output_type": "stream",
     "text": [
      "tensor([[0.4293, 0.9247],\n",
      "        [0.9435, 0.8361],\n",
      "        [0.9410, 0.0379],\n",
      "        [0.8501, 0.8200],\n",
      "        [0.8810, 0.9038],\n",
      "        [0.9387, 0.8957],\n",
      "        [0.9349, 0.0678],\n",
      "        [0.0319, 0.9071]], device='cuda:0', grad_fn=<SigmoidBackward0>)\n",
      "Epoch:74, combine_score:0.028636, cls_loss:315.495636, transfer_loss:692.102783, total_loss:1007.598511\n",
      "\n"
     ]
    },
    {
     "data": {
      "application/vnd.jupyter.widget-view+json": {
       "model_id": "838ea25ae10445d88b1ac5be322526d6",
       "version_major": 2,
       "version_minor": 0
      },
      "text/plain": [
       "  0%|          | 0/1000 [00:00<?, ?it/s]"
      ]
     },
     "metadata": {},
     "output_type": "display_data"
    },
    {
     "data": {
      "application/vnd.jupyter.widget-view+json": {
       "model_id": "bddc9b93ba2b4bbfa85176c4e4ce3404",
       "version_major": 2,
       "version_minor": 0
      },
      "text/plain": [
       "  0%|          | 0/1386 [00:00<?, ?it/s]"
      ]
     },
     "metadata": {},
     "output_type": "display_data"
    },
    {
     "name": "stdout",
     "output_type": "stream",
     "text": [
      "tensor([[0.7500, 0.9351],\n",
      "        [0.9453, 0.6949],\n",
      "        [0.9437, 0.0823],\n",
      "        [0.8972, 0.7524],\n",
      "        [0.8242, 0.9112],\n",
      "        [0.9420, 0.8839],\n",
      "        [0.9457, 0.0555],\n",
      "        [0.0456, 0.9250]], device='cuda:0', grad_fn=<SigmoidBackward0>)\n",
      "Epoch:75, combine_score:0.032546, cls_loss:316.441345, transfer_loss:688.840332, total_loss:1005.280823\n",
      "\n"
     ]
    },
    {
     "data": {
      "application/vnd.jupyter.widget-view+json": {
       "model_id": "f01909f31ecf4591b3291708a255e94d",
       "version_major": 2,
       "version_minor": 0
      },
      "text/plain": [
       "  0%|          | 0/1000 [00:00<?, ?it/s]"
      ]
     },
     "metadata": {},
     "output_type": "display_data"
    },
    {
     "data": {
      "application/vnd.jupyter.widget-view+json": {
       "model_id": "7ddd789d6fa844f085a0f6de23ff8965",
       "version_major": 2,
       "version_minor": 0
      },
      "text/plain": [
       "  0%|          | 0/1386 [00:00<?, ?it/s]"
      ]
     },
     "metadata": {},
     "output_type": "display_data"
    },
    {
     "name": "stdout",
     "output_type": "stream",
     "text": [
      "tensor([[0.8080, 0.9360],\n",
      "        [0.9331, 0.5533],\n",
      "        [0.9349, 0.0450],\n",
      "        [0.8907, 0.7971],\n",
      "        [0.9162, 0.9143],\n",
      "        [0.9480, 0.8480],\n",
      "        [0.9284, 0.0852],\n",
      "        [0.0389, 0.9091]], device='cuda:0', grad_fn=<SigmoidBackward0>)\n",
      "Epoch:76, combine_score:0.030022, cls_loss:317.073273, transfer_loss:689.756592, total_loss:1006.830322\n",
      "\n"
     ]
    },
    {
     "data": {
      "application/vnd.jupyter.widget-view+json": {
       "model_id": "ada8bfe5adbf41c7b72ce28cca4e0f90",
       "version_major": 2,
       "version_minor": 0
      },
      "text/plain": [
       "  0%|          | 0/1000 [00:00<?, ?it/s]"
      ]
     },
     "metadata": {},
     "output_type": "display_data"
    },
    {
     "data": {
      "application/vnd.jupyter.widget-view+json": {
       "model_id": "f7475e9f65094df9bb361d4e0ec28c09",
       "version_major": 2,
       "version_minor": 0
      },
      "text/plain": [
       "  0%|          | 0/1386 [00:00<?, ?it/s]"
      ]
     },
     "metadata": {},
     "output_type": "display_data"
    },
    {
     "name": "stdout",
     "output_type": "stream",
     "text": [
      "tensor([[0.6209, 0.9255],\n",
      "        [0.9469, 0.8031],\n",
      "        [0.9504, 0.0296],\n",
      "        [0.8790, 0.7895],\n",
      "        [0.9401, 0.8766],\n",
      "        [0.9547, 0.8100],\n",
      "        [0.9357, 0.0899],\n",
      "        [0.0325, 0.9116]], device='cuda:0', grad_fn=<SigmoidBackward0>)\n",
      "Epoch:77, combine_score:0.028713, cls_loss:317.784698, transfer_loss:692.469666, total_loss:1010.254089\n",
      "\n"
     ]
    },
    {
     "data": {
      "application/vnd.jupyter.widget-view+json": {
       "model_id": "9dc90f54d9f14d15874baa611db8a32d",
       "version_major": 2,
       "version_minor": 0
      },
      "text/plain": [
       "  0%|          | 0/1000 [00:00<?, ?it/s]"
      ]
     },
     "metadata": {},
     "output_type": "display_data"
    },
    {
     "data": {
      "application/vnd.jupyter.widget-view+json": {
       "model_id": "540cda057deb4c3ba99d6d4d2e71542e",
       "version_major": 2,
       "version_minor": 0
      },
      "text/plain": [
       "  0%|          | 0/1386 [00:00<?, ?it/s]"
      ]
     },
     "metadata": {},
     "output_type": "display_data"
    },
    {
     "name": "stdout",
     "output_type": "stream",
     "text": [
      "tensor([[0.3691, 0.9213],\n",
      "        [0.9209, 0.8841],\n",
      "        [0.9410, 0.0462],\n",
      "        [0.8755, 0.7722],\n",
      "        [0.8960, 0.9031],\n",
      "        [0.9370, 0.8828],\n",
      "        [0.9309, 0.2345],\n",
      "        [0.0708, 0.9112]], device='cuda:0', grad_fn=<SigmoidBackward0>)\n",
      "Epoch:78, combine_score:0.029252, cls_loss:318.054840, transfer_loss:692.304321, total_loss:1010.359253\n",
      "\n"
     ]
    },
    {
     "data": {
      "application/vnd.jupyter.widget-view+json": {
       "model_id": "a47e9a4e609e4de8ae6bfecd05570f46",
       "version_major": 2,
       "version_minor": 0
      },
      "text/plain": [
       "  0%|          | 0/1000 [00:00<?, ?it/s]"
      ]
     },
     "metadata": {},
     "output_type": "display_data"
    },
    {
     "data": {
      "application/vnd.jupyter.widget-view+json": {
       "model_id": "4881645dc0bd4cef99675e0a155ab632",
       "version_major": 2,
       "version_minor": 0
      },
      "text/plain": [
       "  0%|          | 0/1386 [00:00<?, ?it/s]"
      ]
     },
     "metadata": {},
     "output_type": "display_data"
    },
    {
     "name": "stdout",
     "output_type": "stream",
     "text": [
      "tensor([[0.6320, 0.9283],\n",
      "        [0.9201, 0.8354],\n",
      "        [0.9411, 0.0192],\n",
      "        [0.8968, 0.8346],\n",
      "        [0.9114, 0.8633],\n",
      "        [0.9269, 0.8807],\n",
      "        [0.9309, 0.1622],\n",
      "        [0.0918, 0.9109]], device='cuda:0', grad_fn=<SigmoidBackward0>)\n",
      "Epoch:79, combine_score:0.031648, cls_loss:316.206726, transfer_loss:690.891357, total_loss:1007.097107\n",
      "\n"
     ]
    },
    {
     "data": {
      "application/vnd.jupyter.widget-view+json": {
       "model_id": "9354645751494e2a92aa4135d0a27131",
       "version_major": 2,
       "version_minor": 0
      },
      "text/plain": [
       "  0%|          | 0/1000 [00:00<?, ?it/s]"
      ]
     },
     "metadata": {},
     "output_type": "display_data"
    },
    {
     "data": {
      "application/vnd.jupyter.widget-view+json": {
       "model_id": "306c105079ce49b18cd1b616e494f7db",
       "version_major": 2,
       "version_minor": 0
      },
      "text/plain": [
       "  0%|          | 0/1386 [00:00<?, ?it/s]"
      ]
     },
     "metadata": {},
     "output_type": "display_data"
    },
    {
     "name": "stdout",
     "output_type": "stream",
     "text": [
      "tensor([[0.8428, 0.9300],\n",
      "        [0.9404, 0.7940],\n",
      "        [0.9505, 0.0341],\n",
      "        [0.9081, 0.8210],\n",
      "        [0.9287, 0.7793],\n",
      "        [0.9452, 0.7951],\n",
      "        [0.9353, 0.0988],\n",
      "        [0.2201, 0.9066]], device='cuda:0', grad_fn=<SigmoidBackward0>)\n",
      "Epoch:80, combine_score:0.033940, cls_loss:313.374451, transfer_loss:690.403442, total_loss:1003.778137\n",
      "\n"
     ]
    },
    {
     "data": {
      "application/vnd.jupyter.widget-view+json": {
       "model_id": "c87c341e513b4bef923ce6464a58b08b",
       "version_major": 2,
       "version_minor": 0
      },
      "text/plain": [
       "  0%|          | 0/1000 [00:00<?, ?it/s]"
      ]
     },
     "metadata": {},
     "output_type": "display_data"
    },
    {
     "data": {
      "application/vnd.jupyter.widget-view+json": {
       "model_id": "8c820087e81c42388e8e05b7c59d2fae",
       "version_major": 2,
       "version_minor": 0
      },
      "text/plain": [
       "  0%|          | 0/1386 [00:00<?, ?it/s]"
      ]
     },
     "metadata": {},
     "output_type": "display_data"
    },
    {
     "name": "stdout",
     "output_type": "stream",
     "text": [
      "tensor([[0.8114, 0.9272],\n",
      "        [0.9354, 0.6423],\n",
      "        [0.9489, 0.0216],\n",
      "        [0.9110, 0.6444],\n",
      "        [0.9279, 0.6543],\n",
      "        [0.9412, 0.8036],\n",
      "        [0.9404, 0.0344],\n",
      "        [0.0642, 0.9069]], device='cuda:0', grad_fn=<SigmoidBackward0>)\n",
      "Epoch:81, combine_score:0.030136, cls_loss:318.310181, transfer_loss:690.552246, total_loss:1008.862000\n",
      "\n"
     ]
    },
    {
     "data": {
      "application/vnd.jupyter.widget-view+json": {
       "model_id": "6e34c7f2183d4a048953add2ab24d031",
       "version_major": 2,
       "version_minor": 0
      },
      "text/plain": [
       "  0%|          | 0/1000 [00:00<?, ?it/s]"
      ]
     },
     "metadata": {},
     "output_type": "display_data"
    },
    {
     "data": {
      "application/vnd.jupyter.widget-view+json": {
       "model_id": "85b7473321be48489fbb7ffb672aa4ba",
       "version_major": 2,
       "version_minor": 0
      },
      "text/plain": [
       "  0%|          | 0/1386 [00:00<?, ?it/s]"
      ]
     },
     "metadata": {},
     "output_type": "display_data"
    },
    {
     "name": "stdout",
     "output_type": "stream",
     "text": [
      "tensor([[0.8854, 0.9275],\n",
      "        [0.9406, 0.3767],\n",
      "        [0.9520, 0.0163],\n",
      "        [0.9211, 0.5752],\n",
      "        [0.9243, 0.8497],\n",
      "        [0.9442, 0.6512],\n",
      "        [0.9422, 0.0309],\n",
      "        [0.0915, 0.9133]], device='cuda:0', grad_fn=<SigmoidBackward0>)\n",
      "Epoch:82, combine_score:0.035177, cls_loss:312.692444, transfer_loss:691.188354, total_loss:1003.880005\n",
      "\n"
     ]
    },
    {
     "data": {
      "application/vnd.jupyter.widget-view+json": {
       "model_id": "1450e61a977f45afb3b0815f9bf581a4",
       "version_major": 2,
       "version_minor": 0
      },
      "text/plain": [
       "  0%|          | 0/1000 [00:00<?, ?it/s]"
      ]
     },
     "metadata": {},
     "output_type": "display_data"
    },
    {
     "data": {
      "application/vnd.jupyter.widget-view+json": {
       "model_id": "5abf58135015400bab7804a1f4744b6e",
       "version_major": 2,
       "version_minor": 0
      },
      "text/plain": [
       "  0%|          | 0/1386 [00:00<?, ?it/s]"
      ]
     },
     "metadata": {},
     "output_type": "display_data"
    },
    {
     "name": "stdout",
     "output_type": "stream",
     "text": [
      "tensor([[0.3632, 0.9165],\n",
      "        [0.9441, 0.8354],\n",
      "        [0.9496, 0.0208],\n",
      "        [0.8896, 0.7453],\n",
      "        [0.9193, 0.8216],\n",
      "        [0.9431, 0.8378],\n",
      "        [0.9339, 0.0954],\n",
      "        [0.1386, 0.8958]], device='cuda:0', grad_fn=<SigmoidBackward0>)\n",
      "Epoch:83, combine_score:0.030044, cls_loss:308.657074, transfer_loss:693.067749, total_loss:1001.724854\n",
      "\n"
     ]
    },
    {
     "data": {
      "application/vnd.jupyter.widget-view+json": {
       "model_id": "4158f5b61b8e4ce98a348e0155f09b5b",
       "version_major": 2,
       "version_minor": 0
      },
      "text/plain": [
       "  0%|          | 0/1000 [00:00<?, ?it/s]"
      ]
     },
     "metadata": {},
     "output_type": "display_data"
    },
    {
     "data": {
      "application/vnd.jupyter.widget-view+json": {
       "model_id": "66407630c6b94d6e9a270c10077549f5",
       "version_major": 2,
       "version_minor": 0
      },
      "text/plain": [
       "  0%|          | 0/1386 [00:00<?, ?it/s]"
      ]
     },
     "metadata": {},
     "output_type": "display_data"
    },
    {
     "name": "stdout",
     "output_type": "stream",
     "text": [
      "tensor([[0.8455, 0.9318],\n",
      "        [0.9510, 0.6662],\n",
      "        [0.9441, 0.0247],\n",
      "        [0.9210, 0.5662],\n",
      "        [0.9368, 0.5101],\n",
      "        [0.9543, 0.7490],\n",
      "        [0.9398, 0.0508],\n",
      "        [0.3742, 0.9001]], device='cuda:0', grad_fn=<SigmoidBackward0>)\n",
      "Epoch:84, combine_score:0.039322, cls_loss:313.280640, transfer_loss:693.110779, total_loss:1006.391357\n",
      "\n"
     ]
    },
    {
     "data": {
      "application/vnd.jupyter.widget-view+json": {
       "model_id": "39afbb19535a425bbfb1bd53768dec56",
       "version_major": 2,
       "version_minor": 0
      },
      "text/plain": [
       "  0%|          | 0/1000 [00:00<?, ?it/s]"
      ]
     },
     "metadata": {},
     "output_type": "display_data"
    },
    {
     "data": {
      "application/vnd.jupyter.widget-view+json": {
       "model_id": "474a6ca1ae244764b4872b78ac87aec0",
       "version_major": 2,
       "version_minor": 0
      },
      "text/plain": [
       "  0%|          | 0/1386 [00:00<?, ?it/s]"
      ]
     },
     "metadata": {},
     "output_type": "display_data"
    },
    {
     "name": "stdout",
     "output_type": "stream",
     "text": [
      "tensor([[0.6129, 0.9264],\n",
      "        [0.9418, 0.8433],\n",
      "        [0.9508, 0.0315],\n",
      "        [0.9105, 0.7381],\n",
      "        [0.9317, 0.7619],\n",
      "        [0.9257, 0.9042],\n",
      "        [0.9478, 0.0413],\n",
      "        [0.0913, 0.9080]], device='cuda:0', grad_fn=<SigmoidBackward0>)\n",
      "Epoch:85, combine_score:0.029109, cls_loss:311.904999, transfer_loss:692.718933, total_loss:1004.623291\n",
      "\n"
     ]
    },
    {
     "data": {
      "application/vnd.jupyter.widget-view+json": {
       "model_id": "11a93219c6e1424f96efae4ab62c1350",
       "version_major": 2,
       "version_minor": 0
      },
      "text/plain": [
       "  0%|          | 0/1000 [00:00<?, ?it/s]"
      ]
     },
     "metadata": {},
     "output_type": "display_data"
    },
    {
     "data": {
      "application/vnd.jupyter.widget-view+json": {
       "model_id": "de8c49cec2aa47ae99ad1215b0bd255a",
       "version_major": 2,
       "version_minor": 0
      },
      "text/plain": [
       "  0%|          | 0/1386 [00:00<?, ?it/s]"
      ]
     },
     "metadata": {},
     "output_type": "display_data"
    },
    {
     "name": "stdout",
     "output_type": "stream",
     "text": [
      "tensor([[0.8618, 0.9305],\n",
      "        [0.9462, 0.5072],\n",
      "        [0.9393, 0.0208],\n",
      "        [0.8862, 0.7684],\n",
      "        [0.9299, 0.8876],\n",
      "        [0.9519, 0.7152],\n",
      "        [0.9343, 0.0520],\n",
      "        [0.0497, 0.9195]], device='cuda:0', grad_fn=<SigmoidBackward0>)\n",
      "Epoch:86, combine_score:0.032967, cls_loss:309.119476, transfer_loss:691.848083, total_loss:1000.967773\n",
      "\n"
     ]
    },
    {
     "data": {
      "application/vnd.jupyter.widget-view+json": {
       "model_id": "91233750d7f24fe89b5f97a0a1de5efd",
       "version_major": 2,
       "version_minor": 0
      },
      "text/plain": [
       "  0%|          | 0/1000 [00:00<?, ?it/s]"
      ]
     },
     "metadata": {},
     "output_type": "display_data"
    },
    {
     "data": {
      "application/vnd.jupyter.widget-view+json": {
       "model_id": "c4ce9c3ac42f4646ae9f727778e9233c",
       "version_major": 2,
       "version_minor": 0
      },
      "text/plain": [
       "  0%|          | 0/1386 [00:00<?, ?it/s]"
      ]
     },
     "metadata": {},
     "output_type": "display_data"
    },
    {
     "name": "stdout",
     "output_type": "stream",
     "text": [
      "tensor([[0.6840, 0.9253],\n",
      "        [0.9552, 0.8214],\n",
      "        [0.9366, 0.0294],\n",
      "        [0.8808, 0.7672],\n",
      "        [0.9320, 0.8186],\n",
      "        [0.9523, 0.8680],\n",
      "        [0.9332, 0.0823],\n",
      "        [0.0766, 0.9144]], device='cuda:0', grad_fn=<SigmoidBackward0>)\n",
      "Epoch:87, combine_score:0.029520, cls_loss:309.566650, transfer_loss:692.049988, total_loss:1001.616516\n",
      "\n"
     ]
    },
    {
     "data": {
      "application/vnd.jupyter.widget-view+json": {
       "model_id": "723f9c042e5b4607ab82576926990fc2",
       "version_major": 2,
       "version_minor": 0
      },
      "text/plain": [
       "  0%|          | 0/1000 [00:00<?, ?it/s]"
      ]
     },
     "metadata": {},
     "output_type": "display_data"
    },
    {
     "data": {
      "application/vnd.jupyter.widget-view+json": {
       "model_id": "83861fb1b13e4473a7925eae25dbf8e4",
       "version_major": 2,
       "version_minor": 0
      },
      "text/plain": [
       "  0%|          | 0/1386 [00:00<?, ?it/s]"
      ]
     },
     "metadata": {},
     "output_type": "display_data"
    },
    {
     "name": "stdout",
     "output_type": "stream",
     "text": [
      "tensor([[0.7041, 0.9344],\n",
      "        [0.9468, 0.7555],\n",
      "        [0.9397, 0.0287],\n",
      "        [0.8932, 0.7853],\n",
      "        [0.9277, 0.8126],\n",
      "        [0.9503, 0.8205],\n",
      "        [0.9316, 0.0949],\n",
      "        [0.0626, 0.9159]], device='cuda:0', grad_fn=<SigmoidBackward0>)\n",
      "Epoch:88, combine_score:0.029643, cls_loss:309.614166, transfer_loss:691.601562, total_loss:1001.215942\n",
      "\n"
     ]
    },
    {
     "data": {
      "application/vnd.jupyter.widget-view+json": {
       "model_id": "57fe9f7486f247418ec20cbb339ec9aa",
       "version_major": 2,
       "version_minor": 0
      },
      "text/plain": [
       "  0%|          | 0/1000 [00:00<?, ?it/s]"
      ]
     },
     "metadata": {},
     "output_type": "display_data"
    },
    {
     "data": {
      "application/vnd.jupyter.widget-view+json": {
       "model_id": "9ea8167774804085ba02fcd11664eb9c",
       "version_major": 2,
       "version_minor": 0
      },
      "text/plain": [
       "  0%|          | 0/1386 [00:00<?, ?it/s]"
      ]
     },
     "metadata": {},
     "output_type": "display_data"
    },
    {
     "name": "stdout",
     "output_type": "stream",
     "text": [
      "tensor([[0.4675, 0.9152],\n",
      "        [0.9155, 0.8626],\n",
      "        [0.9372, 0.0322],\n",
      "        [0.8677, 0.8624],\n",
      "        [0.9283, 0.7685],\n",
      "        [0.8509, 0.9012],\n",
      "        [0.9350, 0.1388],\n",
      "        [0.0915, 0.9101]], device='cuda:0', grad_fn=<SigmoidBackward0>)\n",
      "Epoch:89, combine_score:0.026488, cls_loss:309.063629, transfer_loss:692.089050, total_loss:1001.151367\n",
      "\n"
     ]
    },
    {
     "data": {
      "application/vnd.jupyter.widget-view+json": {
       "model_id": "dd8cffbc01094a30b7c67e00eedcf6ac",
       "version_major": 2,
       "version_minor": 0
      },
      "text/plain": [
       "  0%|          | 0/1000 [00:00<?, ?it/s]"
      ]
     },
     "metadata": {},
     "output_type": "display_data"
    },
    {
     "data": {
      "application/vnd.jupyter.widget-view+json": {
       "model_id": "a555ffb110b14af48f732fc3380e1eef",
       "version_major": 2,
       "version_minor": 0
      },
      "text/plain": [
       "  0%|          | 0/1386 [00:00<?, ?it/s]"
      ]
     },
     "metadata": {},
     "output_type": "display_data"
    },
    {
     "name": "stdout",
     "output_type": "stream",
     "text": [
      "tensor([[0.7023, 0.9297],\n",
      "        [0.9451, 0.5915],\n",
      "        [0.9547, 0.0076],\n",
      "        [0.8983, 0.6979],\n",
      "        [0.9347, 0.3093],\n",
      "        [0.9478, 0.6928],\n",
      "        [0.9398, 0.0339],\n",
      "        [0.5205, 0.8969]], device='cuda:0', grad_fn=<SigmoidBackward0>)\n",
      "Epoch:90, combine_score:0.032336, cls_loss:310.108246, transfer_loss:687.410706, total_loss:997.519897\n",
      "\n"
     ]
    },
    {
     "data": {
      "application/vnd.jupyter.widget-view+json": {
       "model_id": "43e25afab3eb40278d811ef3b9620a1f",
       "version_major": 2,
       "version_minor": 0
      },
      "text/plain": [
       "  0%|          | 0/1000 [00:00<?, ?it/s]"
      ]
     },
     "metadata": {},
     "output_type": "display_data"
    },
    {
     "data": {
      "application/vnd.jupyter.widget-view+json": {
       "model_id": "fe8aeedc84654967b2555090ecdf9b46",
       "version_major": 2,
       "version_minor": 0
      },
      "text/plain": [
       "  0%|          | 0/1386 [00:00<?, ?it/s]"
      ]
     },
     "metadata": {},
     "output_type": "display_data"
    },
    {
     "name": "stdout",
     "output_type": "stream",
     "text": [
      "tensor([[0.1365, 0.9328],\n",
      "        [0.9438, 0.8510],\n",
      "        [0.9447, 0.0196],\n",
      "        [0.6305, 0.8989],\n",
      "        [0.9242, 0.9071],\n",
      "        [0.9230, 0.9235],\n",
      "        [0.9454, 0.1113],\n",
      "        [0.0279, 0.9303]], device='cuda:0', grad_fn=<SigmoidBackward0>)\n",
      "Epoch:91, combine_score:0.041637, cls_loss:313.557831, transfer_loss:690.135315, total_loss:1003.692993\n",
      "\n"
     ]
    },
    {
     "data": {
      "application/vnd.jupyter.widget-view+json": {
       "model_id": "8b05f31cb4ca441ab2ac73f00b320a0b",
       "version_major": 2,
       "version_minor": 0
      },
      "text/plain": [
       "  0%|          | 0/1000 [00:00<?, ?it/s]"
      ]
     },
     "metadata": {},
     "output_type": "display_data"
    },
    {
     "data": {
      "application/vnd.jupyter.widget-view+json": {
       "model_id": "b857fdeccf054c5e805369fe403782cd",
       "version_major": 2,
       "version_minor": 0
      },
      "text/plain": [
       "  0%|          | 0/1386 [00:00<?, ?it/s]"
      ]
     },
     "metadata": {},
     "output_type": "display_data"
    },
    {
     "name": "stdout",
     "output_type": "stream",
     "text": [
      "tensor([[0.4663, 0.9303],\n",
      "        [0.9478, 0.7760],\n",
      "        [0.9448, 0.0249],\n",
      "        [0.8802, 0.8315],\n",
      "        [0.9198, 0.8958],\n",
      "        [0.9299, 0.9146],\n",
      "        [0.9443, 0.1029],\n",
      "        [0.0476, 0.9188]], device='cuda:0', grad_fn=<SigmoidBackward0>)\n",
      "Epoch:92, combine_score:0.027558, cls_loss:310.955933, transfer_loss:692.740295, total_loss:1003.695618\n",
      "\n"
     ]
    },
    {
     "data": {
      "application/vnd.jupyter.widget-view+json": {
       "model_id": "05dd6b46bc074983a3890391ab6968d5",
       "version_major": 2,
       "version_minor": 0
      },
      "text/plain": [
       "  0%|          | 0/1000 [00:00<?, ?it/s]"
      ]
     },
     "metadata": {},
     "output_type": "display_data"
    },
    {
     "data": {
      "application/vnd.jupyter.widget-view+json": {
       "model_id": "f490660c5a2443449bba551bee9a0c63",
       "version_major": 2,
       "version_minor": 0
      },
      "text/plain": [
       "  0%|          | 0/1386 [00:00<?, ?it/s]"
      ]
     },
     "metadata": {},
     "output_type": "display_data"
    },
    {
     "name": "stdout",
     "output_type": "stream",
     "text": [
      "tensor([[0.6802, 0.9261],\n",
      "        [0.9457, 0.5833],\n",
      "        [0.9456, 0.0213],\n",
      "        [0.8930, 0.7664],\n",
      "        [0.9307, 0.8397],\n",
      "        [0.9473, 0.8677],\n",
      "        [0.9435, 0.0686],\n",
      "        [0.0730, 0.9095]], device='cuda:0', grad_fn=<SigmoidBackward0>)\n",
      "Epoch:93, combine_score:0.028368, cls_loss:309.938202, transfer_loss:692.016418, total_loss:1001.953918\n",
      "\n"
     ]
    },
    {
     "data": {
      "application/vnd.jupyter.widget-view+json": {
       "model_id": "5caed2ca05af4bcf9868663807c53876",
       "version_major": 2,
       "version_minor": 0
      },
      "text/plain": [
       "  0%|          | 0/1000 [00:00<?, ?it/s]"
      ]
     },
     "metadata": {},
     "output_type": "display_data"
    },
    {
     "data": {
      "application/vnd.jupyter.widget-view+json": {
       "model_id": "7084a76b5afb4d68822953fb42606d06",
       "version_major": 2,
       "version_minor": 0
      },
      "text/plain": [
       "  0%|          | 0/1386 [00:00<?, ?it/s]"
      ]
     },
     "metadata": {},
     "output_type": "display_data"
    },
    {
     "name": "stdout",
     "output_type": "stream",
     "text": [
      "tensor([[0.3300, 0.9138],\n",
      "        [0.9516, 0.8626],\n",
      "        [0.9374, 0.0837],\n",
      "        [0.8920, 0.8207],\n",
      "        [0.9123, 0.9141],\n",
      "        [0.9432, 0.9247],\n",
      "        [0.9378, 0.1523],\n",
      "        [0.0217, 0.9246]], device='cuda:0', grad_fn=<SigmoidBackward0>)\n",
      "Epoch:94, combine_score:0.034464, cls_loss:310.194916, transfer_loss:692.315430, total_loss:1002.511292\n",
      "\n"
     ]
    },
    {
     "data": {
      "application/vnd.jupyter.widget-view+json": {
       "model_id": "7e0e321945034ba5968b4f20fea5725e",
       "version_major": 2,
       "version_minor": 0
      },
      "text/plain": [
       "  0%|          | 0/1000 [00:00<?, ?it/s]"
      ]
     },
     "metadata": {},
     "output_type": "display_data"
    },
    {
     "data": {
      "application/vnd.jupyter.widget-view+json": {
       "model_id": "04f7ad9c6e5a4a55b3a9c651cbae14fa",
       "version_major": 2,
       "version_minor": 0
      },
      "text/plain": [
       "  0%|          | 0/1386 [00:00<?, ?it/s]"
      ]
     },
     "metadata": {},
     "output_type": "display_data"
    },
    {
     "name": "stdout",
     "output_type": "stream",
     "text": [
      "tensor([[0.9018, 0.9271],\n",
      "        [0.9408, 0.3520],\n",
      "        [0.9402, 0.0381],\n",
      "        [0.9082, 0.6533],\n",
      "        [0.9278, 0.8905],\n",
      "        [0.9470, 0.7064],\n",
      "        [0.9373, 0.0466],\n",
      "        [0.0593, 0.9181]], device='cuda:0', grad_fn=<SigmoidBackward0>)\n",
      "Epoch:95, combine_score:0.035630, cls_loss:308.764160, transfer_loss:691.897339, total_loss:1000.662048\n",
      "\n"
     ]
    },
    {
     "data": {
      "application/vnd.jupyter.widget-view+json": {
       "model_id": "9782cac13e4e446485eac4658f33de8c",
       "version_major": 2,
       "version_minor": 0
      },
      "text/plain": [
       "  0%|          | 0/1000 [00:00<?, ?it/s]"
      ]
     },
     "metadata": {},
     "output_type": "display_data"
    },
    {
     "data": {
      "application/vnd.jupyter.widget-view+json": {
       "model_id": "dc8b04bf1737495cb3a7bb2f18e927d8",
       "version_major": 2,
       "version_minor": 0
      },
      "text/plain": [
       "  0%|          | 0/1386 [00:00<?, ?it/s]"
      ]
     },
     "metadata": {},
     "output_type": "display_data"
    },
    {
     "name": "stdout",
     "output_type": "stream",
     "text": [
      "tensor([[0.4408, 0.9190],\n",
      "        [0.9512, 0.7982],\n",
      "        [0.9367, 0.0444],\n",
      "        [0.9106, 0.8813],\n",
      "        [0.9250, 0.9184],\n",
      "        [0.8902, 0.9194],\n",
      "        [0.9361, 0.1180],\n",
      "        [0.0433, 0.9258]], device='cuda:0', grad_fn=<SigmoidBackward0>)\n",
      "Epoch:96, combine_score:0.027814, cls_loss:308.002655, transfer_loss:691.983521, total_loss:999.987549\n",
      "\n"
     ]
    },
    {
     "data": {
      "application/vnd.jupyter.widget-view+json": {
       "model_id": "7c4b314de68d4ed7bb917d5329dea5f9",
       "version_major": 2,
       "version_minor": 0
      },
      "text/plain": [
       "  0%|          | 0/1000 [00:00<?, ?it/s]"
      ]
     },
     "metadata": {},
     "output_type": "display_data"
    },
    {
     "data": {
      "application/vnd.jupyter.widget-view+json": {
       "model_id": "011f1d7ebb5b411dbf27216051fbcf58",
       "version_major": 2,
       "version_minor": 0
      },
      "text/plain": [
       "  0%|          | 0/1386 [00:00<?, ?it/s]"
      ]
     },
     "metadata": {},
     "output_type": "display_data"
    },
    {
     "name": "stdout",
     "output_type": "stream",
     "text": [
      "tensor([[0.6270, 0.9253],\n",
      "        [0.9440, 0.7984],\n",
      "        [0.9431, 0.0274],\n",
      "        [0.8992, 0.7657],\n",
      "        [0.9378, 0.8188],\n",
      "        [0.9363, 0.9012],\n",
      "        [0.9369, 0.0838],\n",
      "        [0.1293, 0.9225]], device='cuda:0', grad_fn=<SigmoidBackward0>)\n",
      "Epoch:97, combine_score:0.027432, cls_loss:307.231842, transfer_loss:692.351746, total_loss:999.583740\n",
      "\n"
     ]
    },
    {
     "data": {
      "application/vnd.jupyter.widget-view+json": {
       "model_id": "070c2e20a93b4d19a332b38a24bff646",
       "version_major": 2,
       "version_minor": 0
      },
      "text/plain": [
       "  0%|          | 0/1000 [00:00<?, ?it/s]"
      ]
     },
     "metadata": {},
     "output_type": "display_data"
    },
    {
     "data": {
      "application/vnd.jupyter.widget-view+json": {
       "model_id": "ce7d0605a9bc474699f961df31a49fa4",
       "version_major": 2,
       "version_minor": 0
      },
      "text/plain": [
       "  0%|          | 0/1386 [00:00<?, ?it/s]"
      ]
     },
     "metadata": {},
     "output_type": "display_data"
    },
    {
     "name": "stdout",
     "output_type": "stream",
     "text": [
      "tensor([[0.8360, 0.9362],\n",
      "        [0.9449, 0.5341],\n",
      "        [0.9397, 0.0263],\n",
      "        [0.9083, 0.7348],\n",
      "        [0.9297, 0.8626],\n",
      "        [0.9475, 0.8925],\n",
      "        [0.9396, 0.0546],\n",
      "        [0.0748, 0.9224]], device='cuda:0', grad_fn=<SigmoidBackward0>)\n",
      "Epoch:98, combine_score:0.029208, cls_loss:300.962494, transfer_loss:692.305420, total_loss:993.267761\n",
      "\n"
     ]
    },
    {
     "data": {
      "application/vnd.jupyter.widget-view+json": {
       "model_id": "6ceb1205b275466ea5faa246ff9fcbc4",
       "version_major": 2,
       "version_minor": 0
      },
      "text/plain": [
       "  0%|          | 0/1000 [00:00<?, ?it/s]"
      ]
     },
     "metadata": {},
     "output_type": "display_data"
    },
    {
     "data": {
      "application/vnd.jupyter.widget-view+json": {
       "model_id": "ffc88923391d4e35884d94c7528fefac",
       "version_major": 2,
       "version_minor": 0
      },
      "text/plain": [
       "  0%|          | 0/1386 [00:00<?, ?it/s]"
      ]
     },
     "metadata": {},
     "output_type": "display_data"
    },
    {
     "name": "stdout",
     "output_type": "stream",
     "text": [
      "tensor([[0.8959, 0.9238],\n",
      "        [0.9433, 0.5732],\n",
      "        [0.9560, 0.0085],\n",
      "        [0.8786, 0.8196],\n",
      "        [0.9260, 0.7095],\n",
      "        [0.9418, 0.6047],\n",
      "        [0.9414, 0.0477],\n",
      "        [0.1902, 0.9089]], device='cuda:0', grad_fn=<SigmoidBackward0>)\n",
      "Epoch:99, combine_score:0.032366, cls_loss:313.494049, transfer_loss:689.477905, total_loss:1002.972168\n",
      "\n"
     ]
    }
   ],
   "source": [
    "parser = argparse.ArgumentParser(description='baseline')\n",
    "# Hyperparameters\n",
    "parser.add_argument('--batch_size', type=int, default=8)\n",
    "parser.add_argument('--num_epochs', type=int, default=100)\n",
    "parser.add_argument('--is_scheduler', action='store_true', default=True,help='use scheduler(default-False)')\n",
    "\n",
    "# model\n",
    "parser.add_argument('--seed', type=int, default=42, \n",
    "                    help='random seed (default: 42)')\n",
    "\n",
    "\n",
    "##modify\n",
    "parser.add_argument('--lr', '--learning-rate', default=1e-2, type=float,\n",
    "                        metavar='LR', help='initial learning rate', dest='lr')\n",
    "parser.add_argument('--lr-gamma', default=0.001,\n",
    "                    type=float, help='parameter for lr scheduler')\n",
    "parser.add_argument('--lr-decay', default=0.75,\n",
    "                    type=float, help='parameter for lr scheduler')\n",
    "parser.add_argument('--momentum', default=0.9,\n",
    "                    type=float, metavar='M', help='momentum')\n",
    "parser.add_argument('--wd', '--weight-decay', default=1e-3, type=float,\n",
    "                    metavar='W', help='weight decay (default: 1e-3)',\n",
    "                    dest='weight_decay')\n",
    "\n",
    "###\n",
    "parser.add_argument('--model_path', type=str,\n",
    "                    default=None, help='Model checkpoint')\n",
    "parser.add_argument('--comment', type=str, default=None,\n",
    "                    help='Comment to describe the saved model')\n",
    "\n",
    "# Auxiliary arguments\n",
    "parser.add_argument('--eval_output', type=str, default='epoch7.csv',\n",
    "                    help='Path to save the evaluation result')\n",
    "parser.add_argument('--eval', action='store_true', default=False,\n",
    "                    help='eval mode')\n",
    "parser.add_argument('--is_eval', action='store_true', default=False,help='eval database')\n",
    "parser.add_argument('--eval_part', type=int, default=0)\n",
    "\n",
    "# backend options\n",
    "parser.add_argument('--cudnn-deterministic-toggle', action='store_false', \\\n",
    "                    default=True, \n",
    "                    help='use cudnn-deterministic? (default true)')    \n",
    "\n",
    "parser.add_argument('--cudnn-benchmark-toggle', action='store_true', \\\n",
    "                    default=False, \n",
    "                    help='use cudnn-benchmark? (default false)') \n",
    "\n",
    "parser.add_argument('--temperature', default=2.0,\n",
    "                        type=float, help='parameter temperature scaling')\n",
    "parser.add_argument('--rho', type=float, default=0.05, help=\"GPU ID\")\n",
    "##===================================================Rawboost data augmentation ======================================================================#\n",
    "\n",
    "parser.add_argument('--algo', type=int, default=0, \n",
    "                help='Rawboost algos discriptions. 0: No augmentation 1: LnL_convolutive_noise, 2: ISD_additive_noise, 3: SSI_additive_noise, 4: series algo (1+2+3), \\\n",
    "                5: series algo (1+2), 6: series algo (1+3), 7: series algo(2+3), 8: parallel algo(1,2) .default=0]')\n",
    "\n",
    "# LnL_convolutive_noise parameters\n",
    "parser.add_argument('--nBands', type=int, default=5, \n",
    "                help='number of notch filters.The higher the number of bands, the more aggresive the distortions is.[default=5]')\n",
    "parser.add_argument('--minF', type=int, default=20, \n",
    "                help='minimum centre frequency [Hz] of notch filter.[default=20] ')\n",
    "parser.add_argument('--maxF', type=int, default=8000, \n",
    "                help='maximum centre frequency [Hz] (<sr/2)  of notch filter.[default=8000]')\n",
    "parser.add_argument('--minBW', type=int, default=100, \n",
    "                help='minimum width [Hz] of filter.[default=100] ')\n",
    "parser.add_argument('--maxBW', type=int, default=1000, \n",
    "                help='maximum width [Hz] of filter.[default=1000] ')\n",
    "parser.add_argument('--minCoeff', type=int, default=10, \n",
    "                help='minimum filter coefficients. More the filter coefficients more ideal the filter slope.[default=10]')\n",
    "parser.add_argument('--maxCoeff', type=int, default=100, \n",
    "                help='maximum filter coefficients. More the filter coefficients more ideal the filter slope.[default=100]')\n",
    "parser.add_argument('--minG', type=int, default=0, \n",
    "                help='minimum gain factor of linear component.[default=0]')\n",
    "parser.add_argument('--maxG', type=int, default=0, \n",
    "                help='maximum gain factor of linear component.[default=0]')\n",
    "parser.add_argument('--minBiasLinNonLin', type=int, default=5, \n",
    "                help=' minimum gain difference between linear and non-linear components.[default=5]')\n",
    "parser.add_argument('--maxBiasLinNonLin', type=int, default=20, \n",
    "                help=' maximum gain difference between linear and non-linear components.[default=20]')\n",
    "parser.add_argument('--N_f', type=int, default=5, \n",
    "                help='order of the (non-)linearity where N_f=1 refers only to linear components.[default=5]')\n",
    "\n",
    "# ISD_additive_noise parameters\n",
    "parser.add_argument('--P', type=int, default=10, \n",
    "                help='Maximum number of uniformly distributed samples in [%].[defaul=10]')\n",
    "parser.add_argument('--g_sd', type=int, default=2, \n",
    "                help='gain parameters > 0. [default=2]')\n",
    "parser.add_argument('-i', '--iters-per-epoch', default=1000, type=int,\n",
    "                        help='Number of iterations per epoch')\n",
    "# SSI_additive_noise parameters\n",
    "parser.add_argument('--SNRmin', type=int, default=10, \n",
    "                help='Minimum SNR value for coloured additive noise.[defaul=10]')\n",
    "parser.add_argument('--SNRmax', type=int, default=40, \n",
    "                help='Maximum SNR value for coloured additive noise.[defaul=40]')\n",
    "\n",
    "##===================================================Rawboost data augmentation ======================================================================#\n",
    "\n",
    "\n",
    "if not os.path.exists('models'):\n",
    "    os.mkdir('models')\n",
    "args = parser.parse_args(args=[])\n",
    "\n",
    "#make experiment reproducible\n",
    "set_random_seed(args.seed, args)\n",
    "\n",
    "# track = args.track\n",
    "\n",
    "# assert track in ['LA', 'PA','DF'], 'Invalid track given'\n",
    "\n",
    "# #database\n",
    "# prefix_2021 = 'ASVspoof2021.{}'.format(track)\n",
    "\n",
    "#define model saving path\n",
    "model_tag = ' adam_fold4_{}_{}_{}'.format(\n",
    "         args.num_epochs, args.batch_size, args.lr)\n",
    "if args.comment:\n",
    "    model_tag = model_tag + '_{}'.format(args.comment)\n",
    "model_save_path = os.path.join('models', model_tag)\n",
    "\n",
    "#set model save directory\n",
    "if not os.path.exists(model_save_path):\n",
    "    os.mkdir(model_save_path)\n",
    "\n",
    "#GPU device\n",
    "device = 'cuda' if torch.cuda.is_available() else 'cpu'                  \n",
    "print('Device: {}'.format(device))\n",
    "\n",
    "for_model = {\n",
    "        \"architecture\": \"AASIST\",\n",
    "        \"nb_samp\": 80000,\n",
    "        \"first_conv\": 128,\n",
    "        \"filts\": [70, [1, 32], [32, 32], [32, 64], [64, 64]],\n",
    "        \"gat_dims\": [64, 32],\n",
    "        \"pool_ratios\": [0.5, 0.7, 0.5, 0.5],\n",
    "        \"temperatures\": [2.0, 2.0, 100.0, 100.0]\n",
    "    }\n",
    "    \n",
    "classifier = Model(for_model)\n",
    "nb_params = sum([param.view(-1).size()[0] for param in classifier.parameters()])\n",
    "print('nb_params:',nb_params)\n",
    "classifier.to(device)\n",
    "\n",
    "if args.model_path:\n",
    "    classifier.load_state_dict(torch.load(args.model_path,map_location=device))\n",
    "    print('Model loaded : {}'.format(args.model_path))\n",
    "\n",
    "if args.eval:\n",
    "    print('eval')\n",
    "    file_eval = pd.read_csv('test.csv')\n",
    "    print('no. of eval trials',len(file_eval))\n",
    "    eval_set = Dataset_ASVspoof_eval(file_eval['id'].to_list())\n",
    "    eval_loader = DataLoader(eval_set, batch_size=args.batch_size,num_workers=8, shuffle=False)\n",
    "    inference(eval_loader, classifier, device, args.eval_output)\n",
    "    sys.exit(1)\n",
    "\n",
    "df = pd.read_csv('train.csv')\n",
    "df['label'] = np.where(df['label']=='real',1,0)\n",
    "target_df = pd.read_csv('unlabeled.csv')\n",
    "X = df['id'].to_list()\n",
    "y = df['label'].to_list()\n",
    "\n",
    "# Stratified K-Fold 설정\n",
    "k = 5\n",
    "skf = StratifiedKFold(n_splits=k, shuffle=True, random_state=42)\n",
    "\n",
    "# Stratified K-Fold 적용\n",
    "folds = list(skf.split(X, y))\n",
    "\n",
    "# 특정 fold 선택 (예: fold_index = 0)\n",
    "fold_index = 4\n",
    "train_indices, val_indices = folds[fold_index]\n",
    "\n",
    "X_train = [X[i] for i in train_indices]\n",
    "X_test = [X[i] for i in val_indices]\n",
    "y_train = [y[i] for i in train_indices]\n",
    "y_test = [y[i] for i in val_indices]\n",
    "train_source_dataset = Dataset_ASVspoof_train(args,list_IDs = X_train,labels = y_train,algo=args.algo)\n",
    "train_target_dataset = Dataset_ASVspoof_dev(list_IDs = target_df['0'].to_list(),args=args,algo=args.algo)\n",
    "\n",
    "\n",
    "\n",
    "train_source_loader = DataLoader(train_source_dataset, batch_size=args.batch_size,\n",
    "                                     shuffle=True, num_workers=8, drop_last=True)\n",
    "train_target_loader = DataLoader(train_target_dataset, batch_size=args.batch_size,\n",
    "                                     shuffle=True, num_workers=8, drop_last=True)\n",
    "\n",
    "eval_set = Dataset_ASVspoof_dev(list_IDs = target_df['0'].to_list(),args=args,algo=args.algo)\n",
    "eval_loader = DataLoader(eval_set, batch_size=args.batch_size,num_workers=8, shuffle=False)\n",
    "\n",
    "\n",
    "train_source_iter = ForeverDataIterator(train_source_loader)\n",
    "train_target_iter = ForeverDataIterator(train_target_loader)\n",
    "\n",
    "\n",
    "dev_set = Dataset_ASVspoof_train(args,list_IDs = X_test,labels = y_test,algo=0)\n",
    "dev_loader = DataLoader(dev_set, batch_size=args.batch_size,num_workers=8, shuffle=False)\n",
    "\n",
    "domain_discri = DomainDiscriminator(\n",
    "            160 * 2, hidden_size=1024).to(device)\n",
    "\n",
    "\n",
    "\n",
    "base_optimizer = torch.optim.Adam\n",
    "ad_optimizer = torch.optim.Adam(domain_discri.get_parameters(\n",
    "), args.lr, weight_decay=args.weight_decay)\n",
    "optimizer = SAM(classifier.parameters(), base_optimizer, rho=args.rho, adaptive=False,\n",
    "        lr=args.lr,weight_decay=args.weight_decay)\n",
    "\n",
    "\n",
    "lr_scheduler = LambdaLR(optimizer, lambda x: args.lr *\n",
    "                            (1. + args.lr_gamma * float(x)) ** (-args.lr_decay))\n",
    "lr_scheduler_ad = LambdaLR(\n",
    "        ad_optimizer, lambda x: args.lr * (1. + args.lr_gamma * float(x)) ** (-args.lr_decay))\n",
    "\n",
    "domain_adv = ConditionalDomainAdversarialLoss(\n",
    "        domain_discri, entropy_conditioning=False,\n",
    "        num_classes=2, features_dim=160, randomized=False,\n",
    "        randomized_dim=1024\n",
    "    ).to(device)\n",
    "\n",
    "\n",
    "wandb.init(\n",
    "        project=f\"FOLD_ADAM_BEST\",\n",
    "        name='fold4',\n",
    "        config=args\n",
    "    )\n",
    "for epoch in range(args.num_epochs):\n",
    "    # train for one epoch\n",
    "    \n",
    "    total_cls_loss, total_transfer_loss, total_loss = train(train_source_iter, train_target_iter, classifier, domain_adv, optimizer, ad_optimizer,\n",
    "          lr_scheduler, lr_scheduler_ad, \n",
    "          epoch, args)\n",
    "    torch.save(classifier.state_dict(), os.path.join(\n",
    "        model_save_path, 'epoch_{}.pth'.format(epoch)))\n",
    "    \n",
    "    # evaluate on validation set\n",
    "    combine_score = produce_evaluation_file(dev_loader, classifier, device,X_test)\n",
    "\n",
    "    data_iter = iter(eval_loader)\n",
    "    wav = next(data_iter)\n",
    "\n",
    "    print(torch.sigmoid(classifier(wav.to(device))[0]))\n",
    "    print(\"Epoch:{}, combine_score:{:.6f}, cls_loss:{:.6f}, transfer_loss:{:.6f}, total_loss:{:.6f}\\n\".format(\n",
    "        epoch, combine_score,total_cls_loss, total_transfer_loss, total_loss))\n",
    "    wandb.log({\n",
    "        'combine':combine_score,\n",
    "        'lr':lr_scheduler.get_last_lr()[0],\n",
    "        'ad_lr':lr_scheduler_ad.get_last_lr()[0],\n",
    "        'total_cls_loss':total_cls_loss,\n",
    "        'total_transfer_loss':total_transfer_loss,\n",
    "        'total_loss':total_loss\n",
    "            })"
   ]
  },
  {
   "cell_type": "code",
   "execution_count": 13,
   "id": "27c4b3cc-de95-458e-a994-317aaa4de5d6",
   "metadata": {},
   "outputs": [
    {
     "data": {
      "application/vnd.jupyter.widget-view+json": {
       "model_id": "8b9fc853dc354987945624642410e0f8",
       "version_major": 2,
       "version_minor": 0
      },
      "text/plain": [
       "  0%|          | 0/6250 [00:00<?, ?it/s]"
      ]
     },
     "metadata": {},
     "output_type": "display_data"
    }
   ],
   "source": [
    "file_eval = pd.read_csv('test.csv')\n",
    "eval_set = Dataset_ASVspoof_eval(file_eval['id'].to_list())\n",
    "eval_loader = DataLoader(eval_set, batch_size=args.batch_size,num_workers=8, shuffle=False)\n",
    "inference(eval_loader, classifier, device, 'asdf_fold4.csv')"
   ]
  },
  {
   "cell_type": "code",
   "execution_count": null,
   "id": "72aacca8-125e-4f50-98aa-a54498ded334",
   "metadata": {},
   "outputs": [],
   "source": []
  }
 ],
 "metadata": {
  "kernelspec": {
   "display_name": "Python 3 (ipykernel)",
   "language": "python",
   "name": "python3"
  },
  "language_info": {
   "codemirror_mode": {
    "name": "ipython",
    "version": 3
   },
   "file_extension": ".py",
   "mimetype": "text/x-python",
   "name": "python",
   "nbconvert_exporter": "python",
   "pygments_lexer": "ipython3",
   "version": "3.12.4"
  }
 },
 "nbformat": 4,
 "nbformat_minor": 5
}
