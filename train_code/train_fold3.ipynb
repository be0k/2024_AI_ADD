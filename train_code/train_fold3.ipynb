{
 "cells": [
  {
   "cell_type": "markdown",
   "id": "ebcd47b3-5c3c-4176-8739-14bb28bb9922",
   "metadata": {},
   "source": [
    "# Library"
   ]
  },
  {
   "cell_type": "code",
   "execution_count": 1,
   "id": "bf9681d4-2ed8-4351-a54d-1f116ffbbba4",
   "metadata": {},
   "outputs": [],
   "source": [
    "#general\n",
    "import argparse\n",
    "import sys\n",
    "import os\n",
    "import random\n",
    "from scipy import signal\n",
    "import copy\n",
    "from typing import Union\n",
    "from tqdm.notebook import tqdm\n",
    "import numpy as np\n",
    "import pandas as pd\n",
    "from typing import Callable, Tuple\n",
    "\n",
    "from typing import List, Dict\n",
    "import torch.nn as nn\n",
    "import itertools\n",
    "import random\n",
    "import numpy as np\n",
    "\n",
    "import torch\n",
    "from torch.utils.data import Sampler\n",
    "from torch.utils.data import DataLoader, Dataset\n",
    "from typing import TypeVar, Iterable, Dict, List\n",
    "\n",
    "#sklearn\n",
    "from sklearn.metrics import accuracy_score, f1_score\n",
    "from sklearn.calibration import calibration_curve\n",
    "from sklearn.metrics import mean_squared_error\n",
    "from sklearn.metrics import roc_auc_score\n",
    "from sklearn.model_selection import train_test_split,StratifiedKFold\n",
    "from scipy.interpolate import interp1d\n",
    "from scipy.optimize import brentq\n",
    "from sklearn.metrics import roc_curve, precision_recall_fscore_support, roc_auc_score\n",
    "\n",
    "#hf\n",
    "from transformers import (AutoConfig,AutoModel)\n",
    "\n",
    "#torch\n",
    "import torch.nn.functional as F\n",
    "from torch.utils.data import Dataset\n",
    "import torch\n",
    "from torch import nn\n",
    "from torch import Tensor\n",
    "from torch.utils.data import DataLoader\n",
    "from torch.optim.lr_scheduler import LambdaLR\n",
    "\n",
    "\n",
    "#librosa\n",
    "import librosa\n",
    "\n",
    "#wandb\n",
    "import wandb\n",
    "\n",
    "\n",
    "import warnings\n",
    "warnings.filterwarnings(\"ignore\")"
   ]
  },
  {
   "cell_type": "code",
   "execution_count": 2,
   "id": "af531ac2-eb00-4068-b7f7-d4411a8e3589",
   "metadata": {},
   "outputs": [],
   "source": [
    "class ForeverDataIterator:\n",
    "    r\"\"\"A data iterator that will never stop producing data\"\"\"\n",
    "\n",
    "    def __init__(self, data_loader: DataLoader, device=None):\n",
    "        self.data_loader = data_loader\n",
    "        self.iter = iter(self.data_loader)\n",
    "        self.device = device\n",
    "\n",
    "    def __next__(self):\n",
    "        try:\n",
    "            data = next(self.iter)\n",
    "            if self.device is not None:\n",
    "                data = send_to_device(data, self.device)\n",
    "        except StopIteration:\n",
    "            self.iter = iter(self.data_loader)\n",
    "            data = next(self.iter)\n",
    "            if self.device is not None:\n",
    "                data = send_to_device(data, self.device)\n",
    "        return data\n",
    "\n",
    "    def __len__(self):\n",
    "        return len(self.data_loader)\n",
    "\n",
    "\n",
    "class SAM(torch.optim.Optimizer):\n",
    "    def __init__(self, params, base_optimizer, rho=0.05, adaptive=False, **kwargs):\n",
    "        assert rho >= 0.0, f\"Invalid rho, should be non-negative: {rho}\"\n",
    "\n",
    "        defaults = dict(rho=rho, adaptive=adaptive, **kwargs)\n",
    "        super(SAM, self).__init__(params, defaults)\n",
    "\n",
    "        self.base_optimizer = base_optimizer(self.param_groups, **kwargs)\n",
    "        self.param_groups = self.base_optimizer.param_groups\n",
    "\n",
    "    @torch.no_grad()\n",
    "    def first_step(self, zero_grad=False):\n",
    "        grad_norm = self._grad_norm()\n",
    "        for group in self.param_groups:\n",
    "            scale = group[\"rho\"] / (grad_norm + 1e-12)\n",
    "\n",
    "            for p in group[\"params\"]:\n",
    "                if p.grad is None: continue\n",
    "                e_w = (torch.pow(p, 2) if group[\"adaptive\"] else 1.0) * p.grad * scale.to(p)\n",
    "                p.add_(e_w)  # climb to the local maximum \"w + e(w)\"\n",
    "                self.state[p][\"e_w\"] = e_w\n",
    "\n",
    "        if zero_grad: self.zero_grad()\n",
    "\n",
    "    @torch.no_grad()\n",
    "    def second_step(self, zero_grad=False):\n",
    "        for group in self.param_groups:\n",
    "            for p in group[\"params\"]:\n",
    "                if p.grad is None: continue\n",
    "                p.sub_(self.state[p][\"e_w\"])  # get back to \"w\" from \"w + e(w)\"\n",
    "\n",
    "        self.base_optimizer.step()  # do the actual \"sharpness-aware\" update\n",
    "\n",
    "        if zero_grad: self.zero_grad()\n",
    "\n",
    "    @torch.no_grad()\n",
    "    def step(self, closure=None):\n",
    "        assert closure is not None, \"Sharpness Aware Minimization requires closure, but it was not provided\"\n",
    "        closure = torch.enable_grad()(closure)  # the closure should do a full forward-backward pass\n",
    "\n",
    "        self.first_step(zero_grad=True)\n",
    "        closure()\n",
    "        self.second_step()\n",
    "\n",
    "    def _grad_norm(self):\n",
    "        shared_device = self.param_groups[0][\"params\"][0].device  # put everything on the same device, in case of model parallelism\n",
    "        norm = torch.norm(\n",
    "                    torch.stack([\n",
    "                        ((torch.abs(p) if group[\"adaptive\"] else 1.0) * p.grad).norm(p=2).to(shared_device)\n",
    "                        for group in self.param_groups for p in group[\"params\"]\n",
    "                        if p.grad is not None\n",
    "                    ]),\n",
    "                    p=2\n",
    "               )\n",
    "        return norm\n",
    "\n",
    "\n",
    "class ConditionalDomainAdversarialLoss(nn.Module):\n",
    "    r\"\"\"The Conditional Domain Adversarial Loss used in `Conditional Adversarial Domain Adaptation (NIPS 2018) <https://arxiv.org/abs/1705.10667>`_\n",
    "\n",
    "    Conditional Domain adversarial loss measures the domain discrepancy through training a domain discriminator in a\n",
    "    conditional manner. Given domain discriminator :math:`D`, feature representation :math:`f` and\n",
    "    classifier predictions :math:`g`, the definition of CDAN loss is\n",
    "\n",
    "    .. math::\n",
    "        loss(\\mathcal{D}_s, \\mathcal{D}_t) &= \\mathbb{E}_{x_i^s \\sim \\mathcal{D}_s} \\text{log}[D(T(f_i^s, g_i^s))] \\\\\n",
    "        &+ \\mathbb{E}_{x_j^t \\sim \\mathcal{D}_t} \\text{log}[1-D(T(f_j^t, g_j^t))],\\\\\n",
    "\n",
    "    where :math:`T` is a :class:`MultiLinearMap`  or :class:`RandomizedMultiLinearMap` which convert two tensors to a single tensor.\n",
    "\n",
    "    Args:\n",
    "        domain_discriminator (torch.nn.Module): A domain discriminator object, which predicts the domains of\n",
    "          features. Its input shape is (N, F) and output shape is (N, 1)\n",
    "        entropy_conditioning (bool, optional): If True, use entropy-aware weight to reweight each training example.\n",
    "          Default: False\n",
    "        randomized (bool, optional): If True, use `randomized multi linear map`. Else, use `multi linear map`.\n",
    "          Default: False\n",
    "        num_classes (int, optional): Number of classes. Default: -1\n",
    "        features_dim (int, optional): Dimension of input features. Default: -1\n",
    "        randomized_dim (int, optional): Dimension of features after randomized. Default: 1024\n",
    "        reduction (str, optional): Specifies the reduction to apply to the output:\n",
    "          ``'none'`` | ``'mean'`` | ``'sum'``. ``'none'``: no reduction will be applied,\n",
    "          ``'mean'``: the sum of the output will be divided by the number of\n",
    "          elements in the output, ``'sum'``: the output will be summed. Default: ``'mean'``\n",
    "\n",
    "    .. note::\n",
    "        You need to provide `num_classes`, `features_dim` and `randomized_dim` **only when** `randomized`\n",
    "        is set True.\n",
    "\n",
    "    Inputs:\n",
    "        - g_s (tensor): unnormalized classifier predictions on source domain, :math:`g^s`\n",
    "        - f_s (tensor): feature representations on source domain, :math:`f^s`\n",
    "        - g_t (tensor): unnormalized classifier predictions on target domain, :math:`g^t`\n",
    "        - f_t (tensor): feature representations on target domain, :math:`f^t`\n",
    "\n",
    "    Shape:\n",
    "        - g_s, g_t: :math:`(minibatch, C)` where C means the number of classes.\n",
    "        - f_s, f_t: :math:`(minibatch, F)` where F means the dimension of input features.\n",
    "        - Output: scalar by default. If :attr:`reduction` is ``'none'``, then :math:`(minibatch, )`.\n",
    "\n",
    "    Examples::\n",
    "\n",
    "        >>> from dalib.modules.domain_discriminator import DomainDiscriminator\n",
    "        >>> from dalib.adaptation.cdan import ConditionalDomainAdversarialLoss\n",
    "        >>> import torch\n",
    "        >>> num_classes = 2\n",
    "        >>> feature_dim = 1024\n",
    "        >>> batch_size = 10\n",
    "        >>> discriminator = DomainDiscriminator(in_feature=feature_dim * num_classes, hidden_size=1024)\n",
    "        >>> loss = ConditionalDomainAdversarialLoss(discriminator, reduction='mean')\n",
    "        >>> # features from source domain and target domain\n",
    "        >>> f_s, f_t = torch.randn(batch_size, feature_dim), torch.randn(batch_size, feature_dim)\n",
    "        >>> # logits output from source domain adn target domain\n",
    "        >>> g_s, g_t = torch.randn(batch_size, num_classes), torch.randn(batch_size, num_classes)\n",
    "        >>> output = loss(g_s, f_s, g_t, f_t)\n",
    "    \"\"\"\n",
    "\n",
    "    def __init__(self, domain_discriminator: nn.Module, entropy_conditioning: Optional[bool] = False,\n",
    "                 randomized: Optional[bool] = False, num_classes: Optional[int] = -1,\n",
    "                 features_dim: Optional[int] = -1, randomized_dim: Optional[int] = 1024,\n",
    "                 reduction: Optional[str] = 'mean'):\n",
    "        super(ConditionalDomainAdversarialLoss, self).__init__()\n",
    "        self.domain_discriminator = domain_discriminator\n",
    "        self.grl = WarmStartGradientReverseLayer(alpha=1., lo=0., hi=1., max_iters=1000, auto_step=True)\n",
    "        self.entropy_conditioning = entropy_conditioning\n",
    "\n",
    "        if randomized:\n",
    "            assert num_classes > 0 and features_dim > 0 and randomized_dim > 0\n",
    "            self.map = RandomizedMultiLinearMap(features_dim, num_classes, randomized_dim)\n",
    "        else:\n",
    "            self.map = MultiLinearMap()\n",
    "\n",
    "        self.bce = lambda input, target, weight: F.binary_cross_entropy(input, target, weight,\n",
    "                                                                        reduction=reduction) if self.entropy_conditioning \\\n",
    "            else F.binary_cross_entropy(input, target, reduction=reduction)\n",
    "        self.domain_discriminator_accuracy = None\n",
    "\n",
    "    def forward(self, g_s: torch.Tensor, f_s: torch.Tensor, g_t: torch.Tensor, f_t: torch.Tensor) -> torch.Tensor:\n",
    "        f = torch.cat((f_s, f_t), dim=0)\n",
    "        g = torch.cat((g_s, g_t), dim=0)\n",
    "        g = F.softmax(g, dim=1).detach()\n",
    "        h = self.grl(self.map(f, g))\n",
    "        d = self.domain_discriminator(h)\n",
    "        d_label = torch.cat((\n",
    "            torch.ones((g_s.size(0), 1)).to(g_s.device),\n",
    "            torch.zeros((g_t.size(0), 1)).to(g_t.device),\n",
    "        ))\n",
    "        weight = 1.0 + torch.exp(-entropy(g))\n",
    "        batch_size = f.size(0)\n",
    "        weight = weight / torch.sum(weight) * batch_size\n",
    "        return self.bce(d, d_label, weight.view_as(d))\n",
    "\n",
    "\n",
    "class RandomizedMultiLinearMap(nn.Module):\n",
    "    \"\"\"Random multi linear map\n",
    "\n",
    "    Given two inputs :math:`f` and :math:`g`, the definition is\n",
    "\n",
    "    .. math::\n",
    "        T_{\\odot}(f,g) = \\dfrac{1}{\\sqrt{d}} (R_f f) \\odot (R_g g),\n",
    "\n",
    "    where :math:`\\odot` is element-wise product, :math:`R_f` and :math:`R_g` are random matrices\n",
    "    sampled only once and ﬁxed in training.\n",
    "\n",
    "    Args:\n",
    "        features_dim (int): dimension of input :math:`f`\n",
    "        num_classes (int): dimension of input :math:`g`\n",
    "        output_dim (int, optional): dimension of output tensor. Default: 1024\n",
    "\n",
    "    Shape:\n",
    "        - f: (minibatch, features_dim)\n",
    "        - g: (minibatch, num_classes)\n",
    "        - Outputs: (minibatch, output_dim)\n",
    "    \"\"\"\n",
    "\n",
    "    def __init__(self, features_dim: int, num_classes: int, output_dim: Optional[int] = 1024):\n",
    "        super(RandomizedMultiLinearMap, self).__init__()\n",
    "        self.Rf = torch.randn(features_dim, output_dim)\n",
    "        self.Rg = torch.randn(num_classes, output_dim)\n",
    "        self.output_dim = output_dim\n",
    "\n",
    "    def forward(self, f: torch.Tensor, g: torch.Tensor) -> torch.Tensor:\n",
    "        f = torch.mm(f, self.Rf.to(f.device))\n",
    "        g = torch.mm(g, self.Rg.to(g.device))\n",
    "        output = torch.mul(f, g) / np.sqrt(float(self.output_dim))\n",
    "        return output\n",
    "\n",
    "\n",
    "class MultiLinearMap(nn.Module):\n",
    "    \"\"\"Multi linear map\n",
    "\n",
    "    Shape:\n",
    "        - f: (minibatch, F)\n",
    "        - g: (minibatch, C)\n",
    "        - Outputs: (minibatch, F * C)\n",
    "    \"\"\"\n",
    "\n",
    "    def __init__(self):\n",
    "        super(MultiLinearMap, self).__init__()\n",
    "\n",
    "    def forward(self, f: torch.Tensor, g: torch.Tensor) -> torch.Tensor:\n",
    "        batch_size = f.size(0)\n",
    "        output = torch.bmm(g.unsqueeze(2), f.unsqueeze(1))\n",
    "        return output.view(batch_size, -1)\n",
    "\n",
    "\n",
    "from typing import Optional, Any, Tuple\n",
    "import numpy as np\n",
    "import torch.nn as nn\n",
    "from torch.autograd import Function\n",
    "import torch\n",
    "\n",
    "\n",
    "class GradientReverseFunction(Function):\n",
    "\n",
    "    @staticmethod\n",
    "    def forward(ctx: Any, input: torch.Tensor, coeff: Optional[float] = 1.) -> torch.Tensor:\n",
    "        ctx.coeff = coeff\n",
    "        output = input * 1.0\n",
    "        return output\n",
    "\n",
    "    @staticmethod\n",
    "    def backward(ctx: Any, grad_output: torch.Tensor) -> Tuple[torch.Tensor, Any]:\n",
    "        return grad_output.neg() * ctx.coeff, None\n",
    "\n",
    "\n",
    "class GradientReverseLayer(nn.Module):\n",
    "    def __init__(self):\n",
    "        super(GradientReverseLayer, self).__init__()\n",
    "\n",
    "    def forward(self, *input):\n",
    "        return GradientReverseFunction.apply(*input)\n",
    "\n",
    "\n",
    "class WarmStartGradientReverseLayer(nn.Module):\n",
    "    \"\"\"Gradient Reverse Layer :math:`\\mathcal{R}(x)` with warm start\n",
    "\n",
    "        The forward and backward behaviours are:\n",
    "\n",
    "        .. math::\n",
    "            \\mathcal{R}(x) = x,\n",
    "\n",
    "            \\dfrac{ d\\mathcal{R}} {dx} = - \\lambda I.\n",
    "\n",
    "        :math:`\\lambda` is initiated at :math:`lo` and is gradually changed to :math:`hi` using the following schedule:\n",
    "\n",
    "        .. math::\n",
    "            \\lambda = \\dfrac{2(hi-lo)}{1+\\exp(- α \\dfrac{i}{N})} - (hi-lo) + lo\n",
    "\n",
    "        where :math:`i` is the iteration step.\n",
    "\n",
    "        Args:\n",
    "            alpha (float, optional): :math:`α`. Default: 1.0\n",
    "            lo (float, optional): Initial value of :math:`\\lambda`. Default: 0.0\n",
    "            hi (float, optional): Final value of :math:`\\lambda`. Default: 1.0\n",
    "            max_iters (int, optional): :math:`N`. Default: 1000\n",
    "            auto_step (bool, optional): If True, increase :math:`i` each time `forward` is called.\n",
    "              Otherwise use function `step` to increase :math:`i`. Default: False\n",
    "        \"\"\"\n",
    "\n",
    "    def __init__(self, alpha: Optional[float] = 1.0, lo: Optional[float] = 0.0, hi: Optional[float] = 1.,\n",
    "                 max_iters: Optional[int] = 1000., auto_step: Optional[bool] = False):\n",
    "        super(WarmStartGradientReverseLayer, self).__init__()\n",
    "        self.alpha = alpha\n",
    "        self.lo = lo\n",
    "        self.hi = hi\n",
    "        self.iter_num = 0\n",
    "        self.max_iters = max_iters\n",
    "        self.auto_step = auto_step\n",
    "\n",
    "    def forward(self, input: torch.Tensor) -> torch.Tensor:\n",
    "        \"\"\"\"\"\"\n",
    "        coeff = float(\n",
    "            2.0 * (self.hi - self.lo) / (1.0 + np.exp(-self.alpha * self.iter_num / self.max_iters))\n",
    "            - (self.hi - self.lo) + self.lo\n",
    "        )\n",
    "        if self.auto_step:\n",
    "            self.step()\n",
    "        return GradientReverseFunction.apply(input, coeff)\n",
    "\n",
    "    def step(self):\n",
    "        \"\"\"Increase iteration number :math:`i` by 1\"\"\"\n",
    "        self.iter_num += 1"
   ]
  },
  {
   "cell_type": "markdown",
   "id": "12f22985-b074-4a19-8adc-05d9422fa222",
   "metadata": {},
   "source": [
    "# Model"
   ]
  },
  {
   "cell_type": "code",
   "execution_count": 3,
   "id": "4e405595-ff29-40dc-b476-81f62c7cdced",
   "metadata": {},
   "outputs": [],
   "source": [
    "class GraphAttentionLayer(nn.Module):\n",
    "    def __init__(self, in_dim, out_dim, **kwargs):\n",
    "        super().__init__()\n",
    "\n",
    "        # attention map\n",
    "        self.att_proj = nn.Linear(in_dim, out_dim)\n",
    "        self.att_weight = self._init_new_params(out_dim, 1)\n",
    "\n",
    "        # project\n",
    "        self.proj_with_att = nn.Linear(in_dim, out_dim)\n",
    "        self.proj_without_att = nn.Linear(in_dim, out_dim)\n",
    "\n",
    "        # batch norm\n",
    "        self.bn = nn.BatchNorm1d(out_dim)\n",
    "\n",
    "        # dropout for inputs\n",
    "        self.input_drop = nn.Dropout(p=0.2)\n",
    "\n",
    "        # activate\n",
    "        self.act = nn.SELU(inplace=True)\n",
    "\n",
    "        # temperature\n",
    "        self.temp = 1.\n",
    "        if \"temperature\" in kwargs:\n",
    "            self.temp = kwargs[\"temperature\"]\n",
    "\n",
    "    def forward(self, x):\n",
    "        '''\n",
    "        x   :(#bs, #node, #dim)\n",
    "        '''\n",
    "        # apply input dropout\n",
    "        x = self.input_drop(x)\n",
    "\n",
    "        # derive attention map\n",
    "        att_map = self._derive_att_map(x)\n",
    "\n",
    "        # projection\n",
    "        x = self._project(x, att_map)\n",
    "\n",
    "        # apply batch norm\n",
    "        x = self._apply_BN(x)\n",
    "        x = self.act(x)\n",
    "        return x\n",
    "\n",
    "    def _pairwise_mul_nodes(self, x):\n",
    "        '''\n",
    "        Calculates pairwise multiplication of nodes.\n",
    "        - for attention map\n",
    "        x           :(#bs, #node, #dim)\n",
    "        out_shape   :(#bs, #node, #node, #dim)\n",
    "        '''\n",
    "\n",
    "        nb_nodes = x.size(1)\n",
    "        x = x.unsqueeze(2).expand(-1, -1, nb_nodes, -1)\n",
    "        x_mirror = x.transpose(1, 2)\n",
    "\n",
    "        return x * x_mirror\n",
    "\n",
    "    def _derive_att_map(self, x):\n",
    "        '''\n",
    "        x           :(#bs, #node, #dim)\n",
    "        out_shape   :(#bs, #node, #node, 1)\n",
    "        '''\n",
    "        att_map = self._pairwise_mul_nodes(x)\n",
    "        # size: (#bs, #node, #node, #dim_out)\n",
    "        att_map = torch.tanh(self.att_proj(att_map))\n",
    "        # size: (#bs, #node, #node, 1)\n",
    "        att_map = torch.matmul(att_map, self.att_weight)\n",
    "\n",
    "        # apply temperature\n",
    "        att_map = att_map / self.temp\n",
    "\n",
    "        att_map = F.softmax(att_map, dim=-2)\n",
    "\n",
    "        return att_map\n",
    "\n",
    "    def _project(self, x, att_map):\n",
    "        x1 = self.proj_with_att(torch.matmul(att_map.squeeze(-1), x))\n",
    "        x2 = self.proj_without_att(x)\n",
    "\n",
    "        return x1 + x2\n",
    "\n",
    "    def _apply_BN(self, x):\n",
    "        org_size = x.size()\n",
    "        x = x.view(-1, org_size[-1])\n",
    "        x = self.bn(x)\n",
    "        x = x.view(org_size)\n",
    "\n",
    "        return x\n",
    "\n",
    "    def _init_new_params(self, *size):\n",
    "        out = nn.Parameter(torch.FloatTensor(*size))\n",
    "        nn.init.xavier_normal_(out)\n",
    "        return out\n",
    "\n",
    "\n",
    "class HtrgGraphAttentionLayer(nn.Module):\n",
    "    def __init__(self, in_dim, out_dim, **kwargs):\n",
    "        super().__init__()\n",
    "\n",
    "        self.proj_type1 = nn.Linear(in_dim, in_dim)\n",
    "        self.proj_type2 = nn.Linear(in_dim, in_dim)\n",
    "\n",
    "        # attention map\n",
    "        self.att_proj = nn.Linear(in_dim, out_dim)\n",
    "        self.att_projM = nn.Linear(in_dim, out_dim)\n",
    "\n",
    "        self.att_weight11 = self._init_new_params(out_dim, 1)\n",
    "        self.att_weight22 = self._init_new_params(out_dim, 1)\n",
    "        self.att_weight12 = self._init_new_params(out_dim, 1)\n",
    "        self.att_weightM = self._init_new_params(out_dim, 1)\n",
    "\n",
    "        # project\n",
    "        self.proj_with_att = nn.Linear(in_dim, out_dim)\n",
    "        self.proj_without_att = nn.Linear(in_dim, out_dim)\n",
    "\n",
    "        self.proj_with_attM = nn.Linear(in_dim, out_dim)\n",
    "        self.proj_without_attM = nn.Linear(in_dim, out_dim)\n",
    "\n",
    "        # batch norm\n",
    "        self.bn = nn.BatchNorm1d(out_dim)\n",
    "\n",
    "        # dropout for inputs\n",
    "        self.input_drop = nn.Dropout(p=0.2)\n",
    "\n",
    "        # activate\n",
    "        self.act = nn.SELU(inplace=True)\n",
    "\n",
    "        # temperature\n",
    "        self.temp = 1.\n",
    "        if \"temperature\" in kwargs:\n",
    "            self.temp = kwargs[\"temperature\"]\n",
    "\n",
    "    def forward(self, x1, x2, master=None):\n",
    "        '''\n",
    "        x1  :(#bs, #node, #dim)\n",
    "        x2  :(#bs, #node, #dim)\n",
    "        '''\n",
    "        num_type1 = x1.size(1)\n",
    "        num_type2 = x2.size(1)\n",
    "\n",
    "        x1 = self.proj_type1(x1)\n",
    "        x2 = self.proj_type2(x2)\n",
    "\n",
    "        x = torch.cat([x1, x2], dim=1)\n",
    "\n",
    "        if master is None:\n",
    "            master = torch.mean(x, dim=1, keepdim=True)\n",
    "\n",
    "        # apply input dropout\n",
    "        x = self.input_drop(x)\n",
    "\n",
    "        # derive attention map\n",
    "        att_map = self._derive_att_map(x, num_type1, num_type2)\n",
    "\n",
    "        # directional edge for master node\n",
    "        master = self._update_master(x, master)\n",
    "\n",
    "        # projection\n",
    "        x = self._project(x, att_map)\n",
    "\n",
    "        # apply batch norm\n",
    "        x = self._apply_BN(x)\n",
    "        x = self.act(x)\n",
    "\n",
    "        x1 = x.narrow(1, 0, num_type1)\n",
    "        x2 = x.narrow(1, num_type1, num_type2)\n",
    "\n",
    "        return x1, x2, master\n",
    "\n",
    "    def _update_master(self, x, master):\n",
    "\n",
    "        att_map = self._derive_att_map_master(x, master)\n",
    "        master = self._project_master(x, master, att_map)\n",
    "\n",
    "        return master\n",
    "\n",
    "    def _pairwise_mul_nodes(self, x):\n",
    "        '''\n",
    "        Calculates pairwise multiplication of nodes.\n",
    "        - for attention map\n",
    "        x           :(#bs, #node, #dim)\n",
    "        out_shape   :(#bs, #node, #node, #dim)\n",
    "        '''\n",
    "\n",
    "        nb_nodes = x.size(1)\n",
    "        x = x.unsqueeze(2).expand(-1, -1, nb_nodes, -1)\n",
    "        x_mirror = x.transpose(1, 2)\n",
    "\n",
    "        return x * x_mirror\n",
    "\n",
    "    def _derive_att_map_master(self, x, master):\n",
    "        '''\n",
    "        x           :(#bs, #node, #dim)\n",
    "        out_shape   :(#bs, #node, #node, 1)\n",
    "        '''\n",
    "        att_map = x * master\n",
    "        att_map = torch.tanh(self.att_projM(att_map))\n",
    "\n",
    "        att_map = torch.matmul(att_map, self.att_weightM)\n",
    "\n",
    "        # apply temperature\n",
    "        att_map = att_map / self.temp\n",
    "\n",
    "        att_map = F.softmax(att_map, dim=-2)\n",
    "\n",
    "        return att_map\n",
    "\n",
    "    def _derive_att_map(self, x, num_type1, num_type2):\n",
    "        '''\n",
    "        x           :(#bs, #node, #dim)\n",
    "        out_shape   :(#bs, #node, #node, 1)\n",
    "        '''\n",
    "        att_map = self._pairwise_mul_nodes(x)\n",
    "        # size: (#bs, #node, #node, #dim_out)\n",
    "        att_map = torch.tanh(self.att_proj(att_map))\n",
    "        # size: (#bs, #node, #node, 1)\n",
    "\n",
    "        att_board = torch.zeros_like(att_map[:, :, :, 0]).unsqueeze(-1)\n",
    "\n",
    "        att_board[:, :num_type1, :num_type1, :] = torch.matmul(\n",
    "            att_map[:, :num_type1, :num_type1, :], self.att_weight11)\n",
    "        att_board[:, num_type1:, num_type1:, :] = torch.matmul(\n",
    "            att_map[:, num_type1:, num_type1:, :], self.att_weight22)\n",
    "        att_board[:, :num_type1, num_type1:, :] = torch.matmul(\n",
    "            att_map[:, :num_type1, num_type1:, :], self.att_weight12)\n",
    "        att_board[:, num_type1:, :num_type1, :] = torch.matmul(\n",
    "            att_map[:, num_type1:, :num_type1, :], self.att_weight12)\n",
    "\n",
    "        att_map = att_board\n",
    "\n",
    "        # att_map = torch.matmul(att_map, self.att_weight12)\n",
    "\n",
    "        # apply temperature\n",
    "        att_map = att_map / self.temp\n",
    "\n",
    "        att_map = F.softmax(att_map, dim=-2)\n",
    "\n",
    "        return att_map\n",
    "\n",
    "    def _project(self, x, att_map):\n",
    "        x1 = self.proj_with_att(torch.matmul(att_map.squeeze(-1), x))\n",
    "        x2 = self.proj_without_att(x)\n",
    "\n",
    "        return x1 + x2\n",
    "\n",
    "    def _project_master(self, x, master, att_map):\n",
    "\n",
    "        x1 = self.proj_with_attM(torch.matmul(\n",
    "            att_map.squeeze(-1).unsqueeze(1), x))\n",
    "        x2 = self.proj_without_attM(master)\n",
    "\n",
    "        return x1 + x2\n",
    "\n",
    "    def _apply_BN(self, x):\n",
    "        org_size = x.size()\n",
    "        x = x.view(-1, org_size[-1])\n",
    "        x = self.bn(x)\n",
    "        x = x.view(org_size)\n",
    "\n",
    "        return x\n",
    "\n",
    "    def _init_new_params(self, *size):\n",
    "        out = nn.Parameter(torch.FloatTensor(*size))\n",
    "        nn.init.xavier_normal_(out)\n",
    "        return out\n",
    "\n",
    "\n",
    "class GraphPool(nn.Module):\n",
    "    def __init__(self, k: float, in_dim: int, p: Union[float, int]):\n",
    "        super().__init__()\n",
    "        self.k = k\n",
    "        self.sigmoid = nn.Sigmoid()\n",
    "        self.proj = nn.Linear(in_dim, 1)\n",
    "        self.drop = nn.Dropout(p=p) if p > 0 else nn.Identity()\n",
    "        self.in_dim = in_dim\n",
    "\n",
    "    def forward(self, h):\n",
    "        Z = self.drop(h)\n",
    "        weights = self.proj(Z)\n",
    "        scores = self.sigmoid(weights)\n",
    "        new_h = self.top_k_graph(scores, h, self.k)\n",
    "\n",
    "        return new_h\n",
    "\n",
    "    def top_k_graph(self, scores, h, k):\n",
    "        \"\"\"\n",
    "        args\n",
    "        =====\n",
    "        scores: attention-based weights (#bs, #node, 1)\n",
    "        h: graph data (#bs, #node, #dim)\n",
    "        k: ratio of remaining nodes, (float)\n",
    "\n",
    "        returns\n",
    "        =====\n",
    "        h: graph pool applied data (#bs, #node', #dim)\n",
    "        \"\"\"\n",
    "        _, n_nodes, n_feat = h.size()\n",
    "        n_nodes = max(int(n_nodes * k), 1)\n",
    "        _, idx = torch.topk(scores, n_nodes, dim=1)\n",
    "        idx = idx.expand(-1, -1, n_feat)\n",
    "\n",
    "        h = h * scores\n",
    "        h = torch.gather(h, 1, idx)\n",
    "\n",
    "        return h\n",
    "\n",
    "\n",
    "class CONV(nn.Module):\n",
    "    @staticmethod\n",
    "    def to_mel(hz):\n",
    "        return 2595 * np.log10(1 + hz / 700)\n",
    "\n",
    "    @staticmethod\n",
    "    def to_hz(mel):\n",
    "        return 700 * (10**(mel / 2595) - 1)\n",
    "\n",
    "    def __init__(self,\n",
    "                 out_channels,\n",
    "                 kernel_size,\n",
    "                 sample_rate=16000,\n",
    "                 in_channels=1,\n",
    "                 stride=1,\n",
    "                 padding=0,\n",
    "                 dilation=1,\n",
    "                 bias=False,\n",
    "                 groups=1,\n",
    "                 mask=False):\n",
    "        super().__init__()\n",
    "        if in_channels != 1:\n",
    "\n",
    "            msg = \"SincConv only support one input channel (here, in_channels = {%i})\" % (\n",
    "                in_channels)\n",
    "            raise ValueError(msg)\n",
    "        self.out_channels = out_channels\n",
    "        self.kernel_size = kernel_size\n",
    "        self.sample_rate = sample_rate\n",
    "\n",
    "        # Forcing the filters to be odd (i.e, perfectly symmetrics)\n",
    "        if kernel_size % 2 == 0:\n",
    "            self.kernel_size = self.kernel_size + 1\n",
    "        self.stride = stride\n",
    "        self.padding = padding\n",
    "        self.dilation = dilation\n",
    "        self.mask = mask\n",
    "        if bias:\n",
    "            raise ValueError('SincConv does not support bias.')\n",
    "        if groups > 1:\n",
    "            raise ValueError('SincConv does not support groups.')\n",
    "\n",
    "        NFFT = 512\n",
    "        f = int(self.sample_rate / 2) * np.linspace(0, 1, int(NFFT / 2) + 1)\n",
    "        fmel = self.to_mel(f)\n",
    "        fmelmax = np.max(fmel)\n",
    "        fmelmin = np.min(fmel)\n",
    "        filbandwidthsmel = np.linspace(fmelmin, fmelmax, self.out_channels + 1)\n",
    "        filbandwidthsf = self.to_hz(filbandwidthsmel)\n",
    "\n",
    "        self.mel = filbandwidthsf\n",
    "        self.hsupp = torch.arange(-(self.kernel_size - 1) / 2,\n",
    "                                  (self.kernel_size - 1) / 2 + 1)\n",
    "        self.band_pass = torch.zeros(self.out_channels, self.kernel_size)\n",
    "        for i in range(len(self.mel) - 1):\n",
    "            fmin = self.mel[i]\n",
    "            fmax = self.mel[i + 1]\n",
    "            hHigh = (2*fmax/self.sample_rate) * \\\n",
    "                np.sinc(2*fmax*self.hsupp/self.sample_rate)\n",
    "            hLow = (2*fmin/self.sample_rate) * \\\n",
    "                np.sinc(2*fmin*self.hsupp/self.sample_rate)\n",
    "            hideal = hHigh - hLow\n",
    "\n",
    "            self.band_pass[i, :] = Tensor(np.hamming(\n",
    "                self.kernel_size)) * Tensor(hideal)\n",
    "\n",
    "    def forward(self, x, mask=False):\n",
    "        band_pass_filter = self.band_pass.clone().to(x.device)\n",
    "        if mask:\n",
    "            A = np.random.uniform(0, 20)\n",
    "            A = int(A)\n",
    "            A0 = random.randint(0, band_pass_filter.shape[0] - A)\n",
    "            band_pass_filter[A0:A0 + A, :] = 0\n",
    "        else:\n",
    "            band_pass_filter = band_pass_filter\n",
    "\n",
    "        self.filters = (band_pass_filter).view(self.out_channels, 1,\n",
    "                                               self.kernel_size)\n",
    "\n",
    "        return F.conv1d(x,\n",
    "                        self.filters,\n",
    "                        stride=self.stride,\n",
    "                        padding=self.padding,\n",
    "                        dilation=self.dilation,\n",
    "                        bias=None,\n",
    "                        groups=1)\n",
    "\n",
    "\n",
    "class Residual_block(nn.Module):\n",
    "    def __init__(self, nb_filts, first=False):\n",
    "        super().__init__()\n",
    "        self.first = first\n",
    "\n",
    "        if not self.first:\n",
    "            self.bn1 = nn.BatchNorm2d(num_features=nb_filts[0])\n",
    "        self.conv1 = nn.Conv2d(in_channels=nb_filts[0],\n",
    "                               out_channels=nb_filts[1],\n",
    "                               kernel_size=(2, 3),\n",
    "                               padding=(1, 1),\n",
    "                               stride=1)\n",
    "        self.selu = nn.SELU(inplace=True)\n",
    "\n",
    "        self.bn2 = nn.BatchNorm2d(num_features=nb_filts[1])\n",
    "        self.conv2 = nn.Conv2d(in_channels=nb_filts[1],\n",
    "                               out_channels=nb_filts[1],\n",
    "                               kernel_size=(2, 3),\n",
    "                               padding=(0, 1),\n",
    "                               stride=1)\n",
    "\n",
    "        if nb_filts[0] != nb_filts[1]:\n",
    "            self.downsample = True\n",
    "            self.conv_downsample = nn.Conv2d(in_channels=nb_filts[0],\n",
    "                                             out_channels=nb_filts[1],\n",
    "                                             padding=(0, 1),\n",
    "                                             kernel_size=(1, 3),\n",
    "                                             stride=1)\n",
    "\n",
    "        else:\n",
    "            self.downsample = False\n",
    "        self.mp = nn.MaxPool2d((1, 3))  # self.mp = nn.MaxPool2d((1,4))\n",
    "\n",
    "    def forward(self, x):\n",
    "        identity = x\n",
    "        if not self.first:\n",
    "            out = self.bn1(x)\n",
    "            out = self.selu(out)\n",
    "        else:\n",
    "            out = x\n",
    "        out = self.conv1(x)\n",
    "\n",
    "        # print('out',out.shape)\n",
    "        out = self.bn2(out)\n",
    "        out = self.selu(out)\n",
    "        # print('out',out.shape)\n",
    "        out = self.conv2(out)\n",
    "        #print('conv2 out',out.shape)\n",
    "        if self.downsample:\n",
    "            identity = self.conv_downsample(identity)\n",
    "\n",
    "        out += identity\n",
    "        out = self.mp(out)\n",
    "        return out\n",
    "\n",
    "\n",
    "class Model(nn.Module):\n",
    "    def __init__(self, d_args):\n",
    "        super().__init__()\n",
    "\n",
    "        self.d_args = d_args\n",
    "        filts = d_args[\"filts\"]\n",
    "        gat_dims = d_args[\"gat_dims\"]\n",
    "        pool_ratios = d_args[\"pool_ratios\"]\n",
    "        temperatures = d_args[\"temperatures\"]\n",
    "\n",
    "        self.conv_time = CONV(out_channels=filts[0],\n",
    "                              kernel_size=d_args[\"first_conv\"],\n",
    "                              in_channels=1)\n",
    "        self.first_bn = nn.BatchNorm2d(num_features=1)\n",
    "\n",
    "        self.drop = nn.Dropout(0.5, inplace=True)\n",
    "        self.drop_way = nn.Dropout(0.2, inplace=True)\n",
    "        self.selu = nn.SELU(inplace=True)\n",
    "\n",
    "        self.encoder = nn.Sequential(\n",
    "            nn.Sequential(Residual_block(nb_filts=filts[1], first=True)),\n",
    "            nn.Sequential(Residual_block(nb_filts=filts[2])),\n",
    "            nn.Sequential(Residual_block(nb_filts=filts[3])),\n",
    "            nn.Sequential(Residual_block(nb_filts=filts[4])),\n",
    "            nn.Sequential(Residual_block(nb_filts=filts[4])),\n",
    "            nn.Sequential(Residual_block(nb_filts=filts[4])))\n",
    "\n",
    "        self.pos_S = nn.Parameter(torch.randn(1, 23, filts[-1][-1]))\n",
    "        self.master1 = nn.Parameter(torch.randn(1, 1, gat_dims[0]))\n",
    "        self.master2 = nn.Parameter(torch.randn(1, 1, gat_dims[0]))\n",
    "\n",
    "        self.GAT_layer_S = GraphAttentionLayer(filts[-1][-1],\n",
    "                                               gat_dims[0],\n",
    "                                               temperature=temperatures[0])\n",
    "        self.GAT_layer_T = GraphAttentionLayer(filts[-1][-1],\n",
    "                                               gat_dims[0],\n",
    "                                               temperature=temperatures[1])\n",
    "\n",
    "        self.HtrgGAT_layer_ST11 = HtrgGraphAttentionLayer(\n",
    "            gat_dims[0], gat_dims[1], temperature=temperatures[2])\n",
    "        self.HtrgGAT_layer_ST12 = HtrgGraphAttentionLayer(\n",
    "            gat_dims[1], gat_dims[1], temperature=temperatures[2])\n",
    "\n",
    "        self.HtrgGAT_layer_ST21 = HtrgGraphAttentionLayer(\n",
    "            gat_dims[0], gat_dims[1], temperature=temperatures[2])\n",
    "\n",
    "        self.HtrgGAT_layer_ST22 = HtrgGraphAttentionLayer(\n",
    "            gat_dims[1], gat_dims[1], temperature=temperatures[2])\n",
    "\n",
    "        self.pool_S = GraphPool(pool_ratios[0], gat_dims[0], 0.3)\n",
    "        self.pool_T = GraphPool(pool_ratios[1], gat_dims[0], 0.3)\n",
    "        self.pool_hS1 = GraphPool(pool_ratios[2], gat_dims[1], 0.3)\n",
    "        self.pool_hT1 = GraphPool(pool_ratios[2], gat_dims[1], 0.3)\n",
    "\n",
    "        self.pool_hS2 = GraphPool(pool_ratios[2], gat_dims[1], 0.3)\n",
    "        self.pool_hT2 = GraphPool(pool_ratios[2], gat_dims[1], 0.3)\n",
    "\n",
    "        self.out_layer = nn.Linear(5 * gat_dims[1], 2)\n",
    "\n",
    "    def forward(self, x, Freq_aug=False):\n",
    "\n",
    "        x = x.unsqueeze(1)\n",
    "        x = self.conv_time(x, mask=Freq_aug)\n",
    "        x = x.unsqueeze(dim=1)\n",
    "        x = F.max_pool2d(torch.abs(x), (3, 3))\n",
    "        x = self.first_bn(x)\n",
    "        x = self.selu(x)\n",
    "\n",
    "        # get embeddings using encoder\n",
    "        # (#bs, #filt, #spec, #seq)\n",
    "        e = self.encoder(x)\n",
    "\n",
    "        # spectral GAT (GAT-S)\n",
    "        e_S, _ = torch.max(torch.abs(e), dim=3)  # max along time\n",
    "        e_S = e_S.transpose(1, 2) + self.pos_S\n",
    "\n",
    "        gat_S = self.GAT_layer_S(e_S)\n",
    "        out_S = self.pool_S(gat_S)  # (#bs, #node, #dim)\n",
    "\n",
    "        # temporal GAT (GAT-T)\n",
    "        e_T, _ = torch.max(torch.abs(e), dim=2)  # max along freq\n",
    "        e_T = e_T.transpose(1, 2)\n",
    "\n",
    "        gat_T = self.GAT_layer_T(e_T)\n",
    "        out_T = self.pool_T(gat_T)\n",
    "\n",
    "        # learnable master node\n",
    "        master1 = self.master1.expand(x.size(0), -1, -1)\n",
    "        master2 = self.master2.expand(x.size(0), -1, -1)\n",
    "\n",
    "        # inference 1\n",
    "        out_T1, out_S1, master1 = self.HtrgGAT_layer_ST11(\n",
    "            out_T, out_S, master=self.master1)\n",
    "\n",
    "        out_S1 = self.pool_hS1(out_S1)\n",
    "        out_T1 = self.pool_hT1(out_T1)\n",
    "\n",
    "        out_T_aug, out_S_aug, master_aug = self.HtrgGAT_layer_ST12(\n",
    "            out_T1, out_S1, master=master1)\n",
    "        out_T1 = out_T1 + out_T_aug\n",
    "        out_S1 = out_S1 + out_S_aug\n",
    "        master1 = master1 + master_aug\n",
    "\n",
    "        # inference 2\n",
    "        out_T2, out_S2, master2 = self.HtrgGAT_layer_ST21(\n",
    "            out_T, out_S, master=self.master2)\n",
    "        out_S2 = self.pool_hS2(out_S2)\n",
    "        out_T2 = self.pool_hT2(out_T2)\n",
    "\n",
    "        out_T_aug, out_S_aug, master_aug = self.HtrgGAT_layer_ST22(\n",
    "            out_T2, out_S2, master=master2)\n",
    "        out_T2 = out_T2 + out_T_aug\n",
    "        out_S2 = out_S2 + out_S_aug\n",
    "        master2 = master2 + master_aug\n",
    "\n",
    "        out_T1 = self.drop_way(out_T1)\n",
    "        out_T2 = self.drop_way(out_T2)\n",
    "        out_S1 = self.drop_way(out_S1)\n",
    "        out_S2 = self.drop_way(out_S2)\n",
    "        master1 = self.drop_way(master1)\n",
    "        master2 = self.drop_way(master2)\n",
    "\n",
    "        out_T = torch.max(out_T1, out_T2)\n",
    "        out_S = torch.max(out_S1, out_S2)\n",
    "        master = torch.max(master1, master2)\n",
    "\n",
    "        T_max, _ = torch.max(torch.abs(out_T), dim=1)\n",
    "        T_avg = torch.mean(out_T, dim=1)\n",
    "\n",
    "        S_max, _ = torch.max(torch.abs(out_S), dim=1)\n",
    "        S_avg = torch.mean(out_S, dim=1)\n",
    "\n",
    "        last_hidden = torch.cat(\n",
    "            [T_max, T_avg, S_max, S_avg, master.squeeze(1)], dim=1)\n",
    "\n",
    "        last_hidden = self.drop(last_hidden)\n",
    "        output = self.out_layer(last_hidden)\n",
    "\n",
    "        return output,last_hidden"
   ]
  },
  {
   "cell_type": "markdown",
   "id": "d553dbe4-1cdc-42e9-89da-992938bbad01",
   "metadata": {},
   "source": [
    "# RawBoost"
   ]
  },
  {
   "cell_type": "code",
   "execution_count": 4,
   "id": "722762a2-2d04-4e7e-b584-3c86e25aeb6c",
   "metadata": {},
   "outputs": [],
   "source": [
    "'''\n",
    "   Hemlata Tak, Madhu Kamble, Jose Patino, Massimiliano Todisco, Nicholas Evans.\n",
    "   RawBoost: A Raw Data Boosting and Augmentation Method applied to Automatic Speaker Verification Anti-Spoofing.\n",
    "   In Proc. ICASSP 2022, pp:6382--6386.\n",
    "'''\n",
    "\n",
    "def randRange(x1, x2, integer):\n",
    "    y = np.random.uniform(low=x1, high=x2, size=(1,))\n",
    "    if integer:\n",
    "        y = int(y)\n",
    "    return y\n",
    "\n",
    "def normWav(x,always):\n",
    "    if always:\n",
    "        x = x/np.amax(abs(x))\n",
    "    elif np.amax(abs(x)) > 1:\n",
    "            x = x/np.amax(abs(x))\n",
    "    return x\n",
    "\n",
    "\n",
    "def genNotchCoeffs(nBands,minF,maxF,minBW,maxBW,minCoeff,maxCoeff,minG,maxG,fs):\n",
    "    b = 1\n",
    "    for i in range(0, nBands):\n",
    "        fc = randRange(minF,maxF,0);\n",
    "        bw = randRange(minBW,maxBW,0);\n",
    "        c = randRange(minCoeff,maxCoeff,1);\n",
    "          \n",
    "        if c/2 == int(c/2):\n",
    "            c = c + 1\n",
    "        f1 = fc - bw/2\n",
    "        f2 = fc + bw/2\n",
    "        if f1 <= 0:\n",
    "            f1 = 1/1000\n",
    "        if f2 >= fs/2:\n",
    "            f2 =  fs/2-1/1000\n",
    "        b = np.convolve(signal.firwin(c, [float(f1), float(f2)], window='hamming', fs=fs),b)\n",
    "\n",
    "    G = randRange(minG,maxG,0); \n",
    "    _, h = signal.freqz(b, 1, fs=fs)    \n",
    "    b = pow(10, G/20)*b/np.amax(abs(h))   \n",
    "    return b\n",
    "\n",
    "\n",
    "def filterFIR(x,b):\n",
    "    N = b.shape[0] + 1\n",
    "    xpad = np.pad(x, (0, N), 'constant')\n",
    "    y = signal.lfilter(b, 1, xpad)\n",
    "    y = y[int(N/2):int(y.shape[0]-N/2)]\n",
    "    return y\n",
    "\n",
    "# Linear and non-linear convolutive noise\n",
    "def LnL_convolutive_noise(x,N_f,nBands,minF,maxF,minBW,maxBW,minCoeff,maxCoeff,minG,maxG,minBiasLinNonLin,maxBiasLinNonLin,fs):\n",
    "    y = [0] * x.shape[0]\n",
    "    for i in range(0, N_f):\n",
    "        if i == 1:\n",
    "            minG = minG-minBiasLinNonLin;\n",
    "            maxG = maxG-maxBiasLinNonLin;\n",
    "        b = genNotchCoeffs(nBands,minF,maxF,minBW,maxBW,minCoeff,maxCoeff,minG,maxG,fs)\n",
    "        y = y + filterFIR(np.power(x, (i+1)),  b)     \n",
    "    y = y - np.mean(y)\n",
    "    y = normWav(y,0)\n",
    "    return y\n",
    "\n",
    "\n",
    "# Impulsive signal dependent noise\n",
    "def ISD_additive_noise(x, P, g_sd):\n",
    "    beta = randRange(0, P, 0)\n",
    "    \n",
    "    y = copy.deepcopy(x)\n",
    "    x_len = x.shape[0]\n",
    "    n = int(x_len*(beta/100))\n",
    "    p = np.random.permutation(x_len)[:n]\n",
    "    f_r= np.multiply(((2*np.random.rand(p.shape[0]))-1),((2*np.random.rand(p.shape[0]))-1))\n",
    "    r = g_sd * x[p] * f_r\n",
    "    y[p] = x[p] + r\n",
    "    y = normWav(y,0)\n",
    "    return y\n",
    "\n",
    "\n",
    "# Stationary signal independent noise\n",
    "\n",
    "def SSI_additive_noise(x,SNRmin,SNRmax,nBands,minF,maxF,minBW,maxBW,minCoeff,maxCoeff,minG,maxG,fs):\n",
    "    noise = np.random.normal(0, 1, x.shape[0])\n",
    "    b = genNotchCoeffs(nBands,minF,maxF,minBW,maxBW,minCoeff,maxCoeff,minG,maxG,fs)\n",
    "    noise = filterFIR(noise, b)\n",
    "    noise = normWav(noise,1)\n",
    "    SNR = randRange(SNRmin, SNRmax, 0)\n",
    "    noise = noise / np.linalg.norm(noise,2) * np.linalg.norm(x,2) / 10.0**(0.05 * SNR)\n",
    "    x = x + noise\n",
    "    return x"
   ]
  },
  {
   "cell_type": "markdown",
   "id": "508da7ad-b12f-4d68-bf45-aafb6f5f3a5f",
   "metadata": {},
   "source": [
    "# Data Utils"
   ]
  },
  {
   "cell_type": "code",
   "execution_count": 5,
   "id": "e271b211-6947-4b30-ae59-c92660e2e57b",
   "metadata": {},
   "outputs": [],
   "source": [
    "def pad(x, max_len=80000):\n",
    "    x_len = x.shape[0]\n",
    "    if x_len >= max_len:\n",
    "        return x[:max_len]\n",
    "    # need to pad\n",
    "    num_repeats = int(max_len / x_len)+1\n",
    "    padded_x = np.tile(x, (1, num_repeats))[:, :max_len][0]\n",
    "    return padded_x\t\n",
    "\n",
    "class Dataset_ASVspoof_train(Dataset):\n",
    "    def __init__(self,args,list_IDs, labels,algo):\n",
    "            '''self.list_IDs\t: list of strings (each string: utt key),\n",
    "               self.labels      : dictionary (key: utt key, value: label integer)'''\n",
    "            self.list_IDs = list_IDs\n",
    "            self.labels = labels\n",
    "            self.algo=algo\n",
    "            self.args=args\n",
    "            self.cut=80000 # take ~4 sec audio (64600 samples)\n",
    "    def get_labels(self):\n",
    "            return self.labels\n",
    "        \n",
    "    def __len__(self):\n",
    "            return len(self.list_IDs)\n",
    "\n",
    "    def __getitem__(self, index):\n",
    "            X,fs = librosa.load('./train16000/'+self.list_IDs[index]+'.wav', sr=16000)\n",
    "\n",
    "            Y1= pad(X,self.cut)\n",
    "            tmp = np.random.randint(0, len(self.list_IDs))\n",
    "            X,fs = librosa.load('./train16000/'+self.list_IDs[tmp]+'.wav', sr=16000)\n",
    "            Y2= pad(X,self.cut)\n",
    "            Y1 = process_Rawboost_feature(Y1 + Y2,fs,self.args,self.algo)     \n",
    "            return Tensor(Y1), Tensor([(self.labels[index] and self.labels[tmp])^1,self.labels[index] or self.labels[tmp]])\n",
    "\n",
    "\n",
    "\n",
    "class Dataset_ASVspoof_dev(Dataset):\n",
    "    def __init__(self, list_IDs,args,algo):\n",
    "            '''self.list_IDs\t: list of strings (each string: utt key),\n",
    "               '''\n",
    "            self.args = args\n",
    "            self.algo = algo\n",
    "            self.list_IDs = list_IDs\n",
    "            self.cut=80000 # take ~4 sec audio (64600 samples)\n",
    "    \n",
    "    def __len__(self):\n",
    "            return len(self.list_IDs)\n",
    "        \n",
    "    def __getitem__(self, index):\n",
    "            utt_id = self.list_IDs[index]\n",
    "            X, fs = librosa.load('./unlabeled_data16000/'+utt_id+'.wav', sr=16000)\n",
    "            Y=process_Rawboost_feature(X,fs,self.args,self.algo)\n",
    "            X_pad = pad(Y,self.cut)\n",
    "            x_inp = Tensor(X_pad)\n",
    "            return x_inp\n",
    "        \n",
    "\n",
    "class Dataset_ASVspoof_eval(Dataset):\n",
    "    def __init__(self, list_IDs):\n",
    "            '''self.list_IDs\t: list of strings (each string: utt key),\n",
    "               '''\n",
    "               \n",
    "            self.list_IDs = list_IDs\n",
    "            self.cut=80000 # take ~4 sec audio (64600 samples)\n",
    "    \n",
    "    def __len__(self):\n",
    "            return len(self.list_IDs)\n",
    "        \n",
    "    def __getitem__(self, index):\n",
    "            utt_id = self.list_IDs[index]\n",
    "            X, fs = librosa.load('./test16000/'+utt_id+'.wav', sr=16000)\n",
    "            X_pad = pad(X,self.cut)\n",
    "            x_inp = Tensor(X_pad)\n",
    "            return x_inp\n",
    "\n",
    "#--------------RawBoost data augmentation algorithms---------------------------##\n",
    "\n",
    "def process_Rawboost_feature(feature, sr,args,algo):\n",
    "    \n",
    "    # Data process by Convolutive noise (1st algo)\n",
    "    if algo==1:\n",
    "\n",
    "        feature =LnL_convolutive_noise(feature,args.N_f,args.nBands,args.minF,args.maxF,args.minBW,args.maxBW,args.minCoeff,args.maxCoeff,args.minG,args.maxG,args.minBiasLinNonLin,args.maxBiasLinNonLin,sr)\n",
    "                            \n",
    "    # Data process by Impulsive noise (2nd algo)\n",
    "    elif algo==2:\n",
    "        \n",
    "        feature=ISD_additive_noise(feature, args.P, args.g_sd)\n",
    "                            \n",
    "    # Data process by coloured additive noise (3rd algo)\n",
    "    elif algo==3:\n",
    "        \n",
    "        feature=SSI_additive_noise(feature,args.SNRmin,args.SNRmax,args.nBands,args.minF,args.maxF,args.minBW,args.maxBW,args.minCoeff,args.maxCoeff,args.minG,args.maxG,sr)\n",
    "    \n",
    "    # Data process by all 3 algo. together in series (1+2+3)\n",
    "    elif algo==4:\n",
    "        \n",
    "        feature =LnL_convolutive_noise(feature,args.N_f,args.nBands,args.minF,args.maxF,args.minBW,args.maxBW,\n",
    "                 args.minCoeff,args.maxCoeff,args.minG,args.maxG,args.minBiasLinNonLin,args.maxBiasLinNonLin,sr)                         \n",
    "        feature=ISD_additive_noise(feature, args.P, args.g_sd)  \n",
    "        feature=SSI_additive_noise(feature,args.SNRmin,args.SNRmax,args.nBands,args.minF,\n",
    "                args.maxF,args.minBW,args.maxBW,args.minCoeff,args.maxCoeff,args.minG,args.maxG,sr)                 \n",
    "\n",
    "    # Data process by 1st two algo. together in series (1+2)\n",
    "    elif algo==5:\n",
    "        \n",
    "        feature =LnL_convolutive_noise(feature,args.N_f,args.nBands,args.minF,args.maxF,args.minBW,args.maxBW,\n",
    "                 args.minCoeff,args.maxCoeff,args.minG,args.maxG,args.minBiasLinNonLin,args.maxBiasLinNonLin,sr)                         \n",
    "        feature=ISD_additive_noise(feature, args.P, args.g_sd)                \n",
    "                            \n",
    "\n",
    "    # Data process by 1st and 3rd algo. together in series (1+3)\n",
    "    elif algo==6:  \n",
    "        \n",
    "        feature =LnL_convolutive_noise(feature,args.N_f,args.nBands,args.minF,args.maxF,args.minBW,args.maxBW,\n",
    "                 args.minCoeff,args.maxCoeff,args.minG,args.maxG,args.minBiasLinNonLin,args.maxBiasLinNonLin,sr)                         \n",
    "        feature=SSI_additive_noise(feature,args.SNRmin,args.SNRmax,args.nBands,args.minF,args.maxF,args.minBW,args.maxBW,args.minCoeff,args.maxCoeff,args.minG,args.maxG,sr) \n",
    "\n",
    "    # Data process by 2nd and 3rd algo. together in series (2+3)\n",
    "    elif algo==7: \n",
    "        \n",
    "        feature=ISD_additive_noise(feature, args.P, args.g_sd)\n",
    "        feature=SSI_additive_noise(feature,args.SNRmin,args.SNRmax,args.nBands,args.minF,args.maxF,args.minBW,args.maxBW,args.minCoeff,args.maxCoeff,args.minG,args.maxG,sr) \n",
    "   \n",
    "    # Data process by 1st two algo. together in Parallel (1||2)\n",
    "    elif algo==8:\n",
    "        \n",
    "        feature1 =LnL_convolutive_noise(feature,args.N_f,args.nBands,args.minF,args.maxF,args.minBW,args.maxBW,\n",
    "                 args.minCoeff,args.maxCoeff,args.minG,args.maxG,args.minBiasLinNonLin,args.maxBiasLinNonLin,sr)                         \n",
    "        feature2=ISD_additive_noise(feature, args.P, args.g_sd)\n",
    "\n",
    "        feature_para=feature1+feature2\n",
    "        feature=normWav(feature_para,0)  #normalized resultant waveform\n",
    " \n",
    "    # original data without Rawboost processing           \n",
    "    else:\n",
    "        \n",
    "        feature=feature\n",
    "    \n",
    "    return feature"
   ]
  },
  {
   "cell_type": "code",
   "execution_count": 6,
   "id": "51f91053-6df5-427c-af97-f936a89cffcc",
   "metadata": {},
   "outputs": [],
   "source": [
    "import itertools\n",
    "import random\n",
    "import numpy as np\n",
    "\n",
    "import torch\n",
    "from torch.utils.data import Sampler\n",
    "from torch.utils.data import DataLoader, Dataset\n",
    "from typing import TypeVar, Iterable, Dict, List\n",
    "\n",
    "T_co = TypeVar('T_co', covariant=True)\n",
    "T = TypeVar('T')\n",
    "\n",
    "\n",
    "def send_to_device(tensor, device):\n",
    "    \"\"\"\n",
    "    Recursively sends the elements in a nested list/tuple/dictionary of tensors to a given device.\n",
    "\n",
    "    Args:\n",
    "        tensor (nested list/tuple/dictionary of :obj:`torch.Tensor`):\n",
    "            The data to send to a given device.\n",
    "        device (:obj:`torch.device`):\n",
    "            The device to send the data to\n",
    "\n",
    "    Returns:\n",
    "        The same data structure as :obj:`tensor` with all tensors sent to the proper device.\n",
    "    \"\"\"\n",
    "    if isinstance(tensor, (list, tuple)):\n",
    "        return type(tensor)(send_to_device(t, device) for t in tensor)\n",
    "    elif isinstance(tensor, dict):\n",
    "        return type(tensor)({k: send_to_device(v, device) for k, v in tensor.items()})\n",
    "    elif not hasattr(tensor, \"to\"):\n",
    "        return tensor\n",
    "    return tensor.to(device)\n",
    "\n",
    "\n",
    "class ForeverDataIterator:\n",
    "    r\"\"\"A data iterator that will never stop producing data\"\"\"\n",
    "\n",
    "    def __init__(self, data_loader: DataLoader, device=None):\n",
    "        self.data_loader = data_loader\n",
    "        self.iter = iter(self.data_loader)\n",
    "        self.device = device\n",
    "\n",
    "    def __next__(self):\n",
    "        try:\n",
    "            data = next(self.iter)\n",
    "            if self.device is not None:\n",
    "                data = send_to_device(data, self.device)\n",
    "        except StopIteration:\n",
    "            self.iter = iter(self.data_loader)\n",
    "            data = next(self.iter)\n",
    "            if self.device is not None:\n",
    "                data = send_to_device(data, self.device)\n",
    "        return data\n",
    "\n",
    "    def __len__(self):\n",
    "        return len(self.data_loader)\n",
    "\n",
    "\n",
    "def entropy(predictions: torch.Tensor, reduction='none') -> torch.Tensor:\n",
    "    r\"\"\"Entropy of prediction.\n",
    "    The definition is:\n",
    "\n",
    "    .. math::\n",
    "        entropy(p) = - \\sum_{c=1}^C p_c \\log p_c\n",
    "\n",
    "    where C is number of classes.\n",
    "\n",
    "    Args:\n",
    "        predictions (tensor): Classifier predictions. Expected to contain raw, normalized scores for each class\n",
    "        reduction (str, optional): Specifies the reduction to apply to the output:\n",
    "          ``'none'`` | ``'mean'``. ``'none'``: no reduction will be applied,\n",
    "          ``'mean'``: the sum of the output will be divided by the number of\n",
    "          elements in the output. Default: ``'mean'``\n",
    "\n",
    "    Shape:\n",
    "        - predictions: :math:`(minibatch, C)` where C means the number of classes.\n",
    "        - Output: :math:`(minibatch, )` by default. If :attr:`reduction` is ``'mean'``, then scalar.\n",
    "    \"\"\"\n",
    "    epsilon = 1e-5\n",
    "    H = -predictions * torch.log(predictions + epsilon)\n",
    "    H = H.sum(dim=1)\n",
    "    if reduction == 'mean':\n",
    "        return H.mean()\n",
    "    else:\n",
    "        return H\n",
    "\n",
    "\n",
    "\n",
    "class MinimumClassConfusionLoss(nn.Module):\n",
    "    r\"\"\"\n",
    "    Minimum Class Confusion loss minimizes the class confusion in the target predictions.\n",
    "\n",
    "    You can see more details in `Minimum Class Confusion for Versatile Domain Adaptation (ECCV 2020) <https://arxiv.org/abs/1912.03699>`_\n",
    "\n",
    "    Args:\n",
    "        temperature (float) : The temperature for rescaling, the prediction will shrink to vanilla softmax if\n",
    "          temperature is 1.0.\n",
    "\n",
    "    .. note::\n",
    "        Make sure that temperature is larger than 0.\n",
    "\n",
    "    Inputs: g_t\n",
    "        - g_t (tensor): unnormalized classifier predictions on target domain, :math:`g^t`\n",
    "\n",
    "    Shape:\n",
    "        - g_t: :math:`(minibatch, C)` where C means the number of classes.\n",
    "        - Output: scalar.\n",
    "\n",
    "    Examples::\n",
    "        >>> temperature = 2.0\n",
    "        >>> loss = MinimumClassConfusionLoss(temperature)\n",
    "        >>> # logits output from target domain\n",
    "        >>> g_t = torch.randn(batch_size, num_classes)\n",
    "        >>> output = loss(g_t)\n",
    "\n",
    "    MCC can also serve as a regularizer for existing methods.\n",
    "    Examples::\n",
    "        >>> from dalib.modules.domain_discriminator import DomainDiscriminator\n",
    "        >>> num_classes = 2\n",
    "        >>> feature_dim = 1024\n",
    "        >>> batch_size = 10\n",
    "        >>> temperature = 2.0\n",
    "        >>> discriminator = DomainDiscriminator(in_feature=feature_dim, hidden_size=1024)\n",
    "        >>> cdan_loss = ConditionalDomainAdversarialLoss(discriminator, reduction='mean')\n",
    "        >>> mcc_loss = MinimumClassConfusionLoss(temperature)\n",
    "        >>> # features from source domain and target domain\n",
    "        >>> f_s, f_t = torch.randn(batch_size, feature_dim), torch.randn(batch_size, feature_dim)\n",
    "        >>> # logits output from source domain adn target domain\n",
    "        >>> g_s, g_t = torch.randn(batch_size, num_classes), torch.randn(batch_size, num_classes)\n",
    "        >>> total_loss = cdan_loss(g_s, f_s, g_t, f_t) + mcc_loss(g_t)\n",
    "    \"\"\"\n",
    "\n",
    "    def __init__(self, temperature: float):\n",
    "        super(MinimumClassConfusionLoss, self).__init__()\n",
    "        self.temperature = temperature\n",
    "\n",
    "    def forward(self, logits: torch.Tensor) -> torch.Tensor:\n",
    "        batch_size, num_classes = logits.shape\n",
    "        predictions = F.softmax(logits / self.temperature, dim=1)  # batch_size x num_classes\n",
    "        entropy_weight = entropy(predictions).detach()\n",
    "        entropy_weight = 1 + torch.exp(-entropy_weight)\n",
    "        entropy_weight = (batch_size * entropy_weight / torch.sum(entropy_weight)).unsqueeze(dim=1)  # batch_size x 1\n",
    "        class_confusion_matrix = torch.mm((predictions * entropy_weight).transpose(1, 0), predictions) # num_classes x num_classes\n",
    "        class_confusion_matrix = class_confusion_matrix / torch.sum(class_confusion_matrix, dim=1)\n",
    "        mcc_loss = (torch.sum(class_confusion_matrix) - torch.trace(class_confusion_matrix)) / num_classes\n",
    "        return mcc_loss"
   ]
  },
  {
   "cell_type": "markdown",
   "id": "67f44dc4-acf4-43e9-946c-4e293983ec0d",
   "metadata": {},
   "source": [
    "# Seed"
   ]
  },
  {
   "cell_type": "code",
   "execution_count": 7,
   "id": "48443325-7a07-4502-a351-763911467b4b",
   "metadata": {},
   "outputs": [],
   "source": [
    "def set_random_seed(random_seed, args=None):\n",
    "    \"\"\" set_random_seed(random_seed, args=None)\n",
    "    \n",
    "    Set the random_seed for numpy, python, and cudnn\n",
    "    \n",
    "    input\n",
    "    -----\n",
    "      random_seed: integer random seed\n",
    "      args: argue parser\n",
    "    \"\"\"\n",
    "    \n",
    "    # initialization                                       \n",
    "    torch.manual_seed(random_seed)\n",
    "    random.seed(random_seed)\n",
    "    np.random.seed(random_seed)\n",
    "    os.environ['PYTHONHASHSEED'] = str(random_seed)\n",
    "\n",
    "    #For torch.backends.cudnn.deterministic\n",
    "    #Note: this default configuration may result in RuntimeError\n",
    "    #see https://pytorch.org/docs/stable/notes/randomness.html    \n",
    "    if args is None:\n",
    "        cudnn_deterministic = True\n",
    "        cudnn_benchmark = False\n",
    "    else:\n",
    "        cudnn_deterministic = args.cudnn_deterministic_toggle\n",
    "        cudnn_benchmark = args.cudnn_benchmark_toggle\n",
    "    \n",
    "        if not cudnn_deterministic:\n",
    "            print(\"cudnn_deterministic set to False\")\n",
    "        if cudnn_benchmark:\n",
    "            print(\"cudnn_benchmark set to True\")\n",
    "    \n",
    "    if torch.cuda.is_available():\n",
    "        torch.cuda.manual_seed_all(random_seed)\n",
    "        torch.backends.cudnn.deterministic = cudnn_deterministic\n",
    "        torch.backends.cudnn.benchmark = cudnn_benchmark\n",
    "    return"
   ]
  },
  {
   "cell_type": "markdown",
   "id": "99e5c4d0-927a-41a5-899d-1d35767d7a12",
   "metadata": {},
   "source": [
    "# Metrics"
   ]
  },
  {
   "cell_type": "code",
   "execution_count": 8,
   "id": "d127ff40-f591-4850-a107-2995665f6a56",
   "metadata": {},
   "outputs": [],
   "source": [
    "def expected_calibration_error(y_true, y_prob, n_bins=10):\n",
    "    prob_true, prob_pred = calibration_curve(y_true, y_prob, n_bins=n_bins, strategy='uniform')\n",
    "    bin_totals = np.histogram(y_prob, bins=np.linspace(0, 1, n_bins + 1), density=False)[0]\n",
    "    non_empty_bins = bin_totals > 0\n",
    "    bin_weights = bin_totals / len(y_prob)\n",
    "    bin_weights = bin_weights[non_empty_bins]\n",
    "    prob_true = prob_true[:len(bin_weights)]\n",
    "    prob_pred = prob_pred[:len(bin_weights)]\n",
    "    ece = np.sum(bin_weights * np.abs(prob_true - prob_pred))\n",
    "    return ece\n",
    "    \n",
    "def auc_brier_ece(answer_df, submission_df):\n",
    "    # Check for missing values in submission_df\n",
    "    if submission_df.isnull().values.any():\n",
    "        raise ValueError(\"The submission dataframe contains missing values.\")\n",
    "\n",
    "\n",
    "    # Check if the number and names of columns are the same in both dataframes\n",
    "    if len(answer_df.columns) != len(submission_df.columns) or not all(answer_df.columns == submission_df.columns):\n",
    "        raise ValueError(\"The columns of the answer and submission dataframes do not match.\")\n",
    "        \n",
    "    submission_df = submission_df[submission_df.iloc[:, 0].isin(answer_df.iloc[:, 0])]\n",
    "    submission_df.index = range(submission_df.shape[0])\n",
    "    \n",
    "    # Calculate AUC for each class\n",
    "    auc_scores = []\n",
    "    for column in answer_df.columns[1:]:\n",
    "        y_true = answer_df[column]\n",
    "        y_scores = submission_df[column]\n",
    "        auc = roc_auc_score(y_true, y_scores)\n",
    "        auc_scores.append(auc)\n",
    "\n",
    "\n",
    "    # Calculate mean AUC\n",
    "    mean_auc = np.mean(auc_scores)\n",
    "\n",
    "\n",
    "    brier_scores = []\n",
    "    ece_scores = []\n",
    "    \n",
    "    # Calculate Brier Score and ECE for each class\n",
    "    for column in answer_df.columns[1:]:\n",
    "        y_true = answer_df[column].values\n",
    "        y_prob = submission_df[column].values\n",
    "        \n",
    "        # Brier Score\n",
    "        brier = mean_squared_error(y_true, y_prob)\n",
    "        brier_scores.append(brier)\n",
    "        \n",
    "        # ECE\n",
    "        ece = expected_calibration_error(y_true, y_prob)\n",
    "        ece_scores.append(ece)\n",
    "    \n",
    "    # Calculate mean Brier Score and mean ECE\n",
    "    mean_brier = np.mean(brier_scores)\n",
    "    mean_ece = np.mean(ece_scores)\n",
    "    \n",
    "    # Calculate combined score\n",
    "    combined_score = 0.5 * (1 - mean_auc) + 0.25 * mean_brier + 0.25 * mean_ece\n",
    "    \n",
    "    return combined_score"
   ]
  },
  {
   "cell_type": "markdown",
   "id": "89010705-cca9-4480-9a00-a524664440f0",
   "metadata": {},
   "source": [
    "# Main"
   ]
  },
  {
   "cell_type": "code",
   "execution_count": 9,
   "id": "9a632e17-5bb0-4a5b-a45a-0e98407b6a79",
   "metadata": {},
   "outputs": [],
   "source": [
    "def produce_evaluation_file(\n",
    "    data_loader: DataLoader,\n",
    "    model,\n",
    "    device: torch.device,\n",
    "    id):\n",
    "    \"\"\"Perform evaluation and save the score to a file\"\"\"\n",
    "    model.eval()\n",
    "\n",
    "    predictions = []\n",
    "    trues = []\n",
    "    with torch.no_grad():\n",
    "        for batch_x, batch_y in tqdm(data_loader, leave=False):\n",
    "            batch_x = batch_x.to(device)\n",
    "            batch_out = torch.sigmoid(model(batch_x)[0]).cpu().detach().numpy()\n",
    "            # add outputs\n",
    "            predictions += batch_out.tolist()\n",
    "            trues += batch_y.numpy().tolist()\n",
    "    predictions = np.array(predictions)\n",
    "    trues = np.array(trues)\n",
    "    sub = pd.DataFrame({'id':id,\n",
    "                  'fake':predictions[:,0],\n",
    "                  'real':predictions[:,1]})\n",
    "\n",
    "    ans = pd.DataFrame({'id':id,\n",
    "                  'fake':trues[:,0],\n",
    "                  'real':trues[:,1]})\n",
    "\n",
    "    combine_score = auc_brier_ece(ans, sub)\n",
    "    return combine_score\n",
    "\n",
    "def inference(data_loader, model, device, save_path):\n",
    "    model.to(device)\n",
    "    model.eval()\n",
    "    predictions = []\n",
    "    with torch.no_grad():\n",
    "        for features in tqdm(iter(data_loader)):\n",
    "            features = features.to(device)\n",
    "            \n",
    "            probs = torch.sigmoid(model(features)[0])\n",
    "            \n",
    "            probs  = probs.cpu().detach().numpy()\n",
    "            predictions += probs.tolist()\n",
    "    submit = pd.read_csv('./sample_submission.csv')\n",
    "    submit.iloc[:, 1:] = predictions\n",
    "    submit.to_csv(save_path, index=False)\n",
    "    \n",
    "def label_smoothing(labels, smoothing=0.1):\n",
    "\n",
    "    assert 0 <= smoothing < 1\n",
    "    with torch.no_grad():\n",
    "        smoothed_labels = labels * (1 - smoothing) + smoothing / 2\n",
    "        \n",
    "    return smoothed_labels\n",
    "\n",
    "def train(train_source_iter: ForeverDataIterator, train_target_iter: ForeverDataIterator, model,\n",
    "          domain_adv: ConditionalDomainAdversarialLoss,optimizer, ad_optimizer,\n",
    "          lr_scheduler: LambdaLR, lr_scheduler_ad,\n",
    "          epoch: int, args: argparse.Namespace):\n",
    "    # switch to train mode\n",
    "    model.train()\n",
    "    domain_adv.train()\n",
    "    criterion = nn.BCEWithLogitsLoss()\n",
    "    total_cls_loss = 0\n",
    "    total_transfer_loss = 0\n",
    "    total_loss = 0\n",
    "    for i in tqdm(range(args.iters_per_epoch)):\n",
    "        x_s, labels_s = next(train_source_iter)\n",
    "        x_t= next(train_target_iter)\n",
    "\n",
    "        x_s = x_s.to(device)\n",
    "        x_t = x_t.to(device)\n",
    "        labels_s = label_smoothing(labels_s).to(device)\n",
    "\n",
    "        # measure data loading time\n",
    "        optimizer.zero_grad()\n",
    "        ad_optimizer.zero_grad()\n",
    "\n",
    "        # compute task loss for first step\n",
    "        x = torch.cat((x_s, x_t), dim=0)\n",
    "        y, f = model(x)\n",
    "        y_s, y_t = y.chunk(2, dim=0)\n",
    "        f_s, f_t = f.chunk(2, dim=0)\n",
    "        cls_loss = criterion(y_s, labels_s)\n",
    "        loss = cls_loss \n",
    "        loss.backward()\n",
    "\n",
    "        # Calculate ϵ̂ (w) and add it to the weights\n",
    "        optimizer.first_step(zero_grad=True)\n",
    "\n",
    "        # Calculate task loss and domain loss\n",
    "        y, f = model(x)\n",
    "        y_s, y_t = y.chunk(2, dim=0)\n",
    "        f_s, f_t = f.chunk(2, dim=0)\n",
    "\n",
    "        cls_loss = criterion(y_s, labels_s)\n",
    "        transfer_loss = domain_adv(y_s, f_s, y_t, f_t)\n",
    "        loss = cls_loss + transfer_loss * 1.\n",
    "        \n",
    "        total_cls_loss += cls_loss\n",
    "        total_transfer_loss += transfer_loss\n",
    "        total_loss += loss\n",
    "        \n",
    "        loss.backward()\n",
    "        # Update parameters of domain classifier\n",
    "        ad_optimizer.step()\n",
    "        # Update parameters (Sharpness-Aware update)\n",
    "        optimizer.second_step(zero_grad=True)\n",
    "    lr_scheduler.step(total_cls_loss)\n",
    "    lr_scheduler_ad.step(total_transfer_loss)\n",
    "\n",
    "    return total_cls_loss, total_transfer_loss, total_loss"
   ]
  },
  {
   "cell_type": "code",
   "execution_count": 10,
   "id": "55443bd9-edb5-4a18-a523-36fa0884cc05",
   "metadata": {},
   "outputs": [],
   "source": [
    "\"\"\"\n",
    "@author: Junguang Jiang\n",
    "@contact: JiangJunguang1123@outlook.com\n",
    "\"\"\"\n",
    "from typing import List, Dict\n",
    "import torch.nn as nn\n",
    "\n",
    "__all__ = ['DomainDiscriminator']\n",
    "\n",
    "\n",
    "class DomainDiscriminator(nn.Sequential):\n",
    "    r\"\"\"Domain discriminator model from\n",
    "    `Domain-Adversarial Training of Neural Networks (ICML 2015) <https://arxiv.org/abs/1505.07818>`_\n",
    "\n",
    "    Distinguish whether the input features come from the source domain or the target domain.\n",
    "    The source domain label is 1 and the target domain label is 0.\n",
    "\n",
    "    Args:\n",
    "        in_feature (int): dimension of the input feature\n",
    "        hidden_size (int): dimension of the hidden features\n",
    "        batch_norm (bool): whether use :class:`~torch.nn.BatchNorm1d`.\n",
    "            Use :class:`~torch.nn.Dropout` if ``batch_norm`` is False. Default: True.\n",
    "\n",
    "    Shape:\n",
    "        - Inputs: (minibatch, `in_feature`)\n",
    "        - Outputs: :math:`(minibatch, 1)`\n",
    "    \"\"\"\n",
    "\n",
    "    def __init__(self, in_feature: int, hidden_size: int, batch_norm=True):\n",
    "        if batch_norm:\n",
    "            super(DomainDiscriminator, self).__init__(\n",
    "                nn.Linear(in_feature, hidden_size),\n",
    "                nn.BatchNorm1d(hidden_size),\n",
    "                nn.ReLU(),\n",
    "                nn.Linear(hidden_size, hidden_size),\n",
    "                nn.BatchNorm1d(hidden_size),\n",
    "                nn.ReLU(),\n",
    "                nn.Linear(hidden_size, 1),\n",
    "                nn.Sigmoid()\n",
    "            )\n",
    "        else:\n",
    "            super(DomainDiscriminator, self).__init__(\n",
    "                nn.Linear(in_feature, hidden_size),\n",
    "                nn.ReLU(inplace=True),\n",
    "                nn.Dropout(0.5),\n",
    "                nn.Linear(hidden_size, hidden_size),\n",
    "                nn.ReLU(inplace=True),\n",
    "                nn.Dropout(0.5),\n",
    "                nn.Linear(hidden_size, 1),\n",
    "                nn.Sigmoid()\n",
    "            )\n",
    "\n",
    "    def get_parameters(self) -> List[Dict]:\n",
    "        return [{\"params\": self.parameters(), \"lr\": 1.}]"
   ]
  },
  {
   "cell_type": "code",
   "execution_count": 11,
   "id": "4da08fd0",
   "metadata": {
    "scrolled": true
   },
   "outputs": [
    {
     "name": "stdout",
     "output_type": "stream",
     "text": [
      "Device: cuda\n",
      "nb_params: 297866\n"
     ]
    },
    {
     "name": "stderr",
     "output_type": "stream",
     "text": [
      "\u001b[34m\u001b[1mwandb\u001b[0m: Currently logged in as: \u001b[33mbeok\u001b[0m (\u001b[33mbeokay\u001b[0m). Use \u001b[1m`wandb login --relogin`\u001b[0m to force relogin\n"
     ]
    },
    {
     "data": {
      "text/html": [
       "wandb version 0.17.4 is available!  To upgrade, please run:\n",
       " $ pip install wandb --upgrade"
      ],
      "text/plain": [
       "<IPython.core.display.HTML object>"
      ]
     },
     "metadata": {},
     "output_type": "display_data"
    },
    {
     "data": {
      "text/html": [
       "Tracking run with wandb version 0.17.3"
      ],
      "text/plain": [
       "<IPython.core.display.HTML object>"
      ]
     },
     "metadata": {},
     "output_type": "display_data"
    },
    {
     "data": {
      "text/html": [
       "Run data is saved locally in <code>/home/server4/Desktop/ai/wandb/run-20240718_001221-0apreutk</code>"
      ],
      "text/plain": [
       "<IPython.core.display.HTML object>"
      ]
     },
     "metadata": {},
     "output_type": "display_data"
    },
    {
     "data": {
      "text/html": [
       "Syncing run <strong><a href='https://wandb.ai/beokay/FOLD_ADAM_BEST/runs/0apreutk' target=\"_blank\">fold3</a></strong> to <a href='https://wandb.ai/beokay/FOLD_ADAM_BEST' target=\"_blank\">Weights & Biases</a> (<a href='https://wandb.me/run' target=\"_blank\">docs</a>)<br/>"
      ],
      "text/plain": [
       "<IPython.core.display.HTML object>"
      ]
     },
     "metadata": {},
     "output_type": "display_data"
    },
    {
     "data": {
      "text/html": [
       " View project at <a href='https://wandb.ai/beokay/FOLD_ADAM_BEST' target=\"_blank\">https://wandb.ai/beokay/FOLD_ADAM_BEST</a>"
      ],
      "text/plain": [
       "<IPython.core.display.HTML object>"
      ]
     },
     "metadata": {},
     "output_type": "display_data"
    },
    {
     "data": {
      "text/html": [
       " View run at <a href='https://wandb.ai/beokay/FOLD_ADAM_BEST/runs/0apreutk' target=\"_blank\">https://wandb.ai/beokay/FOLD_ADAM_BEST/runs/0apreutk</a>"
      ],
      "text/plain": [
       "<IPython.core.display.HTML object>"
      ]
     },
     "metadata": {},
     "output_type": "display_data"
    },
    {
     "data": {
      "application/vnd.jupyter.widget-view+json": {
       "model_id": "e9529a175b6645c4b54ddc5b5ad584e9",
       "version_major": 2,
       "version_minor": 0
      },
      "text/plain": [
       "  0%|          | 0/1000 [00:00<?, ?it/s]"
      ]
     },
     "metadata": {},
     "output_type": "display_data"
    },
    {
     "data": {
      "application/vnd.jupyter.widget-view+json": {
       "model_id": "",
       "version_major": 2,
       "version_minor": 0
      },
      "text/plain": [
       "  0%|          | 0/1386 [00:00<?, ?it/s]"
      ]
     },
     "metadata": {},
     "output_type": "display_data"
    },
    {
     "name": "stdout",
     "output_type": "stream",
     "text": [
      "tensor([[0.5272, 0.8502],\n",
      "        [0.7109, 0.6605],\n",
      "        [0.7888, 0.4735],\n",
      "        [0.7381, 0.5481],\n",
      "        [0.7510, 0.5830],\n",
      "        [0.5876, 0.7944],\n",
      "        [0.7556, 0.5621],\n",
      "        [0.7288, 0.5869]], device='cuda:0', grad_fn=<SigmoidBackward0>)\n",
      "Epoch:0, combine_score:0.197336, cls_loss:651.281311, transfer_loss:481.135071, total_loss:1132.416870\n",
      "\n"
     ]
    },
    {
     "data": {
      "application/vnd.jupyter.widget-view+json": {
       "model_id": "965c252ef9b94355889015ec4f1f494f",
       "version_major": 2,
       "version_minor": 0
      },
      "text/plain": [
       "  0%|          | 0/1000 [00:00<?, ?it/s]"
      ]
     },
     "metadata": {},
     "output_type": "display_data"
    },
    {
     "data": {
      "application/vnd.jupyter.widget-view+json": {
       "model_id": "",
       "version_major": 2,
       "version_minor": 0
      },
      "text/plain": [
       "  0%|          | 0/1386 [00:00<?, ?it/s]"
      ]
     },
     "metadata": {},
     "output_type": "display_data"
    },
    {
     "name": "stdout",
     "output_type": "stream",
     "text": [
      "tensor([[0.4321, 0.8877],\n",
      "        [0.6785, 0.7003],\n",
      "        [0.8241, 0.4800],\n",
      "        [0.7332, 0.6200],\n",
      "        [0.7498, 0.5874],\n",
      "        [0.5447, 0.8158],\n",
      "        [0.7597, 0.5628],\n",
      "        [0.7525, 0.5827]], device='cuda:0', grad_fn=<SigmoidBackward0>)\n",
      "Epoch:1, combine_score:0.167372, cls_loss:595.580566, transfer_loss:644.545654, total_loss:1240.125488\n",
      "\n"
     ]
    },
    {
     "data": {
      "application/vnd.jupyter.widget-view+json": {
       "model_id": "0a07d87525924d4a80018dfaec1d68c5",
       "version_major": 2,
       "version_minor": 0
      },
      "text/plain": [
       "  0%|          | 0/1000 [00:00<?, ?it/s]"
      ]
     },
     "metadata": {},
     "output_type": "display_data"
    },
    {
     "data": {
      "application/vnd.jupyter.widget-view+json": {
       "model_id": "",
       "version_major": 2,
       "version_minor": 0
      },
      "text/plain": [
       "  0%|          | 0/1386 [00:00<?, ?it/s]"
      ]
     },
     "metadata": {},
     "output_type": "display_data"
    },
    {
     "name": "stdout",
     "output_type": "stream",
     "text": [
      "tensor([[0.5638, 0.8285],\n",
      "        [0.6753, 0.6797],\n",
      "        [0.8502, 0.4155],\n",
      "        [0.7424, 0.5810],\n",
      "        [0.7669, 0.5228],\n",
      "        [0.6222, 0.7526],\n",
      "        [0.7841, 0.5390],\n",
      "        [0.7720, 0.5557]], device='cuda:0', grad_fn=<SigmoidBackward0>)\n",
      "Epoch:2, combine_score:0.130794, cls_loss:567.327209, transfer_loss:657.971375, total_loss:1225.297974\n",
      "\n"
     ]
    },
    {
     "data": {
      "application/vnd.jupyter.widget-view+json": {
       "model_id": "c4a371f94f394a1fb642956af1cdaab1",
       "version_major": 2,
       "version_minor": 0
      },
      "text/plain": [
       "  0%|          | 0/1000 [00:00<?, ?it/s]"
      ]
     },
     "metadata": {},
     "output_type": "display_data"
    },
    {
     "data": {
      "application/vnd.jupyter.widget-view+json": {
       "model_id": "",
       "version_major": 2,
       "version_minor": 0
      },
      "text/plain": [
       "  0%|          | 0/1386 [00:00<?, ?it/s]"
      ]
     },
     "metadata": {},
     "output_type": "display_data"
    },
    {
     "name": "stdout",
     "output_type": "stream",
     "text": [
      "tensor([[0.3545, 0.9248],\n",
      "        [0.7004, 0.5954],\n",
      "        [0.9182, 0.2667],\n",
      "        [0.5837, 0.7605],\n",
      "        [0.7683, 0.5191],\n",
      "        [0.6255, 0.7368],\n",
      "        [0.8478, 0.4207],\n",
      "        [0.6808, 0.7006]], device='cuda:0', grad_fn=<SigmoidBackward0>)\n",
      "Epoch:3, combine_score:0.116465, cls_loss:542.743530, transfer_loss:667.589905, total_loss:1210.332886\n",
      "\n"
     ]
    },
    {
     "data": {
      "application/vnd.jupyter.widget-view+json": {
       "model_id": "e3d660aeb2334fc98d9cc70c2cd88889",
       "version_major": 2,
       "version_minor": 0
      },
      "text/plain": [
       "  0%|          | 0/1000 [00:00<?, ?it/s]"
      ]
     },
     "metadata": {},
     "output_type": "display_data"
    },
    {
     "data": {
      "application/vnd.jupyter.widget-view+json": {
       "model_id": "",
       "version_major": 2,
       "version_minor": 0
      },
      "text/plain": [
       "  0%|          | 0/1386 [00:00<?, ?it/s]"
      ]
     },
     "metadata": {},
     "output_type": "display_data"
    },
    {
     "name": "stdout",
     "output_type": "stream",
     "text": [
      "tensor([[0.4005, 0.9184],\n",
      "        [0.8313, 0.5541],\n",
      "        [0.9277, 0.3264],\n",
      "        [0.7876, 0.6111],\n",
      "        [0.8162, 0.5751],\n",
      "        [0.8455, 0.5602],\n",
      "        [0.9443, 0.3031],\n",
      "        [0.7114, 0.7285]], device='cuda:0', grad_fn=<SigmoidBackward0>)\n",
      "Epoch:4, combine_score:0.107939, cls_loss:510.191406, transfer_loss:679.180725, total_loss:1189.370239\n",
      "\n"
     ]
    },
    {
     "data": {
      "application/vnd.jupyter.widget-view+json": {
       "model_id": "da8c1732c39647f79fb1291169a7483e",
       "version_major": 2,
       "version_minor": 0
      },
      "text/plain": [
       "  0%|          | 0/1000 [00:00<?, ?it/s]"
      ]
     },
     "metadata": {},
     "output_type": "display_data"
    },
    {
     "data": {
      "application/vnd.jupyter.widget-view+json": {
       "model_id": "",
       "version_major": 2,
       "version_minor": 0
      },
      "text/plain": [
       "  0%|          | 0/1386 [00:00<?, ?it/s]"
      ]
     },
     "metadata": {},
     "output_type": "display_data"
    },
    {
     "name": "stdout",
     "output_type": "stream",
     "text": [
      "tensor([[0.3187, 0.9321],\n",
      "        [0.8159, 0.6150],\n",
      "        [0.9516, 0.2662],\n",
      "        [0.7349, 0.7325],\n",
      "        [0.7859, 0.6311],\n",
      "        [0.8662, 0.5632],\n",
      "        [0.9490, 0.3053],\n",
      "        [0.4217, 0.9117]], device='cuda:0', grad_fn=<SigmoidBackward0>)\n",
      "Epoch:5, combine_score:0.082993, cls_loss:491.375061, transfer_loss:680.342834, total_loss:1171.717773\n",
      "\n"
     ]
    },
    {
     "data": {
      "application/vnd.jupyter.widget-view+json": {
       "model_id": "0895e8aca14946bab318b285ac5aef03",
       "version_major": 2,
       "version_minor": 0
      },
      "text/plain": [
       "  0%|          | 0/1000 [00:00<?, ?it/s]"
      ]
     },
     "metadata": {},
     "output_type": "display_data"
    },
    {
     "data": {
      "application/vnd.jupyter.widget-view+json": {
       "model_id": "",
       "version_major": 2,
       "version_minor": 0
      },
      "text/plain": [
       "  0%|          | 0/1386 [00:00<?, ?it/s]"
      ]
     },
     "metadata": {},
     "output_type": "display_data"
    },
    {
     "name": "stdout",
     "output_type": "stream",
     "text": [
      "tensor([[0.2726, 0.9546],\n",
      "        [0.8266, 0.6705],\n",
      "        [0.9624, 0.2427],\n",
      "        [0.6597, 0.8430],\n",
      "        [0.7582, 0.7462],\n",
      "        [0.7592, 0.7525],\n",
      "        [0.9485, 0.3436],\n",
      "        [0.4685, 0.9151]], device='cuda:0', grad_fn=<SigmoidBackward0>)\n",
      "Epoch:6, combine_score:0.072809, cls_loss:465.984894, transfer_loss:682.920715, total_loss:1148.903809\n",
      "\n"
     ]
    },
    {
     "data": {
      "application/vnd.jupyter.widget-view+json": {
       "model_id": "db3c2d6c233243d28bf83a65f384c359",
       "version_major": 2,
       "version_minor": 0
      },
      "text/plain": [
       "  0%|          | 0/1000 [00:00<?, ?it/s]"
      ]
     },
     "metadata": {},
     "output_type": "display_data"
    },
    {
     "data": {
      "application/vnd.jupyter.widget-view+json": {
       "model_id": "",
       "version_major": 2,
       "version_minor": 0
      },
      "text/plain": [
       "  0%|          | 0/1386 [00:00<?, ?it/s]"
      ]
     },
     "metadata": {},
     "output_type": "display_data"
    },
    {
     "name": "stdout",
     "output_type": "stream",
     "text": [
      "tensor([[0.2108, 0.9487],\n",
      "        [0.8733, 0.5683],\n",
      "        [0.9730, 0.1488],\n",
      "        [0.7102, 0.7956],\n",
      "        [0.8534, 0.5647],\n",
      "        [0.8559, 0.6192],\n",
      "        [0.9563, 0.2533],\n",
      "        [0.4879, 0.8977]], device='cuda:0', grad_fn=<SigmoidBackward0>)\n",
      "Epoch:7, combine_score:0.074462, cls_loss:458.230408, transfer_loss:682.476685, total_loss:1140.707397\n",
      "\n"
     ]
    },
    {
     "data": {
      "application/vnd.jupyter.widget-view+json": {
       "model_id": "99badc61c45b4596908454bc3b9e42cc",
       "version_major": 2,
       "version_minor": 0
      },
      "text/plain": [
       "  0%|          | 0/1000 [00:00<?, ?it/s]"
      ]
     },
     "metadata": {},
     "output_type": "display_data"
    },
    {
     "data": {
      "application/vnd.jupyter.widget-view+json": {
       "model_id": "",
       "version_major": 2,
       "version_minor": 0
      },
      "text/plain": [
       "  0%|          | 0/1386 [00:00<?, ?it/s]"
      ]
     },
     "metadata": {},
     "output_type": "display_data"
    },
    {
     "name": "stdout",
     "output_type": "stream",
     "text": [
      "tensor([[0.2414, 0.9245],\n",
      "        [0.8582, 0.7143],\n",
      "        [0.9672, 0.1934],\n",
      "        [0.8429, 0.6999],\n",
      "        [0.8289, 0.6843],\n",
      "        [0.8052, 0.7258],\n",
      "        [0.9619, 0.2478],\n",
      "        [0.4103, 0.9313]], device='cuda:0', grad_fn=<SigmoidBackward0>)\n",
      "Epoch:8, combine_score:0.075188, cls_loss:446.372284, transfer_loss:686.729675, total_loss:1133.100586\n",
      "\n"
     ]
    },
    {
     "data": {
      "application/vnd.jupyter.widget-view+json": {
       "model_id": "9c045e910b1c487884f0166976ea4cce",
       "version_major": 2,
       "version_minor": 0
      },
      "text/plain": [
       "  0%|          | 0/1000 [00:00<?, ?it/s]"
      ]
     },
     "metadata": {},
     "output_type": "display_data"
    },
    {
     "data": {
      "application/vnd.jupyter.widget-view+json": {
       "model_id": "",
       "version_major": 2,
       "version_minor": 0
      },
      "text/plain": [
       "  0%|          | 0/1386 [00:00<?, ?it/s]"
      ]
     },
     "metadata": {},
     "output_type": "display_data"
    },
    {
     "name": "stdout",
     "output_type": "stream",
     "text": [
      "tensor([[0.4534, 0.9235],\n",
      "        [0.9064, 0.5986],\n",
      "        [0.9778, 0.0960],\n",
      "        [0.8980, 0.5391],\n",
      "        [0.9209, 0.4181],\n",
      "        [0.9350, 0.5737],\n",
      "        [0.9698, 0.1375],\n",
      "        [0.6773, 0.8374]], device='cuda:0', grad_fn=<SigmoidBackward0>)\n",
      "Epoch:9, combine_score:0.091659, cls_loss:431.644440, transfer_loss:686.641724, total_loss:1118.286499\n",
      "\n"
     ]
    },
    {
     "data": {
      "application/vnd.jupyter.widget-view+json": {
       "model_id": "43dfce58eaa64950827118930ec6c44b",
       "version_major": 2,
       "version_minor": 0
      },
      "text/plain": [
       "  0%|          | 0/1000 [00:00<?, ?it/s]"
      ]
     },
     "metadata": {},
     "output_type": "display_data"
    },
    {
     "data": {
      "application/vnd.jupyter.widget-view+json": {
       "model_id": "",
       "version_major": 2,
       "version_minor": 0
      },
      "text/plain": [
       "  0%|          | 0/1386 [00:00<?, ?it/s]"
      ]
     },
     "metadata": {},
     "output_type": "display_data"
    },
    {
     "name": "stdout",
     "output_type": "stream",
     "text": [
      "tensor([[0.2450, 0.9348],\n",
      "        [0.8983, 0.6108],\n",
      "        [0.9621, 0.1554],\n",
      "        [0.8556, 0.7503],\n",
      "        [0.8346, 0.7282],\n",
      "        [0.8625, 0.7367],\n",
      "        [0.9470, 0.2635],\n",
      "        [0.4621, 0.9037]], device='cuda:0', grad_fn=<SigmoidBackward0>)\n",
      "Epoch:10, combine_score:0.072354, cls_loss:422.711700, transfer_loss:686.599609, total_loss:1109.311035\n",
      "\n"
     ]
    },
    {
     "data": {
      "application/vnd.jupyter.widget-view+json": {
       "model_id": "5b965956152945978dbc6d9e5ab3bda5",
       "version_major": 2,
       "version_minor": 0
      },
      "text/plain": [
       "  0%|          | 0/1000 [00:00<?, ?it/s]"
      ]
     },
     "metadata": {},
     "output_type": "display_data"
    },
    {
     "data": {
      "application/vnd.jupyter.widget-view+json": {
       "model_id": "",
       "version_major": 2,
       "version_minor": 0
      },
      "text/plain": [
       "  0%|          | 0/1386 [00:00<?, ?it/s]"
      ]
     },
     "metadata": {},
     "output_type": "display_data"
    },
    {
     "name": "stdout",
     "output_type": "stream",
     "text": [
      "tensor([[0.0977, 0.9303],\n",
      "        [0.8769, 0.7879],\n",
      "        [0.9628, 0.1349],\n",
      "        [0.7371, 0.8923],\n",
      "        [0.8727, 0.6939],\n",
      "        [0.5714, 0.8469],\n",
      "        [0.9434, 0.3107],\n",
      "        [0.3235, 0.9137]], device='cuda:0', grad_fn=<SigmoidBackward0>)\n",
      "Epoch:11, combine_score:0.054725, cls_loss:417.888306, transfer_loss:683.347473, total_loss:1101.234985\n",
      "\n"
     ]
    },
    {
     "data": {
      "application/vnd.jupyter.widget-view+json": {
       "model_id": "1eb3070926e247d3a205bde56db58e31",
       "version_major": 2,
       "version_minor": 0
      },
      "text/plain": [
       "  0%|          | 0/1000 [00:00<?, ?it/s]"
      ]
     },
     "metadata": {},
     "output_type": "display_data"
    },
    {
     "data": {
      "application/vnd.jupyter.widget-view+json": {
       "model_id": "",
       "version_major": 2,
       "version_minor": 0
      },
      "text/plain": [
       "  0%|          | 0/1386 [00:00<?, ?it/s]"
      ]
     },
     "metadata": {},
     "output_type": "display_data"
    },
    {
     "name": "stdout",
     "output_type": "stream",
     "text": [
      "tensor([[0.0888, 0.9256],\n",
      "        [0.8780, 0.8241],\n",
      "        [0.9541, 0.1324],\n",
      "        [0.8541, 0.8316],\n",
      "        [0.8808, 0.6986],\n",
      "        [0.5642, 0.8580],\n",
      "        [0.9447, 0.2932],\n",
      "        [0.2550, 0.8999]], device='cuda:0', grad_fn=<SigmoidBackward0>)\n",
      "Epoch:12, combine_score:0.053013, cls_loss:406.525085, transfer_loss:686.250488, total_loss:1092.775879\n",
      "\n"
     ]
    },
    {
     "data": {
      "application/vnd.jupyter.widget-view+json": {
       "model_id": "1895a06ffa09404280e5e51b6607ebea",
       "version_major": 2,
       "version_minor": 0
      },
      "text/plain": [
       "  0%|          | 0/1000 [00:00<?, ?it/s]"
      ]
     },
     "metadata": {},
     "output_type": "display_data"
    },
    {
     "data": {
      "application/vnd.jupyter.widget-view+json": {
       "model_id": "",
       "version_major": 2,
       "version_minor": 0
      },
      "text/plain": [
       "  0%|          | 0/1386 [00:00<?, ?it/s]"
      ]
     },
     "metadata": {},
     "output_type": "display_data"
    },
    {
     "name": "stdout",
     "output_type": "stream",
     "text": [
      "tensor([[0.5197, 0.8962],\n",
      "        [0.9088, 0.6023],\n",
      "        [0.9579, 0.0766],\n",
      "        [0.9044, 0.6203],\n",
      "        [0.9080, 0.4743],\n",
      "        [0.8743, 0.7246],\n",
      "        [0.9441, 0.1563],\n",
      "        [0.3301, 0.8892]], device='cuda:0', grad_fn=<SigmoidBackward0>)\n",
      "Epoch:13, combine_score:0.063538, cls_loss:401.439514, transfer_loss:685.318604, total_loss:1086.757812\n",
      "\n"
     ]
    },
    {
     "data": {
      "application/vnd.jupyter.widget-view+json": {
       "model_id": "1a0b33f6269b439eab85de235451ebb6",
       "version_major": 2,
       "version_minor": 0
      },
      "text/plain": [
       "  0%|          | 0/1000 [00:00<?, ?it/s]"
      ]
     },
     "metadata": {},
     "output_type": "display_data"
    },
    {
     "data": {
      "application/vnd.jupyter.widget-view+json": {
       "model_id": "6be29dbab60c40e88834bf1b88c8c712",
       "version_major": 2,
       "version_minor": 0
      },
      "text/plain": [
       "  0%|          | 0/1386 [00:00<?, ?it/s]"
      ]
     },
     "metadata": {},
     "output_type": "display_data"
    },
    {
     "name": "stdout",
     "output_type": "stream",
     "text": [
      "tensor([[0.7233, 0.9065],\n",
      "        [0.9204, 0.5550],\n",
      "        [0.9530, 0.0939],\n",
      "        [0.8772, 0.7949],\n",
      "        [0.8917, 0.6246],\n",
      "        [0.9005, 0.7739],\n",
      "        [0.9402, 0.1777],\n",
      "        [0.4475, 0.8887]], device='cuda:0', grad_fn=<SigmoidBackward0>)\n",
      "Epoch:14, combine_score:0.053145, cls_loss:397.493378, transfer_loss:688.919189, total_loss:1086.412109\n",
      "\n"
     ]
    },
    {
     "data": {
      "application/vnd.jupyter.widget-view+json": {
       "model_id": "e5725f1c064f4486b5b333625157b4fd",
       "version_major": 2,
       "version_minor": 0
      },
      "text/plain": [
       "  0%|          | 0/1000 [00:00<?, ?it/s]"
      ]
     },
     "metadata": {},
     "output_type": "display_data"
    },
    {
     "data": {
      "application/vnd.jupyter.widget-view+json": {
       "model_id": "8e1c41d363d94ee392572e889fbe68da",
       "version_major": 2,
       "version_minor": 0
      },
      "text/plain": [
       "  0%|          | 0/1386 [00:00<?, ?it/s]"
      ]
     },
     "metadata": {},
     "output_type": "display_data"
    },
    {
     "name": "stdout",
     "output_type": "stream",
     "text": [
      "tensor([[0.2739, 0.9256],\n",
      "        [0.9181, 0.6137],\n",
      "        [0.9582, 0.0418],\n",
      "        [0.8961, 0.7512],\n",
      "        [0.8944, 0.6440],\n",
      "        [0.8799, 0.8308],\n",
      "        [0.9444, 0.0940],\n",
      "        [0.2868, 0.8832]], device='cuda:0', grad_fn=<SigmoidBackward0>)\n",
      "Epoch:15, combine_score:0.049336, cls_loss:387.621246, transfer_loss:686.629700, total_loss:1074.250732\n",
      "\n"
     ]
    },
    {
     "data": {
      "application/vnd.jupyter.widget-view+json": {
       "model_id": "b7db0bcdf2e84fd8b9c9388ca841a1ea",
       "version_major": 2,
       "version_minor": 0
      },
      "text/plain": [
       "  0%|          | 0/1000 [00:00<?, ?it/s]"
      ]
     },
     "metadata": {},
     "output_type": "display_data"
    },
    {
     "data": {
      "application/vnd.jupyter.widget-view+json": {
       "model_id": "e2ef5b21d8d74878bba0fb2606fd5959",
       "version_major": 2,
       "version_minor": 0
      },
      "text/plain": [
       "  0%|          | 0/1386 [00:00<?, ?it/s]"
      ]
     },
     "metadata": {},
     "output_type": "display_data"
    },
    {
     "name": "stdout",
     "output_type": "stream",
     "text": [
      "tensor([[0.1933, 0.9195],\n",
      "        [0.9160, 0.7518],\n",
      "        [0.9553, 0.0545],\n",
      "        [0.9152, 0.6257],\n",
      "        [0.9134, 0.4612],\n",
      "        [0.8493, 0.8384],\n",
      "        [0.9454, 0.1266],\n",
      "        [0.6435, 0.8334]], device='cuda:0', grad_fn=<SigmoidBackward0>)\n",
      "Epoch:16, combine_score:0.052477, cls_loss:386.525360, transfer_loss:686.969238, total_loss:1073.494385\n",
      "\n"
     ]
    },
    {
     "data": {
      "application/vnd.jupyter.widget-view+json": {
       "model_id": "815e8fdd930a467e989b4405df4e8c26",
       "version_major": 2,
       "version_minor": 0
      },
      "text/plain": [
       "  0%|          | 0/1000 [00:00<?, ?it/s]"
      ]
     },
     "metadata": {},
     "output_type": "display_data"
    },
    {
     "data": {
      "application/vnd.jupyter.widget-view+json": {
       "model_id": "7b03e1bd94bf4d8faa8ba8bd70e6f024",
       "version_major": 2,
       "version_minor": 0
      },
      "text/plain": [
       "  0%|          | 0/1386 [00:00<?, ?it/s]"
      ]
     },
     "metadata": {},
     "output_type": "display_data"
    },
    {
     "name": "stdout",
     "output_type": "stream",
     "text": [
      "tensor([[0.0829, 0.9075],\n",
      "        [0.8843, 0.8765],\n",
      "        [0.9504, 0.1278],\n",
      "        [0.8869, 0.8600],\n",
      "        [0.8844, 0.7506],\n",
      "        [0.7603, 0.8932],\n",
      "        [0.9434, 0.1711],\n",
      "        [0.1298, 0.8759]], device='cuda:0', grad_fn=<SigmoidBackward0>)\n",
      "Epoch:17, combine_score:0.045351, cls_loss:380.499390, transfer_loss:687.864380, total_loss:1068.364746\n",
      "\n"
     ]
    },
    {
     "data": {
      "application/vnd.jupyter.widget-view+json": {
       "model_id": "a1b2992531c94130be5bcd05b828f085",
       "version_major": 2,
       "version_minor": 0
      },
      "text/plain": [
       "  0%|          | 0/1000 [00:00<?, ?it/s]"
      ]
     },
     "metadata": {},
     "output_type": "display_data"
    },
    {
     "data": {
      "application/vnd.jupyter.widget-view+json": {
       "model_id": "559e3c6199b3438189cf3094609a81cd",
       "version_major": 2,
       "version_minor": 0
      },
      "text/plain": [
       "  0%|          | 0/1386 [00:00<?, ?it/s]"
      ]
     },
     "metadata": {},
     "output_type": "display_data"
    },
    {
     "name": "stdout",
     "output_type": "stream",
     "text": [
      "tensor([[0.4220, 0.9108],\n",
      "        [0.9288, 0.7254],\n",
      "        [0.9455, 0.0937],\n",
      "        [0.8815, 0.8775],\n",
      "        [0.8971, 0.7131],\n",
      "        [0.8533, 0.8615],\n",
      "        [0.9327, 0.1768],\n",
      "        [0.1488, 0.8789]], device='cuda:0', grad_fn=<SigmoidBackward0>)\n",
      "Epoch:18, combine_score:0.043541, cls_loss:372.782135, transfer_loss:689.390686, total_loss:1062.172607\n",
      "\n"
     ]
    },
    {
     "data": {
      "application/vnd.jupyter.widget-view+json": {
       "model_id": "c04157477bdb48a7bb9000b4d1c1e598",
       "version_major": 2,
       "version_minor": 0
      },
      "text/plain": [
       "  0%|          | 0/1000 [00:00<?, ?it/s]"
      ]
     },
     "metadata": {},
     "output_type": "display_data"
    },
    {
     "data": {
      "application/vnd.jupyter.widget-view+json": {
       "model_id": "e95e1702f2e545a880f03cf1d346f472",
       "version_major": 2,
       "version_minor": 0
      },
      "text/plain": [
       "  0%|          | 0/1386 [00:00<?, ?it/s]"
      ]
     },
     "metadata": {},
     "output_type": "display_data"
    },
    {
     "name": "stdout",
     "output_type": "stream",
     "text": [
      "tensor([[0.4327, 0.9199],\n",
      "        [0.9252, 0.6067],\n",
      "        [0.9545, 0.0452],\n",
      "        [0.9131, 0.6754],\n",
      "        [0.9184, 0.4039],\n",
      "        [0.9292, 0.7658],\n",
      "        [0.9426, 0.0844],\n",
      "        [0.4179, 0.8638]], device='cuda:0', grad_fn=<SigmoidBackward0>)\n",
      "Epoch:19, combine_score:0.052492, cls_loss:376.461700, transfer_loss:687.015259, total_loss:1063.476929\n",
      "\n"
     ]
    },
    {
     "data": {
      "application/vnd.jupyter.widget-view+json": {
       "model_id": "0a705784febe4b87b1a37a85da0add05",
       "version_major": 2,
       "version_minor": 0
      },
      "text/plain": [
       "  0%|          | 0/1000 [00:00<?, ?it/s]"
      ]
     },
     "metadata": {},
     "output_type": "display_data"
    },
    {
     "data": {
      "application/vnd.jupyter.widget-view+json": {
       "model_id": "1d9c72f415d4441ba5f303977af9db3e",
       "version_major": 2,
       "version_minor": 0
      },
      "text/plain": [
       "  0%|          | 0/1386 [00:00<?, ?it/s]"
      ]
     },
     "metadata": {},
     "output_type": "display_data"
    },
    {
     "name": "stdout",
     "output_type": "stream",
     "text": [
      "tensor([[0.0756, 0.8964],\n",
      "        [0.9060, 0.8125],\n",
      "        [0.9511, 0.0463],\n",
      "        [0.8888, 0.8730],\n",
      "        [0.9001, 0.6927],\n",
      "        [0.8047, 0.8570],\n",
      "        [0.9317, 0.1303],\n",
      "        [0.0847, 0.8769]], device='cuda:0', grad_fn=<SigmoidBackward0>)\n",
      "Epoch:20, combine_score:0.048513, cls_loss:364.189758, transfer_loss:688.435669, total_loss:1052.626221\n",
      "\n"
     ]
    },
    {
     "data": {
      "application/vnd.jupyter.widget-view+json": {
       "model_id": "a7b300c6cfec40dabe11dae84f1b45a8",
       "version_major": 2,
       "version_minor": 0
      },
      "text/plain": [
       "  0%|          | 0/1000 [00:00<?, ?it/s]"
      ]
     },
     "metadata": {},
     "output_type": "display_data"
    },
    {
     "data": {
      "application/vnd.jupyter.widget-view+json": {
       "model_id": "48893232f6544d19a3faac0027ea2802",
       "version_major": 2,
       "version_minor": 0
      },
      "text/plain": [
       "  0%|          | 0/1386 [00:00<?, ?it/s]"
      ]
     },
     "metadata": {},
     "output_type": "display_data"
    },
    {
     "name": "stdout",
     "output_type": "stream",
     "text": [
      "tensor([[0.1249, 0.8911],\n",
      "        [0.8800, 0.8825],\n",
      "        [0.9430, 0.1006],\n",
      "        [0.9194, 0.8186],\n",
      "        [0.9041, 0.7282],\n",
      "        [0.6585, 0.8809],\n",
      "        [0.9320, 0.2344],\n",
      "        [0.1896, 0.8675]], device='cuda:0', grad_fn=<SigmoidBackward0>)\n",
      "Epoch:21, combine_score:0.041043, cls_loss:363.007599, transfer_loss:689.931885, total_loss:1052.938843\n",
      "\n"
     ]
    },
    {
     "data": {
      "application/vnd.jupyter.widget-view+json": {
       "model_id": "9dfb27db8cab47cbb72a9ae0cd200300",
       "version_major": 2,
       "version_minor": 0
      },
      "text/plain": [
       "  0%|          | 0/1000 [00:00<?, ?it/s]"
      ]
     },
     "metadata": {},
     "output_type": "display_data"
    },
    {
     "data": {
      "application/vnd.jupyter.widget-view+json": {
       "model_id": "85c908b0b2fd42edab80d6ae3744a75f",
       "version_major": 2,
       "version_minor": 0
      },
      "text/plain": [
       "  0%|          | 0/1386 [00:00<?, ?it/s]"
      ]
     },
     "metadata": {},
     "output_type": "display_data"
    },
    {
     "name": "stdout",
     "output_type": "stream",
     "text": [
      "tensor([[0.0886, 0.8868],\n",
      "        [0.8928, 0.8025],\n",
      "        [0.9411, 0.0548],\n",
      "        [0.8888, 0.8746],\n",
      "        [0.9173, 0.5866],\n",
      "        [0.8254, 0.8739],\n",
      "        [0.9295, 0.1146],\n",
      "        [0.1842, 0.8732]], device='cuda:0', grad_fn=<SigmoidBackward0>)\n",
      "Epoch:22, combine_score:0.043135, cls_loss:362.379089, transfer_loss:689.526428, total_loss:1051.905273\n",
      "\n"
     ]
    },
    {
     "data": {
      "application/vnd.jupyter.widget-view+json": {
       "model_id": "b443bf600aec402dad192baa5d27d653",
       "version_major": 2,
       "version_minor": 0
      },
      "text/plain": [
       "  0%|          | 0/1000 [00:00<?, ?it/s]"
      ]
     },
     "metadata": {},
     "output_type": "display_data"
    },
    {
     "data": {
      "application/vnd.jupyter.widget-view+json": {
       "model_id": "315690fee8534a39a6d4e4316a869cff",
       "version_major": 2,
       "version_minor": 0
      },
      "text/plain": [
       "  0%|          | 0/1386 [00:00<?, ?it/s]"
      ]
     },
     "metadata": {},
     "output_type": "display_data"
    },
    {
     "name": "stdout",
     "output_type": "stream",
     "text": [
      "tensor([[0.1785, 0.9011],\n",
      "        [0.9279, 0.7982],\n",
      "        [0.9420, 0.0416],\n",
      "        [0.8999, 0.8146],\n",
      "        [0.9159, 0.5834],\n",
      "        [0.8798, 0.8490],\n",
      "        [0.9343, 0.0766],\n",
      "        [0.2628, 0.8605]], device='cuda:0', grad_fn=<SigmoidBackward0>)\n",
      "Epoch:23, combine_score:0.042993, cls_loss:357.752869, transfer_loss:689.070984, total_loss:1046.823608\n",
      "\n"
     ]
    },
    {
     "data": {
      "application/vnd.jupyter.widget-view+json": {
       "model_id": "766023208aa945e5864ed9dc085c3281",
       "version_major": 2,
       "version_minor": 0
      },
      "text/plain": [
       "  0%|          | 0/1000 [00:00<?, ?it/s]"
      ]
     },
     "metadata": {},
     "output_type": "display_data"
    },
    {
     "data": {
      "application/vnd.jupyter.widget-view+json": {
       "model_id": "67cce4f1df5743dbaf6a8a167fd767a0",
       "version_major": 2,
       "version_minor": 0
      },
      "text/plain": [
       "  0%|          | 0/1386 [00:00<?, ?it/s]"
      ]
     },
     "metadata": {},
     "output_type": "display_data"
    },
    {
     "name": "stdout",
     "output_type": "stream",
     "text": [
      "tensor([[0.1498, 0.9211],\n",
      "        [0.9005, 0.8666],\n",
      "        [0.9383, 0.0649],\n",
      "        [0.8901, 0.8717],\n",
      "        [0.9042, 0.6627],\n",
      "        [0.7828, 0.8915],\n",
      "        [0.9224, 0.1413],\n",
      "        [0.1420, 0.8753]], device='cuda:0', grad_fn=<SigmoidBackward0>)\n",
      "Epoch:24, combine_score:0.039114, cls_loss:355.073792, transfer_loss:688.756836, total_loss:1043.830933\n",
      "\n"
     ]
    },
    {
     "data": {
      "application/vnd.jupyter.widget-view+json": {
       "model_id": "03cdb39af3104433bb018a485f506947",
       "version_major": 2,
       "version_minor": 0
      },
      "text/plain": [
       "  0%|          | 0/1000 [00:00<?, ?it/s]"
      ]
     },
     "metadata": {},
     "output_type": "display_data"
    },
    {
     "data": {
      "application/vnd.jupyter.widget-view+json": {
       "model_id": "4efd66bfb91c4b27b04934b37839a934",
       "version_major": 2,
       "version_minor": 0
      },
      "text/plain": [
       "  0%|          | 0/1386 [00:00<?, ?it/s]"
      ]
     },
     "metadata": {},
     "output_type": "display_data"
    },
    {
     "name": "stdout",
     "output_type": "stream",
     "text": [
      "tensor([[0.5521, 0.9229],\n",
      "        [0.9286, 0.7521],\n",
      "        [0.9399, 0.0489],\n",
      "        [0.9067, 0.7025],\n",
      "        [0.9204, 0.3434],\n",
      "        [0.9300, 0.8089],\n",
      "        [0.9344, 0.0839],\n",
      "        [0.6157, 0.8460]], device='cuda:0', grad_fn=<SigmoidBackward0>)\n",
      "Epoch:25, combine_score:0.047419, cls_loss:355.981293, transfer_loss:690.226990, total_loss:1046.208252\n",
      "\n"
     ]
    },
    {
     "data": {
      "application/vnd.jupyter.widget-view+json": {
       "model_id": "2b5f2bc2ef974bb9b5ea7bac9cb41ac0",
       "version_major": 2,
       "version_minor": 0
      },
      "text/plain": [
       "  0%|          | 0/1000 [00:00<?, ?it/s]"
      ]
     },
     "metadata": {},
     "output_type": "display_data"
    },
    {
     "data": {
      "application/vnd.jupyter.widget-view+json": {
       "model_id": "f5368881254343558c1f88e280be7847",
       "version_major": 2,
       "version_minor": 0
      },
      "text/plain": [
       "  0%|          | 0/1386 [00:00<?, ?it/s]"
      ]
     },
     "metadata": {},
     "output_type": "display_data"
    },
    {
     "name": "stdout",
     "output_type": "stream",
     "text": [
      "tensor([[0.2592, 0.9078],\n",
      "        [0.9226, 0.7986],\n",
      "        [0.9294, 0.1050],\n",
      "        [0.9012, 0.8267],\n",
      "        [0.9077, 0.7485],\n",
      "        [0.7059, 0.8816],\n",
      "        [0.9283, 0.1093],\n",
      "        [0.0713, 0.8942]], device='cuda:0', grad_fn=<SigmoidBackward0>)\n",
      "Epoch:26, combine_score:0.040403, cls_loss:356.615509, transfer_loss:690.463867, total_loss:1047.080933\n",
      "\n"
     ]
    },
    {
     "data": {
      "application/vnd.jupyter.widget-view+json": {
       "model_id": "d8e0f4ae1dcf4297a4a961203104ef63",
       "version_major": 2,
       "version_minor": 0
      },
      "text/plain": [
       "  0%|          | 0/1000 [00:00<?, ?it/s]"
      ]
     },
     "metadata": {},
     "output_type": "display_data"
    },
    {
     "data": {
      "application/vnd.jupyter.widget-view+json": {
       "model_id": "9a2f0d058d3f4ebf93db715ce0b5e2f3",
       "version_major": 2,
       "version_minor": 0
      },
      "text/plain": [
       "  0%|          | 0/1386 [00:00<?, ?it/s]"
      ]
     },
     "metadata": {},
     "output_type": "display_data"
    },
    {
     "name": "stdout",
     "output_type": "stream",
     "text": [
      "tensor([[0.3959, 0.9172],\n",
      "        [0.9275, 0.8443],\n",
      "        [0.9375, 0.0679],\n",
      "        [0.9057, 0.8740],\n",
      "        [0.9205, 0.5139],\n",
      "        [0.8341, 0.8824],\n",
      "        [0.9257, 0.1711],\n",
      "        [0.3856, 0.8712]], device='cuda:0', grad_fn=<SigmoidBackward0>)\n",
      "Epoch:27, combine_score:0.038370, cls_loss:354.704132, transfer_loss:690.756104, total_loss:1045.459229\n",
      "\n"
     ]
    },
    {
     "data": {
      "application/vnd.jupyter.widget-view+json": {
       "model_id": "92c4babbe9f244cbbad0e426cf92ffaf",
       "version_major": 2,
       "version_minor": 0
      },
      "text/plain": [
       "  0%|          | 0/1000 [00:00<?, ?it/s]"
      ]
     },
     "metadata": {},
     "output_type": "display_data"
    },
    {
     "data": {
      "application/vnd.jupyter.widget-view+json": {
       "model_id": "98e025431e05470b8cf264960a855e61",
       "version_major": 2,
       "version_minor": 0
      },
      "text/plain": [
       "  0%|          | 0/1386 [00:00<?, ?it/s]"
      ]
     },
     "metadata": {},
     "output_type": "display_data"
    },
    {
     "name": "stdout",
     "output_type": "stream",
     "text": [
      "tensor([[0.3437, 0.9018],\n",
      "        [0.9397, 0.7373],\n",
      "        [0.9442, 0.0423],\n",
      "        [0.9153, 0.7694],\n",
      "        [0.9212, 0.6123],\n",
      "        [0.9313, 0.8501],\n",
      "        [0.9299, 0.0782],\n",
      "        [0.3304, 0.8707]], device='cuda:0', grad_fn=<SigmoidBackward0>)\n",
      "Epoch:28, combine_score:0.039566, cls_loss:354.449097, transfer_loss:691.370422, total_loss:1045.819214\n",
      "\n"
     ]
    },
    {
     "data": {
      "application/vnd.jupyter.widget-view+json": {
       "model_id": "4662074153c645b0b95df06d6ce8a000",
       "version_major": 2,
       "version_minor": 0
      },
      "text/plain": [
       "  0%|          | 0/1000 [00:00<?, ?it/s]"
      ]
     },
     "metadata": {},
     "output_type": "display_data"
    },
    {
     "data": {
      "application/vnd.jupyter.widget-view+json": {
       "model_id": "c459c9a10b244ddca5ceca37a8fc4c4b",
       "version_major": 2,
       "version_minor": 0
      },
      "text/plain": [
       "  0%|          | 0/1386 [00:00<?, ?it/s]"
      ]
     },
     "metadata": {},
     "output_type": "display_data"
    },
    {
     "name": "stdout",
     "output_type": "stream",
     "text": [
      "tensor([[0.0748, 0.9067],\n",
      "        [0.8147, 0.8961],\n",
      "        [0.9336, 0.0733],\n",
      "        [0.8973, 0.7887],\n",
      "        [0.9118, 0.6771],\n",
      "        [0.7116, 0.8969],\n",
      "        [0.9167, 0.2055],\n",
      "        [0.2339, 0.8851]], device='cuda:0', grad_fn=<SigmoidBackward0>)\n",
      "Epoch:29, combine_score:0.040295, cls_loss:349.160004, transfer_loss:692.044495, total_loss:1041.204346\n",
      "\n"
     ]
    },
    {
     "data": {
      "application/vnd.jupyter.widget-view+json": {
       "model_id": "b12b064aaabf417bbe62b98b67d557fe",
       "version_major": 2,
       "version_minor": 0
      },
      "text/plain": [
       "  0%|          | 0/1000 [00:00<?, ?it/s]"
      ]
     },
     "metadata": {},
     "output_type": "display_data"
    },
    {
     "data": {
      "application/vnd.jupyter.widget-view+json": {
       "model_id": "ba3128df07cc471db6616bc653c09b48",
       "version_major": 2,
       "version_minor": 0
      },
      "text/plain": [
       "  0%|          | 0/1386 [00:00<?, ?it/s]"
      ]
     },
     "metadata": {},
     "output_type": "display_data"
    },
    {
     "name": "stdout",
     "output_type": "stream",
     "text": [
      "tensor([[0.5426, 0.9208],\n",
      "        [0.9239, 0.8300],\n",
      "        [0.9357, 0.0595],\n",
      "        [0.9126, 0.7043],\n",
      "        [0.9205, 0.7278],\n",
      "        [0.8155, 0.9061],\n",
      "        [0.9272, 0.0877],\n",
      "        [0.1385, 0.8914]], device='cuda:0', grad_fn=<SigmoidBackward0>)\n",
      "Epoch:30, combine_score:0.043046, cls_loss:344.343353, transfer_loss:689.117249, total_loss:1033.460327\n",
      "\n"
     ]
    },
    {
     "data": {
      "application/vnd.jupyter.widget-view+json": {
       "model_id": "344c4e0874c04783bd592d77a486f23d",
       "version_major": 2,
       "version_minor": 0
      },
      "text/plain": [
       "  0%|          | 0/1000 [00:00<?, ?it/s]"
      ]
     },
     "metadata": {},
     "output_type": "display_data"
    },
    {
     "data": {
      "application/vnd.jupyter.widget-view+json": {
       "model_id": "4aa67f6192fd4045addfdec06cb888b6",
       "version_major": 2,
       "version_minor": 0
      },
      "text/plain": [
       "  0%|          | 0/1386 [00:00<?, ?it/s]"
      ]
     },
     "metadata": {},
     "output_type": "display_data"
    },
    {
     "name": "stdout",
     "output_type": "stream",
     "text": [
      "tensor([[0.3698, 0.9071],\n",
      "        [0.9438, 0.7462],\n",
      "        [0.9390, 0.0593],\n",
      "        [0.9264, 0.7025],\n",
      "        [0.9268, 0.6105],\n",
      "        [0.9025, 0.8912],\n",
      "        [0.9321, 0.0688],\n",
      "        [0.1570, 0.8719]], device='cuda:0', grad_fn=<SigmoidBackward0>)\n",
      "Epoch:31, combine_score:0.044101, cls_loss:343.089447, transfer_loss:690.399292, total_loss:1033.488647\n",
      "\n"
     ]
    },
    {
     "data": {
      "application/vnd.jupyter.widget-view+json": {
       "model_id": "2065592ab084491c81f67c689b49594a",
       "version_major": 2,
       "version_minor": 0
      },
      "text/plain": [
       "  0%|          | 0/1000 [00:00<?, ?it/s]"
      ]
     },
     "metadata": {},
     "output_type": "display_data"
    },
    {
     "data": {
      "application/vnd.jupyter.widget-view+json": {
       "model_id": "a3ca97585c5e4f9aa410f7301ae8aa46",
       "version_major": 2,
       "version_minor": 0
      },
      "text/plain": [
       "  0%|          | 0/1386 [00:00<?, ?it/s]"
      ]
     },
     "metadata": {},
     "output_type": "display_data"
    },
    {
     "name": "stdout",
     "output_type": "stream",
     "text": [
      "tensor([[0.1554, 0.9003],\n",
      "        [0.9269, 0.8247],\n",
      "        [0.9313, 0.0739],\n",
      "        [0.9108, 0.7974],\n",
      "        [0.9047, 0.7827],\n",
      "        [0.7471, 0.8933],\n",
      "        [0.9223, 0.0906],\n",
      "        [0.0932, 0.8821]], device='cuda:0', grad_fn=<SigmoidBackward0>)\n",
      "Epoch:32, combine_score:0.040199, cls_loss:341.332184, transfer_loss:691.279785, total_loss:1032.612061\n",
      "\n"
     ]
    },
    {
     "data": {
      "application/vnd.jupyter.widget-view+json": {
       "model_id": "53fe8fc0a2374fe59f2edc6da70dcf5d",
       "version_major": 2,
       "version_minor": 0
      },
      "text/plain": [
       "  0%|          | 0/1000 [00:00<?, ?it/s]"
      ]
     },
     "metadata": {},
     "output_type": "display_data"
    },
    {
     "data": {
      "application/vnd.jupyter.widget-view+json": {
       "model_id": "ed2f40cda9e74225a951543c5e4a6549",
       "version_major": 2,
       "version_minor": 0
      },
      "text/plain": [
       "  0%|          | 0/1386 [00:00<?, ?it/s]"
      ]
     },
     "metadata": {},
     "output_type": "display_data"
    },
    {
     "name": "stdout",
     "output_type": "stream",
     "text": [
      "tensor([[0.2735, 0.9122],\n",
      "        [0.9371, 0.8157],\n",
      "        [0.9292, 0.0722],\n",
      "        [0.8930, 0.8517],\n",
      "        [0.9234, 0.7987],\n",
      "        [0.7452, 0.9168],\n",
      "        [0.9264, 0.0942],\n",
      "        [0.1171, 0.8952]], device='cuda:0', grad_fn=<SigmoidBackward0>)\n",
      "Epoch:33, combine_score:0.034518, cls_loss:340.780853, transfer_loss:688.604736, total_loss:1029.385254\n",
      "\n"
     ]
    },
    {
     "data": {
      "application/vnd.jupyter.widget-view+json": {
       "model_id": "908d494da2704a7dbf20e885587af656",
       "version_major": 2,
       "version_minor": 0
      },
      "text/plain": [
       "  0%|          | 0/1000 [00:00<?, ?it/s]"
      ]
     },
     "metadata": {},
     "output_type": "display_data"
    },
    {
     "data": {
      "application/vnd.jupyter.widget-view+json": {
       "model_id": "92837b72a6b84e7087696b145738fb59",
       "version_major": 2,
       "version_minor": 0
      },
      "text/plain": [
       "  0%|          | 0/1386 [00:00<?, ?it/s]"
      ]
     },
     "metadata": {},
     "output_type": "display_data"
    },
    {
     "name": "stdout",
     "output_type": "stream",
     "text": [
      "tensor([[0.1257, 0.8983],\n",
      "        [0.9308, 0.8065],\n",
      "        [0.9291, 0.1042],\n",
      "        [0.9015, 0.8616],\n",
      "        [0.9050, 0.8176],\n",
      "        [0.6923, 0.9050],\n",
      "        [0.9237, 0.1225],\n",
      "        [0.1533, 0.8842]], device='cuda:0', grad_fn=<SigmoidBackward0>)\n",
      "Epoch:34, combine_score:0.037959, cls_loss:343.449341, transfer_loss:690.046265, total_loss:1033.495972\n",
      "\n"
     ]
    },
    {
     "data": {
      "application/vnd.jupyter.widget-view+json": {
       "model_id": "bd63cae6d74f44dcb284d83e413c74cc",
       "version_major": 2,
       "version_minor": 0
      },
      "text/plain": [
       "  0%|          | 0/1000 [00:00<?, ?it/s]"
      ]
     },
     "metadata": {},
     "output_type": "display_data"
    },
    {
     "data": {
      "application/vnd.jupyter.widget-view+json": {
       "model_id": "8c5c433d73c64b2ca0d1e467810ee770",
       "version_major": 2,
       "version_minor": 0
      },
      "text/plain": [
       "  0%|          | 0/1386 [00:00<?, ?it/s]"
      ]
     },
     "metadata": {},
     "output_type": "display_data"
    },
    {
     "name": "stdout",
     "output_type": "stream",
     "text": [
      "tensor([[0.1161, 0.9037],\n",
      "        [0.8894, 0.8564],\n",
      "        [0.9416, 0.0558],\n",
      "        [0.8475, 0.8943],\n",
      "        [0.9223, 0.7317],\n",
      "        [0.6891, 0.8876],\n",
      "        [0.9330, 0.1118],\n",
      "        [0.3720, 0.8856]], device='cuda:0', grad_fn=<SigmoidBackward0>)\n",
      "Epoch:35, combine_score:0.042016, cls_loss:342.822113, transfer_loss:690.737671, total_loss:1033.560059\n",
      "\n"
     ]
    },
    {
     "data": {
      "application/vnd.jupyter.widget-view+json": {
       "model_id": "4e4bb6d034614941aaebd657e3658959",
       "version_major": 2,
       "version_minor": 0
      },
      "text/plain": [
       "  0%|          | 0/1000 [00:00<?, ?it/s]"
      ]
     },
     "metadata": {},
     "output_type": "display_data"
    },
    {
     "data": {
      "application/vnd.jupyter.widget-view+json": {
       "model_id": "0669683d04c4437f839a6ed7f07eb923",
       "version_major": 2,
       "version_minor": 0
      },
      "text/plain": [
       "  0%|          | 0/1386 [00:00<?, ?it/s]"
      ]
     },
     "metadata": {},
     "output_type": "display_data"
    },
    {
     "name": "stdout",
     "output_type": "stream",
     "text": [
      "tensor([[0.4446, 0.8981],\n",
      "        [0.9132, 0.8004],\n",
      "        [0.9334, 0.0865],\n",
      "        [0.8960, 0.8205],\n",
      "        [0.9123, 0.7944],\n",
      "        [0.7702, 0.8949],\n",
      "        [0.9299, 0.0681],\n",
      "        [0.0550, 0.8886]], device='cuda:0', grad_fn=<SigmoidBackward0>)\n",
      "Epoch:36, combine_score:0.036046, cls_loss:337.412750, transfer_loss:690.039673, total_loss:1027.452393\n",
      "\n"
     ]
    },
    {
     "data": {
      "application/vnd.jupyter.widget-view+json": {
       "model_id": "9ae85fbbc0d74fe193aeec84c3b963eb",
       "version_major": 2,
       "version_minor": 0
      },
      "text/plain": [
       "  0%|          | 0/1000 [00:00<?, ?it/s]"
      ]
     },
     "metadata": {},
     "output_type": "display_data"
    },
    {
     "data": {
      "application/vnd.jupyter.widget-view+json": {
       "model_id": "a8331df957954282a853ddf52b283624",
       "version_major": 2,
       "version_minor": 0
      },
      "text/plain": [
       "  0%|          | 0/1386 [00:00<?, ?it/s]"
      ]
     },
     "metadata": {},
     "output_type": "display_data"
    },
    {
     "name": "stdout",
     "output_type": "stream",
     "text": [
      "tensor([[0.1633, 0.9191],\n",
      "        [0.9161, 0.8529],\n",
      "        [0.9293, 0.0983],\n",
      "        [0.9101, 0.8161],\n",
      "        [0.9274, 0.7737],\n",
      "        [0.6788, 0.9091],\n",
      "        [0.9276, 0.0886],\n",
      "        [0.2013, 0.8842]], device='cuda:0', grad_fn=<SigmoidBackward0>)\n",
      "Epoch:37, combine_score:0.039809, cls_loss:342.052521, transfer_loss:689.766968, total_loss:1031.818970\n",
      "\n"
     ]
    },
    {
     "data": {
      "application/vnd.jupyter.widget-view+json": {
       "model_id": "ecf2e17f304049879cbeb8a16dd7b120",
       "version_major": 2,
       "version_minor": 0
      },
      "text/plain": [
       "  0%|          | 0/1000 [00:00<?, ?it/s]"
      ]
     },
     "metadata": {},
     "output_type": "display_data"
    },
    {
     "data": {
      "application/vnd.jupyter.widget-view+json": {
       "model_id": "d0e9c6788f4a478aa69cba526525b503",
       "version_major": 2,
       "version_minor": 0
      },
      "text/plain": [
       "  0%|          | 0/1386 [00:00<?, ?it/s]"
      ]
     },
     "metadata": {},
     "output_type": "display_data"
    },
    {
     "name": "stdout",
     "output_type": "stream",
     "text": [
      "tensor([[0.6273, 0.9148],\n",
      "        [0.9356, 0.7678],\n",
      "        [0.9307, 0.0774],\n",
      "        [0.8678, 0.8833],\n",
      "        [0.9272, 0.6913],\n",
      "        [0.6803, 0.9001],\n",
      "        [0.9190, 0.1263],\n",
      "        [0.1778, 0.8751]], device='cuda:0', grad_fn=<SigmoidBackward0>)\n",
      "Epoch:38, combine_score:0.035313, cls_loss:332.533966, transfer_loss:690.709534, total_loss:1023.242798\n",
      "\n"
     ]
    },
    {
     "data": {
      "application/vnd.jupyter.widget-view+json": {
       "model_id": "d068460ceea94d79a70959e86db51305",
       "version_major": 2,
       "version_minor": 0
      },
      "text/plain": [
       "  0%|          | 0/1000 [00:00<?, ?it/s]"
      ]
     },
     "metadata": {},
     "output_type": "display_data"
    },
    {
     "data": {
      "application/vnd.jupyter.widget-view+json": {
       "model_id": "8d829eb51193483880bedba29ddf7488",
       "version_major": 2,
       "version_minor": 0
      },
      "text/plain": [
       "  0%|          | 0/1386 [00:00<?, ?it/s]"
      ]
     },
     "metadata": {},
     "output_type": "display_data"
    },
    {
     "name": "stdout",
     "output_type": "stream",
     "text": [
      "tensor([[0.5169, 0.9182],\n",
      "        [0.9322, 0.7112],\n",
      "        [0.9378, 0.0551],\n",
      "        [0.9127, 0.7381],\n",
      "        [0.9286, 0.5723],\n",
      "        [0.9218, 0.8927],\n",
      "        [0.9313, 0.0691],\n",
      "        [0.3927, 0.8925]], device='cuda:0', grad_fn=<SigmoidBackward0>)\n",
      "Epoch:39, combine_score:0.043633, cls_loss:336.937347, transfer_loss:689.851685, total_loss:1026.789429\n",
      "\n"
     ]
    },
    {
     "data": {
      "application/vnd.jupyter.widget-view+json": {
       "model_id": "5cd4e94ca5714b96a3aeea801b8b8022",
       "version_major": 2,
       "version_minor": 0
      },
      "text/plain": [
       "  0%|          | 0/1000 [00:00<?, ?it/s]"
      ]
     },
     "metadata": {},
     "output_type": "display_data"
    },
    {
     "data": {
      "application/vnd.jupyter.widget-view+json": {
       "model_id": "281be8ebec6145f5a1fad851b0fd11da",
       "version_major": 2,
       "version_minor": 0
      },
      "text/plain": [
       "  0%|          | 0/1386 [00:00<?, ?it/s]"
      ]
     },
     "metadata": {},
     "output_type": "display_data"
    },
    {
     "name": "stdout",
     "output_type": "stream",
     "text": [
      "tensor([[0.2553, 0.9324],\n",
      "        [0.9062, 0.9237],\n",
      "        [0.9524, 0.0786],\n",
      "        [0.8835, 0.8875],\n",
      "        [0.9356, 0.5630],\n",
      "        [0.8197, 0.9283],\n",
      "        [0.9315, 0.1451],\n",
      "        [0.6664, 0.9086]], device='cuda:0', grad_fn=<SigmoidBackward0>)\n",
      "Epoch:40, combine_score:0.033204, cls_loss:331.556885, transfer_loss:687.999451, total_loss:1019.556519\n",
      "\n"
     ]
    },
    {
     "data": {
      "application/vnd.jupyter.widget-view+json": {
       "model_id": "abbba2cdf03b4219b2429aade59eef08",
       "version_major": 2,
       "version_minor": 0
      },
      "text/plain": [
       "  0%|          | 0/1000 [00:00<?, ?it/s]"
      ]
     },
     "metadata": {},
     "output_type": "display_data"
    },
    {
     "data": {
      "application/vnd.jupyter.widget-view+json": {
       "model_id": "c22ecbc2160f4bdca49584498367cb64",
       "version_major": 2,
       "version_minor": 0
      },
      "text/plain": [
       "  0%|          | 0/1386 [00:00<?, ?it/s]"
      ]
     },
     "metadata": {},
     "output_type": "display_data"
    },
    {
     "name": "stdout",
     "output_type": "stream",
     "text": [
      "tensor([[0.7511, 0.9162],\n",
      "        [0.9326, 0.6419],\n",
      "        [0.9385, 0.0477],\n",
      "        [0.9150, 0.6118],\n",
      "        [0.9234, 0.3893],\n",
      "        [0.9240, 0.8337],\n",
      "        [0.9307, 0.0698],\n",
      "        [0.7323, 0.8879]], device='cuda:0', grad_fn=<SigmoidBackward0>)\n",
      "Epoch:41, combine_score:0.036737, cls_loss:337.174774, transfer_loss:690.687988, total_loss:1027.862793\n",
      "\n"
     ]
    },
    {
     "data": {
      "application/vnd.jupyter.widget-view+json": {
       "model_id": "0fde6ffd4a764d0cbde7437c114a0789",
       "version_major": 2,
       "version_minor": 0
      },
      "text/plain": [
       "  0%|          | 0/1000 [00:00<?, ?it/s]"
      ]
     },
     "metadata": {},
     "output_type": "display_data"
    },
    {
     "data": {
      "application/vnd.jupyter.widget-view+json": {
       "model_id": "be3f5a291d4c4792ae0c93302b2dcec7",
       "version_major": 2,
       "version_minor": 0
      },
      "text/plain": [
       "  0%|          | 0/1386 [00:00<?, ?it/s]"
      ]
     },
     "metadata": {},
     "output_type": "display_data"
    },
    {
     "name": "stdout",
     "output_type": "stream",
     "text": [
      "tensor([[0.5418, 0.9116],\n",
      "        [0.9216, 0.6905],\n",
      "        [0.9312, 0.0657],\n",
      "        [0.9106, 0.8003],\n",
      "        [0.9287, 0.7203],\n",
      "        [0.8344, 0.8987],\n",
      "        [0.9295, 0.0607],\n",
      "        [0.3782, 0.9007]], device='cuda:0', grad_fn=<SigmoidBackward0>)\n",
      "Epoch:42, combine_score:0.032866, cls_loss:335.318817, transfer_loss:690.793884, total_loss:1026.113037\n",
      "\n"
     ]
    },
    {
     "data": {
      "application/vnd.jupyter.widget-view+json": {
       "model_id": "22a2db377fee411ab5c7553f333010ae",
       "version_major": 2,
       "version_minor": 0
      },
      "text/plain": [
       "  0%|          | 0/1000 [00:00<?, ?it/s]"
      ]
     },
     "metadata": {},
     "output_type": "display_data"
    },
    {
     "data": {
      "application/vnd.jupyter.widget-view+json": {
       "model_id": "31a958d291e1423cacc34cb6b8ab8cf0",
       "version_major": 2,
       "version_minor": 0
      },
      "text/plain": [
       "  0%|          | 0/1386 [00:00<?, ?it/s]"
      ]
     },
     "metadata": {},
     "output_type": "display_data"
    },
    {
     "name": "stdout",
     "output_type": "stream",
     "text": [
      "tensor([[0.3463, 0.9090],\n",
      "        [0.9206, 0.8785],\n",
      "        [0.9347, 0.0864],\n",
      "        [0.9247, 0.7825],\n",
      "        [0.9328, 0.8491],\n",
      "        [0.9021, 0.9009],\n",
      "        [0.9222, 0.2022],\n",
      "        [0.0922, 0.8975]], device='cuda:0', grad_fn=<SigmoidBackward0>)\n",
      "Epoch:43, combine_score:0.031861, cls_loss:331.047668, transfer_loss:689.857483, total_loss:1020.904602\n",
      "\n"
     ]
    },
    {
     "data": {
      "application/vnd.jupyter.widget-view+json": {
       "model_id": "c6eb57d8b45347678c2230ad9bf7b6b1",
       "version_major": 2,
       "version_minor": 0
      },
      "text/plain": [
       "  0%|          | 0/1000 [00:00<?, ?it/s]"
      ]
     },
     "metadata": {},
     "output_type": "display_data"
    },
    {
     "data": {
      "application/vnd.jupyter.widget-view+json": {
       "model_id": "a0fa3094dc5846ae93442cdbc6232ef2",
       "version_major": 2,
       "version_minor": 0
      },
      "text/plain": [
       "  0%|          | 0/1386 [00:00<?, ?it/s]"
      ]
     },
     "metadata": {},
     "output_type": "display_data"
    },
    {
     "name": "stdout",
     "output_type": "stream",
     "text": [
      "tensor([[0.7886, 0.9221],\n",
      "        [0.9303, 0.8279],\n",
      "        [0.9324, 0.0581],\n",
      "        [0.9186, 0.4610],\n",
      "        [0.9324, 0.5584],\n",
      "        [0.9282, 0.8853],\n",
      "        [0.9262, 0.0757],\n",
      "        [0.6226, 0.9012]], device='cuda:0', grad_fn=<SigmoidBackward0>)\n",
      "Epoch:44, combine_score:0.040612, cls_loss:331.752472, transfer_loss:690.058411, total_loss:1021.810730\n",
      "\n"
     ]
    },
    {
     "data": {
      "application/vnd.jupyter.widget-view+json": {
       "model_id": "0accb661aadb40b9b47b53292eac8275",
       "version_major": 2,
       "version_minor": 0
      },
      "text/plain": [
       "  0%|          | 0/1000 [00:00<?, ?it/s]"
      ]
     },
     "metadata": {},
     "output_type": "display_data"
    },
    {
     "data": {
      "application/vnd.jupyter.widget-view+json": {
       "model_id": "cc9021897854435e926c17c0282d83b7",
       "version_major": 2,
       "version_minor": 0
      },
      "text/plain": [
       "  0%|          | 0/1386 [00:00<?, ?it/s]"
      ]
     },
     "metadata": {},
     "output_type": "display_data"
    },
    {
     "name": "stdout",
     "output_type": "stream",
     "text": [
      "tensor([[0.4844, 0.9110],\n",
      "        [0.9292, 0.8456],\n",
      "        [0.9297, 0.0519],\n",
      "        [0.8583, 0.8292],\n",
      "        [0.9270, 0.8003],\n",
      "        [0.7325, 0.8943],\n",
      "        [0.9207, 0.0999],\n",
      "        [0.1609, 0.8955]], device='cuda:0', grad_fn=<SigmoidBackward0>)\n",
      "Epoch:45, combine_score:0.034233, cls_loss:330.322662, transfer_loss:689.290588, total_loss:1019.613586\n",
      "\n"
     ]
    },
    {
     "data": {
      "application/vnd.jupyter.widget-view+json": {
       "model_id": "41c8c0c0f3854617a1445342ebbda48d",
       "version_major": 2,
       "version_minor": 0
      },
      "text/plain": [
       "  0%|          | 0/1000 [00:00<?, ?it/s]"
      ]
     },
     "metadata": {},
     "output_type": "display_data"
    },
    {
     "data": {
      "application/vnd.jupyter.widget-view+json": {
       "model_id": "c0e3977b3bfd4a3891ed63aa20351917",
       "version_major": 2,
       "version_minor": 0
      },
      "text/plain": [
       "  0%|          | 0/1386 [00:00<?, ?it/s]"
      ]
     },
     "metadata": {},
     "output_type": "display_data"
    },
    {
     "name": "stdout",
     "output_type": "stream",
     "text": [
      "tensor([[0.8066, 0.9212],\n",
      "        [0.9290, 0.6594],\n",
      "        [0.9133, 0.0651],\n",
      "        [0.9042, 0.6860],\n",
      "        [0.9293, 0.8120],\n",
      "        [0.9213, 0.8398],\n",
      "        [0.9151, 0.0467],\n",
      "        [0.0855, 0.9050]], device='cuda:0', grad_fn=<SigmoidBackward0>)\n",
      "Epoch:46, combine_score:0.039752, cls_loss:333.418945, transfer_loss:690.700500, total_loss:1024.119751\n",
      "\n"
     ]
    },
    {
     "data": {
      "application/vnd.jupyter.widget-view+json": {
       "model_id": "d38f8ddab95043848cc9974fbc293a57",
       "version_major": 2,
       "version_minor": 0
      },
      "text/plain": [
       "  0%|          | 0/1000 [00:00<?, ?it/s]"
      ]
     },
     "metadata": {},
     "output_type": "display_data"
    },
    {
     "data": {
      "application/vnd.jupyter.widget-view+json": {
       "model_id": "fc068b7634f64a64bd5cfebaf2428b61",
       "version_major": 2,
       "version_minor": 0
      },
      "text/plain": [
       "  0%|          | 0/1386 [00:00<?, ?it/s]"
      ]
     },
     "metadata": {},
     "output_type": "display_data"
    },
    {
     "name": "stdout",
     "output_type": "stream",
     "text": [
      "tensor([[0.4706, 0.9005],\n",
      "        [0.9189, 0.8118],\n",
      "        [0.9410, 0.0340],\n",
      "        [0.8503, 0.8463],\n",
      "        [0.9272, 0.6288],\n",
      "        [0.8654, 0.8837],\n",
      "        [0.9338, 0.0473],\n",
      "        [0.3756, 0.8933]], device='cuda:0', grad_fn=<SigmoidBackward0>)\n",
      "Epoch:47, combine_score:0.035676, cls_loss:325.324554, transfer_loss:691.654419, total_loss:1016.979431\n",
      "\n"
     ]
    },
    {
     "data": {
      "application/vnd.jupyter.widget-view+json": {
       "model_id": "e2bcff20c0ba405db8b6b8506e317fec",
       "version_major": 2,
       "version_minor": 0
      },
      "text/plain": [
       "  0%|          | 0/1000 [00:00<?, ?it/s]"
      ]
     },
     "metadata": {},
     "output_type": "display_data"
    },
    {
     "data": {
      "application/vnd.jupyter.widget-view+json": {
       "model_id": "4cc982300017449395152156f3140a1b",
       "version_major": 2,
       "version_minor": 0
      },
      "text/plain": [
       "  0%|          | 0/1386 [00:00<?, ?it/s]"
      ]
     },
     "metadata": {},
     "output_type": "display_data"
    },
    {
     "name": "stdout",
     "output_type": "stream",
     "text": [
      "tensor([[0.3938, 0.9156],\n",
      "        [0.8995, 0.8736],\n",
      "        [0.9273, 0.1042],\n",
      "        [0.9247, 0.8281],\n",
      "        [0.9340, 0.5982],\n",
      "        [0.7589, 0.9002],\n",
      "        [0.9304, 0.0778],\n",
      "        [0.5895, 0.8978]], device='cuda:0', grad_fn=<SigmoidBackward0>)\n",
      "Epoch:48, combine_score:0.037152, cls_loss:335.841766, transfer_loss:686.854553, total_loss:1022.695740\n",
      "\n"
     ]
    },
    {
     "data": {
      "application/vnd.jupyter.widget-view+json": {
       "model_id": "f9c8ed88a23b40febc403ad1ab7cb798",
       "version_major": 2,
       "version_minor": 0
      },
      "text/plain": [
       "  0%|          | 0/1000 [00:00<?, ?it/s]"
      ]
     },
     "metadata": {},
     "output_type": "display_data"
    },
    {
     "data": {
      "application/vnd.jupyter.widget-view+json": {
       "model_id": "cfdb23e0ae9a4617a3b97b7b9acdba5c",
       "version_major": 2,
       "version_minor": 0
      },
      "text/plain": [
       "  0%|          | 0/1386 [00:00<?, ?it/s]"
      ]
     },
     "metadata": {},
     "output_type": "display_data"
    },
    {
     "name": "stdout",
     "output_type": "stream",
     "text": [
      "tensor([[0.3895, 0.9052],\n",
      "        [0.9176, 0.8617],\n",
      "        [0.9281, 0.0823],\n",
      "        [0.9089, 0.8400],\n",
      "        [0.9243, 0.7924],\n",
      "        [0.8267, 0.9048],\n",
      "        [0.9199, 0.1249],\n",
      "        [0.2953, 0.8917]], device='cuda:0', grad_fn=<SigmoidBackward0>)\n",
      "Epoch:49, combine_score:0.034297, cls_loss:324.686951, transfer_loss:690.388916, total_loss:1015.075256\n",
      "\n"
     ]
    },
    {
     "data": {
      "application/vnd.jupyter.widget-view+json": {
       "model_id": "929166e226344c7b81df57c97f209437",
       "version_major": 2,
       "version_minor": 0
      },
      "text/plain": [
       "  0%|          | 0/1000 [00:00<?, ?it/s]"
      ]
     },
     "metadata": {},
     "output_type": "display_data"
    },
    {
     "data": {
      "application/vnd.jupyter.widget-view+json": {
       "model_id": "42d6d3ca6c1d4dbabfe8c376c70cba24",
       "version_major": 2,
       "version_minor": 0
      },
      "text/plain": [
       "  0%|          | 0/1386 [00:00<?, ?it/s]"
      ]
     },
     "metadata": {},
     "output_type": "display_data"
    },
    {
     "name": "stdout",
     "output_type": "stream",
     "text": [
      "tensor([[0.6342, 0.9224],\n",
      "        [0.9377, 0.8163],\n",
      "        [0.9380, 0.0276],\n",
      "        [0.9118, 0.8240],\n",
      "        [0.9319, 0.5334],\n",
      "        [0.9295, 0.8824],\n",
      "        [0.9241, 0.0831],\n",
      "        [0.6839, 0.8947]], device='cuda:0', grad_fn=<SigmoidBackward0>)\n",
      "Epoch:50, combine_score:0.034297, cls_loss:324.673492, transfer_loss:690.575439, total_loss:1015.249023\n",
      "\n"
     ]
    },
    {
     "data": {
      "application/vnd.jupyter.widget-view+json": {
       "model_id": "f7b1053840654b749e000ed2ea4c1a02",
       "version_major": 2,
       "version_minor": 0
      },
      "text/plain": [
       "  0%|          | 0/1000 [00:00<?, ?it/s]"
      ]
     },
     "metadata": {},
     "output_type": "display_data"
    },
    {
     "data": {
      "application/vnd.jupyter.widget-view+json": {
       "model_id": "0a34acd9af1840198d046cda25607249",
       "version_major": 2,
       "version_minor": 0
      },
      "text/plain": [
       "  0%|          | 0/1386 [00:00<?, ?it/s]"
      ]
     },
     "metadata": {},
     "output_type": "display_data"
    },
    {
     "name": "stdout",
     "output_type": "stream",
     "text": [
      "tensor([[0.4048, 0.9165],\n",
      "        [0.9309, 0.8655],\n",
      "        [0.9346, 0.0739],\n",
      "        [0.9108, 0.8288],\n",
      "        [0.9298, 0.8538],\n",
      "        [0.8398, 0.9121],\n",
      "        [0.9287, 0.0833],\n",
      "        [0.1472, 0.9064]], device='cuda:0', grad_fn=<SigmoidBackward0>)\n",
      "Epoch:51, combine_score:0.032558, cls_loss:334.671783, transfer_loss:691.989319, total_loss:1026.661255\n",
      "\n"
     ]
    },
    {
     "data": {
      "application/vnd.jupyter.widget-view+json": {
       "model_id": "e28b016b66b64ccaba1a6efbdf14ccf4",
       "version_major": 2,
       "version_minor": 0
      },
      "text/plain": [
       "  0%|          | 0/1000 [00:00<?, ?it/s]"
      ]
     },
     "metadata": {},
     "output_type": "display_data"
    },
    {
     "data": {
      "application/vnd.jupyter.widget-view+json": {
       "model_id": "69147c0f28634409b0a76c0012c770b7",
       "version_major": 2,
       "version_minor": 0
      },
      "text/plain": [
       "  0%|          | 0/1386 [00:00<?, ?it/s]"
      ]
     },
     "metadata": {},
     "output_type": "display_data"
    },
    {
     "name": "stdout",
     "output_type": "stream",
     "text": [
      "tensor([[0.6592, 0.9161],\n",
      "        [0.9250, 0.7798],\n",
      "        [0.9347, 0.0397],\n",
      "        [0.9168, 0.7732],\n",
      "        [0.9074, 0.8387],\n",
      "        [0.8457, 0.8979],\n",
      "        [0.9270, 0.0856],\n",
      "        [0.0598, 0.9067]], device='cuda:0', grad_fn=<SigmoidBackward0>)\n",
      "Epoch:52, combine_score:0.031464, cls_loss:325.840942, transfer_loss:690.427795, total_loss:1016.268616\n",
      "\n"
     ]
    },
    {
     "data": {
      "application/vnd.jupyter.widget-view+json": {
       "model_id": "607022d87c4048529005278d7002599d",
       "version_major": 2,
       "version_minor": 0
      },
      "text/plain": [
       "  0%|          | 0/1000 [00:00<?, ?it/s]"
      ]
     },
     "metadata": {},
     "output_type": "display_data"
    },
    {
     "data": {
      "application/vnd.jupyter.widget-view+json": {
       "model_id": "4e51fa35014c4331a8b77805b2fa4ed0",
       "version_major": 2,
       "version_minor": 0
      },
      "text/plain": [
       "  0%|          | 0/1386 [00:00<?, ?it/s]"
      ]
     },
     "metadata": {},
     "output_type": "display_data"
    },
    {
     "name": "stdout",
     "output_type": "stream",
     "text": [
      "tensor([[0.8717, 0.9354],\n",
      "        [0.9389, 0.6685],\n",
      "        [0.9368, 0.0214],\n",
      "        [0.9175, 0.8364],\n",
      "        [0.9290, 0.6670],\n",
      "        [0.9108, 0.8963],\n",
      "        [0.9334, 0.0475],\n",
      "        [0.0783, 0.9114]], device='cuda:0', grad_fn=<SigmoidBackward0>)\n",
      "Epoch:53, combine_score:0.027679, cls_loss:325.278320, transfer_loss:689.156311, total_loss:1014.434692\n",
      "\n"
     ]
    },
    {
     "data": {
      "application/vnd.jupyter.widget-view+json": {
       "model_id": "812500c4a08f4f9d9b3e5eff7a54cae6",
       "version_major": 2,
       "version_minor": 0
      },
      "text/plain": [
       "  0%|          | 0/1000 [00:00<?, ?it/s]"
      ]
     },
     "metadata": {},
     "output_type": "display_data"
    },
    {
     "data": {
      "application/vnd.jupyter.widget-view+json": {
       "model_id": "a670fd41130647a187dbaa0ec2b8e879",
       "version_major": 2,
       "version_minor": 0
      },
      "text/plain": [
       "  0%|          | 0/1386 [00:00<?, ?it/s]"
      ]
     },
     "metadata": {},
     "output_type": "display_data"
    },
    {
     "name": "stdout",
     "output_type": "stream",
     "text": [
      "tensor([[0.7046, 0.9213],\n",
      "        [0.9411, 0.6711],\n",
      "        [0.9417, 0.0352],\n",
      "        [0.8995, 0.8463],\n",
      "        [0.9247, 0.7737],\n",
      "        [0.8499, 0.9073],\n",
      "        [0.9283, 0.0670],\n",
      "        [0.0621, 0.9059]], device='cuda:0', grad_fn=<SigmoidBackward0>)\n",
      "Epoch:54, combine_score:0.032032, cls_loss:325.054626, transfer_loss:689.222107, total_loss:1014.276855\n",
      "\n"
     ]
    },
    {
     "data": {
      "application/vnd.jupyter.widget-view+json": {
       "model_id": "303b6fd647d140aeb5fa9aab0311b56f",
       "version_major": 2,
       "version_minor": 0
      },
      "text/plain": [
       "  0%|          | 0/1000 [00:00<?, ?it/s]"
      ]
     },
     "metadata": {},
     "output_type": "display_data"
    },
    {
     "data": {
      "application/vnd.jupyter.widget-view+json": {
       "model_id": "bc89b1dc6e1e436e88f15eea6c38a0df",
       "version_major": 2,
       "version_minor": 0
      },
      "text/plain": [
       "  0%|          | 0/1386 [00:00<?, ?it/s]"
      ]
     },
     "metadata": {},
     "output_type": "display_data"
    },
    {
     "name": "stdout",
     "output_type": "stream",
     "text": [
      "tensor([[0.5129, 0.9182],\n",
      "        [0.9397, 0.8230],\n",
      "        [0.9364, 0.0517],\n",
      "        [0.9112, 0.8276],\n",
      "        [0.9324, 0.6830],\n",
      "        [0.8474, 0.9018],\n",
      "        [0.9274, 0.0978],\n",
      "        [0.0935, 0.9034]], device='cuda:0', grad_fn=<SigmoidBackward0>)\n",
      "Epoch:55, combine_score:0.031385, cls_loss:324.969025, transfer_loss:690.987976, total_loss:1015.958008\n",
      "\n"
     ]
    },
    {
     "data": {
      "application/vnd.jupyter.widget-view+json": {
       "model_id": "2c3bdd1e245c46569c2091b5a4b565c3",
       "version_major": 2,
       "version_minor": 0
      },
      "text/plain": [
       "  0%|          | 0/1000 [00:00<?, ?it/s]"
      ]
     },
     "metadata": {},
     "output_type": "display_data"
    },
    {
     "data": {
      "application/vnd.jupyter.widget-view+json": {
       "model_id": "ea072d5ed1d34380914b167a4c1756e7",
       "version_major": 2,
       "version_minor": 0
      },
      "text/plain": [
       "  0%|          | 0/1386 [00:00<?, ?it/s]"
      ]
     },
     "metadata": {},
     "output_type": "display_data"
    },
    {
     "name": "stdout",
     "output_type": "stream",
     "text": [
      "tensor([[0.6965, 0.9188],\n",
      "        [0.9410, 0.7330],\n",
      "        [0.9405, 0.0154],\n",
      "        [0.9003, 0.8471],\n",
      "        [0.9256, 0.6922],\n",
      "        [0.8573, 0.9111],\n",
      "        [0.9271, 0.0546],\n",
      "        [0.2706, 0.8965]], device='cuda:0', grad_fn=<SigmoidBackward0>)\n",
      "Epoch:56, combine_score:0.030222, cls_loss:323.396179, transfer_loss:692.002380, total_loss:1015.398071\n",
      "\n"
     ]
    },
    {
     "data": {
      "application/vnd.jupyter.widget-view+json": {
       "model_id": "759bde798f654ab69d1f2dc1e24894da",
       "version_major": 2,
       "version_minor": 0
      },
      "text/plain": [
       "  0%|          | 0/1000 [00:00<?, ?it/s]"
      ]
     },
     "metadata": {},
     "output_type": "display_data"
    },
    {
     "data": {
      "application/vnd.jupyter.widget-view+json": {
       "model_id": "dda3ac368ad044eb899992b79888a190",
       "version_major": 2,
       "version_minor": 0
      },
      "text/plain": [
       "  0%|          | 0/1386 [00:00<?, ?it/s]"
      ]
     },
     "metadata": {},
     "output_type": "display_data"
    },
    {
     "name": "stdout",
     "output_type": "stream",
     "text": [
      "tensor([[0.2448, 0.9002],\n",
      "        [0.9143, 0.8618],\n",
      "        [0.9340, 0.0498],\n",
      "        [0.9055, 0.7991],\n",
      "        [0.9184, 0.7384],\n",
      "        [0.8538, 0.9069],\n",
      "        [0.9257, 0.0677],\n",
      "        [0.1161, 0.8986]], device='cuda:0', grad_fn=<SigmoidBackward0>)\n",
      "Epoch:57, combine_score:0.032683, cls_loss:324.238831, transfer_loss:692.284302, total_loss:1016.522888\n",
      "\n"
     ]
    },
    {
     "data": {
      "application/vnd.jupyter.widget-view+json": {
       "model_id": "51d5b7589cab4b8e93b6dd2eb7f1d251",
       "version_major": 2,
       "version_minor": 0
      },
      "text/plain": [
       "  0%|          | 0/1000 [00:00<?, ?it/s]"
      ]
     },
     "metadata": {},
     "output_type": "display_data"
    },
    {
     "data": {
      "application/vnd.jupyter.widget-view+json": {
       "model_id": "4523354e0d9b4aebae8b86694e00a32c",
       "version_major": 2,
       "version_minor": 0
      },
      "text/plain": [
       "  0%|          | 0/1386 [00:00<?, ?it/s]"
      ]
     },
     "metadata": {},
     "output_type": "display_data"
    },
    {
     "name": "stdout",
     "output_type": "stream",
     "text": [
      "tensor([[0.5632, 0.9011],\n",
      "        [0.9329, 0.7552],\n",
      "        [0.9246, 0.0619],\n",
      "        [0.9257, 0.7961],\n",
      "        [0.9251, 0.7681],\n",
      "        [0.8758, 0.9020],\n",
      "        [0.9306, 0.0422],\n",
      "        [0.1628, 0.8941]], device='cuda:0', grad_fn=<SigmoidBackward0>)\n",
      "Epoch:58, combine_score:0.030803, cls_loss:322.978577, transfer_loss:689.886536, total_loss:1012.865723\n",
      "\n"
     ]
    },
    {
     "data": {
      "application/vnd.jupyter.widget-view+json": {
       "model_id": "b103f3630e7d4af5822c46199b017152",
       "version_major": 2,
       "version_minor": 0
      },
      "text/plain": [
       "  0%|          | 0/1000 [00:00<?, ?it/s]"
      ]
     },
     "metadata": {},
     "output_type": "display_data"
    },
    {
     "data": {
      "application/vnd.jupyter.widget-view+json": {
       "model_id": "7bdca16c0af945d79f3619ea2f133c5d",
       "version_major": 2,
       "version_minor": 0
      },
      "text/plain": [
       "  0%|          | 0/1386 [00:00<?, ?it/s]"
      ]
     },
     "metadata": {},
     "output_type": "display_data"
    },
    {
     "name": "stdout",
     "output_type": "stream",
     "text": [
      "tensor([[0.8991, 0.9276],\n",
      "        [0.9340, 0.5322],\n",
      "        [0.9378, 0.0338],\n",
      "        [0.9234, 0.6557],\n",
      "        [0.9231, 0.5776],\n",
      "        [0.9424, 0.8241],\n",
      "        [0.9303, 0.0443],\n",
      "        [0.2074, 0.8896]], device='cuda:0', grad_fn=<SigmoidBackward0>)\n",
      "Epoch:59, combine_score:0.036264, cls_loss:329.443542, transfer_loss:686.717773, total_loss:1016.162048\n",
      "\n"
     ]
    },
    {
     "data": {
      "application/vnd.jupyter.widget-view+json": {
       "model_id": "556cdf77de804cdea4e8e52c20539ff9",
       "version_major": 2,
       "version_minor": 0
      },
      "text/plain": [
       "  0%|          | 0/1000 [00:00<?, ?it/s]"
      ]
     },
     "metadata": {},
     "output_type": "display_data"
    },
    {
     "data": {
      "application/vnd.jupyter.widget-view+json": {
       "model_id": "5cfec5dacf2b42c8b21bbf0cc5eeedc7",
       "version_major": 2,
       "version_minor": 0
      },
      "text/plain": [
       "  0%|          | 0/1386 [00:00<?, ?it/s]"
      ]
     },
     "metadata": {},
     "output_type": "display_data"
    },
    {
     "name": "stdout",
     "output_type": "stream",
     "text": [
      "tensor([[0.8825, 0.9285],\n",
      "        [0.9405, 0.5443],\n",
      "        [0.9401, 0.0239],\n",
      "        [0.9128, 0.7157],\n",
      "        [0.9259, 0.5660],\n",
      "        [0.9174, 0.9049],\n",
      "        [0.9345, 0.0331],\n",
      "        [0.3563, 0.8984]], device='cuda:0', grad_fn=<SigmoidBackward0>)\n",
      "Epoch:60, combine_score:0.032643, cls_loss:329.097351, transfer_loss:688.069153, total_loss:1017.166992\n",
      "\n"
     ]
    },
    {
     "data": {
      "application/vnd.jupyter.widget-view+json": {
       "model_id": "1c974a5352534b5c8502d0e68f7bbc32",
       "version_major": 2,
       "version_minor": 0
      },
      "text/plain": [
       "  0%|          | 0/1000 [00:00<?, ?it/s]"
      ]
     },
     "metadata": {},
     "output_type": "display_data"
    },
    {
     "data": {
      "application/vnd.jupyter.widget-view+json": {
       "model_id": "cb7d8fe9b2f6499caac92366808d8e36",
       "version_major": 2,
       "version_minor": 0
      },
      "text/plain": [
       "  0%|          | 0/1386 [00:00<?, ?it/s]"
      ]
     },
     "metadata": {},
     "output_type": "display_data"
    },
    {
     "name": "stdout",
     "output_type": "stream",
     "text": [
      "tensor([[0.7849, 0.9215],\n",
      "        [0.9397, 0.7457],\n",
      "        [0.9273, 0.0660],\n",
      "        [0.9131, 0.7692],\n",
      "        [0.9059, 0.8787],\n",
      "        [0.7877, 0.9240],\n",
      "        [0.9271, 0.0713],\n",
      "        [0.1091, 0.9129]], device='cuda:0', grad_fn=<SigmoidBackward0>)\n",
      "Epoch:61, combine_score:0.030750, cls_loss:322.645020, transfer_loss:690.518188, total_loss:1013.162720\n",
      "\n"
     ]
    },
    {
     "data": {
      "application/vnd.jupyter.widget-view+json": {
       "model_id": "d7be0e7b5b4249c1a05c9abdf1d0e688",
       "version_major": 2,
       "version_minor": 0
      },
      "text/plain": [
       "  0%|          | 0/1000 [00:00<?, ?it/s]"
      ]
     },
     "metadata": {},
     "output_type": "display_data"
    },
    {
     "data": {
      "application/vnd.jupyter.widget-view+json": {
       "model_id": "7feeebbdbed04831b5db7dadbd038ced",
       "version_major": 2,
       "version_minor": 0
      },
      "text/plain": [
       "  0%|          | 0/1386 [00:00<?, ?it/s]"
      ]
     },
     "metadata": {},
     "output_type": "display_data"
    },
    {
     "name": "stdout",
     "output_type": "stream",
     "text": [
      "tensor([[0.1520, 0.9098],\n",
      "        [0.8067, 0.9177],\n",
      "        [0.9305, 0.0583],\n",
      "        [0.8218, 0.8771],\n",
      "        [0.8996, 0.9072],\n",
      "        [0.3732, 0.9106],\n",
      "        [0.9138, 0.4021],\n",
      "        [0.0696, 0.9086]], device='cuda:0', grad_fn=<SigmoidBackward0>)\n",
      "Epoch:62, combine_score:0.035030, cls_loss:322.028015, transfer_loss:690.606567, total_loss:1012.633789\n",
      "\n"
     ]
    },
    {
     "data": {
      "application/vnd.jupyter.widget-view+json": {
       "model_id": "bba0c51d4cd94c87b04ee05d81b8a716",
       "version_major": 2,
       "version_minor": 0
      },
      "text/plain": [
       "  0%|          | 0/1000 [00:00<?, ?it/s]"
      ]
     },
     "metadata": {},
     "output_type": "display_data"
    },
    {
     "data": {
      "application/vnd.jupyter.widget-view+json": {
       "model_id": "71b89cc874184b51be117a712734f827",
       "version_major": 2,
       "version_minor": 0
      },
      "text/plain": [
       "  0%|          | 0/1386 [00:00<?, ?it/s]"
      ]
     },
     "metadata": {},
     "output_type": "display_data"
    },
    {
     "name": "stdout",
     "output_type": "stream",
     "text": [
      "tensor([[0.8572, 0.9332],\n",
      "        [0.9490, 0.7709],\n",
      "        [0.9372, 0.0277],\n",
      "        [0.9120, 0.8242],\n",
      "        [0.9317, 0.6092],\n",
      "        [0.9193, 0.9130],\n",
      "        [0.9233, 0.0787],\n",
      "        [0.3433, 0.9081]], device='cuda:0', grad_fn=<SigmoidBackward0>)\n",
      "Epoch:63, combine_score:0.031320, cls_loss:322.463043, transfer_loss:692.306946, total_loss:1014.770325\n",
      "\n"
     ]
    },
    {
     "data": {
      "application/vnd.jupyter.widget-view+json": {
       "model_id": "592e0232d8fa4216a08b1636276fd44c",
       "version_major": 2,
       "version_minor": 0
      },
      "text/plain": [
       "  0%|          | 0/1000 [00:00<?, ?it/s]"
      ]
     },
     "metadata": {},
     "output_type": "display_data"
    },
    {
     "data": {
      "application/vnd.jupyter.widget-view+json": {
       "model_id": "07d6291a387740478415d7206d69567a",
       "version_major": 2,
       "version_minor": 0
      },
      "text/plain": [
       "  0%|          | 0/1386 [00:00<?, ?it/s]"
      ]
     },
     "metadata": {},
     "output_type": "display_data"
    },
    {
     "name": "stdout",
     "output_type": "stream",
     "text": [
      "tensor([[0.8776, 0.9385],\n",
      "        [0.9593, 0.8210],\n",
      "        [0.9356, 0.0366],\n",
      "        [0.9393, 0.7237],\n",
      "        [0.9330, 0.7985],\n",
      "        [0.9554, 0.9058],\n",
      "        [0.9292, 0.0939],\n",
      "        [0.2867, 0.8986]], device='cuda:0', grad_fn=<SigmoidBackward0>)\n",
      "Epoch:64, combine_score:0.030850, cls_loss:317.562012, transfer_loss:690.296753, total_loss:1007.858887\n",
      "\n"
     ]
    },
    {
     "data": {
      "application/vnd.jupyter.widget-view+json": {
       "model_id": "2deb90e7d9c9472792d7d4c96e416a12",
       "version_major": 2,
       "version_minor": 0
      },
      "text/plain": [
       "  0%|          | 0/1000 [00:00<?, ?it/s]"
      ]
     },
     "metadata": {},
     "output_type": "display_data"
    },
    {
     "data": {
      "application/vnd.jupyter.widget-view+json": {
       "model_id": "bdfdfa7565824d18b6f9c9d49480e590",
       "version_major": 2,
       "version_minor": 0
      },
      "text/plain": [
       "  0%|          | 0/1386 [00:00<?, ?it/s]"
      ]
     },
     "metadata": {},
     "output_type": "display_data"
    },
    {
     "name": "stdout",
     "output_type": "stream",
     "text": [
      "tensor([[0.4871, 0.9118],\n",
      "        [0.9283, 0.9039],\n",
      "        [0.9250, 0.0633],\n",
      "        [0.9105, 0.8333],\n",
      "        [0.9299, 0.8556],\n",
      "        [0.8911, 0.9257],\n",
      "        [0.9196, 0.1828],\n",
      "        [0.2848, 0.9050]], device='cuda:0', grad_fn=<SigmoidBackward0>)\n",
      "Epoch:65, combine_score:0.029973, cls_loss:317.275421, transfer_loss:690.767761, total_loss:1008.043213\n",
      "\n"
     ]
    },
    {
     "data": {
      "application/vnd.jupyter.widget-view+json": {
       "model_id": "67555f28fbab4a41b427501e8906d2dc",
       "version_major": 2,
       "version_minor": 0
      },
      "text/plain": [
       "  0%|          | 0/1000 [00:00<?, ?it/s]"
      ]
     },
     "metadata": {},
     "output_type": "display_data"
    },
    {
     "data": {
      "application/vnd.jupyter.widget-view+json": {
       "model_id": "cba0856296814127834b9bd23ea11e00",
       "version_major": 2,
       "version_minor": 0
      },
      "text/plain": [
       "  0%|          | 0/1386 [00:00<?, ?it/s]"
      ]
     },
     "metadata": {},
     "output_type": "display_data"
    },
    {
     "name": "stdout",
     "output_type": "stream",
     "text": [
      "tensor([[0.8851, 0.9080],\n",
      "        [0.9311, 0.4723],\n",
      "        [0.9501, 0.0070],\n",
      "        [0.9153, 0.4352],\n",
      "        [0.9120, 0.5549],\n",
      "        [0.9240, 0.7713],\n",
      "        [0.9241, 0.0366],\n",
      "        [0.3233, 0.8613]], device='cuda:0', grad_fn=<SigmoidBackward0>)\n",
      "Epoch:66, combine_score:0.040791, cls_loss:320.081116, transfer_loss:690.562988, total_loss:1010.644043\n",
      "\n"
     ]
    },
    {
     "data": {
      "application/vnd.jupyter.widget-view+json": {
       "model_id": "fdf0349081274620bb9f1d7916915eff",
       "version_major": 2,
       "version_minor": 0
      },
      "text/plain": [
       "  0%|          | 0/1000 [00:00<?, ?it/s]"
      ]
     },
     "metadata": {},
     "output_type": "display_data"
    },
    {
     "data": {
      "application/vnd.jupyter.widget-view+json": {
       "model_id": "3d94616660e046efa4763e0d479b087f",
       "version_major": 2,
       "version_minor": 0
      },
      "text/plain": [
       "  0%|          | 0/1386 [00:00<?, ?it/s]"
      ]
     },
     "metadata": {},
     "output_type": "display_data"
    },
    {
     "name": "stdout",
     "output_type": "stream",
     "text": [
      "tensor([[0.3130, 0.9140],\n",
      "        [0.9511, 0.7263],\n",
      "        [0.9291, 0.0536],\n",
      "        [0.9234, 0.8529],\n",
      "        [0.8912, 0.9128],\n",
      "        [0.9056, 0.9317],\n",
      "        [0.9313, 0.0462],\n",
      "        [0.0331, 0.9152]], device='cuda:0', grad_fn=<SigmoidBackward0>)\n",
      "Epoch:67, combine_score:0.031499, cls_loss:317.788177, transfer_loss:688.299500, total_loss:1006.087646\n",
      "\n"
     ]
    },
    {
     "data": {
      "application/vnd.jupyter.widget-view+json": {
       "model_id": "a853dd5ad9e84cd8a4eeb6208ecb9855",
       "version_major": 2,
       "version_minor": 0
      },
      "text/plain": [
       "  0%|          | 0/1000 [00:00<?, ?it/s]"
      ]
     },
     "metadata": {},
     "output_type": "display_data"
    },
    {
     "data": {
      "application/vnd.jupyter.widget-view+json": {
       "model_id": "b4082667974949128e861e6e6db0211f",
       "version_major": 2,
       "version_minor": 0
      },
      "text/plain": [
       "  0%|          | 0/1386 [00:00<?, ?it/s]"
      ]
     },
     "metadata": {},
     "output_type": "display_data"
    },
    {
     "name": "stdout",
     "output_type": "stream",
     "text": [
      "tensor([[0.8331, 0.9162],\n",
      "        [0.9321, 0.3034],\n",
      "        [0.9437, 0.0186],\n",
      "        [0.9243, 0.5599],\n",
      "        [0.9229, 0.8322],\n",
      "        [0.9048, 0.9001],\n",
      "        [0.9357, 0.0359],\n",
      "        [0.1584, 0.9069]], device='cuda:0', grad_fn=<SigmoidBackward0>)\n",
      "Epoch:68, combine_score:0.029487, cls_loss:319.879456, transfer_loss:690.603821, total_loss:1010.481995\n",
      "\n"
     ]
    },
    {
     "data": {
      "application/vnd.jupyter.widget-view+json": {
       "model_id": "5824fc5acf9c47b491eb2f9073f81639",
       "version_major": 2,
       "version_minor": 0
      },
      "text/plain": [
       "  0%|          | 0/1000 [00:00<?, ?it/s]"
      ]
     },
     "metadata": {},
     "output_type": "display_data"
    },
    {
     "data": {
      "application/vnd.jupyter.widget-view+json": {
       "model_id": "0e405ef554f84e4c84b5e349e69e2dd1",
       "version_major": 2,
       "version_minor": 0
      },
      "text/plain": [
       "  0%|          | 0/1386 [00:00<?, ?it/s]"
      ]
     },
     "metadata": {},
     "output_type": "display_data"
    },
    {
     "name": "stdout",
     "output_type": "stream",
     "text": [
      "tensor([[0.6236, 0.9130],\n",
      "        [0.9394, 0.7229],\n",
      "        [0.9309, 0.0375],\n",
      "        [0.9098, 0.7754],\n",
      "        [0.9201, 0.8156],\n",
      "        [0.9040, 0.9185],\n",
      "        [0.9193, 0.0838],\n",
      "        [0.1846, 0.9106]], device='cuda:0', grad_fn=<SigmoidBackward0>)\n",
      "Epoch:69, combine_score:0.029980, cls_loss:313.241516, transfer_loss:690.192444, total_loss:1003.435242\n",
      "\n"
     ]
    },
    {
     "data": {
      "application/vnd.jupyter.widget-view+json": {
       "model_id": "5e27b04587814910972355d203811ee8",
       "version_major": 2,
       "version_minor": 0
      },
      "text/plain": [
       "  0%|          | 0/1000 [00:00<?, ?it/s]"
      ]
     },
     "metadata": {},
     "output_type": "display_data"
    },
    {
     "data": {
      "application/vnd.jupyter.widget-view+json": {
       "model_id": "77b5b4437f47430e98c5166012d78da6",
       "version_major": 2,
       "version_minor": 0
      },
      "text/plain": [
       "  0%|          | 0/1386 [00:00<?, ?it/s]"
      ]
     },
     "metadata": {},
     "output_type": "display_data"
    },
    {
     "name": "stdout",
     "output_type": "stream",
     "text": [
      "tensor([[0.1240, 0.9172],\n",
      "        [0.9446, 0.9128],\n",
      "        [0.9353, 0.0366],\n",
      "        [0.8285, 0.8840],\n",
      "        [0.9311, 0.8407],\n",
      "        [0.8669, 0.9341],\n",
      "        [0.9254, 0.1303],\n",
      "        [0.4803, 0.9084]], device='cuda:0', grad_fn=<SigmoidBackward0>)\n",
      "Epoch:70, combine_score:0.030470, cls_loss:317.678680, transfer_loss:690.923767, total_loss:1008.602051\n",
      "\n"
     ]
    },
    {
     "data": {
      "application/vnd.jupyter.widget-view+json": {
       "model_id": "74e4a3b221cd41cdac20e14951a332f3",
       "version_major": 2,
       "version_minor": 0
      },
      "text/plain": [
       "  0%|          | 0/1000 [00:00<?, ?it/s]"
      ]
     },
     "metadata": {},
     "output_type": "display_data"
    },
    {
     "data": {
      "application/vnd.jupyter.widget-view+json": {
       "model_id": "a84a4395d6d2413eb95b080f34e4eafe",
       "version_major": 2,
       "version_minor": 0
      },
      "text/plain": [
       "  0%|          | 0/1386 [00:00<?, ?it/s]"
      ]
     },
     "metadata": {},
     "output_type": "display_data"
    },
    {
     "name": "stdout",
     "output_type": "stream",
     "text": [
      "tensor([[0.6916, 0.9139],\n",
      "        [0.9128, 0.9005],\n",
      "        [0.9166, 0.0948],\n",
      "        [0.9198, 0.7824],\n",
      "        [0.9280, 0.7796],\n",
      "        [0.8998, 0.9207],\n",
      "        [0.9161, 0.3345],\n",
      "        [0.1973, 0.9046]], device='cuda:0', grad_fn=<SigmoidBackward0>)\n",
      "Epoch:71, combine_score:0.028701, cls_loss:315.925903, transfer_loss:692.482666, total_loss:1008.407959\n",
      "\n"
     ]
    },
    {
     "data": {
      "application/vnd.jupyter.widget-view+json": {
       "model_id": "57d354ca46754c63936220edefeab840",
       "version_major": 2,
       "version_minor": 0
      },
      "text/plain": [
       "  0%|          | 0/1000 [00:00<?, ?it/s]"
      ]
     },
     "metadata": {},
     "output_type": "display_data"
    },
    {
     "data": {
      "application/vnd.jupyter.widget-view+json": {
       "model_id": "5cc9dff370cb4be98baa36bf4645b16d",
       "version_major": 2,
       "version_minor": 0
      },
      "text/plain": [
       "  0%|          | 0/1386 [00:00<?, ?it/s]"
      ]
     },
     "metadata": {},
     "output_type": "display_data"
    },
    {
     "name": "stdout",
     "output_type": "stream",
     "text": [
      "tensor([[0.3848, 0.9052],\n",
      "        [0.9482, 0.7569],\n",
      "        [0.9338, 0.0306],\n",
      "        [0.8889, 0.8365],\n",
      "        [0.9216, 0.8271],\n",
      "        [0.8958, 0.9179],\n",
      "        [0.9218, 0.1168],\n",
      "        [0.0575, 0.9156]], device='cuda:0', grad_fn=<SigmoidBackward0>)\n",
      "Epoch:72, combine_score:0.030888, cls_loss:319.024078, transfer_loss:690.823181, total_loss:1009.847107\n",
      "\n"
     ]
    },
    {
     "data": {
      "application/vnd.jupyter.widget-view+json": {
       "model_id": "f5a52e4e41024ccb812732674ef0adbf",
       "version_major": 2,
       "version_minor": 0
      },
      "text/plain": [
       "  0%|          | 0/1000 [00:00<?, ?it/s]"
      ]
     },
     "metadata": {},
     "output_type": "display_data"
    },
    {
     "data": {
      "application/vnd.jupyter.widget-view+json": {
       "model_id": "e517cce192414d59a38cf9f963b1544a",
       "version_major": 2,
       "version_minor": 0
      },
      "text/plain": [
       "  0%|          | 0/1386 [00:00<?, ?it/s]"
      ]
     },
     "metadata": {},
     "output_type": "display_data"
    },
    {
     "name": "stdout",
     "output_type": "stream",
     "text": [
      "tensor([[0.8074, 0.9188],\n",
      "        [0.9310, 0.5557],\n",
      "        [0.9309, 0.0186],\n",
      "        [0.9088, 0.6351],\n",
      "        [0.9169, 0.7257],\n",
      "        [0.9154, 0.8860],\n",
      "        [0.9134, 0.0684],\n",
      "        [0.0675, 0.9168]], device='cuda:0', grad_fn=<SigmoidBackward0>)\n",
      "Epoch:73, combine_score:0.032875, cls_loss:316.274384, transfer_loss:691.102173, total_loss:1007.376038\n",
      "\n"
     ]
    },
    {
     "data": {
      "application/vnd.jupyter.widget-view+json": {
       "model_id": "80dd90e7ecab42ff9a6fecfefc98072d",
       "version_major": 2,
       "version_minor": 0
      },
      "text/plain": [
       "  0%|          | 0/1000 [00:00<?, ?it/s]"
      ]
     },
     "metadata": {},
     "output_type": "display_data"
    },
    {
     "data": {
      "application/vnd.jupyter.widget-view+json": {
       "model_id": "3bd5eceda4f14c86a208523c18f4843f",
       "version_major": 2,
       "version_minor": 0
      },
      "text/plain": [
       "  0%|          | 0/1386 [00:00<?, ?it/s]"
      ]
     },
     "metadata": {},
     "output_type": "display_data"
    },
    {
     "name": "stdout",
     "output_type": "stream",
     "text": [
      "tensor([[0.4142, 0.9014],\n",
      "        [0.8640, 0.8969],\n",
      "        [0.9168, 0.0577],\n",
      "        [0.9198, 0.6771],\n",
      "        [0.9218, 0.7609],\n",
      "        [0.5682, 0.9009],\n",
      "        [0.9136, 0.1869],\n",
      "        [0.4168, 0.8959]], device='cuda:0', grad_fn=<SigmoidBackward0>)\n",
      "Epoch:74, combine_score:0.033972, cls_loss:316.123871, transfer_loss:688.286804, total_loss:1004.410889\n",
      "\n"
     ]
    },
    {
     "data": {
      "application/vnd.jupyter.widget-view+json": {
       "model_id": "bfd0558395b94bf4a4216e1c430ae8ef",
       "version_major": 2,
       "version_minor": 0
      },
      "text/plain": [
       "  0%|          | 0/1000 [00:00<?, ?it/s]"
      ]
     },
     "metadata": {},
     "output_type": "display_data"
    },
    {
     "data": {
      "application/vnd.jupyter.widget-view+json": {
       "model_id": "e2299d1245e04dd197ccbbd00155f15f",
       "version_major": 2,
       "version_minor": 0
      },
      "text/plain": [
       "  0%|          | 0/1386 [00:00<?, ?it/s]"
      ]
     },
     "metadata": {},
     "output_type": "display_data"
    },
    {
     "name": "stdout",
     "output_type": "stream",
     "text": [
      "tensor([[0.0534, 0.9187],\n",
      "        [0.8625, 0.8842],\n",
      "        [0.9275, 0.0504],\n",
      "        [0.8921, 0.8782],\n",
      "        [0.9314, 0.7127],\n",
      "        [0.6344, 0.9078],\n",
      "        [0.9001, 0.3596],\n",
      "        [0.2860, 0.9041]], device='cuda:0', grad_fn=<SigmoidBackward0>)\n",
      "Epoch:75, combine_score:0.048638, cls_loss:317.982727, transfer_loss:688.183533, total_loss:1006.166748\n",
      "\n"
     ]
    },
    {
     "data": {
      "application/vnd.jupyter.widget-view+json": {
       "model_id": "c902ea30feb84b5f988b2497e39691c0",
       "version_major": 2,
       "version_minor": 0
      },
      "text/plain": [
       "  0%|          | 0/1000 [00:00<?, ?it/s]"
      ]
     },
     "metadata": {},
     "output_type": "display_data"
    },
    {
     "data": {
      "application/vnd.jupyter.widget-view+json": {
       "model_id": "18cce903983c4c63b1803f467d721339",
       "version_major": 2,
       "version_minor": 0
      },
      "text/plain": [
       "  0%|          | 0/1386 [00:00<?, ?it/s]"
      ]
     },
     "metadata": {},
     "output_type": "display_data"
    },
    {
     "name": "stdout",
     "output_type": "stream",
     "text": [
      "tensor([[0.8356, 0.9308],\n",
      "        [0.9343, 0.6228],\n",
      "        [0.9378, 0.0383],\n",
      "        [0.9132, 0.6549],\n",
      "        [0.9238, 0.5765],\n",
      "        [0.9253, 0.8997],\n",
      "        [0.9289, 0.0688],\n",
      "        [0.3692, 0.9046]], device='cuda:0', grad_fn=<SigmoidBackward0>)\n",
      "Epoch:76, combine_score:0.031935, cls_loss:319.639069, transfer_loss:691.584961, total_loss:1011.223938\n",
      "\n"
     ]
    },
    {
     "data": {
      "application/vnd.jupyter.widget-view+json": {
       "model_id": "37b1de02b64442799829e3cfaa4e3180",
       "version_major": 2,
       "version_minor": 0
      },
      "text/plain": [
       "  0%|          | 0/1000 [00:00<?, ?it/s]"
      ]
     },
     "metadata": {},
     "output_type": "display_data"
    },
    {
     "data": {
      "application/vnd.jupyter.widget-view+json": {
       "model_id": "eb4c88adc8924199b4800aec050a5c9e",
       "version_major": 2,
       "version_minor": 0
      },
      "text/plain": [
       "  0%|          | 0/1386 [00:00<?, ?it/s]"
      ]
     },
     "metadata": {},
     "output_type": "display_data"
    },
    {
     "name": "stdout",
     "output_type": "stream",
     "text": [
      "tensor([[0.8362, 0.9268],\n",
      "        [0.9343, 0.4781],\n",
      "        [0.9442, 0.0118],\n",
      "        [0.9145, 0.6535],\n",
      "        [0.9177, 0.3329],\n",
      "        [0.9345, 0.8960],\n",
      "        [0.9306, 0.0309],\n",
      "        [0.4453, 0.8898]], device='cuda:0', grad_fn=<SigmoidBackward0>)\n",
      "Epoch:77, combine_score:0.030879, cls_loss:310.945923, transfer_loss:689.765076, total_loss:1000.710938\n",
      "\n"
     ]
    },
    {
     "data": {
      "application/vnd.jupyter.widget-view+json": {
       "model_id": "1494f6721260413f8063de5f006141db",
       "version_major": 2,
       "version_minor": 0
      },
      "text/plain": [
       "  0%|          | 0/1000 [00:00<?, ?it/s]"
      ]
     },
     "metadata": {},
     "output_type": "display_data"
    },
    {
     "data": {
      "application/vnd.jupyter.widget-view+json": {
       "model_id": "be947a04756d4409b6822fe42761c676",
       "version_major": 2,
       "version_minor": 0
      },
      "text/plain": [
       "  0%|          | 0/1386 [00:00<?, ?it/s]"
      ]
     },
     "metadata": {},
     "output_type": "display_data"
    },
    {
     "name": "stdout",
     "output_type": "stream",
     "text": [
      "tensor([[0.8553, 0.9273],\n",
      "        [0.9369, 0.5804],\n",
      "        [0.9222, 0.0489],\n",
      "        [0.8914, 0.8178],\n",
      "        [0.9181, 0.8010],\n",
      "        [0.8911, 0.9115],\n",
      "        [0.9178, 0.0651],\n",
      "        [0.0642, 0.9123]], device='cuda:0', grad_fn=<SigmoidBackward0>)\n",
      "Epoch:78, combine_score:0.028746, cls_loss:317.960297, transfer_loss:691.005859, total_loss:1008.965759\n",
      "\n"
     ]
    },
    {
     "data": {
      "application/vnd.jupyter.widget-view+json": {
       "model_id": "f6bb7ea774f244be9284c7093c4866de",
       "version_major": 2,
       "version_minor": 0
      },
      "text/plain": [
       "  0%|          | 0/1000 [00:00<?, ?it/s]"
      ]
     },
     "metadata": {},
     "output_type": "display_data"
    },
    {
     "data": {
      "application/vnd.jupyter.widget-view+json": {
       "model_id": "dafd2e4cd6934d74900e56b3020fc558",
       "version_major": 2,
       "version_minor": 0
      },
      "text/plain": [
       "  0%|          | 0/1386 [00:00<?, ?it/s]"
      ]
     },
     "metadata": {},
     "output_type": "display_data"
    },
    {
     "name": "stdout",
     "output_type": "stream",
     "text": [
      "tensor([[0.8204, 0.9264],\n",
      "        [0.9344, 0.7618],\n",
      "        [0.9355, 0.0197],\n",
      "        [0.9126, 0.6973],\n",
      "        [0.9198, 0.6409],\n",
      "        [0.9223, 0.9086],\n",
      "        [0.9226, 0.0748],\n",
      "        [0.1268, 0.9107]], device='cuda:0', grad_fn=<SigmoidBackward0>)\n",
      "Epoch:79, combine_score:0.031214, cls_loss:313.283203, transfer_loss:692.689636, total_loss:1005.972961\n",
      "\n"
     ]
    },
    {
     "data": {
      "application/vnd.jupyter.widget-view+json": {
       "model_id": "628dbb474d45446991f13229d3dded4b",
       "version_major": 2,
       "version_minor": 0
      },
      "text/plain": [
       "  0%|          | 0/1000 [00:00<?, ?it/s]"
      ]
     },
     "metadata": {},
     "output_type": "display_data"
    },
    {
     "data": {
      "application/vnd.jupyter.widget-view+json": {
       "model_id": "efde3abfd79243eabe95bfe2622ba595",
       "version_major": 2,
       "version_minor": 0
      },
      "text/plain": [
       "  0%|          | 0/1386 [00:00<?, ?it/s]"
      ]
     },
     "metadata": {},
     "output_type": "display_data"
    },
    {
     "name": "stdout",
     "output_type": "stream",
     "text": [
      "tensor([[0.8455, 0.9256],\n",
      "        [0.9383, 0.6419],\n",
      "        [0.9313, 0.0289],\n",
      "        [0.9064, 0.6822],\n",
      "        [0.9207, 0.5733],\n",
      "        [0.9296, 0.9087],\n",
      "        [0.9191, 0.0906],\n",
      "        [0.3718, 0.9048]], device='cuda:0', grad_fn=<SigmoidBackward0>)\n",
      "Epoch:80, combine_score:0.033836, cls_loss:315.613007, transfer_loss:690.312317, total_loss:1005.924805\n",
      "\n"
     ]
    },
    {
     "data": {
      "application/vnd.jupyter.widget-view+json": {
       "model_id": "392949f94bf94720a001c88c6456d7e2",
       "version_major": 2,
       "version_minor": 0
      },
      "text/plain": [
       "  0%|          | 0/1000 [00:00<?, ?it/s]"
      ]
     },
     "metadata": {},
     "output_type": "display_data"
    },
    {
     "data": {
      "application/vnd.jupyter.widget-view+json": {
       "model_id": "a63ca95152ff4d7da102dedaae872e40",
       "version_major": 2,
       "version_minor": 0
      },
      "text/plain": [
       "  0%|          | 0/1386 [00:00<?, ?it/s]"
      ]
     },
     "metadata": {},
     "output_type": "display_data"
    },
    {
     "name": "stdout",
     "output_type": "stream",
     "text": [
      "tensor([[0.2043, 0.9075],\n",
      "        [0.9505, 0.8469],\n",
      "        [0.9325, 0.0357],\n",
      "        [0.9159, 0.7770],\n",
      "        [0.9292, 0.7108],\n",
      "        [0.7686, 0.9147],\n",
      "        [0.9128, 0.2164],\n",
      "        [0.1018, 0.9150]], device='cuda:0', grad_fn=<SigmoidBackward0>)\n",
      "Epoch:81, combine_score:0.029769, cls_loss:315.861206, transfer_loss:691.049316, total_loss:1006.910095\n",
      "\n"
     ]
    },
    {
     "data": {
      "application/vnd.jupyter.widget-view+json": {
       "model_id": "ca162bda0e624987815b31a51dbaa07a",
       "version_major": 2,
       "version_minor": 0
      },
      "text/plain": [
       "  0%|          | 0/1000 [00:00<?, ?it/s]"
      ]
     },
     "metadata": {},
     "output_type": "display_data"
    },
    {
     "data": {
      "application/vnd.jupyter.widget-view+json": {
       "model_id": "18f458b6176146ff9107a33e0750aaa9",
       "version_major": 2,
       "version_minor": 0
      },
      "text/plain": [
       "  0%|          | 0/1386 [00:00<?, ?it/s]"
      ]
     },
     "metadata": {},
     "output_type": "display_data"
    },
    {
     "name": "stdout",
     "output_type": "stream",
     "text": [
      "tensor([[0.4996, 0.9240],\n",
      "        [0.9539, 0.7428],\n",
      "        [0.9416, 0.0373],\n",
      "        [0.9299, 0.6692],\n",
      "        [0.9220, 0.8290],\n",
      "        [0.8453, 0.9257],\n",
      "        [0.9302, 0.0666],\n",
      "        [0.0680, 0.9189]], device='cuda:0', grad_fn=<SigmoidBackward0>)\n",
      "Epoch:82, combine_score:0.028301, cls_loss:319.187622, transfer_loss:686.092346, total_loss:1005.280334\n",
      "\n"
     ]
    },
    {
     "data": {
      "application/vnd.jupyter.widget-view+json": {
       "model_id": "50155b608656425dae53d2d7246a1a34",
       "version_major": 2,
       "version_minor": 0
      },
      "text/plain": [
       "  0%|          | 0/1000 [00:00<?, ?it/s]"
      ]
     },
     "metadata": {},
     "output_type": "display_data"
    },
    {
     "data": {
      "application/vnd.jupyter.widget-view+json": {
       "model_id": "950a96bd67d54ab2a6fa51f38cac1dbf",
       "version_major": 2,
       "version_minor": 0
      },
      "text/plain": [
       "  0%|          | 0/1386 [00:00<?, ?it/s]"
      ]
     },
     "metadata": {},
     "output_type": "display_data"
    },
    {
     "name": "stdout",
     "output_type": "stream",
     "text": [
      "tensor([[0.8257, 0.9304],\n",
      "        [0.9361, 0.4547],\n",
      "        [0.9315, 0.0458],\n",
      "        [0.9157, 0.7973],\n",
      "        [0.9046, 0.8630],\n",
      "        [0.9231, 0.9011],\n",
      "        [0.9248, 0.0630],\n",
      "        [0.0359, 0.9213]], device='cuda:0', grad_fn=<SigmoidBackward0>)\n",
      "Epoch:83, combine_score:0.028674, cls_loss:312.071167, transfer_loss:689.748413, total_loss:1001.819702\n",
      "\n"
     ]
    },
    {
     "data": {
      "application/vnd.jupyter.widget-view+json": {
       "model_id": "08c4af5578584c8d83da728882f70788",
       "version_major": 2,
       "version_minor": 0
      },
      "text/plain": [
       "  0%|          | 0/1000 [00:00<?, ?it/s]"
      ]
     },
     "metadata": {},
     "output_type": "display_data"
    },
    {
     "data": {
      "application/vnd.jupyter.widget-view+json": {
       "model_id": "644d15551e2243879a45c98e479528e4",
       "version_major": 2,
       "version_minor": 0
      },
      "text/plain": [
       "  0%|          | 0/1386 [00:00<?, ?it/s]"
      ]
     },
     "metadata": {},
     "output_type": "display_data"
    },
    {
     "name": "stdout",
     "output_type": "stream",
     "text": [
      "tensor([[0.8274, 0.9273],\n",
      "        [0.9262, 0.3421],\n",
      "        [0.9354, 0.0414],\n",
      "        [0.9083, 0.7075],\n",
      "        [0.9030, 0.8575],\n",
      "        [0.9411, 0.8772],\n",
      "        [0.9351, 0.0424],\n",
      "        [0.0592, 0.9213]], device='cuda:0', grad_fn=<SigmoidBackward0>)\n",
      "Epoch:84, combine_score:0.031473, cls_loss:312.581482, transfer_loss:691.429077, total_loss:1004.009949\n",
      "\n"
     ]
    },
    {
     "data": {
      "application/vnd.jupyter.widget-view+json": {
       "model_id": "4337b32319374bb0bfd4888e772c4324",
       "version_major": 2,
       "version_minor": 0
      },
      "text/plain": [
       "  0%|          | 0/1000 [00:00<?, ?it/s]"
      ]
     },
     "metadata": {},
     "output_type": "display_data"
    },
    {
     "data": {
      "application/vnd.jupyter.widget-view+json": {
       "model_id": "30bd36a8f370489d882d4fce7bcf0cae",
       "version_major": 2,
       "version_minor": 0
      },
      "text/plain": [
       "  0%|          | 0/1386 [00:00<?, ?it/s]"
      ]
     },
     "metadata": {},
     "output_type": "display_data"
    },
    {
     "name": "stdout",
     "output_type": "stream",
     "text": [
      "tensor([[0.8083, 0.9234],\n",
      "        [0.9357, 0.6054],\n",
      "        [0.9337, 0.0231],\n",
      "        [0.9249, 0.6471],\n",
      "        [0.9198, 0.7051],\n",
      "        [0.9355, 0.9022],\n",
      "        [0.9253, 0.0500],\n",
      "        [0.0881, 0.9135]], device='cuda:0', grad_fn=<SigmoidBackward0>)\n",
      "Epoch:85, combine_score:0.028301, cls_loss:312.331696, transfer_loss:691.124573, total_loss:1003.455566\n",
      "\n"
     ]
    },
    {
     "data": {
      "application/vnd.jupyter.widget-view+json": {
       "model_id": "b9cf129078a84a16a41b44023140715e",
       "version_major": 2,
       "version_minor": 0
      },
      "text/plain": [
       "  0%|          | 0/1000 [00:00<?, ?it/s]"
      ]
     },
     "metadata": {},
     "output_type": "display_data"
    },
    {
     "data": {
      "application/vnd.jupyter.widget-view+json": {
       "model_id": "c3fb24703f724a23ad3d676088ea5d13",
       "version_major": 2,
       "version_minor": 0
      },
      "text/plain": [
       "  0%|          | 0/1386 [00:00<?, ?it/s]"
      ]
     },
     "metadata": {},
     "output_type": "display_data"
    },
    {
     "name": "stdout",
     "output_type": "stream",
     "text": [
      "tensor([[0.7922, 0.9296],\n",
      "        [0.9529, 0.8310],\n",
      "        [0.9214, 0.0855],\n",
      "        [0.9247, 0.8154],\n",
      "        [0.9206, 0.8506],\n",
      "        [0.8956, 0.9291],\n",
      "        [0.9159, 0.2621],\n",
      "        [0.0501, 0.9222]], device='cuda:0', grad_fn=<SigmoidBackward0>)\n",
      "Epoch:86, combine_score:0.027104, cls_loss:313.839508, transfer_loss:690.773071, total_loss:1004.612610\n",
      "\n"
     ]
    },
    {
     "data": {
      "application/vnd.jupyter.widget-view+json": {
       "model_id": "c21e4055ebb84228b35c345d9d2a595e",
       "version_major": 2,
       "version_minor": 0
      },
      "text/plain": [
       "  0%|          | 0/1000 [00:00<?, ?it/s]"
      ]
     },
     "metadata": {},
     "output_type": "display_data"
    },
    {
     "data": {
      "application/vnd.jupyter.widget-view+json": {
       "model_id": "2278ef145e334c15b3f950bd561027c2",
       "version_major": 2,
       "version_minor": 0
      },
      "text/plain": [
       "  0%|          | 0/1386 [00:00<?, ?it/s]"
      ]
     },
     "metadata": {},
     "output_type": "display_data"
    },
    {
     "name": "stdout",
     "output_type": "stream",
     "text": [
      "tensor([[0.6958, 0.9203],\n",
      "        [0.9366, 0.8465],\n",
      "        [0.9217, 0.0383],\n",
      "        [0.9181, 0.8262],\n",
      "        [0.9196, 0.7141],\n",
      "        [0.8828, 0.9194],\n",
      "        [0.9113, 0.1184],\n",
      "        [0.1038, 0.9148]], device='cuda:0', grad_fn=<SigmoidBackward0>)\n",
      "Epoch:87, combine_score:0.027497, cls_loss:313.571533, transfer_loss:690.860046, total_loss:1004.430237\n",
      "\n"
     ]
    },
    {
     "data": {
      "application/vnd.jupyter.widget-view+json": {
       "model_id": "92dbf2ea8dea40aa9966a4be54dbd022",
       "version_major": 2,
       "version_minor": 0
      },
      "text/plain": [
       "  0%|          | 0/1000 [00:00<?, ?it/s]"
      ]
     },
     "metadata": {},
     "output_type": "display_data"
    },
    {
     "data": {
      "application/vnd.jupyter.widget-view+json": {
       "model_id": "3cec6800cce34c898965d2e16b5b09a4",
       "version_major": 2,
       "version_minor": 0
      },
      "text/plain": [
       "  0%|          | 0/1386 [00:00<?, ?it/s]"
      ]
     },
     "metadata": {},
     "output_type": "display_data"
    },
    {
     "name": "stdout",
     "output_type": "stream",
     "text": [
      "tensor([[0.6561, 0.9237],\n",
      "        [0.9084, 0.8896],\n",
      "        [0.9358, 0.0577],\n",
      "        [0.9133, 0.7964],\n",
      "        [0.9249, 0.7323],\n",
      "        [0.7831, 0.9229],\n",
      "        [0.9206, 0.2532],\n",
      "        [0.2085, 0.9091]], device='cuda:0', grad_fn=<SigmoidBackward0>)\n",
      "Epoch:88, combine_score:0.030454, cls_loss:315.661407, transfer_loss:688.466675, total_loss:1004.127563\n",
      "\n"
     ]
    },
    {
     "data": {
      "application/vnd.jupyter.widget-view+json": {
       "model_id": "c25c1b0bd0b74d30b152118ab0415549",
       "version_major": 2,
       "version_minor": 0
      },
      "text/plain": [
       "  0%|          | 0/1000 [00:00<?, ?it/s]"
      ]
     },
     "metadata": {},
     "output_type": "display_data"
    },
    {
     "data": {
      "application/vnd.jupyter.widget-view+json": {
       "model_id": "61155632dbec41bb93fd777345e73aaa",
       "version_major": 2,
       "version_minor": 0
      },
      "text/plain": [
       "  0%|          | 0/1386 [00:00<?, ?it/s]"
      ]
     },
     "metadata": {},
     "output_type": "display_data"
    },
    {
     "name": "stdout",
     "output_type": "stream",
     "text": [
      "tensor([[0.6699, 0.9244],\n",
      "        [0.9470, 0.8478],\n",
      "        [0.9345, 0.0285],\n",
      "        [0.9257, 0.7821],\n",
      "        [0.9276, 0.7090],\n",
      "        [0.9248, 0.9285],\n",
      "        [0.9259, 0.0998],\n",
      "        [0.5254, 0.9115]], device='cuda:0', grad_fn=<SigmoidBackward0>)\n",
      "Epoch:89, combine_score:0.030116, cls_loss:309.641998, transfer_loss:690.684326, total_loss:1000.326782\n",
      "\n"
     ]
    },
    {
     "data": {
      "application/vnd.jupyter.widget-view+json": {
       "model_id": "3acf766d28e34882b4485a355cfa101e",
       "version_major": 2,
       "version_minor": 0
      },
      "text/plain": [
       "  0%|          | 0/1000 [00:00<?, ?it/s]"
      ]
     },
     "metadata": {},
     "output_type": "display_data"
    },
    {
     "data": {
      "application/vnd.jupyter.widget-view+json": {
       "model_id": "bc46815bdd4e459ab15ffa65f51ec654",
       "version_major": 2,
       "version_minor": 0
      },
      "text/plain": [
       "  0%|          | 0/1386 [00:00<?, ?it/s]"
      ]
     },
     "metadata": {},
     "output_type": "display_data"
    },
    {
     "name": "stdout",
     "output_type": "stream",
     "text": [
      "tensor([[0.6643, 0.9213],\n",
      "        [0.9301, 0.5737],\n",
      "        [0.9352, 0.0201],\n",
      "        [0.9170, 0.6854],\n",
      "        [0.9218, 0.6094],\n",
      "        [0.9173, 0.8997],\n",
      "        [0.9280, 0.0351],\n",
      "        [0.2186, 0.9095]], device='cuda:0', grad_fn=<SigmoidBackward0>)\n",
      "Epoch:90, combine_score:0.029895, cls_loss:314.283661, transfer_loss:690.394592, total_loss:1004.678101\n",
      "\n"
     ]
    },
    {
     "data": {
      "application/vnd.jupyter.widget-view+json": {
       "model_id": "e25c7ae98ef8471c82dd7f7b52fd224d",
       "version_major": 2,
       "version_minor": 0
      },
      "text/plain": [
       "  0%|          | 0/1000 [00:00<?, ?it/s]"
      ]
     },
     "metadata": {},
     "output_type": "display_data"
    },
    {
     "data": {
      "application/vnd.jupyter.widget-view+json": {
       "model_id": "cff18bcc674b48169ad1aa7a37ff24db",
       "version_major": 2,
       "version_minor": 0
      },
      "text/plain": [
       "  0%|          | 0/1386 [00:00<?, ?it/s]"
      ]
     },
     "metadata": {},
     "output_type": "display_data"
    },
    {
     "name": "stdout",
     "output_type": "stream",
     "text": [
      "tensor([[0.8322, 0.9321],\n",
      "        [0.9424, 0.7355],\n",
      "        [0.9327, 0.0295],\n",
      "        [0.9210, 0.6739],\n",
      "        [0.9288, 0.7129],\n",
      "        [0.8998, 0.9219],\n",
      "        [0.9221, 0.0637],\n",
      "        [0.1560, 0.9184]], device='cuda:0', grad_fn=<SigmoidBackward0>)\n",
      "Epoch:91, combine_score:0.030524, cls_loss:311.686066, transfer_loss:691.623657, total_loss:1003.310059\n",
      "\n"
     ]
    },
    {
     "data": {
      "application/vnd.jupyter.widget-view+json": {
       "model_id": "337db336ed664e719c3eda36669ef2ca",
       "version_major": 2,
       "version_minor": 0
      },
      "text/plain": [
       "  0%|          | 0/1000 [00:00<?, ?it/s]"
      ]
     },
     "metadata": {},
     "output_type": "display_data"
    },
    {
     "data": {
      "application/vnd.jupyter.widget-view+json": {
       "model_id": "0d33d2f4a1d24ad89465abb330f68153",
       "version_major": 2,
       "version_minor": 0
      },
      "text/plain": [
       "  0%|          | 0/1386 [00:00<?, ?it/s]"
      ]
     },
     "metadata": {},
     "output_type": "display_data"
    },
    {
     "name": "stdout",
     "output_type": "stream",
     "text": [
      "tensor([[0.7339, 0.9321],\n",
      "        [0.9492, 0.8424],\n",
      "        [0.9431, 0.0579],\n",
      "        [0.9337, 0.7955],\n",
      "        [0.9303, 0.7523],\n",
      "        [0.7748, 0.9297],\n",
      "        [0.9361, 0.0666],\n",
      "        [0.5056, 0.9097]], device='cuda:0', grad_fn=<SigmoidBackward0>)\n",
      "Epoch:92, combine_score:0.030271, cls_loss:317.581970, transfer_loss:684.561096, total_loss:1002.142639\n",
      "\n"
     ]
    },
    {
     "data": {
      "application/vnd.jupyter.widget-view+json": {
       "model_id": "7f91cfc08dd0444ba585acfc4af2bf6e",
       "version_major": 2,
       "version_minor": 0
      },
      "text/plain": [
       "  0%|          | 0/1000 [00:00<?, ?it/s]"
      ]
     },
     "metadata": {},
     "output_type": "display_data"
    },
    {
     "data": {
      "application/vnd.jupyter.widget-view+json": {
       "model_id": "0f2491a9fa5b4596a457aad653241460",
       "version_major": 2,
       "version_minor": 0
      },
      "text/plain": [
       "  0%|          | 0/1386 [00:00<?, ?it/s]"
      ]
     },
     "metadata": {},
     "output_type": "display_data"
    },
    {
     "name": "stdout",
     "output_type": "stream",
     "text": [
      "tensor([[0.8339, 0.9268],\n",
      "        [0.9475, 0.7898],\n",
      "        [0.9311, 0.0313],\n",
      "        [0.9232, 0.7842],\n",
      "        [0.9358, 0.7508],\n",
      "        [0.9407, 0.9034],\n",
      "        [0.9168, 0.1308],\n",
      "        [0.0884, 0.9143]], device='cuda:0', grad_fn=<SigmoidBackward0>)\n",
      "Epoch:93, combine_score:0.028822, cls_loss:311.265106, transfer_loss:690.685242, total_loss:1001.950012\n",
      "\n"
     ]
    },
    {
     "data": {
      "application/vnd.jupyter.widget-view+json": {
       "model_id": "adf492bdfb304d308b2a57484d72a06b",
       "version_major": 2,
       "version_minor": 0
      },
      "text/plain": [
       "  0%|          | 0/1000 [00:00<?, ?it/s]"
      ]
     },
     "metadata": {},
     "output_type": "display_data"
    },
    {
     "data": {
      "application/vnd.jupyter.widget-view+json": {
       "model_id": "3ccae0fc3ad9496d9014ea95ab1e00fc",
       "version_major": 2,
       "version_minor": 0
      },
      "text/plain": [
       "  0%|          | 0/1386 [00:00<?, ?it/s]"
      ]
     },
     "metadata": {},
     "output_type": "display_data"
    },
    {
     "name": "stdout",
     "output_type": "stream",
     "text": [
      "tensor([[0.5170, 0.9178],\n",
      "        [0.9543, 0.8618],\n",
      "        [0.9267, 0.0665],\n",
      "        [0.9146, 0.8182],\n",
      "        [0.9335, 0.8039],\n",
      "        [0.8719, 0.9276],\n",
      "        [0.9145, 0.2246],\n",
      "        [0.0450, 0.9161]], device='cuda:0', grad_fn=<SigmoidBackward0>)\n",
      "Epoch:94, combine_score:0.029133, cls_loss:312.492737, transfer_loss:690.731934, total_loss:1003.225037\n",
      "\n"
     ]
    },
    {
     "data": {
      "application/vnd.jupyter.widget-view+json": {
       "model_id": "f4cd9d3c81ce4b1ebe6601372a1c1b5c",
       "version_major": 2,
       "version_minor": 0
      },
      "text/plain": [
       "  0%|          | 0/1000 [00:00<?, ?it/s]"
      ]
     },
     "metadata": {},
     "output_type": "display_data"
    },
    {
     "data": {
      "application/vnd.jupyter.widget-view+json": {
       "model_id": "2452b754adeb465b95d24cb03790d094",
       "version_major": 2,
       "version_minor": 0
      },
      "text/plain": [
       "  0%|          | 0/1386 [00:00<?, ?it/s]"
      ]
     },
     "metadata": {},
     "output_type": "display_data"
    },
    {
     "name": "stdout",
     "output_type": "stream",
     "text": [
      "tensor([[0.7907, 0.9298],\n",
      "        [0.9519, 0.8939],\n",
      "        [0.9176, 0.1112],\n",
      "        [0.9186, 0.8246],\n",
      "        [0.9149, 0.8924],\n",
      "        [0.8983, 0.9315],\n",
      "        [0.9092, 0.3914],\n",
      "        [0.0271, 0.9268]], device='cuda:0', grad_fn=<SigmoidBackward0>)\n",
      "Epoch:95, combine_score:0.026920, cls_loss:310.883362, transfer_loss:692.465454, total_loss:1003.348328\n",
      "\n"
     ]
    },
    {
     "data": {
      "application/vnd.jupyter.widget-view+json": {
       "model_id": "176d2b4d16504da6a11290250b6644ae",
       "version_major": 2,
       "version_minor": 0
      },
      "text/plain": [
       "  0%|          | 0/1000 [00:00<?, ?it/s]"
      ]
     },
     "metadata": {},
     "output_type": "display_data"
    },
    {
     "data": {
      "application/vnd.jupyter.widget-view+json": {
       "model_id": "2a6ddef5a07944618c02df48c7f37461",
       "version_major": 2,
       "version_minor": 0
      },
      "text/plain": [
       "  0%|          | 0/1386 [00:00<?, ?it/s]"
      ]
     },
     "metadata": {},
     "output_type": "display_data"
    },
    {
     "name": "stdout",
     "output_type": "stream",
     "text": [
      "tensor([[0.7949, 0.9271],\n",
      "        [0.9557, 0.8078],\n",
      "        [0.9286, 0.0770],\n",
      "        [0.9121, 0.8307],\n",
      "        [0.9258, 0.8622],\n",
      "        [0.8888, 0.9265],\n",
      "        [0.9185, 0.2438],\n",
      "        [0.0925, 0.9147]], device='cuda:0', grad_fn=<SigmoidBackward0>)\n",
      "Epoch:96, combine_score:0.028073, cls_loss:306.984650, transfer_loss:691.369385, total_loss:998.354248\n",
      "\n"
     ]
    },
    {
     "data": {
      "application/vnd.jupyter.widget-view+json": {
       "model_id": "4f42496f13ac45899e02940a07dde3b0",
       "version_major": 2,
       "version_minor": 0
      },
      "text/plain": [
       "  0%|          | 0/1000 [00:00<?, ?it/s]"
      ]
     },
     "metadata": {},
     "output_type": "display_data"
    },
    {
     "data": {
      "application/vnd.jupyter.widget-view+json": {
       "model_id": "08cc4f0e85ba4161a9d368c918cd1731",
       "version_major": 2,
       "version_minor": 0
      },
      "text/plain": [
       "  0%|          | 0/1386 [00:00<?, ?it/s]"
      ]
     },
     "metadata": {},
     "output_type": "display_data"
    },
    {
     "name": "stdout",
     "output_type": "stream",
     "text": [
      "tensor([[0.1451, 0.9104],\n",
      "        [0.9189, 0.9152],\n",
      "        [0.9230, 0.0806],\n",
      "        [0.8715, 0.8888],\n",
      "        [0.9152, 0.9008],\n",
      "        [0.6129, 0.9162],\n",
      "        [0.9155, 0.3023],\n",
      "        [0.0372, 0.9133]], device='cuda:0', grad_fn=<SigmoidBackward0>)\n",
      "Epoch:97, combine_score:0.032656, cls_loss:310.472565, transfer_loss:691.546875, total_loss:1002.019897\n",
      "\n"
     ]
    },
    {
     "data": {
      "application/vnd.jupyter.widget-view+json": {
       "model_id": "efc611fcc33b448da1878d59dbe87b94",
       "version_major": 2,
       "version_minor": 0
      },
      "text/plain": [
       "  0%|          | 0/1000 [00:00<?, ?it/s]"
      ]
     },
     "metadata": {},
     "output_type": "display_data"
    },
    {
     "data": {
      "application/vnd.jupyter.widget-view+json": {
       "model_id": "dfa1a32dadfe4d1f816105e5c9dab320",
       "version_major": 2,
       "version_minor": 0
      },
      "text/plain": [
       "  0%|          | 0/1386 [00:00<?, ?it/s]"
      ]
     },
     "metadata": {},
     "output_type": "display_data"
    },
    {
     "name": "stdout",
     "output_type": "stream",
     "text": [
      "tensor([[0.6934, 0.9269],\n",
      "        [0.9413, 0.8276],\n",
      "        [0.9190, 0.0555],\n",
      "        [0.9275, 0.7482],\n",
      "        [0.9232, 0.8316],\n",
      "        [0.8952, 0.9262],\n",
      "        [0.9157, 0.2739],\n",
      "        [0.0907, 0.9157]], device='cuda:0', grad_fn=<SigmoidBackward0>)\n",
      "Epoch:98, combine_score:0.027054, cls_loss:307.492004, transfer_loss:690.415710, total_loss:997.907593\n",
      "\n"
     ]
    },
    {
     "data": {
      "application/vnd.jupyter.widget-view+json": {
       "model_id": "030f4f77b91748d1bb8e572ea2d443c6",
       "version_major": 2,
       "version_minor": 0
      },
      "text/plain": [
       "  0%|          | 0/1000 [00:00<?, ?it/s]"
      ]
     },
     "metadata": {},
     "output_type": "display_data"
    },
    {
     "data": {
      "application/vnd.jupyter.widget-view+json": {
       "model_id": "21f91229953b4a5e98ba0a73a651dcef",
       "version_major": 2,
       "version_minor": 0
      },
      "text/plain": [
       "  0%|          | 0/1386 [00:00<?, ?it/s]"
      ]
     },
     "metadata": {},
     "output_type": "display_data"
    },
    {
     "name": "stdout",
     "output_type": "stream",
     "text": [
      "tensor([[0.8538, 0.9358],\n",
      "        [0.9461, 0.6750],\n",
      "        [0.9223, 0.0301],\n",
      "        [0.9289, 0.7726],\n",
      "        [0.9262, 0.8201],\n",
      "        [0.9322, 0.9171],\n",
      "        [0.9125, 0.0837],\n",
      "        [0.0261, 0.9251]], device='cuda:0', grad_fn=<SigmoidBackward0>)\n",
      "Epoch:99, combine_score:0.026851, cls_loss:307.550659, transfer_loss:689.670288, total_loss:997.220581\n",
      "\n"
     ]
    }
   ],
   "source": [
    "parser = argparse.ArgumentParser(description='baseline')\n",
    "# Hyperparameters\n",
    "parser.add_argument('--batch_size', type=int, default=8)\n",
    "parser.add_argument('--num_epochs', type=int, default=100)\n",
    "parser.add_argument('--is_scheduler', action='store_true', default=True,help='use scheduler(default-False)')\n",
    "\n",
    "# model\n",
    "parser.add_argument('--seed', type=int, default=42, \n",
    "                    help='random seed (default: 42)')\n",
    "\n",
    "\n",
    "##modify\n",
    "parser.add_argument('--lr', '--learning-rate', default=1e-2, type=float,\n",
    "                        metavar='LR', help='initial learning rate', dest='lr')\n",
    "parser.add_argument('--lr-gamma', default=0.001,\n",
    "                    type=float, help='parameter for lr scheduler')\n",
    "parser.add_argument('--lr-decay', default=0.75,\n",
    "                    type=float, help='parameter for lr scheduler')\n",
    "parser.add_argument('--momentum', default=0.9,\n",
    "                    type=float, metavar='M', help='momentum')\n",
    "parser.add_argument('--wd', '--weight-decay', default=1e-3, type=float,\n",
    "                    metavar='W', help='weight decay (default: 1e-3)',\n",
    "                    dest='weight_decay')\n",
    "\n",
    "###\n",
    "parser.add_argument('--model_path', type=str,\n",
    "                    default=None, help='Model checkpoint')\n",
    "parser.add_argument('--comment', type=str, default=None,\n",
    "                    help='Comment to describe the saved model')\n",
    "\n",
    "# Auxiliary arguments\n",
    "parser.add_argument('--eval_output', type=str, default='epoch7.csv',\n",
    "                    help='Path to save the evaluation result')\n",
    "parser.add_argument('--eval', action='store_true', default=False,\n",
    "                    help='eval mode')\n",
    "parser.add_argument('--is_eval', action='store_true', default=False,help='eval database')\n",
    "parser.add_argument('--eval_part', type=int, default=0)\n",
    "\n",
    "# backend options\n",
    "parser.add_argument('--cudnn-deterministic-toggle', action='store_false', \\\n",
    "                    default=True, \n",
    "                    help='use cudnn-deterministic? (default true)')    \n",
    "\n",
    "parser.add_argument('--cudnn-benchmark-toggle', action='store_true', \\\n",
    "                    default=False, \n",
    "                    help='use cudnn-benchmark? (default false)') \n",
    "\n",
    "parser.add_argument('--temperature', default=2.0,\n",
    "                        type=float, help='parameter temperature scaling')\n",
    "parser.add_argument('--rho', type=float, default=0.05, help=\"GPU ID\")\n",
    "##===================================================Rawboost data augmentation ======================================================================#\n",
    "\n",
    "parser.add_argument('--algo', type=int, default=0, \n",
    "                help='Rawboost algos discriptions. 0: No augmentation 1: LnL_convolutive_noise, 2: ISD_additive_noise, 3: SSI_additive_noise, 4: series algo (1+2+3), \\\n",
    "                5: series algo (1+2), 6: series algo (1+3), 7: series algo(2+3), 8: parallel algo(1,2) .default=0]')\n",
    "\n",
    "# LnL_convolutive_noise parameters\n",
    "parser.add_argument('--nBands', type=int, default=5, \n",
    "                help='number of notch filters.The higher the number of bands, the more aggresive the distortions is.[default=5]')\n",
    "parser.add_argument('--minF', type=int, default=20, \n",
    "                help='minimum centre frequency [Hz] of notch filter.[default=20] ')\n",
    "parser.add_argument('--maxF', type=int, default=8000, \n",
    "                help='maximum centre frequency [Hz] (<sr/2)  of notch filter.[default=8000]')\n",
    "parser.add_argument('--minBW', type=int, default=100, \n",
    "                help='minimum width [Hz] of filter.[default=100] ')\n",
    "parser.add_argument('--maxBW', type=int, default=1000, \n",
    "                help='maximum width [Hz] of filter.[default=1000] ')\n",
    "parser.add_argument('--minCoeff', type=int, default=10, \n",
    "                help='minimum filter coefficients. More the filter coefficients more ideal the filter slope.[default=10]')\n",
    "parser.add_argument('--maxCoeff', type=int, default=100, \n",
    "                help='maximum filter coefficients. More the filter coefficients more ideal the filter slope.[default=100]')\n",
    "parser.add_argument('--minG', type=int, default=0, \n",
    "                help='minimum gain factor of linear component.[default=0]')\n",
    "parser.add_argument('--maxG', type=int, default=0, \n",
    "                help='maximum gain factor of linear component.[default=0]')\n",
    "parser.add_argument('--minBiasLinNonLin', type=int, default=5, \n",
    "                help=' minimum gain difference between linear and non-linear components.[default=5]')\n",
    "parser.add_argument('--maxBiasLinNonLin', type=int, default=20, \n",
    "                help=' maximum gain difference between linear and non-linear components.[default=20]')\n",
    "parser.add_argument('--N_f', type=int, default=5, \n",
    "                help='order of the (non-)linearity where N_f=1 refers only to linear components.[default=5]')\n",
    "\n",
    "# ISD_additive_noise parameters\n",
    "parser.add_argument('--P', type=int, default=10, \n",
    "                help='Maximum number of uniformly distributed samples in [%].[defaul=10]')\n",
    "parser.add_argument('--g_sd', type=int, default=2, \n",
    "                help='gain parameters > 0. [default=2]')\n",
    "parser.add_argument('-i', '--iters-per-epoch', default=1000, type=int,\n",
    "                        help='Number of iterations per epoch')\n",
    "# SSI_additive_noise parameters\n",
    "parser.add_argument('--SNRmin', type=int, default=10, \n",
    "                help='Minimum SNR value for coloured additive noise.[defaul=10]')\n",
    "parser.add_argument('--SNRmax', type=int, default=40, \n",
    "                help='Maximum SNR value for coloured additive noise.[defaul=40]')\n",
    "\n",
    "##===================================================Rawboost data augmentation ======================================================================#\n",
    "\n",
    "\n",
    "if not os.path.exists('models'):\n",
    "    os.mkdir('models')\n",
    "args = parser.parse_args(args=[])\n",
    "\n",
    "#make experiment reproducible\n",
    "set_random_seed(args.seed, args)\n",
    "\n",
    "# track = args.track\n",
    "\n",
    "# assert track in ['LA', 'PA','DF'], 'Invalid track given'\n",
    "\n",
    "# #database\n",
    "# prefix_2021 = 'ASVspoof2021.{}'.format(track)\n",
    "\n",
    "#define model saving path\n",
    "model_tag = ' adam_fold3_{}_{}_{}'.format(\n",
    "         args.num_epochs, args.batch_size, args.lr)\n",
    "if args.comment:\n",
    "    model_tag = model_tag + '_{}'.format(args.comment)\n",
    "model_save_path = os.path.join('models', model_tag)\n",
    "\n",
    "#set model save directory\n",
    "if not os.path.exists(model_save_path):\n",
    "    os.mkdir(model_save_path)\n",
    "\n",
    "#GPU device\n",
    "device = 'cuda' if torch.cuda.is_available() else 'cpu'                  \n",
    "print('Device: {}'.format(device))\n",
    "\n",
    "for_model = {\n",
    "        \"architecture\": \"AASIST\",\n",
    "        \"nb_samp\": 80000,\n",
    "        \"first_conv\": 128,\n",
    "        \"filts\": [70, [1, 32], [32, 32], [32, 64], [64, 64]],\n",
    "        \"gat_dims\": [64, 32],\n",
    "        \"pool_ratios\": [0.5, 0.7, 0.5, 0.5],\n",
    "        \"temperatures\": [2.0, 2.0, 100.0, 100.0]\n",
    "    }\n",
    "    \n",
    "classifier = Model(for_model)\n",
    "nb_params = sum([param.view(-1).size()[0] for param in classifier.parameters()])\n",
    "print('nb_params:',nb_params)\n",
    "classifier.to(device)\n",
    "\n",
    "if args.model_path:\n",
    "    classifier.load_state_dict(torch.load(args.model_path,map_location=device))\n",
    "    print('Model loaded : {}'.format(args.model_path))\n",
    "\n",
    "if args.eval:\n",
    "    print('eval')\n",
    "    file_eval = pd.read_csv('test.csv')\n",
    "    print('no. of eval trials',len(file_eval))\n",
    "    eval_set = Dataset_ASVspoof_eval(file_eval['id'].to_list())\n",
    "    eval_loader = DataLoader(eval_set, batch_size=args.batch_size,num_workers=8, shuffle=False)\n",
    "    inference(eval_loader, classifier, device, args.eval_output)\n",
    "    sys.exit(1)\n",
    "\n",
    "df = pd.read_csv('train.csv')\n",
    "df['label'] = np.where(df['label']=='real',1,0)\n",
    "target_df = pd.read_csv('unlabeled.csv')\n",
    "X = df['id'].to_list()\n",
    "y = df['label'].to_list()\n",
    "\n",
    "# Stratified K-Fold 설정\n",
    "k = 5\n",
    "skf = StratifiedKFold(n_splits=k, shuffle=True, random_state=42)\n",
    "\n",
    "# Stratified K-Fold 적용\n",
    "folds = list(skf.split(X, y))\n",
    "\n",
    "# 특정 fold 선택 (예: fold_index = 0)\n",
    "fold_index = 3\n",
    "train_indices, val_indices = folds[fold_index]\n",
    "\n",
    "X_train = [X[i] for i in train_indices]\n",
    "X_test = [X[i] for i in val_indices]\n",
    "y_train = [y[i] for i in train_indices]\n",
    "y_test = [y[i] for i in val_indices]\n",
    "train_source_dataset = Dataset_ASVspoof_train(args,list_IDs = X_train,labels = y_train,algo=args.algo)\n",
    "train_target_dataset = Dataset_ASVspoof_dev(list_IDs = target_df['0'].to_list(),args=args,algo=args.algo)\n",
    "\n",
    "\n",
    "\n",
    "train_source_loader = DataLoader(train_source_dataset, batch_size=args.batch_size,\n",
    "                                     shuffle=True, num_workers=8, drop_last=True)\n",
    "train_target_loader = DataLoader(train_target_dataset, batch_size=args.batch_size,\n",
    "                                     shuffle=True, num_workers=8, drop_last=True)\n",
    "\n",
    "eval_set = Dataset_ASVspoof_dev(list_IDs = target_df['0'].to_list(),args=args,algo=args.algo)\n",
    "eval_loader = DataLoader(eval_set, batch_size=args.batch_size,num_workers=8, shuffle=False)\n",
    "\n",
    "train_source_iter = ForeverDataIterator(train_source_loader)\n",
    "train_target_iter = ForeverDataIterator(train_target_loader)\n",
    "\n",
    "\n",
    "dev_set = Dataset_ASVspoof_train(args,list_IDs = X_test,labels = y_test,algo=0)\n",
    "dev_loader = DataLoader(dev_set, batch_size=args.batch_size,num_workers=8, shuffle=False)\n",
    "\n",
    "domain_discri = DomainDiscriminator(\n",
    "            160 * 2, hidden_size=1024).to(device)\n",
    "\n",
    "\n",
    "\n",
    "base_optimizer = torch.optim.Adam\n",
    "ad_optimizer = torch.optim.Adam(domain_discri.get_parameters(\n",
    "), args.lr, weight_decay=args.weight_decay)\n",
    "optimizer = SAM(classifier.parameters(), base_optimizer, rho=args.rho, adaptive=False,\n",
    "        lr=args.lr,weight_decay=args.weight_decay)\n",
    "\n",
    "\n",
    "lr_scheduler = LambdaLR(optimizer, lambda x: args.lr *\n",
    "                            (1. + args.lr_gamma * float(x)) ** (-args.lr_decay))\n",
    "lr_scheduler_ad = LambdaLR(\n",
    "        ad_optimizer, lambda x: args.lr * (1. + args.lr_gamma * float(x)) ** (-args.lr_decay))\n",
    "\n",
    "domain_adv = ConditionalDomainAdversarialLoss(\n",
    "        domain_discri, entropy_conditioning=False,\n",
    "        num_classes=2, features_dim=160, randomized=False,\n",
    "        randomized_dim=1024\n",
    "    ).to(device)\n",
    "\n",
    "\n",
    "wandb.init(\n",
    "        project=f\"FOLD_ADAM_BEST\",\n",
    "        name='fold3',\n",
    "        config=args\n",
    "    )\n",
    "for epoch in range(args.num_epochs):\n",
    "    # train for one epoch\n",
    "    \n",
    "    total_cls_loss, total_transfer_loss, total_loss = train(train_source_iter, train_target_iter, classifier, domain_adv, optimizer, ad_optimizer,\n",
    "          lr_scheduler, lr_scheduler_ad, \n",
    "          epoch, args)\n",
    "    torch.save(classifier.state_dict(), os.path.join(\n",
    "        model_save_path, 'epoch_{}.pth'.format(epoch)))\n",
    "    \n",
    "    # evaluate on validation set\n",
    "    combine_score = produce_evaluation_file(dev_loader, classifier, device,X_test)\n",
    "\n",
    "    data_iter = iter(eval_loader)\n",
    "    wav = next(data_iter)\n",
    "\n",
    "    print(torch.sigmoid(classifier(wav.to(device))[0]))\n",
    "    print(\"Epoch:{}, combine_score:{:.6f}, cls_loss:{:.6f}, transfer_loss:{:.6f}, total_loss:{:.6f}\\n\".format(\n",
    "        epoch, combine_score,total_cls_loss, total_transfer_loss, total_loss))\n",
    "    wandb.log({\n",
    "        'combine':combine_score,\n",
    "        'lr':lr_scheduler.get_last_lr()[0],\n",
    "        'ad_lr':lr_scheduler_ad.get_last_lr()[0],\n",
    "        'total_cls_loss':total_cls_loss,\n",
    "        'total_transfer_loss':total_transfer_loss,\n",
    "        'total_loss':total_loss\n",
    "            })"
   ]
  },
  {
   "cell_type": "code",
   "execution_count": 13,
   "id": "27c4b3cc-de95-458e-a994-317aaa4de5d6",
   "metadata": {},
   "outputs": [
    {
     "data": {
      "application/vnd.jupyter.widget-view+json": {
       "model_id": "11810febf69645a8970363756423de0a",
       "version_major": 2,
       "version_minor": 0
      },
      "text/plain": [
       "  0%|          | 0/6250 [00:00<?, ?it/s]"
      ]
     },
     "metadata": {},
     "output_type": "display_data"
    }
   ],
   "source": [
    "file_eval = pd.read_csv('test.csv')\n",
    "eval_set = Dataset_ASVspoof_eval(file_eval['id'].to_list())\n",
    "eval_loader = DataLoader(eval_set, batch_size=args.batch_size,num_workers=8, shuffle=False)\n",
    "inference(eval_loader, classifier, device, 'asdf_fold3.csv')"
   ]
  },
  {
   "cell_type": "code",
   "execution_count": null,
   "id": "72aacca8-125e-4f50-98aa-a54498ded334",
   "metadata": {},
   "outputs": [],
   "source": []
  }
 ],
 "metadata": {
  "kernelspec": {
   "display_name": "Python 3 (ipykernel)",
   "language": "python",
   "name": "python3"
  },
  "language_info": {
   "codemirror_mode": {
    "name": "ipython",
    "version": 3
   },
   "file_extension": ".py",
   "mimetype": "text/x-python",
   "name": "python",
   "nbconvert_exporter": "python",
   "pygments_lexer": "ipython3",
   "version": "3.11.8"
  }
 },
 "nbformat": 4,
 "nbformat_minor": 5
}
