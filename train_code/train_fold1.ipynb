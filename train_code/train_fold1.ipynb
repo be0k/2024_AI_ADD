{
 "cells": [
  {
   "cell_type": "markdown",
   "id": "ebcd47b3-5c3c-4176-8739-14bb28bb9922",
   "metadata": {},
   "source": [
    "# Library"
   ]
  },
  {
   "cell_type": "code",
   "execution_count": 1,
   "id": "bf9681d4-2ed8-4351-a54d-1f116ffbbba4",
   "metadata": {},
   "outputs": [],
   "source": [
    "#general\n",
    "import argparse\n",
    "import sys\n",
    "import os\n",
    "import random\n",
    "from scipy import signal\n",
    "import copy\n",
    "from typing import Union\n",
    "from tqdm.notebook import tqdm\n",
    "import numpy as np\n",
    "import pandas as pd\n",
    "from typing import Callable, Tuple\n",
    "\n",
    "from typing import List, Dict\n",
    "import torch.nn as nn\n",
    "import itertools\n",
    "import random\n",
    "import numpy as np\n",
    "\n",
    "import torch\n",
    "from torch.utils.data import Sampler\n",
    "from torch.utils.data import DataLoader, Dataset\n",
    "from typing import TypeVar, Iterable, Dict, List\n",
    "\n",
    "#sklearn\n",
    "from sklearn.metrics import accuracy_score, f1_score\n",
    "from sklearn.calibration import calibration_curve\n",
    "from sklearn.metrics import mean_squared_error\n",
    "from sklearn.metrics import roc_auc_score\n",
    "from sklearn.model_selection import train_test_split,StratifiedKFold\n",
    "from scipy.interpolate import interp1d\n",
    "from scipy.optimize import brentq\n",
    "from sklearn.metrics import roc_curve, precision_recall_fscore_support, roc_auc_score\n",
    "\n",
    "#hf\n",
    "from transformers import (AutoConfig,AutoModel)\n",
    "\n",
    "#torch\n",
    "import torch.nn.functional as F\n",
    "from torch.utils.data import Dataset\n",
    "import torch\n",
    "from torch import nn\n",
    "from torch import Tensor\n",
    "from torch.utils.data import DataLoader\n",
    "from torch.optim.lr_scheduler import LambdaLR\n",
    "\n",
    "\n",
    "#librosa\n",
    "import librosa\n",
    "\n",
    "#wandb\n",
    "import wandb\n",
    "\n",
    "\n",
    "import warnings\n",
    "warnings.filterwarnings(\"ignore\")"
   ]
  },
  {
   "cell_type": "code",
   "execution_count": 2,
   "id": "af531ac2-eb00-4068-b7f7-d4411a8e3589",
   "metadata": {},
   "outputs": [],
   "source": [
    "class ForeverDataIterator:\n",
    "    r\"\"\"A data iterator that will never stop producing data\"\"\"\n",
    "\n",
    "    def __init__(self, data_loader: DataLoader, device=None):\n",
    "        self.data_loader = data_loader\n",
    "        self.iter = iter(self.data_loader)\n",
    "        self.device = device\n",
    "\n",
    "    def __next__(self):\n",
    "        try:\n",
    "            data = next(self.iter)\n",
    "            if self.device is not None:\n",
    "                data = send_to_device(data, self.device)\n",
    "        except StopIteration:\n",
    "            self.iter = iter(self.data_loader)\n",
    "            data = next(self.iter)\n",
    "            if self.device is not None:\n",
    "                data = send_to_device(data, self.device)\n",
    "        return data\n",
    "\n",
    "    def __len__(self):\n",
    "        return len(self.data_loader)\n",
    "\n",
    "\n",
    "class SAM(torch.optim.Optimizer):\n",
    "    def __init__(self, params, base_optimizer, rho=0.05, adaptive=False, **kwargs):\n",
    "        assert rho >= 0.0, f\"Invalid rho, should be non-negative: {rho}\"\n",
    "\n",
    "        defaults = dict(rho=rho, adaptive=adaptive, **kwargs)\n",
    "        super(SAM, self).__init__(params, defaults)\n",
    "\n",
    "        self.base_optimizer = base_optimizer(self.param_groups, **kwargs)\n",
    "        self.param_groups = self.base_optimizer.param_groups\n",
    "\n",
    "    @torch.no_grad()\n",
    "    def first_step(self, zero_grad=False):\n",
    "        grad_norm = self._grad_norm()\n",
    "        for group in self.param_groups:\n",
    "            scale = group[\"rho\"] / (grad_norm + 1e-12)\n",
    "\n",
    "            for p in group[\"params\"]:\n",
    "                if p.grad is None: continue\n",
    "                e_w = (torch.pow(p, 2) if group[\"adaptive\"] else 1.0) * p.grad * scale.to(p)\n",
    "                p.add_(e_w)  # climb to the local maximum \"w + e(w)\"\n",
    "                self.state[p][\"e_w\"] = e_w\n",
    "\n",
    "        if zero_grad: self.zero_grad()\n",
    "\n",
    "    @torch.no_grad()\n",
    "    def second_step(self, zero_grad=False):\n",
    "        for group in self.param_groups:\n",
    "            for p in group[\"params\"]:\n",
    "                if p.grad is None: continue\n",
    "                p.sub_(self.state[p][\"e_w\"])  # get back to \"w\" from \"w + e(w)\"\n",
    "\n",
    "        self.base_optimizer.step()  # do the actual \"sharpness-aware\" update\n",
    "\n",
    "        if zero_grad: self.zero_grad()\n",
    "\n",
    "    @torch.no_grad()\n",
    "    def step(self, closure=None):\n",
    "        assert closure is not None, \"Sharpness Aware Minimization requires closure, but it was not provided\"\n",
    "        closure = torch.enable_grad()(closure)  # the closure should do a full forward-backward pass\n",
    "\n",
    "        self.first_step(zero_grad=True)\n",
    "        closure()\n",
    "        self.second_step()\n",
    "\n",
    "    def _grad_norm(self):\n",
    "        shared_device = self.param_groups[0][\"params\"][0].device  # put everything on the same device, in case of model parallelism\n",
    "        norm = torch.norm(\n",
    "                    torch.stack([\n",
    "                        ((torch.abs(p) if group[\"adaptive\"] else 1.0) * p.grad).norm(p=2).to(shared_device)\n",
    "                        for group in self.param_groups for p in group[\"params\"]\n",
    "                        if p.grad is not None\n",
    "                    ]),\n",
    "                    p=2\n",
    "               )\n",
    "        return norm\n",
    "\n",
    "\n",
    "class ConditionalDomainAdversarialLoss(nn.Module):\n",
    "    r\"\"\"The Conditional Domain Adversarial Loss used in `Conditional Adversarial Domain Adaptation (NIPS 2018) <https://arxiv.org/abs/1705.10667>`_\n",
    "\n",
    "    Conditional Domain adversarial loss measures the domain discrepancy through training a domain discriminator in a\n",
    "    conditional manner. Given domain discriminator :math:`D`, feature representation :math:`f` and\n",
    "    classifier predictions :math:`g`, the definition of CDAN loss is\n",
    "\n",
    "    .. math::\n",
    "        loss(\\mathcal{D}_s, \\mathcal{D}_t) &= \\mathbb{E}_{x_i^s \\sim \\mathcal{D}_s} \\text{log}[D(T(f_i^s, g_i^s))] \\\\\n",
    "        &+ \\mathbb{E}_{x_j^t \\sim \\mathcal{D}_t} \\text{log}[1-D(T(f_j^t, g_j^t))],\\\\\n",
    "\n",
    "    where :math:`T` is a :class:`MultiLinearMap`  or :class:`RandomizedMultiLinearMap` which convert two tensors to a single tensor.\n",
    "\n",
    "    Args:\n",
    "        domain_discriminator (torch.nn.Module): A domain discriminator object, which predicts the domains of\n",
    "          features. Its input shape is (N, F) and output shape is (N, 1)\n",
    "        entropy_conditioning (bool, optional): If True, use entropy-aware weight to reweight each training example.\n",
    "          Default: False\n",
    "        randomized (bool, optional): If True, use `randomized multi linear map`. Else, use `multi linear map`.\n",
    "          Default: False\n",
    "        num_classes (int, optional): Number of classes. Default: -1\n",
    "        features_dim (int, optional): Dimension of input features. Default: -1\n",
    "        randomized_dim (int, optional): Dimension of features after randomized. Default: 1024\n",
    "        reduction (str, optional): Specifies the reduction to apply to the output:\n",
    "          ``'none'`` | ``'mean'`` | ``'sum'``. ``'none'``: no reduction will be applied,\n",
    "          ``'mean'``: the sum of the output will be divided by the number of\n",
    "          elements in the output, ``'sum'``: the output will be summed. Default: ``'mean'``\n",
    "\n",
    "    .. note::\n",
    "        You need to provide `num_classes`, `features_dim` and `randomized_dim` **only when** `randomized`\n",
    "        is set True.\n",
    "\n",
    "    Inputs:\n",
    "        - g_s (tensor): unnormalized classifier predictions on source domain, :math:`g^s`\n",
    "        - f_s (tensor): feature representations on source domain, :math:`f^s`\n",
    "        - g_t (tensor): unnormalized classifier predictions on target domain, :math:`g^t`\n",
    "        - f_t (tensor): feature representations on target domain, :math:`f^t`\n",
    "\n",
    "    Shape:\n",
    "        - g_s, g_t: :math:`(minibatch, C)` where C means the number of classes.\n",
    "        - f_s, f_t: :math:`(minibatch, F)` where F means the dimension of input features.\n",
    "        - Output: scalar by default. If :attr:`reduction` is ``'none'``, then :math:`(minibatch, )`.\n",
    "\n",
    "    Examples::\n",
    "\n",
    "        >>> from dalib.modules.domain_discriminator import DomainDiscriminator\n",
    "        >>> from dalib.adaptation.cdan import ConditionalDomainAdversarialLoss\n",
    "        >>> import torch\n",
    "        >>> num_classes = 2\n",
    "        >>> feature_dim = 1024\n",
    "        >>> batch_size = 10\n",
    "        >>> discriminator = DomainDiscriminator(in_feature=feature_dim * num_classes, hidden_size=1024)\n",
    "        >>> loss = ConditionalDomainAdversarialLoss(discriminator, reduction='mean')\n",
    "        >>> # features from source domain and target domain\n",
    "        >>> f_s, f_t = torch.randn(batch_size, feature_dim), torch.randn(batch_size, feature_dim)\n",
    "        >>> # logits output from source domain adn target domain\n",
    "        >>> g_s, g_t = torch.randn(batch_size, num_classes), torch.randn(batch_size, num_classes)\n",
    "        >>> output = loss(g_s, f_s, g_t, f_t)\n",
    "    \"\"\"\n",
    "\n",
    "    def __init__(self, domain_discriminator: nn.Module, entropy_conditioning: Optional[bool] = False,\n",
    "                 randomized: Optional[bool] = False, num_classes: Optional[int] = -1,\n",
    "                 features_dim: Optional[int] = -1, randomized_dim: Optional[int] = 1024,\n",
    "                 reduction: Optional[str] = 'mean'):\n",
    "        super(ConditionalDomainAdversarialLoss, self).__init__()\n",
    "        self.domain_discriminator = domain_discriminator\n",
    "        self.grl = WarmStartGradientReverseLayer(alpha=1., lo=0., hi=1., max_iters=1000, auto_step=True)\n",
    "        self.entropy_conditioning = entropy_conditioning\n",
    "\n",
    "        if randomized:\n",
    "            assert num_classes > 0 and features_dim > 0 and randomized_dim > 0\n",
    "            self.map = RandomizedMultiLinearMap(features_dim, num_classes, randomized_dim)\n",
    "        else:\n",
    "            self.map = MultiLinearMap()\n",
    "\n",
    "        self.bce = lambda input, target, weight: F.binary_cross_entropy(input, target, weight,\n",
    "                                                                        reduction=reduction) if self.entropy_conditioning \\\n",
    "            else F.binary_cross_entropy(input, target, reduction=reduction)\n",
    "        self.domain_discriminator_accuracy = None\n",
    "\n",
    "    def forward(self, g_s: torch.Tensor, f_s: torch.Tensor, g_t: torch.Tensor, f_t: torch.Tensor) -> torch.Tensor:\n",
    "        f = torch.cat((f_s, f_t), dim=0)\n",
    "        g = torch.cat((g_s, g_t), dim=0)\n",
    "        g = F.softmax(g, dim=1).detach()\n",
    "        h = self.grl(self.map(f, g))\n",
    "        d = self.domain_discriminator(h)\n",
    "        d_label = torch.cat((\n",
    "            torch.ones((g_s.size(0), 1)).to(g_s.device),\n",
    "            torch.zeros((g_t.size(0), 1)).to(g_t.device),\n",
    "        ))\n",
    "        weight = 1.0 + torch.exp(-entropy(g))\n",
    "        batch_size = f.size(0)\n",
    "        weight = weight / torch.sum(weight) * batch_size\n",
    "        return self.bce(d, d_label, weight.view_as(d))\n",
    "\n",
    "\n",
    "class RandomizedMultiLinearMap(nn.Module):\n",
    "    \"\"\"Random multi linear map\n",
    "\n",
    "    Given two inputs :math:`f` and :math:`g`, the definition is\n",
    "\n",
    "    .. math::\n",
    "        T_{\\odot}(f,g) = \\dfrac{1}{\\sqrt{d}} (R_f f) \\odot (R_g g),\n",
    "\n",
    "    where :math:`\\odot` is element-wise product, :math:`R_f` and :math:`R_g` are random matrices\n",
    "    sampled only once and ﬁxed in training.\n",
    "\n",
    "    Args:\n",
    "        features_dim (int): dimension of input :math:`f`\n",
    "        num_classes (int): dimension of input :math:`g`\n",
    "        output_dim (int, optional): dimension of output tensor. Default: 1024\n",
    "\n",
    "    Shape:\n",
    "        - f: (minibatch, features_dim)\n",
    "        - g: (minibatch, num_classes)\n",
    "        - Outputs: (minibatch, output_dim)\n",
    "    \"\"\"\n",
    "\n",
    "    def __init__(self, features_dim: int, num_classes: int, output_dim: Optional[int] = 1024):\n",
    "        super(RandomizedMultiLinearMap, self).__init__()\n",
    "        self.Rf = torch.randn(features_dim, output_dim)\n",
    "        self.Rg = torch.randn(num_classes, output_dim)\n",
    "        self.output_dim = output_dim\n",
    "\n",
    "    def forward(self, f: torch.Tensor, g: torch.Tensor) -> torch.Tensor:\n",
    "        f = torch.mm(f, self.Rf.to(f.device))\n",
    "        g = torch.mm(g, self.Rg.to(g.device))\n",
    "        output = torch.mul(f, g) / np.sqrt(float(self.output_dim))\n",
    "        return output\n",
    "\n",
    "\n",
    "class MultiLinearMap(nn.Module):\n",
    "    \"\"\"Multi linear map\n",
    "\n",
    "    Shape:\n",
    "        - f: (minibatch, F)\n",
    "        - g: (minibatch, C)\n",
    "        - Outputs: (minibatch, F * C)\n",
    "    \"\"\"\n",
    "\n",
    "    def __init__(self):\n",
    "        super(MultiLinearMap, self).__init__()\n",
    "\n",
    "    def forward(self, f: torch.Tensor, g: torch.Tensor) -> torch.Tensor:\n",
    "        batch_size = f.size(0)\n",
    "        output = torch.bmm(g.unsqueeze(2), f.unsqueeze(1))\n",
    "        return output.view(batch_size, -1)\n",
    "\n",
    "\n",
    "from typing import Optional, Any, Tuple\n",
    "import numpy as np\n",
    "import torch.nn as nn\n",
    "from torch.autograd import Function\n",
    "import torch\n",
    "\n",
    "\n",
    "class GradientReverseFunction(Function):\n",
    "\n",
    "    @staticmethod\n",
    "    def forward(ctx: Any, input: torch.Tensor, coeff: Optional[float] = 1.) -> torch.Tensor:\n",
    "        ctx.coeff = coeff\n",
    "        output = input * 1.0\n",
    "        return output\n",
    "\n",
    "    @staticmethod\n",
    "    def backward(ctx: Any, grad_output: torch.Tensor) -> Tuple[torch.Tensor, Any]:\n",
    "        return grad_output.neg() * ctx.coeff, None\n",
    "\n",
    "\n",
    "class GradientReverseLayer(nn.Module):\n",
    "    def __init__(self):\n",
    "        super(GradientReverseLayer, self).__init__()\n",
    "\n",
    "    def forward(self, *input):\n",
    "        return GradientReverseFunction.apply(*input)\n",
    "\n",
    "\n",
    "class WarmStartGradientReverseLayer(nn.Module):\n",
    "    \"\"\"Gradient Reverse Layer :math:`\\mathcal{R}(x)` with warm start\n",
    "\n",
    "        The forward and backward behaviours are:\n",
    "\n",
    "        .. math::\n",
    "            \\mathcal{R}(x) = x,\n",
    "\n",
    "            \\dfrac{ d\\mathcal{R}} {dx} = - \\lambda I.\n",
    "\n",
    "        :math:`\\lambda` is initiated at :math:`lo` and is gradually changed to :math:`hi` using the following schedule:\n",
    "\n",
    "        .. math::\n",
    "            \\lambda = \\dfrac{2(hi-lo)}{1+\\exp(- α \\dfrac{i}{N})} - (hi-lo) + lo\n",
    "\n",
    "        where :math:`i` is the iteration step.\n",
    "\n",
    "        Args:\n",
    "            alpha (float, optional): :math:`α`. Default: 1.0\n",
    "            lo (float, optional): Initial value of :math:`\\lambda`. Default: 0.0\n",
    "            hi (float, optional): Final value of :math:`\\lambda`. Default: 1.0\n",
    "            max_iters (int, optional): :math:`N`. Default: 1000\n",
    "            auto_step (bool, optional): If True, increase :math:`i` each time `forward` is called.\n",
    "              Otherwise use function `step` to increase :math:`i`. Default: False\n",
    "        \"\"\"\n",
    "\n",
    "    def __init__(self, alpha: Optional[float] = 1.0, lo: Optional[float] = 0.0, hi: Optional[float] = 1.,\n",
    "                 max_iters: Optional[int] = 1000., auto_step: Optional[bool] = False):\n",
    "        super(WarmStartGradientReverseLayer, self).__init__()\n",
    "        self.alpha = alpha\n",
    "        self.lo = lo\n",
    "        self.hi = hi\n",
    "        self.iter_num = 0\n",
    "        self.max_iters = max_iters\n",
    "        self.auto_step = auto_step\n",
    "\n",
    "    def forward(self, input: torch.Tensor) -> torch.Tensor:\n",
    "        \"\"\"\"\"\"\n",
    "        coeff = float(\n",
    "            2.0 * (self.hi - self.lo) / (1.0 + np.exp(-self.alpha * self.iter_num / self.max_iters))\n",
    "            - (self.hi - self.lo) + self.lo\n",
    "        )\n",
    "        if self.auto_step:\n",
    "            self.step()\n",
    "        return GradientReverseFunction.apply(input, coeff)\n",
    "\n",
    "    def step(self):\n",
    "        \"\"\"Increase iteration number :math:`i` by 1\"\"\"\n",
    "        self.iter_num += 1"
   ]
  },
  {
   "cell_type": "markdown",
   "id": "12f22985-b074-4a19-8adc-05d9422fa222",
   "metadata": {},
   "source": [
    "# Model"
   ]
  },
  {
   "cell_type": "code",
   "execution_count": 3,
   "id": "4e405595-ff29-40dc-b476-81f62c7cdced",
   "metadata": {},
   "outputs": [],
   "source": [
    "class GraphAttentionLayer(nn.Module):\n",
    "    def __init__(self, in_dim, out_dim, **kwargs):\n",
    "        super().__init__()\n",
    "\n",
    "        # attention map\n",
    "        self.att_proj = nn.Linear(in_dim, out_dim)\n",
    "        self.att_weight = self._init_new_params(out_dim, 1)\n",
    "\n",
    "        # project\n",
    "        self.proj_with_att = nn.Linear(in_dim, out_dim)\n",
    "        self.proj_without_att = nn.Linear(in_dim, out_dim)\n",
    "\n",
    "        # batch norm\n",
    "        self.bn = nn.BatchNorm1d(out_dim)\n",
    "\n",
    "        # dropout for inputs\n",
    "        self.input_drop = nn.Dropout(p=0.2)\n",
    "\n",
    "        # activate\n",
    "        self.act = nn.SELU(inplace=True)\n",
    "\n",
    "        # temperature\n",
    "        self.temp = 1.\n",
    "        if \"temperature\" in kwargs:\n",
    "            self.temp = kwargs[\"temperature\"]\n",
    "\n",
    "    def forward(self, x):\n",
    "        '''\n",
    "        x   :(#bs, #node, #dim)\n",
    "        '''\n",
    "        # apply input dropout\n",
    "        x = self.input_drop(x)\n",
    "\n",
    "        # derive attention map\n",
    "        att_map = self._derive_att_map(x)\n",
    "\n",
    "        # projection\n",
    "        x = self._project(x, att_map)\n",
    "\n",
    "        # apply batch norm\n",
    "        x = self._apply_BN(x)\n",
    "        x = self.act(x)\n",
    "        return x\n",
    "\n",
    "    def _pairwise_mul_nodes(self, x):\n",
    "        '''\n",
    "        Calculates pairwise multiplication of nodes.\n",
    "        - for attention map\n",
    "        x           :(#bs, #node, #dim)\n",
    "        out_shape   :(#bs, #node, #node, #dim)\n",
    "        '''\n",
    "\n",
    "        nb_nodes = x.size(1)\n",
    "        x = x.unsqueeze(2).expand(-1, -1, nb_nodes, -1)\n",
    "        x_mirror = x.transpose(1, 2)\n",
    "\n",
    "        return x * x_mirror\n",
    "\n",
    "    def _derive_att_map(self, x):\n",
    "        '''\n",
    "        x           :(#bs, #node, #dim)\n",
    "        out_shape   :(#bs, #node, #node, 1)\n",
    "        '''\n",
    "        att_map = self._pairwise_mul_nodes(x)\n",
    "        # size: (#bs, #node, #node, #dim_out)\n",
    "        att_map = torch.tanh(self.att_proj(att_map))\n",
    "        # size: (#bs, #node, #node, 1)\n",
    "        att_map = torch.matmul(att_map, self.att_weight)\n",
    "\n",
    "        # apply temperature\n",
    "        att_map = att_map / self.temp\n",
    "\n",
    "        att_map = F.softmax(att_map, dim=-2)\n",
    "\n",
    "        return att_map\n",
    "\n",
    "    def _project(self, x, att_map):\n",
    "        x1 = self.proj_with_att(torch.matmul(att_map.squeeze(-1), x))\n",
    "        x2 = self.proj_without_att(x)\n",
    "\n",
    "        return x1 + x2\n",
    "\n",
    "    def _apply_BN(self, x):\n",
    "        org_size = x.size()\n",
    "        x = x.view(-1, org_size[-1])\n",
    "        x = self.bn(x)\n",
    "        x = x.view(org_size)\n",
    "\n",
    "        return x\n",
    "\n",
    "    def _init_new_params(self, *size):\n",
    "        out = nn.Parameter(torch.FloatTensor(*size))\n",
    "        nn.init.xavier_normal_(out)\n",
    "        return out\n",
    "\n",
    "\n",
    "class HtrgGraphAttentionLayer(nn.Module):\n",
    "    def __init__(self, in_dim, out_dim, **kwargs):\n",
    "        super().__init__()\n",
    "\n",
    "        self.proj_type1 = nn.Linear(in_dim, in_dim)\n",
    "        self.proj_type2 = nn.Linear(in_dim, in_dim)\n",
    "\n",
    "        # attention map\n",
    "        self.att_proj = nn.Linear(in_dim, out_dim)\n",
    "        self.att_projM = nn.Linear(in_dim, out_dim)\n",
    "\n",
    "        self.att_weight11 = self._init_new_params(out_dim, 1)\n",
    "        self.att_weight22 = self._init_new_params(out_dim, 1)\n",
    "        self.att_weight12 = self._init_new_params(out_dim, 1)\n",
    "        self.att_weightM = self._init_new_params(out_dim, 1)\n",
    "\n",
    "        # project\n",
    "        self.proj_with_att = nn.Linear(in_dim, out_dim)\n",
    "        self.proj_without_att = nn.Linear(in_dim, out_dim)\n",
    "\n",
    "        self.proj_with_attM = nn.Linear(in_dim, out_dim)\n",
    "        self.proj_without_attM = nn.Linear(in_dim, out_dim)\n",
    "\n",
    "        # batch norm\n",
    "        self.bn = nn.BatchNorm1d(out_dim)\n",
    "\n",
    "        # dropout for inputs\n",
    "        self.input_drop = nn.Dropout(p=0.2)\n",
    "\n",
    "        # activate\n",
    "        self.act = nn.SELU(inplace=True)\n",
    "\n",
    "        # temperature\n",
    "        self.temp = 1.\n",
    "        if \"temperature\" in kwargs:\n",
    "            self.temp = kwargs[\"temperature\"]\n",
    "\n",
    "    def forward(self, x1, x2, master=None):\n",
    "        '''\n",
    "        x1  :(#bs, #node, #dim)\n",
    "        x2  :(#bs, #node, #dim)\n",
    "        '''\n",
    "        num_type1 = x1.size(1)\n",
    "        num_type2 = x2.size(1)\n",
    "\n",
    "        x1 = self.proj_type1(x1)\n",
    "        x2 = self.proj_type2(x2)\n",
    "\n",
    "        x = torch.cat([x1, x2], dim=1)\n",
    "\n",
    "        if master is None:\n",
    "            master = torch.mean(x, dim=1, keepdim=True)\n",
    "\n",
    "        # apply input dropout\n",
    "        x = self.input_drop(x)\n",
    "\n",
    "        # derive attention map\n",
    "        att_map = self._derive_att_map(x, num_type1, num_type2)\n",
    "\n",
    "        # directional edge for master node\n",
    "        master = self._update_master(x, master)\n",
    "\n",
    "        # projection\n",
    "        x = self._project(x, att_map)\n",
    "\n",
    "        # apply batch norm\n",
    "        x = self._apply_BN(x)\n",
    "        x = self.act(x)\n",
    "\n",
    "        x1 = x.narrow(1, 0, num_type1)\n",
    "        x2 = x.narrow(1, num_type1, num_type2)\n",
    "\n",
    "        return x1, x2, master\n",
    "\n",
    "    def _update_master(self, x, master):\n",
    "\n",
    "        att_map = self._derive_att_map_master(x, master)\n",
    "        master = self._project_master(x, master, att_map)\n",
    "\n",
    "        return master\n",
    "\n",
    "    def _pairwise_mul_nodes(self, x):\n",
    "        '''\n",
    "        Calculates pairwise multiplication of nodes.\n",
    "        - for attention map\n",
    "        x           :(#bs, #node, #dim)\n",
    "        out_shape   :(#bs, #node, #node, #dim)\n",
    "        '''\n",
    "\n",
    "        nb_nodes = x.size(1)\n",
    "        x = x.unsqueeze(2).expand(-1, -1, nb_nodes, -1)\n",
    "        x_mirror = x.transpose(1, 2)\n",
    "\n",
    "        return x * x_mirror\n",
    "\n",
    "    def _derive_att_map_master(self, x, master):\n",
    "        '''\n",
    "        x           :(#bs, #node, #dim)\n",
    "        out_shape   :(#bs, #node, #node, 1)\n",
    "        '''\n",
    "        att_map = x * master\n",
    "        att_map = torch.tanh(self.att_projM(att_map))\n",
    "\n",
    "        att_map = torch.matmul(att_map, self.att_weightM)\n",
    "\n",
    "        # apply temperature\n",
    "        att_map = att_map / self.temp\n",
    "\n",
    "        att_map = F.softmax(att_map, dim=-2)\n",
    "\n",
    "        return att_map\n",
    "\n",
    "    def _derive_att_map(self, x, num_type1, num_type2):\n",
    "        '''\n",
    "        x           :(#bs, #node, #dim)\n",
    "        out_shape   :(#bs, #node, #node, 1)\n",
    "        '''\n",
    "        att_map = self._pairwise_mul_nodes(x)\n",
    "        # size: (#bs, #node, #node, #dim_out)\n",
    "        att_map = torch.tanh(self.att_proj(att_map))\n",
    "        # size: (#bs, #node, #node, 1)\n",
    "\n",
    "        att_board = torch.zeros_like(att_map[:, :, :, 0]).unsqueeze(-1)\n",
    "\n",
    "        att_board[:, :num_type1, :num_type1, :] = torch.matmul(\n",
    "            att_map[:, :num_type1, :num_type1, :], self.att_weight11)\n",
    "        att_board[:, num_type1:, num_type1:, :] = torch.matmul(\n",
    "            att_map[:, num_type1:, num_type1:, :], self.att_weight22)\n",
    "        att_board[:, :num_type1, num_type1:, :] = torch.matmul(\n",
    "            att_map[:, :num_type1, num_type1:, :], self.att_weight12)\n",
    "        att_board[:, num_type1:, :num_type1, :] = torch.matmul(\n",
    "            att_map[:, num_type1:, :num_type1, :], self.att_weight12)\n",
    "\n",
    "        att_map = att_board\n",
    "\n",
    "        # att_map = torch.matmul(att_map, self.att_weight12)\n",
    "\n",
    "        # apply temperature\n",
    "        att_map = att_map / self.temp\n",
    "\n",
    "        att_map = F.softmax(att_map, dim=-2)\n",
    "\n",
    "        return att_map\n",
    "\n",
    "    def _project(self, x, att_map):\n",
    "        x1 = self.proj_with_att(torch.matmul(att_map.squeeze(-1), x))\n",
    "        x2 = self.proj_without_att(x)\n",
    "\n",
    "        return x1 + x2\n",
    "\n",
    "    def _project_master(self, x, master, att_map):\n",
    "\n",
    "        x1 = self.proj_with_attM(torch.matmul(\n",
    "            att_map.squeeze(-1).unsqueeze(1), x))\n",
    "        x2 = self.proj_without_attM(master)\n",
    "\n",
    "        return x1 + x2\n",
    "\n",
    "    def _apply_BN(self, x):\n",
    "        org_size = x.size()\n",
    "        x = x.view(-1, org_size[-1])\n",
    "        x = self.bn(x)\n",
    "        x = x.view(org_size)\n",
    "\n",
    "        return x\n",
    "\n",
    "    def _init_new_params(self, *size):\n",
    "        out = nn.Parameter(torch.FloatTensor(*size))\n",
    "        nn.init.xavier_normal_(out)\n",
    "        return out\n",
    "\n",
    "\n",
    "class GraphPool(nn.Module):\n",
    "    def __init__(self, k: float, in_dim: int, p: Union[float, int]):\n",
    "        super().__init__()\n",
    "        self.k = k\n",
    "        self.sigmoid = nn.Sigmoid()\n",
    "        self.proj = nn.Linear(in_dim, 1)\n",
    "        self.drop = nn.Dropout(p=p) if p > 0 else nn.Identity()\n",
    "        self.in_dim = in_dim\n",
    "\n",
    "    def forward(self, h):\n",
    "        Z = self.drop(h)\n",
    "        weights = self.proj(Z)\n",
    "        scores = self.sigmoid(weights)\n",
    "        new_h = self.top_k_graph(scores, h, self.k)\n",
    "\n",
    "        return new_h\n",
    "\n",
    "    def top_k_graph(self, scores, h, k):\n",
    "        \"\"\"\n",
    "        args\n",
    "        =====\n",
    "        scores: attention-based weights (#bs, #node, 1)\n",
    "        h: graph data (#bs, #node, #dim)\n",
    "        k: ratio of remaining nodes, (float)\n",
    "\n",
    "        returns\n",
    "        =====\n",
    "        h: graph pool applied data (#bs, #node', #dim)\n",
    "        \"\"\"\n",
    "        _, n_nodes, n_feat = h.size()\n",
    "        n_nodes = max(int(n_nodes * k), 1)\n",
    "        _, idx = torch.topk(scores, n_nodes, dim=1)\n",
    "        idx = idx.expand(-1, -1, n_feat)\n",
    "\n",
    "        h = h * scores\n",
    "        h = torch.gather(h, 1, idx)\n",
    "\n",
    "        return h\n",
    "\n",
    "\n",
    "class CONV(nn.Module):\n",
    "    @staticmethod\n",
    "    def to_mel(hz):\n",
    "        return 2595 * np.log10(1 + hz / 700)\n",
    "\n",
    "    @staticmethod\n",
    "    def to_hz(mel):\n",
    "        return 700 * (10**(mel / 2595) - 1)\n",
    "\n",
    "    def __init__(self,\n",
    "                 out_channels,\n",
    "                 kernel_size,\n",
    "                 sample_rate=16000,\n",
    "                 in_channels=1,\n",
    "                 stride=1,\n",
    "                 padding=0,\n",
    "                 dilation=1,\n",
    "                 bias=False,\n",
    "                 groups=1,\n",
    "                 mask=False):\n",
    "        super().__init__()\n",
    "        if in_channels != 1:\n",
    "\n",
    "            msg = \"SincConv only support one input channel (here, in_channels = {%i})\" % (\n",
    "                in_channels)\n",
    "            raise ValueError(msg)\n",
    "        self.out_channels = out_channels\n",
    "        self.kernel_size = kernel_size\n",
    "        self.sample_rate = sample_rate\n",
    "\n",
    "        # Forcing the filters to be odd (i.e, perfectly symmetrics)\n",
    "        if kernel_size % 2 == 0:\n",
    "            self.kernel_size = self.kernel_size + 1\n",
    "        self.stride = stride\n",
    "        self.padding = padding\n",
    "        self.dilation = dilation\n",
    "        self.mask = mask\n",
    "        if bias:\n",
    "            raise ValueError('SincConv does not support bias.')\n",
    "        if groups > 1:\n",
    "            raise ValueError('SincConv does not support groups.')\n",
    "\n",
    "        NFFT = 512\n",
    "        f = int(self.sample_rate / 2) * np.linspace(0, 1, int(NFFT / 2) + 1)\n",
    "        fmel = self.to_mel(f)\n",
    "        fmelmax = np.max(fmel)\n",
    "        fmelmin = np.min(fmel)\n",
    "        filbandwidthsmel = np.linspace(fmelmin, fmelmax, self.out_channels + 1)\n",
    "        filbandwidthsf = self.to_hz(filbandwidthsmel)\n",
    "\n",
    "        self.mel = filbandwidthsf\n",
    "        self.hsupp = torch.arange(-(self.kernel_size - 1) / 2,\n",
    "                                  (self.kernel_size - 1) / 2 + 1)\n",
    "        self.band_pass = torch.zeros(self.out_channels, self.kernel_size)\n",
    "        for i in range(len(self.mel) - 1):\n",
    "            fmin = self.mel[i]\n",
    "            fmax = self.mel[i + 1]\n",
    "            hHigh = (2*fmax/self.sample_rate) * \\\n",
    "                np.sinc(2*fmax*self.hsupp/self.sample_rate)\n",
    "            hLow = (2*fmin/self.sample_rate) * \\\n",
    "                np.sinc(2*fmin*self.hsupp/self.sample_rate)\n",
    "            hideal = hHigh - hLow\n",
    "\n",
    "            self.band_pass[i, :] = Tensor(np.hamming(\n",
    "                self.kernel_size)) * Tensor(hideal)\n",
    "\n",
    "    def forward(self, x, mask=False):\n",
    "        band_pass_filter = self.band_pass.clone().to(x.device)\n",
    "        if mask:\n",
    "            A = np.random.uniform(0, 20)\n",
    "            A = int(A)\n",
    "            A0 = random.randint(0, band_pass_filter.shape[0] - A)\n",
    "            band_pass_filter[A0:A0 + A, :] = 0\n",
    "        else:\n",
    "            band_pass_filter = band_pass_filter\n",
    "\n",
    "        self.filters = (band_pass_filter).view(self.out_channels, 1,\n",
    "                                               self.kernel_size)\n",
    "\n",
    "        return F.conv1d(x,\n",
    "                        self.filters,\n",
    "                        stride=self.stride,\n",
    "                        padding=self.padding,\n",
    "                        dilation=self.dilation,\n",
    "                        bias=None,\n",
    "                        groups=1)\n",
    "\n",
    "\n",
    "class Residual_block(nn.Module):\n",
    "    def __init__(self, nb_filts, first=False):\n",
    "        super().__init__()\n",
    "        self.first = first\n",
    "\n",
    "        if not self.first:\n",
    "            self.bn1 = nn.BatchNorm2d(num_features=nb_filts[0])\n",
    "        self.conv1 = nn.Conv2d(in_channels=nb_filts[0],\n",
    "                               out_channels=nb_filts[1],\n",
    "                               kernel_size=(2, 3),\n",
    "                               padding=(1, 1),\n",
    "                               stride=1)\n",
    "        self.selu = nn.SELU(inplace=True)\n",
    "\n",
    "        self.bn2 = nn.BatchNorm2d(num_features=nb_filts[1])\n",
    "        self.conv2 = nn.Conv2d(in_channels=nb_filts[1],\n",
    "                               out_channels=nb_filts[1],\n",
    "                               kernel_size=(2, 3),\n",
    "                               padding=(0, 1),\n",
    "                               stride=1)\n",
    "\n",
    "        if nb_filts[0] != nb_filts[1]:\n",
    "            self.downsample = True\n",
    "            self.conv_downsample = nn.Conv2d(in_channels=nb_filts[0],\n",
    "                                             out_channels=nb_filts[1],\n",
    "                                             padding=(0, 1),\n",
    "                                             kernel_size=(1, 3),\n",
    "                                             stride=1)\n",
    "\n",
    "        else:\n",
    "            self.downsample = False\n",
    "        self.mp = nn.MaxPool2d((1, 3))  # self.mp = nn.MaxPool2d((1,4))\n",
    "\n",
    "    def forward(self, x):\n",
    "        identity = x\n",
    "        if not self.first:\n",
    "            out = self.bn1(x)\n",
    "            out = self.selu(out)\n",
    "        else:\n",
    "            out = x\n",
    "        out = self.conv1(x)\n",
    "\n",
    "        # print('out',out.shape)\n",
    "        out = self.bn2(out)\n",
    "        out = self.selu(out)\n",
    "        # print('out',out.shape)\n",
    "        out = self.conv2(out)\n",
    "        #print('conv2 out',out.shape)\n",
    "        if self.downsample:\n",
    "            identity = self.conv_downsample(identity)\n",
    "\n",
    "        out += identity\n",
    "        out = self.mp(out)\n",
    "        return out\n",
    "\n",
    "\n",
    "class Model(nn.Module):\n",
    "    def __init__(self, d_args):\n",
    "        super().__init__()\n",
    "\n",
    "        self.d_args = d_args\n",
    "        filts = d_args[\"filts\"]\n",
    "        gat_dims = d_args[\"gat_dims\"]\n",
    "        pool_ratios = d_args[\"pool_ratios\"]\n",
    "        temperatures = d_args[\"temperatures\"]\n",
    "\n",
    "        self.conv_time = CONV(out_channels=filts[0],\n",
    "                              kernel_size=d_args[\"first_conv\"],\n",
    "                              in_channels=1)\n",
    "        self.first_bn = nn.BatchNorm2d(num_features=1)\n",
    "\n",
    "        self.drop = nn.Dropout(0.5, inplace=True)\n",
    "        self.drop_way = nn.Dropout(0.2, inplace=True)\n",
    "        self.selu = nn.SELU(inplace=True)\n",
    "\n",
    "        self.encoder = nn.Sequential(\n",
    "            nn.Sequential(Residual_block(nb_filts=filts[1], first=True)),\n",
    "            nn.Sequential(Residual_block(nb_filts=filts[2])),\n",
    "            nn.Sequential(Residual_block(nb_filts=filts[3])),\n",
    "            nn.Sequential(Residual_block(nb_filts=filts[4])),\n",
    "            nn.Sequential(Residual_block(nb_filts=filts[4])),\n",
    "            nn.Sequential(Residual_block(nb_filts=filts[4])))\n",
    "\n",
    "        self.pos_S = nn.Parameter(torch.randn(1, 23, filts[-1][-1]))\n",
    "        self.master1 = nn.Parameter(torch.randn(1, 1, gat_dims[0]))\n",
    "        self.master2 = nn.Parameter(torch.randn(1, 1, gat_dims[0]))\n",
    "\n",
    "        self.GAT_layer_S = GraphAttentionLayer(filts[-1][-1],\n",
    "                                               gat_dims[0],\n",
    "                                               temperature=temperatures[0])\n",
    "        self.GAT_layer_T = GraphAttentionLayer(filts[-1][-1],\n",
    "                                               gat_dims[0],\n",
    "                                               temperature=temperatures[1])\n",
    "\n",
    "        self.HtrgGAT_layer_ST11 = HtrgGraphAttentionLayer(\n",
    "            gat_dims[0], gat_dims[1], temperature=temperatures[2])\n",
    "        self.HtrgGAT_layer_ST12 = HtrgGraphAttentionLayer(\n",
    "            gat_dims[1], gat_dims[1], temperature=temperatures[2])\n",
    "\n",
    "        self.HtrgGAT_layer_ST21 = HtrgGraphAttentionLayer(\n",
    "            gat_dims[0], gat_dims[1], temperature=temperatures[2])\n",
    "\n",
    "        self.HtrgGAT_layer_ST22 = HtrgGraphAttentionLayer(\n",
    "            gat_dims[1], gat_dims[1], temperature=temperatures[2])\n",
    "\n",
    "        self.pool_S = GraphPool(pool_ratios[0], gat_dims[0], 0.3)\n",
    "        self.pool_T = GraphPool(pool_ratios[1], gat_dims[0], 0.3)\n",
    "        self.pool_hS1 = GraphPool(pool_ratios[2], gat_dims[1], 0.3)\n",
    "        self.pool_hT1 = GraphPool(pool_ratios[2], gat_dims[1], 0.3)\n",
    "\n",
    "        self.pool_hS2 = GraphPool(pool_ratios[2], gat_dims[1], 0.3)\n",
    "        self.pool_hT2 = GraphPool(pool_ratios[2], gat_dims[1], 0.3)\n",
    "\n",
    "        self.out_layer = nn.Linear(5 * gat_dims[1], 2)\n",
    "\n",
    "    def forward(self, x, Freq_aug=False):\n",
    "\n",
    "        x = x.unsqueeze(1)\n",
    "        x = self.conv_time(x, mask=Freq_aug)\n",
    "        x = x.unsqueeze(dim=1)\n",
    "        x = F.max_pool2d(torch.abs(x), (3, 3))\n",
    "        x = self.first_bn(x)\n",
    "        x = self.selu(x)\n",
    "\n",
    "        # get embeddings using encoder\n",
    "        # (#bs, #filt, #spec, #seq)\n",
    "        e = self.encoder(x)\n",
    "\n",
    "        # spectral GAT (GAT-S)\n",
    "        e_S, _ = torch.max(torch.abs(e), dim=3)  # max along time\n",
    "        e_S = e_S.transpose(1, 2) + self.pos_S\n",
    "\n",
    "        gat_S = self.GAT_layer_S(e_S)\n",
    "        out_S = self.pool_S(gat_S)  # (#bs, #node, #dim)\n",
    "\n",
    "        # temporal GAT (GAT-T)\n",
    "        e_T, _ = torch.max(torch.abs(e), dim=2)  # max along freq\n",
    "        e_T = e_T.transpose(1, 2)\n",
    "\n",
    "        gat_T = self.GAT_layer_T(e_T)\n",
    "        out_T = self.pool_T(gat_T)\n",
    "\n",
    "        # learnable master node\n",
    "        master1 = self.master1.expand(x.size(0), -1, -1)\n",
    "        master2 = self.master2.expand(x.size(0), -1, -1)\n",
    "\n",
    "        # inference 1\n",
    "        out_T1, out_S1, master1 = self.HtrgGAT_layer_ST11(\n",
    "            out_T, out_S, master=self.master1)\n",
    "\n",
    "        out_S1 = self.pool_hS1(out_S1)\n",
    "        out_T1 = self.pool_hT1(out_T1)\n",
    "\n",
    "        out_T_aug, out_S_aug, master_aug = self.HtrgGAT_layer_ST12(\n",
    "            out_T1, out_S1, master=master1)\n",
    "        out_T1 = out_T1 + out_T_aug\n",
    "        out_S1 = out_S1 + out_S_aug\n",
    "        master1 = master1 + master_aug\n",
    "\n",
    "        # inference 2\n",
    "        out_T2, out_S2, master2 = self.HtrgGAT_layer_ST21(\n",
    "            out_T, out_S, master=self.master2)\n",
    "        out_S2 = self.pool_hS2(out_S2)\n",
    "        out_T2 = self.pool_hT2(out_T2)\n",
    "\n",
    "        out_T_aug, out_S_aug, master_aug = self.HtrgGAT_layer_ST22(\n",
    "            out_T2, out_S2, master=master2)\n",
    "        out_T2 = out_T2 + out_T_aug\n",
    "        out_S2 = out_S2 + out_S_aug\n",
    "        master2 = master2 + master_aug\n",
    "\n",
    "        out_T1 = self.drop_way(out_T1)\n",
    "        out_T2 = self.drop_way(out_T2)\n",
    "        out_S1 = self.drop_way(out_S1)\n",
    "        out_S2 = self.drop_way(out_S2)\n",
    "        master1 = self.drop_way(master1)\n",
    "        master2 = self.drop_way(master2)\n",
    "\n",
    "        out_T = torch.max(out_T1, out_T2)\n",
    "        out_S = torch.max(out_S1, out_S2)\n",
    "        master = torch.max(master1, master2)\n",
    "\n",
    "        T_max, _ = torch.max(torch.abs(out_T), dim=1)\n",
    "        T_avg = torch.mean(out_T, dim=1)\n",
    "\n",
    "        S_max, _ = torch.max(torch.abs(out_S), dim=1)\n",
    "        S_avg = torch.mean(out_S, dim=1)\n",
    "\n",
    "        last_hidden = torch.cat(\n",
    "            [T_max, T_avg, S_max, S_avg, master.squeeze(1)], dim=1)\n",
    "\n",
    "        last_hidden = self.drop(last_hidden)\n",
    "        output = self.out_layer(last_hidden)\n",
    "\n",
    "        return output,last_hidden"
   ]
  },
  {
   "cell_type": "markdown",
   "id": "d553dbe4-1cdc-42e9-89da-992938bbad01",
   "metadata": {},
   "source": [
    "# RawBoost"
   ]
  },
  {
   "cell_type": "code",
   "execution_count": 4,
   "id": "722762a2-2d04-4e7e-b584-3c86e25aeb6c",
   "metadata": {},
   "outputs": [],
   "source": [
    "'''\n",
    "   Hemlata Tak, Madhu Kamble, Jose Patino, Massimiliano Todisco, Nicholas Evans.\n",
    "   RawBoost: A Raw Data Boosting and Augmentation Method applied to Automatic Speaker Verification Anti-Spoofing.\n",
    "   In Proc. ICASSP 2022, pp:6382--6386.\n",
    "'''\n",
    "\n",
    "def randRange(x1, x2, integer):\n",
    "    y = np.random.uniform(low=x1, high=x2, size=(1,))\n",
    "    if integer:\n",
    "        y = int(y)\n",
    "    return y\n",
    "\n",
    "def normWav(x,always):\n",
    "    if always:\n",
    "        x = x/np.amax(abs(x))\n",
    "    elif np.amax(abs(x)) > 1:\n",
    "            x = x/np.amax(abs(x))\n",
    "    return x\n",
    "\n",
    "\n",
    "def genNotchCoeffs(nBands,minF,maxF,minBW,maxBW,minCoeff,maxCoeff,minG,maxG,fs):\n",
    "    b = 1\n",
    "    for i in range(0, nBands):\n",
    "        fc = randRange(minF,maxF,0);\n",
    "        bw = randRange(minBW,maxBW,0);\n",
    "        c = randRange(minCoeff,maxCoeff,1);\n",
    "          \n",
    "        if c/2 == int(c/2):\n",
    "            c = c + 1\n",
    "        f1 = fc - bw/2\n",
    "        f2 = fc + bw/2\n",
    "        if f1 <= 0:\n",
    "            f1 = 1/1000\n",
    "        if f2 >= fs/2:\n",
    "            f2 =  fs/2-1/1000\n",
    "        b = np.convolve(signal.firwin(c, [float(f1), float(f2)], window='hamming', fs=fs),b)\n",
    "\n",
    "    G = randRange(minG,maxG,0); \n",
    "    _, h = signal.freqz(b, 1, fs=fs)    \n",
    "    b = pow(10, G/20)*b/np.amax(abs(h))   \n",
    "    return b\n",
    "\n",
    "\n",
    "def filterFIR(x,b):\n",
    "    N = b.shape[0] + 1\n",
    "    xpad = np.pad(x, (0, N), 'constant')\n",
    "    y = signal.lfilter(b, 1, xpad)\n",
    "    y = y[int(N/2):int(y.shape[0]-N/2)]\n",
    "    return y\n",
    "\n",
    "# Linear and non-linear convolutive noise\n",
    "def LnL_convolutive_noise(x,N_f,nBands,minF,maxF,minBW,maxBW,minCoeff,maxCoeff,minG,maxG,minBiasLinNonLin,maxBiasLinNonLin,fs):\n",
    "    y = [0] * x.shape[0]\n",
    "    for i in range(0, N_f):\n",
    "        if i == 1:\n",
    "            minG = minG-minBiasLinNonLin;\n",
    "            maxG = maxG-maxBiasLinNonLin;\n",
    "        b = genNotchCoeffs(nBands,minF,maxF,minBW,maxBW,minCoeff,maxCoeff,minG,maxG,fs)\n",
    "        y = y + filterFIR(np.power(x, (i+1)),  b)     \n",
    "    y = y - np.mean(y)\n",
    "    y = normWav(y,0)\n",
    "    return y\n",
    "\n",
    "\n",
    "# Impulsive signal dependent noise\n",
    "def ISD_additive_noise(x, P, g_sd):\n",
    "    beta = randRange(0, P, 0)\n",
    "    \n",
    "    y = copy.deepcopy(x)\n",
    "    x_len = x.shape[0]\n",
    "    n = int(x_len*(beta/100))\n",
    "    p = np.random.permutation(x_len)[:n]\n",
    "    f_r= np.multiply(((2*np.random.rand(p.shape[0]))-1),((2*np.random.rand(p.shape[0]))-1))\n",
    "    r = g_sd * x[p] * f_r\n",
    "    y[p] = x[p] + r\n",
    "    y = normWav(y,0)\n",
    "    return y\n",
    "\n",
    "\n",
    "# Stationary signal independent noise\n",
    "\n",
    "def SSI_additive_noise(x,SNRmin,SNRmax,nBands,minF,maxF,minBW,maxBW,minCoeff,maxCoeff,minG,maxG,fs):\n",
    "    noise = np.random.normal(0, 1, x.shape[0])\n",
    "    b = genNotchCoeffs(nBands,minF,maxF,minBW,maxBW,minCoeff,maxCoeff,minG,maxG,fs)\n",
    "    noise = filterFIR(noise, b)\n",
    "    noise = normWav(noise,1)\n",
    "    SNR = randRange(SNRmin, SNRmax, 0)\n",
    "    noise = noise / np.linalg.norm(noise,2) * np.linalg.norm(x,2) / 10.0**(0.05 * SNR)\n",
    "    x = x + noise\n",
    "    return x"
   ]
  },
  {
   "cell_type": "markdown",
   "id": "508da7ad-b12f-4d68-bf45-aafb6f5f3a5f",
   "metadata": {},
   "source": [
    "# Data Utils"
   ]
  },
  {
   "cell_type": "code",
   "execution_count": 5,
   "id": "e271b211-6947-4b30-ae59-c92660e2e57b",
   "metadata": {},
   "outputs": [],
   "source": [
    "def pad(x, max_len=80000):\n",
    "    x_len = x.shape[0]\n",
    "    if x_len >= max_len:\n",
    "        return x[:max_len]\n",
    "    # need to pad\n",
    "    num_repeats = int(max_len / x_len)+1\n",
    "    padded_x = np.tile(x, (1, num_repeats))[:, :max_len][0]\n",
    "    return padded_x\t\n",
    "\n",
    "class Dataset_ASVspoof_train(Dataset):\n",
    "    def __init__(self,args,list_IDs, labels,algo):\n",
    "            '''self.list_IDs\t: list of strings (each string: utt key),\n",
    "               self.labels      : dictionary (key: utt key, value: label integer)'''\n",
    "            self.list_IDs = list_IDs\n",
    "            self.labels = labels\n",
    "            self.algo=algo\n",
    "            self.args=args\n",
    "            self.cut=80000 # take ~4 sec audio (64600 samples)\n",
    "    def get_labels(self):\n",
    "            return self.labels\n",
    "        \n",
    "    def __len__(self):\n",
    "            return len(self.list_IDs)\n",
    "\n",
    "    def __getitem__(self, index):\n",
    "            X,fs = librosa.load('./train16000/'+self.list_IDs[index]+'.wav', sr=16000)\n",
    "\n",
    "            Y1= pad(X,self.cut)\n",
    "            tmp = np.random.randint(0, len(self.list_IDs))\n",
    "            X,fs = librosa.load('./train16000/'+self.list_IDs[tmp]+'.wav', sr=16000)\n",
    "            Y2= pad(X,self.cut)\n",
    "            Y1 = process_Rawboost_feature(Y1 + Y2,fs,self.args,self.algo)     \n",
    "            return Tensor(Y1), Tensor([(self.labels[index] and self.labels[tmp])^1,self.labels[index] or self.labels[tmp]])\n",
    "\n",
    "\n",
    "\n",
    "class Dataset_ASVspoof_dev(Dataset):\n",
    "    def __init__(self, list_IDs,args,algo):\n",
    "            '''self.list_IDs\t: list of strings (each string: utt key),\n",
    "               '''\n",
    "            self.args = args\n",
    "            self.algo = algo\n",
    "            self.list_IDs = list_IDs\n",
    "            self.cut=80000 # take ~4 sec audio (64600 samples)\n",
    "    \n",
    "    def __len__(self):\n",
    "            return len(self.list_IDs)\n",
    "        \n",
    "    def __getitem__(self, index):\n",
    "            utt_id = self.list_IDs[index]\n",
    "            X, fs = librosa.load('./unlabeled_data16000/'+utt_id+'.wav', sr=16000)\n",
    "            Y=process_Rawboost_feature(X,fs,self.args,self.algo)\n",
    "            X_pad = pad(Y,self.cut)\n",
    "            x_inp = Tensor(X_pad)\n",
    "            return x_inp\n",
    "        \n",
    "\n",
    "class Dataset_ASVspoof_eval(Dataset):\n",
    "    def __init__(self, list_IDs):\n",
    "            '''self.list_IDs\t: list of strings (each string: utt key),\n",
    "               '''\n",
    "               \n",
    "            self.list_IDs = list_IDs\n",
    "            self.cut=80000 # take ~4 sec audio (64600 samples)\n",
    "    \n",
    "    def __len__(self):\n",
    "            return len(self.list_IDs)\n",
    "        \n",
    "    def __getitem__(self, index):\n",
    "            utt_id = self.list_IDs[index]\n",
    "            X, fs = librosa.load('./test16000/'+utt_id+'.wav', sr=16000)\n",
    "            X_pad = pad(X,self.cut)\n",
    "            x_inp = Tensor(X_pad)\n",
    "            return x_inp\n",
    "\n",
    "#--------------RawBoost data augmentation algorithms---------------------------##\n",
    "\n",
    "def process_Rawboost_feature(feature, sr,args,algo):\n",
    "    \n",
    "    # Data process by Convolutive noise (1st algo)\n",
    "    if algo==1:\n",
    "\n",
    "        feature =LnL_convolutive_noise(feature,args.N_f,args.nBands,args.minF,args.maxF,args.minBW,args.maxBW,args.minCoeff,args.maxCoeff,args.minG,args.maxG,args.minBiasLinNonLin,args.maxBiasLinNonLin,sr)\n",
    "                            \n",
    "    # Data process by Impulsive noise (2nd algo)\n",
    "    elif algo==2:\n",
    "        \n",
    "        feature=ISD_additive_noise(feature, args.P, args.g_sd)\n",
    "                            \n",
    "    # Data process by coloured additive noise (3rd algo)\n",
    "    elif algo==3:\n",
    "        \n",
    "        feature=SSI_additive_noise(feature,args.SNRmin,args.SNRmax,args.nBands,args.minF,args.maxF,args.minBW,args.maxBW,args.minCoeff,args.maxCoeff,args.minG,args.maxG,sr)\n",
    "    \n",
    "    # Data process by all 3 algo. together in series (1+2+3)\n",
    "    elif algo==4:\n",
    "        \n",
    "        feature =LnL_convolutive_noise(feature,args.N_f,args.nBands,args.minF,args.maxF,args.minBW,args.maxBW,\n",
    "                 args.minCoeff,args.maxCoeff,args.minG,args.maxG,args.minBiasLinNonLin,args.maxBiasLinNonLin,sr)                         \n",
    "        feature=ISD_additive_noise(feature, args.P, args.g_sd)  \n",
    "        feature=SSI_additive_noise(feature,args.SNRmin,args.SNRmax,args.nBands,args.minF,\n",
    "                args.maxF,args.minBW,args.maxBW,args.minCoeff,args.maxCoeff,args.minG,args.maxG,sr)                 \n",
    "\n",
    "    # Data process by 1st two algo. together in series (1+2)\n",
    "    elif algo==5:\n",
    "        \n",
    "        feature =LnL_convolutive_noise(feature,args.N_f,args.nBands,args.minF,args.maxF,args.minBW,args.maxBW,\n",
    "                 args.minCoeff,args.maxCoeff,args.minG,args.maxG,args.minBiasLinNonLin,args.maxBiasLinNonLin,sr)                         \n",
    "        feature=ISD_additive_noise(feature, args.P, args.g_sd)                \n",
    "                            \n",
    "\n",
    "    # Data process by 1st and 3rd algo. together in series (1+3)\n",
    "    elif algo==6:  \n",
    "        \n",
    "        feature =LnL_convolutive_noise(feature,args.N_f,args.nBands,args.minF,args.maxF,args.minBW,args.maxBW,\n",
    "                 args.minCoeff,args.maxCoeff,args.minG,args.maxG,args.minBiasLinNonLin,args.maxBiasLinNonLin,sr)                         \n",
    "        feature=SSI_additive_noise(feature,args.SNRmin,args.SNRmax,args.nBands,args.minF,args.maxF,args.minBW,args.maxBW,args.minCoeff,args.maxCoeff,args.minG,args.maxG,sr) \n",
    "\n",
    "    # Data process by 2nd and 3rd algo. together in series (2+3)\n",
    "    elif algo==7: \n",
    "        \n",
    "        feature=ISD_additive_noise(feature, args.P, args.g_sd)\n",
    "        feature=SSI_additive_noise(feature,args.SNRmin,args.SNRmax,args.nBands,args.minF,args.maxF,args.minBW,args.maxBW,args.minCoeff,args.maxCoeff,args.minG,args.maxG,sr) \n",
    "   \n",
    "    # Data process by 1st two algo. together in Parallel (1||2)\n",
    "    elif algo==8:\n",
    "        \n",
    "        feature1 =LnL_convolutive_noise(feature,args.N_f,args.nBands,args.minF,args.maxF,args.minBW,args.maxBW,\n",
    "                 args.minCoeff,args.maxCoeff,args.minG,args.maxG,args.minBiasLinNonLin,args.maxBiasLinNonLin,sr)                         \n",
    "        feature2=ISD_additive_noise(feature, args.P, args.g_sd)\n",
    "\n",
    "        feature_para=feature1+feature2\n",
    "        feature=normWav(feature_para,0)  #normalized resultant waveform\n",
    " \n",
    "    # original data without Rawboost processing           \n",
    "    else:\n",
    "        \n",
    "        feature=feature\n",
    "    \n",
    "    return feature"
   ]
  },
  {
   "cell_type": "code",
   "execution_count": 6,
   "id": "51f91053-6df5-427c-af97-f936a89cffcc",
   "metadata": {},
   "outputs": [],
   "source": [
    "import itertools\n",
    "import random\n",
    "import numpy as np\n",
    "\n",
    "import torch\n",
    "from torch.utils.data import Sampler\n",
    "from torch.utils.data import DataLoader, Dataset\n",
    "from typing import TypeVar, Iterable, Dict, List\n",
    "\n",
    "T_co = TypeVar('T_co', covariant=True)\n",
    "T = TypeVar('T')\n",
    "\n",
    "\n",
    "def send_to_device(tensor, device):\n",
    "    \"\"\"\n",
    "    Recursively sends the elements in a nested list/tuple/dictionary of tensors to a given device.\n",
    "\n",
    "    Args:\n",
    "        tensor (nested list/tuple/dictionary of :obj:`torch.Tensor`):\n",
    "            The data to send to a given device.\n",
    "        device (:obj:`torch.device`):\n",
    "            The device to send the data to\n",
    "\n",
    "    Returns:\n",
    "        The same data structure as :obj:`tensor` with all tensors sent to the proper device.\n",
    "    \"\"\"\n",
    "    if isinstance(tensor, (list, tuple)):\n",
    "        return type(tensor)(send_to_device(t, device) for t in tensor)\n",
    "    elif isinstance(tensor, dict):\n",
    "        return type(tensor)({k: send_to_device(v, device) for k, v in tensor.items()})\n",
    "    elif not hasattr(tensor, \"to\"):\n",
    "        return tensor\n",
    "    return tensor.to(device)\n",
    "\n",
    "\n",
    "class ForeverDataIterator:\n",
    "    r\"\"\"A data iterator that will never stop producing data\"\"\"\n",
    "\n",
    "    def __init__(self, data_loader: DataLoader, device=None):\n",
    "        self.data_loader = data_loader\n",
    "        self.iter = iter(self.data_loader)\n",
    "        self.device = device\n",
    "\n",
    "    def __next__(self):\n",
    "        try:\n",
    "            data = next(self.iter)\n",
    "            if self.device is not None:\n",
    "                data = send_to_device(data, self.device)\n",
    "        except StopIteration:\n",
    "            self.iter = iter(self.data_loader)\n",
    "            data = next(self.iter)\n",
    "            if self.device is not None:\n",
    "                data = send_to_device(data, self.device)\n",
    "        return data\n",
    "\n",
    "    def __len__(self):\n",
    "        return len(self.data_loader)\n",
    "\n",
    "\n",
    "def entropy(predictions: torch.Tensor, reduction='none') -> torch.Tensor:\n",
    "    r\"\"\"Entropy of prediction.\n",
    "    The definition is:\n",
    "\n",
    "    .. math::\n",
    "        entropy(p) = - \\sum_{c=1}^C p_c \\log p_c\n",
    "\n",
    "    where C is number of classes.\n",
    "\n",
    "    Args:\n",
    "        predictions (tensor): Classifier predictions. Expected to contain raw, normalized scores for each class\n",
    "        reduction (str, optional): Specifies the reduction to apply to the output:\n",
    "          ``'none'`` | ``'mean'``. ``'none'``: no reduction will be applied,\n",
    "          ``'mean'``: the sum of the output will be divided by the number of\n",
    "          elements in the output. Default: ``'mean'``\n",
    "\n",
    "    Shape:\n",
    "        - predictions: :math:`(minibatch, C)` where C means the number of classes.\n",
    "        - Output: :math:`(minibatch, )` by default. If :attr:`reduction` is ``'mean'``, then scalar.\n",
    "    \"\"\"\n",
    "    epsilon = 1e-5\n",
    "    H = -predictions * torch.log(predictions + epsilon)\n",
    "    H = H.sum(dim=1)\n",
    "    if reduction == 'mean':\n",
    "        return H.mean()\n",
    "    else:\n",
    "        return H\n",
    "\n",
    "\n",
    "\n",
    "class MinimumClassConfusionLoss(nn.Module):\n",
    "    r\"\"\"\n",
    "    Minimum Class Confusion loss minimizes the class confusion in the target predictions.\n",
    "\n",
    "    You can see more details in `Minimum Class Confusion for Versatile Domain Adaptation (ECCV 2020) <https://arxiv.org/abs/1912.03699>`_\n",
    "\n",
    "    Args:\n",
    "        temperature (float) : The temperature for rescaling, the prediction will shrink to vanilla softmax if\n",
    "          temperature is 1.0.\n",
    "\n",
    "    .. note::\n",
    "        Make sure that temperature is larger than 0.\n",
    "\n",
    "    Inputs: g_t\n",
    "        - g_t (tensor): unnormalized classifier predictions on target domain, :math:`g^t`\n",
    "\n",
    "    Shape:\n",
    "        - g_t: :math:`(minibatch, C)` where C means the number of classes.\n",
    "        - Output: scalar.\n",
    "\n",
    "    Examples::\n",
    "        >>> temperature = 2.0\n",
    "        >>> loss = MinimumClassConfusionLoss(temperature)\n",
    "        >>> # logits output from target domain\n",
    "        >>> g_t = torch.randn(batch_size, num_classes)\n",
    "        >>> output = loss(g_t)\n",
    "\n",
    "    MCC can also serve as a regularizer for existing methods.\n",
    "    Examples::\n",
    "        >>> from dalib.modules.domain_discriminator import DomainDiscriminator\n",
    "        >>> num_classes = 2\n",
    "        >>> feature_dim = 1024\n",
    "        >>> batch_size = 10\n",
    "        >>> temperature = 2.0\n",
    "        >>> discriminator = DomainDiscriminator(in_feature=feature_dim, hidden_size=1024)\n",
    "        >>> cdan_loss = ConditionalDomainAdversarialLoss(discriminator, reduction='mean')\n",
    "        >>> mcc_loss = MinimumClassConfusionLoss(temperature)\n",
    "        >>> # features from source domain and target domain\n",
    "        >>> f_s, f_t = torch.randn(batch_size, feature_dim), torch.randn(batch_size, feature_dim)\n",
    "        >>> # logits output from source domain adn target domain\n",
    "        >>> g_s, g_t = torch.randn(batch_size, num_classes), torch.randn(batch_size, num_classes)\n",
    "        >>> total_loss = cdan_loss(g_s, f_s, g_t, f_t) + mcc_loss(g_t)\n",
    "    \"\"\"\n",
    "\n",
    "    def __init__(self, temperature: float):\n",
    "        super(MinimumClassConfusionLoss, self).__init__()\n",
    "        self.temperature = temperature\n",
    "\n",
    "    def forward(self, logits: torch.Tensor) -> torch.Tensor:\n",
    "        batch_size, num_classes = logits.shape\n",
    "        predictions = F.softmax(logits / self.temperature, dim=1)  # batch_size x num_classes\n",
    "        entropy_weight = entropy(predictions).detach()\n",
    "        entropy_weight = 1 + torch.exp(-entropy_weight)\n",
    "        entropy_weight = (batch_size * entropy_weight / torch.sum(entropy_weight)).unsqueeze(dim=1)  # batch_size x 1\n",
    "        class_confusion_matrix = torch.mm((predictions * entropy_weight).transpose(1, 0), predictions) # num_classes x num_classes\n",
    "        class_confusion_matrix = class_confusion_matrix / torch.sum(class_confusion_matrix, dim=1)\n",
    "        mcc_loss = (torch.sum(class_confusion_matrix) - torch.trace(class_confusion_matrix)) / num_classes\n",
    "        return mcc_loss"
   ]
  },
  {
   "cell_type": "markdown",
   "id": "67f44dc4-acf4-43e9-946c-4e293983ec0d",
   "metadata": {},
   "source": [
    "# Seed"
   ]
  },
  {
   "cell_type": "code",
   "execution_count": 7,
   "id": "48443325-7a07-4502-a351-763911467b4b",
   "metadata": {},
   "outputs": [],
   "source": [
    "def set_random_seed(random_seed, args=None):\n",
    "    \"\"\" set_random_seed(random_seed, args=None)\n",
    "    \n",
    "    Set the random_seed for numpy, python, and cudnn\n",
    "    \n",
    "    input\n",
    "    -----\n",
    "      random_seed: integer random seed\n",
    "      args: argue parser\n",
    "    \"\"\"\n",
    "    \n",
    "    # initialization                                       \n",
    "    torch.manual_seed(random_seed)\n",
    "    random.seed(random_seed)\n",
    "    np.random.seed(random_seed)\n",
    "    os.environ['PYTHONHASHSEED'] = str(random_seed)\n",
    "\n",
    "    #For torch.backends.cudnn.deterministic\n",
    "    #Note: this default configuration may result in RuntimeError\n",
    "    #see https://pytorch.org/docs/stable/notes/randomness.html    \n",
    "    if args is None:\n",
    "        cudnn_deterministic = True\n",
    "        cudnn_benchmark = False\n",
    "    else:\n",
    "        cudnn_deterministic = args.cudnn_deterministic_toggle\n",
    "        cudnn_benchmark = args.cudnn_benchmark_toggle\n",
    "    \n",
    "        if not cudnn_deterministic:\n",
    "            print(\"cudnn_deterministic set to False\")\n",
    "        if cudnn_benchmark:\n",
    "            print(\"cudnn_benchmark set to True\")\n",
    "    \n",
    "    if torch.cuda.is_available():\n",
    "        torch.cuda.manual_seed_all(random_seed)\n",
    "        torch.backends.cudnn.deterministic = cudnn_deterministic\n",
    "        torch.backends.cudnn.benchmark = cudnn_benchmark\n",
    "    return"
   ]
  },
  {
   "cell_type": "markdown",
   "id": "99e5c4d0-927a-41a5-899d-1d35767d7a12",
   "metadata": {},
   "source": [
    "# Metrics"
   ]
  },
  {
   "cell_type": "code",
   "execution_count": 8,
   "id": "d127ff40-f591-4850-a107-2995665f6a56",
   "metadata": {},
   "outputs": [],
   "source": [
    "def expected_calibration_error(y_true, y_prob, n_bins=10):\n",
    "    prob_true, prob_pred = calibration_curve(y_true, y_prob, n_bins=n_bins, strategy='uniform')\n",
    "    bin_totals = np.histogram(y_prob, bins=np.linspace(0, 1, n_bins + 1), density=False)[0]\n",
    "    non_empty_bins = bin_totals > 0\n",
    "    bin_weights = bin_totals / len(y_prob)\n",
    "    bin_weights = bin_weights[non_empty_bins]\n",
    "    prob_true = prob_true[:len(bin_weights)]\n",
    "    prob_pred = prob_pred[:len(bin_weights)]\n",
    "    ece = np.sum(bin_weights * np.abs(prob_true - prob_pred))\n",
    "    return ece\n",
    "    \n",
    "def auc_brier_ece(answer_df, submission_df):\n",
    "    # Check for missing values in submission_df\n",
    "    if submission_df.isnull().values.any():\n",
    "        raise ValueError(\"The submission dataframe contains missing values.\")\n",
    "\n",
    "\n",
    "    # Check if the number and names of columns are the same in both dataframes\n",
    "    if len(answer_df.columns) != len(submission_df.columns) or not all(answer_df.columns == submission_df.columns):\n",
    "        raise ValueError(\"The columns of the answer and submission dataframes do not match.\")\n",
    "        \n",
    "    submission_df = submission_df[submission_df.iloc[:, 0].isin(answer_df.iloc[:, 0])]\n",
    "    submission_df.index = range(submission_df.shape[0])\n",
    "    \n",
    "    # Calculate AUC for each class\n",
    "    auc_scores = []\n",
    "    for column in answer_df.columns[1:]:\n",
    "        y_true = answer_df[column]\n",
    "        y_scores = submission_df[column]\n",
    "        auc = roc_auc_score(y_true, y_scores)\n",
    "        auc_scores.append(auc)\n",
    "\n",
    "\n",
    "    # Calculate mean AUC\n",
    "    mean_auc = np.mean(auc_scores)\n",
    "\n",
    "\n",
    "    brier_scores = []\n",
    "    ece_scores = []\n",
    "    \n",
    "    # Calculate Brier Score and ECE for each class\n",
    "    for column in answer_df.columns[1:]:\n",
    "        y_true = answer_df[column].values\n",
    "        y_prob = submission_df[column].values\n",
    "        \n",
    "        # Brier Score\n",
    "        brier = mean_squared_error(y_true, y_prob)\n",
    "        brier_scores.append(brier)\n",
    "        \n",
    "        # ECE\n",
    "        ece = expected_calibration_error(y_true, y_prob)\n",
    "        ece_scores.append(ece)\n",
    "    \n",
    "    # Calculate mean Brier Score and mean ECE\n",
    "    mean_brier = np.mean(brier_scores)\n",
    "    mean_ece = np.mean(ece_scores)\n",
    "    \n",
    "    # Calculate combined score\n",
    "    combined_score = 0.5 * (1 - mean_auc) + 0.25 * mean_brier + 0.25 * mean_ece\n",
    "    \n",
    "    return combined_score"
   ]
  },
  {
   "cell_type": "markdown",
   "id": "89010705-cca9-4480-9a00-a524664440f0",
   "metadata": {},
   "source": [
    "# Main"
   ]
  },
  {
   "cell_type": "code",
   "execution_count": 9,
   "id": "9a632e17-5bb0-4a5b-a45a-0e98407b6a79",
   "metadata": {},
   "outputs": [],
   "source": [
    "def produce_evaluation_file(\n",
    "    data_loader: DataLoader,\n",
    "    model,\n",
    "    device: torch.device,\n",
    "    id):\n",
    "    \"\"\"Perform evaluation and save the score to a file\"\"\"\n",
    "    model.eval()\n",
    "\n",
    "    predictions = []\n",
    "    trues = []\n",
    "    with torch.no_grad():\n",
    "        for batch_x, batch_y in tqdm(data_loader, leave=False):\n",
    "            batch_x = batch_x.to(device)\n",
    "            batch_out = torch.sigmoid(model(batch_x)[0]).cpu().detach().numpy()\n",
    "            # add outputs\n",
    "            predictions += batch_out.tolist()\n",
    "            trues += batch_y.numpy().tolist()\n",
    "    predictions = np.array(predictions)\n",
    "    trues = np.array(trues)\n",
    "    sub = pd.DataFrame({'id':id,\n",
    "                  'fake':predictions[:,0],\n",
    "                  'real':predictions[:,1]})\n",
    "\n",
    "    ans = pd.DataFrame({'id':id,\n",
    "                  'fake':trues[:,0],\n",
    "                  'real':trues[:,1]})\n",
    "\n",
    "    combine_score = auc_brier_ece(ans, sub)\n",
    "    return combine_score\n",
    "\n",
    "def inference(data_loader, model, device, save_path):\n",
    "    model.to(device)\n",
    "    model.eval()\n",
    "    predictions = []\n",
    "    with torch.no_grad():\n",
    "        for features in tqdm(iter(data_loader)):\n",
    "            features = features.to(device)\n",
    "            \n",
    "            probs = torch.sigmoid(model(features)[0])\n",
    "            \n",
    "            probs  = probs.cpu().detach().numpy()\n",
    "            predictions += probs.tolist()\n",
    "    submit = pd.read_csv('./sample_submission.csv')\n",
    "    submit.iloc[:, 1:] = predictions\n",
    "    submit.to_csv(save_path, index=False)\n",
    "    \n",
    "def label_smoothing(labels, smoothing=0.1):\n",
    "\n",
    "    assert 0 <= smoothing < 1\n",
    "    with torch.no_grad():\n",
    "        smoothed_labels = labels * (1 - smoothing) + smoothing / 2\n",
    "        \n",
    "    return smoothed_labels\n",
    "\n",
    "def train(train_source_iter: ForeverDataIterator, train_target_iter: ForeverDataIterator, model,\n",
    "          domain_adv: ConditionalDomainAdversarialLoss,optimizer, ad_optimizer,\n",
    "          lr_scheduler: LambdaLR, lr_scheduler_ad,\n",
    "          epoch: int, args: argparse.Namespace):\n",
    "    # switch to train mode\n",
    "    model.train()\n",
    "    domain_adv.train()\n",
    "    criterion = nn.BCEWithLogitsLoss()\n",
    "    total_cls_loss = 0\n",
    "    total_transfer_loss = 0\n",
    "    total_loss = 0\n",
    "    for i in tqdm(range(args.iters_per_epoch)):\n",
    "        x_s, labels_s = next(train_source_iter)\n",
    "        x_t= next(train_target_iter)\n",
    "\n",
    "        x_s = x_s.to(device)\n",
    "        x_t = x_t.to(device)\n",
    "        labels_s = label_smoothing(labels_s).to(device)\n",
    "\n",
    "        # measure data loading time\n",
    "        optimizer.zero_grad()\n",
    "        ad_optimizer.zero_grad()\n",
    "\n",
    "        # compute task loss for first step\n",
    "        x = torch.cat((x_s, x_t), dim=0)\n",
    "        y, f = model(x)\n",
    "        y_s, y_t = y.chunk(2, dim=0)\n",
    "        f_s, f_t = f.chunk(2, dim=0)\n",
    "        cls_loss = criterion(y_s, labels_s)\n",
    "        loss = cls_loss \n",
    "        loss.backward()\n",
    "\n",
    "        # Calculate ϵ̂ (w) and add it to the weights\n",
    "        optimizer.first_step(zero_grad=True)\n",
    "\n",
    "        # Calculate task loss and domain loss\n",
    "        y, f = model(x)\n",
    "        y_s, y_t = y.chunk(2, dim=0)\n",
    "        f_s, f_t = f.chunk(2, dim=0)\n",
    "\n",
    "        cls_loss = criterion(y_s, labels_s)\n",
    "        transfer_loss = domain_adv(y_s, f_s, y_t, f_t)\n",
    "        loss = cls_loss + transfer_loss * 1.\n",
    "        \n",
    "        total_cls_loss += cls_loss\n",
    "        total_transfer_loss += transfer_loss\n",
    "        total_loss += loss\n",
    "        \n",
    "        loss.backward()\n",
    "        # Update parameters of domain classifier\n",
    "        ad_optimizer.step()\n",
    "        # Update parameters (Sharpness-Aware update)\n",
    "        optimizer.second_step(zero_grad=True)\n",
    "    lr_scheduler.step(total_cls_loss)\n",
    "    lr_scheduler_ad.step(total_transfer_loss)\n",
    "\n",
    "    return total_cls_loss, total_transfer_loss, total_loss"
   ]
  },
  {
   "cell_type": "code",
   "execution_count": 10,
   "id": "55443bd9-edb5-4a18-a523-36fa0884cc05",
   "metadata": {},
   "outputs": [],
   "source": [
    "\"\"\"\n",
    "@author: Junguang Jiang\n",
    "@contact: JiangJunguang1123@outlook.com\n",
    "\"\"\"\n",
    "from typing import List, Dict\n",
    "import torch.nn as nn\n",
    "\n",
    "__all__ = ['DomainDiscriminator']\n",
    "\n",
    "\n",
    "class DomainDiscriminator(nn.Sequential):\n",
    "    r\"\"\"Domain discriminator model from\n",
    "    `Domain-Adversarial Training of Neural Networks (ICML 2015) <https://arxiv.org/abs/1505.07818>`_\n",
    "\n",
    "    Distinguish whether the input features come from the source domain or the target domain.\n",
    "    The source domain label is 1 and the target domain label is 0.\n",
    "\n",
    "    Args:\n",
    "        in_feature (int): dimension of the input feature\n",
    "        hidden_size (int): dimension of the hidden features\n",
    "        batch_norm (bool): whether use :class:`~torch.nn.BatchNorm1d`.\n",
    "            Use :class:`~torch.nn.Dropout` if ``batch_norm`` is False. Default: True.\n",
    "\n",
    "    Shape:\n",
    "        - Inputs: (minibatch, `in_feature`)\n",
    "        - Outputs: :math:`(minibatch, 1)`\n",
    "    \"\"\"\n",
    "\n",
    "    def __init__(self, in_feature: int, hidden_size: int, batch_norm=True):\n",
    "        if batch_norm:\n",
    "            super(DomainDiscriminator, self).__init__(\n",
    "                nn.Linear(in_feature, hidden_size),\n",
    "                nn.BatchNorm1d(hidden_size),\n",
    "                nn.ReLU(),\n",
    "                nn.Linear(hidden_size, hidden_size),\n",
    "                nn.BatchNorm1d(hidden_size),\n",
    "                nn.ReLU(),\n",
    "                nn.Linear(hidden_size, 1),\n",
    "                nn.Sigmoid()\n",
    "            )\n",
    "        else:\n",
    "            super(DomainDiscriminator, self).__init__(\n",
    "                nn.Linear(in_feature, hidden_size),\n",
    "                nn.ReLU(inplace=True),\n",
    "                nn.Dropout(0.5),\n",
    "                nn.Linear(hidden_size, hidden_size),\n",
    "                nn.ReLU(inplace=True),\n",
    "                nn.Dropout(0.5),\n",
    "                nn.Linear(hidden_size, 1),\n",
    "                nn.Sigmoid()\n",
    "            )\n",
    "\n",
    "    def get_parameters(self) -> List[Dict]:\n",
    "        return [{\"params\": self.parameters(), \"lr\": 1.}]"
   ]
  },
  {
   "cell_type": "code",
   "execution_count": 11,
   "id": "4da08fd0",
   "metadata": {
    "scrolled": true
   },
   "outputs": [
    {
     "name": "stdout",
     "output_type": "stream",
     "text": [
      "Device: cuda\n",
      "nb_params: 297866\n"
     ]
    },
    {
     "name": "stderr",
     "output_type": "stream",
     "text": [
      "\u001b[34m\u001b[1mwandb\u001b[0m: Currently logged in as: \u001b[33mbeok\u001b[0m (\u001b[33mbeokay\u001b[0m). Use \u001b[1m`wandb login --relogin`\u001b[0m to force relogin\n"
     ]
    },
    {
     "data": {
      "text/html": [
       "wandb version 0.17.4 is available!  To upgrade, please run:\n",
       " $ pip install wandb --upgrade"
      ],
      "text/plain": [
       "<IPython.core.display.HTML object>"
      ]
     },
     "metadata": {},
     "output_type": "display_data"
    },
    {
     "data": {
      "text/html": [
       "Tracking run with wandb version 0.17.3"
      ],
      "text/plain": [
       "<IPython.core.display.HTML object>"
      ]
     },
     "metadata": {},
     "output_type": "display_data"
    },
    {
     "data": {
      "text/html": [
       "Run data is saved locally in <code>/home/ubuntu/Desktop/ai/wandb/run-20240716_112001-wzgfqlcd</code>"
      ],
      "text/plain": [
       "<IPython.core.display.HTML object>"
      ]
     },
     "metadata": {},
     "output_type": "display_data"
    },
    {
     "data": {
      "text/html": [
       "Syncing run <strong><a href='https://wandb.ai/beokay/FOLD_ADAM_BEST/runs/wzgfqlcd' target=\"_blank\">fold1</a></strong> to <a href='https://wandb.ai/beokay/FOLD_ADAM_BEST' target=\"_blank\">Weights & Biases</a> (<a href='https://wandb.me/run' target=\"_blank\">docs</a>)<br/>"
      ],
      "text/plain": [
       "<IPython.core.display.HTML object>"
      ]
     },
     "metadata": {},
     "output_type": "display_data"
    },
    {
     "data": {
      "text/html": [
       " View project at <a href='https://wandb.ai/beokay/FOLD_ADAM_BEST' target=\"_blank\">https://wandb.ai/beokay/FOLD_ADAM_BEST</a>"
      ],
      "text/plain": [
       "<IPython.core.display.HTML object>"
      ]
     },
     "metadata": {},
     "output_type": "display_data"
    },
    {
     "data": {
      "text/html": [
       " View run at <a href='https://wandb.ai/beokay/FOLD_ADAM_BEST/runs/wzgfqlcd' target=\"_blank\">https://wandb.ai/beokay/FOLD_ADAM_BEST/runs/wzgfqlcd</a>"
      ],
      "text/plain": [
       "<IPython.core.display.HTML object>"
      ]
     },
     "metadata": {},
     "output_type": "display_data"
    },
    {
     "data": {
      "application/vnd.jupyter.widget-view+json": {
       "model_id": "708b7eb0f75a43c0ab14106e09c7ec84",
       "version_major": 2,
       "version_minor": 0
      },
      "text/plain": [
       "  0%|          | 0/1000 [00:00<?, ?it/s]"
      ]
     },
     "metadata": {},
     "output_type": "display_data"
    },
    {
     "data": {
      "application/vnd.jupyter.widget-view+json": {
       "model_id": "",
       "version_major": 2,
       "version_minor": 0
      },
      "text/plain": [
       "  0%|          | 0/1386 [00:00<?, ?it/s]"
      ]
     },
     "metadata": {},
     "output_type": "display_data"
    },
    {
     "name": "stdout",
     "output_type": "stream",
     "text": [
      "tensor([[0.5633, 0.8133],\n",
      "        [0.6816, 0.7618],\n",
      "        [0.7358, 0.6186],\n",
      "        [0.6748, 0.7562],\n",
      "        [0.7405, 0.5041],\n",
      "        [0.6404, 0.6905],\n",
      "        [0.6408, 0.8221],\n",
      "        [0.7201, 0.7001]], device='cuda:0', grad_fn=<SigmoidBackward0>)\n",
      "Epoch:0, combine_score:0.168796, cls_loss:660.494202, transfer_loss:450.695099, total_loss:1111.190186\n",
      "\n"
     ]
    },
    {
     "data": {
      "application/vnd.jupyter.widget-view+json": {
       "model_id": "b9b61dd42dbd42ad88f9679226458908",
       "version_major": 2,
       "version_minor": 0
      },
      "text/plain": [
       "  0%|          | 0/1000 [00:00<?, ?it/s]"
      ]
     },
     "metadata": {},
     "output_type": "display_data"
    },
    {
     "data": {
      "application/vnd.jupyter.widget-view+json": {
       "model_id": "",
       "version_major": 2,
       "version_minor": 0
      },
      "text/plain": [
       "  0%|          | 0/1386 [00:00<?, ?it/s]"
      ]
     },
     "metadata": {},
     "output_type": "display_data"
    },
    {
     "name": "stdout",
     "output_type": "stream",
     "text": [
      "tensor([[0.3871, 0.8972],\n",
      "        [0.6845, 0.7018],\n",
      "        [0.8297, 0.3749],\n",
      "        [0.5823, 0.7650],\n",
      "        [0.7658, 0.5091],\n",
      "        [0.5714, 0.7558],\n",
      "        [0.6317, 0.7690],\n",
      "        [0.6917, 0.6100]], device='cuda:0', grad_fn=<SigmoidBackward0>)\n",
      "Epoch:1, combine_score:0.136310, cls_loss:602.522095, transfer_loss:644.060120, total_loss:1246.582397\n",
      "\n"
     ]
    },
    {
     "data": {
      "application/vnd.jupyter.widget-view+json": {
       "model_id": "28e9b101160a4311b55bf95fac14fe7b",
       "version_major": 2,
       "version_minor": 0
      },
      "text/plain": [
       "  0%|          | 0/1000 [00:00<?, ?it/s]"
      ]
     },
     "metadata": {},
     "output_type": "display_data"
    },
    {
     "data": {
      "application/vnd.jupyter.widget-view+json": {
       "model_id": "",
       "version_major": 2,
       "version_minor": 0
      },
      "text/plain": [
       "  0%|          | 0/1386 [00:00<?, ?it/s]"
      ]
     },
     "metadata": {},
     "output_type": "display_data"
    },
    {
     "name": "stdout",
     "output_type": "stream",
     "text": [
      "tensor([[0.4146, 0.8933],\n",
      "        [0.5979, 0.7379],\n",
      "        [0.9170, 0.2648],\n",
      "        [0.6937, 0.7510],\n",
      "        [0.8278, 0.5043],\n",
      "        [0.6101, 0.7852],\n",
      "        [0.8122, 0.5210],\n",
      "        [0.5146, 0.8047]], device='cuda:0', grad_fn=<SigmoidBackward0>)\n",
      "Epoch:2, combine_score:0.108135, cls_loss:563.387390, transfer_loss:666.877441, total_loss:1230.262695\n",
      "\n"
     ]
    },
    {
     "data": {
      "application/vnd.jupyter.widget-view+json": {
       "model_id": "fa17dd2dc3244d36a0f50707be208c53",
       "version_major": 2,
       "version_minor": 0
      },
      "text/plain": [
       "  0%|          | 0/1000 [00:00<?, ?it/s]"
      ]
     },
     "metadata": {},
     "output_type": "display_data"
    },
    {
     "data": {
      "application/vnd.jupyter.widget-view+json": {
       "model_id": "",
       "version_major": 2,
       "version_minor": 0
      },
      "text/plain": [
       "  0%|          | 0/1386 [00:00<?, ?it/s]"
      ]
     },
     "metadata": {},
     "output_type": "display_data"
    },
    {
     "name": "stdout",
     "output_type": "stream",
     "text": [
      "tensor([[0.2900, 0.9532],\n",
      "        [0.5619, 0.7827],\n",
      "        [0.9498, 0.2275],\n",
      "        [0.5848, 0.7643],\n",
      "        [0.7840, 0.5951],\n",
      "        [0.7526, 0.7142],\n",
      "        [0.8279, 0.5129],\n",
      "        [0.3678, 0.9004]], device='cuda:0', grad_fn=<SigmoidBackward0>)\n",
      "Epoch:3, combine_score:0.094845, cls_loss:517.378296, transfer_loss:679.614258, total_loss:1196.992554\n",
      "\n"
     ]
    },
    {
     "data": {
      "application/vnd.jupyter.widget-view+json": {
       "model_id": "77a3fde8fca04bad906b723a2def545c",
       "version_major": 2,
       "version_minor": 0
      },
      "text/plain": [
       "  0%|          | 0/1000 [00:00<?, ?it/s]"
      ]
     },
     "metadata": {},
     "output_type": "display_data"
    },
    {
     "data": {
      "application/vnd.jupyter.widget-view+json": {
       "model_id": "",
       "version_major": 2,
       "version_minor": 0
      },
      "text/plain": [
       "  0%|          | 0/1386 [00:00<?, ?it/s]"
      ]
     },
     "metadata": {},
     "output_type": "display_data"
    },
    {
     "name": "stdout",
     "output_type": "stream",
     "text": [
      "tensor([[0.3579, 0.9257],\n",
      "        [0.6040, 0.7518],\n",
      "        [0.9562, 0.2321],\n",
      "        [0.6455, 0.7749],\n",
      "        [0.7836, 0.6038],\n",
      "        [0.7265, 0.7547],\n",
      "        [0.8546, 0.5269],\n",
      "        [0.4443, 0.8678]], device='cuda:0', grad_fn=<SigmoidBackward0>)\n",
      "Epoch:4, combine_score:0.083612, cls_loss:495.264526, transfer_loss:686.152222, total_loss:1181.416138\n",
      "\n"
     ]
    },
    {
     "data": {
      "application/vnd.jupyter.widget-view+json": {
       "model_id": "93332a327d934b91b1f7c4f699d47b24",
       "version_major": 2,
       "version_minor": 0
      },
      "text/plain": [
       "  0%|          | 0/1000 [00:00<?, ?it/s]"
      ]
     },
     "metadata": {},
     "output_type": "display_data"
    },
    {
     "data": {
      "application/vnd.jupyter.widget-view+json": {
       "model_id": "",
       "version_major": 2,
       "version_minor": 0
      },
      "text/plain": [
       "  0%|          | 0/1386 [00:00<?, ?it/s]"
      ]
     },
     "metadata": {},
     "output_type": "display_data"
    },
    {
     "name": "stdout",
     "output_type": "stream",
     "text": [
      "tensor([[0.2467, 0.9309],\n",
      "        [0.7214, 0.7176],\n",
      "        [0.9577, 0.2191],\n",
      "        [0.6554, 0.8016],\n",
      "        [0.7740, 0.6751],\n",
      "        [0.7199, 0.7397],\n",
      "        [0.9106, 0.3971],\n",
      "        [0.3917, 0.9124]], device='cuda:0', grad_fn=<SigmoidBackward0>)\n",
      "Epoch:5, combine_score:0.079671, cls_loss:479.894226, transfer_loss:682.030029, total_loss:1161.924316\n",
      "\n"
     ]
    },
    {
     "data": {
      "application/vnd.jupyter.widget-view+json": {
       "model_id": "0368ff2e9f1e435395839956f1c7de74",
       "version_major": 2,
       "version_minor": 0
      },
      "text/plain": [
       "  0%|          | 0/1000 [00:00<?, ?it/s]"
      ]
     },
     "metadata": {},
     "output_type": "display_data"
    },
    {
     "data": {
      "application/vnd.jupyter.widget-view+json": {
       "model_id": "",
       "version_major": 2,
       "version_minor": 0
      },
      "text/plain": [
       "  0%|          | 0/1386 [00:00<?, ?it/s]"
      ]
     },
     "metadata": {},
     "output_type": "display_data"
    },
    {
     "name": "stdout",
     "output_type": "stream",
     "text": [
      "tensor([[0.1794, 0.9463],\n",
      "        [0.7722, 0.7143],\n",
      "        [0.9637, 0.2213],\n",
      "        [0.6401, 0.8439],\n",
      "        [0.7678, 0.6813],\n",
      "        [0.7062, 0.7842],\n",
      "        [0.9123, 0.4622],\n",
      "        [0.3231, 0.9213]], device='cuda:0', grad_fn=<SigmoidBackward0>)\n",
      "Epoch:6, combine_score:0.071627, cls_loss:462.113800, transfer_loss:685.899658, total_loss:1148.012451\n",
      "\n"
     ]
    },
    {
     "data": {
      "application/vnd.jupyter.widget-view+json": {
       "model_id": "0ac6eecced6346629fbc1648181f05d5",
       "version_major": 2,
       "version_minor": 0
      },
      "text/plain": [
       "  0%|          | 0/1000 [00:00<?, ?it/s]"
      ]
     },
     "metadata": {},
     "output_type": "display_data"
    },
    {
     "data": {
      "application/vnd.jupyter.widget-view+json": {
       "model_id": "",
       "version_major": 2,
       "version_minor": 0
      },
      "text/plain": [
       "  0%|          | 0/1386 [00:00<?, ?it/s]"
      ]
     },
     "metadata": {},
     "output_type": "display_data"
    },
    {
     "name": "stdout",
     "output_type": "stream",
     "text": [
      "tensor([[0.1416, 0.9561],\n",
      "        [0.6576, 0.7878],\n",
      "        [0.9649, 0.1936],\n",
      "        [0.4985, 0.8887],\n",
      "        [0.7665, 0.7192],\n",
      "        [0.7000, 0.8345],\n",
      "        [0.9016, 0.4838],\n",
      "        [0.1713, 0.9227]], device='cuda:0', grad_fn=<SigmoidBackward0>)\n",
      "Epoch:7, combine_score:0.072287, cls_loss:447.212311, transfer_loss:686.884766, total_loss:1134.097656\n",
      "\n"
     ]
    },
    {
     "data": {
      "application/vnd.jupyter.widget-view+json": {
       "model_id": "7b87da99d810405c98c544c1defe150e",
       "version_major": 2,
       "version_minor": 0
      },
      "text/plain": [
       "  0%|          | 0/1000 [00:00<?, ?it/s]"
      ]
     },
     "metadata": {},
     "output_type": "display_data"
    },
    {
     "data": {
      "application/vnd.jupyter.widget-view+json": {
       "model_id": "",
       "version_major": 2,
       "version_minor": 0
      },
      "text/plain": [
       "  0%|          | 0/1386 [00:00<?, ?it/s]"
      ]
     },
     "metadata": {},
     "output_type": "display_data"
    },
    {
     "name": "stdout",
     "output_type": "stream",
     "text": [
      "tensor([[0.1810, 0.9383],\n",
      "        [0.8425, 0.7273],\n",
      "        [0.9542, 0.2269],\n",
      "        [0.7839, 0.8236],\n",
      "        [0.7766, 0.7340],\n",
      "        [0.8010, 0.7896],\n",
      "        [0.9270, 0.3935],\n",
      "        [0.1786, 0.9208]], device='cuda:0', grad_fn=<SigmoidBackward0>)\n",
      "Epoch:8, combine_score:0.061370, cls_loss:434.539551, transfer_loss:687.451538, total_loss:1121.991211\n",
      "\n"
     ]
    },
    {
     "data": {
      "application/vnd.jupyter.widget-view+json": {
       "model_id": "99401af7065b4b678329c8e85300d21a",
       "version_major": 2,
       "version_minor": 0
      },
      "text/plain": [
       "  0%|          | 0/1000 [00:00<?, ?it/s]"
      ]
     },
     "metadata": {},
     "output_type": "display_data"
    },
    {
     "data": {
      "application/vnd.jupyter.widget-view+json": {
       "model_id": "",
       "version_major": 2,
       "version_minor": 0
      },
      "text/plain": [
       "  0%|          | 0/1386 [00:00<?, ?it/s]"
      ]
     },
     "metadata": {},
     "output_type": "display_data"
    },
    {
     "name": "stdout",
     "output_type": "stream",
     "text": [
      "tensor([[0.2921, 0.9174],\n",
      "        [0.9027, 0.6251],\n",
      "        [0.9720, 0.0891],\n",
      "        [0.8998, 0.6974],\n",
      "        [0.9087, 0.4722],\n",
      "        [0.8483, 0.7658],\n",
      "        [0.9529, 0.1995],\n",
      "        [0.5614, 0.8472]], device='cuda:0', grad_fn=<SigmoidBackward0>)\n",
      "Epoch:9, combine_score:0.063739, cls_loss:425.545166, transfer_loss:684.965698, total_loss:1110.510742\n",
      "\n"
     ]
    },
    {
     "data": {
      "application/vnd.jupyter.widget-view+json": {
       "model_id": "15bb9677ba42457e825073a497e791d3",
       "version_major": 2,
       "version_minor": 0
      },
      "text/plain": [
       "  0%|          | 0/1000 [00:00<?, ?it/s]"
      ]
     },
     "metadata": {},
     "output_type": "display_data"
    },
    {
     "data": {
      "application/vnd.jupyter.widget-view+json": {
       "model_id": "",
       "version_major": 2,
       "version_minor": 0
      },
      "text/plain": [
       "  0%|          | 0/1386 [00:00<?, ?it/s]"
      ]
     },
     "metadata": {},
     "output_type": "display_data"
    },
    {
     "name": "stdout",
     "output_type": "stream",
     "text": [
      "tensor([[0.1434, 0.9191],\n",
      "        [0.7927, 0.8045],\n",
      "        [0.9744, 0.0620],\n",
      "        [0.7425, 0.8473],\n",
      "        [0.8092, 0.7658],\n",
      "        [0.7407, 0.8202],\n",
      "        [0.9409, 0.2375],\n",
      "        [0.0868, 0.9046]], device='cuda:0', grad_fn=<SigmoidBackward0>)\n",
      "Epoch:10, combine_score:0.056816, cls_loss:416.868225, transfer_loss:688.649231, total_loss:1105.518433\n",
      "\n"
     ]
    },
    {
     "data": {
      "application/vnd.jupyter.widget-view+json": {
       "model_id": "decf59bb1739444f8728252c754b8eec",
       "version_major": 2,
       "version_minor": 0
      },
      "text/plain": [
       "  0%|          | 0/1000 [00:00<?, ?it/s]"
      ]
     },
     "metadata": {},
     "output_type": "display_data"
    },
    {
     "data": {
      "application/vnd.jupyter.widget-view+json": {
       "model_id": "",
       "version_major": 2,
       "version_minor": 0
      },
      "text/plain": [
       "  0%|          | 0/1386 [00:00<?, ?it/s]"
      ]
     },
     "metadata": {},
     "output_type": "display_data"
    },
    {
     "name": "stdout",
     "output_type": "stream",
     "text": [
      "tensor([[0.1637, 0.9149],\n",
      "        [0.8545, 0.8101],\n",
      "        [0.9654, 0.0883],\n",
      "        [0.8142, 0.8498],\n",
      "        [0.8988, 0.6245],\n",
      "        [0.7786, 0.8545],\n",
      "        [0.9382, 0.2704],\n",
      "        [0.3612, 0.8688]], device='cuda:0', grad_fn=<SigmoidBackward0>)\n",
      "Epoch:11, combine_score:0.052399, cls_loss:405.865906, transfer_loss:688.060547, total_loss:1093.926758\n",
      "\n"
     ]
    },
    {
     "data": {
      "application/vnd.jupyter.widget-view+json": {
       "model_id": "7557e3cf3b5a423bbafc1bf370bf2729",
       "version_major": 2,
       "version_minor": 0
      },
      "text/plain": [
       "  0%|          | 0/1000 [00:00<?, ?it/s]"
      ]
     },
     "metadata": {},
     "output_type": "display_data"
    },
    {
     "data": {
      "application/vnd.jupyter.widget-view+json": {
       "model_id": "",
       "version_major": 2,
       "version_minor": 0
      },
      "text/plain": [
       "  0%|          | 0/1386 [00:00<?, ?it/s]"
      ]
     },
     "metadata": {},
     "output_type": "display_data"
    },
    {
     "name": "stdout",
     "output_type": "stream",
     "text": [
      "tensor([[0.1156, 0.9119],\n",
      "        [0.7709, 0.8687],\n",
      "        [0.9591, 0.1066],\n",
      "        [0.8973, 0.7786],\n",
      "        [0.8918, 0.6951],\n",
      "        [0.8379, 0.8265],\n",
      "        [0.9241, 0.3230],\n",
      "        [0.4958, 0.8642]], device='cuda:0', grad_fn=<SigmoidBackward0>)\n",
      "Epoch:12, combine_score:0.050881, cls_loss:398.742310, transfer_loss:687.883667, total_loss:1086.626465\n",
      "\n"
     ]
    },
    {
     "data": {
      "application/vnd.jupyter.widget-view+json": {
       "model_id": "ef66e443756b455e9aca367bb5182a1f",
       "version_major": 2,
       "version_minor": 0
      },
      "text/plain": [
       "  0%|          | 0/1000 [00:00<?, ?it/s]"
      ]
     },
     "metadata": {},
     "output_type": "display_data"
    },
    {
     "data": {
      "application/vnd.jupyter.widget-view+json": {
       "model_id": "",
       "version_major": 2,
       "version_minor": 0
      },
      "text/plain": [
       "  0%|          | 0/1386 [00:00<?, ?it/s]"
      ]
     },
     "metadata": {},
     "output_type": "display_data"
    },
    {
     "name": "stdout",
     "output_type": "stream",
     "text": [
      "tensor([[0.0608, 0.9098],\n",
      "        [0.8787, 0.8059],\n",
      "        [0.9558, 0.0796],\n",
      "        [0.8252, 0.8707],\n",
      "        [0.8741, 0.7393],\n",
      "        [0.4187, 0.8550],\n",
      "        [0.9378, 0.1930],\n",
      "        [0.1515, 0.8812]], device='cuda:0', grad_fn=<SigmoidBackward0>)\n",
      "Epoch:13, combine_score:0.061329, cls_loss:394.833801, transfer_loss:688.327026, total_loss:1083.162109\n",
      "\n"
     ]
    },
    {
     "data": {
      "application/vnd.jupyter.widget-view+json": {
       "model_id": "294eb99ae5814f49b9c03e5fd4fa4744",
       "version_major": 2,
       "version_minor": 0
      },
      "text/plain": [
       "  0%|          | 0/1000 [00:00<?, ?it/s]"
      ]
     },
     "metadata": {},
     "output_type": "display_data"
    },
    {
     "data": {
      "application/vnd.jupyter.widget-view+json": {
       "model_id": "",
       "version_major": 2,
       "version_minor": 0
      },
      "text/plain": [
       "  0%|          | 0/1386 [00:00<?, ?it/s]"
      ]
     },
     "metadata": {},
     "output_type": "display_data"
    },
    {
     "name": "stdout",
     "output_type": "stream",
     "text": [
      "tensor([[0.1889, 0.8963],\n",
      "        [0.8775, 0.7734],\n",
      "        [0.9502, 0.0611],\n",
      "        [0.8746, 0.7594],\n",
      "        [0.9027, 0.5844],\n",
      "        [0.7010, 0.8480],\n",
      "        [0.9342, 0.1495],\n",
      "        [0.4349, 0.8563]], device='cuda:0', grad_fn=<SigmoidBackward0>)\n",
      "Epoch:14, combine_score:0.047363, cls_loss:382.488068, transfer_loss:687.155457, total_loss:1069.644653\n",
      "\n"
     ]
    },
    {
     "data": {
      "application/vnd.jupyter.widget-view+json": {
       "model_id": "53e5c4eac69d43f88bd3a1c49fd02017",
       "version_major": 2,
       "version_minor": 0
      },
      "text/plain": [
       "  0%|          | 0/1000 [00:00<?, ?it/s]"
      ]
     },
     "metadata": {},
     "output_type": "display_data"
    },
    {
     "data": {
      "application/vnd.jupyter.widget-view+json": {
       "model_id": "",
       "version_major": 2,
       "version_minor": 0
      },
      "text/plain": [
       "  0%|          | 0/1386 [00:00<?, ?it/s]"
      ]
     },
     "metadata": {},
     "output_type": "display_data"
    },
    {
     "name": "stdout",
     "output_type": "stream",
     "text": [
      "tensor([[0.3279, 0.8898],\n",
      "        [0.8492, 0.8232],\n",
      "        [0.9574, 0.0688],\n",
      "        [0.8877, 0.8110],\n",
      "        [0.9240, 0.5023],\n",
      "        [0.7858, 0.8330],\n",
      "        [0.9450, 0.1557],\n",
      "        [0.6164, 0.8410]], device='cuda:0', grad_fn=<SigmoidBackward0>)\n",
      "Epoch:15, combine_score:0.046664, cls_loss:385.409546, transfer_loss:688.949707, total_loss:1074.359131\n",
      "\n"
     ]
    },
    {
     "data": {
      "application/vnd.jupyter.widget-view+json": {
       "model_id": "8181a7c23c1e45c2ab569e9bf95cbc79",
       "version_major": 2,
       "version_minor": 0
      },
      "text/plain": [
       "  0%|          | 0/1000 [00:00<?, ?it/s]"
      ]
     },
     "metadata": {},
     "output_type": "display_data"
    },
    {
     "data": {
      "application/vnd.jupyter.widget-view+json": {
       "model_id": "",
       "version_major": 2,
       "version_minor": 0
      },
      "text/plain": [
       "  0%|          | 0/1386 [00:00<?, ?it/s]"
      ]
     },
     "metadata": {},
     "output_type": "display_data"
    },
    {
     "name": "stdout",
     "output_type": "stream",
     "text": [
      "tensor([[0.1424, 0.8995],\n",
      "        [0.8543, 0.8674],\n",
      "        [0.9476, 0.0776],\n",
      "        [0.7778, 0.8970],\n",
      "        [0.8993, 0.7312],\n",
      "        [0.6002, 0.8785],\n",
      "        [0.9268, 0.2999],\n",
      "        [0.4458, 0.8857]], device='cuda:0', grad_fn=<SigmoidBackward0>)\n",
      "Epoch:16, combine_score:0.043442, cls_loss:377.184143, transfer_loss:689.165833, total_loss:1066.350098\n",
      "\n"
     ]
    },
    {
     "data": {
      "application/vnd.jupyter.widget-view+json": {
       "model_id": "0d2638e1860f4791a0741adadc01c234",
       "version_major": 2,
       "version_minor": 0
      },
      "text/plain": [
       "  0%|          | 0/1000 [00:00<?, ?it/s]"
      ]
     },
     "metadata": {},
     "output_type": "display_data"
    },
    {
     "data": {
      "application/vnd.jupyter.widget-view+json": {
       "model_id": "",
       "version_major": 2,
       "version_minor": 0
      },
      "text/plain": [
       "  0%|          | 0/1386 [00:00<?, ?it/s]"
      ]
     },
     "metadata": {},
     "output_type": "display_data"
    },
    {
     "name": "stdout",
     "output_type": "stream",
     "text": [
      "tensor([[0.1325, 0.8940],\n",
      "        [0.9019, 0.8831],\n",
      "        [0.9478, 0.0632],\n",
      "        [0.6592, 0.9127],\n",
      "        [0.8394, 0.8593],\n",
      "        [0.4657, 0.8611],\n",
      "        [0.9309, 0.2365],\n",
      "        [0.0471, 0.9087]], device='cuda:0', grad_fn=<SigmoidBackward0>)\n",
      "Epoch:17, combine_score:0.062398, cls_loss:372.541290, transfer_loss:689.256653, total_loss:1061.798096\n",
      "\n"
     ]
    },
    {
     "data": {
      "application/vnd.jupyter.widget-view+json": {
       "model_id": "79bec96b364b44baa278c3257da1a075",
       "version_major": 2,
       "version_minor": 0
      },
      "text/plain": [
       "  0%|          | 0/1000 [00:00<?, ?it/s]"
      ]
     },
     "metadata": {},
     "output_type": "display_data"
    },
    {
     "data": {
      "application/vnd.jupyter.widget-view+json": {
       "model_id": "",
       "version_major": 2,
       "version_minor": 0
      },
      "text/plain": [
       "  0%|          | 0/1386 [00:00<?, ?it/s]"
      ]
     },
     "metadata": {},
     "output_type": "display_data"
    },
    {
     "name": "stdout",
     "output_type": "stream",
     "text": [
      "tensor([[0.3905, 0.8970],\n",
      "        [0.9136, 0.8198],\n",
      "        [0.9536, 0.0694],\n",
      "        [0.9001, 0.8548],\n",
      "        [0.9190, 0.7344],\n",
      "        [0.8822, 0.8539],\n",
      "        [0.9438, 0.1432],\n",
      "        [0.6664, 0.8732]], device='cuda:0', grad_fn=<SigmoidBackward0>)\n",
      "Epoch:18, combine_score:0.040672, cls_loss:369.691406, transfer_loss:691.535828, total_loss:1061.226807\n",
      "\n"
     ]
    },
    {
     "data": {
      "application/vnd.jupyter.widget-view+json": {
       "model_id": "1ddb6099e4f941069aab5541162425c9",
       "version_major": 2,
       "version_minor": 0
      },
      "text/plain": [
       "  0%|          | 0/1000 [00:00<?, ?it/s]"
      ]
     },
     "metadata": {},
     "output_type": "display_data"
    },
    {
     "data": {
      "application/vnd.jupyter.widget-view+json": {
       "model_id": "",
       "version_major": 2,
       "version_minor": 0
      },
      "text/plain": [
       "  0%|          | 0/1386 [00:00<?, ?it/s]"
      ]
     },
     "metadata": {},
     "output_type": "display_data"
    },
    {
     "name": "stdout",
     "output_type": "stream",
     "text": [
      "tensor([[0.1521, 0.9029],\n",
      "        [0.9042, 0.8703],\n",
      "        [0.9443, 0.0626],\n",
      "        [0.8032, 0.8934],\n",
      "        [0.9121, 0.7234],\n",
      "        [0.8798, 0.8781],\n",
      "        [0.9337, 0.2545],\n",
      "        [0.6555, 0.8750]], device='cuda:0', grad_fn=<SigmoidBackward0>)\n",
      "Epoch:19, combine_score:0.042394, cls_loss:366.612610, transfer_loss:689.038391, total_loss:1055.650024\n",
      "\n"
     ]
    },
    {
     "data": {
      "application/vnd.jupyter.widget-view+json": {
       "model_id": "de30cbafc6cc4d2fb003799ff181a3dd",
       "version_major": 2,
       "version_minor": 0
      },
      "text/plain": [
       "  0%|          | 0/1000 [00:00<?, ?it/s]"
      ]
     },
     "metadata": {},
     "output_type": "display_data"
    },
    {
     "data": {
      "application/vnd.jupyter.widget-view+json": {
       "model_id": "",
       "version_major": 2,
       "version_minor": 0
      },
      "text/plain": [
       "  0%|          | 0/1386 [00:00<?, ?it/s]"
      ]
     },
     "metadata": {},
     "output_type": "display_data"
    },
    {
     "name": "stdout",
     "output_type": "stream",
     "text": [
      "tensor([[0.2658, 0.9079],\n",
      "        [0.9042, 0.8787],\n",
      "        [0.9479, 0.0554],\n",
      "        [0.5797, 0.8861],\n",
      "        [0.8328, 0.8691],\n",
      "        [0.2918, 0.8805],\n",
      "        [0.9338, 0.1289],\n",
      "        [0.1191, 0.9108]], device='cuda:0', grad_fn=<SigmoidBackward0>)\n",
      "Epoch:20, combine_score:0.040398, cls_loss:362.939148, transfer_loss:690.026978, total_loss:1052.965454\n",
      "\n"
     ]
    },
    {
     "data": {
      "application/vnd.jupyter.widget-view+json": {
       "model_id": "69f4b13a02a64e0082c0ff868264f03a",
       "version_major": 2,
       "version_minor": 0
      },
      "text/plain": [
       "  0%|          | 0/1000 [00:00<?, ?it/s]"
      ]
     },
     "metadata": {},
     "output_type": "display_data"
    },
    {
     "data": {
      "application/vnd.jupyter.widget-view+json": {
       "model_id": "",
       "version_major": 2,
       "version_minor": 0
      },
      "text/plain": [
       "  0%|          | 0/1386 [00:00<?, ?it/s]"
      ]
     },
     "metadata": {},
     "output_type": "display_data"
    },
    {
     "name": "stdout",
     "output_type": "stream",
     "text": [
      "tensor([[0.1901, 0.8857],\n",
      "        [0.8892, 0.8712],\n",
      "        [0.9499, 0.0477],\n",
      "        [0.9184, 0.8131],\n",
      "        [0.9121, 0.7399],\n",
      "        [0.7484, 0.8742],\n",
      "        [0.9399, 0.1827],\n",
      "        [0.7368, 0.8505]], device='cuda:0', grad_fn=<SigmoidBackward0>)\n",
      "Epoch:21, combine_score:0.040055, cls_loss:357.903046, transfer_loss:691.465149, total_loss:1049.368530\n",
      "\n"
     ]
    },
    {
     "data": {
      "application/vnd.jupyter.widget-view+json": {
       "model_id": "f7bb8305295d4a1ebae6fed824e32901",
       "version_major": 2,
       "version_minor": 0
      },
      "text/plain": [
       "  0%|          | 0/1000 [00:00<?, ?it/s]"
      ]
     },
     "metadata": {},
     "output_type": "display_data"
    },
    {
     "data": {
      "application/vnd.jupyter.widget-view+json": {
       "model_id": "",
       "version_major": 2,
       "version_minor": 0
      },
      "text/plain": [
       "  0%|          | 0/1386 [00:00<?, ?it/s]"
      ]
     },
     "metadata": {},
     "output_type": "display_data"
    },
    {
     "name": "stdout",
     "output_type": "stream",
     "text": [
      "tensor([[0.1019, 0.8872],\n",
      "        [0.9161, 0.8096],\n",
      "        [0.9517, 0.0506],\n",
      "        [0.9044, 0.8695],\n",
      "        [0.8810, 0.8203],\n",
      "        [0.4636, 0.8626],\n",
      "        [0.9415, 0.1307],\n",
      "        [0.1281, 0.8856]], device='cuda:0', grad_fn=<SigmoidBackward0>)\n",
      "Epoch:22, combine_score:0.039525, cls_loss:356.736847, transfer_loss:689.946655, total_loss:1046.683472\n",
      "\n"
     ]
    },
    {
     "data": {
      "application/vnd.jupyter.widget-view+json": {
       "model_id": "f9f64b6558cf46f698c47b6cee703b87",
       "version_major": 2,
       "version_minor": 0
      },
      "text/plain": [
       "  0%|          | 0/1000 [00:00<?, ?it/s]"
      ]
     },
     "metadata": {},
     "output_type": "display_data"
    },
    {
     "data": {
      "application/vnd.jupyter.widget-view+json": {
       "model_id": "",
       "version_major": 2,
       "version_minor": 0
      },
      "text/plain": [
       "  0%|          | 0/1386 [00:00<?, ?it/s]"
      ]
     },
     "metadata": {},
     "output_type": "display_data"
    },
    {
     "name": "stdout",
     "output_type": "stream",
     "text": [
      "tensor([[0.3496, 0.8869],\n",
      "        [0.9229, 0.8289],\n",
      "        [0.9457, 0.0622],\n",
      "        [0.9184, 0.6263],\n",
      "        [0.9279, 0.5665],\n",
      "        [0.8968, 0.8626],\n",
      "        [0.9323, 0.1305],\n",
      "        [0.5616, 0.8681]], device='cuda:0', grad_fn=<SigmoidBackward0>)\n",
      "Epoch:23, combine_score:0.048791, cls_loss:354.478363, transfer_loss:689.001648, total_loss:1043.479858\n",
      "\n"
     ]
    },
    {
     "data": {
      "application/vnd.jupyter.widget-view+json": {
       "model_id": "10ba661267204faab6b325ee59616fc7",
       "version_major": 2,
       "version_minor": 0
      },
      "text/plain": [
       "  0%|          | 0/1000 [00:00<?, ?it/s]"
      ]
     },
     "metadata": {},
     "output_type": "display_data"
    },
    {
     "data": {
      "application/vnd.jupyter.widget-view+json": {
       "model_id": "",
       "version_major": 2,
       "version_minor": 0
      },
      "text/plain": [
       "  0%|          | 0/1386 [00:00<?, ?it/s]"
      ]
     },
     "metadata": {},
     "output_type": "display_data"
    },
    {
     "name": "stdout",
     "output_type": "stream",
     "text": [
      "tensor([[0.4107, 0.8790],\n",
      "        [0.9000, 0.8397],\n",
      "        [0.9435, 0.0639],\n",
      "        [0.9258, 0.8044],\n",
      "        [0.9077, 0.7437],\n",
      "        [0.8621, 0.8677],\n",
      "        [0.9434, 0.0891],\n",
      "        [0.1842, 0.8723]], device='cuda:0', grad_fn=<SigmoidBackward0>)\n",
      "Epoch:24, combine_score:0.038580, cls_loss:352.749573, transfer_loss:690.245911, total_loss:1042.994507\n",
      "\n"
     ]
    },
    {
     "data": {
      "application/vnd.jupyter.widget-view+json": {
       "model_id": "34af0e31bcf64a70af0e9759a4b4025c",
       "version_major": 2,
       "version_minor": 0
      },
      "text/plain": [
       "  0%|          | 0/1000 [00:00<?, ?it/s]"
      ]
     },
     "metadata": {},
     "output_type": "display_data"
    },
    {
     "data": {
      "application/vnd.jupyter.widget-view+json": {
       "model_id": "",
       "version_major": 2,
       "version_minor": 0
      },
      "text/plain": [
       "  0%|          | 0/1386 [00:00<?, ?it/s]"
      ]
     },
     "metadata": {},
     "output_type": "display_data"
    },
    {
     "name": "stdout",
     "output_type": "stream",
     "text": [
      "tensor([[0.4408, 0.8892],\n",
      "        [0.9290, 0.8132],\n",
      "        [0.9464, 0.0541],\n",
      "        [0.8956, 0.8663],\n",
      "        [0.9200, 0.6979],\n",
      "        [0.8735, 0.8657],\n",
      "        [0.9296, 0.1615],\n",
      "        [0.2294, 0.8846]], device='cuda:0', grad_fn=<SigmoidBackward0>)\n",
      "Epoch:25, combine_score:0.039618, cls_loss:357.025726, transfer_loss:690.230896, total_loss:1047.257080\n",
      "\n"
     ]
    },
    {
     "data": {
      "application/vnd.jupyter.widget-view+json": {
       "model_id": "e914c4c0007641cc84f37029e7d9167e",
       "version_major": 2,
       "version_minor": 0
      },
      "text/plain": [
       "  0%|          | 0/1000 [00:00<?, ?it/s]"
      ]
     },
     "metadata": {},
     "output_type": "display_data"
    },
    {
     "data": {
      "application/vnd.jupyter.widget-view+json": {
       "model_id": "",
       "version_major": 2,
       "version_minor": 0
      },
      "text/plain": [
       "  0%|          | 0/1386 [00:00<?, ?it/s]"
      ]
     },
     "metadata": {},
     "output_type": "display_data"
    },
    {
     "name": "stdout",
     "output_type": "stream",
     "text": [
      "tensor([[0.8191, 0.8998],\n",
      "        [0.9427, 0.7432],\n",
      "        [0.9410, 0.0529],\n",
      "        [0.7515, 0.8566],\n",
      "        [0.9211, 0.7575],\n",
      "        [0.9047, 0.8754],\n",
      "        [0.9235, 0.1262],\n",
      "        [0.1991, 0.9036]], device='cuda:0', grad_fn=<SigmoidBackward0>)\n",
      "Epoch:26, combine_score:0.040582, cls_loss:350.758240, transfer_loss:690.880737, total_loss:1041.639771\n",
      "\n"
     ]
    },
    {
     "data": {
      "application/vnd.jupyter.widget-view+json": {
       "model_id": "bb9f5225c75d40539eac50acca7d5fb3",
       "version_major": 2,
       "version_minor": 0
      },
      "text/plain": [
       "  0%|          | 0/1000 [00:00<?, ?it/s]"
      ]
     },
     "metadata": {},
     "output_type": "display_data"
    },
    {
     "data": {
      "application/vnd.jupyter.widget-view+json": {
       "model_id": "",
       "version_major": 2,
       "version_minor": 0
      },
      "text/plain": [
       "  0%|          | 0/1386 [00:00<?, ?it/s]"
      ]
     },
     "metadata": {},
     "output_type": "display_data"
    },
    {
     "name": "stdout",
     "output_type": "stream",
     "text": [
      "tensor([[0.6781, 0.9075],\n",
      "        [0.9489, 0.8576],\n",
      "        [0.9418, 0.0675],\n",
      "        [0.8459, 0.8935],\n",
      "        [0.9360, 0.7615],\n",
      "        [0.9239, 0.9093],\n",
      "        [0.9316, 0.1710],\n",
      "        [0.3287, 0.9011]], device='cuda:0', grad_fn=<SigmoidBackward0>)\n",
      "Epoch:27, combine_score:0.035966, cls_loss:346.910828, transfer_loss:687.179321, total_loss:1034.090088\n",
      "\n"
     ]
    },
    {
     "data": {
      "application/vnd.jupyter.widget-view+json": {
       "model_id": "458a498a17324374853e598d9d62787d",
       "version_major": 2,
       "version_minor": 0
      },
      "text/plain": [
       "  0%|          | 0/1000 [00:00<?, ?it/s]"
      ]
     },
     "metadata": {},
     "output_type": "display_data"
    },
    {
     "data": {
      "application/vnd.jupyter.widget-view+json": {
       "model_id": "",
       "version_major": 2,
       "version_minor": 0
      },
      "text/plain": [
       "  0%|          | 0/1386 [00:00<?, ?it/s]"
      ]
     },
     "metadata": {},
     "output_type": "display_data"
    },
    {
     "name": "stdout",
     "output_type": "stream",
     "text": [
      "tensor([[0.6238, 0.8985],\n",
      "        [0.9242, 0.8299],\n",
      "        [0.9492, 0.0326],\n",
      "        [0.7876, 0.8620],\n",
      "        [0.9205, 0.5284],\n",
      "        [0.9168, 0.8681],\n",
      "        [0.9320, 0.1595],\n",
      "        [0.5653, 0.8668]], device='cuda:0', grad_fn=<SigmoidBackward0>)\n",
      "Epoch:28, combine_score:0.040881, cls_loss:349.131836, transfer_loss:691.616394, total_loss:1040.747681\n",
      "\n"
     ]
    },
    {
     "data": {
      "application/vnd.jupyter.widget-view+json": {
       "model_id": "fd1cfe4561ed4f8ebbce8aa0bdb0ae01",
       "version_major": 2,
       "version_minor": 0
      },
      "text/plain": [
       "  0%|          | 0/1000 [00:00<?, ?it/s]"
      ]
     },
     "metadata": {},
     "output_type": "display_data"
    },
    {
     "data": {
      "application/vnd.jupyter.widget-view+json": {
       "model_id": "",
       "version_major": 2,
       "version_minor": 0
      },
      "text/plain": [
       "  0%|          | 0/1386 [00:00<?, ?it/s]"
      ]
     },
     "metadata": {},
     "output_type": "display_data"
    },
    {
     "name": "stdout",
     "output_type": "stream",
     "text": [
      "tensor([[0.4177, 0.9095],\n",
      "        [0.9011, 0.8959],\n",
      "        [0.9331, 0.0607],\n",
      "        [0.8351, 0.8484],\n",
      "        [0.9020, 0.8025],\n",
      "        [0.5655, 0.8988],\n",
      "        [0.9332, 0.1091],\n",
      "        [0.3472, 0.8930]], device='cuda:0', grad_fn=<SigmoidBackward0>)\n",
      "Epoch:29, combine_score:0.035940, cls_loss:346.829376, transfer_loss:691.282471, total_loss:1038.110962\n",
      "\n"
     ]
    },
    {
     "data": {
      "application/vnd.jupyter.widget-view+json": {
       "model_id": "0b366f00ffa044a5b73e4bbb50fee372",
       "version_major": 2,
       "version_minor": 0
      },
      "text/plain": [
       "  0%|          | 0/1000 [00:00<?, ?it/s]"
      ]
     },
     "metadata": {},
     "output_type": "display_data"
    },
    {
     "data": {
      "application/vnd.jupyter.widget-view+json": {
       "model_id": "",
       "version_major": 2,
       "version_minor": 0
      },
      "text/plain": [
       "  0%|          | 0/1386 [00:00<?, ?it/s]"
      ]
     },
     "metadata": {},
     "output_type": "display_data"
    },
    {
     "name": "stdout",
     "output_type": "stream",
     "text": [
      "tensor([[0.1292, 0.9006],\n",
      "        [0.9406, 0.7675],\n",
      "        [0.9330, 0.0562],\n",
      "        [0.8860, 0.8487],\n",
      "        [0.9153, 0.7713],\n",
      "        [0.8006, 0.8927],\n",
      "        [0.9273, 0.1565],\n",
      "        [0.2717, 0.8977]], device='cuda:0', grad_fn=<SigmoidBackward0>)\n",
      "Epoch:30, combine_score:0.037252, cls_loss:342.527161, transfer_loss:690.929993, total_loss:1033.457275\n",
      "\n"
     ]
    },
    {
     "data": {
      "application/vnd.jupyter.widget-view+json": {
       "model_id": "85fe151a78bf414badfa2f0a2f3c395a",
       "version_major": 2,
       "version_minor": 0
      },
      "text/plain": [
       "  0%|          | 0/1000 [00:00<?, ?it/s]"
      ]
     },
     "metadata": {},
     "output_type": "display_data"
    },
    {
     "data": {
      "application/vnd.jupyter.widget-view+json": {
       "model_id": "",
       "version_major": 2,
       "version_minor": 0
      },
      "text/plain": [
       "  0%|          | 0/1386 [00:00<?, ?it/s]"
      ]
     },
     "metadata": {},
     "output_type": "display_data"
    },
    {
     "name": "stdout",
     "output_type": "stream",
     "text": [
      "tensor([[0.4473, 0.8956],\n",
      "        [0.9339, 0.7388],\n",
      "        [0.9311, 0.0489],\n",
      "        [0.8903, 0.8063],\n",
      "        [0.9269, 0.7047],\n",
      "        [0.6698, 0.8759],\n",
      "        [0.9251, 0.1942],\n",
      "        [0.2720, 0.8900]], device='cuda:0', grad_fn=<SigmoidBackward0>)\n",
      "Epoch:31, combine_score:0.036710, cls_loss:344.423370, transfer_loss:691.703430, total_loss:1036.127197\n",
      "\n"
     ]
    },
    {
     "data": {
      "application/vnd.jupyter.widget-view+json": {
       "model_id": "ee72f4f33bff4c129aad8b0c8824d20c",
       "version_major": 2,
       "version_minor": 0
      },
      "text/plain": [
       "  0%|          | 0/1000 [00:00<?, ?it/s]"
      ]
     },
     "metadata": {},
     "output_type": "display_data"
    },
    {
     "data": {
      "application/vnd.jupyter.widget-view+json": {
       "model_id": "",
       "version_major": 2,
       "version_minor": 0
      },
      "text/plain": [
       "  0%|          | 0/1386 [00:00<?, ?it/s]"
      ]
     },
     "metadata": {},
     "output_type": "display_data"
    },
    {
     "name": "stdout",
     "output_type": "stream",
     "text": [
      "tensor([[0.1982, 0.9056],\n",
      "        [0.8942, 0.8905],\n",
      "        [0.9302, 0.1127],\n",
      "        [0.8703, 0.8645],\n",
      "        [0.8944, 0.8706],\n",
      "        [0.7628, 0.9028],\n",
      "        [0.9278, 0.2994],\n",
      "        [0.1601, 0.9145]], device='cuda:0', grad_fn=<SigmoidBackward0>)\n",
      "Epoch:32, combine_score:0.033253, cls_loss:341.374146, transfer_loss:692.229492, total_loss:1033.603516\n",
      "\n"
     ]
    },
    {
     "data": {
      "application/vnd.jupyter.widget-view+json": {
       "model_id": "efb02ae666204feb8744ecabe236e1db",
       "version_major": 2,
       "version_minor": 0
      },
      "text/plain": [
       "  0%|          | 0/1000 [00:00<?, ?it/s]"
      ]
     },
     "metadata": {},
     "output_type": "display_data"
    },
    {
     "data": {
      "application/vnd.jupyter.widget-view+json": {
       "model_id": "",
       "version_major": 2,
       "version_minor": 0
      },
      "text/plain": [
       "  0%|          | 0/1386 [00:00<?, ?it/s]"
      ]
     },
     "metadata": {},
     "output_type": "display_data"
    },
    {
     "name": "stdout",
     "output_type": "stream",
     "text": [
      "tensor([[0.3432, 0.9005],\n",
      "        [0.9179, 0.8535],\n",
      "        [0.9393, 0.0280],\n",
      "        [0.7943, 0.8719],\n",
      "        [0.9216, 0.7527],\n",
      "        [0.8321, 0.8871],\n",
      "        [0.9315, 0.0898],\n",
      "        [0.2281, 0.8954]], device='cuda:0', grad_fn=<SigmoidBackward0>)\n",
      "Epoch:33, combine_score:0.037344, cls_loss:336.902924, transfer_loss:686.723938, total_loss:1023.627991\n",
      "\n"
     ]
    },
    {
     "data": {
      "application/vnd.jupyter.widget-view+json": {
       "model_id": "ef16c1e7ed1a401e9206f1894322ce5d",
       "version_major": 2,
       "version_minor": 0
      },
      "text/plain": [
       "  0%|          | 0/1000 [00:00<?, ?it/s]"
      ]
     },
     "metadata": {},
     "output_type": "display_data"
    },
    {
     "data": {
      "application/vnd.jupyter.widget-view+json": {
       "model_id": "",
       "version_major": 2,
       "version_minor": 0
      },
      "text/plain": [
       "  0%|          | 0/1386 [00:00<?, ?it/s]"
      ]
     },
     "metadata": {},
     "output_type": "display_data"
    },
    {
     "name": "stdout",
     "output_type": "stream",
     "text": [
      "tensor([[0.6648, 0.8988],\n",
      "        [0.9375, 0.7913],\n",
      "        [0.9367, 0.0376],\n",
      "        [0.9030, 0.7667],\n",
      "        [0.9333, 0.5632],\n",
      "        [0.9322, 0.8650],\n",
      "        [0.9279, 0.0896],\n",
      "        [0.6895, 0.8675]], device='cuda:0', grad_fn=<SigmoidBackward0>)\n",
      "Epoch:34, combine_score:0.037679, cls_loss:341.229431, transfer_loss:689.792297, total_loss:1031.021118\n",
      "\n"
     ]
    },
    {
     "data": {
      "application/vnd.jupyter.widget-view+json": {
       "model_id": "7df904dc2ecd458eaba43940bf917189",
       "version_major": 2,
       "version_minor": 0
      },
      "text/plain": [
       "  0%|          | 0/1000 [00:00<?, ?it/s]"
      ]
     },
     "metadata": {},
     "output_type": "display_data"
    },
    {
     "data": {
      "application/vnd.jupyter.widget-view+json": {
       "model_id": "",
       "version_major": 2,
       "version_minor": 0
      },
      "text/plain": [
       "  0%|          | 0/1386 [00:00<?, ?it/s]"
      ]
     },
     "metadata": {},
     "output_type": "display_data"
    },
    {
     "name": "stdout",
     "output_type": "stream",
     "text": [
      "tensor([[0.3491, 0.9106],\n",
      "        [0.9357, 0.8448],\n",
      "        [0.9338, 0.0684],\n",
      "        [0.8661, 0.8375],\n",
      "        [0.9241, 0.8583],\n",
      "        [0.8899, 0.9038],\n",
      "        [0.9332, 0.1026],\n",
      "        [0.1256, 0.9086]], device='cuda:0', grad_fn=<SigmoidBackward0>)\n",
      "Epoch:35, combine_score:0.033754, cls_loss:332.237671, transfer_loss:692.343445, total_loss:1024.581543\n",
      "\n"
     ]
    },
    {
     "data": {
      "application/vnd.jupyter.widget-view+json": {
       "model_id": "617414e0220142c3852d6f720b65b4ed",
       "version_major": 2,
       "version_minor": 0
      },
      "text/plain": [
       "  0%|          | 0/1000 [00:00<?, ?it/s]"
      ]
     },
     "metadata": {},
     "output_type": "display_data"
    },
    {
     "data": {
      "application/vnd.jupyter.widget-view+json": {
       "model_id": "",
       "version_major": 2,
       "version_minor": 0
      },
      "text/plain": [
       "  0%|          | 0/1386 [00:00<?, ?it/s]"
      ]
     },
     "metadata": {},
     "output_type": "display_data"
    },
    {
     "name": "stdout",
     "output_type": "stream",
     "text": [
      "tensor([[0.7059, 0.9103],\n",
      "        [0.9409, 0.7743],\n",
      "        [0.9340, 0.0417],\n",
      "        [0.9054, 0.7931],\n",
      "        [0.9324, 0.6972],\n",
      "        [0.9203, 0.8977],\n",
      "        [0.9373, 0.0858],\n",
      "        [0.2544, 0.9002]], device='cuda:0', grad_fn=<SigmoidBackward0>)\n",
      "Epoch:36, combine_score:0.032121, cls_loss:333.758636, transfer_loss:690.382141, total_loss:1024.141846\n",
      "\n"
     ]
    },
    {
     "data": {
      "application/vnd.jupyter.widget-view+json": {
       "model_id": "492279892dcb4df5829d1f928065f1cc",
       "version_major": 2,
       "version_minor": 0
      },
      "text/plain": [
       "  0%|          | 0/1000 [00:00<?, ?it/s]"
      ]
     },
     "metadata": {},
     "output_type": "display_data"
    },
    {
     "data": {
      "application/vnd.jupyter.widget-view+json": {
       "model_id": "",
       "version_major": 2,
       "version_minor": 0
      },
      "text/plain": [
       "  0%|          | 0/1386 [00:00<?, ?it/s]"
      ]
     },
     "metadata": {},
     "output_type": "display_data"
    },
    {
     "name": "stdout",
     "output_type": "stream",
     "text": [
      "tensor([[0.3516, 0.9100],\n",
      "        [0.9087, 0.8434],\n",
      "        [0.9237, 0.0383],\n",
      "        [0.8775, 0.8258],\n",
      "        [0.9331, 0.7710],\n",
      "        [0.8928, 0.8944],\n",
      "        [0.9337, 0.0626],\n",
      "        [0.1002, 0.9106]], device='cuda:0', grad_fn=<SigmoidBackward0>)\n",
      "Epoch:37, combine_score:0.032797, cls_loss:333.733856, transfer_loss:691.850403, total_loss:1025.584595\n",
      "\n"
     ]
    },
    {
     "data": {
      "application/vnd.jupyter.widget-view+json": {
       "model_id": "d5a39c0439314eabbf9f10ae47e751aa",
       "version_major": 2,
       "version_minor": 0
      },
      "text/plain": [
       "  0%|          | 0/1000 [00:00<?, ?it/s]"
      ]
     },
     "metadata": {},
     "output_type": "display_data"
    },
    {
     "data": {
      "application/vnd.jupyter.widget-view+json": {
       "model_id": "",
       "version_major": 2,
       "version_minor": 0
      },
      "text/plain": [
       "  0%|          | 0/1386 [00:00<?, ?it/s]"
      ]
     },
     "metadata": {},
     "output_type": "display_data"
    },
    {
     "name": "stdout",
     "output_type": "stream",
     "text": [
      "tensor([[0.1675, 0.9052],\n",
      "        [0.9033, 0.8599],\n",
      "        [0.9259, 0.0631],\n",
      "        [0.8892, 0.8141],\n",
      "        [0.9086, 0.8353],\n",
      "        [0.8549, 0.8968],\n",
      "        [0.9300, 0.2717],\n",
      "        [0.2595, 0.8972]], device='cuda:0', grad_fn=<SigmoidBackward0>)\n",
      "Epoch:38, combine_score:0.032554, cls_loss:333.396729, transfer_loss:692.033875, total_loss:1025.431030\n",
      "\n"
     ]
    },
    {
     "data": {
      "application/vnd.jupyter.widget-view+json": {
       "model_id": "de39ecf699f147109727c8da2188019b",
       "version_major": 2,
       "version_minor": 0
      },
      "text/plain": [
       "  0%|          | 0/1000 [00:00<?, ?it/s]"
      ]
     },
     "metadata": {},
     "output_type": "display_data"
    },
    {
     "data": {
      "application/vnd.jupyter.widget-view+json": {
       "model_id": "",
       "version_major": 2,
       "version_minor": 0
      },
      "text/plain": [
       "  0%|          | 0/1386 [00:00<?, ?it/s]"
      ]
     },
     "metadata": {},
     "output_type": "display_data"
    },
    {
     "name": "stdout",
     "output_type": "stream",
     "text": [
      "tensor([[0.8998, 0.8947],\n",
      "        [0.9344, 0.4687],\n",
      "        [0.9408, 0.0361],\n",
      "        [0.9244, 0.4571],\n",
      "        [0.9356, 0.5072],\n",
      "        [0.9470, 0.8762],\n",
      "        [0.9439, 0.0432],\n",
      "        [0.3294, 0.8860]], device='cuda:0', grad_fn=<SigmoidBackward0>)\n",
      "Epoch:39, combine_score:0.053784, cls_loss:334.293304, transfer_loss:692.268982, total_loss:1026.562744\n",
      "\n"
     ]
    },
    {
     "data": {
      "application/vnd.jupyter.widget-view+json": {
       "model_id": "dd9ba9875e0d40ffac38e5b646c856f7",
       "version_major": 2,
       "version_minor": 0
      },
      "text/plain": [
       "  0%|          | 0/1000 [00:00<?, ?it/s]"
      ]
     },
     "metadata": {},
     "output_type": "display_data"
    },
    {
     "data": {
      "application/vnd.jupyter.widget-view+json": {
       "model_id": "",
       "version_major": 2,
       "version_minor": 0
      },
      "text/plain": [
       "  0%|          | 0/1386 [00:00<?, ?it/s]"
      ]
     },
     "metadata": {},
     "output_type": "display_data"
    },
    {
     "name": "stdout",
     "output_type": "stream",
     "text": [
      "tensor([[0.5844, 0.9081],\n",
      "        [0.9378, 0.8523],\n",
      "        [0.9418, 0.0249],\n",
      "        [0.8536, 0.8407],\n",
      "        [0.9393, 0.6056],\n",
      "        [0.9297, 0.8994],\n",
      "        [0.9336, 0.1199],\n",
      "        [0.5970, 0.8954]], device='cuda:0', grad_fn=<SigmoidBackward0>)\n",
      "Epoch:40, combine_score:0.033759, cls_loss:328.233307, transfer_loss:690.891602, total_loss:1019.124817\n",
      "\n"
     ]
    },
    {
     "data": {
      "application/vnd.jupyter.widget-view+json": {
       "model_id": "772db0c832b0413ab023f5489ed28e6e",
       "version_major": 2,
       "version_minor": 0
      },
      "text/plain": [
       "  0%|          | 0/1000 [00:00<?, ?it/s]"
      ]
     },
     "metadata": {},
     "output_type": "display_data"
    },
    {
     "data": {
      "application/vnd.jupyter.widget-view+json": {
       "model_id": "",
       "version_major": 2,
       "version_minor": 0
      },
      "text/plain": [
       "  0%|          | 0/1386 [00:00<?, ?it/s]"
      ]
     },
     "metadata": {},
     "output_type": "display_data"
    },
    {
     "name": "stdout",
     "output_type": "stream",
     "text": [
      "tensor([[0.6405, 0.9141],\n",
      "        [0.9497, 0.7973],\n",
      "        [0.9311, 0.0398],\n",
      "        [0.9175, 0.7973],\n",
      "        [0.9293, 0.8261],\n",
      "        [0.9339, 0.8963],\n",
      "        [0.9369, 0.1124],\n",
      "        [0.2629, 0.9146]], device='cuda:0', grad_fn=<SigmoidBackward0>)\n",
      "Epoch:41, combine_score:0.035085, cls_loss:327.205444, transfer_loss:691.849670, total_loss:1019.055237\n",
      "\n"
     ]
    },
    {
     "data": {
      "application/vnd.jupyter.widget-view+json": {
       "model_id": "741cb702d8754b10954a3641b47739f2",
       "version_major": 2,
       "version_minor": 0
      },
      "text/plain": [
       "  0%|          | 0/1000 [00:00<?, ?it/s]"
      ]
     },
     "metadata": {},
     "output_type": "display_data"
    },
    {
     "data": {
      "application/vnd.jupyter.widget-view+json": {
       "model_id": "",
       "version_major": 2,
       "version_minor": 0
      },
      "text/plain": [
       "  0%|          | 0/1386 [00:00<?, ?it/s]"
      ]
     },
     "metadata": {},
     "output_type": "display_data"
    },
    {
     "name": "stdout",
     "output_type": "stream",
     "text": [
      "tensor([[0.8310, 0.9028],\n",
      "        [0.9431, 0.7217],\n",
      "        [0.9363, 0.0289],\n",
      "        [0.9115, 0.6985],\n",
      "        [0.9345, 0.6970],\n",
      "        [0.9378, 0.8790],\n",
      "        [0.9303, 0.1158],\n",
      "        [0.6664, 0.8786]], device='cuda:0', grad_fn=<SigmoidBackward0>)\n",
      "Epoch:42, combine_score:0.039715, cls_loss:333.278473, transfer_loss:691.518250, total_loss:1024.796387\n",
      "\n"
     ]
    },
    {
     "data": {
      "application/vnd.jupyter.widget-view+json": {
       "model_id": "ef3b9563ae1c49cb957d7257729f5b6b",
       "version_major": 2,
       "version_minor": 0
      },
      "text/plain": [
       "  0%|          | 0/1000 [00:00<?, ?it/s]"
      ]
     },
     "metadata": {},
     "output_type": "display_data"
    },
    {
     "data": {
      "application/vnd.jupyter.widget-view+json": {
       "model_id": "",
       "version_major": 2,
       "version_minor": 0
      },
      "text/plain": [
       "  0%|          | 0/1386 [00:00<?, ?it/s]"
      ]
     },
     "metadata": {},
     "output_type": "display_data"
    },
    {
     "name": "stdout",
     "output_type": "stream",
     "text": [
      "tensor([[0.5299, 0.9035],\n",
      "        [0.9464, 0.8340],\n",
      "        [0.9315, 0.0277],\n",
      "        [0.8809, 0.8419],\n",
      "        [0.9242, 0.7682],\n",
      "        [0.9022, 0.9027],\n",
      "        [0.9306, 0.1458],\n",
      "        [0.1813, 0.9017]], device='cuda:0', grad_fn=<SigmoidBackward0>)\n",
      "Epoch:43, combine_score:0.035494, cls_loss:331.470428, transfer_loss:691.946533, total_loss:1023.417358\n",
      "\n"
     ]
    },
    {
     "data": {
      "application/vnd.jupyter.widget-view+json": {
       "model_id": "4571c401fea44c7db25e1b705068967d",
       "version_major": 2,
       "version_minor": 0
      },
      "text/plain": [
       "  0%|          | 0/1000 [00:00<?, ?it/s]"
      ]
     },
     "metadata": {},
     "output_type": "display_data"
    },
    {
     "data": {
      "application/vnd.jupyter.widget-view+json": {
       "model_id": "",
       "version_major": 2,
       "version_minor": 0
      },
      "text/plain": [
       "  0%|          | 0/1386 [00:00<?, ?it/s]"
      ]
     },
     "metadata": {},
     "output_type": "display_data"
    },
    {
     "name": "stdout",
     "output_type": "stream",
     "text": [
      "tensor([[0.8051, 0.8981],\n",
      "        [0.9321, 0.4526],\n",
      "        [0.9375, 0.0220],\n",
      "        [0.9067, 0.6831],\n",
      "        [0.9278, 0.5332],\n",
      "        [0.9410, 0.8507],\n",
      "        [0.9379, 0.0438],\n",
      "        [0.3979, 0.8833]], device='cuda:0', grad_fn=<SigmoidBackward0>)\n",
      "Epoch:44, combine_score:0.037498, cls_loss:328.824646, transfer_loss:690.024292, total_loss:1018.849243\n",
      "\n"
     ]
    },
    {
     "data": {
      "application/vnd.jupyter.widget-view+json": {
       "model_id": "9d9c73e91a584dc99654e8e721191017",
       "version_major": 2,
       "version_minor": 0
      },
      "text/plain": [
       "  0%|          | 0/1000 [00:00<?, ?it/s]"
      ]
     },
     "metadata": {},
     "output_type": "display_data"
    },
    {
     "data": {
      "application/vnd.jupyter.widget-view+json": {
       "model_id": "",
       "version_major": 2,
       "version_minor": 0
      },
      "text/plain": [
       "  0%|          | 0/1386 [00:00<?, ?it/s]"
      ]
     },
     "metadata": {},
     "output_type": "display_data"
    },
    {
     "name": "stdout",
     "output_type": "stream",
     "text": [
      "tensor([[0.8262, 0.9075],\n",
      "        [0.9314, 0.6196],\n",
      "        [0.9202, 0.0405],\n",
      "        [0.9036, 0.6388],\n",
      "        [0.9273, 0.7562],\n",
      "        [0.9463, 0.8659],\n",
      "        [0.9225, 0.0919],\n",
      "        [0.1307, 0.9031]], device='cuda:0', grad_fn=<SigmoidBackward0>)\n",
      "Epoch:45, combine_score:0.035222, cls_loss:331.286224, transfer_loss:692.050476, total_loss:1023.335999\n",
      "\n"
     ]
    },
    {
     "data": {
      "application/vnd.jupyter.widget-view+json": {
       "model_id": "608a7020881845cb8d5a22c861ace30e",
       "version_major": 2,
       "version_minor": 0
      },
      "text/plain": [
       "  0%|          | 0/1000 [00:00<?, ?it/s]"
      ]
     },
     "metadata": {},
     "output_type": "display_data"
    },
    {
     "data": {
      "application/vnd.jupyter.widget-view+json": {
       "model_id": "",
       "version_major": 2,
       "version_minor": 0
      },
      "text/plain": [
       "  0%|          | 0/1386 [00:00<?, ?it/s]"
      ]
     },
     "metadata": {},
     "output_type": "display_data"
    },
    {
     "name": "stdout",
     "output_type": "stream",
     "text": [
      "tensor([[0.3851, 0.9006],\n",
      "        [0.9420, 0.6771],\n",
      "        [0.9227, 0.0225],\n",
      "        [0.9030, 0.7651],\n",
      "        [0.9328, 0.4711],\n",
      "        [0.9274, 0.8723],\n",
      "        [0.9254, 0.0813],\n",
      "        [0.5593, 0.8696]], device='cuda:0', grad_fn=<SigmoidBackward0>)\n",
      "Epoch:46, combine_score:0.034376, cls_loss:327.377899, transfer_loss:691.253540, total_loss:1018.631348\n",
      "\n"
     ]
    },
    {
     "data": {
      "application/vnd.jupyter.widget-view+json": {
       "model_id": "8cd3b6204d364b319170362066cf6eae",
       "version_major": 2,
       "version_minor": 0
      },
      "text/plain": [
       "  0%|          | 0/1000 [00:00<?, ?it/s]"
      ]
     },
     "metadata": {},
     "output_type": "display_data"
    },
    {
     "data": {
      "application/vnd.jupyter.widget-view+json": {
       "model_id": "",
       "version_major": 2,
       "version_minor": 0
      },
      "text/plain": [
       "  0%|          | 0/1386 [00:00<?, ?it/s]"
      ]
     },
     "metadata": {},
     "output_type": "display_data"
    },
    {
     "name": "stdout",
     "output_type": "stream",
     "text": [
      "tensor([[0.9097, 0.9104],\n",
      "        [0.9413, 0.5400],\n",
      "        [0.9446, 0.0248],\n",
      "        [0.9090, 0.7255],\n",
      "        [0.9392, 0.4561],\n",
      "        [0.9547, 0.8754],\n",
      "        [0.9385, 0.0711],\n",
      "        [0.2698, 0.8873]], device='cuda:0', grad_fn=<SigmoidBackward0>)\n",
      "Epoch:47, combine_score:0.039202, cls_loss:328.318970, transfer_loss:691.278198, total_loss:1019.597534\n",
      "\n"
     ]
    },
    {
     "data": {
      "application/vnd.jupyter.widget-view+json": {
       "model_id": "485e886b5d5a45f2b04b3c7094317bc9",
       "version_major": 2,
       "version_minor": 0
      },
      "text/plain": [
       "  0%|          | 0/1000 [00:00<?, ?it/s]"
      ]
     },
     "metadata": {},
     "output_type": "display_data"
    },
    {
     "data": {
      "application/vnd.jupyter.widget-view+json": {
       "model_id": "",
       "version_major": 2,
       "version_minor": 0
      },
      "text/plain": [
       "  0%|          | 0/1386 [00:00<?, ?it/s]"
      ]
     },
     "metadata": {},
     "output_type": "display_data"
    },
    {
     "name": "stdout",
     "output_type": "stream",
     "text": [
      "tensor([[0.8824, 0.9123],\n",
      "        [0.9379, 0.2960],\n",
      "        [0.9446, 0.0202],\n",
      "        [0.9269, 0.6490],\n",
      "        [0.9420, 0.4079],\n",
      "        [0.9541, 0.8137],\n",
      "        [0.9437, 0.0269],\n",
      "        [0.0890, 0.9122]], device='cuda:0', grad_fn=<SigmoidBackward0>)\n",
      "Epoch:48, combine_score:0.033815, cls_loss:323.612885, transfer_loss:691.056763, total_loss:1014.670593\n",
      "\n"
     ]
    },
    {
     "data": {
      "application/vnd.jupyter.widget-view+json": {
       "model_id": "199203f76a614577999ddce0f3692e8f",
       "version_major": 2,
       "version_minor": 0
      },
      "text/plain": [
       "  0%|          | 0/1000 [00:00<?, ?it/s]"
      ]
     },
     "metadata": {},
     "output_type": "display_data"
    },
    {
     "data": {
      "application/vnd.jupyter.widget-view+json": {
       "model_id": "",
       "version_major": 2,
       "version_minor": 0
      },
      "text/plain": [
       "  0%|          | 0/1386 [00:00<?, ?it/s]"
      ]
     },
     "metadata": {},
     "output_type": "display_data"
    },
    {
     "name": "stdout",
     "output_type": "stream",
     "text": [
      "tensor([[0.3226, 0.9086],\n",
      "        [0.9527, 0.7935],\n",
      "        [0.9398, 0.0352],\n",
      "        [0.5915, 0.8878],\n",
      "        [0.9334, 0.7841],\n",
      "        [0.9165, 0.8961],\n",
      "        [0.9341, 0.2273],\n",
      "        [0.1377, 0.9093]], device='cuda:0', grad_fn=<SigmoidBackward0>)\n",
      "Epoch:49, combine_score:0.041018, cls_loss:326.159729, transfer_loss:690.885559, total_loss:1017.045715\n",
      "\n"
     ]
    },
    {
     "data": {
      "application/vnd.jupyter.widget-view+json": {
       "model_id": "926406527e8843db97b685d276356067",
       "version_major": 2,
       "version_minor": 0
      },
      "text/plain": [
       "  0%|          | 0/1000 [00:00<?, ?it/s]"
      ]
     },
     "metadata": {},
     "output_type": "display_data"
    },
    {
     "data": {
      "application/vnd.jupyter.widget-view+json": {
       "model_id": "",
       "version_major": 2,
       "version_minor": 0
      },
      "text/plain": [
       "  0%|          | 0/1386 [00:00<?, ?it/s]"
      ]
     },
     "metadata": {},
     "output_type": "display_data"
    },
    {
     "name": "stdout",
     "output_type": "stream",
     "text": [
      "tensor([[0.1403, 0.9083],\n",
      "        [0.9233, 0.8756],\n",
      "        [0.9369, 0.0696],\n",
      "        [0.8362, 0.8704],\n",
      "        [0.9234, 0.8413],\n",
      "        [0.8488, 0.9074],\n",
      "        [0.9340, 0.2184],\n",
      "        [0.0738, 0.9103]], device='cuda:0', grad_fn=<SigmoidBackward0>)\n",
      "Epoch:50, combine_score:0.032306, cls_loss:321.175354, transfer_loss:692.471252, total_loss:1013.647217\n",
      "\n"
     ]
    },
    {
     "data": {
      "application/vnd.jupyter.widget-view+json": {
       "model_id": "04fbd2fa502d4bf9b80ab648a943703b",
       "version_major": 2,
       "version_minor": 0
      },
      "text/plain": [
       "  0%|          | 0/1000 [00:00<?, ?it/s]"
      ]
     },
     "metadata": {},
     "output_type": "display_data"
    },
    {
     "data": {
      "application/vnd.jupyter.widget-view+json": {
       "model_id": "",
       "version_major": 2,
       "version_minor": 0
      },
      "text/plain": [
       "  0%|          | 0/1386 [00:00<?, ?it/s]"
      ]
     },
     "metadata": {},
     "output_type": "display_data"
    },
    {
     "name": "stdout",
     "output_type": "stream",
     "text": [
      "tensor([[0.2741, 0.9176],\n",
      "        [0.9400, 0.8789],\n",
      "        [0.9375, 0.0325],\n",
      "        [0.8852, 0.7792],\n",
      "        [0.9480, 0.7649],\n",
      "        [0.8726, 0.9136],\n",
      "        [0.9326, 0.1232],\n",
      "        [0.2700, 0.9174]], device='cuda:0', grad_fn=<SigmoidBackward0>)\n",
      "Epoch:51, combine_score:0.032451, cls_loss:322.390869, transfer_loss:691.827332, total_loss:1014.219055\n",
      "\n"
     ]
    },
    {
     "data": {
      "application/vnd.jupyter.widget-view+json": {
       "model_id": "65f8213700234a6aa1810ed0e78485ef",
       "version_major": 2,
       "version_minor": 0
      },
      "text/plain": [
       "  0%|          | 0/1000 [00:00<?, ?it/s]"
      ]
     },
     "metadata": {},
     "output_type": "display_data"
    },
    {
     "data": {
      "application/vnd.jupyter.widget-view+json": {
       "model_id": "",
       "version_major": 2,
       "version_minor": 0
      },
      "text/plain": [
       "  0%|          | 0/1386 [00:00<?, ?it/s]"
      ]
     },
     "metadata": {},
     "output_type": "display_data"
    },
    {
     "name": "stdout",
     "output_type": "stream",
     "text": [
      "tensor([[0.7274, 0.9178],\n",
      "        [0.9463, 0.6128],\n",
      "        [0.9370, 0.0186],\n",
      "        [0.9161, 0.6814],\n",
      "        [0.9361, 0.6493],\n",
      "        [0.9340, 0.8680],\n",
      "        [0.9314, 0.0786],\n",
      "        [0.1082, 0.9098]], device='cuda:0', grad_fn=<SigmoidBackward0>)\n",
      "Epoch:52, combine_score:0.029097, cls_loss:320.837708, transfer_loss:691.523132, total_loss:1012.361267\n",
      "\n"
     ]
    },
    {
     "data": {
      "application/vnd.jupyter.widget-view+json": {
       "model_id": "bb2b0b673dbe4a478089c321a24775fd",
       "version_major": 2,
       "version_minor": 0
      },
      "text/plain": [
       "  0%|          | 0/1000 [00:00<?, ?it/s]"
      ]
     },
     "metadata": {},
     "output_type": "display_data"
    },
    {
     "data": {
      "application/vnd.jupyter.widget-view+json": {
       "model_id": "",
       "version_major": 2,
       "version_minor": 0
      },
      "text/plain": [
       "  0%|          | 0/1386 [00:00<?, ?it/s]"
      ]
     },
     "metadata": {},
     "output_type": "display_data"
    },
    {
     "name": "stdout",
     "output_type": "stream",
     "text": [
      "tensor([[0.5875, 0.9187],\n",
      "        [0.9362, 0.4145],\n",
      "        [0.9391, 0.0329],\n",
      "        [0.9023, 0.6838],\n",
      "        [0.9279, 0.8163],\n",
      "        [0.9339, 0.8917],\n",
      "        [0.9356, 0.0623],\n",
      "        [0.2534, 0.9156]], device='cuda:0', grad_fn=<SigmoidBackward0>)\n",
      "Epoch:53, combine_score:0.036336, cls_loss:325.316284, transfer_loss:690.060974, total_loss:1015.377502\n",
      "\n"
     ]
    },
    {
     "data": {
      "application/vnd.jupyter.widget-view+json": {
       "model_id": "c59e8d1db9af4897b53916c6e28286ce",
       "version_major": 2,
       "version_minor": 0
      },
      "text/plain": [
       "  0%|          | 0/1000 [00:00<?, ?it/s]"
      ]
     },
     "metadata": {},
     "output_type": "display_data"
    },
    {
     "data": {
      "application/vnd.jupyter.widget-view+json": {
       "model_id": "",
       "version_major": 2,
       "version_minor": 0
      },
      "text/plain": [
       "  0%|          | 0/1386 [00:00<?, ?it/s]"
      ]
     },
     "metadata": {},
     "output_type": "display_data"
    },
    {
     "name": "stdout",
     "output_type": "stream",
     "text": [
      "tensor([[0.8489, 0.9166],\n",
      "        [0.9393, 0.6424],\n",
      "        [0.9301, 0.0412],\n",
      "        [0.9090, 0.6596],\n",
      "        [0.9432, 0.6239],\n",
      "        [0.9388, 0.8890],\n",
      "        [0.9285, 0.0718],\n",
      "        [0.2248, 0.9073]], device='cuda:0', grad_fn=<SigmoidBackward0>)\n",
      "Epoch:54, combine_score:0.031969, cls_loss:321.882568, transfer_loss:690.931396, total_loss:1012.814392\n",
      "\n"
     ]
    },
    {
     "data": {
      "application/vnd.jupyter.widget-view+json": {
       "model_id": "682b3bf8f33742e1acec1f0bd48a04ab",
       "version_major": 2,
       "version_minor": 0
      },
      "text/plain": [
       "  0%|          | 0/1000 [00:00<?, ?it/s]"
      ]
     },
     "metadata": {},
     "output_type": "display_data"
    },
    {
     "data": {
      "application/vnd.jupyter.widget-view+json": {
       "model_id": "",
       "version_major": 2,
       "version_minor": 0
      },
      "text/plain": [
       "  0%|          | 0/1386 [00:00<?, ?it/s]"
      ]
     },
     "metadata": {},
     "output_type": "display_data"
    },
    {
     "name": "stdout",
     "output_type": "stream",
     "text": [
      "tensor([[0.6127, 0.9220],\n",
      "        [0.9421, 0.5672],\n",
      "        [0.9391, 0.0245],\n",
      "        [0.8665, 0.8338],\n",
      "        [0.9351, 0.7620],\n",
      "        [0.9270, 0.9084],\n",
      "        [0.9309, 0.0682],\n",
      "        [0.1133, 0.9159]], device='cuda:0', grad_fn=<SigmoidBackward0>)\n",
      "Epoch:55, combine_score:0.031534, cls_loss:319.958679, transfer_loss:689.920105, total_loss:1009.877197\n",
      "\n"
     ]
    },
    {
     "data": {
      "application/vnd.jupyter.widget-view+json": {
       "model_id": "c292768ae8054e2996881dc14a26811a",
       "version_major": 2,
       "version_minor": 0
      },
      "text/plain": [
       "  0%|          | 0/1000 [00:00<?, ?it/s]"
      ]
     },
     "metadata": {},
     "output_type": "display_data"
    },
    {
     "data": {
      "application/vnd.jupyter.widget-view+json": {
       "model_id": "",
       "version_major": 2,
       "version_minor": 0
      },
      "text/plain": [
       "  0%|          | 0/1386 [00:00<?, ?it/s]"
      ]
     },
     "metadata": {},
     "output_type": "display_data"
    },
    {
     "name": "stdout",
     "output_type": "stream",
     "text": [
      "tensor([[0.4645, 0.9089],\n",
      "        [0.9449, 0.8481],\n",
      "        [0.9287, 0.0389],\n",
      "        [0.9119, 0.6850],\n",
      "        [0.9413, 0.5549],\n",
      "        [0.9234, 0.9115],\n",
      "        [0.9221, 0.1196],\n",
      "        [0.4367, 0.9023]], device='cuda:0', grad_fn=<SigmoidBackward0>)\n",
      "Epoch:56, combine_score:0.033329, cls_loss:316.955688, transfer_loss:691.748474, total_loss:1008.704468\n",
      "\n"
     ]
    },
    {
     "data": {
      "application/vnd.jupyter.widget-view+json": {
       "model_id": "3a957b32027841baa3af2164c202d1aa",
       "version_major": 2,
       "version_minor": 0
      },
      "text/plain": [
       "  0%|          | 0/1000 [00:00<?, ?it/s]"
      ]
     },
     "metadata": {},
     "output_type": "display_data"
    },
    {
     "data": {
      "application/vnd.jupyter.widget-view+json": {
       "model_id": "",
       "version_major": 2,
       "version_minor": 0
      },
      "text/plain": [
       "  0%|          | 0/1386 [00:00<?, ?it/s]"
      ]
     },
     "metadata": {},
     "output_type": "display_data"
    },
    {
     "name": "stdout",
     "output_type": "stream",
     "text": [
      "tensor([[0.1535, 0.9142],\n",
      "        [0.9301, 0.8423],\n",
      "        [0.9407, 0.0516],\n",
      "        [0.8643, 0.7871],\n",
      "        [0.9217, 0.8323],\n",
      "        [0.5972, 0.9034],\n",
      "        [0.9367, 0.1034],\n",
      "        [0.1391, 0.9103]], device='cuda:0', grad_fn=<SigmoidBackward0>)\n",
      "Epoch:57, combine_score:0.031038, cls_loss:320.904114, transfer_loss:692.002075, total_loss:1012.906067\n",
      "\n"
     ]
    },
    {
     "data": {
      "application/vnd.jupyter.widget-view+json": {
       "model_id": "3c6bbfa88d4143ec9dd6262d6a5ceb51",
       "version_major": 2,
       "version_minor": 0
      },
      "text/plain": [
       "  0%|          | 0/1000 [00:00<?, ?it/s]"
      ]
     },
     "metadata": {},
     "output_type": "display_data"
    },
    {
     "data": {
      "application/vnd.jupyter.widget-view+json": {
       "model_id": "",
       "version_major": 2,
       "version_minor": 0
      },
      "text/plain": [
       "  0%|          | 0/1386 [00:00<?, ?it/s]"
      ]
     },
     "metadata": {},
     "output_type": "display_data"
    },
    {
     "name": "stdout",
     "output_type": "stream",
     "text": [
      "tensor([[0.4046, 0.9269],\n",
      "        [0.9347, 0.8720],\n",
      "        [0.9355, 0.0492],\n",
      "        [0.9162, 0.7704],\n",
      "        [0.9382, 0.5645],\n",
      "        [0.9193, 0.9242],\n",
      "        [0.9259, 0.2131],\n",
      "        [0.6480, 0.8979]], device='cuda:0', grad_fn=<SigmoidBackward0>)\n",
      "Epoch:58, combine_score:0.031958, cls_loss:318.431335, transfer_loss:692.062561, total_loss:1010.493591\n",
      "\n"
     ]
    },
    {
     "data": {
      "application/vnd.jupyter.widget-view+json": {
       "model_id": "99a7e36efdf2458fbf63e847885519df",
       "version_major": 2,
       "version_minor": 0
      },
      "text/plain": [
       "  0%|          | 0/1000 [00:00<?, ?it/s]"
      ]
     },
     "metadata": {},
     "output_type": "display_data"
    },
    {
     "data": {
      "application/vnd.jupyter.widget-view+json": {
       "model_id": "",
       "version_major": 2,
       "version_minor": 0
      },
      "text/plain": [
       "  0%|          | 0/1386 [00:00<?, ?it/s]"
      ]
     },
     "metadata": {},
     "output_type": "display_data"
    },
    {
     "name": "stdout",
     "output_type": "stream",
     "text": [
      "tensor([[0.7530, 0.9157],\n",
      "        [0.9530, 0.6749],\n",
      "        [0.9529, 0.0395],\n",
      "        [0.9284, 0.6446],\n",
      "        [0.9482, 0.6323],\n",
      "        [0.9166, 0.9139],\n",
      "        [0.9446, 0.0698],\n",
      "        [0.2462, 0.9158]], device='cuda:0', grad_fn=<SigmoidBackward0>)\n",
      "Epoch:59, combine_score:0.032314, cls_loss:322.762817, transfer_loss:686.035950, total_loss:1008.799316\n",
      "\n"
     ]
    },
    {
     "data": {
      "application/vnd.jupyter.widget-view+json": {
       "model_id": "8cedb49727f94bf192cfb9e597028379",
       "version_major": 2,
       "version_minor": 0
      },
      "text/plain": [
       "  0%|          | 0/1000 [00:00<?, ?it/s]"
      ]
     },
     "metadata": {},
     "output_type": "display_data"
    },
    {
     "data": {
      "application/vnd.jupyter.widget-view+json": {
       "model_id": "",
       "version_major": 2,
       "version_minor": 0
      },
      "text/plain": [
       "  0%|          | 0/1386 [00:00<?, ?it/s]"
      ]
     },
     "metadata": {},
     "output_type": "display_data"
    },
    {
     "name": "stdout",
     "output_type": "stream",
     "text": [
      "tensor([[0.6593, 0.9235],\n",
      "        [0.9443, 0.8721],\n",
      "        [0.9378, 0.0650],\n",
      "        [0.9144, 0.8067],\n",
      "        [0.9453, 0.7285],\n",
      "        [0.9231, 0.9197],\n",
      "        [0.9297, 0.1098],\n",
      "        [0.2018, 0.9197]], device='cuda:0', grad_fn=<SigmoidBackward0>)\n",
      "Epoch:60, combine_score:0.029693, cls_loss:316.751282, transfer_loss:689.289124, total_loss:1006.040039\n",
      "\n"
     ]
    },
    {
     "data": {
      "application/vnd.jupyter.widget-view+json": {
       "model_id": "9432ce73aad84e89adc7b2814901a173",
       "version_major": 2,
       "version_minor": 0
      },
      "text/plain": [
       "  0%|          | 0/1000 [00:00<?, ?it/s]"
      ]
     },
     "metadata": {},
     "output_type": "display_data"
    },
    {
     "data": {
      "application/vnd.jupyter.widget-view+json": {
       "model_id": "",
       "version_major": 2,
       "version_minor": 0
      },
      "text/plain": [
       "  0%|          | 0/1386 [00:00<?, ?it/s]"
      ]
     },
     "metadata": {},
     "output_type": "display_data"
    },
    {
     "name": "stdout",
     "output_type": "stream",
     "text": [
      "tensor([[0.6160, 0.9142],\n",
      "        [0.9413, 0.8617],\n",
      "        [0.9282, 0.0757],\n",
      "        [0.8985, 0.6917],\n",
      "        [0.9442, 0.7044],\n",
      "        [0.9233, 0.9115],\n",
      "        [0.9253, 0.2170],\n",
      "        [0.2243, 0.9068]], device='cuda:0', grad_fn=<SigmoidBackward0>)\n",
      "Epoch:61, combine_score:0.039591, cls_loss:317.380676, transfer_loss:690.431641, total_loss:1007.812683\n",
      "\n"
     ]
    },
    {
     "data": {
      "application/vnd.jupyter.widget-view+json": {
       "model_id": "74b33edd41524c8197c8343992d90134",
       "version_major": 2,
       "version_minor": 0
      },
      "text/plain": [
       "  0%|          | 0/1000 [00:00<?, ?it/s]"
      ]
     },
     "metadata": {},
     "output_type": "display_data"
    },
    {
     "data": {
      "application/vnd.jupyter.widget-view+json": {
       "model_id": "",
       "version_major": 2,
       "version_minor": 0
      },
      "text/plain": [
       "  0%|          | 0/1386 [00:00<?, ?it/s]"
      ]
     },
     "metadata": {},
     "output_type": "display_data"
    },
    {
     "name": "stdout",
     "output_type": "stream",
     "text": [
      "tensor([[0.4558, 0.9245],\n",
      "        [0.9433, 0.9009],\n",
      "        [0.9374, 0.0261],\n",
      "        [0.8862, 0.6842],\n",
      "        [0.9407, 0.7689],\n",
      "        [0.9382, 0.9269],\n",
      "        [0.9272, 0.1109],\n",
      "        [0.1597, 0.9203]], device='cuda:0', grad_fn=<SigmoidBackward0>)\n",
      "Epoch:62, combine_score:0.032456, cls_loss:313.593781, transfer_loss:690.777710, total_loss:1004.371094\n",
      "\n"
     ]
    },
    {
     "data": {
      "application/vnd.jupyter.widget-view+json": {
       "model_id": "5f6134619825428eabbe202cc01dea54",
       "version_major": 2,
       "version_minor": 0
      },
      "text/plain": [
       "  0%|          | 0/1000 [00:00<?, ?it/s]"
      ]
     },
     "metadata": {},
     "output_type": "display_data"
    },
    {
     "data": {
      "application/vnd.jupyter.widget-view+json": {
       "model_id": "",
       "version_major": 2,
       "version_minor": 0
      },
      "text/plain": [
       "  0%|          | 0/1386 [00:00<?, ?it/s]"
      ]
     },
     "metadata": {},
     "output_type": "display_data"
    },
    {
     "name": "stdout",
     "output_type": "stream",
     "text": [
      "tensor([[0.7732, 0.9241],\n",
      "        [0.9335, 0.4126],\n",
      "        [0.9493, 0.0136],\n",
      "        [0.9269, 0.4632],\n",
      "        [0.9403, 0.7893],\n",
      "        [0.9294, 0.9138],\n",
      "        [0.9463, 0.0254],\n",
      "        [0.2316, 0.9231]], device='cuda:0', grad_fn=<SigmoidBackward0>)\n",
      "Epoch:63, combine_score:0.034311, cls_loss:316.190735, transfer_loss:688.755859, total_loss:1004.946716\n",
      "\n"
     ]
    },
    {
     "data": {
      "application/vnd.jupyter.widget-view+json": {
       "model_id": "d817d5a734514a52a7163d653d152de1",
       "version_major": 2,
       "version_minor": 0
      },
      "text/plain": [
       "  0%|          | 0/1000 [00:00<?, ?it/s]"
      ]
     },
     "metadata": {},
     "output_type": "display_data"
    },
    {
     "data": {
      "application/vnd.jupyter.widget-view+json": {
       "model_id": "",
       "version_major": 2,
       "version_minor": 0
      },
      "text/plain": [
       "  0%|          | 0/1386 [00:00<?, ?it/s]"
      ]
     },
     "metadata": {},
     "output_type": "display_data"
    },
    {
     "name": "stdout",
     "output_type": "stream",
     "text": [
      "tensor([[0.6070, 0.9128],\n",
      "        [0.9328, 0.8467],\n",
      "        [0.9430, 0.0238],\n",
      "        [0.8444, 0.7982],\n",
      "        [0.9386, 0.6966],\n",
      "        [0.9252, 0.9042],\n",
      "        [0.9380, 0.1831],\n",
      "        [0.1032, 0.9188]], device='cuda:0', grad_fn=<SigmoidBackward0>)\n",
      "Epoch:64, combine_score:0.030815, cls_loss:316.659180, transfer_loss:690.875977, total_loss:1007.535217\n",
      "\n"
     ]
    },
    {
     "data": {
      "application/vnd.jupyter.widget-view+json": {
       "model_id": "fad62e18eab14cb88f431f38893e77bd",
       "version_major": 2,
       "version_minor": 0
      },
      "text/plain": [
       "  0%|          | 0/1000 [00:00<?, ?it/s]"
      ]
     },
     "metadata": {},
     "output_type": "display_data"
    },
    {
     "data": {
      "application/vnd.jupyter.widget-view+json": {
       "model_id": "",
       "version_major": 2,
       "version_minor": 0
      },
      "text/plain": [
       "  0%|          | 0/1386 [00:00<?, ?it/s]"
      ]
     },
     "metadata": {},
     "output_type": "display_data"
    },
    {
     "name": "stdout",
     "output_type": "stream",
     "text": [
      "tensor([[0.8612, 0.9185],\n",
      "        [0.9273, 0.4665],\n",
      "        [0.9443, 0.0123],\n",
      "        [0.8711, 0.8105],\n",
      "        [0.9413, 0.7639],\n",
      "        [0.9310, 0.8920],\n",
      "        [0.9339, 0.0989],\n",
      "        [0.1300, 0.9232]], device='cuda:0', grad_fn=<SigmoidBackward0>)\n",
      "Epoch:65, combine_score:0.028512, cls_loss:312.565735, transfer_loss:691.284607, total_loss:1003.849548\n",
      "\n"
     ]
    },
    {
     "data": {
      "application/vnd.jupyter.widget-view+json": {
       "model_id": "c0edeac347104f56a9c15d1b16a37b0f",
       "version_major": 2,
       "version_minor": 0
      },
      "text/plain": [
       "  0%|          | 0/1000 [00:00<?, ?it/s]"
      ]
     },
     "metadata": {},
     "output_type": "display_data"
    },
    {
     "data": {
      "application/vnd.jupyter.widget-view+json": {
       "model_id": "",
       "version_major": 2,
       "version_minor": 0
      },
      "text/plain": [
       "  0%|          | 0/1386 [00:00<?, ?it/s]"
      ]
     },
     "metadata": {},
     "output_type": "display_data"
    },
    {
     "name": "stdout",
     "output_type": "stream",
     "text": [
      "tensor([[0.8944, 0.9284],\n",
      "        [0.9343, 0.4885],\n",
      "        [0.9394, 0.0180],\n",
      "        [0.9193, 0.6406],\n",
      "        [0.9479, 0.7268],\n",
      "        [0.9514, 0.8692],\n",
      "        [0.9368, 0.0406],\n",
      "        [0.0949, 0.9232]], device='cuda:0', grad_fn=<SigmoidBackward0>)\n",
      "Epoch:66, combine_score:0.030989, cls_loss:317.528137, transfer_loss:691.007996, total_loss:1008.535828\n",
      "\n"
     ]
    },
    {
     "data": {
      "application/vnd.jupyter.widget-view+json": {
       "model_id": "c3734549347b4546b4653a545e2d2227",
       "version_major": 2,
       "version_minor": 0
      },
      "text/plain": [
       "  0%|          | 0/1000 [00:00<?, ?it/s]"
      ]
     },
     "metadata": {},
     "output_type": "display_data"
    },
    {
     "data": {
      "application/vnd.jupyter.widget-view+json": {
       "model_id": "",
       "version_major": 2,
       "version_minor": 0
      },
      "text/plain": [
       "  0%|          | 0/1386 [00:00<?, ?it/s]"
      ]
     },
     "metadata": {},
     "output_type": "display_data"
    },
    {
     "name": "stdout",
     "output_type": "stream",
     "text": [
      "tensor([[0.9252, 0.9331],\n",
      "        [0.9301, 0.3625],\n",
      "        [0.9353, 0.0266],\n",
      "        [0.9219, 0.4941],\n",
      "        [0.9430, 0.8048],\n",
      "        [0.9406, 0.9242],\n",
      "        [0.9381, 0.0246],\n",
      "        [0.1399, 0.9204]], device='cuda:0', grad_fn=<SigmoidBackward0>)\n",
      "Epoch:67, combine_score:0.033134, cls_loss:317.660614, transfer_loss:691.591614, total_loss:1009.251587\n",
      "\n"
     ]
    },
    {
     "data": {
      "application/vnd.jupyter.widget-view+json": {
       "model_id": "bbc29cee975d41508c5d8b2bea488913",
       "version_major": 2,
       "version_minor": 0
      },
      "text/plain": [
       "  0%|          | 0/1000 [00:00<?, ?it/s]"
      ]
     },
     "metadata": {},
     "output_type": "display_data"
    },
    {
     "data": {
      "application/vnd.jupyter.widget-view+json": {
       "model_id": "",
       "version_major": 2,
       "version_minor": 0
      },
      "text/plain": [
       "  0%|          | 0/1386 [00:00<?, ?it/s]"
      ]
     },
     "metadata": {},
     "output_type": "display_data"
    },
    {
     "name": "stdout",
     "output_type": "stream",
     "text": [
      "tensor([[0.5628, 0.9202],\n",
      "        [0.9396, 0.8546],\n",
      "        [0.9368, 0.0370],\n",
      "        [0.8716, 0.7882],\n",
      "        [0.9426, 0.8044],\n",
      "        [0.9396, 0.9002],\n",
      "        [0.9277, 0.1253],\n",
      "        [0.2736, 0.9106]], device='cuda:0', grad_fn=<SigmoidBackward0>)\n",
      "Epoch:68, combine_score:0.031306, cls_loss:315.135010, transfer_loss:690.711487, total_loss:1005.846558\n",
      "\n"
     ]
    },
    {
     "data": {
      "application/vnd.jupyter.widget-view+json": {
       "model_id": "3aaa1b29aa0047e580d91cd7fa5cb3d3",
       "version_major": 2,
       "version_minor": 0
      },
      "text/plain": [
       "  0%|          | 0/1000 [00:00<?, ?it/s]"
      ]
     },
     "metadata": {},
     "output_type": "display_data"
    },
    {
     "data": {
      "application/vnd.jupyter.widget-view+json": {
       "model_id": "",
       "version_major": 2,
       "version_minor": 0
      },
      "text/plain": [
       "  0%|          | 0/1386 [00:00<?, ?it/s]"
      ]
     },
     "metadata": {},
     "output_type": "display_data"
    },
    {
     "name": "stdout",
     "output_type": "stream",
     "text": [
      "tensor([[0.4143, 0.9247],\n",
      "        [0.9513, 0.7005],\n",
      "        [0.9364, 0.0276],\n",
      "        [0.8679, 0.8368],\n",
      "        [0.9386, 0.8771],\n",
      "        [0.9241, 0.9111],\n",
      "        [0.9320, 0.0752],\n",
      "        [0.1028, 0.9241]], device='cuda:0', grad_fn=<SigmoidBackward0>)\n",
      "Epoch:69, combine_score:0.031483, cls_loss:313.549530, transfer_loss:691.869995, total_loss:1005.419739\n",
      "\n"
     ]
    },
    {
     "data": {
      "application/vnd.jupyter.widget-view+json": {
       "model_id": "9a267310e4c74d1eb792e0d39189977b",
       "version_major": 2,
       "version_minor": 0
      },
      "text/plain": [
       "  0%|          | 0/1000 [00:00<?, ?it/s]"
      ]
     },
     "metadata": {},
     "output_type": "display_data"
    },
    {
     "data": {
      "application/vnd.jupyter.widget-view+json": {
       "model_id": "",
       "version_major": 2,
       "version_minor": 0
      },
      "text/plain": [
       "  0%|          | 0/1386 [00:00<?, ?it/s]"
      ]
     },
     "metadata": {},
     "output_type": "display_data"
    },
    {
     "name": "stdout",
     "output_type": "stream",
     "text": [
      "tensor([[0.4435, 0.9202],\n",
      "        [0.9384, 0.6994],\n",
      "        [0.9412, 0.0173],\n",
      "        [0.8982, 0.6674],\n",
      "        [0.9376, 0.5709],\n",
      "        [0.9366, 0.8064],\n",
      "        [0.9340, 0.0554],\n",
      "        [0.1610, 0.9138]], device='cuda:0', grad_fn=<SigmoidBackward0>)\n",
      "Epoch:70, combine_score:0.031131, cls_loss:311.369324, transfer_loss:692.134521, total_loss:1003.504395\n",
      "\n"
     ]
    },
    {
     "data": {
      "application/vnd.jupyter.widget-view+json": {
       "model_id": "0598792628dc4fcd82d1e1f7b2b008c1",
       "version_major": 2,
       "version_minor": 0
      },
      "text/plain": [
       "  0%|          | 0/1000 [00:00<?, ?it/s]"
      ]
     },
     "metadata": {},
     "output_type": "display_data"
    },
    {
     "data": {
      "application/vnd.jupyter.widget-view+json": {
       "model_id": "",
       "version_major": 2,
       "version_minor": 0
      },
      "text/plain": [
       "  0%|          | 0/1386 [00:00<?, ?it/s]"
      ]
     },
     "metadata": {},
     "output_type": "display_data"
    },
    {
     "name": "stdout",
     "output_type": "stream",
     "text": [
      "tensor([[0.4379, 0.9309],\n",
      "        [0.9502, 0.7912],\n",
      "        [0.9335, 0.0802],\n",
      "        [0.8853, 0.8000],\n",
      "        [0.9240, 0.9088],\n",
      "        [0.9146, 0.9360],\n",
      "        [0.9278, 0.1157],\n",
      "        [0.0826, 0.9225]], device='cuda:0', grad_fn=<SigmoidBackward0>)\n",
      "Epoch:71, combine_score:0.031183, cls_loss:312.976227, transfer_loss:691.012817, total_loss:1003.988220\n",
      "\n"
     ]
    },
    {
     "data": {
      "application/vnd.jupyter.widget-view+json": {
       "model_id": "12368c3a43b74d128c0852d2631f735b",
       "version_major": 2,
       "version_minor": 0
      },
      "text/plain": [
       "  0%|          | 0/1000 [00:00<?, ?it/s]"
      ]
     },
     "metadata": {},
     "output_type": "display_data"
    },
    {
     "data": {
      "application/vnd.jupyter.widget-view+json": {
       "model_id": "",
       "version_major": 2,
       "version_minor": 0
      },
      "text/plain": [
       "  0%|          | 0/1386 [00:00<?, ?it/s]"
      ]
     },
     "metadata": {},
     "output_type": "display_data"
    },
    {
     "name": "stdout",
     "output_type": "stream",
     "text": [
      "tensor([[0.1859, 0.9171],\n",
      "        [0.9210, 0.8559],\n",
      "        [0.9364, 0.0268],\n",
      "        [0.8550, 0.7854],\n",
      "        [0.9220, 0.8128],\n",
      "        [0.8658, 0.9068],\n",
      "        [0.9321, 0.1426],\n",
      "        [0.0841, 0.9199]], device='cuda:0', grad_fn=<SigmoidBackward0>)\n",
      "Epoch:72, combine_score:0.031601, cls_loss:311.690247, transfer_loss:690.389893, total_loss:1002.079834\n",
      "\n"
     ]
    },
    {
     "data": {
      "application/vnd.jupyter.widget-view+json": {
       "model_id": "eddabce45b5d4999a1a949ea129e22d1",
       "version_major": 2,
       "version_minor": 0
      },
      "text/plain": [
       "  0%|          | 0/1000 [00:00<?, ?it/s]"
      ]
     },
     "metadata": {},
     "output_type": "display_data"
    },
    {
     "data": {
      "application/vnd.jupyter.widget-view+json": {
       "model_id": "",
       "version_major": 2,
       "version_minor": 0
      },
      "text/plain": [
       "  0%|          | 0/1386 [00:00<?, ?it/s]"
      ]
     },
     "metadata": {},
     "output_type": "display_data"
    },
    {
     "name": "stdout",
     "output_type": "stream",
     "text": [
      "tensor([[0.7698, 0.9232],\n",
      "        [0.9432, 0.6962],\n",
      "        [0.9417, 0.0126],\n",
      "        [0.9060, 0.6134],\n",
      "        [0.9379, 0.7602],\n",
      "        [0.9492, 0.8024],\n",
      "        [0.9324, 0.0470],\n",
      "        [0.1146, 0.9238]], device='cuda:0', grad_fn=<SigmoidBackward0>)\n",
      "Epoch:73, combine_score:0.036400, cls_loss:318.461060, transfer_loss:690.157166, total_loss:1008.617615\n",
      "\n"
     ]
    },
    {
     "data": {
      "application/vnd.jupyter.widget-view+json": {
       "model_id": "ab8a6b82d8d94f7c92108f6f068e3c6f",
       "version_major": 2,
       "version_minor": 0
      },
      "text/plain": [
       "  0%|          | 0/1000 [00:00<?, ?it/s]"
      ]
     },
     "metadata": {},
     "output_type": "display_data"
    },
    {
     "data": {
      "application/vnd.jupyter.widget-view+json": {
       "model_id": "",
       "version_major": 2,
       "version_minor": 0
      },
      "text/plain": [
       "  0%|          | 0/1386 [00:00<?, ?it/s]"
      ]
     },
     "metadata": {},
     "output_type": "display_data"
    },
    {
     "name": "stdout",
     "output_type": "stream",
     "text": [
      "tensor([[0.6141, 0.9261],\n",
      "        [0.9433, 0.8106],\n",
      "        [0.9317, 0.0179],\n",
      "        [0.8282, 0.7742],\n",
      "        [0.9333, 0.8386],\n",
      "        [0.9249, 0.9061],\n",
      "        [0.9238, 0.0696],\n",
      "        [0.1557, 0.9232]], device='cuda:0', grad_fn=<SigmoidBackward0>)\n",
      "Epoch:74, combine_score:0.030969, cls_loss:309.278320, transfer_loss:691.557617, total_loss:1000.835571\n",
      "\n"
     ]
    },
    {
     "data": {
      "application/vnd.jupyter.widget-view+json": {
       "model_id": "318ca95de1e94c5594a2aa20fcbd94e2",
       "version_major": 2,
       "version_minor": 0
      },
      "text/plain": [
       "  0%|          | 0/1000 [00:00<?, ?it/s]"
      ]
     },
     "metadata": {},
     "output_type": "display_data"
    },
    {
     "data": {
      "application/vnd.jupyter.widget-view+json": {
       "model_id": "",
       "version_major": 2,
       "version_minor": 0
      },
      "text/plain": [
       "  0%|          | 0/1386 [00:00<?, ?it/s]"
      ]
     },
     "metadata": {},
     "output_type": "display_data"
    },
    {
     "name": "stdout",
     "output_type": "stream",
     "text": [
      "tensor([[0.7997, 0.9299],\n",
      "        [0.9483, 0.6710],\n",
      "        [0.9399, 0.0326],\n",
      "        [0.9101, 0.6269],\n",
      "        [0.9375, 0.7858],\n",
      "        [0.9366, 0.8931],\n",
      "        [0.9349, 0.0897],\n",
      "        [0.2643, 0.9148]], device='cuda:0', grad_fn=<SigmoidBackward0>)\n",
      "Epoch:75, combine_score:0.030099, cls_loss:318.310120, transfer_loss:691.153687, total_loss:1009.464600\n",
      "\n"
     ]
    },
    {
     "data": {
      "application/vnd.jupyter.widget-view+json": {
       "model_id": "3d6f23a601ad4126884c9a7448223c54",
       "version_major": 2,
       "version_minor": 0
      },
      "text/plain": [
       "  0%|          | 0/1000 [00:00<?, ?it/s]"
      ]
     },
     "metadata": {},
     "output_type": "display_data"
    },
    {
     "data": {
      "application/vnd.jupyter.widget-view+json": {
       "model_id": "",
       "version_major": 2,
       "version_minor": 0
      },
      "text/plain": [
       "  0%|          | 0/1386 [00:00<?, ?it/s]"
      ]
     },
     "metadata": {},
     "output_type": "display_data"
    },
    {
     "name": "stdout",
     "output_type": "stream",
     "text": [
      "tensor([[0.9430, 0.9351],\n",
      "        [0.9439, 0.6311],\n",
      "        [0.9386, 0.0845],\n",
      "        [0.8376, 0.8338],\n",
      "        [0.9391, 0.8837],\n",
      "        [0.9525, 0.8778],\n",
      "        [0.9279, 0.1386],\n",
      "        [0.0751, 0.9307]], device='cuda:0', grad_fn=<SigmoidBackward0>)\n",
      "Epoch:76, combine_score:0.032124, cls_loss:310.258759, transfer_loss:691.794250, total_loss:1002.053223\n",
      "\n"
     ]
    },
    {
     "data": {
      "application/vnd.jupyter.widget-view+json": {
       "model_id": "2b7548d262034d37ba98dbafc60e8ffb",
       "version_major": 2,
       "version_minor": 0
      },
      "text/plain": [
       "  0%|          | 0/1000 [00:00<?, ?it/s]"
      ]
     },
     "metadata": {},
     "output_type": "display_data"
    },
    {
     "data": {
      "application/vnd.jupyter.widget-view+json": {
       "model_id": "",
       "version_major": 2,
       "version_minor": 0
      },
      "text/plain": [
       "  0%|          | 0/1386 [00:00<?, ?it/s]"
      ]
     },
     "metadata": {},
     "output_type": "display_data"
    },
    {
     "name": "stdout",
     "output_type": "stream",
     "text": [
      "tensor([[0.9233, 0.9334],\n",
      "        [0.9546, 0.6645],\n",
      "        [0.9369, 0.0353],\n",
      "        [0.8795, 0.6513],\n",
      "        [0.9554, 0.8169],\n",
      "        [0.9557, 0.9221],\n",
      "        [0.9297, 0.0724],\n",
      "        [0.0586, 0.9378]], device='cuda:0', grad_fn=<SigmoidBackward0>)\n",
      "Epoch:77, combine_score:0.030992, cls_loss:310.873840, transfer_loss:691.744019, total_loss:1002.618225\n",
      "\n"
     ]
    },
    {
     "data": {
      "application/vnd.jupyter.widget-view+json": {
       "model_id": "6c61cfd9bf604a558a677cca9290508d",
       "version_major": 2,
       "version_minor": 0
      },
      "text/plain": [
       "  0%|          | 0/1000 [00:00<?, ?it/s]"
      ]
     },
     "metadata": {},
     "output_type": "display_data"
    },
    {
     "data": {
      "application/vnd.jupyter.widget-view+json": {
       "model_id": "",
       "version_major": 2,
       "version_minor": 0
      },
      "text/plain": [
       "  0%|          | 0/1386 [00:00<?, ?it/s]"
      ]
     },
     "metadata": {},
     "output_type": "display_data"
    },
    {
     "name": "stdout",
     "output_type": "stream",
     "text": [
      "tensor([[0.8056, 0.9080],\n",
      "        [0.9278, 0.5696],\n",
      "        [0.9299, 0.0281],\n",
      "        [0.8452, 0.5877],\n",
      "        [0.9335, 0.7800],\n",
      "        [0.9365, 0.8209],\n",
      "        [0.9267, 0.0901],\n",
      "        [0.1397, 0.9065]], device='cuda:0', grad_fn=<SigmoidBackward0>)\n",
      "Epoch:78, combine_score:0.033243, cls_loss:312.542084, transfer_loss:690.769043, total_loss:1003.310059\n",
      "\n"
     ]
    },
    {
     "data": {
      "application/vnd.jupyter.widget-view+json": {
       "model_id": "dd88c1501ae147189154883f79e18c29",
       "version_major": 2,
       "version_minor": 0
      },
      "text/plain": [
       "  0%|          | 0/1000 [00:00<?, ?it/s]"
      ]
     },
     "metadata": {},
     "output_type": "display_data"
    },
    {
     "data": {
      "application/vnd.jupyter.widget-view+json": {
       "model_id": "",
       "version_major": 2,
       "version_minor": 0
      },
      "text/plain": [
       "  0%|          | 0/1386 [00:00<?, ?it/s]"
      ]
     },
     "metadata": {},
     "output_type": "display_data"
    },
    {
     "name": "stdout",
     "output_type": "stream",
     "text": [
      "tensor([[0.8620, 0.9309],\n",
      "        [0.9351, 0.6812],\n",
      "        [0.9377, 0.0149],\n",
      "        [0.9021, 0.5964],\n",
      "        [0.9385, 0.7558],\n",
      "        [0.9377, 0.9027],\n",
      "        [0.9299, 0.0546],\n",
      "        [0.1349, 0.9148]], device='cuda:0', grad_fn=<SigmoidBackward0>)\n",
      "Epoch:79, combine_score:0.029999, cls_loss:309.231110, transfer_loss:690.761414, total_loss:999.992859\n",
      "\n"
     ]
    },
    {
     "data": {
      "application/vnd.jupyter.widget-view+json": {
       "model_id": "1f43de6c6fec49d08283bbd554abc26d",
       "version_major": 2,
       "version_minor": 0
      },
      "text/plain": [
       "  0%|          | 0/1000 [00:00<?, ?it/s]"
      ]
     },
     "metadata": {},
     "output_type": "display_data"
    },
    {
     "data": {
      "application/vnd.jupyter.widget-view+json": {
       "model_id": "",
       "version_major": 2,
       "version_minor": 0
      },
      "text/plain": [
       "  0%|          | 0/1386 [00:00<?, ?it/s]"
      ]
     },
     "metadata": {},
     "output_type": "display_data"
    },
    {
     "name": "stdout",
     "output_type": "stream",
     "text": [
      "tensor([[0.8691, 0.9263],\n",
      "        [0.9475, 0.4031],\n",
      "        [0.9484, 0.0101],\n",
      "        [0.9049, 0.6012],\n",
      "        [0.9480, 0.3696],\n",
      "        [0.9488, 0.6114],\n",
      "        [0.9395, 0.0489],\n",
      "        [0.8125, 0.8747]], device='cuda:0', grad_fn=<SigmoidBackward0>)\n",
      "Epoch:80, combine_score:0.037780, cls_loss:308.926514, transfer_loss:690.447021, total_loss:999.373657\n",
      "\n"
     ]
    },
    {
     "data": {
      "application/vnd.jupyter.widget-view+json": {
       "model_id": "bd4855ec8aee497d8d965e688da008e8",
       "version_major": 2,
       "version_minor": 0
      },
      "text/plain": [
       "  0%|          | 0/1000 [00:00<?, ?it/s]"
      ]
     },
     "metadata": {},
     "output_type": "display_data"
    },
    {
     "data": {
      "application/vnd.jupyter.widget-view+json": {
       "model_id": "",
       "version_major": 2,
       "version_minor": 0
      },
      "text/plain": [
       "  0%|          | 0/1386 [00:00<?, ?it/s]"
      ]
     },
     "metadata": {},
     "output_type": "display_data"
    },
    {
     "name": "stdout",
     "output_type": "stream",
     "text": [
      "tensor([[0.7575, 0.9298],\n",
      "        [0.9440, 0.6807],\n",
      "        [0.9448, 0.0075],\n",
      "        [0.8864, 0.6909],\n",
      "        [0.9433, 0.6166],\n",
      "        [0.9398, 0.9074],\n",
      "        [0.9319, 0.0746],\n",
      "        [0.2050, 0.9152]], device='cuda:0', grad_fn=<SigmoidBackward0>)\n",
      "Epoch:81, combine_score:0.028546, cls_loss:308.639130, transfer_loss:692.467407, total_loss:1001.106812\n",
      "\n"
     ]
    },
    {
     "data": {
      "application/vnd.jupyter.widget-view+json": {
       "model_id": "6731d3edf00346c595185cdc3b841a2e",
       "version_major": 2,
       "version_minor": 0
      },
      "text/plain": [
       "  0%|          | 0/1000 [00:00<?, ?it/s]"
      ]
     },
     "metadata": {},
     "output_type": "display_data"
    },
    {
     "data": {
      "application/vnd.jupyter.widget-view+json": {
       "model_id": "",
       "version_major": 2,
       "version_minor": 0
      },
      "text/plain": [
       "  0%|          | 0/1386 [00:00<?, ?it/s]"
      ]
     },
     "metadata": {},
     "output_type": "display_data"
    },
    {
     "name": "stdout",
     "output_type": "stream",
     "text": [
      "tensor([[0.8289, 0.9220],\n",
      "        [0.9393, 0.4598],\n",
      "        [0.9485, 0.0148],\n",
      "        [0.8894, 0.6451],\n",
      "        [0.9457, 0.4572],\n",
      "        [0.9440, 0.7933],\n",
      "        [0.9402, 0.0496],\n",
      "        [0.1808, 0.9099]], device='cuda:0', grad_fn=<SigmoidBackward0>)\n",
      "Epoch:82, combine_score:0.036467, cls_loss:305.594177, transfer_loss:691.720398, total_loss:997.314392\n",
      "\n"
     ]
    },
    {
     "data": {
      "application/vnd.jupyter.widget-view+json": {
       "model_id": "2b65ec25fef34721bc5a41f4292aa4eb",
       "version_major": 2,
       "version_minor": 0
      },
      "text/plain": [
       "  0%|          | 0/1000 [00:00<?, ?it/s]"
      ]
     },
     "metadata": {},
     "output_type": "display_data"
    },
    {
     "data": {
      "application/vnd.jupyter.widget-view+json": {
       "model_id": "",
       "version_major": 2,
       "version_minor": 0
      },
      "text/plain": [
       "  0%|          | 0/1386 [00:00<?, ?it/s]"
      ]
     },
     "metadata": {},
     "output_type": "display_data"
    },
    {
     "name": "stdout",
     "output_type": "stream",
     "text": [
      "tensor([[0.4725, 0.9229],\n",
      "        [0.9441, 0.8134],\n",
      "        [0.9525, 0.0280],\n",
      "        [0.8755, 0.7147],\n",
      "        [0.9426, 0.6634],\n",
      "        [0.9382, 0.9014],\n",
      "        [0.9383, 0.1278],\n",
      "        [0.2645, 0.9071]], device='cuda:0', grad_fn=<SigmoidBackward0>)\n",
      "Epoch:83, combine_score:0.029651, cls_loss:308.682526, transfer_loss:692.451965, total_loss:1001.134277\n",
      "\n"
     ]
    },
    {
     "data": {
      "application/vnd.jupyter.widget-view+json": {
       "model_id": "28d1e196b5aa475ca49172271bd45d2f",
       "version_major": 2,
       "version_minor": 0
      },
      "text/plain": [
       "  0%|          | 0/1000 [00:00<?, ?it/s]"
      ]
     },
     "metadata": {},
     "output_type": "display_data"
    },
    {
     "data": {
      "application/vnd.jupyter.widget-view+json": {
       "model_id": "",
       "version_major": 2,
       "version_minor": 0
      },
      "text/plain": [
       "  0%|          | 0/1386 [00:00<?, ?it/s]"
      ]
     },
     "metadata": {},
     "output_type": "display_data"
    },
    {
     "name": "stdout",
     "output_type": "stream",
     "text": [
      "tensor([[0.8924, 0.9157],\n",
      "        [0.9426, 0.3092],\n",
      "        [0.9530, 0.0169],\n",
      "        [0.8871, 0.5788],\n",
      "        [0.9350, 0.6462],\n",
      "        [0.9392, 0.8447],\n",
      "        [0.9383, 0.0548],\n",
      "        [0.1352, 0.9099]], device='cuda:0', grad_fn=<SigmoidBackward0>)\n",
      "Epoch:84, combine_score:0.031545, cls_loss:308.317871, transfer_loss:692.136658, total_loss:1000.454529\n",
      "\n"
     ]
    },
    {
     "data": {
      "application/vnd.jupyter.widget-view+json": {
       "model_id": "b11c17666f3846bb96fb1cad8377baf9",
       "version_major": 2,
       "version_minor": 0
      },
      "text/plain": [
       "  0%|          | 0/1000 [00:00<?, ?it/s]"
      ]
     },
     "metadata": {},
     "output_type": "display_data"
    },
    {
     "data": {
      "application/vnd.jupyter.widget-view+json": {
       "model_id": "",
       "version_major": 2,
       "version_minor": 0
      },
      "text/plain": [
       "  0%|          | 0/1386 [00:00<?, ?it/s]"
      ]
     },
     "metadata": {},
     "output_type": "display_data"
    },
    {
     "name": "stdout",
     "output_type": "stream",
     "text": [
      "tensor([[0.7908, 0.9261],\n",
      "        [0.9503, 0.7654],\n",
      "        [0.9383, 0.0403],\n",
      "        [0.9019, 0.6754],\n",
      "        [0.9272, 0.8238],\n",
      "        [0.9473, 0.9094],\n",
      "        [0.9380, 0.0653],\n",
      "        [0.1052, 0.9219]], device='cuda:0', grad_fn=<SigmoidBackward0>)\n",
      "Epoch:85, combine_score:0.035139, cls_loss:311.089783, transfer_loss:689.312256, total_loss:1000.402527\n",
      "\n"
     ]
    },
    {
     "data": {
      "application/vnd.jupyter.widget-view+json": {
       "model_id": "a9c7beb79a4a4e78847e22848d71e0c3",
       "version_major": 2,
       "version_minor": 0
      },
      "text/plain": [
       "  0%|          | 0/1000 [00:00<?, ?it/s]"
      ]
     },
     "metadata": {},
     "output_type": "display_data"
    },
    {
     "data": {
      "application/vnd.jupyter.widget-view+json": {
       "model_id": "",
       "version_major": 2,
       "version_minor": 0
      },
      "text/plain": [
       "  0%|          | 0/1386 [00:00<?, ?it/s]"
      ]
     },
     "metadata": {},
     "output_type": "display_data"
    },
    {
     "name": "stdout",
     "output_type": "stream",
     "text": [
      "tensor([[0.5103, 0.9239],\n",
      "        [0.9479, 0.6141],\n",
      "        [0.9453, 0.0208],\n",
      "        [0.8945, 0.6458],\n",
      "        [0.9354, 0.7306],\n",
      "        [0.9453, 0.8745],\n",
      "        [0.9414, 0.0586],\n",
      "        [0.1927, 0.9195]], device='cuda:0', grad_fn=<SigmoidBackward0>)\n",
      "Epoch:86, combine_score:0.031757, cls_loss:309.309479, transfer_loss:691.495483, total_loss:1000.806030\n",
      "\n"
     ]
    },
    {
     "data": {
      "application/vnd.jupyter.widget-view+json": {
       "model_id": "891f6707e4e94e37b45ea8d58afee2e7",
       "version_major": 2,
       "version_minor": 0
      },
      "text/plain": [
       "  0%|          | 0/1000 [00:00<?, ?it/s]"
      ]
     },
     "metadata": {},
     "output_type": "display_data"
    },
    {
     "data": {
      "application/vnd.jupyter.widget-view+json": {
       "model_id": "",
       "version_major": 2,
       "version_minor": 0
      },
      "text/plain": [
       "  0%|          | 0/1386 [00:00<?, ?it/s]"
      ]
     },
     "metadata": {},
     "output_type": "display_data"
    },
    {
     "name": "stdout",
     "output_type": "stream",
     "text": [
      "tensor([[0.6554, 0.9211],\n",
      "        [0.9451, 0.7938],\n",
      "        [0.9336, 0.0246],\n",
      "        [0.8947, 0.6675],\n",
      "        [0.9417, 0.5384],\n",
      "        [0.9395, 0.9032],\n",
      "        [0.9324, 0.0716],\n",
      "        [0.4766, 0.9006]], device='cuda:0', grad_fn=<SigmoidBackward0>)\n",
      "Epoch:87, combine_score:0.030074, cls_loss:306.978058, transfer_loss:691.014099, total_loss:997.991882\n",
      "\n"
     ]
    },
    {
     "data": {
      "application/vnd.jupyter.widget-view+json": {
       "model_id": "16cf76307c36480087e1d0a8fee76926",
       "version_major": 2,
       "version_minor": 0
      },
      "text/plain": [
       "  0%|          | 0/1000 [00:00<?, ?it/s]"
      ]
     },
     "metadata": {},
     "output_type": "display_data"
    },
    {
     "data": {
      "application/vnd.jupyter.widget-view+json": {
       "model_id": "",
       "version_major": 2,
       "version_minor": 0
      },
      "text/plain": [
       "  0%|          | 0/1386 [00:00<?, ?it/s]"
      ]
     },
     "metadata": {},
     "output_type": "display_data"
    },
    {
     "name": "stdout",
     "output_type": "stream",
     "text": [
      "tensor([[0.8954, 0.9239],\n",
      "        [0.9453, 0.5609],\n",
      "        [0.9349, 0.0222],\n",
      "        [0.8655, 0.6723],\n",
      "        [0.9358, 0.6722],\n",
      "        [0.9443, 0.8320],\n",
      "        [0.9381, 0.0989],\n",
      "        [0.1785, 0.9200]], device='cuda:0', grad_fn=<SigmoidBackward0>)\n",
      "Epoch:88, combine_score:0.028974, cls_loss:303.948669, transfer_loss:691.484253, total_loss:995.432373\n",
      "\n"
     ]
    },
    {
     "data": {
      "application/vnd.jupyter.widget-view+json": {
       "model_id": "d72ae998fdaa4e2a80934bdd641c3ce5",
       "version_major": 2,
       "version_minor": 0
      },
      "text/plain": [
       "  0%|          | 0/1000 [00:00<?, ?it/s]"
      ]
     },
     "metadata": {},
     "output_type": "display_data"
    },
    {
     "data": {
      "application/vnd.jupyter.widget-view+json": {
       "model_id": "",
       "version_major": 2,
       "version_minor": 0
      },
      "text/plain": [
       "  0%|          | 0/1386 [00:00<?, ?it/s]"
      ]
     },
     "metadata": {},
     "output_type": "display_data"
    },
    {
     "name": "stdout",
     "output_type": "stream",
     "text": [
      "tensor([[0.7464, 0.9289],\n",
      "        [0.9570, 0.8089],\n",
      "        [0.9411, 0.0178],\n",
      "        [0.8964, 0.7186],\n",
      "        [0.9378, 0.8099],\n",
      "        [0.9490, 0.8858],\n",
      "        [0.9370, 0.1299],\n",
      "        [0.0980, 0.9234]], device='cuda:0', grad_fn=<SigmoidBackward0>)\n",
      "Epoch:89, combine_score:0.028404, cls_loss:305.377655, transfer_loss:691.912903, total_loss:997.289917\n",
      "\n"
     ]
    },
    {
     "data": {
      "application/vnd.jupyter.widget-view+json": {
       "model_id": "9c1407e17d56470fbd447fd5675eebff",
       "version_major": 2,
       "version_minor": 0
      },
      "text/plain": [
       "  0%|          | 0/1000 [00:00<?, ?it/s]"
      ]
     },
     "metadata": {},
     "output_type": "display_data"
    },
    {
     "data": {
      "application/vnd.jupyter.widget-view+json": {
       "model_id": "",
       "version_major": 2,
       "version_minor": 0
      },
      "text/plain": [
       "  0%|          | 0/1386 [00:00<?, ?it/s]"
      ]
     },
     "metadata": {},
     "output_type": "display_data"
    },
    {
     "name": "stdout",
     "output_type": "stream",
     "text": [
      "tensor([[0.8987, 0.9255],\n",
      "        [0.9465, 0.4389],\n",
      "        [0.9418, 0.0171],\n",
      "        [0.9090, 0.4861],\n",
      "        [0.9355, 0.7490],\n",
      "        [0.9439, 0.8235],\n",
      "        [0.9422, 0.0459],\n",
      "        [0.2434, 0.9115]], device='cuda:0', grad_fn=<SigmoidBackward0>)\n",
      "Epoch:90, combine_score:0.028798, cls_loss:301.609131, transfer_loss:691.948486, total_loss:993.557251\n",
      "\n"
     ]
    },
    {
     "data": {
      "application/vnd.jupyter.widget-view+json": {
       "model_id": "3e0b9cdbaece4aa6a1d7fce08e894611",
       "version_major": 2,
       "version_minor": 0
      },
      "text/plain": [
       "  0%|          | 0/1000 [00:00<?, ?it/s]"
      ]
     },
     "metadata": {},
     "output_type": "display_data"
    },
    {
     "data": {
      "application/vnd.jupyter.widget-view+json": {
       "model_id": "",
       "version_major": 2,
       "version_minor": 0
      },
      "text/plain": [
       "  0%|          | 0/1386 [00:00<?, ?it/s]"
      ]
     },
     "metadata": {},
     "output_type": "display_data"
    },
    {
     "name": "stdout",
     "output_type": "stream",
     "text": [
      "tensor([[0.9226, 0.9377],\n",
      "        [0.9463, 0.6120],\n",
      "        [0.9418, 0.0163],\n",
      "        [0.9023, 0.5973],\n",
      "        [0.9355, 0.4863],\n",
      "        [0.9472, 0.8649],\n",
      "        [0.9392, 0.0285],\n",
      "        [0.3657, 0.9078]], device='cuda:0', grad_fn=<SigmoidBackward0>)\n",
      "Epoch:91, combine_score:0.031637, cls_loss:306.310120, transfer_loss:691.634827, total_loss:997.944641\n",
      "\n"
     ]
    },
    {
     "data": {
      "application/vnd.jupyter.widget-view+json": {
       "model_id": "48b584b827d44e9588829a456f9b8512",
       "version_major": 2,
       "version_minor": 0
      },
      "text/plain": [
       "  0%|          | 0/1000 [00:00<?, ?it/s]"
      ]
     },
     "metadata": {},
     "output_type": "display_data"
    },
    {
     "data": {
      "application/vnd.jupyter.widget-view+json": {
       "model_id": "",
       "version_major": 2,
       "version_minor": 0
      },
      "text/plain": [
       "  0%|          | 0/1386 [00:00<?, ?it/s]"
      ]
     },
     "metadata": {},
     "output_type": "display_data"
    },
    {
     "name": "stdout",
     "output_type": "stream",
     "text": [
      "tensor([[0.8175, 0.9325],\n",
      "        [0.9585, 0.6961],\n",
      "        [0.9413, 0.0302],\n",
      "        [0.9317, 0.5298],\n",
      "        [0.9406, 0.7354],\n",
      "        [0.9505, 0.9105],\n",
      "        [0.9427, 0.0759],\n",
      "        [0.2819, 0.9226]], device='cuda:0', grad_fn=<SigmoidBackward0>)\n",
      "Epoch:92, combine_score:0.035451, cls_loss:304.126953, transfer_loss:691.067078, total_loss:995.192810\n",
      "\n"
     ]
    },
    {
     "data": {
      "application/vnd.jupyter.widget-view+json": {
       "model_id": "e943a1d69c9748d8a2604790c39729cb",
       "version_major": 2,
       "version_minor": 0
      },
      "text/plain": [
       "  0%|          | 0/1000 [00:00<?, ?it/s]"
      ]
     },
     "metadata": {},
     "output_type": "display_data"
    },
    {
     "data": {
      "application/vnd.jupyter.widget-view+json": {
       "model_id": "",
       "version_major": 2,
       "version_minor": 0
      },
      "text/plain": [
       "  0%|          | 0/1386 [00:00<?, ?it/s]"
      ]
     },
     "metadata": {},
     "output_type": "display_data"
    },
    {
     "name": "stdout",
     "output_type": "stream",
     "text": [
      "tensor([[0.9184, 0.9303],\n",
      "        [0.9529, 0.5318],\n",
      "        [0.9431, 0.0138],\n",
      "        [0.8926, 0.6309],\n",
      "        [0.9380, 0.3378],\n",
      "        [0.9480, 0.8053],\n",
      "        [0.9410, 0.0578],\n",
      "        [0.4114, 0.9095]], device='cuda:0', grad_fn=<SigmoidBackward0>)\n",
      "Epoch:93, combine_score:0.038356, cls_loss:306.713440, transfer_loss:690.799377, total_loss:997.512451\n",
      "\n"
     ]
    },
    {
     "data": {
      "application/vnd.jupyter.widget-view+json": {
       "model_id": "afcbbd121a764d529bc72dac72b01770",
       "version_major": 2,
       "version_minor": 0
      },
      "text/plain": [
       "  0%|          | 0/1000 [00:00<?, ?it/s]"
      ]
     },
     "metadata": {},
     "output_type": "display_data"
    },
    {
     "data": {
      "application/vnd.jupyter.widget-view+json": {
       "model_id": "",
       "version_major": 2,
       "version_minor": 0
      },
      "text/plain": [
       "  0%|          | 0/1386 [00:00<?, ?it/s]"
      ]
     },
     "metadata": {},
     "output_type": "display_data"
    },
    {
     "name": "stdout",
     "output_type": "stream",
     "text": [
      "tensor([[0.8797, 0.9327],\n",
      "        [0.9333, 0.3445],\n",
      "        [0.9454, 0.0171],\n",
      "        [0.8977, 0.6136],\n",
      "        [0.9437, 0.7482],\n",
      "        [0.9437, 0.6348],\n",
      "        [0.9366, 0.0401],\n",
      "        [0.0875, 0.9310]], device='cuda:0', grad_fn=<SigmoidBackward0>)\n",
      "Epoch:94, combine_score:0.032775, cls_loss:312.804840, transfer_loss:685.079285, total_loss:997.885681\n",
      "\n"
     ]
    },
    {
     "data": {
      "application/vnd.jupyter.widget-view+json": {
       "model_id": "986efeb596fc4c569b53bf4ef983dc88",
       "version_major": 2,
       "version_minor": 0
      },
      "text/plain": [
       "  0%|          | 0/1000 [00:00<?, ?it/s]"
      ]
     },
     "metadata": {},
     "output_type": "display_data"
    },
    {
     "data": {
      "application/vnd.jupyter.widget-view+json": {
       "model_id": "",
       "version_major": 2,
       "version_minor": 0
      },
      "text/plain": [
       "  0%|          | 0/1386 [00:00<?, ?it/s]"
      ]
     },
     "metadata": {},
     "output_type": "display_data"
    },
    {
     "name": "stdout",
     "output_type": "stream",
     "text": [
      "tensor([[0.8056, 0.9249],\n",
      "        [0.9384, 0.4893],\n",
      "        [0.9494, 0.0136],\n",
      "        [0.8513, 0.6765],\n",
      "        [0.9338, 0.7553],\n",
      "        [0.9416, 0.7844],\n",
      "        [0.9409, 0.0476],\n",
      "        [0.1151, 0.9247]], device='cuda:0', grad_fn=<SigmoidBackward0>)\n",
      "Epoch:95, combine_score:0.031602, cls_loss:304.552460, transfer_loss:692.369690, total_loss:996.922180\n",
      "\n"
     ]
    },
    {
     "data": {
      "application/vnd.jupyter.widget-view+json": {
       "model_id": "889f65ffb68146798b63d9d3ae3e255e",
       "version_major": 2,
       "version_minor": 0
      },
      "text/plain": [
       "  0%|          | 0/1000 [00:00<?, ?it/s]"
      ]
     },
     "metadata": {},
     "output_type": "display_data"
    },
    {
     "data": {
      "application/vnd.jupyter.widget-view+json": {
       "model_id": "",
       "version_major": 2,
       "version_minor": 0
      },
      "text/plain": [
       "  0%|          | 0/1386 [00:00<?, ?it/s]"
      ]
     },
     "metadata": {},
     "output_type": "display_data"
    },
    {
     "name": "stdout",
     "output_type": "stream",
     "text": [
      "tensor([[0.7706, 0.9287],\n",
      "        [0.9434, 0.4916],\n",
      "        [0.9366, 0.0368],\n",
      "        [0.8374, 0.7973],\n",
      "        [0.9231, 0.8882],\n",
      "        [0.9411, 0.9023],\n",
      "        [0.9377, 0.0585],\n",
      "        [0.0730, 0.9267]], device='cuda:0', grad_fn=<SigmoidBackward0>)\n",
      "Epoch:96, combine_score:0.028761, cls_loss:303.261383, transfer_loss:692.037231, total_loss:995.299316\n",
      "\n"
     ]
    },
    {
     "data": {
      "application/vnd.jupyter.widget-view+json": {
       "model_id": "87dc19fc0f934c7ca01d786070600ebf",
       "version_major": 2,
       "version_minor": 0
      },
      "text/plain": [
       "  0%|          | 0/1000 [00:00<?, ?it/s]"
      ]
     },
     "metadata": {},
     "output_type": "display_data"
    },
    {
     "data": {
      "application/vnd.jupyter.widget-view+json": {
       "model_id": "",
       "version_major": 2,
       "version_minor": 0
      },
      "text/plain": [
       "  0%|          | 0/1386 [00:00<?, ?it/s]"
      ]
     },
     "metadata": {},
     "output_type": "display_data"
    },
    {
     "name": "stdout",
     "output_type": "stream",
     "text": [
      "tensor([[0.6319, 0.9273],\n",
      "        [0.9467, 0.7466],\n",
      "        [0.9453, 0.0572],\n",
      "        [0.7768, 0.8582],\n",
      "        [0.9355, 0.8371],\n",
      "        [0.9438, 0.8822],\n",
      "        [0.9414, 0.1904],\n",
      "        [0.1469, 0.9264]], device='cuda:0', grad_fn=<SigmoidBackward0>)\n",
      "Epoch:97, combine_score:0.028132, cls_loss:306.743469, transfer_loss:692.102295, total_loss:998.845825\n",
      "\n"
     ]
    },
    {
     "data": {
      "application/vnd.jupyter.widget-view+json": {
       "model_id": "2cd1ce926d534d48a97c51c55cfdc1e5",
       "version_major": 2,
       "version_minor": 0
      },
      "text/plain": [
       "  0%|          | 0/1000 [00:00<?, ?it/s]"
      ]
     },
     "metadata": {},
     "output_type": "display_data"
    },
    {
     "data": {
      "application/vnd.jupyter.widget-view+json": {
       "model_id": "",
       "version_major": 2,
       "version_minor": 0
      },
      "text/plain": [
       "  0%|          | 0/1386 [00:00<?, ?it/s]"
      ]
     },
     "metadata": {},
     "output_type": "display_data"
    },
    {
     "name": "stdout",
     "output_type": "stream",
     "text": [
      "tensor([[0.9205, 0.9206],\n",
      "        [0.9435, 0.4075],\n",
      "        [0.9521, 0.0303],\n",
      "        [0.8655, 0.6866],\n",
      "        [0.9343, 0.8252],\n",
      "        [0.9439, 0.7698],\n",
      "        [0.9452, 0.0515],\n",
      "        [0.1798, 0.9178]], device='cuda:0', grad_fn=<SigmoidBackward0>)\n",
      "Epoch:98, combine_score:0.031667, cls_loss:304.474518, transfer_loss:692.680908, total_loss:997.155823\n",
      "\n"
     ]
    },
    {
     "data": {
      "application/vnd.jupyter.widget-view+json": {
       "model_id": "95c4df1a14694058a912c56b2a10f6b5",
       "version_major": 2,
       "version_minor": 0
      },
      "text/plain": [
       "  0%|          | 0/1000 [00:00<?, ?it/s]"
      ]
     },
     "metadata": {},
     "output_type": "display_data"
    },
    {
     "data": {
      "application/vnd.jupyter.widget-view+json": {
       "model_id": "",
       "version_major": 2,
       "version_minor": 0
      },
      "text/plain": [
       "  0%|          | 0/1386 [00:00<?, ?it/s]"
      ]
     },
     "metadata": {},
     "output_type": "display_data"
    },
    {
     "name": "stdout",
     "output_type": "stream",
     "text": [
      "tensor([[0.9279, 0.9121],\n",
      "        [0.9457, 0.4829],\n",
      "        [0.9434, 0.0102],\n",
      "        [0.8936, 0.5888],\n",
      "        [0.9465, 0.5995],\n",
      "        [0.9476, 0.7853],\n",
      "        [0.9371, 0.0385],\n",
      "        [0.4750, 0.9066]], device='cuda:0', grad_fn=<SigmoidBackward0>)\n",
      "Epoch:99, combine_score:0.030526, cls_loss:296.820526, transfer_loss:691.324402, total_loss:988.145020\n",
      "\n"
     ]
    }
   ],
   "source": [
    "parser = argparse.ArgumentParser(description='baseline')\n",
    "# Hyperparameters\n",
    "parser.add_argument('--batch_size', type=int, default=8)\n",
    "parser.add_argument('--num_epochs', type=int, default=100)\n",
    "parser.add_argument('--is_scheduler', action='store_true', default=True,help='use scheduler(default-False)')\n",
    "\n",
    "# model\n",
    "parser.add_argument('--seed', type=int, default=42, \n",
    "                    help='random seed (default: 42)')\n",
    "\n",
    "\n",
    "##modify\n",
    "parser.add_argument('--lr', '--learning-rate', default=1e-2, type=float,\n",
    "                        metavar='LR', help='initial learning rate', dest='lr')\n",
    "parser.add_argument('--lr-gamma', default=0.001,\n",
    "                    type=float, help='parameter for lr scheduler')\n",
    "parser.add_argument('--lr-decay', default=0.75,\n",
    "                    type=float, help='parameter for lr scheduler')\n",
    "parser.add_argument('--momentum', default=0.9,\n",
    "                    type=float, metavar='M', help='momentum')\n",
    "parser.add_argument('--wd', '--weight-decay', default=1e-3, type=float,\n",
    "                    metavar='W', help='weight decay (default: 1e-3)',\n",
    "                    dest='weight_decay')\n",
    "\n",
    "###\n",
    "parser.add_argument('--model_path', type=str,\n",
    "                    default=None, help='Model checkpoint')\n",
    "parser.add_argument('--comment', type=str, default=None,\n",
    "                    help='Comment to describe the saved model')\n",
    "\n",
    "# Auxiliary arguments\n",
    "parser.add_argument('--eval_output', type=str, default='epoch7.csv',\n",
    "                    help='Path to save the evaluation result')\n",
    "parser.add_argument('--eval', action='store_true', default=False,\n",
    "                    help='eval mode')\n",
    "parser.add_argument('--is_eval', action='store_true', default=False,help='eval database')\n",
    "parser.add_argument('--eval_part', type=int, default=0)\n",
    "\n",
    "# backend options\n",
    "parser.add_argument('--cudnn-deterministic-toggle', action='store_false', \\\n",
    "                    default=True, \n",
    "                    help='use cudnn-deterministic? (default true)')    \n",
    "\n",
    "parser.add_argument('--cudnn-benchmark-toggle', action='store_true', \\\n",
    "                    default=False, \n",
    "                    help='use cudnn-benchmark? (default false)') \n",
    "\n",
    "parser.add_argument('--temperature', default=2.0,\n",
    "                        type=float, help='parameter temperature scaling')\n",
    "parser.add_argument('--rho', type=float, default=0.05, help=\"GPU ID\")\n",
    "##===================================================Rawboost data augmentation ======================================================================#\n",
    "\n",
    "parser.add_argument('--algo', type=int, default=0, \n",
    "                help='Rawboost algos discriptions. 0: No augmentation 1: LnL_convolutive_noise, 2: ISD_additive_noise, 3: SSI_additive_noise, 4: series algo (1+2+3), \\\n",
    "                5: series algo (1+2), 6: series algo (1+3), 7: series algo(2+3), 8: parallel algo(1,2) .default=0]')\n",
    "\n",
    "# LnL_convolutive_noise parameters\n",
    "parser.add_argument('--nBands', type=int, default=5, \n",
    "                help='number of notch filters.The higher the number of bands, the more aggresive the distortions is.[default=5]')\n",
    "parser.add_argument('--minF', type=int, default=20, \n",
    "                help='minimum centre frequency [Hz] of notch filter.[default=20] ')\n",
    "parser.add_argument('--maxF', type=int, default=8000, \n",
    "                help='maximum centre frequency [Hz] (<sr/2)  of notch filter.[default=8000]')\n",
    "parser.add_argument('--minBW', type=int, default=100, \n",
    "                help='minimum width [Hz] of filter.[default=100] ')\n",
    "parser.add_argument('--maxBW', type=int, default=1000, \n",
    "                help='maximum width [Hz] of filter.[default=1000] ')\n",
    "parser.add_argument('--minCoeff', type=int, default=10, \n",
    "                help='minimum filter coefficients. More the filter coefficients more ideal the filter slope.[default=10]')\n",
    "parser.add_argument('--maxCoeff', type=int, default=100, \n",
    "                help='maximum filter coefficients. More the filter coefficients more ideal the filter slope.[default=100]')\n",
    "parser.add_argument('--minG', type=int, default=0, \n",
    "                help='minimum gain factor of linear component.[default=0]')\n",
    "parser.add_argument('--maxG', type=int, default=0, \n",
    "                help='maximum gain factor of linear component.[default=0]')\n",
    "parser.add_argument('--minBiasLinNonLin', type=int, default=5, \n",
    "                help=' minimum gain difference between linear and non-linear components.[default=5]')\n",
    "parser.add_argument('--maxBiasLinNonLin', type=int, default=20, \n",
    "                help=' maximum gain difference between linear and non-linear components.[default=20]')\n",
    "parser.add_argument('--N_f', type=int, default=5, \n",
    "                help='order of the (non-)linearity where N_f=1 refers only to linear components.[default=5]')\n",
    "\n",
    "# ISD_additive_noise parameters\n",
    "parser.add_argument('--P', type=int, default=10, \n",
    "                help='Maximum number of uniformly distributed samples in [%].[defaul=10]')\n",
    "parser.add_argument('--g_sd', type=int, default=2, \n",
    "                help='gain parameters > 0. [default=2]')\n",
    "parser.add_argument('-i', '--iters-per-epoch', default=1000, type=int,\n",
    "                        help='Number of iterations per epoch')\n",
    "# SSI_additive_noise parameters\n",
    "parser.add_argument('--SNRmin', type=int, default=10, \n",
    "                help='Minimum SNR value for coloured additive noise.[defaul=10]')\n",
    "parser.add_argument('--SNRmax', type=int, default=40, \n",
    "                help='Maximum SNR value for coloured additive noise.[defaul=40]')\n",
    "\n",
    "##===================================================Rawboost data augmentation ======================================================================#\n",
    "\n",
    "\n",
    "if not os.path.exists('models'):\n",
    "    os.mkdir('models')\n",
    "args = parser.parse_args(args=[])\n",
    "\n",
    "#make experiment reproducible\n",
    "set_random_seed(args.seed, args)\n",
    "\n",
    "# track = args.track\n",
    "\n",
    "# assert track in ['LA', 'PA','DF'], 'Invalid track given'\n",
    "\n",
    "# #database\n",
    "# prefix_2021 = 'ASVspoof2021.{}'.format(track)\n",
    "\n",
    "#define model saving path\n",
    "model_tag = ' adam_fold1_{}_{}_{}'.format(\n",
    "         args.num_epochs, args.batch_size, args.lr)\n",
    "if args.comment:\n",
    "    model_tag = model_tag + '_{}'.format(args.comment)\n",
    "model_save_path = os.path.join('models', model_tag)\n",
    "\n",
    "#set model save directory\n",
    "if not os.path.exists(model_save_path):\n",
    "    os.mkdir(model_save_path)\n",
    "\n",
    "#GPU device\n",
    "device = 'cuda' if torch.cuda.is_available() else 'cpu'                  \n",
    "print('Device: {}'.format(device))\n",
    "\n",
    "for_model = {\n",
    "        \"architecture\": \"AASIST\",\n",
    "        \"nb_samp\": 80000,\n",
    "        \"first_conv\": 128,\n",
    "        \"filts\": [70, [1, 32], [32, 32], [32, 64], [64, 64]],\n",
    "        \"gat_dims\": [64, 32],\n",
    "        \"pool_ratios\": [0.5, 0.7, 0.5, 0.5],\n",
    "        \"temperatures\": [2.0, 2.0, 100.0, 100.0]\n",
    "    }\n",
    "    \n",
    "classifier = Model(for_model)\n",
    "nb_params = sum([param.view(-1).size()[0] for param in classifier.parameters()])\n",
    "print('nb_params:',nb_params)\n",
    "classifier.to(device)\n",
    "\n",
    "if args.model_path:\n",
    "    classifier.load_state_dict(torch.load(args.model_path,map_location=device))\n",
    "    print('Model loaded : {}'.format(args.model_path))\n",
    "\n",
    "if args.eval:\n",
    "    print('eval')\n",
    "    file_eval = pd.read_csv('test.csv')\n",
    "    print('no. of eval trials',len(file_eval))\n",
    "    eval_set = Dataset_ASVspoof_eval(file_eval['id'].to_list())\n",
    "    eval_loader = DataLoader(eval_set, batch_size=args.batch_size,num_workers=8, shuffle=False)\n",
    "    inference(eval_loader, classifier, device, args.eval_output)\n",
    "    sys.exit(1)\n",
    "\n",
    "df = pd.read_csv('train.csv')\n",
    "df['label'] = np.where(df['label']=='real',1,0)\n",
    "target_df = pd.read_csv('unlabeled.csv')\n",
    "X = df['id'].to_list()\n",
    "y = df['label'].to_list()\n",
    "\n",
    "# Stratified K-Fold 설정\n",
    "k = 5\n",
    "skf = StratifiedKFold(n_splits=k, shuffle=True, random_state=42)\n",
    "\n",
    "# Stratified K-Fold 적용\n",
    "folds = list(skf.split(X, y))\n",
    "\n",
    "# 특정 fold 선택 (예: fold_index = 0)\n",
    "fold_index = 1\n",
    "train_indices, val_indices = folds[fold_index]\n",
    "\n",
    "X_train = [X[i] for i in train_indices]\n",
    "X_test = [X[i] for i in val_indices]\n",
    "y_train = [y[i] for i in train_indices]\n",
    "y_test = [y[i] for i in val_indices]\n",
    "train_source_dataset = Dataset_ASVspoof_train(args,list_IDs = X_train,labels = y_train,algo=args.algo)\n",
    "train_target_dataset = Dataset_ASVspoof_dev(list_IDs = target_df['0'].to_list(),args=args,algo=args.algo)\n",
    "\n",
    "\n",
    "\n",
    "train_source_loader = DataLoader(train_source_dataset, batch_size=args.batch_size,\n",
    "                                     shuffle=True, num_workers=8, drop_last=True)\n",
    "train_target_loader = DataLoader(train_target_dataset, batch_size=args.batch_size,\n",
    "                                     shuffle=True, num_workers=8, drop_last=True)\n",
    "\n",
    "eval_set = Dataset_ASVspoof_dev(list_IDs = target_df['0'].to_list(),args=args,algo=args.algo)\n",
    "eval_loader = DataLoader(eval_set, batch_size=args.batch_size,num_workers=8, shuffle=False)\n",
    "\n",
    "\n",
    "train_source_iter = ForeverDataIterator(train_source_loader)\n",
    "train_target_iter = ForeverDataIterator(train_target_loader)\n",
    "\n",
    "\n",
    "dev_set = Dataset_ASVspoof_train(args,list_IDs = X_test,labels = y_test,algo=0)\n",
    "dev_loader = DataLoader(dev_set, batch_size=args.batch_size,num_workers=8, shuffle=False)\n",
    "\n",
    "domain_discri = DomainDiscriminator(\n",
    "            160 * 2, hidden_size=1024).to(device)\n",
    "\n",
    "\n",
    "\n",
    "base_optimizer = torch.optim.Adam\n",
    "ad_optimizer = torch.optim.Adam(domain_discri.get_parameters(\n",
    "), args.lr, weight_decay=args.weight_decay)\n",
    "optimizer = SAM(classifier.parameters(), base_optimizer, rho=args.rho, adaptive=False,\n",
    "        lr=args.lr,weight_decay=args.weight_decay)\n",
    "\n",
    "\n",
    "lr_scheduler = LambdaLR(optimizer, lambda x: args.lr *\n",
    "                            (1. + args.lr_gamma * float(x)) ** (-args.lr_decay))\n",
    "lr_scheduler_ad = LambdaLR(\n",
    "        ad_optimizer, lambda x: args.lr * (1. + args.lr_gamma * float(x)) ** (-args.lr_decay))\n",
    "\n",
    "domain_adv = ConditionalDomainAdversarialLoss(\n",
    "        domain_discri, entropy_conditioning=False,\n",
    "        num_classes=2, features_dim=160, randomized=False,\n",
    "        randomized_dim=1024\n",
    "    ).to(device)\n",
    "\n",
    "\n",
    "wandb.init(\n",
    "        project=f\"FOLD_ADAM_BEST\",\n",
    "        name='fold1',\n",
    "        config=args\n",
    "    )\n",
    "for epoch in range(args.num_epochs):\n",
    "    # train for one epoch\n",
    "    \n",
    "    total_cls_loss, total_transfer_loss, total_loss = train(train_source_iter, train_target_iter, classifier, domain_adv, optimizer, ad_optimizer,\n",
    "          lr_scheduler, lr_scheduler_ad, \n",
    "          epoch, args)\n",
    "    torch.save(classifier.state_dict(), os.path.join(\n",
    "        model_save_path, 'epoch_{}.pth'.format(epoch)))\n",
    "    \n",
    "    # evaluate on validation set\n",
    "    combine_score = produce_evaluation_file(dev_loader, classifier, device,X_test)\n",
    "\n",
    "    data_iter = iter(eval_loader)\n",
    "    wav = next(data_iter)\n",
    "\n",
    "    print(torch.sigmoid(classifier(wav.to(device))[0]))\n",
    "    print(\"Epoch:{}, combine_score:{:.6f}, cls_loss:{:.6f}, transfer_loss:{:.6f}, total_loss:{:.6f}\\n\".format(\n",
    "        epoch, combine_score,total_cls_loss, total_transfer_loss, total_loss))\n",
    "    wandb.log({\n",
    "        'combine':combine_score,\n",
    "        'lr':lr_scheduler.get_last_lr()[0],\n",
    "        'ad_lr':lr_scheduler_ad.get_last_lr()[0],\n",
    "        'total_cls_loss':total_cls_loss,\n",
    "        'total_transfer_loss':total_transfer_loss,\n",
    "        'total_loss':total_loss\n",
    "            })"
   ]
  },
  {
   "cell_type": "code",
   "execution_count": 14,
   "id": "27c4b3cc-de95-458e-a994-317aaa4de5d6",
   "metadata": {},
   "outputs": [
    {
     "data": {
      "application/vnd.jupyter.widget-view+json": {
       "model_id": "80e0c1d613354a5d8e4449c92d0e9b96",
       "version_major": 2,
       "version_minor": 0
      },
      "text/plain": [
       "  0%|          | 0/6250 [00:00<?, ?it/s]"
      ]
     },
     "metadata": {},
     "output_type": "display_data"
    }
   ],
   "source": [
    "file_eval = pd.read_csv('test.csv')\n",
    "eval_set = Dataset_ASVspoof_eval(file_eval['id'].to_list())\n",
    "eval_loader = DataLoader(eval_set, batch_size=args.batch_size,num_workers=8, shuffle=False)\n",
    "inference(eval_loader, classifier, device, 'asdf_fold1.csv')"
   ]
  },
  {
   "cell_type": "code",
   "execution_count": null,
   "id": "72aacca8-125e-4f50-98aa-a54498ded334",
   "metadata": {},
   "outputs": [],
   "source": []
  }
 ],
 "metadata": {
  "kernelspec": {
   "display_name": "Python 3 (ipykernel)",
   "language": "python",
   "name": "python3"
  },
  "language_info": {
   "codemirror_mode": {
    "name": "ipython",
    "version": 3
   },
   "file_extension": ".py",
   "mimetype": "text/x-python",
   "name": "python",
   "nbconvert_exporter": "python",
   "pygments_lexer": "ipython3",
   "version": "3.12.4"
  }
 },
 "nbformat": 4,
 "nbformat_minor": 5
}
