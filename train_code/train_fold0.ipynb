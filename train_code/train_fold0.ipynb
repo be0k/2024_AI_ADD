{
 "cells": [
  {
   "cell_type": "markdown",
   "id": "ebcd47b3-5c3c-4176-8739-14bb28bb9922",
   "metadata": {},
   "source": [
    "# Library"
   ]
  },
  {
   "cell_type": "code",
   "execution_count": 1,
   "id": "bf9681d4-2ed8-4351-a54d-1f116ffbbba4",
   "metadata": {},
   "outputs": [],
   "source": [
    "#general\n",
    "import argparse\n",
    "import sys\n",
    "import os\n",
    "import random\n",
    "from scipy import signal\n",
    "import copy\n",
    "from typing import Union\n",
    "from tqdm.notebook import tqdm\n",
    "import numpy as np\n",
    "import pandas as pd\n",
    "from typing import Callable, Tuple\n",
    "\n",
    "from typing import List, Dict\n",
    "import torch.nn as nn\n",
    "import itertools\n",
    "import random\n",
    "import numpy as np\n",
    "\n",
    "import torch\n",
    "from torch.utils.data import Sampler\n",
    "from torch.utils.data import DataLoader, Dataset\n",
    "from typing import TypeVar, Iterable, Dict, List\n",
    "\n",
    "#sklearn\n",
    "from sklearn.metrics import accuracy_score, f1_score\n",
    "from sklearn.calibration import calibration_curve\n",
    "from sklearn.metrics import mean_squared_error\n",
    "from sklearn.metrics import roc_auc_score\n",
    "from sklearn.model_selection import train_test_split,StratifiedKFold\n",
    "from scipy.interpolate import interp1d\n",
    "from scipy.optimize import brentq\n",
    "from sklearn.metrics import roc_curve, precision_recall_fscore_support, roc_auc_score\n",
    "\n",
    "#hf\n",
    "from transformers import (AutoConfig,AutoModel)\n",
    "\n",
    "#torch\n",
    "import torch.nn.functional as F\n",
    "from torch.utils.data import Dataset\n",
    "import torch\n",
    "from torch import nn\n",
    "from torch import Tensor\n",
    "from torch.utils.data import DataLoader\n",
    "from torch.optim.lr_scheduler import LambdaLR\n",
    "\n",
    "\n",
    "#librosa\n",
    "import librosa\n",
    "\n",
    "#wandb\n",
    "import wandb\n",
    "\n",
    "\n",
    "import warnings\n",
    "warnings.filterwarnings(\"ignore\")"
   ]
  },
  {
   "cell_type": "code",
   "execution_count": 2,
   "id": "af531ac2-eb00-4068-b7f7-d4411a8e3589",
   "metadata": {},
   "outputs": [],
   "source": [
    "class ForeverDataIterator:\n",
    "    r\"\"\"A data iterator that will never stop producing data\"\"\"\n",
    "\n",
    "    def __init__(self, data_loader: DataLoader, device=None):\n",
    "        self.data_loader = data_loader\n",
    "        self.iter = iter(self.data_loader)\n",
    "        self.device = device\n",
    "\n",
    "    def __next__(self):\n",
    "        try:\n",
    "            data = next(self.iter)\n",
    "            if self.device is not None:\n",
    "                data = send_to_device(data, self.device)\n",
    "        except StopIteration:\n",
    "            self.iter = iter(self.data_loader)\n",
    "            data = next(self.iter)\n",
    "            if self.device is not None:\n",
    "                data = send_to_device(data, self.device)\n",
    "        return data\n",
    "\n",
    "    def __len__(self):\n",
    "        return len(self.data_loader)\n",
    "\n",
    "\n",
    "class SAM(torch.optim.Optimizer):\n",
    "    def __init__(self, params, base_optimizer, rho=0.05, adaptive=False, **kwargs):\n",
    "        assert rho >= 0.0, f\"Invalid rho, should be non-negative: {rho}\"\n",
    "\n",
    "        defaults = dict(rho=rho, adaptive=adaptive, **kwargs)\n",
    "        super(SAM, self).__init__(params, defaults)\n",
    "\n",
    "        self.base_optimizer = base_optimizer(self.param_groups, **kwargs)\n",
    "        self.param_groups = self.base_optimizer.param_groups\n",
    "\n",
    "    @torch.no_grad()\n",
    "    def first_step(self, zero_grad=False):\n",
    "        grad_norm = self._grad_norm()\n",
    "        for group in self.param_groups:\n",
    "            scale = group[\"rho\"] / (grad_norm + 1e-12)\n",
    "\n",
    "            for p in group[\"params\"]:\n",
    "                if p.grad is None: continue\n",
    "                e_w = (torch.pow(p, 2) if group[\"adaptive\"] else 1.0) * p.grad * scale.to(p)\n",
    "                p.add_(e_w)  # climb to the local maximum \"w + e(w)\"\n",
    "                self.state[p][\"e_w\"] = e_w\n",
    "\n",
    "        if zero_grad: self.zero_grad()\n",
    "\n",
    "    @torch.no_grad()\n",
    "    def second_step(self, zero_grad=False):\n",
    "        for group in self.param_groups:\n",
    "            for p in group[\"params\"]:\n",
    "                if p.grad is None: continue\n",
    "                p.sub_(self.state[p][\"e_w\"])  # get back to \"w\" from \"w + e(w)\"\n",
    "\n",
    "        self.base_optimizer.step()  # do the actual \"sharpness-aware\" update\n",
    "\n",
    "        if zero_grad: self.zero_grad()\n",
    "\n",
    "    @torch.no_grad()\n",
    "    def step(self, closure=None):\n",
    "        assert closure is not None, \"Sharpness Aware Minimization requires closure, but it was not provided\"\n",
    "        closure = torch.enable_grad()(closure)  # the closure should do a full forward-backward pass\n",
    "\n",
    "        self.first_step(zero_grad=True)\n",
    "        closure()\n",
    "        self.second_step()\n",
    "\n",
    "    def _grad_norm(self):\n",
    "        shared_device = self.param_groups[0][\"params\"][0].device  # put everything on the same device, in case of model parallelism\n",
    "        norm = torch.norm(\n",
    "                    torch.stack([\n",
    "                        ((torch.abs(p) if group[\"adaptive\"] else 1.0) * p.grad).norm(p=2).to(shared_device)\n",
    "                        for group in self.param_groups for p in group[\"params\"]\n",
    "                        if p.grad is not None\n",
    "                    ]),\n",
    "                    p=2\n",
    "               )\n",
    "        return norm\n",
    "\n",
    "\n",
    "class ConditionalDomainAdversarialLoss(nn.Module):\n",
    "    r\"\"\"The Conditional Domain Adversarial Loss used in `Conditional Adversarial Domain Adaptation (NIPS 2018) <https://arxiv.org/abs/1705.10667>`_\n",
    "\n",
    "    Conditional Domain adversarial loss measures the domain discrepancy through training a domain discriminator in a\n",
    "    conditional manner. Given domain discriminator :math:`D`, feature representation :math:`f` and\n",
    "    classifier predictions :math:`g`, the definition of CDAN loss is\n",
    "\n",
    "    .. math::\n",
    "        loss(\\mathcal{D}_s, \\mathcal{D}_t) &= \\mathbb{E}_{x_i^s \\sim \\mathcal{D}_s} \\text{log}[D(T(f_i^s, g_i^s))] \\\\\n",
    "        &+ \\mathbb{E}_{x_j^t \\sim \\mathcal{D}_t} \\text{log}[1-D(T(f_j^t, g_j^t))],\\\\\n",
    "\n",
    "    where :math:`T` is a :class:`MultiLinearMap`  or :class:`RandomizedMultiLinearMap` which convert two tensors to a single tensor.\n",
    "\n",
    "    Args:\n",
    "        domain_discriminator (torch.nn.Module): A domain discriminator object, which predicts the domains of\n",
    "          features. Its input shape is (N, F) and output shape is (N, 1)\n",
    "        entropy_conditioning (bool, optional): If True, use entropy-aware weight to reweight each training example.\n",
    "          Default: False\n",
    "        randomized (bool, optional): If True, use `randomized multi linear map`. Else, use `multi linear map`.\n",
    "          Default: False\n",
    "        num_classes (int, optional): Number of classes. Default: -1\n",
    "        features_dim (int, optional): Dimension of input features. Default: -1\n",
    "        randomized_dim (int, optional): Dimension of features after randomized. Default: 1024\n",
    "        reduction (str, optional): Specifies the reduction to apply to the output:\n",
    "          ``'none'`` | ``'mean'`` | ``'sum'``. ``'none'``: no reduction will be applied,\n",
    "          ``'mean'``: the sum of the output will be divided by the number of\n",
    "          elements in the output, ``'sum'``: the output will be summed. Default: ``'mean'``\n",
    "\n",
    "    .. note::\n",
    "        You need to provide `num_classes`, `features_dim` and `randomized_dim` **only when** `randomized`\n",
    "        is set True.\n",
    "\n",
    "    Inputs:\n",
    "        - g_s (tensor): unnormalized classifier predictions on source domain, :math:`g^s`\n",
    "        - f_s (tensor): feature representations on source domain, :math:`f^s`\n",
    "        - g_t (tensor): unnormalized classifier predictions on target domain, :math:`g^t`\n",
    "        - f_t (tensor): feature representations on target domain, :math:`f^t`\n",
    "\n",
    "    Shape:\n",
    "        - g_s, g_t: :math:`(minibatch, C)` where C means the number of classes.\n",
    "        - f_s, f_t: :math:`(minibatch, F)` where F means the dimension of input features.\n",
    "        - Output: scalar by default. If :attr:`reduction` is ``'none'``, then :math:`(minibatch, )`.\n",
    "\n",
    "    Examples::\n",
    "\n",
    "        >>> from dalib.modules.domain_discriminator import DomainDiscriminator\n",
    "        >>> from dalib.adaptation.cdan import ConditionalDomainAdversarialLoss\n",
    "        >>> import torch\n",
    "        >>> num_classes = 2\n",
    "        >>> feature_dim = 1024\n",
    "        >>> batch_size = 10\n",
    "        >>> discriminator = DomainDiscriminator(in_feature=feature_dim * num_classes, hidden_size=1024)\n",
    "        >>> loss = ConditionalDomainAdversarialLoss(discriminator, reduction='mean')\n",
    "        >>> # features from source domain and target domain\n",
    "        >>> f_s, f_t = torch.randn(batch_size, feature_dim), torch.randn(batch_size, feature_dim)\n",
    "        >>> # logits output from source domain adn target domain\n",
    "        >>> g_s, g_t = torch.randn(batch_size, num_classes), torch.randn(batch_size, num_classes)\n",
    "        >>> output = loss(g_s, f_s, g_t, f_t)\n",
    "    \"\"\"\n",
    "\n",
    "    def __init__(self, domain_discriminator: nn.Module, entropy_conditioning: Optional[bool] = False,\n",
    "                 randomized: Optional[bool] = False, num_classes: Optional[int] = -1,\n",
    "                 features_dim: Optional[int] = -1, randomized_dim: Optional[int] = 1024,\n",
    "                 reduction: Optional[str] = 'mean'):\n",
    "        super(ConditionalDomainAdversarialLoss, self).__init__()\n",
    "        self.domain_discriminator = domain_discriminator\n",
    "        self.grl = WarmStartGradientReverseLayer(alpha=1., lo=0., hi=1., max_iters=1000, auto_step=True)\n",
    "        self.entropy_conditioning = entropy_conditioning\n",
    "\n",
    "        if randomized:\n",
    "            assert num_classes > 0 and features_dim > 0 and randomized_dim > 0\n",
    "            self.map = RandomizedMultiLinearMap(features_dim, num_classes, randomized_dim)\n",
    "        else:\n",
    "            self.map = MultiLinearMap()\n",
    "\n",
    "        self.bce = lambda input, target, weight: F.binary_cross_entropy(input, target, weight,\n",
    "                                                                        reduction=reduction) if self.entropy_conditioning \\\n",
    "            else F.binary_cross_entropy(input, target, reduction=reduction)\n",
    "        self.domain_discriminator_accuracy = None\n",
    "\n",
    "    def forward(self, g_s: torch.Tensor, f_s: torch.Tensor, g_t: torch.Tensor, f_t: torch.Tensor) -> torch.Tensor:\n",
    "        f = torch.cat((f_s, f_t), dim=0)\n",
    "        g = torch.cat((g_s, g_t), dim=0)\n",
    "        g = F.softmax(g, dim=1).detach()\n",
    "        h = self.grl(self.map(f, g))\n",
    "        d = self.domain_discriminator(h)\n",
    "        d_label = torch.cat((\n",
    "            torch.ones((g_s.size(0), 1)).to(g_s.device),\n",
    "            torch.zeros((g_t.size(0), 1)).to(g_t.device),\n",
    "        ))\n",
    "        weight = 1.0 + torch.exp(-entropy(g))\n",
    "        batch_size = f.size(0)\n",
    "        weight = weight / torch.sum(weight) * batch_size\n",
    "        return self.bce(d, d_label, weight.view_as(d))\n",
    "\n",
    "\n",
    "class RandomizedMultiLinearMap(nn.Module):\n",
    "    \"\"\"Random multi linear map\n",
    "\n",
    "    Given two inputs :math:`f` and :math:`g`, the definition is\n",
    "\n",
    "    .. math::\n",
    "        T_{\\odot}(f,g) = \\dfrac{1}{\\sqrt{d}} (R_f f) \\odot (R_g g),\n",
    "\n",
    "    where :math:`\\odot` is element-wise product, :math:`R_f` and :math:`R_g` are random matrices\n",
    "    sampled only once and ﬁxed in training.\n",
    "\n",
    "    Args:\n",
    "        features_dim (int): dimension of input :math:`f`\n",
    "        num_classes (int): dimension of input :math:`g`\n",
    "        output_dim (int, optional): dimension of output tensor. Default: 1024\n",
    "\n",
    "    Shape:\n",
    "        - f: (minibatch, features_dim)\n",
    "        - g: (minibatch, num_classes)\n",
    "        - Outputs: (minibatch, output_dim)\n",
    "    \"\"\"\n",
    "\n",
    "    def __init__(self, features_dim: int, num_classes: int, output_dim: Optional[int] = 1024):\n",
    "        super(RandomizedMultiLinearMap, self).__init__()\n",
    "        self.Rf = torch.randn(features_dim, output_dim)\n",
    "        self.Rg = torch.randn(num_classes, output_dim)\n",
    "        self.output_dim = output_dim\n",
    "\n",
    "    def forward(self, f: torch.Tensor, g: torch.Tensor) -> torch.Tensor:\n",
    "        f = torch.mm(f, self.Rf.to(f.device))\n",
    "        g = torch.mm(g, self.Rg.to(g.device))\n",
    "        output = torch.mul(f, g) / np.sqrt(float(self.output_dim))\n",
    "        return output\n",
    "\n",
    "\n",
    "class MultiLinearMap(nn.Module):\n",
    "    \"\"\"Multi linear map\n",
    "\n",
    "    Shape:\n",
    "        - f: (minibatch, F)\n",
    "        - g: (minibatch, C)\n",
    "        - Outputs: (minibatch, F * C)\n",
    "    \"\"\"\n",
    "\n",
    "    def __init__(self):\n",
    "        super(MultiLinearMap, self).__init__()\n",
    "\n",
    "    def forward(self, f: torch.Tensor, g: torch.Tensor) -> torch.Tensor:\n",
    "        batch_size = f.size(0)\n",
    "        output = torch.bmm(g.unsqueeze(2), f.unsqueeze(1))\n",
    "        return output.view(batch_size, -1)\n",
    "\n",
    "\n",
    "from typing import Optional, Any, Tuple\n",
    "import numpy as np\n",
    "import torch.nn as nn\n",
    "from torch.autograd import Function\n",
    "import torch\n",
    "\n",
    "\n",
    "class GradientReverseFunction(Function):\n",
    "\n",
    "    @staticmethod\n",
    "    def forward(ctx: Any, input: torch.Tensor, coeff: Optional[float] = 1.) -> torch.Tensor:\n",
    "        ctx.coeff = coeff\n",
    "        output = input * 1.0\n",
    "        return output\n",
    "\n",
    "    @staticmethod\n",
    "    def backward(ctx: Any, grad_output: torch.Tensor) -> Tuple[torch.Tensor, Any]:\n",
    "        return grad_output.neg() * ctx.coeff, None\n",
    "\n",
    "\n",
    "class GradientReverseLayer(nn.Module):\n",
    "    def __init__(self):\n",
    "        super(GradientReverseLayer, self).__init__()\n",
    "\n",
    "    def forward(self, *input):\n",
    "        return GradientReverseFunction.apply(*input)\n",
    "\n",
    "\n",
    "class WarmStartGradientReverseLayer(nn.Module):\n",
    "    \"\"\"Gradient Reverse Layer :math:`\\mathcal{R}(x)` with warm start\n",
    "\n",
    "        The forward and backward behaviours are:\n",
    "\n",
    "        .. math::\n",
    "            \\mathcal{R}(x) = x,\n",
    "\n",
    "            \\dfrac{ d\\mathcal{R}} {dx} = - \\lambda I.\n",
    "\n",
    "        :math:`\\lambda` is initiated at :math:`lo` and is gradually changed to :math:`hi` using the following schedule:\n",
    "\n",
    "        .. math::\n",
    "            \\lambda = \\dfrac{2(hi-lo)}{1+\\exp(- α \\dfrac{i}{N})} - (hi-lo) + lo\n",
    "\n",
    "        where :math:`i` is the iteration step.\n",
    "\n",
    "        Args:\n",
    "            alpha (float, optional): :math:`α`. Default: 1.0\n",
    "            lo (float, optional): Initial value of :math:`\\lambda`. Default: 0.0\n",
    "            hi (float, optional): Final value of :math:`\\lambda`. Default: 1.0\n",
    "            max_iters (int, optional): :math:`N`. Default: 1000\n",
    "            auto_step (bool, optional): If True, increase :math:`i` each time `forward` is called.\n",
    "              Otherwise use function `step` to increase :math:`i`. Default: False\n",
    "        \"\"\"\n",
    "\n",
    "    def __init__(self, alpha: Optional[float] = 1.0, lo: Optional[float] = 0.0, hi: Optional[float] = 1.,\n",
    "                 max_iters: Optional[int] = 1000., auto_step: Optional[bool] = False):\n",
    "        super(WarmStartGradientReverseLayer, self).__init__()\n",
    "        self.alpha = alpha\n",
    "        self.lo = lo\n",
    "        self.hi = hi\n",
    "        self.iter_num = 0\n",
    "        self.max_iters = max_iters\n",
    "        self.auto_step = auto_step\n",
    "\n",
    "    def forward(self, input: torch.Tensor) -> torch.Tensor:\n",
    "        \"\"\"\"\"\"\n",
    "        coeff = float(\n",
    "            2.0 * (self.hi - self.lo) / (1.0 + np.exp(-self.alpha * self.iter_num / self.max_iters))\n",
    "            - (self.hi - self.lo) + self.lo\n",
    "        )\n",
    "        if self.auto_step:\n",
    "            self.step()\n",
    "        return GradientReverseFunction.apply(input, coeff)\n",
    "\n",
    "    def step(self):\n",
    "        \"\"\"Increase iteration number :math:`i` by 1\"\"\"\n",
    "        self.iter_num += 1"
   ]
  },
  {
   "cell_type": "markdown",
   "id": "12f22985-b074-4a19-8adc-05d9422fa222",
   "metadata": {},
   "source": [
    "# Model"
   ]
  },
  {
   "cell_type": "code",
   "execution_count": 3,
   "id": "4e405595-ff29-40dc-b476-81f62c7cdced",
   "metadata": {},
   "outputs": [],
   "source": [
    "class GraphAttentionLayer(nn.Module):\n",
    "    def __init__(self, in_dim, out_dim, **kwargs):\n",
    "        super().__init__()\n",
    "\n",
    "        # attention map\n",
    "        self.att_proj = nn.Linear(in_dim, out_dim)\n",
    "        self.att_weight = self._init_new_params(out_dim, 1)\n",
    "\n",
    "        # project\n",
    "        self.proj_with_att = nn.Linear(in_dim, out_dim)\n",
    "        self.proj_without_att = nn.Linear(in_dim, out_dim)\n",
    "\n",
    "        # batch norm\n",
    "        self.bn = nn.BatchNorm1d(out_dim)\n",
    "\n",
    "        # dropout for inputs\n",
    "        self.input_drop = nn.Dropout(p=0.2)\n",
    "\n",
    "        # activate\n",
    "        self.act = nn.SELU(inplace=True)\n",
    "\n",
    "        # temperature\n",
    "        self.temp = 1.\n",
    "        if \"temperature\" in kwargs:\n",
    "            self.temp = kwargs[\"temperature\"]\n",
    "\n",
    "    def forward(self, x):\n",
    "        '''\n",
    "        x   :(#bs, #node, #dim)\n",
    "        '''\n",
    "        # apply input dropout\n",
    "        x = self.input_drop(x)\n",
    "\n",
    "        # derive attention map\n",
    "        att_map = self._derive_att_map(x)\n",
    "\n",
    "        # projection\n",
    "        x = self._project(x, att_map)\n",
    "\n",
    "        # apply batch norm\n",
    "        x = self._apply_BN(x)\n",
    "        x = self.act(x)\n",
    "        return x\n",
    "\n",
    "    def _pairwise_mul_nodes(self, x):\n",
    "        '''\n",
    "        Calculates pairwise multiplication of nodes.\n",
    "        - for attention map\n",
    "        x           :(#bs, #node, #dim)\n",
    "        out_shape   :(#bs, #node, #node, #dim)\n",
    "        '''\n",
    "\n",
    "        nb_nodes = x.size(1)\n",
    "        x = x.unsqueeze(2).expand(-1, -1, nb_nodes, -1)\n",
    "        x_mirror = x.transpose(1, 2)\n",
    "\n",
    "        return x * x_mirror\n",
    "\n",
    "    def _derive_att_map(self, x):\n",
    "        '''\n",
    "        x           :(#bs, #node, #dim)\n",
    "        out_shape   :(#bs, #node, #node, 1)\n",
    "        '''\n",
    "        att_map = self._pairwise_mul_nodes(x)\n",
    "        # size: (#bs, #node, #node, #dim_out)\n",
    "        att_map = torch.tanh(self.att_proj(att_map))\n",
    "        # size: (#bs, #node, #node, 1)\n",
    "        att_map = torch.matmul(att_map, self.att_weight)\n",
    "\n",
    "        # apply temperature\n",
    "        att_map = att_map / self.temp\n",
    "\n",
    "        att_map = F.softmax(att_map, dim=-2)\n",
    "\n",
    "        return att_map\n",
    "\n",
    "    def _project(self, x, att_map):\n",
    "        x1 = self.proj_with_att(torch.matmul(att_map.squeeze(-1), x))\n",
    "        x2 = self.proj_without_att(x)\n",
    "\n",
    "        return x1 + x2\n",
    "\n",
    "    def _apply_BN(self, x):\n",
    "        org_size = x.size()\n",
    "        x = x.view(-1, org_size[-1])\n",
    "        x = self.bn(x)\n",
    "        x = x.view(org_size)\n",
    "\n",
    "        return x\n",
    "\n",
    "    def _init_new_params(self, *size):\n",
    "        out = nn.Parameter(torch.FloatTensor(*size))\n",
    "        nn.init.xavier_normal_(out)\n",
    "        return out\n",
    "\n",
    "\n",
    "class HtrgGraphAttentionLayer(nn.Module):\n",
    "    def __init__(self, in_dim, out_dim, **kwargs):\n",
    "        super().__init__()\n",
    "\n",
    "        self.proj_type1 = nn.Linear(in_dim, in_dim)\n",
    "        self.proj_type2 = nn.Linear(in_dim, in_dim)\n",
    "\n",
    "        # attention map\n",
    "        self.att_proj = nn.Linear(in_dim, out_dim)\n",
    "        self.att_projM = nn.Linear(in_dim, out_dim)\n",
    "\n",
    "        self.att_weight11 = self._init_new_params(out_dim, 1)\n",
    "        self.att_weight22 = self._init_new_params(out_dim, 1)\n",
    "        self.att_weight12 = self._init_new_params(out_dim, 1)\n",
    "        self.att_weightM = self._init_new_params(out_dim, 1)\n",
    "\n",
    "        # project\n",
    "        self.proj_with_att = nn.Linear(in_dim, out_dim)\n",
    "        self.proj_without_att = nn.Linear(in_dim, out_dim)\n",
    "\n",
    "        self.proj_with_attM = nn.Linear(in_dim, out_dim)\n",
    "        self.proj_without_attM = nn.Linear(in_dim, out_dim)\n",
    "\n",
    "        # batch norm\n",
    "        self.bn = nn.BatchNorm1d(out_dim)\n",
    "\n",
    "        # dropout for inputs\n",
    "        self.input_drop = nn.Dropout(p=0.2)\n",
    "\n",
    "        # activate\n",
    "        self.act = nn.SELU(inplace=True)\n",
    "\n",
    "        # temperature\n",
    "        self.temp = 1.\n",
    "        if \"temperature\" in kwargs:\n",
    "            self.temp = kwargs[\"temperature\"]\n",
    "\n",
    "    def forward(self, x1, x2, master=None):\n",
    "        '''\n",
    "        x1  :(#bs, #node, #dim)\n",
    "        x2  :(#bs, #node, #dim)\n",
    "        '''\n",
    "        num_type1 = x1.size(1)\n",
    "        num_type2 = x2.size(1)\n",
    "\n",
    "        x1 = self.proj_type1(x1)\n",
    "        x2 = self.proj_type2(x2)\n",
    "\n",
    "        x = torch.cat([x1, x2], dim=1)\n",
    "\n",
    "        if master is None:\n",
    "            master = torch.mean(x, dim=1, keepdim=True)\n",
    "\n",
    "        # apply input dropout\n",
    "        x = self.input_drop(x)\n",
    "\n",
    "        # derive attention map\n",
    "        att_map = self._derive_att_map(x, num_type1, num_type2)\n",
    "\n",
    "        # directional edge for master node\n",
    "        master = self._update_master(x, master)\n",
    "\n",
    "        # projection\n",
    "        x = self._project(x, att_map)\n",
    "\n",
    "        # apply batch norm\n",
    "        x = self._apply_BN(x)\n",
    "        x = self.act(x)\n",
    "\n",
    "        x1 = x.narrow(1, 0, num_type1)\n",
    "        x2 = x.narrow(1, num_type1, num_type2)\n",
    "\n",
    "        return x1, x2, master\n",
    "\n",
    "    def _update_master(self, x, master):\n",
    "\n",
    "        att_map = self._derive_att_map_master(x, master)\n",
    "        master = self._project_master(x, master, att_map)\n",
    "\n",
    "        return master\n",
    "\n",
    "    def _pairwise_mul_nodes(self, x):\n",
    "        '''\n",
    "        Calculates pairwise multiplication of nodes.\n",
    "        - for attention map\n",
    "        x           :(#bs, #node, #dim)\n",
    "        out_shape   :(#bs, #node, #node, #dim)\n",
    "        '''\n",
    "\n",
    "        nb_nodes = x.size(1)\n",
    "        x = x.unsqueeze(2).expand(-1, -1, nb_nodes, -1)\n",
    "        x_mirror = x.transpose(1, 2)\n",
    "\n",
    "        return x * x_mirror\n",
    "\n",
    "    def _derive_att_map_master(self, x, master):\n",
    "        '''\n",
    "        x           :(#bs, #node, #dim)\n",
    "        out_shape   :(#bs, #node, #node, 1)\n",
    "        '''\n",
    "        att_map = x * master\n",
    "        att_map = torch.tanh(self.att_projM(att_map))\n",
    "\n",
    "        att_map = torch.matmul(att_map, self.att_weightM)\n",
    "\n",
    "        # apply temperature\n",
    "        att_map = att_map / self.temp\n",
    "\n",
    "        att_map = F.softmax(att_map, dim=-2)\n",
    "\n",
    "        return att_map\n",
    "\n",
    "    def _derive_att_map(self, x, num_type1, num_type2):\n",
    "        '''\n",
    "        x           :(#bs, #node, #dim)\n",
    "        out_shape   :(#bs, #node, #node, 1)\n",
    "        '''\n",
    "        att_map = self._pairwise_mul_nodes(x)\n",
    "        # size: (#bs, #node, #node, #dim_out)\n",
    "        att_map = torch.tanh(self.att_proj(att_map))\n",
    "        # size: (#bs, #node, #node, 1)\n",
    "\n",
    "        att_board = torch.zeros_like(att_map[:, :, :, 0]).unsqueeze(-1)\n",
    "\n",
    "        att_board[:, :num_type1, :num_type1, :] = torch.matmul(\n",
    "            att_map[:, :num_type1, :num_type1, :], self.att_weight11)\n",
    "        att_board[:, num_type1:, num_type1:, :] = torch.matmul(\n",
    "            att_map[:, num_type1:, num_type1:, :], self.att_weight22)\n",
    "        att_board[:, :num_type1, num_type1:, :] = torch.matmul(\n",
    "            att_map[:, :num_type1, num_type1:, :], self.att_weight12)\n",
    "        att_board[:, num_type1:, :num_type1, :] = torch.matmul(\n",
    "            att_map[:, num_type1:, :num_type1, :], self.att_weight12)\n",
    "\n",
    "        att_map = att_board\n",
    "\n",
    "        # att_map = torch.matmul(att_map, self.att_weight12)\n",
    "\n",
    "        # apply temperature\n",
    "        att_map = att_map / self.temp\n",
    "\n",
    "        att_map = F.softmax(att_map, dim=-2)\n",
    "\n",
    "        return att_map\n",
    "\n",
    "    def _project(self, x, att_map):\n",
    "        x1 = self.proj_with_att(torch.matmul(att_map.squeeze(-1), x))\n",
    "        x2 = self.proj_without_att(x)\n",
    "\n",
    "        return x1 + x2\n",
    "\n",
    "    def _project_master(self, x, master, att_map):\n",
    "\n",
    "        x1 = self.proj_with_attM(torch.matmul(\n",
    "            att_map.squeeze(-1).unsqueeze(1), x))\n",
    "        x2 = self.proj_without_attM(master)\n",
    "\n",
    "        return x1 + x2\n",
    "\n",
    "    def _apply_BN(self, x):\n",
    "        org_size = x.size()\n",
    "        x = x.view(-1, org_size[-1])\n",
    "        x = self.bn(x)\n",
    "        x = x.view(org_size)\n",
    "\n",
    "        return x\n",
    "\n",
    "    def _init_new_params(self, *size):\n",
    "        out = nn.Parameter(torch.FloatTensor(*size))\n",
    "        nn.init.xavier_normal_(out)\n",
    "        return out\n",
    "\n",
    "\n",
    "class GraphPool(nn.Module):\n",
    "    def __init__(self, k: float, in_dim: int, p: Union[float, int]):\n",
    "        super().__init__()\n",
    "        self.k = k\n",
    "        self.sigmoid = nn.Sigmoid()\n",
    "        self.proj = nn.Linear(in_dim, 1)\n",
    "        self.drop = nn.Dropout(p=p) if p > 0 else nn.Identity()\n",
    "        self.in_dim = in_dim\n",
    "\n",
    "    def forward(self, h):\n",
    "        Z = self.drop(h)\n",
    "        weights = self.proj(Z)\n",
    "        scores = self.sigmoid(weights)\n",
    "        new_h = self.top_k_graph(scores, h, self.k)\n",
    "\n",
    "        return new_h\n",
    "\n",
    "    def top_k_graph(self, scores, h, k):\n",
    "        \"\"\"\n",
    "        args\n",
    "        =====\n",
    "        scores: attention-based weights (#bs, #node, 1)\n",
    "        h: graph data (#bs, #node, #dim)\n",
    "        k: ratio of remaining nodes, (float)\n",
    "\n",
    "        returns\n",
    "        =====\n",
    "        h: graph pool applied data (#bs, #node', #dim)\n",
    "        \"\"\"\n",
    "        _, n_nodes, n_feat = h.size()\n",
    "        n_nodes = max(int(n_nodes * k), 1)\n",
    "        _, idx = torch.topk(scores, n_nodes, dim=1)\n",
    "        idx = idx.expand(-1, -1, n_feat)\n",
    "\n",
    "        h = h * scores\n",
    "        h = torch.gather(h, 1, idx)\n",
    "\n",
    "        return h\n",
    "\n",
    "\n",
    "class CONV(nn.Module):\n",
    "    @staticmethod\n",
    "    def to_mel(hz):\n",
    "        return 2595 * np.log10(1 + hz / 700)\n",
    "\n",
    "    @staticmethod\n",
    "    def to_hz(mel):\n",
    "        return 700 * (10**(mel / 2595) - 1)\n",
    "\n",
    "    def __init__(self,\n",
    "                 out_channels,\n",
    "                 kernel_size,\n",
    "                 sample_rate=16000,\n",
    "                 in_channels=1,\n",
    "                 stride=1,\n",
    "                 padding=0,\n",
    "                 dilation=1,\n",
    "                 bias=False,\n",
    "                 groups=1,\n",
    "                 mask=False):\n",
    "        super().__init__()\n",
    "        if in_channels != 1:\n",
    "\n",
    "            msg = \"SincConv only support one input channel (here, in_channels = {%i})\" % (\n",
    "                in_channels)\n",
    "            raise ValueError(msg)\n",
    "        self.out_channels = out_channels\n",
    "        self.kernel_size = kernel_size\n",
    "        self.sample_rate = sample_rate\n",
    "\n",
    "        # Forcing the filters to be odd (i.e, perfectly symmetrics)\n",
    "        if kernel_size % 2 == 0:\n",
    "            self.kernel_size = self.kernel_size + 1\n",
    "        self.stride = stride\n",
    "        self.padding = padding\n",
    "        self.dilation = dilation\n",
    "        self.mask = mask\n",
    "        if bias:\n",
    "            raise ValueError('SincConv does not support bias.')\n",
    "        if groups > 1:\n",
    "            raise ValueError('SincConv does not support groups.')\n",
    "\n",
    "        NFFT = 512\n",
    "        f = int(self.sample_rate / 2) * np.linspace(0, 1, int(NFFT / 2) + 1)\n",
    "        fmel = self.to_mel(f)\n",
    "        fmelmax = np.max(fmel)\n",
    "        fmelmin = np.min(fmel)\n",
    "        filbandwidthsmel = np.linspace(fmelmin, fmelmax, self.out_channels + 1)\n",
    "        filbandwidthsf = self.to_hz(filbandwidthsmel)\n",
    "\n",
    "        self.mel = filbandwidthsf\n",
    "        self.hsupp = torch.arange(-(self.kernel_size - 1) / 2,\n",
    "                                  (self.kernel_size - 1) / 2 + 1)\n",
    "        self.band_pass = torch.zeros(self.out_channels, self.kernel_size)\n",
    "        for i in range(len(self.mel) - 1):\n",
    "            fmin = self.mel[i]\n",
    "            fmax = self.mel[i + 1]\n",
    "            hHigh = (2*fmax/self.sample_rate) * \\\n",
    "                np.sinc(2*fmax*self.hsupp/self.sample_rate)\n",
    "            hLow = (2*fmin/self.sample_rate) * \\\n",
    "                np.sinc(2*fmin*self.hsupp/self.sample_rate)\n",
    "            hideal = hHigh - hLow\n",
    "\n",
    "            self.band_pass[i, :] = Tensor(np.hamming(\n",
    "                self.kernel_size)) * Tensor(hideal)\n",
    "\n",
    "    def forward(self, x, mask=False):\n",
    "        band_pass_filter = self.band_pass.clone().to(x.device)\n",
    "        if mask:\n",
    "            A = np.random.uniform(0, 20)\n",
    "            A = int(A)\n",
    "            A0 = random.randint(0, band_pass_filter.shape[0] - A)\n",
    "            band_pass_filter[A0:A0 + A, :] = 0\n",
    "        else:\n",
    "            band_pass_filter = band_pass_filter\n",
    "\n",
    "        self.filters = (band_pass_filter).view(self.out_channels, 1,\n",
    "                                               self.kernel_size)\n",
    "\n",
    "        return F.conv1d(x,\n",
    "                        self.filters,\n",
    "                        stride=self.stride,\n",
    "                        padding=self.padding,\n",
    "                        dilation=self.dilation,\n",
    "                        bias=None,\n",
    "                        groups=1)\n",
    "\n",
    "\n",
    "class Residual_block(nn.Module):\n",
    "    def __init__(self, nb_filts, first=False):\n",
    "        super().__init__()\n",
    "        self.first = first\n",
    "\n",
    "        if not self.first:\n",
    "            self.bn1 = nn.BatchNorm2d(num_features=nb_filts[0])\n",
    "        self.conv1 = nn.Conv2d(in_channels=nb_filts[0],\n",
    "                               out_channels=nb_filts[1],\n",
    "                               kernel_size=(2, 3),\n",
    "                               padding=(1, 1),\n",
    "                               stride=1)\n",
    "        self.selu = nn.SELU(inplace=True)\n",
    "\n",
    "        self.bn2 = nn.BatchNorm2d(num_features=nb_filts[1])\n",
    "        self.conv2 = nn.Conv2d(in_channels=nb_filts[1],\n",
    "                               out_channels=nb_filts[1],\n",
    "                               kernel_size=(2, 3),\n",
    "                               padding=(0, 1),\n",
    "                               stride=1)\n",
    "\n",
    "        if nb_filts[0] != nb_filts[1]:\n",
    "            self.downsample = True\n",
    "            self.conv_downsample = nn.Conv2d(in_channels=nb_filts[0],\n",
    "                                             out_channels=nb_filts[1],\n",
    "                                             padding=(0, 1),\n",
    "                                             kernel_size=(1, 3),\n",
    "                                             stride=1)\n",
    "\n",
    "        else:\n",
    "            self.downsample = False\n",
    "        self.mp = nn.MaxPool2d((1, 3))  # self.mp = nn.MaxPool2d((1,4))\n",
    "\n",
    "    def forward(self, x):\n",
    "        identity = x\n",
    "        if not self.first:\n",
    "            out = self.bn1(x)\n",
    "            out = self.selu(out)\n",
    "        else:\n",
    "            out = x\n",
    "        out = self.conv1(x)\n",
    "\n",
    "        # print('out',out.shape)\n",
    "        out = self.bn2(out)\n",
    "        out = self.selu(out)\n",
    "        # print('out',out.shape)\n",
    "        out = self.conv2(out)\n",
    "        #print('conv2 out',out.shape)\n",
    "        if self.downsample:\n",
    "            identity = self.conv_downsample(identity)\n",
    "\n",
    "        out += identity\n",
    "        out = self.mp(out)\n",
    "        return out\n",
    "\n",
    "\n",
    "class Model(nn.Module):\n",
    "    def __init__(self, d_args):\n",
    "        super().__init__()\n",
    "\n",
    "        self.d_args = d_args\n",
    "        filts = d_args[\"filts\"]\n",
    "        gat_dims = d_args[\"gat_dims\"]\n",
    "        pool_ratios = d_args[\"pool_ratios\"]\n",
    "        temperatures = d_args[\"temperatures\"]\n",
    "\n",
    "        self.conv_time = CONV(out_channels=filts[0],\n",
    "                              kernel_size=d_args[\"first_conv\"],\n",
    "                              in_channels=1)\n",
    "        self.first_bn = nn.BatchNorm2d(num_features=1)\n",
    "\n",
    "        self.drop = nn.Dropout(0.5, inplace=True)\n",
    "        self.drop_way = nn.Dropout(0.2, inplace=True)\n",
    "        self.selu = nn.SELU(inplace=True)\n",
    "\n",
    "        self.encoder = nn.Sequential(\n",
    "            nn.Sequential(Residual_block(nb_filts=filts[1], first=True)),\n",
    "            nn.Sequential(Residual_block(nb_filts=filts[2])),\n",
    "            nn.Sequential(Residual_block(nb_filts=filts[3])),\n",
    "            nn.Sequential(Residual_block(nb_filts=filts[4])),\n",
    "            nn.Sequential(Residual_block(nb_filts=filts[4])),\n",
    "            nn.Sequential(Residual_block(nb_filts=filts[4])))\n",
    "\n",
    "        self.pos_S = nn.Parameter(torch.randn(1, 23, filts[-1][-1]))\n",
    "        self.master1 = nn.Parameter(torch.randn(1, 1, gat_dims[0]))\n",
    "        self.master2 = nn.Parameter(torch.randn(1, 1, gat_dims[0]))\n",
    "\n",
    "        self.GAT_layer_S = GraphAttentionLayer(filts[-1][-1],\n",
    "                                               gat_dims[0],\n",
    "                                               temperature=temperatures[0])\n",
    "        self.GAT_layer_T = GraphAttentionLayer(filts[-1][-1],\n",
    "                                               gat_dims[0],\n",
    "                                               temperature=temperatures[1])\n",
    "\n",
    "        self.HtrgGAT_layer_ST11 = HtrgGraphAttentionLayer(\n",
    "            gat_dims[0], gat_dims[1], temperature=temperatures[2])\n",
    "        self.HtrgGAT_layer_ST12 = HtrgGraphAttentionLayer(\n",
    "            gat_dims[1], gat_dims[1], temperature=temperatures[2])\n",
    "\n",
    "        self.HtrgGAT_layer_ST21 = HtrgGraphAttentionLayer(\n",
    "            gat_dims[0], gat_dims[1], temperature=temperatures[2])\n",
    "\n",
    "        self.HtrgGAT_layer_ST22 = HtrgGraphAttentionLayer(\n",
    "            gat_dims[1], gat_dims[1], temperature=temperatures[2])\n",
    "\n",
    "        self.pool_S = GraphPool(pool_ratios[0], gat_dims[0], 0.3)\n",
    "        self.pool_T = GraphPool(pool_ratios[1], gat_dims[0], 0.3)\n",
    "        self.pool_hS1 = GraphPool(pool_ratios[2], gat_dims[1], 0.3)\n",
    "        self.pool_hT1 = GraphPool(pool_ratios[2], gat_dims[1], 0.3)\n",
    "\n",
    "        self.pool_hS2 = GraphPool(pool_ratios[2], gat_dims[1], 0.3)\n",
    "        self.pool_hT2 = GraphPool(pool_ratios[2], gat_dims[1], 0.3)\n",
    "\n",
    "        self.out_layer = nn.Linear(5 * gat_dims[1], 2)\n",
    "\n",
    "    def forward(self, x, Freq_aug=False):\n",
    "\n",
    "        x = x.unsqueeze(1)\n",
    "        x = self.conv_time(x, mask=Freq_aug)\n",
    "        x = x.unsqueeze(dim=1)\n",
    "        x = F.max_pool2d(torch.abs(x), (3, 3))\n",
    "        x = self.first_bn(x)\n",
    "        x = self.selu(x)\n",
    "\n",
    "        # get embeddings using encoder\n",
    "        # (#bs, #filt, #spec, #seq)\n",
    "        e = self.encoder(x)\n",
    "\n",
    "        # spectral GAT (GAT-S)\n",
    "        e_S, _ = torch.max(torch.abs(e), dim=3)  # max along time\n",
    "        e_S = e_S.transpose(1, 2) + self.pos_S\n",
    "\n",
    "        gat_S = self.GAT_layer_S(e_S)\n",
    "        out_S = self.pool_S(gat_S)  # (#bs, #node, #dim)\n",
    "\n",
    "        # temporal GAT (GAT-T)\n",
    "        e_T, _ = torch.max(torch.abs(e), dim=2)  # max along freq\n",
    "        e_T = e_T.transpose(1, 2)\n",
    "\n",
    "        gat_T = self.GAT_layer_T(e_T)\n",
    "        out_T = self.pool_T(gat_T)\n",
    "\n",
    "        # learnable master node\n",
    "        master1 = self.master1.expand(x.size(0), -1, -1)\n",
    "        master2 = self.master2.expand(x.size(0), -1, -1)\n",
    "\n",
    "        # inference 1\n",
    "        out_T1, out_S1, master1 = self.HtrgGAT_layer_ST11(\n",
    "            out_T, out_S, master=self.master1)\n",
    "\n",
    "        out_S1 = self.pool_hS1(out_S1)\n",
    "        out_T1 = self.pool_hT1(out_T1)\n",
    "\n",
    "        out_T_aug, out_S_aug, master_aug = self.HtrgGAT_layer_ST12(\n",
    "            out_T1, out_S1, master=master1)\n",
    "        out_T1 = out_T1 + out_T_aug\n",
    "        out_S1 = out_S1 + out_S_aug\n",
    "        master1 = master1 + master_aug\n",
    "\n",
    "        # inference 2\n",
    "        out_T2, out_S2, master2 = self.HtrgGAT_layer_ST21(\n",
    "            out_T, out_S, master=self.master2)\n",
    "        out_S2 = self.pool_hS2(out_S2)\n",
    "        out_T2 = self.pool_hT2(out_T2)\n",
    "\n",
    "        out_T_aug, out_S_aug, master_aug = self.HtrgGAT_layer_ST22(\n",
    "            out_T2, out_S2, master=master2)\n",
    "        out_T2 = out_T2 + out_T_aug\n",
    "        out_S2 = out_S2 + out_S_aug\n",
    "        master2 = master2 + master_aug\n",
    "\n",
    "        out_T1 = self.drop_way(out_T1)\n",
    "        out_T2 = self.drop_way(out_T2)\n",
    "        out_S1 = self.drop_way(out_S1)\n",
    "        out_S2 = self.drop_way(out_S2)\n",
    "        master1 = self.drop_way(master1)\n",
    "        master2 = self.drop_way(master2)\n",
    "\n",
    "        out_T = torch.max(out_T1, out_T2)\n",
    "        out_S = torch.max(out_S1, out_S2)\n",
    "        master = torch.max(master1, master2)\n",
    "\n",
    "        T_max, _ = torch.max(torch.abs(out_T), dim=1)\n",
    "        T_avg = torch.mean(out_T, dim=1)\n",
    "\n",
    "        S_max, _ = torch.max(torch.abs(out_S), dim=1)\n",
    "        S_avg = torch.mean(out_S, dim=1)\n",
    "\n",
    "        last_hidden = torch.cat(\n",
    "            [T_max, T_avg, S_max, S_avg, master.squeeze(1)], dim=1)\n",
    "\n",
    "        last_hidden = self.drop(last_hidden)\n",
    "        output = self.out_layer(last_hidden)\n",
    "\n",
    "        return output,last_hidden"
   ]
  },
  {
   "cell_type": "markdown",
   "id": "d553dbe4-1cdc-42e9-89da-992938bbad01",
   "metadata": {},
   "source": [
    "# RawBoost"
   ]
  },
  {
   "cell_type": "code",
   "execution_count": 4,
   "id": "722762a2-2d04-4e7e-b584-3c86e25aeb6c",
   "metadata": {},
   "outputs": [],
   "source": [
    "'''\n",
    "   Hemlata Tak, Madhu Kamble, Jose Patino, Massimiliano Todisco, Nicholas Evans.\n",
    "   RawBoost: A Raw Data Boosting and Augmentation Method applied to Automatic Speaker Verification Anti-Spoofing.\n",
    "   In Proc. ICASSP 2022, pp:6382--6386.\n",
    "'''\n",
    "\n",
    "def randRange(x1, x2, integer):\n",
    "    y = np.random.uniform(low=x1, high=x2, size=(1,))\n",
    "    if integer:\n",
    "        y = int(y)\n",
    "    return y\n",
    "\n",
    "def normWav(x,always):\n",
    "    if always:\n",
    "        x = x/np.amax(abs(x))\n",
    "    elif np.amax(abs(x)) > 1:\n",
    "            x = x/np.amax(abs(x))\n",
    "    return x\n",
    "\n",
    "\n",
    "def genNotchCoeffs(nBands,minF,maxF,minBW,maxBW,minCoeff,maxCoeff,minG,maxG,fs):\n",
    "    b = 1\n",
    "    for i in range(0, nBands):\n",
    "        fc = randRange(minF,maxF,0);\n",
    "        bw = randRange(minBW,maxBW,0);\n",
    "        c = randRange(minCoeff,maxCoeff,1);\n",
    "          \n",
    "        if c/2 == int(c/2):\n",
    "            c = c + 1\n",
    "        f1 = fc - bw/2\n",
    "        f2 = fc + bw/2\n",
    "        if f1 <= 0:\n",
    "            f1 = 1/1000\n",
    "        if f2 >= fs/2:\n",
    "            f2 =  fs/2-1/1000\n",
    "        b = np.convolve(signal.firwin(c, [float(f1), float(f2)], window='hamming', fs=fs),b)\n",
    "\n",
    "    G = randRange(minG,maxG,0); \n",
    "    _, h = signal.freqz(b, 1, fs=fs)    \n",
    "    b = pow(10, G/20)*b/np.amax(abs(h))   \n",
    "    return b\n",
    "\n",
    "\n",
    "def filterFIR(x,b):\n",
    "    N = b.shape[0] + 1\n",
    "    xpad = np.pad(x, (0, N), 'constant')\n",
    "    y = signal.lfilter(b, 1, xpad)\n",
    "    y = y[int(N/2):int(y.shape[0]-N/2)]\n",
    "    return y\n",
    "\n",
    "# Linear and non-linear convolutive noise\n",
    "def LnL_convolutive_noise(x,N_f,nBands,minF,maxF,minBW,maxBW,minCoeff,maxCoeff,minG,maxG,minBiasLinNonLin,maxBiasLinNonLin,fs):\n",
    "    y = [0] * x.shape[0]\n",
    "    for i in range(0, N_f):\n",
    "        if i == 1:\n",
    "            minG = minG-minBiasLinNonLin;\n",
    "            maxG = maxG-maxBiasLinNonLin;\n",
    "        b = genNotchCoeffs(nBands,minF,maxF,minBW,maxBW,minCoeff,maxCoeff,minG,maxG,fs)\n",
    "        y = y + filterFIR(np.power(x, (i+1)),  b)     \n",
    "    y = y - np.mean(y)\n",
    "    y = normWav(y,0)\n",
    "    return y\n",
    "\n",
    "\n",
    "# Impulsive signal dependent noise\n",
    "def ISD_additive_noise(x, P, g_sd):\n",
    "    beta = randRange(0, P, 0)\n",
    "    \n",
    "    y = copy.deepcopy(x)\n",
    "    x_len = x.shape[0]\n",
    "    n = int(x_len*(beta/100))\n",
    "    p = np.random.permutation(x_len)[:n]\n",
    "    f_r= np.multiply(((2*np.random.rand(p.shape[0]))-1),((2*np.random.rand(p.shape[0]))-1))\n",
    "    r = g_sd * x[p] * f_r\n",
    "    y[p] = x[p] + r\n",
    "    y = normWav(y,0)\n",
    "    return y\n",
    "\n",
    "\n",
    "# Stationary signal independent noise\n",
    "\n",
    "def SSI_additive_noise(x,SNRmin,SNRmax,nBands,minF,maxF,minBW,maxBW,minCoeff,maxCoeff,minG,maxG,fs):\n",
    "    noise = np.random.normal(0, 1, x.shape[0])\n",
    "    b = genNotchCoeffs(nBands,minF,maxF,minBW,maxBW,minCoeff,maxCoeff,minG,maxG,fs)\n",
    "    noise = filterFIR(noise, b)\n",
    "    noise = normWav(noise,1)\n",
    "    SNR = randRange(SNRmin, SNRmax, 0)\n",
    "    noise = noise / np.linalg.norm(noise,2) * np.linalg.norm(x,2) / 10.0**(0.05 * SNR)\n",
    "    x = x + noise\n",
    "    return x"
   ]
  },
  {
   "cell_type": "markdown",
   "id": "508da7ad-b12f-4d68-bf45-aafb6f5f3a5f",
   "metadata": {},
   "source": [
    "# Data Utils"
   ]
  },
  {
   "cell_type": "code",
   "execution_count": 5,
   "id": "e271b211-6947-4b30-ae59-c92660e2e57b",
   "metadata": {},
   "outputs": [],
   "source": [
    "def pad(x, max_len=80000):\n",
    "    x_len = x.shape[0]\n",
    "    if x_len >= max_len:\n",
    "        return x[:max_len]\n",
    "    # need to pad\n",
    "    num_repeats = int(max_len / x_len)+1\n",
    "    padded_x = np.tile(x, (1, num_repeats))[:, :max_len][0]\n",
    "    return padded_x\t\n",
    "\n",
    "class Dataset_ASVspoof_train(Dataset):\n",
    "    def __init__(self,args,list_IDs, labels,algo):\n",
    "            '''self.list_IDs\t: list of strings (each string: utt key),\n",
    "               self.labels      : dictionary (key: utt key, value: label integer)'''\n",
    "            self.list_IDs = list_IDs\n",
    "            self.labels = labels\n",
    "            self.algo=algo\n",
    "            self.args=args\n",
    "            self.cut=80000 # take ~4 sec audio (64600 samples)\n",
    "    def get_labels(self):\n",
    "            return self.labels\n",
    "        \n",
    "    def __len__(self):\n",
    "            return len(self.list_IDs)\n",
    "\n",
    "    def __getitem__(self, index):\n",
    "            X,fs = librosa.load('./train16000/'+self.list_IDs[index]+'.wav', sr=16000)\n",
    "\n",
    "            Y1= pad(X,self.cut)\n",
    "            tmp = np.random.randint(0, len(self.list_IDs))\n",
    "            X,fs = librosa.load('./train16000/'+self.list_IDs[tmp]+'.wav', sr=16000)\n",
    "            Y2= pad(X,self.cut)\n",
    "            Y1 = process_Rawboost_feature(Y1 + Y2,fs,self.args,self.algo)     \n",
    "            return Tensor(Y1), Tensor([(self.labels[index] and self.labels[tmp])^1,self.labels[index] or self.labels[tmp]])\n",
    "\n",
    "\n",
    "\n",
    "class Dataset_ASVspoof_dev(Dataset):\n",
    "    def __init__(self, list_IDs,args,algo):\n",
    "            '''self.list_IDs\t: list of strings (each string: utt key),\n",
    "               '''\n",
    "            self.args = args\n",
    "            self.algo = algo\n",
    "            self.list_IDs = list_IDs\n",
    "            self.cut=80000 # take ~4 sec audio (64600 samples)\n",
    "    \n",
    "    def __len__(self):\n",
    "            return len(self.list_IDs)\n",
    "        \n",
    "    def __getitem__(self, index):\n",
    "            utt_id = self.list_IDs[index]\n",
    "            X, fs = librosa.load('./unlabeled_data16000/'+utt_id+'.wav', sr=16000)\n",
    "            Y=process_Rawboost_feature(X,fs,self.args,self.algo)\n",
    "            X_pad = pad(Y,self.cut)\n",
    "            x_inp = Tensor(X_pad)\n",
    "            return x_inp\n",
    "        \n",
    "\n",
    "class Dataset_ASVspoof_eval(Dataset):\n",
    "    def __init__(self, list_IDs):\n",
    "            '''self.list_IDs\t: list of strings (each string: utt key),\n",
    "               '''\n",
    "               \n",
    "            self.list_IDs = list_IDs\n",
    "            self.cut=80000 # take ~4 sec audio (64600 samples)\n",
    "    \n",
    "    def __len__(self):\n",
    "            return len(self.list_IDs)\n",
    "        \n",
    "    def __getitem__(self, index):\n",
    "            utt_id = self.list_IDs[index]\n",
    "            X, fs = librosa.load('./test16000/'+utt_id+'.wav', sr=16000)\n",
    "            X_pad = pad(X,self.cut)\n",
    "            x_inp = Tensor(X_pad)\n",
    "            return x_inp\n",
    "\n",
    "#--------------RawBoost data augmentation algorithms---------------------------##\n",
    "\n",
    "def process_Rawboost_feature(feature, sr,args,algo):\n",
    "    \n",
    "    # Data process by Convolutive noise (1st algo)\n",
    "    if algo==1:\n",
    "\n",
    "        feature =LnL_convolutive_noise(feature,args.N_f,args.nBands,args.minF,args.maxF,args.minBW,args.maxBW,args.minCoeff,args.maxCoeff,args.minG,args.maxG,args.minBiasLinNonLin,args.maxBiasLinNonLin,sr)\n",
    "                            \n",
    "    # Data process by Impulsive noise (2nd algo)\n",
    "    elif algo==2:\n",
    "        \n",
    "        feature=ISD_additive_noise(feature, args.P, args.g_sd)\n",
    "                            \n",
    "    # Data process by coloured additive noise (3rd algo)\n",
    "    elif algo==3:\n",
    "        \n",
    "        feature=SSI_additive_noise(feature,args.SNRmin,args.SNRmax,args.nBands,args.minF,args.maxF,args.minBW,args.maxBW,args.minCoeff,args.maxCoeff,args.minG,args.maxG,sr)\n",
    "    \n",
    "    # Data process by all 3 algo. together in series (1+2+3)\n",
    "    elif algo==4:\n",
    "        \n",
    "        feature =LnL_convolutive_noise(feature,args.N_f,args.nBands,args.minF,args.maxF,args.minBW,args.maxBW,\n",
    "                 args.minCoeff,args.maxCoeff,args.minG,args.maxG,args.minBiasLinNonLin,args.maxBiasLinNonLin,sr)                         \n",
    "        feature=ISD_additive_noise(feature, args.P, args.g_sd)  \n",
    "        feature=SSI_additive_noise(feature,args.SNRmin,args.SNRmax,args.nBands,args.minF,\n",
    "                args.maxF,args.minBW,args.maxBW,args.minCoeff,args.maxCoeff,args.minG,args.maxG,sr)                 \n",
    "\n",
    "    # Data process by 1st two algo. together in series (1+2)\n",
    "    elif algo==5:\n",
    "        \n",
    "        feature =LnL_convolutive_noise(feature,args.N_f,args.nBands,args.minF,args.maxF,args.minBW,args.maxBW,\n",
    "                 args.minCoeff,args.maxCoeff,args.minG,args.maxG,args.minBiasLinNonLin,args.maxBiasLinNonLin,sr)                         \n",
    "        feature=ISD_additive_noise(feature, args.P, args.g_sd)                \n",
    "                            \n",
    "\n",
    "    # Data process by 1st and 3rd algo. together in series (1+3)\n",
    "    elif algo==6:  \n",
    "        \n",
    "        feature =LnL_convolutive_noise(feature,args.N_f,args.nBands,args.minF,args.maxF,args.minBW,args.maxBW,\n",
    "                 args.minCoeff,args.maxCoeff,args.minG,args.maxG,args.minBiasLinNonLin,args.maxBiasLinNonLin,sr)                         \n",
    "        feature=SSI_additive_noise(feature,args.SNRmin,args.SNRmax,args.nBands,args.minF,args.maxF,args.minBW,args.maxBW,args.minCoeff,args.maxCoeff,args.minG,args.maxG,sr) \n",
    "\n",
    "    # Data process by 2nd and 3rd algo. together in series (2+3)\n",
    "    elif algo==7: \n",
    "        \n",
    "        feature=ISD_additive_noise(feature, args.P, args.g_sd)\n",
    "        feature=SSI_additive_noise(feature,args.SNRmin,args.SNRmax,args.nBands,args.minF,args.maxF,args.minBW,args.maxBW,args.minCoeff,args.maxCoeff,args.minG,args.maxG,sr) \n",
    "   \n",
    "    # Data process by 1st two algo. together in Parallel (1||2)\n",
    "    elif algo==8:\n",
    "        \n",
    "        feature1 =LnL_convolutive_noise(feature,args.N_f,args.nBands,args.minF,args.maxF,args.minBW,args.maxBW,\n",
    "                 args.minCoeff,args.maxCoeff,args.minG,args.maxG,args.minBiasLinNonLin,args.maxBiasLinNonLin,sr)                         \n",
    "        feature2=ISD_additive_noise(feature, args.P, args.g_sd)\n",
    "\n",
    "        feature_para=feature1+feature2\n",
    "        feature=normWav(feature_para,0)  #normalized resultant waveform\n",
    " \n",
    "    # original data without Rawboost processing           \n",
    "    else:\n",
    "        \n",
    "        feature=feature\n",
    "    \n",
    "    return feature"
   ]
  },
  {
   "cell_type": "code",
   "execution_count": 6,
   "id": "51f91053-6df5-427c-af97-f936a89cffcc",
   "metadata": {},
   "outputs": [],
   "source": [
    "\n",
    "T_co = TypeVar('T_co', covariant=True)\n",
    "T = TypeVar('T')\n",
    "\n",
    "\n",
    "def send_to_device(tensor, device):\n",
    "    \"\"\"\n",
    "    Recursively sends the elements in a nested list/tuple/dictionary of tensors to a given device.\n",
    "\n",
    "    Args:\n",
    "        tensor (nested list/tuple/dictionary of :obj:`torch.Tensor`):\n",
    "            The data to send to a given device.\n",
    "        device (:obj:`torch.device`):\n",
    "            The device to send the data to\n",
    "\n",
    "    Returns:\n",
    "        The same data structure as :obj:`tensor` with all tensors sent to the proper device.\n",
    "    \"\"\"\n",
    "    if isinstance(tensor, (list, tuple)):\n",
    "        return type(tensor)(send_to_device(t, device) for t in tensor)\n",
    "    elif isinstance(tensor, dict):\n",
    "        return type(tensor)({k: send_to_device(v, device) for k, v in tensor.items()})\n",
    "    elif not hasattr(tensor, \"to\"):\n",
    "        return tensor\n",
    "    return tensor.to(device)\n",
    "\n",
    "\n",
    "class ForeverDataIterator:\n",
    "    r\"\"\"A data iterator that will never stop producing data\"\"\"\n",
    "\n",
    "    def __init__(self, data_loader: DataLoader, device=None):\n",
    "        self.data_loader = data_loader\n",
    "        self.iter = iter(self.data_loader)\n",
    "        self.device = device\n",
    "\n",
    "    def __next__(self):\n",
    "        try:\n",
    "            data = next(self.iter)\n",
    "            if self.device is not None:\n",
    "                data = send_to_device(data, self.device)\n",
    "        except StopIteration:\n",
    "            self.iter = iter(self.data_loader)\n",
    "            data = next(self.iter)\n",
    "            if self.device is not None:\n",
    "                data = send_to_device(data, self.device)\n",
    "        return data\n",
    "\n",
    "    def __len__(self):\n",
    "        return len(self.data_loader)\n",
    "\n",
    "\n",
    "def entropy(predictions: torch.Tensor, reduction='none') -> torch.Tensor:\n",
    "    r\"\"\"Entropy of prediction.\n",
    "    The definition is:\n",
    "\n",
    "    .. math::\n",
    "        entropy(p) = - \\sum_{c=1}^C p_c \\log p_c\n",
    "\n",
    "    where C is number of classes.\n",
    "\n",
    "    Args:\n",
    "        predictions (tensor): Classifier predictions. Expected to contain raw, normalized scores for each class\n",
    "        reduction (str, optional): Specifies the reduction to apply to the output:\n",
    "          ``'none'`` | ``'mean'``. ``'none'``: no reduction will be applied,\n",
    "          ``'mean'``: the sum of the output will be divided by the number of\n",
    "          elements in the output. Default: ``'mean'``\n",
    "\n",
    "    Shape:\n",
    "        - predictions: :math:`(minibatch, C)` where C means the number of classes.\n",
    "        - Output: :math:`(minibatch, )` by default. If :attr:`reduction` is ``'mean'``, then scalar.\n",
    "    \"\"\"\n",
    "    epsilon = 1e-5\n",
    "    H = -predictions * torch.log(predictions + epsilon)\n",
    "    H = H.sum(dim=1)\n",
    "    if reduction == 'mean':\n",
    "        return H.mean()\n",
    "    else:\n",
    "        return H\n",
    "\n",
    "\n",
    "\n",
    "class MinimumClassConfusionLoss(nn.Module):\n",
    "    r\"\"\"\n",
    "    Minimum Class Confusion loss minimizes the class confusion in the target predictions.\n",
    "\n",
    "    You can see more details in `Minimum Class Confusion for Versatile Domain Adaptation (ECCV 2020) <https://arxiv.org/abs/1912.03699>`_\n",
    "\n",
    "    Args:\n",
    "        temperature (float) : The temperature for rescaling, the prediction will shrink to vanilla softmax if\n",
    "          temperature is 1.0.\n",
    "\n",
    "    .. note::\n",
    "        Make sure that temperature is larger than 0.\n",
    "\n",
    "    Inputs: g_t\n",
    "        - g_t (tensor): unnormalized classifier predictions on target domain, :math:`g^t`\n",
    "\n",
    "    Shape:\n",
    "        - g_t: :math:`(minibatch, C)` where C means the number of classes.\n",
    "        - Output: scalar.\n",
    "\n",
    "    Examples::\n",
    "        >>> temperature = 2.0\n",
    "        >>> loss = MinimumClassConfusionLoss(temperature)\n",
    "        >>> # logits output from target domain\n",
    "        >>> g_t = torch.randn(batch_size, num_classes)\n",
    "        >>> output = loss(g_t)\n",
    "\n",
    "    MCC can also serve as a regularizer for existing methods.\n",
    "    Examples::\n",
    "        >>> from dalib.modules.domain_discriminator import DomainDiscriminator\n",
    "        >>> num_classes = 2\n",
    "        >>> feature_dim = 1024\n",
    "        >>> batch_size = 10\n",
    "        >>> temperature = 2.0\n",
    "        >>> discriminator = DomainDiscriminator(in_feature=feature_dim, hidden_size=1024)\n",
    "        >>> cdan_loss = ConditionalDomainAdversarialLoss(discriminator, reduction='mean')\n",
    "        >>> mcc_loss = MinimumClassConfusionLoss(temperature)\n",
    "        >>> # features from source domain and target domain\n",
    "        >>> f_s, f_t = torch.randn(batch_size, feature_dim), torch.randn(batch_size, feature_dim)\n",
    "        >>> # logits output from source domain adn target domain\n",
    "        >>> g_s, g_t = torch.randn(batch_size, num_classes), torch.randn(batch_size, num_classes)\n",
    "        >>> total_loss = cdan_loss(g_s, f_s, g_t, f_t) + mcc_loss(g_t)\n",
    "    \"\"\"\n",
    "\n",
    "    def __init__(self, temperature: float):\n",
    "        super(MinimumClassConfusionLoss, self).__init__()\n",
    "        self.temperature = temperature\n",
    "\n",
    "    def forward(self, logits: torch.Tensor) -> torch.Tensor:\n",
    "        batch_size, num_classes = logits.shape\n",
    "        predictions = F.softmax(logits / self.temperature, dim=1)  # batch_size x num_classes\n",
    "        entropy_weight = entropy(predictions).detach()\n",
    "        entropy_weight = 1 + torch.exp(-entropy_weight)\n",
    "        entropy_weight = (batch_size * entropy_weight / torch.sum(entropy_weight)).unsqueeze(dim=1)  # batch_size x 1\n",
    "        class_confusion_matrix = torch.mm((predictions * entropy_weight).transpose(1, 0), predictions) # num_classes x num_classes\n",
    "        class_confusion_matrix = class_confusion_matrix / torch.sum(class_confusion_matrix, dim=1)\n",
    "        mcc_loss = (torch.sum(class_confusion_matrix) - torch.trace(class_confusion_matrix)) / num_classes\n",
    "        return mcc_loss"
   ]
  },
  {
   "cell_type": "markdown",
   "id": "67f44dc4-acf4-43e9-946c-4e293983ec0d",
   "metadata": {},
   "source": [
    "# Seed"
   ]
  },
  {
   "cell_type": "code",
   "execution_count": 7,
   "id": "48443325-7a07-4502-a351-763911467b4b",
   "metadata": {},
   "outputs": [],
   "source": [
    "def set_random_seed(random_seed, args=None):\n",
    "    \"\"\" set_random_seed(random_seed, args=None)\n",
    "    \n",
    "    Set the random_seed for numpy, python, and cudnn\n",
    "    \n",
    "    input\n",
    "    -----\n",
    "      random_seed: integer random seed\n",
    "      args: argue parser\n",
    "    \"\"\"\n",
    "    \n",
    "    # initialization                                       \n",
    "    torch.manual_seed(random_seed)\n",
    "    random.seed(random_seed)\n",
    "    np.random.seed(random_seed)\n",
    "    os.environ['PYTHONHASHSEED'] = str(random_seed)\n",
    "\n",
    "    #For torch.backends.cudnn.deterministic\n",
    "    #Note: this default configuration may result in RuntimeError\n",
    "    #see https://pytorch.org/docs/stable/notes/randomness.html    \n",
    "    if args is None:\n",
    "        cudnn_deterministic = True\n",
    "        cudnn_benchmark = False\n",
    "    else:\n",
    "        cudnn_deterministic = args.cudnn_deterministic_toggle\n",
    "        cudnn_benchmark = args.cudnn_benchmark_toggle\n",
    "    \n",
    "        if not cudnn_deterministic:\n",
    "            print(\"cudnn_deterministic set to False\")\n",
    "        if cudnn_benchmark:\n",
    "            print(\"cudnn_benchmark set to True\")\n",
    "    \n",
    "    if torch.cuda.is_available():\n",
    "        torch.cuda.manual_seed_all(random_seed)\n",
    "        torch.backends.cudnn.deterministic = cudnn_deterministic\n",
    "        torch.backends.cudnn.benchmark = cudnn_benchmark\n",
    "    return"
   ]
  },
  {
   "cell_type": "markdown",
   "id": "99e5c4d0-927a-41a5-899d-1d35767d7a12",
   "metadata": {},
   "source": [
    "# Metrics"
   ]
  },
  {
   "cell_type": "code",
   "execution_count": 8,
   "id": "d127ff40-f591-4850-a107-2995665f6a56",
   "metadata": {},
   "outputs": [],
   "source": [
    "def expected_calibration_error(y_true, y_prob, n_bins=10):\n",
    "    prob_true, prob_pred = calibration_curve(y_true, y_prob, n_bins=n_bins, strategy='uniform')\n",
    "    bin_totals = np.histogram(y_prob, bins=np.linspace(0, 1, n_bins + 1), density=False)[0]\n",
    "    non_empty_bins = bin_totals > 0\n",
    "    bin_weights = bin_totals / len(y_prob)\n",
    "    bin_weights = bin_weights[non_empty_bins]\n",
    "    prob_true = prob_true[:len(bin_weights)]\n",
    "    prob_pred = prob_pred[:len(bin_weights)]\n",
    "    ece = np.sum(bin_weights * np.abs(prob_true - prob_pred))\n",
    "    return ece\n",
    "    \n",
    "def auc_brier_ece(answer_df, submission_df):\n",
    "    # Check for missing values in submission_df\n",
    "    if submission_df.isnull().values.any():\n",
    "        raise ValueError(\"The submission dataframe contains missing values.\")\n",
    "\n",
    "\n",
    "    # Check if the number and names of columns are the same in both dataframes\n",
    "    if len(answer_df.columns) != len(submission_df.columns) or not all(answer_df.columns == submission_df.columns):\n",
    "        raise ValueError(\"The columns of the answer and submission dataframes do not match.\")\n",
    "        \n",
    "    submission_df = submission_df[submission_df.iloc[:, 0].isin(answer_df.iloc[:, 0])]\n",
    "    submission_df.index = range(submission_df.shape[0])\n",
    "    \n",
    "    # Calculate AUC for each class\n",
    "    auc_scores = []\n",
    "    for column in answer_df.columns[1:]:\n",
    "        y_true = answer_df[column]\n",
    "        y_scores = submission_df[column]\n",
    "        auc = roc_auc_score(y_true, y_scores)\n",
    "        auc_scores.append(auc)\n",
    "\n",
    "\n",
    "    # Calculate mean AUC\n",
    "    mean_auc = np.mean(auc_scores)\n",
    "\n",
    "\n",
    "    brier_scores = []\n",
    "    ece_scores = []\n",
    "    \n",
    "    # Calculate Brier Score and ECE for each class\n",
    "    for column in answer_df.columns[1:]:\n",
    "        y_true = answer_df[column].values\n",
    "        y_prob = submission_df[column].values\n",
    "        \n",
    "        # Brier Score\n",
    "        brier = mean_squared_error(y_true, y_prob)\n",
    "        brier_scores.append(brier)\n",
    "        \n",
    "        # ECE\n",
    "        ece = expected_calibration_error(y_true, y_prob)\n",
    "        ece_scores.append(ece)\n",
    "    \n",
    "    # Calculate mean Brier Score and mean ECE\n",
    "    mean_brier = np.mean(brier_scores)\n",
    "    mean_ece = np.mean(ece_scores)\n",
    "    \n",
    "    # Calculate combined score\n",
    "    combined_score = 0.5 * (1 - mean_auc) + 0.25 * mean_brier + 0.25 * mean_ece\n",
    "    \n",
    "    return combined_score"
   ]
  },
  {
   "cell_type": "markdown",
   "id": "89010705-cca9-4480-9a00-a524664440f0",
   "metadata": {},
   "source": [
    "# Main"
   ]
  },
  {
   "cell_type": "code",
   "execution_count": 9,
   "id": "9a632e17-5bb0-4a5b-a45a-0e98407b6a79",
   "metadata": {},
   "outputs": [],
   "source": [
    "def produce_evaluation_file(\n",
    "    data_loader: DataLoader,\n",
    "    model,\n",
    "    device: torch.device,\n",
    "    id):\n",
    "    \"\"\"Perform evaluation and save the score to a file\"\"\"\n",
    "    model.eval()\n",
    "\n",
    "    predictions = []\n",
    "    trues = []\n",
    "    with torch.no_grad():\n",
    "        for batch_x, batch_y in tqdm(data_loader, leave=False):\n",
    "            batch_x = batch_x.to(device)\n",
    "            batch_out = torch.sigmoid(model(batch_x)[0]).cpu().detach().numpy()\n",
    "            # add outputs\n",
    "            predictions += batch_out.tolist()\n",
    "            trues += batch_y.numpy().tolist()\n",
    "    predictions = np.array(predictions)\n",
    "    trues = np.array(trues)\n",
    "    sub = pd.DataFrame({'id':id,\n",
    "                  'fake':predictions[:,0],\n",
    "                  'real':predictions[:,1]})\n",
    "\n",
    "    ans = pd.DataFrame({'id':id,\n",
    "                  'fake':trues[:,0],\n",
    "                  'real':trues[:,1]})\n",
    "\n",
    "    combine_score = auc_brier_ece(ans, sub)\n",
    "    return combine_score\n",
    "\n",
    "def inference(data_loader, model, device, save_path):\n",
    "    model.to(device)\n",
    "    model.eval()\n",
    "    predictions = []\n",
    "    with torch.no_grad():\n",
    "        for features in tqdm(iter(data_loader)):\n",
    "            features = features.to(device)\n",
    "            \n",
    "            probs = torch.sigmoid(model(features)[0])\n",
    "            \n",
    "            probs  = probs.cpu().detach().numpy()\n",
    "            predictions += probs.tolist()\n",
    "    submit = pd.read_csv('./sample_submission.csv')\n",
    "    submit.iloc[:, 1:] = predictions\n",
    "    submit.to_csv(save_path, index=False)\n",
    "    \n",
    "def label_smoothing(labels, smoothing=0.1):\n",
    "\n",
    "    assert 0 <= smoothing < 1\n",
    "    with torch.no_grad():\n",
    "        smoothed_labels = labels * (1 - smoothing) + smoothing / 2\n",
    "        \n",
    "    return smoothed_labels\n",
    "\n",
    "def train(train_source_iter: ForeverDataIterator, train_target_iter: ForeverDataIterator, model,\n",
    "          domain_adv: ConditionalDomainAdversarialLoss,optimizer, ad_optimizer,\n",
    "          lr_scheduler: LambdaLR, lr_scheduler_ad,\n",
    "          epoch: int, args: argparse.Namespace):\n",
    "    # switch to train mode\n",
    "    model.train()\n",
    "    domain_adv.train()\n",
    "    criterion = nn.BCEWithLogitsLoss()\n",
    "    total_cls_loss = 0\n",
    "    total_transfer_loss = 0\n",
    "    total_loss = 0\n",
    "    for i in tqdm(range(args.iters_per_epoch)):\n",
    "        x_s, labels_s = next(train_source_iter)\n",
    "        x_t= next(train_target_iter)\n",
    "\n",
    "        x_s = x_s.to(device)\n",
    "        x_t = x_t.to(device)\n",
    "        labels_s = label_smoothing(labels_s).to(device)\n",
    "\n",
    "        # measure data loading time\n",
    "        optimizer.zero_grad()\n",
    "        ad_optimizer.zero_grad()\n",
    "\n",
    "        # compute task loss for first step\n",
    "        x = torch.cat((x_s, x_t), dim=0)\n",
    "        y, f = model(x)\n",
    "        y_s, y_t = y.chunk(2, dim=0)\n",
    "        f_s, f_t = f.chunk(2, dim=0)\n",
    "        cls_loss = criterion(y_s, labels_s)\n",
    "        loss = cls_loss \n",
    "        loss.backward()\n",
    "\n",
    "        # Calculate ϵ̂ (w) and add it to the weights\n",
    "        optimizer.first_step(zero_grad=True)\n",
    "\n",
    "        # Calculate task loss and domain loss\n",
    "        y, f = model(x)\n",
    "        y_s, y_t = y.chunk(2, dim=0)\n",
    "        f_s, f_t = f.chunk(2, dim=0)\n",
    "\n",
    "        cls_loss = criterion(y_s, labels_s)\n",
    "        transfer_loss = domain_adv(y_s, f_s, y_t, f_t)\n",
    "        loss = cls_loss + transfer_loss * 1.\n",
    "        \n",
    "        total_cls_loss += cls_loss\n",
    "        total_transfer_loss += transfer_loss\n",
    "        total_loss += loss\n",
    "        \n",
    "        loss.backward()\n",
    "        # Update parameters of domain classifier\n",
    "        ad_optimizer.step()\n",
    "        # Update parameters (Sharpness-Aware update)\n",
    "        optimizer.second_step(zero_grad=True)\n",
    "    lr_scheduler.step(total_cls_loss)\n",
    "    lr_scheduler_ad.step(total_transfer_loss)\n",
    "\n",
    "    return total_cls_loss, total_transfer_loss, total_loss"
   ]
  },
  {
   "cell_type": "code",
   "execution_count": 10,
   "id": "55443bd9-edb5-4a18-a523-36fa0884cc05",
   "metadata": {},
   "outputs": [],
   "source": [
    "\"\"\"\n",
    "@author: Junguang Jiang\n",
    "@contact: JiangJunguang1123@outlook.com\n",
    "\"\"\"\n",
    "\n",
    "__all__ = ['DomainDiscriminator']\n",
    "\n",
    "\n",
    "class DomainDiscriminator(nn.Sequential):\n",
    "    r\"\"\"Domain discriminator model from\n",
    "    `Domain-Adversarial Training of Neural Networks (ICML 2015) <https://arxiv.org/abs/1505.07818>`_\n",
    "\n",
    "    Distinguish whether the input features come from the source domain or the target domain.\n",
    "    The source domain label is 1 and the target domain label is 0.\n",
    "\n",
    "    Args:\n",
    "        in_feature (int): dimension of the input feature\n",
    "        hidden_size (int): dimension of the hidden features\n",
    "        batch_norm (bool): whether use :class:`~torch.nn.BatchNorm1d`.\n",
    "            Use :class:`~torch.nn.Dropout` if ``batch_norm`` is False. Default: True.\n",
    "\n",
    "    Shape:\n",
    "        - Inputs: (minibatch, `in_feature`)\n",
    "        - Outputs: :math:`(minibatch, 1)`\n",
    "    \"\"\"\n",
    "\n",
    "    def __init__(self, in_feature: int, hidden_size: int, batch_norm=True):\n",
    "        if batch_norm:\n",
    "            super(DomainDiscriminator, self).__init__(\n",
    "                nn.Linear(in_feature, hidden_size),\n",
    "                nn.BatchNorm1d(hidden_size),\n",
    "                nn.ReLU(),\n",
    "                nn.Linear(hidden_size, hidden_size),\n",
    "                nn.BatchNorm1d(hidden_size),\n",
    "                nn.ReLU(),\n",
    "                nn.Linear(hidden_size, 1),\n",
    "                nn.Sigmoid()\n",
    "            )\n",
    "        else:\n",
    "            super(DomainDiscriminator, self).__init__(\n",
    "                nn.Linear(in_feature, hidden_size),\n",
    "                nn.ReLU(inplace=True),\n",
    "                nn.Dropout(0.5),\n",
    "                nn.Linear(hidden_size, hidden_size),\n",
    "                nn.ReLU(inplace=True),\n",
    "                nn.Dropout(0.5),\n",
    "                nn.Linear(hidden_size, 1),\n",
    "                nn.Sigmoid()\n",
    "            )\n",
    "\n",
    "    def get_parameters(self) -> List[Dict]:\n",
    "        return [{\"params\": self.parameters(), \"lr\": 1.}]"
   ]
  },
  {
   "cell_type": "code",
   "execution_count": 11,
   "id": "4da08fd0",
   "metadata": {
    "scrolled": true
   },
   "outputs": [
    {
     "name": "stdout",
     "output_type": "stream",
     "text": [
      "Device: cuda\n",
      "nb_params: 297866\n"
     ]
    },
    {
     "name": "stderr",
     "output_type": "stream",
     "text": [
      "\u001b[34m\u001b[1mwandb\u001b[0m: Currently logged in as: \u001b[33mbeok\u001b[0m (\u001b[33mbeokay\u001b[0m). Use \u001b[1m`wandb login --relogin`\u001b[0m to force relogin\n"
     ]
    },
    {
     "data": {
      "text/html": [
       "wandb version 0.17.4 is available!  To upgrade, please run:\n",
       " $ pip install wandb --upgrade"
      ],
      "text/plain": [
       "<IPython.core.display.HTML object>"
      ]
     },
     "metadata": {},
     "output_type": "display_data"
    },
    {
     "data": {
      "text/html": [
       "Tracking run with wandb version 0.17.3"
      ],
      "text/plain": [
       "<IPython.core.display.HTML object>"
      ]
     },
     "metadata": {},
     "output_type": "display_data"
    },
    {
     "data": {
      "text/html": [
       "Run data is saved locally in <code>/home/server4/Desktop/ai/wandb/run-20240716_111957-61u6v08x</code>"
      ],
      "text/plain": [
       "<IPython.core.display.HTML object>"
      ]
     },
     "metadata": {},
     "output_type": "display_data"
    },
    {
     "data": {
      "text/html": [
       "Syncing run <strong><a href='https://wandb.ai/beokay/FOLD_ADAM_BEST/runs/61u6v08x' target=\"_blank\">fold0</a></strong> to <a href='https://wandb.ai/beokay/FOLD_ADAM_BEST' target=\"_blank\">Weights & Biases</a> (<a href='https://wandb.me/run' target=\"_blank\">docs</a>)<br/>"
      ],
      "text/plain": [
       "<IPython.core.display.HTML object>"
      ]
     },
     "metadata": {},
     "output_type": "display_data"
    },
    {
     "data": {
      "text/html": [
       " View project at <a href='https://wandb.ai/beokay/FOLD_ADAM_BEST' target=\"_blank\">https://wandb.ai/beokay/FOLD_ADAM_BEST</a>"
      ],
      "text/plain": [
       "<IPython.core.display.HTML object>"
      ]
     },
     "metadata": {},
     "output_type": "display_data"
    },
    {
     "data": {
      "text/html": [
       " View run at <a href='https://wandb.ai/beokay/FOLD_ADAM_BEST/runs/61u6v08x' target=\"_blank\">https://wandb.ai/beokay/FOLD_ADAM_BEST/runs/61u6v08x</a>"
      ],
      "text/plain": [
       "<IPython.core.display.HTML object>"
      ]
     },
     "metadata": {},
     "output_type": "display_data"
    },
    {
     "data": {
      "application/vnd.jupyter.widget-view+json": {
       "model_id": "d3c4d1dbb84247129433d8d41a8ce202",
       "version_major": 2,
       "version_minor": 0
      },
      "text/plain": [
       "  0%|          | 0/1000 [00:00<?, ?it/s]"
      ]
     },
     "metadata": {},
     "output_type": "display_data"
    },
    {
     "data": {
      "application/vnd.jupyter.widget-view+json": {
       "model_id": "",
       "version_major": 2,
       "version_minor": 0
      },
      "text/plain": [
       "  0%|          | 0/1386 [00:00<?, ?it/s]"
      ]
     },
     "metadata": {},
     "output_type": "display_data"
    },
    {
     "name": "stdout",
     "output_type": "stream",
     "text": [
      "tensor([[0.2105, 0.9299],\n",
      "        [0.3643, 0.8791],\n",
      "        [0.8311, 0.3683],\n",
      "        [0.5121, 0.6753],\n",
      "        [0.8009, 0.4767],\n",
      "        [0.5401, 0.7637],\n",
      "        [0.4443, 0.8340],\n",
      "        [0.7395, 0.5710]], device='cuda:0', grad_fn=<SigmoidBackward0>)\n",
      "Epoch:0, combine_score:0.147711, cls_loss:640.689636, transfer_loss:477.222931, total_loss:1117.912476\n",
      "\n"
     ]
    },
    {
     "data": {
      "application/vnd.jupyter.widget-view+json": {
       "model_id": "a2ecfc596d12436b96f114b079e45b8e",
       "version_major": 2,
       "version_minor": 0
      },
      "text/plain": [
       "  0%|          | 0/1000 [00:00<?, ?it/s]"
      ]
     },
     "metadata": {},
     "output_type": "display_data"
    },
    {
     "data": {
      "application/vnd.jupyter.widget-view+json": {
       "model_id": "",
       "version_major": 2,
       "version_minor": 0
      },
      "text/plain": [
       "  0%|          | 0/1386 [00:00<?, ?it/s]"
      ]
     },
     "metadata": {},
     "output_type": "display_data"
    },
    {
     "name": "stdout",
     "output_type": "stream",
     "text": [
      "tensor([[0.3218, 0.9054],\n",
      "        [0.4024, 0.8980],\n",
      "        [0.9032, 0.3751],\n",
      "        [0.7326, 0.6078],\n",
      "        [0.7090, 0.6536],\n",
      "        [0.6909, 0.6822],\n",
      "        [0.7951, 0.4876],\n",
      "        [0.6634, 0.6947]], device='cuda:0', grad_fn=<SigmoidBackward0>)\n",
      "Epoch:1, combine_score:0.121804, cls_loss:577.031433, transfer_loss:612.625488, total_loss:1189.657349\n",
      "\n"
     ]
    },
    {
     "data": {
      "application/vnd.jupyter.widget-view+json": {
       "model_id": "7877021651e7461c941f1412c0ac1d4d",
       "version_major": 2,
       "version_minor": 0
      },
      "text/plain": [
       "  0%|          | 0/1000 [00:00<?, ?it/s]"
      ]
     },
     "metadata": {},
     "output_type": "display_data"
    },
    {
     "data": {
      "application/vnd.jupyter.widget-view+json": {
       "model_id": "",
       "version_major": 2,
       "version_minor": 0
      },
      "text/plain": [
       "  0%|          | 0/1386 [00:00<?, ?it/s]"
      ]
     },
     "metadata": {},
     "output_type": "display_data"
    },
    {
     "name": "stdout",
     "output_type": "stream",
     "text": [
      "tensor([[0.2841, 0.9198],\n",
      "        [0.5423, 0.7641],\n",
      "        [0.9601, 0.2076],\n",
      "        [0.6964, 0.6742],\n",
      "        [0.7268, 0.6890],\n",
      "        [0.6069, 0.7176],\n",
      "        [0.9290, 0.3188],\n",
      "        [0.4665, 0.8617]], device='cuda:0', grad_fn=<SigmoidBackward0>)\n",
      "Epoch:2, combine_score:0.095252, cls_loss:544.355469, transfer_loss:669.910034, total_loss:1214.266602\n",
      "\n"
     ]
    },
    {
     "data": {
      "application/vnd.jupyter.widget-view+json": {
       "model_id": "84ca89d36a624203a4af75e39da79fcf",
       "version_major": 2,
       "version_minor": 0
      },
      "text/plain": [
       "  0%|          | 0/1000 [00:00<?, ?it/s]"
      ]
     },
     "metadata": {},
     "output_type": "display_data"
    },
    {
     "data": {
      "application/vnd.jupyter.widget-view+json": {
       "model_id": "",
       "version_major": 2,
       "version_minor": 0
      },
      "text/plain": [
       "  0%|          | 0/1386 [00:00<?, ?it/s]"
      ]
     },
     "metadata": {},
     "output_type": "display_data"
    },
    {
     "name": "stdout",
     "output_type": "stream",
     "text": [
      "tensor([[0.3297, 0.8991],\n",
      "        [0.7972, 0.6137],\n",
      "        [0.9748, 0.1695],\n",
      "        [0.8184, 0.6005],\n",
      "        [0.7935, 0.6183],\n",
      "        [0.7588, 0.6345],\n",
      "        [0.9522, 0.2754],\n",
      "        [0.4839, 0.8780]], device='cuda:0', grad_fn=<SigmoidBackward0>)\n",
      "Epoch:3, combine_score:0.092990, cls_loss:514.410522, transfer_loss:678.934570, total_loss:1193.345825\n",
      "\n"
     ]
    },
    {
     "data": {
      "application/vnd.jupyter.widget-view+json": {
       "model_id": "2a190c3803ef4d53b17139c752022c49",
       "version_major": 2,
       "version_minor": 0
      },
      "text/plain": [
       "  0%|          | 0/1000 [00:00<?, ?it/s]"
      ]
     },
     "metadata": {},
     "output_type": "display_data"
    },
    {
     "data": {
      "application/vnd.jupyter.widget-view+json": {
       "model_id": "",
       "version_major": 2,
       "version_minor": 0
      },
      "text/plain": [
       "  0%|          | 0/1386 [00:00<?, ?it/s]"
      ]
     },
     "metadata": {},
     "output_type": "display_data"
    },
    {
     "name": "stdout",
     "output_type": "stream",
     "text": [
      "tensor([[0.2860, 0.8951],\n",
      "        [0.7376, 0.6690],\n",
      "        [0.9706, 0.1730],\n",
      "        [0.7866, 0.6641],\n",
      "        [0.7987, 0.5956],\n",
      "        [0.6680, 0.7145],\n",
      "        [0.9560, 0.2466],\n",
      "        [0.3479, 0.8724]], device='cuda:0', grad_fn=<SigmoidBackward0>)\n",
      "Epoch:4, combine_score:0.085190, cls_loss:495.657135, transfer_loss:677.773865, total_loss:1173.432373\n",
      "\n"
     ]
    },
    {
     "data": {
      "application/vnd.jupyter.widget-view+json": {
       "model_id": "ef0770ee195f41369c1c1517374cfc4a",
       "version_major": 2,
       "version_minor": 0
      },
      "text/plain": [
       "  0%|          | 0/1000 [00:00<?, ?it/s]"
      ]
     },
     "metadata": {},
     "output_type": "display_data"
    },
    {
     "data": {
      "application/vnd.jupyter.widget-view+json": {
       "model_id": "",
       "version_major": 2,
       "version_minor": 0
      },
      "text/plain": [
       "  0%|          | 0/1386 [00:00<?, ?it/s]"
      ]
     },
     "metadata": {},
     "output_type": "display_data"
    },
    {
     "name": "stdout",
     "output_type": "stream",
     "text": [
      "tensor([[0.1624, 0.9428],\n",
      "        [0.6610, 0.7356],\n",
      "        [0.9635, 0.1797],\n",
      "        [0.6231, 0.7857],\n",
      "        [0.5914, 0.7859],\n",
      "        [0.6040, 0.7646],\n",
      "        [0.9153, 0.3460],\n",
      "        [0.1609, 0.9402]], device='cuda:0', grad_fn=<SigmoidBackward0>)\n",
      "Epoch:5, combine_score:0.080354, cls_loss:478.408203, transfer_loss:680.823792, total_loss:1159.232422\n",
      "\n"
     ]
    },
    {
     "data": {
      "application/vnd.jupyter.widget-view+json": {
       "model_id": "85c5683bf71e413d9e264d3fd76c7d45",
       "version_major": 2,
       "version_minor": 0
      },
      "text/plain": [
       "  0%|          | 0/1000 [00:00<?, ?it/s]"
      ]
     },
     "metadata": {},
     "output_type": "display_data"
    },
    {
     "data": {
      "application/vnd.jupyter.widget-view+json": {
       "model_id": "",
       "version_major": 2,
       "version_minor": 0
      },
      "text/plain": [
       "  0%|          | 0/1386 [00:00<?, ?it/s]"
      ]
     },
     "metadata": {},
     "output_type": "display_data"
    },
    {
     "name": "stdout",
     "output_type": "stream",
     "text": [
      "tensor([[0.3033, 0.9162],\n",
      "        [0.7974, 0.7173],\n",
      "        [0.9681, 0.2131],\n",
      "        [0.8228, 0.7153],\n",
      "        [0.8476, 0.6321],\n",
      "        [0.5673, 0.8498],\n",
      "        [0.9676, 0.2118],\n",
      "        [0.3059, 0.9171]], device='cuda:0', grad_fn=<SigmoidBackward0>)\n",
      "Epoch:6, combine_score:0.075496, cls_loss:462.111328, transfer_loss:685.746948, total_loss:1147.857422\n",
      "\n"
     ]
    },
    {
     "data": {
      "application/vnd.jupyter.widget-view+json": {
       "model_id": "3e4cb98d513643a68292bba888b1e437",
       "version_major": 2,
       "version_minor": 0
      },
      "text/plain": [
       "  0%|          | 0/1000 [00:00<?, ?it/s]"
      ]
     },
     "metadata": {},
     "output_type": "display_data"
    },
    {
     "data": {
      "application/vnd.jupyter.widget-view+json": {
       "model_id": "",
       "version_major": 2,
       "version_minor": 0
      },
      "text/plain": [
       "  0%|          | 0/1386 [00:00<?, ?it/s]"
      ]
     },
     "metadata": {},
     "output_type": "display_data"
    },
    {
     "name": "stdout",
     "output_type": "stream",
     "text": [
      "tensor([[0.1954, 0.9209],\n",
      "        [0.8912, 0.5626],\n",
      "        [0.9675, 0.1939],\n",
      "        [0.7597, 0.7870],\n",
      "        [0.7751, 0.7130],\n",
      "        [0.5891, 0.8281],\n",
      "        [0.9598, 0.2371],\n",
      "        [0.1614, 0.9239]], device='cuda:0', grad_fn=<SigmoidBackward0>)\n",
      "Epoch:7, combine_score:0.067980, cls_loss:446.768036, transfer_loss:682.747498, total_loss:1129.514771\n",
      "\n"
     ]
    },
    {
     "data": {
      "application/vnd.jupyter.widget-view+json": {
       "model_id": "1f5d0dfd53364807bd4f17574ff0fc05",
       "version_major": 2,
       "version_minor": 0
      },
      "text/plain": [
       "  0%|          | 0/1000 [00:00<?, ?it/s]"
      ]
     },
     "metadata": {},
     "output_type": "display_data"
    },
    {
     "data": {
      "application/vnd.jupyter.widget-view+json": {
       "model_id": "",
       "version_major": 2,
       "version_minor": 0
      },
      "text/plain": [
       "  0%|          | 0/1386 [00:00<?, ?it/s]"
      ]
     },
     "metadata": {},
     "output_type": "display_data"
    },
    {
     "name": "stdout",
     "output_type": "stream",
     "text": [
      "tensor([[0.2932, 0.9110],\n",
      "        [0.9024, 0.5405],\n",
      "        [0.9569, 0.2033],\n",
      "        [0.8247, 0.7638],\n",
      "        [0.8644, 0.6680],\n",
      "        [0.7460, 0.7750],\n",
      "        [0.9524, 0.2321],\n",
      "        [0.3131, 0.9149]], device='cuda:0', grad_fn=<SigmoidBackward0>)\n",
      "Epoch:8, combine_score:0.063241, cls_loss:438.641510, transfer_loss:684.977661, total_loss:1123.619141\n",
      "\n"
     ]
    },
    {
     "data": {
      "application/vnd.jupyter.widget-view+json": {
       "model_id": "804273ed8f7048a2b260d2554454384b",
       "version_major": 2,
       "version_minor": 0
      },
      "text/plain": [
       "  0%|          | 0/1000 [00:00<?, ?it/s]"
      ]
     },
     "metadata": {},
     "output_type": "display_data"
    },
    {
     "data": {
      "application/vnd.jupyter.widget-view+json": {
       "model_id": "",
       "version_major": 2,
       "version_minor": 0
      },
      "text/plain": [
       "  0%|          | 0/1386 [00:00<?, ?it/s]"
      ]
     },
     "metadata": {},
     "output_type": "display_data"
    },
    {
     "name": "stdout",
     "output_type": "stream",
     "text": [
      "tensor([[0.5719, 0.8780],\n",
      "        [0.9257, 0.4527],\n",
      "        [0.9575, 0.1417],\n",
      "        [0.8574, 0.7388],\n",
      "        [0.8874, 0.5624],\n",
      "        [0.8606, 0.6856],\n",
      "        [0.9575, 0.1872],\n",
      "        [0.2536, 0.9022]], device='cuda:0', grad_fn=<SigmoidBackward0>)\n",
      "Epoch:9, combine_score:0.075709, cls_loss:426.450287, transfer_loss:682.915466, total_loss:1109.364624\n",
      "\n"
     ]
    },
    {
     "data": {
      "application/vnd.jupyter.widget-view+json": {
       "model_id": "1283b9fe63634e6e82b6d483f891337a",
       "version_major": 2,
       "version_minor": 0
      },
      "text/plain": [
       "  0%|          | 0/1000 [00:00<?, ?it/s]"
      ]
     },
     "metadata": {},
     "output_type": "display_data"
    },
    {
     "data": {
      "application/vnd.jupyter.widget-view+json": {
       "model_id": "",
       "version_major": 2,
       "version_minor": 0
      },
      "text/plain": [
       "  0%|          | 0/1386 [00:00<?, ?it/s]"
      ]
     },
     "metadata": {},
     "output_type": "display_data"
    },
    {
     "name": "stdout",
     "output_type": "stream",
     "text": [
      "tensor([[0.4060, 0.8944],\n",
      "        [0.8647, 0.6441],\n",
      "        [0.9631, 0.1244],\n",
      "        [0.8654, 0.6860],\n",
      "        [0.8991, 0.4902],\n",
      "        [0.8329, 0.6936],\n",
      "        [0.9547, 0.1683],\n",
      "        [0.2231, 0.8933]], device='cuda:0', grad_fn=<SigmoidBackward0>)\n",
      "Epoch:10, combine_score:0.066268, cls_loss:419.027252, transfer_loss:684.706238, total_loss:1103.732788\n",
      "\n"
     ]
    },
    {
     "data": {
      "application/vnd.jupyter.widget-view+json": {
       "model_id": "7625b056c8024da080d494f1cce52c10",
       "version_major": 2,
       "version_minor": 0
      },
      "text/plain": [
       "  0%|          | 0/1000 [00:00<?, ?it/s]"
      ]
     },
     "metadata": {},
     "output_type": "display_data"
    },
    {
     "data": {
      "application/vnd.jupyter.widget-view+json": {
       "model_id": "",
       "version_major": 2,
       "version_minor": 0
      },
      "text/plain": [
       "  0%|          | 0/1386 [00:00<?, ?it/s]"
      ]
     },
     "metadata": {},
     "output_type": "display_data"
    },
    {
     "name": "stdout",
     "output_type": "stream",
     "text": [
      "tensor([[0.5397, 0.8823],\n",
      "        [0.9199, 0.6119],\n",
      "        [0.9573, 0.1721],\n",
      "        [0.7942, 0.8493],\n",
      "        [0.7936, 0.7801],\n",
      "        [0.6851, 0.8633],\n",
      "        [0.9535, 0.1837],\n",
      "        [0.0405, 0.9462]], device='cuda:0', grad_fn=<SigmoidBackward0>)\n",
      "Epoch:11, combine_score:0.055747, cls_loss:409.842621, transfer_loss:685.468872, total_loss:1095.310913\n",
      "\n"
     ]
    },
    {
     "data": {
      "application/vnd.jupyter.widget-view+json": {
       "model_id": "87d907bc074a4ac38cf0942f13314e13",
       "version_major": 2,
       "version_minor": 0
      },
      "text/plain": [
       "  0%|          | 0/1000 [00:00<?, ?it/s]"
      ]
     },
     "metadata": {},
     "output_type": "display_data"
    },
    {
     "data": {
      "application/vnd.jupyter.widget-view+json": {
       "model_id": "",
       "version_major": 2,
       "version_minor": 0
      },
      "text/plain": [
       "  0%|          | 0/1386 [00:00<?, ?it/s]"
      ]
     },
     "metadata": {},
     "output_type": "display_data"
    },
    {
     "name": "stdout",
     "output_type": "stream",
     "text": [
      "tensor([[0.4762, 0.8753],\n",
      "        [0.9338, 0.5191],\n",
      "        [0.9490, 0.2020],\n",
      "        [0.8400, 0.8254],\n",
      "        [0.8909, 0.6780],\n",
      "        [0.8463, 0.8057],\n",
      "        [0.9503, 0.1804],\n",
      "        [0.0630, 0.9283]], device='cuda:0', grad_fn=<SigmoidBackward0>)\n",
      "Epoch:12, combine_score:0.055191, cls_loss:404.329041, transfer_loss:686.883118, total_loss:1091.211914\n",
      "\n"
     ]
    },
    {
     "data": {
      "application/vnd.jupyter.widget-view+json": {
       "model_id": "c5885ee092594812ba2d063e1ecf4b81",
       "version_major": 2,
       "version_minor": 0
      },
      "text/plain": [
       "  0%|          | 0/1000 [00:00<?, ?it/s]"
      ]
     },
     "metadata": {},
     "output_type": "display_data"
    },
    {
     "data": {
      "application/vnd.jupyter.widget-view+json": {
       "model_id": "",
       "version_major": 2,
       "version_minor": 0
      },
      "text/plain": [
       "  0%|          | 0/1386 [00:00<?, ?it/s]"
      ]
     },
     "metadata": {},
     "output_type": "display_data"
    },
    {
     "name": "stdout",
     "output_type": "stream",
     "text": [
      "tensor([[0.5219, 0.8878],\n",
      "        [0.9318, 0.5324],\n",
      "        [0.9498, 0.1550],\n",
      "        [0.8165, 0.8588],\n",
      "        [0.8435, 0.7695],\n",
      "        [0.8558, 0.7956],\n",
      "        [0.9490, 0.1767],\n",
      "        [0.0391, 0.9353]], device='cuda:0', grad_fn=<SigmoidBackward0>)\n",
      "Epoch:13, combine_score:0.049566, cls_loss:399.180481, transfer_loss:687.651245, total_loss:1086.831299\n",
      "\n"
     ]
    },
    {
     "data": {
      "application/vnd.jupyter.widget-view+json": {
       "model_id": "db3025d4269445039747302537ff89ce",
       "version_major": 2,
       "version_minor": 0
      },
      "text/plain": [
       "  0%|          | 0/1000 [00:00<?, ?it/s]"
      ]
     },
     "metadata": {},
     "output_type": "display_data"
    },
    {
     "data": {
      "application/vnd.jupyter.widget-view+json": {
       "model_id": "873c0fe93a30408e8a5c8cfb8e1ef80d",
       "version_major": 2,
       "version_minor": 0
      },
      "text/plain": [
       "  0%|          | 0/1386 [00:00<?, ?it/s]"
      ]
     },
     "metadata": {},
     "output_type": "display_data"
    },
    {
     "name": "stdout",
     "output_type": "stream",
     "text": [
      "tensor([[0.3997, 0.8927],\n",
      "        [0.9214, 0.6596],\n",
      "        [0.9302, 0.1622],\n",
      "        [0.8063, 0.8630],\n",
      "        [0.8734, 0.7345],\n",
      "        [0.8836, 0.7947],\n",
      "        [0.9354, 0.1897],\n",
      "        [0.0459, 0.9196]], device='cuda:0', grad_fn=<SigmoidBackward0>)\n",
      "Epoch:14, combine_score:0.051559, cls_loss:398.354462, transfer_loss:686.528931, total_loss:1084.883667\n",
      "\n"
     ]
    },
    {
     "data": {
      "application/vnd.jupyter.widget-view+json": {
       "model_id": "9ea3471e1353415ea5475269ff03f0d6",
       "version_major": 2,
       "version_minor": 0
      },
      "text/plain": [
       "  0%|          | 0/1000 [00:00<?, ?it/s]"
      ]
     },
     "metadata": {},
     "output_type": "display_data"
    },
    {
     "data": {
      "application/vnd.jupyter.widget-view+json": {
       "model_id": "f6ffe05ddaee4bb7ab54edbf775909b6",
       "version_major": 2,
       "version_minor": 0
      },
      "text/plain": [
       "  0%|          | 0/1386 [00:00<?, ?it/s]"
      ]
     },
     "metadata": {},
     "output_type": "display_data"
    },
    {
     "name": "stdout",
     "output_type": "stream",
     "text": [
      "tensor([[0.2389, 0.9023],\n",
      "        [0.9160, 0.7838],\n",
      "        [0.9361, 0.1210],\n",
      "        [0.5473, 0.8875],\n",
      "        [0.8294, 0.7971],\n",
      "        [0.8425, 0.8449],\n",
      "        [0.9387, 0.1754],\n",
      "        [0.0243, 0.9344]], device='cuda:0', grad_fn=<SigmoidBackward0>)\n",
      "Epoch:15, combine_score:0.054272, cls_loss:389.910553, transfer_loss:689.476135, total_loss:1079.386719\n",
      "\n"
     ]
    },
    {
     "data": {
      "application/vnd.jupyter.widget-view+json": {
       "model_id": "41147e4eb06c41699cd17921da2d5f34",
       "version_major": 2,
       "version_minor": 0
      },
      "text/plain": [
       "  0%|          | 0/1000 [00:00<?, ?it/s]"
      ]
     },
     "metadata": {},
     "output_type": "display_data"
    },
    {
     "data": {
      "application/vnd.jupyter.widget-view+json": {
       "model_id": "92b58d3c2eaf4c12a4ef5053a40c426b",
       "version_major": 2,
       "version_minor": 0
      },
      "text/plain": [
       "  0%|          | 0/1386 [00:00<?, ?it/s]"
      ]
     },
     "metadata": {},
     "output_type": "display_data"
    },
    {
     "name": "stdout",
     "output_type": "stream",
     "text": [
      "tensor([[0.7098, 0.8861],\n",
      "        [0.9318, 0.5448],\n",
      "        [0.9354, 0.1209],\n",
      "        [0.8607, 0.8167],\n",
      "        [0.9085, 0.6149],\n",
      "        [0.9139, 0.7137],\n",
      "        [0.9371, 0.1627],\n",
      "        [0.0661, 0.8931]], device='cuda:0', grad_fn=<SigmoidBackward0>)\n",
      "Epoch:16, combine_score:0.047306, cls_loss:384.152283, transfer_loss:688.589966, total_loss:1072.742310\n",
      "\n"
     ]
    },
    {
     "data": {
      "application/vnd.jupyter.widget-view+json": {
       "model_id": "bd6b958b7a3b468693f578f32be8a689",
       "version_major": 2,
       "version_minor": 0
      },
      "text/plain": [
       "  0%|          | 0/1000 [00:00<?, ?it/s]"
      ]
     },
     "metadata": {},
     "output_type": "display_data"
    },
    {
     "data": {
      "application/vnd.jupyter.widget-view+json": {
       "model_id": "394afd1c917343b58f2592fc4c4198f6",
       "version_major": 2,
       "version_minor": 0
      },
      "text/plain": [
       "  0%|          | 0/1386 [00:00<?, ?it/s]"
      ]
     },
     "metadata": {},
     "output_type": "display_data"
    },
    {
     "name": "stdout",
     "output_type": "stream",
     "text": [
      "tensor([[0.5927, 0.8916],\n",
      "        [0.9112, 0.7551],\n",
      "        [0.9337, 0.1592],\n",
      "        [0.8620, 0.8276],\n",
      "        [0.9107, 0.6242],\n",
      "        [0.8158, 0.8351],\n",
      "        [0.9411, 0.1821],\n",
      "        [0.0476, 0.9042]], device='cuda:0', grad_fn=<SigmoidBackward0>)\n",
      "Epoch:17, combine_score:0.044499, cls_loss:376.490967, transfer_loss:690.317139, total_loss:1066.808716\n",
      "\n"
     ]
    },
    {
     "data": {
      "application/vnd.jupyter.widget-view+json": {
       "model_id": "8f56dda2dbf94bc3bcab400fa41b8415",
       "version_major": 2,
       "version_minor": 0
      },
      "text/plain": [
       "  0%|          | 0/1000 [00:00<?, ?it/s]"
      ]
     },
     "metadata": {},
     "output_type": "display_data"
    },
    {
     "data": {
      "application/vnd.jupyter.widget-view+json": {
       "model_id": "b3e1a10cb1684a0097067048ba53cb2f",
       "version_major": 2,
       "version_minor": 0
      },
      "text/plain": [
       "  0%|          | 0/1386 [00:00<?, ?it/s]"
      ]
     },
     "metadata": {},
     "output_type": "display_data"
    },
    {
     "name": "stdout",
     "output_type": "stream",
     "text": [
      "tensor([[0.5834, 0.9113],\n",
      "        [0.9198, 0.7346],\n",
      "        [0.9222, 0.1014],\n",
      "        [0.8152, 0.8651],\n",
      "        [0.9122, 0.6439],\n",
      "        [0.8593, 0.8355],\n",
      "        [0.9297, 0.1425],\n",
      "        [0.0464, 0.9062]], device='cuda:0', grad_fn=<SigmoidBackward0>)\n",
      "Epoch:18, combine_score:0.043756, cls_loss:378.621857, transfer_loss:689.484680, total_loss:1068.106689\n",
      "\n"
     ]
    },
    {
     "data": {
      "application/vnd.jupyter.widget-view+json": {
       "model_id": "f69cff271d5d408fa19c8b866bc55f01",
       "version_major": 2,
       "version_minor": 0
      },
      "text/plain": [
       "  0%|          | 0/1000 [00:00<?, ?it/s]"
      ]
     },
     "metadata": {},
     "output_type": "display_data"
    },
    {
     "data": {
      "application/vnd.jupyter.widget-view+json": {
       "model_id": "",
       "version_major": 2,
       "version_minor": 0
      },
      "text/plain": [
       "  0%|          | 0/1386 [00:00<?, ?it/s]"
      ]
     },
     "metadata": {},
     "output_type": "display_data"
    },
    {
     "name": "stdout",
     "output_type": "stream",
     "text": [
      "tensor([[0.7627, 0.8917],\n",
      "        [0.9338, 0.6323],\n",
      "        [0.9258, 0.1054],\n",
      "        [0.8911, 0.8500],\n",
      "        [0.9194, 0.6054],\n",
      "        [0.9314, 0.6642],\n",
      "        [0.9294, 0.1791],\n",
      "        [0.0708, 0.8846]], device='cuda:0', grad_fn=<SigmoidBackward0>)\n",
      "Epoch:19, combine_score:0.043503, cls_loss:373.307190, transfer_loss:689.721802, total_loss:1063.029541\n",
      "\n"
     ]
    },
    {
     "data": {
      "application/vnd.jupyter.widget-view+json": {
       "model_id": "7eadcec68fbd4a4e8ea964e08345da01",
       "version_major": 2,
       "version_minor": 0
      },
      "text/plain": [
       "  0%|          | 0/1000 [00:00<?, ?it/s]"
      ]
     },
     "metadata": {},
     "output_type": "display_data"
    },
    {
     "data": {
      "application/vnd.jupyter.widget-view+json": {
       "model_id": "",
       "version_major": 2,
       "version_minor": 0
      },
      "text/plain": [
       "  0%|          | 0/1386 [00:00<?, ?it/s]"
      ]
     },
     "metadata": {},
     "output_type": "display_data"
    },
    {
     "name": "stdout",
     "output_type": "stream",
     "text": [
      "tensor([[0.5704, 0.9102],\n",
      "        [0.9349, 0.7433],\n",
      "        [0.9294, 0.1437],\n",
      "        [0.8956, 0.9015],\n",
      "        [0.9188, 0.6802],\n",
      "        [0.8529, 0.8676],\n",
      "        [0.9313, 0.1498],\n",
      "        [0.0208, 0.9289]], device='cuda:0', grad_fn=<SigmoidBackward0>)\n",
      "Epoch:20, combine_score:0.042378, cls_loss:370.361725, transfer_loss:687.977417, total_loss:1058.339478\n",
      "\n"
     ]
    },
    {
     "data": {
      "application/vnd.jupyter.widget-view+json": {
       "model_id": "a0ffa7f6678141c881f23db69683b91f",
       "version_major": 2,
       "version_minor": 0
      },
      "text/plain": [
       "  0%|          | 0/1000 [00:00<?, ?it/s]"
      ]
     },
     "metadata": {},
     "output_type": "display_data"
    },
    {
     "data": {
      "application/vnd.jupyter.widget-view+json": {
       "model_id": "",
       "version_major": 2,
       "version_minor": 0
      },
      "text/plain": [
       "  0%|          | 0/1386 [00:00<?, ?it/s]"
      ]
     },
     "metadata": {},
     "output_type": "display_data"
    },
    {
     "name": "stdout",
     "output_type": "stream",
     "text": [
      "tensor([[0.4766, 0.9073],\n",
      "        [0.9351, 0.8026],\n",
      "        [0.9328, 0.2354],\n",
      "        [0.8719, 0.8956],\n",
      "        [0.8614, 0.8232],\n",
      "        [0.8399, 0.8943],\n",
      "        [0.9396, 0.1635],\n",
      "        [0.0228, 0.9168]], device='cuda:0', grad_fn=<SigmoidBackward0>)\n",
      "Epoch:21, combine_score:0.043555, cls_loss:370.205444, transfer_loss:690.111938, total_loss:1060.317749\n",
      "\n"
     ]
    },
    {
     "data": {
      "application/vnd.jupyter.widget-view+json": {
       "model_id": "86ebd994df7949638d3e360d3fae41d8",
       "version_major": 2,
       "version_minor": 0
      },
      "text/plain": [
       "  0%|          | 0/1000 [00:00<?, ?it/s]"
      ]
     },
     "metadata": {},
     "output_type": "display_data"
    },
    {
     "data": {
      "application/vnd.jupyter.widget-view+json": {
       "model_id": "",
       "version_major": 2,
       "version_minor": 0
      },
      "text/plain": [
       "  0%|          | 0/1386 [00:00<?, ?it/s]"
      ]
     },
     "metadata": {},
     "output_type": "display_data"
    },
    {
     "name": "stdout",
     "output_type": "stream",
     "text": [
      "tensor([[0.7280, 0.9003],\n",
      "        [0.9444, 0.5093],\n",
      "        [0.9375, 0.0791],\n",
      "        [0.9109, 0.7593],\n",
      "        [0.9140, 0.6126],\n",
      "        [0.9355, 0.6415],\n",
      "        [0.9400, 0.0902],\n",
      "        [0.0249, 0.9219]], device='cuda:0', grad_fn=<SigmoidBackward0>)\n",
      "Epoch:22, combine_score:0.042103, cls_loss:364.065277, transfer_loss:689.759888, total_loss:1053.825317\n",
      "\n"
     ]
    },
    {
     "data": {
      "application/vnd.jupyter.widget-view+json": {
       "model_id": "4b02cafdb6e14563a714bb0be6653ec8",
       "version_major": 2,
       "version_minor": 0
      },
      "text/plain": [
       "  0%|          | 0/1000 [00:00<?, ?it/s]"
      ]
     },
     "metadata": {},
     "output_type": "display_data"
    },
    {
     "data": {
      "application/vnd.jupyter.widget-view+json": {
       "model_id": "",
       "version_major": 2,
       "version_minor": 0
      },
      "text/plain": [
       "  0%|          | 0/1386 [00:00<?, ?it/s]"
      ]
     },
     "metadata": {},
     "output_type": "display_data"
    },
    {
     "name": "stdout",
     "output_type": "stream",
     "text": [
      "tensor([[0.8523, 0.9012],\n",
      "        [0.9389, 0.7097],\n",
      "        [0.9322, 0.0991],\n",
      "        [0.9121, 0.8646],\n",
      "        [0.9155, 0.6702],\n",
      "        [0.9170, 0.8735],\n",
      "        [0.9356, 0.1062],\n",
      "        [0.0798, 0.9034]], device='cuda:0', grad_fn=<SigmoidBackward0>)\n",
      "Epoch:23, combine_score:0.043429, cls_loss:364.541779, transfer_loss:688.965271, total_loss:1053.507568\n",
      "\n"
     ]
    },
    {
     "data": {
      "application/vnd.jupyter.widget-view+json": {
       "model_id": "3f073b7b81944bfd891a4fc7ce2f9491",
       "version_major": 2,
       "version_minor": 0
      },
      "text/plain": [
       "  0%|          | 0/1000 [00:00<?, ?it/s]"
      ]
     },
     "metadata": {},
     "output_type": "display_data"
    },
    {
     "data": {
      "application/vnd.jupyter.widget-view+json": {
       "model_id": "",
       "version_major": 2,
       "version_minor": 0
      },
      "text/plain": [
       "  0%|          | 0/1386 [00:00<?, ?it/s]"
      ]
     },
     "metadata": {},
     "output_type": "display_data"
    },
    {
     "name": "stdout",
     "output_type": "stream",
     "text": [
      "tensor([[0.5277, 0.8899],\n",
      "        [0.9236, 0.8136],\n",
      "        [0.9203, 0.1114],\n",
      "        [0.8513, 0.8670],\n",
      "        [0.9076, 0.6782],\n",
      "        [0.8160, 0.8706],\n",
      "        [0.9254, 0.1067],\n",
      "        [0.0321, 0.9118]], device='cuda:0', grad_fn=<SigmoidBackward0>)\n",
      "Epoch:24, combine_score:0.041427, cls_loss:361.015137, transfer_loss:692.199402, total_loss:1053.214233\n",
      "\n"
     ]
    },
    {
     "data": {
      "application/vnd.jupyter.widget-view+json": {
       "model_id": "9ecf6bf411044311b66a1455cda44374",
       "version_major": 2,
       "version_minor": 0
      },
      "text/plain": [
       "  0%|          | 0/1000 [00:00<?, ?it/s]"
      ]
     },
     "metadata": {},
     "output_type": "display_data"
    },
    {
     "data": {
      "application/vnd.jupyter.widget-view+json": {
       "model_id": "",
       "version_major": 2,
       "version_minor": 0
      },
      "text/plain": [
       "  0%|          | 0/1386 [00:00<?, ?it/s]"
      ]
     },
     "metadata": {},
     "output_type": "display_data"
    },
    {
     "name": "stdout",
     "output_type": "stream",
     "text": [
      "tensor([[0.7898, 0.8989],\n",
      "        [0.9370, 0.6691],\n",
      "        [0.9234, 0.0735],\n",
      "        [0.9055, 0.8030],\n",
      "        [0.9250, 0.4796],\n",
      "        [0.9275, 0.7919],\n",
      "        [0.9309, 0.0913],\n",
      "        [0.0831, 0.9012]], device='cuda:0', grad_fn=<SigmoidBackward0>)\n",
      "Epoch:25, combine_score:0.043044, cls_loss:359.919098, transfer_loss:690.793762, total_loss:1050.712524\n",
      "\n"
     ]
    },
    {
     "data": {
      "application/vnd.jupyter.widget-view+json": {
       "model_id": "f62536f4486f40aebaee2a4551d9a50a",
       "version_major": 2,
       "version_minor": 0
      },
      "text/plain": [
       "  0%|          | 0/1000 [00:00<?, ?it/s]"
      ]
     },
     "metadata": {},
     "output_type": "display_data"
    },
    {
     "data": {
      "application/vnd.jupyter.widget-view+json": {
       "model_id": "",
       "version_major": 2,
       "version_minor": 0
      },
      "text/plain": [
       "  0%|          | 0/1386 [00:00<?, ?it/s]"
      ]
     },
     "metadata": {},
     "output_type": "display_data"
    },
    {
     "name": "stdout",
     "output_type": "stream",
     "text": [
      "tensor([[0.1362, 0.9142],\n",
      "        [0.8895, 0.8747],\n",
      "        [0.9237, 0.1234],\n",
      "        [0.7939, 0.8671],\n",
      "        [0.9246, 0.6677],\n",
      "        [0.7035, 0.8934],\n",
      "        [0.9302, 0.1540],\n",
      "        [0.0393, 0.9066]], device='cuda:0', grad_fn=<SigmoidBackward0>)\n",
      "Epoch:26, combine_score:0.041267, cls_loss:358.254852, transfer_loss:689.729004, total_loss:1047.982544\n",
      "\n"
     ]
    },
    {
     "data": {
      "application/vnd.jupyter.widget-view+json": {
       "model_id": "c36e846577b6472ca4c6905300c843d7",
       "version_major": 2,
       "version_minor": 0
      },
      "text/plain": [
       "  0%|          | 0/1000 [00:00<?, ?it/s]"
      ]
     },
     "metadata": {},
     "output_type": "display_data"
    },
    {
     "data": {
      "application/vnd.jupyter.widget-view+json": {
       "model_id": "",
       "version_major": 2,
       "version_minor": 0
      },
      "text/plain": [
       "  0%|          | 0/1386 [00:00<?, ?it/s]"
      ]
     },
     "metadata": {},
     "output_type": "display_data"
    },
    {
     "name": "stdout",
     "output_type": "stream",
     "text": [
      "tensor([[0.2516, 0.9134],\n",
      "        [0.9218, 0.8093],\n",
      "        [0.9319, 0.0887],\n",
      "        [0.8878, 0.8570],\n",
      "        [0.9123, 0.7375],\n",
      "        [0.8662, 0.8832],\n",
      "        [0.9393, 0.1002],\n",
      "        [0.0260, 0.9111]], device='cuda:0', grad_fn=<SigmoidBackward0>)\n",
      "Epoch:27, combine_score:0.038132, cls_loss:356.960205, transfer_loss:689.739563, total_loss:1046.699341\n",
      "\n"
     ]
    },
    {
     "data": {
      "application/vnd.jupyter.widget-view+json": {
       "model_id": "6d7ad0c40146487d9edd17baa2d98bc1",
       "version_major": 2,
       "version_minor": 0
      },
      "text/plain": [
       "  0%|          | 0/1000 [00:00<?, ?it/s]"
      ]
     },
     "metadata": {},
     "output_type": "display_data"
    },
    {
     "data": {
      "application/vnd.jupyter.widget-view+json": {
       "model_id": "",
       "version_major": 2,
       "version_minor": 0
      },
      "text/plain": [
       "  0%|          | 0/1386 [00:00<?, ?it/s]"
      ]
     },
     "metadata": {},
     "output_type": "display_data"
    },
    {
     "name": "stdout",
     "output_type": "stream",
     "text": [
      "tensor([[0.6467, 0.9064],\n",
      "        [0.9368, 0.8156],\n",
      "        [0.9380, 0.0820],\n",
      "        [0.8916, 0.8231],\n",
      "        [0.9329, 0.5385],\n",
      "        [0.9068, 0.8930],\n",
      "        [0.9378, 0.1069],\n",
      "        [0.0470, 0.9026]], device='cuda:0', grad_fn=<SigmoidBackward0>)\n",
      "Epoch:28, combine_score:0.037778, cls_loss:349.383240, transfer_loss:691.663513, total_loss:1041.046753\n",
      "\n"
     ]
    },
    {
     "data": {
      "application/vnd.jupyter.widget-view+json": {
       "model_id": "30a1cdc81267419aa5ef3a9e64614133",
       "version_major": 2,
       "version_minor": 0
      },
      "text/plain": [
       "  0%|          | 0/1000 [00:00<?, ?it/s]"
      ]
     },
     "metadata": {},
     "output_type": "display_data"
    },
    {
     "data": {
      "application/vnd.jupyter.widget-view+json": {
       "model_id": "",
       "version_major": 2,
       "version_minor": 0
      },
      "text/plain": [
       "  0%|          | 0/1386 [00:00<?, ?it/s]"
      ]
     },
     "metadata": {},
     "output_type": "display_data"
    },
    {
     "name": "stdout",
     "output_type": "stream",
     "text": [
      "tensor([[0.4215, 0.9089],\n",
      "        [0.9223, 0.8289],\n",
      "        [0.9307, 0.1089],\n",
      "        [0.9131, 0.8082],\n",
      "        [0.9080, 0.7838],\n",
      "        [0.9198, 0.8608],\n",
      "        [0.9326, 0.1291],\n",
      "        [0.0592, 0.8967]], device='cuda:0', grad_fn=<SigmoidBackward0>)\n",
      "Epoch:29, combine_score:0.036949, cls_loss:349.458923, transfer_loss:691.290100, total_loss:1040.748779\n",
      "\n"
     ]
    },
    {
     "data": {
      "application/vnd.jupyter.widget-view+json": {
       "model_id": "2ed64a5306174b599015a93e31d43390",
       "version_major": 2,
       "version_minor": 0
      },
      "text/plain": [
       "  0%|          | 0/1000 [00:00<?, ?it/s]"
      ]
     },
     "metadata": {},
     "output_type": "display_data"
    },
    {
     "data": {
      "application/vnd.jupyter.widget-view+json": {
       "model_id": "",
       "version_major": 2,
       "version_minor": 0
      },
      "text/plain": [
       "  0%|          | 0/1386 [00:00<?, ?it/s]"
      ]
     },
     "metadata": {},
     "output_type": "display_data"
    },
    {
     "name": "stdout",
     "output_type": "stream",
     "text": [
      "tensor([[0.6991, 0.9108],\n",
      "        [0.9421, 0.8276],\n",
      "        [0.9525, 0.0706],\n",
      "        [0.9179, 0.7992],\n",
      "        [0.9344, 0.7320],\n",
      "        [0.9077, 0.9064],\n",
      "        [0.9489, 0.0886],\n",
      "        [0.1011, 0.8868]], device='cuda:0', grad_fn=<SigmoidBackward0>)\n",
      "Epoch:30, combine_score:0.039141, cls_loss:349.156189, transfer_loss:690.090271, total_loss:1039.246704\n",
      "\n"
     ]
    },
    {
     "data": {
      "application/vnd.jupyter.widget-view+json": {
       "model_id": "773f9b728d964e6e98bba37a4800199d",
       "version_major": 2,
       "version_minor": 0
      },
      "text/plain": [
       "  0%|          | 0/1000 [00:00<?, ?it/s]"
      ]
     },
     "metadata": {},
     "output_type": "display_data"
    },
    {
     "data": {
      "application/vnd.jupyter.widget-view+json": {
       "model_id": "",
       "version_major": 2,
       "version_minor": 0
      },
      "text/plain": [
       "  0%|          | 0/1386 [00:00<?, ?it/s]"
      ]
     },
     "metadata": {},
     "output_type": "display_data"
    },
    {
     "name": "stdout",
     "output_type": "stream",
     "text": [
      "tensor([[0.5274, 0.9059],\n",
      "        [0.9004, 0.8641],\n",
      "        [0.9291, 0.1630],\n",
      "        [0.9134, 0.8409],\n",
      "        [0.9160, 0.7769],\n",
      "        [0.9117, 0.8856],\n",
      "        [0.9292, 0.1802],\n",
      "        [0.0869, 0.8919]], device='cuda:0', grad_fn=<SigmoidBackward0>)\n",
      "Epoch:31, combine_score:0.037323, cls_loss:351.864227, transfer_loss:691.446411, total_loss:1043.311157\n",
      "\n"
     ]
    },
    {
     "data": {
      "application/vnd.jupyter.widget-view+json": {
       "model_id": "54fbf6b23ac14b1c9563fea8f03502c6",
       "version_major": 2,
       "version_minor": 0
      },
      "text/plain": [
       "  0%|          | 0/1000 [00:00<?, ?it/s]"
      ]
     },
     "metadata": {},
     "output_type": "display_data"
    },
    {
     "data": {
      "application/vnd.jupyter.widget-view+json": {
       "model_id": "",
       "version_major": 2,
       "version_minor": 0
      },
      "text/plain": [
       "  0%|          | 0/1386 [00:00<?, ?it/s]"
      ]
     },
     "metadata": {},
     "output_type": "display_data"
    },
    {
     "name": "stdout",
     "output_type": "stream",
     "text": [
      "tensor([[0.5002, 0.9090],\n",
      "        [0.9255, 0.8334],\n",
      "        [0.9372, 0.0716],\n",
      "        [0.8900, 0.8774],\n",
      "        [0.9228, 0.7108],\n",
      "        [0.8683, 0.9019],\n",
      "        [0.9374, 0.1010],\n",
      "        [0.0821, 0.8927]], device='cuda:0', grad_fn=<SigmoidBackward0>)\n",
      "Epoch:32, combine_score:0.037185, cls_loss:343.553894, transfer_loss:691.715820, total_loss:1035.270142\n",
      "\n"
     ]
    },
    {
     "data": {
      "application/vnd.jupyter.widget-view+json": {
       "model_id": "ecd7ea90435a447ea7d37f809cbf5e6a",
       "version_major": 2,
       "version_minor": 0
      },
      "text/plain": [
       "  0%|          | 0/1000 [00:00<?, ?it/s]"
      ]
     },
     "metadata": {},
     "output_type": "display_data"
    },
    {
     "data": {
      "application/vnd.jupyter.widget-view+json": {
       "model_id": "",
       "version_major": 2,
       "version_minor": 0
      },
      "text/plain": [
       "  0%|          | 0/1386 [00:00<?, ?it/s]"
      ]
     },
     "metadata": {},
     "output_type": "display_data"
    },
    {
     "name": "stdout",
     "output_type": "stream",
     "text": [
      "tensor([[0.3429, 0.9222],\n",
      "        [0.9153, 0.8825],\n",
      "        [0.9327, 0.1181],\n",
      "        [0.9005, 0.8894],\n",
      "        [0.9055, 0.8383],\n",
      "        [0.8640, 0.9150],\n",
      "        [0.9376, 0.1042],\n",
      "        [0.0248, 0.9152]], device='cuda:0', grad_fn=<SigmoidBackward0>)\n",
      "Epoch:33, combine_score:0.033700, cls_loss:346.299805, transfer_loss:691.694153, total_loss:1037.994629\n",
      "\n"
     ]
    },
    {
     "data": {
      "application/vnd.jupyter.widget-view+json": {
       "model_id": "ab7a5baef7a647afa39b432b0e3b39e1",
       "version_major": 2,
       "version_minor": 0
      },
      "text/plain": [
       "  0%|          | 0/1000 [00:00<?, ?it/s]"
      ]
     },
     "metadata": {},
     "output_type": "display_data"
    },
    {
     "data": {
      "application/vnd.jupyter.widget-view+json": {
       "model_id": "",
       "version_major": 2,
       "version_minor": 0
      },
      "text/plain": [
       "  0%|          | 0/1386 [00:00<?, ?it/s]"
      ]
     },
     "metadata": {},
     "output_type": "display_data"
    },
    {
     "name": "stdout",
     "output_type": "stream",
     "text": [
      "tensor([[0.4433, 0.9083],\n",
      "        [0.9031, 0.8759],\n",
      "        [0.9376, 0.0808],\n",
      "        [0.8640, 0.8763],\n",
      "        [0.9268, 0.7142],\n",
      "        [0.8888, 0.8895],\n",
      "        [0.9346, 0.1481],\n",
      "        [0.1556, 0.9016]], device='cuda:0', grad_fn=<SigmoidBackward0>)\n",
      "Epoch:34, combine_score:0.035473, cls_loss:347.283508, transfer_loss:690.830200, total_loss:1038.113281\n",
      "\n"
     ]
    },
    {
     "data": {
      "application/vnd.jupyter.widget-view+json": {
       "model_id": "078ea99de636493db9b1ea647e8915fc",
       "version_major": 2,
       "version_minor": 0
      },
      "text/plain": [
       "  0%|          | 0/1000 [00:00<?, ?it/s]"
      ]
     },
     "metadata": {},
     "output_type": "display_data"
    },
    {
     "data": {
      "application/vnd.jupyter.widget-view+json": {
       "model_id": "",
       "version_major": 2,
       "version_minor": 0
      },
      "text/plain": [
       "  0%|          | 0/1386 [00:00<?, ?it/s]"
      ]
     },
     "metadata": {},
     "output_type": "display_data"
    },
    {
     "name": "stdout",
     "output_type": "stream",
     "text": [
      "tensor([[0.1848, 0.9092],\n",
      "        [0.9178, 0.8592],\n",
      "        [0.9208, 0.1495],\n",
      "        [0.9053, 0.8745],\n",
      "        [0.8372, 0.8860],\n",
      "        [0.8009, 0.9066],\n",
      "        [0.9312, 0.1450],\n",
      "        [0.0148, 0.9277]], device='cuda:0', grad_fn=<SigmoidBackward0>)\n",
      "Epoch:35, combine_score:0.042446, cls_loss:340.420837, transfer_loss:690.918030, total_loss:1031.337891\n",
      "\n"
     ]
    },
    {
     "data": {
      "application/vnd.jupyter.widget-view+json": {
       "model_id": "8990d9754aed4c5d91d2f7a9ab2d47b8",
       "version_major": 2,
       "version_minor": 0
      },
      "text/plain": [
       "  0%|          | 0/1000 [00:00<?, ?it/s]"
      ]
     },
     "metadata": {},
     "output_type": "display_data"
    },
    {
     "data": {
      "application/vnd.jupyter.widget-view+json": {
       "model_id": "",
       "version_major": 2,
       "version_minor": 0
      },
      "text/plain": [
       "  0%|          | 0/1386 [00:00<?, ?it/s]"
      ]
     },
     "metadata": {},
     "output_type": "display_data"
    },
    {
     "name": "stdout",
     "output_type": "stream",
     "text": [
      "tensor([[0.2190, 0.9012],\n",
      "        [0.8524, 0.8998],\n",
      "        [0.9336, 0.0898],\n",
      "        [0.8957, 0.8780],\n",
      "        [0.9180, 0.8212],\n",
      "        [0.7580, 0.9085],\n",
      "        [0.9354, 0.1409],\n",
      "        [0.0629, 0.8980]], device='cuda:0', grad_fn=<SigmoidBackward0>)\n",
      "Epoch:36, combine_score:0.032731, cls_loss:335.245819, transfer_loss:691.036804, total_loss:1026.282593\n",
      "\n"
     ]
    },
    {
     "data": {
      "application/vnd.jupyter.widget-view+json": {
       "model_id": "b42cd89fedb149fd9537c46b1eded7b5",
       "version_major": 2,
       "version_minor": 0
      },
      "text/plain": [
       "  0%|          | 0/1000 [00:00<?, ?it/s]"
      ]
     },
     "metadata": {},
     "output_type": "display_data"
    },
    {
     "data": {
      "application/vnd.jupyter.widget-view+json": {
       "model_id": "",
       "version_major": 2,
       "version_minor": 0
      },
      "text/plain": [
       "  0%|          | 0/1386 [00:00<?, ?it/s]"
      ]
     },
     "metadata": {},
     "output_type": "display_data"
    },
    {
     "name": "stdout",
     "output_type": "stream",
     "text": [
      "tensor([[0.7682, 0.9244],\n",
      "        [0.9124, 0.9061],\n",
      "        [0.9160, 0.0943],\n",
      "        [0.9097, 0.8566],\n",
      "        [0.9198, 0.7542],\n",
      "        [0.9042, 0.9042],\n",
      "        [0.9250, 0.0924],\n",
      "        [0.0734, 0.8967]], device='cuda:0', grad_fn=<SigmoidBackward0>)\n",
      "Epoch:37, combine_score:0.036025, cls_loss:341.009491, transfer_loss:688.452820, total_loss:1029.461914\n",
      "\n"
     ]
    },
    {
     "data": {
      "application/vnd.jupyter.widget-view+json": {
       "model_id": "64821e344c2a481e87b2af36423ee10c",
       "version_major": 2,
       "version_minor": 0
      },
      "text/plain": [
       "  0%|          | 0/1000 [00:00<?, ?it/s]"
      ]
     },
     "metadata": {},
     "output_type": "display_data"
    },
    {
     "data": {
      "application/vnd.jupyter.widget-view+json": {
       "model_id": "",
       "version_major": 2,
       "version_minor": 0
      },
      "text/plain": [
       "  0%|          | 0/1386 [00:00<?, ?it/s]"
      ]
     },
     "metadata": {},
     "output_type": "display_data"
    },
    {
     "name": "stdout",
     "output_type": "stream",
     "text": [
      "tensor([[0.5589, 0.9092],\n",
      "        [0.8731, 0.8618],\n",
      "        [0.9339, 0.0722],\n",
      "        [0.8587, 0.8590],\n",
      "        [0.9288, 0.6264],\n",
      "        [0.8856, 0.8973],\n",
      "        [0.9350, 0.1518],\n",
      "        [0.0591, 0.9024]], device='cuda:0', grad_fn=<SigmoidBackward0>)\n",
      "Epoch:38, combine_score:0.034361, cls_loss:341.229828, transfer_loss:691.026917, total_loss:1032.256348\n",
      "\n"
     ]
    },
    {
     "data": {
      "application/vnd.jupyter.widget-view+json": {
       "model_id": "ffea9f71bc3f4dfa8a36ff5600ed03dd",
       "version_major": 2,
       "version_minor": 0
      },
      "text/plain": [
       "  0%|          | 0/1000 [00:00<?, ?it/s]"
      ]
     },
     "metadata": {},
     "output_type": "display_data"
    },
    {
     "data": {
      "application/vnd.jupyter.widget-view+json": {
       "model_id": "",
       "version_major": 2,
       "version_minor": 0
      },
      "text/plain": [
       "  0%|          | 0/1386 [00:00<?, ?it/s]"
      ]
     },
     "metadata": {},
     "output_type": "display_data"
    },
    {
     "name": "stdout",
     "output_type": "stream",
     "text": [
      "tensor([[0.5861, 0.9101],\n",
      "        [0.9189, 0.8108],\n",
      "        [0.9383, 0.0718],\n",
      "        [0.8765, 0.8561],\n",
      "        [0.9054, 0.7971],\n",
      "        [0.9159, 0.8382],\n",
      "        [0.9407, 0.0830],\n",
      "        [0.0472, 0.9078]], device='cuda:0', grad_fn=<SigmoidBackward0>)\n",
      "Epoch:39, combine_score:0.034312, cls_loss:343.661560, transfer_loss:691.742188, total_loss:1035.403931\n",
      "\n"
     ]
    },
    {
     "data": {
      "application/vnd.jupyter.widget-view+json": {
       "model_id": "4d2fc40751414a2eaba9db93e9503356",
       "version_major": 2,
       "version_minor": 0
      },
      "text/plain": [
       "  0%|          | 0/1000 [00:00<?, ?it/s]"
      ]
     },
     "metadata": {},
     "output_type": "display_data"
    },
    {
     "data": {
      "application/vnd.jupyter.widget-view+json": {
       "model_id": "",
       "version_major": 2,
       "version_minor": 0
      },
      "text/plain": [
       "  0%|          | 0/1386 [00:00<?, ?it/s]"
      ]
     },
     "metadata": {},
     "output_type": "display_data"
    },
    {
     "name": "stdout",
     "output_type": "stream",
     "text": [
      "tensor([[0.8069, 0.9256],\n",
      "        [0.9115, 0.8924],\n",
      "        [0.9408, 0.0936],\n",
      "        [0.9038, 0.8277],\n",
      "        [0.9350, 0.7495],\n",
      "        [0.9446, 0.8032],\n",
      "        [0.9407, 0.0843],\n",
      "        [0.0852, 0.9071]], device='cuda:0', grad_fn=<SigmoidBackward0>)\n",
      "Epoch:40, combine_score:0.038434, cls_loss:338.074829, transfer_loss:692.774475, total_loss:1030.849365\n",
      "\n"
     ]
    },
    {
     "data": {
      "application/vnd.jupyter.widget-view+json": {
       "model_id": "f6ab473c08354210bd7d15dd751f152d",
       "version_major": 2,
       "version_minor": 0
      },
      "text/plain": [
       "  0%|          | 0/1000 [00:00<?, ?it/s]"
      ]
     },
     "metadata": {},
     "output_type": "display_data"
    },
    {
     "data": {
      "application/vnd.jupyter.widget-view+json": {
       "model_id": "",
       "version_major": 2,
       "version_minor": 0
      },
      "text/plain": [
       "  0%|          | 0/1386 [00:00<?, ?it/s]"
      ]
     },
     "metadata": {},
     "output_type": "display_data"
    },
    {
     "name": "stdout",
     "output_type": "stream",
     "text": [
      "tensor([[0.8456, 0.9235],\n",
      "        [0.9320, 0.7118],\n",
      "        [0.9281, 0.0785],\n",
      "        [0.9229, 0.7239],\n",
      "        [0.9307, 0.6236],\n",
      "        [0.9286, 0.8333],\n",
      "        [0.9347, 0.0733],\n",
      "        [0.0601, 0.8944]], device='cuda:0', grad_fn=<SigmoidBackward0>)\n",
      "Epoch:41, combine_score:0.033845, cls_loss:332.270020, transfer_loss:691.229919, total_loss:1023.499878\n",
      "\n"
     ]
    },
    {
     "data": {
      "application/vnd.jupyter.widget-view+json": {
       "model_id": "e52ba9bddf7f47fca5dad014d5176f6c",
       "version_major": 2,
       "version_minor": 0
      },
      "text/plain": [
       "  0%|          | 0/1000 [00:00<?, ?it/s]"
      ]
     },
     "metadata": {},
     "output_type": "display_data"
    },
    {
     "data": {
      "application/vnd.jupyter.widget-view+json": {
       "model_id": "",
       "version_major": 2,
       "version_minor": 0
      },
      "text/plain": [
       "  0%|          | 0/1386 [00:00<?, ?it/s]"
      ]
     },
     "metadata": {},
     "output_type": "display_data"
    },
    {
     "name": "stdout",
     "output_type": "stream",
     "text": [
      "tensor([[0.6340, 0.9129],\n",
      "        [0.9244, 0.8553],\n",
      "        [0.9405, 0.0814],\n",
      "        [0.9289, 0.8135],\n",
      "        [0.9258, 0.7681],\n",
      "        [0.9162, 0.8999],\n",
      "        [0.9428, 0.0761],\n",
      "        [0.0621, 0.8970]], device='cuda:0', grad_fn=<SigmoidBackward0>)\n",
      "Epoch:42, combine_score:0.031909, cls_loss:332.950317, transfer_loss:692.011475, total_loss:1024.961670\n",
      "\n"
     ]
    },
    {
     "data": {
      "application/vnd.jupyter.widget-view+json": {
       "model_id": "9300e5bc2ecc436daed16120d81f6250",
       "version_major": 2,
       "version_minor": 0
      },
      "text/plain": [
       "  0%|          | 0/1000 [00:00<?, ?it/s]"
      ]
     },
     "metadata": {},
     "output_type": "display_data"
    },
    {
     "data": {
      "application/vnd.jupyter.widget-view+json": {
       "model_id": "",
       "version_major": 2,
       "version_minor": 0
      },
      "text/plain": [
       "  0%|          | 0/1386 [00:00<?, ?it/s]"
      ]
     },
     "metadata": {},
     "output_type": "display_data"
    },
    {
     "name": "stdout",
     "output_type": "stream",
     "text": [
      "tensor([[0.6092, 0.9136],\n",
      "        [0.9065, 0.8881],\n",
      "        [0.9358, 0.0936],\n",
      "        [0.9308, 0.7841],\n",
      "        [0.9338, 0.7164],\n",
      "        [0.9374, 0.8640],\n",
      "        [0.9378, 0.0991],\n",
      "        [0.0229, 0.9087]], device='cuda:0', grad_fn=<SigmoidBackward0>)\n",
      "Epoch:43, combine_score:0.032670, cls_loss:332.185638, transfer_loss:689.677246, total_loss:1021.862610\n",
      "\n"
     ]
    },
    {
     "data": {
      "application/vnd.jupyter.widget-view+json": {
       "model_id": "c9dc3941b0f6401cb1aa598c841f520e",
       "version_major": 2,
       "version_minor": 0
      },
      "text/plain": [
       "  0%|          | 0/1000 [00:00<?, ?it/s]"
      ]
     },
     "metadata": {},
     "output_type": "display_data"
    },
    {
     "data": {
      "application/vnd.jupyter.widget-view+json": {
       "model_id": "",
       "version_major": 2,
       "version_minor": 0
      },
      "text/plain": [
       "  0%|          | 0/1386 [00:00<?, ?it/s]"
      ]
     },
     "metadata": {},
     "output_type": "display_data"
    },
    {
     "name": "stdout",
     "output_type": "stream",
     "text": [
      "tensor([[0.6632, 0.9121],\n",
      "        [0.8450, 0.8867],\n",
      "        [0.9385, 0.1149],\n",
      "        [0.8894, 0.8612],\n",
      "        [0.9189, 0.8269],\n",
      "        [0.8926, 0.9179],\n",
      "        [0.9405, 0.0756],\n",
      "        [0.0575, 0.9160]], device='cuda:0', grad_fn=<SigmoidBackward0>)\n",
      "Epoch:44, combine_score:0.033203, cls_loss:333.581055, transfer_loss:689.073792, total_loss:1022.654663\n",
      "\n"
     ]
    },
    {
     "data": {
      "application/vnd.jupyter.widget-view+json": {
       "model_id": "75187902866a4e39b15a8ccb92732c2f",
       "version_major": 2,
       "version_minor": 0
      },
      "text/plain": [
       "  0%|          | 0/1000 [00:00<?, ?it/s]"
      ]
     },
     "metadata": {},
     "output_type": "display_data"
    },
    {
     "data": {
      "application/vnd.jupyter.widget-view+json": {
       "model_id": "",
       "version_major": 2,
       "version_minor": 0
      },
      "text/plain": [
       "  0%|          | 0/1386 [00:00<?, ?it/s]"
      ]
     },
     "metadata": {},
     "output_type": "display_data"
    },
    {
     "name": "stdout",
     "output_type": "stream",
     "text": [
      "tensor([[0.2036, 0.9053],\n",
      "        [0.8528, 0.8916],\n",
      "        [0.9259, 0.1498],\n",
      "        [0.8478, 0.8742],\n",
      "        [0.8987, 0.8502],\n",
      "        [0.7754, 0.9160],\n",
      "        [0.9326, 0.1140],\n",
      "        [0.0290, 0.9179]], device='cuda:0', grad_fn=<SigmoidBackward0>)\n",
      "Epoch:45, combine_score:0.037418, cls_loss:332.049072, transfer_loss:689.123901, total_loss:1021.172363\n",
      "\n"
     ]
    },
    {
     "data": {
      "application/vnd.jupyter.widget-view+json": {
       "model_id": "ad0d97f2db3a45cb84db4109f2baef70",
       "version_major": 2,
       "version_minor": 0
      },
      "text/plain": [
       "  0%|          | 0/1000 [00:00<?, ?it/s]"
      ]
     },
     "metadata": {},
     "output_type": "display_data"
    },
    {
     "data": {
      "application/vnd.jupyter.widget-view+json": {
       "model_id": "",
       "version_major": 2,
       "version_minor": 0
      },
      "text/plain": [
       "  0%|          | 0/1386 [00:00<?, ?it/s]"
      ]
     },
     "metadata": {},
     "output_type": "display_data"
    },
    {
     "name": "stdout",
     "output_type": "stream",
     "text": [
      "tensor([[0.5415, 0.9090],\n",
      "        [0.9283, 0.8264],\n",
      "        [0.9336, 0.0615],\n",
      "        [0.8316, 0.8870],\n",
      "        [0.9003, 0.8265],\n",
      "        [0.9226, 0.8768],\n",
      "        [0.9357, 0.0662],\n",
      "        [0.0481, 0.9091]], device='cuda:0', grad_fn=<SigmoidBackward0>)\n",
      "Epoch:46, combine_score:0.034510, cls_loss:328.471710, transfer_loss:690.402222, total_loss:1018.874207\n",
      "\n"
     ]
    },
    {
     "data": {
      "application/vnd.jupyter.widget-view+json": {
       "model_id": "846a1e83a2414ec38c9e81a3cac65ac2",
       "version_major": 2,
       "version_minor": 0
      },
      "text/plain": [
       "  0%|          | 0/1000 [00:00<?, ?it/s]"
      ]
     },
     "metadata": {},
     "output_type": "display_data"
    },
    {
     "data": {
      "application/vnd.jupyter.widget-view+json": {
       "model_id": "",
       "version_major": 2,
       "version_minor": 0
      },
      "text/plain": [
       "  0%|          | 0/1386 [00:00<?, ?it/s]"
      ]
     },
     "metadata": {},
     "output_type": "display_data"
    },
    {
     "name": "stdout",
     "output_type": "stream",
     "text": [
      "tensor([[0.5733, 0.9147],\n",
      "        [0.9364, 0.8788],\n",
      "        [0.9352, 0.2107],\n",
      "        [0.9016, 0.8596],\n",
      "        [0.9143, 0.8426],\n",
      "        [0.8927, 0.9268],\n",
      "        [0.9352, 0.1027],\n",
      "        [0.0664, 0.9041]], device='cuda:0', grad_fn=<SigmoidBackward0>)\n",
      "Epoch:47, combine_score:0.035114, cls_loss:331.561554, transfer_loss:691.024780, total_loss:1022.586121\n",
      "\n"
     ]
    },
    {
     "data": {
      "application/vnd.jupyter.widget-view+json": {
       "model_id": "e76481cb284c47d7a968a5a512c6ac20",
       "version_major": 2,
       "version_minor": 0
      },
      "text/plain": [
       "  0%|          | 0/1000 [00:00<?, ?it/s]"
      ]
     },
     "metadata": {},
     "output_type": "display_data"
    },
    {
     "data": {
      "application/vnd.jupyter.widget-view+json": {
       "model_id": "",
       "version_major": 2,
       "version_minor": 0
      },
      "text/plain": [
       "  0%|          | 0/1386 [00:00<?, ?it/s]"
      ]
     },
     "metadata": {},
     "output_type": "display_data"
    },
    {
     "name": "stdout",
     "output_type": "stream",
     "text": [
      "tensor([[0.9180, 0.9211],\n",
      "        [0.9523, 0.7123],\n",
      "        [0.9333, 0.0399],\n",
      "        [0.9125, 0.8002],\n",
      "        [0.9393, 0.3653],\n",
      "        [0.9468, 0.8192],\n",
      "        [0.9272, 0.0657],\n",
      "        [0.2097, 0.9049]], device='cuda:0', grad_fn=<SigmoidBackward0>)\n",
      "Epoch:48, combine_score:0.035465, cls_loss:334.207397, transfer_loss:690.513306, total_loss:1024.720825\n",
      "\n"
     ]
    },
    {
     "data": {
      "application/vnd.jupyter.widget-view+json": {
       "model_id": "b176ef6182364238a4a86e4119f64a3e",
       "version_major": 2,
       "version_minor": 0
      },
      "text/plain": [
       "  0%|          | 0/1000 [00:00<?, ?it/s]"
      ]
     },
     "metadata": {},
     "output_type": "display_data"
    },
    {
     "data": {
      "application/vnd.jupyter.widget-view+json": {
       "model_id": "",
       "version_major": 2,
       "version_minor": 0
      },
      "text/plain": [
       "  0%|          | 0/1386 [00:00<?, ?it/s]"
      ]
     },
     "metadata": {},
     "output_type": "display_data"
    },
    {
     "name": "stdout",
     "output_type": "stream",
     "text": [
      "tensor([[0.5131, 0.9147],\n",
      "        [0.9198, 0.8825],\n",
      "        [0.9310, 0.1358],\n",
      "        [0.8470, 0.8826],\n",
      "        [0.9382, 0.7244],\n",
      "        [0.8114, 0.9161],\n",
      "        [0.9337, 0.1514],\n",
      "        [0.1330, 0.9032]], device='cuda:0', grad_fn=<SigmoidBackward0>)\n",
      "Epoch:49, combine_score:0.034085, cls_loss:332.570404, transfer_loss:691.337463, total_loss:1023.908020\n",
      "\n"
     ]
    },
    {
     "data": {
      "application/vnd.jupyter.widget-view+json": {
       "model_id": "06988d937e0141f29c43a84891be615c",
       "version_major": 2,
       "version_minor": 0
      },
      "text/plain": [
       "  0%|          | 0/1000 [00:00<?, ?it/s]"
      ]
     },
     "metadata": {},
     "output_type": "display_data"
    },
    {
     "data": {
      "application/vnd.jupyter.widget-view+json": {
       "model_id": "",
       "version_major": 2,
       "version_minor": 0
      },
      "text/plain": [
       "  0%|          | 0/1386 [00:00<?, ?it/s]"
      ]
     },
     "metadata": {},
     "output_type": "display_data"
    },
    {
     "name": "stdout",
     "output_type": "stream",
     "text": [
      "tensor([[0.6301, 0.9168],\n",
      "        [0.9256, 0.8272],\n",
      "        [0.9358, 0.0756],\n",
      "        [0.8460, 0.8394],\n",
      "        [0.9355, 0.6602],\n",
      "        [0.9274, 0.8647],\n",
      "        [0.9322, 0.0946],\n",
      "        [0.0808, 0.9089]], device='cuda:0', grad_fn=<SigmoidBackward0>)\n",
      "Epoch:50, combine_score:0.033839, cls_loss:327.524506, transfer_loss:691.980835, total_loss:1019.505737\n",
      "\n"
     ]
    },
    {
     "data": {
      "application/vnd.jupyter.widget-view+json": {
       "model_id": "243501e657c446529611324b6dae2320",
       "version_major": 2,
       "version_minor": 0
      },
      "text/plain": [
       "  0%|          | 0/1000 [00:00<?, ?it/s]"
      ]
     },
     "metadata": {},
     "output_type": "display_data"
    },
    {
     "data": {
      "application/vnd.jupyter.widget-view+json": {
       "model_id": "",
       "version_major": 2,
       "version_minor": 0
      },
      "text/plain": [
       "  0%|          | 0/1386 [00:00<?, ?it/s]"
      ]
     },
     "metadata": {},
     "output_type": "display_data"
    },
    {
     "name": "stdout",
     "output_type": "stream",
     "text": [
      "tensor([[0.7870, 0.9231],\n",
      "        [0.9446, 0.8248],\n",
      "        [0.9444, 0.1249],\n",
      "        [0.9201, 0.7649],\n",
      "        [0.9143, 0.8567],\n",
      "        [0.8885, 0.9280],\n",
      "        [0.9409, 0.0704],\n",
      "        [0.0588, 0.9019]], device='cuda:0', grad_fn=<SigmoidBackward0>)\n",
      "Epoch:51, combine_score:0.034802, cls_loss:329.524078, transfer_loss:687.898926, total_loss:1017.422668\n",
      "\n"
     ]
    },
    {
     "data": {
      "application/vnd.jupyter.widget-view+json": {
       "model_id": "2fd24ac0a089482aaa3d2d427d07aacd",
       "version_major": 2,
       "version_minor": 0
      },
      "text/plain": [
       "  0%|          | 0/1000 [00:00<?, ?it/s]"
      ]
     },
     "metadata": {},
     "output_type": "display_data"
    },
    {
     "data": {
      "application/vnd.jupyter.widget-view+json": {
       "model_id": "",
       "version_major": 2,
       "version_minor": 0
      },
      "text/plain": [
       "  0%|          | 0/1386 [00:00<?, ?it/s]"
      ]
     },
     "metadata": {},
     "output_type": "display_data"
    },
    {
     "name": "stdout",
     "output_type": "stream",
     "text": [
      "tensor([[0.6679, 0.9121],\n",
      "        [0.9262, 0.7861],\n",
      "        [0.9351, 0.1059],\n",
      "        [0.9220, 0.7939],\n",
      "        [0.9175, 0.7155],\n",
      "        [0.8773, 0.9081],\n",
      "        [0.9381, 0.0879],\n",
      "        [0.0476, 0.8998]], device='cuda:0', grad_fn=<SigmoidBackward0>)\n",
      "Epoch:52, combine_score:0.031060, cls_loss:324.099304, transfer_loss:689.430176, total_loss:1013.528076\n",
      "\n"
     ]
    },
    {
     "data": {
      "application/vnd.jupyter.widget-view+json": {
       "model_id": "38ac3e1dae1a44cc801af449de2f2cd4",
       "version_major": 2,
       "version_minor": 0
      },
      "text/plain": [
       "  0%|          | 0/1000 [00:00<?, ?it/s]"
      ]
     },
     "metadata": {},
     "output_type": "display_data"
    },
    {
     "data": {
      "application/vnd.jupyter.widget-view+json": {
       "model_id": "",
       "version_major": 2,
       "version_minor": 0
      },
      "text/plain": [
       "  0%|          | 0/1386 [00:00<?, ?it/s]"
      ]
     },
     "metadata": {},
     "output_type": "display_data"
    },
    {
     "name": "stdout",
     "output_type": "stream",
     "text": [
      "tensor([[0.7031, 0.9228],\n",
      "        [0.9182, 0.7424],\n",
      "        [0.9271, 0.0979],\n",
      "        [0.8991, 0.8085],\n",
      "        [0.8896, 0.8284],\n",
      "        [0.8945, 0.9148],\n",
      "        [0.9345, 0.0661],\n",
      "        [0.0560, 0.9150]], device='cuda:0', grad_fn=<SigmoidBackward0>)\n",
      "Epoch:53, combine_score:0.034451, cls_loss:328.227448, transfer_loss:690.597961, total_loss:1018.825073\n",
      "\n"
     ]
    },
    {
     "data": {
      "application/vnd.jupyter.widget-view+json": {
       "model_id": "9e598d186e7743269706f0a9213bba68",
       "version_major": 2,
       "version_minor": 0
      },
      "text/plain": [
       "  0%|          | 0/1000 [00:00<?, ?it/s]"
      ]
     },
     "metadata": {},
     "output_type": "display_data"
    },
    {
     "data": {
      "application/vnd.jupyter.widget-view+json": {
       "model_id": "",
       "version_major": 2,
       "version_minor": 0
      },
      "text/plain": [
       "  0%|          | 0/1386 [00:00<?, ?it/s]"
      ]
     },
     "metadata": {},
     "output_type": "display_data"
    },
    {
     "name": "stdout",
     "output_type": "stream",
     "text": [
      "tensor([[0.3289, 0.9158],\n",
      "        [0.9125, 0.8883],\n",
      "        [0.9129, 0.1555],\n",
      "        [0.9006, 0.8725],\n",
      "        [0.9097, 0.8150],\n",
      "        [0.8750, 0.9181],\n",
      "        [0.9251, 0.1504],\n",
      "        [0.0805, 0.9138]], device='cuda:0', grad_fn=<SigmoidBackward0>)\n",
      "Epoch:54, combine_score:0.032375, cls_loss:327.543182, transfer_loss:689.578247, total_loss:1017.120544\n",
      "\n"
     ]
    },
    {
     "data": {
      "application/vnd.jupyter.widget-view+json": {
       "model_id": "57c69dcc995445dfa63420848c868edc",
       "version_major": 2,
       "version_minor": 0
      },
      "text/plain": [
       "  0%|          | 0/1000 [00:00<?, ?it/s]"
      ]
     },
     "metadata": {},
     "output_type": "display_data"
    },
    {
     "data": {
      "application/vnd.jupyter.widget-view+json": {
       "model_id": "",
       "version_major": 2,
       "version_minor": 0
      },
      "text/plain": [
       "  0%|          | 0/1386 [00:00<?, ?it/s]"
      ]
     },
     "metadata": {},
     "output_type": "display_data"
    },
    {
     "name": "stdout",
     "output_type": "stream",
     "text": [
      "tensor([[0.3059, 0.9066],\n",
      "        [0.9303, 0.7966],\n",
      "        [0.9287, 0.0569],\n",
      "        [0.8949, 0.8739],\n",
      "        [0.8593, 0.8828],\n",
      "        [0.8893, 0.9110],\n",
      "        [0.9311, 0.0705],\n",
      "        [0.0355, 0.9193]], device='cuda:0', grad_fn=<SigmoidBackward0>)\n",
      "Epoch:55, combine_score:0.032168, cls_loss:321.765442, transfer_loss:691.625366, total_loss:1013.390625\n",
      "\n"
     ]
    },
    {
     "data": {
      "application/vnd.jupyter.widget-view+json": {
       "model_id": "1508d9681e1741189ba962453dee83b5",
       "version_major": 2,
       "version_minor": 0
      },
      "text/plain": [
       "  0%|          | 0/1000 [00:00<?, ?it/s]"
      ]
     },
     "metadata": {},
     "output_type": "display_data"
    },
    {
     "data": {
      "application/vnd.jupyter.widget-view+json": {
       "model_id": "",
       "version_major": 2,
       "version_minor": 0
      },
      "text/plain": [
       "  0%|          | 0/1386 [00:00<?, ?it/s]"
      ]
     },
     "metadata": {},
     "output_type": "display_data"
    },
    {
     "name": "stdout",
     "output_type": "stream",
     "text": [
      "tensor([[0.1043, 0.9183],\n",
      "        [0.9014, 0.8965],\n",
      "        [0.9478, 0.0879],\n",
      "        [0.9044, 0.8677],\n",
      "        [0.9194, 0.7983],\n",
      "        [0.8669, 0.9198],\n",
      "        [0.9425, 0.1615],\n",
      "        [0.1200, 0.9140]], device='cuda:0', grad_fn=<SigmoidBackward0>)\n",
      "Epoch:56, combine_score:0.031303, cls_loss:323.947510, transfer_loss:691.948914, total_loss:1015.896301\n",
      "\n"
     ]
    },
    {
     "data": {
      "application/vnd.jupyter.widget-view+json": {
       "model_id": "17ffcfe9d57f468e99545ea9a57d669f",
       "version_major": 2,
       "version_minor": 0
      },
      "text/plain": [
       "  0%|          | 0/1000 [00:00<?, ?it/s]"
      ]
     },
     "metadata": {},
     "output_type": "display_data"
    },
    {
     "data": {
      "application/vnd.jupyter.widget-view+json": {
       "model_id": "",
       "version_major": 2,
       "version_minor": 0
      },
      "text/plain": [
       "  0%|          | 0/1386 [00:00<?, ?it/s]"
      ]
     },
     "metadata": {},
     "output_type": "display_data"
    },
    {
     "name": "stdout",
     "output_type": "stream",
     "text": [
      "tensor([[0.2472, 0.9075],\n",
      "        [0.9279, 0.8445],\n",
      "        [0.9383, 0.0740],\n",
      "        [0.9054, 0.8099],\n",
      "        [0.9011, 0.8334],\n",
      "        [0.9190, 0.9063],\n",
      "        [0.9393, 0.0595],\n",
      "        [0.0809, 0.9012]], device='cuda:0', grad_fn=<SigmoidBackward0>)\n",
      "Epoch:57, combine_score:0.031916, cls_loss:321.899719, transfer_loss:691.892029, total_loss:1013.791077\n",
      "\n"
     ]
    },
    {
     "data": {
      "application/vnd.jupyter.widget-view+json": {
       "model_id": "525827ee28eb49349d8a6e9b12da3af8",
       "version_major": 2,
       "version_minor": 0
      },
      "text/plain": [
       "  0%|          | 0/1000 [00:00<?, ?it/s]"
      ]
     },
     "metadata": {},
     "output_type": "display_data"
    },
    {
     "data": {
      "application/vnd.jupyter.widget-view+json": {
       "model_id": "",
       "version_major": 2,
       "version_minor": 0
      },
      "text/plain": [
       "  0%|          | 0/1386 [00:00<?, ?it/s]"
      ]
     },
     "metadata": {},
     "output_type": "display_data"
    },
    {
     "name": "stdout",
     "output_type": "stream",
     "text": [
      "tensor([[0.3757, 0.9130],\n",
      "        [0.9446, 0.7425],\n",
      "        [0.9380, 0.0643],\n",
      "        [0.9131, 0.8376],\n",
      "        [0.9277, 0.7671],\n",
      "        [0.9409, 0.8914],\n",
      "        [0.9364, 0.0836],\n",
      "        [0.0892, 0.9129]], device='cuda:0', grad_fn=<SigmoidBackward0>)\n",
      "Epoch:58, combine_score:0.031454, cls_loss:322.285492, transfer_loss:691.758179, total_loss:1014.043457\n",
      "\n"
     ]
    },
    {
     "data": {
      "application/vnd.jupyter.widget-view+json": {
       "model_id": "c6964c0a39654f99889edb3c3605680c",
       "version_major": 2,
       "version_minor": 0
      },
      "text/plain": [
       "  0%|          | 0/1000 [00:00<?, ?it/s]"
      ]
     },
     "metadata": {},
     "output_type": "display_data"
    },
    {
     "data": {
      "application/vnd.jupyter.widget-view+json": {
       "model_id": "",
       "version_major": 2,
       "version_minor": 0
      },
      "text/plain": [
       "  0%|          | 0/1386 [00:00<?, ?it/s]"
      ]
     },
     "metadata": {},
     "output_type": "display_data"
    },
    {
     "name": "stdout",
     "output_type": "stream",
     "text": [
      "tensor([[0.3019, 0.9107],\n",
      "        [0.9358, 0.8360],\n",
      "        [0.9438, 0.0476],\n",
      "        [0.8636, 0.8768],\n",
      "        [0.9389, 0.6966],\n",
      "        [0.9235, 0.9126],\n",
      "        [0.9338, 0.0971],\n",
      "        [0.3101, 0.8947]], device='cuda:0', grad_fn=<SigmoidBackward0>)\n",
      "Epoch:59, combine_score:0.032716, cls_loss:321.085114, transfer_loss:690.538635, total_loss:1011.624023\n",
      "\n"
     ]
    },
    {
     "data": {
      "application/vnd.jupyter.widget-view+json": {
       "model_id": "f37e809c1e034cb18e1d0e403cf6973f",
       "version_major": 2,
       "version_minor": 0
      },
      "text/plain": [
       "  0%|          | 0/1000 [00:00<?, ?it/s]"
      ]
     },
     "metadata": {},
     "output_type": "display_data"
    },
    {
     "data": {
      "application/vnd.jupyter.widget-view+json": {
       "model_id": "",
       "version_major": 2,
       "version_minor": 0
      },
      "text/plain": [
       "  0%|          | 0/1386 [00:00<?, ?it/s]"
      ]
     },
     "metadata": {},
     "output_type": "display_data"
    },
    {
     "name": "stdout",
     "output_type": "stream",
     "text": [
      "tensor([[0.4134, 0.9225],\n",
      "        [0.9426, 0.8357],\n",
      "        [0.9305, 0.0535],\n",
      "        [0.9017, 0.8654],\n",
      "        [0.9284, 0.7954],\n",
      "        [0.9339, 0.8936],\n",
      "        [0.9272, 0.0864],\n",
      "        [0.0632, 0.9137]], device='cuda:0', grad_fn=<SigmoidBackward0>)\n",
      "Epoch:60, combine_score:0.032475, cls_loss:318.065002, transfer_loss:689.550476, total_loss:1007.614624\n",
      "\n"
     ]
    },
    {
     "data": {
      "application/vnd.jupyter.widget-view+json": {
       "model_id": "102228ba41af4048a25313e11e25f483",
       "version_major": 2,
       "version_minor": 0
      },
      "text/plain": [
       "  0%|          | 0/1000 [00:00<?, ?it/s]"
      ]
     },
     "metadata": {},
     "output_type": "display_data"
    },
    {
     "data": {
      "application/vnd.jupyter.widget-view+json": {
       "model_id": "",
       "version_major": 2,
       "version_minor": 0
      },
      "text/plain": [
       "  0%|          | 0/1386 [00:00<?, ?it/s]"
      ]
     },
     "metadata": {},
     "output_type": "display_data"
    },
    {
     "name": "stdout",
     "output_type": "stream",
     "text": [
      "tensor([[0.4826, 0.9203],\n",
      "        [0.9473, 0.7345],\n",
      "        [0.9378, 0.0370],\n",
      "        [0.8829, 0.8860],\n",
      "        [0.9264, 0.8313],\n",
      "        [0.9350, 0.8992],\n",
      "        [0.9317, 0.0783],\n",
      "        [0.1331, 0.9096]], device='cuda:0', grad_fn=<SigmoidBackward0>)\n",
      "Epoch:61, combine_score:0.030996, cls_loss:316.984985, transfer_loss:691.341492, total_loss:1008.326172\n",
      "\n"
     ]
    },
    {
     "data": {
      "application/vnd.jupyter.widget-view+json": {
       "model_id": "053d26ef50e74b559ae5144d4c1ff1bc",
       "version_major": 2,
       "version_minor": 0
      },
      "text/plain": [
       "  0%|          | 0/1000 [00:00<?, ?it/s]"
      ]
     },
     "metadata": {},
     "output_type": "display_data"
    },
    {
     "data": {
      "application/vnd.jupyter.widget-view+json": {
       "model_id": "",
       "version_major": 2,
       "version_minor": 0
      },
      "text/plain": [
       "  0%|          | 0/1386 [00:00<?, ?it/s]"
      ]
     },
     "metadata": {},
     "output_type": "display_data"
    },
    {
     "name": "stdout",
     "output_type": "stream",
     "text": [
      "tensor([[0.3209, 0.9140],\n",
      "        [0.9248, 0.8470],\n",
      "        [0.9429, 0.0488],\n",
      "        [0.8905, 0.8599],\n",
      "        [0.9093, 0.7610],\n",
      "        [0.9039, 0.9121],\n",
      "        [0.9346, 0.0788],\n",
      "        [0.1079, 0.9016]], device='cuda:0', grad_fn=<SigmoidBackward0>)\n",
      "Epoch:62, combine_score:0.032972, cls_loss:323.066345, transfer_loss:689.587952, total_loss:1012.655640\n",
      "\n"
     ]
    },
    {
     "data": {
      "application/vnd.jupyter.widget-view+json": {
       "model_id": "38fcbc9247a44407b7615b2e76e65a82",
       "version_major": 2,
       "version_minor": 0
      },
      "text/plain": [
       "  0%|          | 0/1000 [00:00<?, ?it/s]"
      ]
     },
     "metadata": {},
     "output_type": "display_data"
    },
    {
     "data": {
      "application/vnd.jupyter.widget-view+json": {
       "model_id": "",
       "version_major": 2,
       "version_minor": 0
      },
      "text/plain": [
       "  0%|          | 0/1386 [00:00<?, ?it/s]"
      ]
     },
     "metadata": {},
     "output_type": "display_data"
    },
    {
     "name": "stdout",
     "output_type": "stream",
     "text": [
      "tensor([[0.1160, 0.9125],\n",
      "        [0.9388, 0.8269],\n",
      "        [0.9351, 0.0509],\n",
      "        [0.8971, 0.8755],\n",
      "        [0.7505, 0.8974],\n",
      "        [0.8969, 0.9255],\n",
      "        [0.9310, 0.0533],\n",
      "        [0.0171, 0.9146]], device='cuda:0', grad_fn=<SigmoidBackward0>)\n",
      "Epoch:63, combine_score:0.031889, cls_loss:316.678345, transfer_loss:691.907654, total_loss:1008.586182\n",
      "\n"
     ]
    },
    {
     "data": {
      "application/vnd.jupyter.widget-view+json": {
       "model_id": "ef2dc331cb8b462ca1dd1cc75083a2a4",
       "version_major": 2,
       "version_minor": 0
      },
      "text/plain": [
       "  0%|          | 0/1000 [00:00<?, ?it/s]"
      ]
     },
     "metadata": {},
     "output_type": "display_data"
    },
    {
     "data": {
      "application/vnd.jupyter.widget-view+json": {
       "model_id": "",
       "version_major": 2,
       "version_minor": 0
      },
      "text/plain": [
       "  0%|          | 0/1386 [00:00<?, ?it/s]"
      ]
     },
     "metadata": {},
     "output_type": "display_data"
    },
    {
     "name": "stdout",
     "output_type": "stream",
     "text": [
      "tensor([[0.3970, 0.9097],\n",
      "        [0.9440, 0.7620],\n",
      "        [0.9420, 0.1197],\n",
      "        [0.8773, 0.8396],\n",
      "        [0.8542, 0.8859],\n",
      "        [0.9339, 0.9002],\n",
      "        [0.9415, 0.0929],\n",
      "        [0.0341, 0.9017]], device='cuda:0', grad_fn=<SigmoidBackward0>)\n",
      "Epoch:64, combine_score:0.034285, cls_loss:321.386688, transfer_loss:691.503906, total_loss:1012.890320\n",
      "\n"
     ]
    },
    {
     "data": {
      "application/vnd.jupyter.widget-view+json": {
       "model_id": "ee5e170808be4fafb2af1b900521ecd6",
       "version_major": 2,
       "version_minor": 0
      },
      "text/plain": [
       "  0%|          | 0/1000 [00:00<?, ?it/s]"
      ]
     },
     "metadata": {},
     "output_type": "display_data"
    },
    {
     "data": {
      "application/vnd.jupyter.widget-view+json": {
       "model_id": "",
       "version_major": 2,
       "version_minor": 0
      },
      "text/plain": [
       "  0%|          | 0/1386 [00:00<?, ?it/s]"
      ]
     },
     "metadata": {},
     "output_type": "display_data"
    },
    {
     "name": "stdout",
     "output_type": "stream",
     "text": [
      "tensor([[0.6147, 0.9186],\n",
      "        [0.9380, 0.6522],\n",
      "        [0.9368, 0.0557],\n",
      "        [0.9225, 0.7147],\n",
      "        [0.9360, 0.6723],\n",
      "        [0.9438, 0.8762],\n",
      "        [0.9362, 0.0521],\n",
      "        [0.1766, 0.8966]], device='cuda:0', grad_fn=<SigmoidBackward0>)\n",
      "Epoch:65, combine_score:0.032778, cls_loss:319.695038, transfer_loss:691.529724, total_loss:1011.224792\n",
      "\n"
     ]
    },
    {
     "data": {
      "application/vnd.jupyter.widget-view+json": {
       "model_id": "76ac46b107374740a1defff2b057fc80",
       "version_major": 2,
       "version_minor": 0
      },
      "text/plain": [
       "  0%|          | 0/1000 [00:00<?, ?it/s]"
      ]
     },
     "metadata": {},
     "output_type": "display_data"
    },
    {
     "data": {
      "application/vnd.jupyter.widget-view+json": {
       "model_id": "",
       "version_major": 2,
       "version_minor": 0
      },
      "text/plain": [
       "  0%|          | 0/1386 [00:00<?, ?it/s]"
      ]
     },
     "metadata": {},
     "output_type": "display_data"
    },
    {
     "name": "stdout",
     "output_type": "stream",
     "text": [
      "tensor([[0.3724, 0.9177],\n",
      "        [0.9131, 0.8268],\n",
      "        [0.9454, 0.0381],\n",
      "        [0.8786, 0.8713],\n",
      "        [0.8975, 0.8630],\n",
      "        [0.8650, 0.9162],\n",
      "        [0.9355, 0.0787],\n",
      "        [0.0532, 0.9065]], device='cuda:0', grad_fn=<SigmoidBackward0>)\n",
      "Epoch:66, combine_score:0.030181, cls_loss:317.307190, transfer_loss:691.103210, total_loss:1008.410461\n",
      "\n"
     ]
    },
    {
     "data": {
      "application/vnd.jupyter.widget-view+json": {
       "model_id": "87bf8871202e405ea00dbed505aecd55",
       "version_major": 2,
       "version_minor": 0
      },
      "text/plain": [
       "  0%|          | 0/1000 [00:00<?, ?it/s]"
      ]
     },
     "metadata": {},
     "output_type": "display_data"
    },
    {
     "data": {
      "application/vnd.jupyter.widget-view+json": {
       "model_id": "",
       "version_major": 2,
       "version_minor": 0
      },
      "text/plain": [
       "  0%|          | 0/1386 [00:00<?, ?it/s]"
      ]
     },
     "metadata": {},
     "output_type": "display_data"
    },
    {
     "name": "stdout",
     "output_type": "stream",
     "text": [
      "tensor([[0.7857, 0.9294],\n",
      "        [0.9445, 0.7206],\n",
      "        [0.9476, 0.0281],\n",
      "        [0.8817, 0.8844],\n",
      "        [0.9315, 0.5764],\n",
      "        [0.9445, 0.8875],\n",
      "        [0.9368, 0.0668],\n",
      "        [0.1135, 0.9049]], device='cuda:0', grad_fn=<SigmoidBackward0>)\n",
      "Epoch:67, combine_score:0.030249, cls_loss:315.206787, transfer_loss:692.403931, total_loss:1007.610962\n",
      "\n"
     ]
    },
    {
     "data": {
      "application/vnd.jupyter.widget-view+json": {
       "model_id": "da829481ddac4501809da86a09de4b0d",
       "version_major": 2,
       "version_minor": 0
      },
      "text/plain": [
       "  0%|          | 0/1000 [00:00<?, ?it/s]"
      ]
     },
     "metadata": {},
     "output_type": "display_data"
    },
    {
     "data": {
      "application/vnd.jupyter.widget-view+json": {
       "model_id": "",
       "version_major": 2,
       "version_minor": 0
      },
      "text/plain": [
       "  0%|          | 0/1386 [00:00<?, ?it/s]"
      ]
     },
     "metadata": {},
     "output_type": "display_data"
    },
    {
     "name": "stdout",
     "output_type": "stream",
     "text": [
      "tensor([[0.6845, 0.9243],\n",
      "        [0.9378, 0.7679],\n",
      "        [0.9423, 0.0448],\n",
      "        [0.8828, 0.8810],\n",
      "        [0.9254, 0.8144],\n",
      "        [0.9424, 0.8931],\n",
      "        [0.9370, 0.0679],\n",
      "        [0.1335, 0.9014]], device='cuda:0', grad_fn=<SigmoidBackward0>)\n",
      "Epoch:68, combine_score:0.029776, cls_loss:309.256622, transfer_loss:692.218628, total_loss:1001.474976\n",
      "\n"
     ]
    },
    {
     "data": {
      "application/vnd.jupyter.widget-view+json": {
       "model_id": "e8f6745260a447eea3a2f2480f37ee4a",
       "version_major": 2,
       "version_minor": 0
      },
      "text/plain": [
       "  0%|          | 0/1000 [00:00<?, ?it/s]"
      ]
     },
     "metadata": {},
     "output_type": "display_data"
    },
    {
     "data": {
      "application/vnd.jupyter.widget-view+json": {
       "model_id": "",
       "version_major": 2,
       "version_minor": 0
      },
      "text/plain": [
       "  0%|          | 0/1386 [00:00<?, ?it/s]"
      ]
     },
     "metadata": {},
     "output_type": "display_data"
    },
    {
     "name": "stdout",
     "output_type": "stream",
     "text": [
      "tensor([[0.4672, 0.9185],\n",
      "        [0.9443, 0.7779],\n",
      "        [0.9520, 0.0552],\n",
      "        [0.9161, 0.7261],\n",
      "        [0.9038, 0.8644],\n",
      "        [0.9014, 0.9219],\n",
      "        [0.9519, 0.0378],\n",
      "        [0.0764, 0.8968]], device='cuda:0', grad_fn=<SigmoidBackward0>)\n",
      "Epoch:69, combine_score:0.029726, cls_loss:310.655975, transfer_loss:691.492859, total_loss:1002.148621\n",
      "\n"
     ]
    },
    {
     "data": {
      "application/vnd.jupyter.widget-view+json": {
       "model_id": "48b9effdbb9241d89e0e60d7cf58f017",
       "version_major": 2,
       "version_minor": 0
      },
      "text/plain": [
       "  0%|          | 0/1000 [00:00<?, ?it/s]"
      ]
     },
     "metadata": {},
     "output_type": "display_data"
    },
    {
     "data": {
      "application/vnd.jupyter.widget-view+json": {
       "model_id": "",
       "version_major": 2,
       "version_minor": 0
      },
      "text/plain": [
       "  0%|          | 0/1386 [00:00<?, ?it/s]"
      ]
     },
     "metadata": {},
     "output_type": "display_data"
    },
    {
     "name": "stdout",
     "output_type": "stream",
     "text": [
      "tensor([[0.4925, 0.9272],\n",
      "        [0.9444, 0.8104],\n",
      "        [0.9432, 0.0480],\n",
      "        [0.8626, 0.8523],\n",
      "        [0.9219, 0.8295],\n",
      "        [0.9122, 0.9295],\n",
      "        [0.9407, 0.0507],\n",
      "        [0.0826, 0.9100]], device='cuda:0', grad_fn=<SigmoidBackward0>)\n",
      "Epoch:70, combine_score:0.030535, cls_loss:319.111328, transfer_loss:690.822388, total_loss:1009.934082\n",
      "\n"
     ]
    },
    {
     "data": {
      "application/vnd.jupyter.widget-view+json": {
       "model_id": "f68e45e6ef044849a3d2f4fe3192266f",
       "version_major": 2,
       "version_minor": 0
      },
      "text/plain": [
       "  0%|          | 0/1000 [00:00<?, ?it/s]"
      ]
     },
     "metadata": {},
     "output_type": "display_data"
    },
    {
     "data": {
      "application/vnd.jupyter.widget-view+json": {
       "model_id": "",
       "version_major": 2,
       "version_minor": 0
      },
      "text/plain": [
       "  0%|          | 0/1386 [00:00<?, ?it/s]"
      ]
     },
     "metadata": {},
     "output_type": "display_data"
    },
    {
     "name": "stdout",
     "output_type": "stream",
     "text": [
      "tensor([[0.4716, 0.9176],\n",
      "        [0.9504, 0.7817],\n",
      "        [0.9440, 0.0781],\n",
      "        [0.9111, 0.8357],\n",
      "        [0.8866, 0.8949],\n",
      "        [0.9245, 0.9151],\n",
      "        [0.9371, 0.0750],\n",
      "        [0.0899, 0.9079]], device='cuda:0', grad_fn=<SigmoidBackward0>)\n",
      "Epoch:71, combine_score:0.033652, cls_loss:314.263000, transfer_loss:691.398743, total_loss:1005.661926\n",
      "\n"
     ]
    },
    {
     "data": {
      "application/vnd.jupyter.widget-view+json": {
       "model_id": "e0556f1c355f40beb372b55ebc59d523",
       "version_major": 2,
       "version_minor": 0
      },
      "text/plain": [
       "  0%|          | 0/1000 [00:00<?, ?it/s]"
      ]
     },
     "metadata": {},
     "output_type": "display_data"
    },
    {
     "data": {
      "application/vnd.jupyter.widget-view+json": {
       "model_id": "",
       "version_major": 2,
       "version_minor": 0
      },
      "text/plain": [
       "  0%|          | 0/1386 [00:00<?, ?it/s]"
      ]
     },
     "metadata": {},
     "output_type": "display_data"
    },
    {
     "name": "stdout",
     "output_type": "stream",
     "text": [
      "tensor([[0.4623, 0.9298],\n",
      "        [0.9563, 0.8328],\n",
      "        [0.9513, 0.0537],\n",
      "        [0.9037, 0.8949],\n",
      "        [0.9125, 0.8949],\n",
      "        [0.8851, 0.9371],\n",
      "        [0.9457, 0.0500],\n",
      "        [0.0346, 0.9130]], device='cuda:0', grad_fn=<SigmoidBackward0>)\n",
      "Epoch:72, combine_score:0.029068, cls_loss:311.462769, transfer_loss:691.516846, total_loss:1002.979980\n",
      "\n"
     ]
    },
    {
     "data": {
      "application/vnd.jupyter.widget-view+json": {
       "model_id": "441e2d37a6fb43998e9188f8574f7d29",
       "version_major": 2,
       "version_minor": 0
      },
      "text/plain": [
       "  0%|          | 0/1000 [00:00<?, ?it/s]"
      ]
     },
     "metadata": {},
     "output_type": "display_data"
    },
    {
     "data": {
      "application/vnd.jupyter.widget-view+json": {
       "model_id": "",
       "version_major": 2,
       "version_minor": 0
      },
      "text/plain": [
       "  0%|          | 0/1386 [00:00<?, ?it/s]"
      ]
     },
     "metadata": {},
     "output_type": "display_data"
    },
    {
     "name": "stdout",
     "output_type": "stream",
     "text": [
      "tensor([[0.8024, 0.9343],\n",
      "        [0.9512, 0.6186],\n",
      "        [0.9459, 0.0521],\n",
      "        [0.9272, 0.7374],\n",
      "        [0.9350, 0.8418],\n",
      "        [0.9468, 0.9160],\n",
      "        [0.9370, 0.0632],\n",
      "        [0.0948, 0.9090]], device='cuda:0', grad_fn=<SigmoidBackward0>)\n",
      "Epoch:73, combine_score:0.034687, cls_loss:311.539062, transfer_loss:691.849609, total_loss:1003.388245\n",
      "\n"
     ]
    },
    {
     "data": {
      "application/vnd.jupyter.widget-view+json": {
       "model_id": "e17330c655ff4b11971995a565c0dd11",
       "version_major": 2,
       "version_minor": 0
      },
      "text/plain": [
       "  0%|          | 0/1000 [00:00<?, ?it/s]"
      ]
     },
     "metadata": {},
     "output_type": "display_data"
    },
    {
     "data": {
      "application/vnd.jupyter.widget-view+json": {
       "model_id": "",
       "version_major": 2,
       "version_minor": 0
      },
      "text/plain": [
       "  0%|          | 0/1386 [00:00<?, ?it/s]"
      ]
     },
     "metadata": {},
     "output_type": "display_data"
    },
    {
     "name": "stdout",
     "output_type": "stream",
     "text": [
      "tensor([[0.4632, 0.9219],\n",
      "        [0.9296, 0.8402],\n",
      "        [0.9354, 0.0717],\n",
      "        [0.9013, 0.8508],\n",
      "        [0.9214, 0.7541],\n",
      "        [0.9362, 0.8898],\n",
      "        [0.9232, 0.1145],\n",
      "        [0.3056, 0.8992]], device='cuda:0', grad_fn=<SigmoidBackward0>)\n",
      "Epoch:74, combine_score:0.029479, cls_loss:311.878143, transfer_loss:691.721375, total_loss:1003.599854\n",
      "\n"
     ]
    },
    {
     "data": {
      "application/vnd.jupyter.widget-view+json": {
       "model_id": "37fa8b41e63f46c9bb1c109c81133225",
       "version_major": 2,
       "version_minor": 0
      },
      "text/plain": [
       "  0%|          | 0/1000 [00:00<?, ?it/s]"
      ]
     },
     "metadata": {},
     "output_type": "display_data"
    },
    {
     "data": {
      "application/vnd.jupyter.widget-view+json": {
       "model_id": "",
       "version_major": 2,
       "version_minor": 0
      },
      "text/plain": [
       "  0%|          | 0/1386 [00:00<?, ?it/s]"
      ]
     },
     "metadata": {},
     "output_type": "display_data"
    },
    {
     "name": "stdout",
     "output_type": "stream",
     "text": [
      "tensor([[0.2275, 0.9195],\n",
      "        [0.8659, 0.9038],\n",
      "        [0.9392, 0.1319],\n",
      "        [0.8960, 0.8769],\n",
      "        [0.8571, 0.9179],\n",
      "        [0.7836, 0.9214],\n",
      "        [0.9389, 0.1378],\n",
      "        [0.0853, 0.9122]], device='cuda:0', grad_fn=<SigmoidBackward0>)\n",
      "Epoch:75, combine_score:0.030048, cls_loss:312.619659, transfer_loss:691.954285, total_loss:1004.573120\n",
      "\n"
     ]
    },
    {
     "data": {
      "application/vnd.jupyter.widget-view+json": {
       "model_id": "a273e4d9e0e344c19b9e23aedbec76bd",
       "version_major": 2,
       "version_minor": 0
      },
      "text/plain": [
       "  0%|          | 0/1000 [00:00<?, ?it/s]"
      ]
     },
     "metadata": {},
     "output_type": "display_data"
    },
    {
     "data": {
      "application/vnd.jupyter.widget-view+json": {
       "model_id": "",
       "version_major": 2,
       "version_minor": 0
      },
      "text/plain": [
       "  0%|          | 0/1386 [00:00<?, ?it/s]"
      ]
     },
     "metadata": {},
     "output_type": "display_data"
    },
    {
     "name": "stdout",
     "output_type": "stream",
     "text": [
      "tensor([[0.8033, 0.9287],\n",
      "        [0.9416, 0.6993],\n",
      "        [0.9378, 0.0558],\n",
      "        [0.8994, 0.8177],\n",
      "        [0.9135, 0.8662],\n",
      "        [0.9284, 0.9129],\n",
      "        [0.9431, 0.0441],\n",
      "        [0.0700, 0.9080]], device='cuda:0', grad_fn=<SigmoidBackward0>)\n",
      "Epoch:76, combine_score:0.031308, cls_loss:309.003571, transfer_loss:692.186218, total_loss:1001.189697\n",
      "\n"
     ]
    },
    {
     "data": {
      "application/vnd.jupyter.widget-view+json": {
       "model_id": "8cada35260d449ea835c100ac36e68bd",
       "version_major": 2,
       "version_minor": 0
      },
      "text/plain": [
       "  0%|          | 0/1000 [00:00<?, ?it/s]"
      ]
     },
     "metadata": {},
     "output_type": "display_data"
    },
    {
     "data": {
      "application/vnd.jupyter.widget-view+json": {
       "model_id": "",
       "version_major": 2,
       "version_minor": 0
      },
      "text/plain": [
       "  0%|          | 0/1386 [00:00<?, ?it/s]"
      ]
     },
     "metadata": {},
     "output_type": "display_data"
    },
    {
     "name": "stdout",
     "output_type": "stream",
     "text": [
      "tensor([[0.9405, 0.9373],\n",
      "        [0.9464, 0.2663],\n",
      "        [0.9576, 0.0137],\n",
      "        [0.9015, 0.7642],\n",
      "        [0.9352, 0.3938],\n",
      "        [0.9471, 0.8049],\n",
      "        [0.9502, 0.0223],\n",
      "        [0.2592, 0.9059]], device='cuda:0', grad_fn=<SigmoidBackward0>)\n",
      "Epoch:77, combine_score:0.030203, cls_loss:307.581085, transfer_loss:691.705750, total_loss:999.287842\n",
      "\n"
     ]
    },
    {
     "data": {
      "application/vnd.jupyter.widget-view+json": {
       "model_id": "fd262dce14e748f3a8b2ec47f69392fd",
       "version_major": 2,
       "version_minor": 0
      },
      "text/plain": [
       "  0%|          | 0/1000 [00:00<?, ?it/s]"
      ]
     },
     "metadata": {},
     "output_type": "display_data"
    },
    {
     "data": {
      "application/vnd.jupyter.widget-view+json": {
       "model_id": "",
       "version_major": 2,
       "version_minor": 0
      },
      "text/plain": [
       "  0%|          | 0/1386 [00:00<?, ?it/s]"
      ]
     },
     "metadata": {},
     "output_type": "display_data"
    },
    {
     "name": "stdout",
     "output_type": "stream",
     "text": [
      "tensor([[0.1367, 0.9225],\n",
      "        [0.9093, 0.9369],\n",
      "        [0.9526, 0.0665],\n",
      "        [0.8169, 0.8996],\n",
      "        [0.9008, 0.8987],\n",
      "        [0.8869, 0.9401],\n",
      "        [0.9340, 0.1352],\n",
      "        [0.3550, 0.9140]], device='cuda:0', grad_fn=<SigmoidBackward0>)\n",
      "Epoch:78, combine_score:0.041709, cls_loss:311.705170, transfer_loss:690.556885, total_loss:1002.262634\n",
      "\n"
     ]
    },
    {
     "data": {
      "application/vnd.jupyter.widget-view+json": {
       "model_id": "0a46de4de3914ec8aa276f8a8e1c2c7f",
       "version_major": 2,
       "version_minor": 0
      },
      "text/plain": [
       "  0%|          | 0/1000 [00:00<?, ?it/s]"
      ]
     },
     "metadata": {},
     "output_type": "display_data"
    },
    {
     "data": {
      "application/vnd.jupyter.widget-view+json": {
       "model_id": "",
       "version_major": 2,
       "version_minor": 0
      },
      "text/plain": [
       "  0%|          | 0/1386 [00:00<?, ?it/s]"
      ]
     },
     "metadata": {},
     "output_type": "display_data"
    },
    {
     "name": "stdout",
     "output_type": "stream",
     "text": [
      "tensor([[0.8016, 0.9274],\n",
      "        [0.9312, 0.5908],\n",
      "        [0.9484, 0.0261],\n",
      "        [0.9254, 0.5933],\n",
      "        [0.9194, 0.5875],\n",
      "        [0.9406, 0.9000],\n",
      "        [0.9392, 0.0400],\n",
      "        [0.3259, 0.8951]], device='cuda:0', grad_fn=<SigmoidBackward0>)\n",
      "Epoch:79, combine_score:0.032982, cls_loss:317.510590, transfer_loss:688.937988, total_loss:1006.449036\n",
      "\n"
     ]
    },
    {
     "data": {
      "application/vnd.jupyter.widget-view+json": {
       "model_id": "275fe81aa8904d86bcc5780f818e926d",
       "version_major": 2,
       "version_minor": 0
      },
      "text/plain": [
       "  0%|          | 0/1000 [00:00<?, ?it/s]"
      ]
     },
     "metadata": {},
     "output_type": "display_data"
    },
    {
     "data": {
      "application/vnd.jupyter.widget-view+json": {
       "model_id": "",
       "version_major": 2,
       "version_minor": 0
      },
      "text/plain": [
       "  0%|          | 0/1386 [00:00<?, ?it/s]"
      ]
     },
     "metadata": {},
     "output_type": "display_data"
    },
    {
     "name": "stdout",
     "output_type": "stream",
     "text": [
      "tensor([[0.2212, 0.9205],\n",
      "        [0.9238, 0.8557],\n",
      "        [0.9456, 0.0606],\n",
      "        [0.8659, 0.8474],\n",
      "        [0.9228, 0.8110],\n",
      "        [0.9313, 0.9284],\n",
      "        [0.9451, 0.0735],\n",
      "        [0.2434, 0.9134]], device='cuda:0', grad_fn=<SigmoidBackward0>)\n",
      "Epoch:80, combine_score:0.031468, cls_loss:313.177521, transfer_loss:691.849365, total_loss:1005.026550\n",
      "\n"
     ]
    },
    {
     "data": {
      "application/vnd.jupyter.widget-view+json": {
       "model_id": "e183079c493d483d8c415bd83d52702d",
       "version_major": 2,
       "version_minor": 0
      },
      "text/plain": [
       "  0%|          | 0/1000 [00:00<?, ?it/s]"
      ]
     },
     "metadata": {},
     "output_type": "display_data"
    },
    {
     "data": {
      "application/vnd.jupyter.widget-view+json": {
       "model_id": "",
       "version_major": 2,
       "version_minor": 0
      },
      "text/plain": [
       "  0%|          | 0/1386 [00:00<?, ?it/s]"
      ]
     },
     "metadata": {},
     "output_type": "display_data"
    },
    {
     "name": "stdout",
     "output_type": "stream",
     "text": [
      "tensor([[0.2316, 0.9238],\n",
      "        [0.9304, 0.7697],\n",
      "        [0.9408, 0.0502],\n",
      "        [0.8342, 0.8591],\n",
      "        [0.8909, 0.9154],\n",
      "        [0.9068, 0.9260],\n",
      "        [0.9430, 0.0569],\n",
      "        [0.0713, 0.9146]], device='cuda:0', grad_fn=<SigmoidBackward0>)\n",
      "Epoch:81, combine_score:0.028521, cls_loss:314.131805, transfer_loss:691.203125, total_loss:1005.334229\n",
      "\n"
     ]
    },
    {
     "data": {
      "application/vnd.jupyter.widget-view+json": {
       "model_id": "192d0fc3966f467f88ff68a2ac2e6617",
       "version_major": 2,
       "version_minor": 0
      },
      "text/plain": [
       "  0%|          | 0/1000 [00:00<?, ?it/s]"
      ]
     },
     "metadata": {},
     "output_type": "display_data"
    },
    {
     "data": {
      "application/vnd.jupyter.widget-view+json": {
       "model_id": "",
       "version_major": 2,
       "version_minor": 0
      },
      "text/plain": [
       "  0%|          | 0/1386 [00:00<?, ?it/s]"
      ]
     },
     "metadata": {},
     "output_type": "display_data"
    },
    {
     "name": "stdout",
     "output_type": "stream",
     "text": [
      "tensor([[0.7001, 0.9284],\n",
      "        [0.9285, 0.7701],\n",
      "        [0.9454, 0.0326],\n",
      "        [0.9020, 0.7886],\n",
      "        [0.9273, 0.6380],\n",
      "        [0.9003, 0.9048],\n",
      "        [0.9402, 0.0529],\n",
      "        [0.4025, 0.8996]], device='cuda:0', grad_fn=<SigmoidBackward0>)\n",
      "Epoch:82, combine_score:0.031437, cls_loss:310.894714, transfer_loss:691.907715, total_loss:1002.802673\n",
      "\n"
     ]
    },
    {
     "data": {
      "application/vnd.jupyter.widget-view+json": {
       "model_id": "c944044105b84a3aa2406af0b90745a8",
       "version_major": 2,
       "version_minor": 0
      },
      "text/plain": [
       "  0%|          | 0/1000 [00:00<?, ?it/s]"
      ]
     },
     "metadata": {},
     "output_type": "display_data"
    },
    {
     "data": {
      "application/vnd.jupyter.widget-view+json": {
       "model_id": "",
       "version_major": 2,
       "version_minor": 0
      },
      "text/plain": [
       "  0%|          | 0/1386 [00:00<?, ?it/s]"
      ]
     },
     "metadata": {},
     "output_type": "display_data"
    },
    {
     "name": "stdout",
     "output_type": "stream",
     "text": [
      "tensor([[0.7929, 0.9404],\n",
      "        [0.9434, 0.4623],\n",
      "        [0.9409, 0.0343],\n",
      "        [0.8959, 0.8202],\n",
      "        [0.9197, 0.8054],\n",
      "        [0.9323, 0.8710],\n",
      "        [0.9395, 0.0329],\n",
      "        [0.1034, 0.9057]], device='cuda:0', grad_fn=<SigmoidBackward0>)\n",
      "Epoch:83, combine_score:0.029792, cls_loss:309.235077, transfer_loss:689.839111, total_loss:999.074585\n",
      "\n"
     ]
    },
    {
     "data": {
      "application/vnd.jupyter.widget-view+json": {
       "model_id": "2f161d6122e04106a55b533d4c1eea03",
       "version_major": 2,
       "version_minor": 0
      },
      "text/plain": [
       "  0%|          | 0/1000 [00:00<?, ?it/s]"
      ]
     },
     "metadata": {},
     "output_type": "display_data"
    },
    {
     "data": {
      "application/vnd.jupyter.widget-view+json": {
       "model_id": "",
       "version_major": 2,
       "version_minor": 0
      },
      "text/plain": [
       "  0%|          | 0/1386 [00:00<?, ?it/s]"
      ]
     },
     "metadata": {},
     "output_type": "display_data"
    },
    {
     "name": "stdout",
     "output_type": "stream",
     "text": [
      "tensor([[0.7667, 0.9330],\n",
      "        [0.9413, 0.5883],\n",
      "        [0.9406, 0.0374],\n",
      "        [0.8903, 0.7371],\n",
      "        [0.9257, 0.7497],\n",
      "        [0.9424, 0.7179],\n",
      "        [0.9377, 0.0398],\n",
      "        [0.2560, 0.9018]], device='cuda:0', grad_fn=<SigmoidBackward0>)\n",
      "Epoch:84, combine_score:0.032317, cls_loss:309.071899, transfer_loss:691.564941, total_loss:1000.638489\n",
      "\n"
     ]
    },
    {
     "data": {
      "application/vnd.jupyter.widget-view+json": {
       "model_id": "47fb3abfd228489ea7f547767257dc14",
       "version_major": 2,
       "version_minor": 0
      },
      "text/plain": [
       "  0%|          | 0/1000 [00:00<?, ?it/s]"
      ]
     },
     "metadata": {},
     "output_type": "display_data"
    },
    {
     "data": {
      "application/vnd.jupyter.widget-view+json": {
       "model_id": "",
       "version_major": 2,
       "version_minor": 0
      },
      "text/plain": [
       "  0%|          | 0/1386 [00:00<?, ?it/s]"
      ]
     },
     "metadata": {},
     "output_type": "display_data"
    },
    {
     "name": "stdout",
     "output_type": "stream",
     "text": [
      "tensor([[0.6717, 0.9358],\n",
      "        [0.9400, 0.8420],\n",
      "        [0.9344, 0.0635],\n",
      "        [0.8894, 0.7732],\n",
      "        [0.9277, 0.7008],\n",
      "        [0.9268, 0.9011],\n",
      "        [0.9462, 0.0573],\n",
      "        [0.0510, 0.9089]], device='cuda:0', grad_fn=<SigmoidBackward0>)\n",
      "Epoch:85, combine_score:0.027602, cls_loss:309.694916, transfer_loss:691.855469, total_loss:1001.549622\n",
      "\n"
     ]
    },
    {
     "data": {
      "application/vnd.jupyter.widget-view+json": {
       "model_id": "bc079076b1134940a0c90a7b6e6810ef",
       "version_major": 2,
       "version_minor": 0
      },
      "text/plain": [
       "  0%|          | 0/1000 [00:00<?, ?it/s]"
      ]
     },
     "metadata": {},
     "output_type": "display_data"
    },
    {
     "data": {
      "application/vnd.jupyter.widget-view+json": {
       "model_id": "",
       "version_major": 2,
       "version_minor": 0
      },
      "text/plain": [
       "  0%|          | 0/1386 [00:00<?, ?it/s]"
      ]
     },
     "metadata": {},
     "output_type": "display_data"
    },
    {
     "name": "stdout",
     "output_type": "stream",
     "text": [
      "tensor([[0.8299, 0.9299],\n",
      "        [0.9401, 0.6493],\n",
      "        [0.9459, 0.0341],\n",
      "        [0.9087, 0.7840],\n",
      "        [0.9309, 0.6942],\n",
      "        [0.9409, 0.8628],\n",
      "        [0.9469, 0.0525],\n",
      "        [0.0739, 0.9015]], device='cuda:0', grad_fn=<SigmoidBackward0>)\n",
      "Epoch:86, combine_score:0.028069, cls_loss:308.908630, transfer_loss:691.000183, total_loss:999.909607\n",
      "\n"
     ]
    },
    {
     "data": {
      "application/vnd.jupyter.widget-view+json": {
       "model_id": "41837edc44c740a79d12abc8af43bcc7",
       "version_major": 2,
       "version_minor": 0
      },
      "text/plain": [
       "  0%|          | 0/1000 [00:00<?, ?it/s]"
      ]
     },
     "metadata": {},
     "output_type": "display_data"
    },
    {
     "data": {
      "application/vnd.jupyter.widget-view+json": {
       "model_id": "",
       "version_major": 2,
       "version_minor": 0
      },
      "text/plain": [
       "  0%|          | 0/1386 [00:00<?, ?it/s]"
      ]
     },
     "metadata": {},
     "output_type": "display_data"
    },
    {
     "name": "stdout",
     "output_type": "stream",
     "text": [
      "tensor([[0.5637, 0.9327],\n",
      "        [0.9077, 0.9068],\n",
      "        [0.9335, 0.0757],\n",
      "        [0.8361, 0.8797],\n",
      "        [0.8778, 0.9006],\n",
      "        [0.9349, 0.9098],\n",
      "        [0.9400, 0.0775],\n",
      "        [0.0576, 0.9081]], device='cuda:0', grad_fn=<SigmoidBackward0>)\n",
      "Epoch:87, combine_score:0.029910, cls_loss:310.309784, transfer_loss:692.343140, total_loss:1002.652344\n",
      "\n"
     ]
    },
    {
     "data": {
      "application/vnd.jupyter.widget-view+json": {
       "model_id": "a9a26f2709474bf5a2d4aa617f48294a",
       "version_major": 2,
       "version_minor": 0
      },
      "text/plain": [
       "  0%|          | 0/1000 [00:00<?, ?it/s]"
      ]
     },
     "metadata": {},
     "output_type": "display_data"
    },
    {
     "name": "stderr",
     "output_type": "stream",
     "text": [
      "wandb: Network error (ReadTimeout), entering retry loop.\n"
     ]
    },
    {
     "data": {
      "application/vnd.jupyter.widget-view+json": {
       "model_id": "",
       "version_major": 2,
       "version_minor": 0
      },
      "text/plain": [
       "  0%|          | 0/1386 [00:00<?, ?it/s]"
      ]
     },
     "metadata": {},
     "output_type": "display_data"
    },
    {
     "name": "stdout",
     "output_type": "stream",
     "text": [
      "tensor([[0.4714, 0.9306],\n",
      "        [0.9231, 0.8080],\n",
      "        [0.9590, 0.0182],\n",
      "        [0.8753, 0.8277],\n",
      "        [0.9120, 0.8254],\n",
      "        [0.9459, 0.8431],\n",
      "        [0.9510, 0.0522],\n",
      "        [0.0829, 0.9106]], device='cuda:0', grad_fn=<SigmoidBackward0>)\n",
      "Epoch:88, combine_score:0.030184, cls_loss:308.884918, transfer_loss:691.737061, total_loss:1000.621582\n",
      "\n"
     ]
    },
    {
     "data": {
      "application/vnd.jupyter.widget-view+json": {
       "model_id": "ebfccd35ef77401dbdeacd6b305d5633",
       "version_major": 2,
       "version_minor": 0
      },
      "text/plain": [
       "  0%|          | 0/1000 [00:00<?, ?it/s]"
      ]
     },
     "metadata": {},
     "output_type": "display_data"
    },
    {
     "data": {
      "application/vnd.jupyter.widget-view+json": {
       "model_id": "",
       "version_major": 2,
       "version_minor": 0
      },
      "text/plain": [
       "  0%|          | 0/1386 [00:00<?, ?it/s]"
      ]
     },
     "metadata": {},
     "output_type": "display_data"
    },
    {
     "name": "stdout",
     "output_type": "stream",
     "text": [
      "tensor([[0.6572, 0.9340],\n",
      "        [0.9318, 0.8335],\n",
      "        [0.9475, 0.0496],\n",
      "        [0.8765, 0.7703],\n",
      "        [0.9121, 0.8781],\n",
      "        [0.9295, 0.9253],\n",
      "        [0.9449, 0.0887],\n",
      "        [0.1270, 0.9132]], device='cuda:0', grad_fn=<SigmoidBackward0>)\n",
      "Epoch:89, combine_score:0.030779, cls_loss:309.460724, transfer_loss:691.598511, total_loss:1001.059204\n",
      "\n"
     ]
    },
    {
     "data": {
      "application/vnd.jupyter.widget-view+json": {
       "model_id": "46a7e248996349d5940943bb15bb026f",
       "version_major": 2,
       "version_minor": 0
      },
      "text/plain": [
       "  0%|          | 0/1000 [00:00<?, ?it/s]"
      ]
     },
     "metadata": {},
     "output_type": "display_data"
    },
    {
     "data": {
      "application/vnd.jupyter.widget-view+json": {
       "model_id": "",
       "version_major": 2,
       "version_minor": 0
      },
      "text/plain": [
       "  0%|          | 0/1386 [00:00<?, ?it/s]"
      ]
     },
     "metadata": {},
     "output_type": "display_data"
    },
    {
     "name": "stdout",
     "output_type": "stream",
     "text": [
      "tensor([[0.8519, 0.9456],\n",
      "        [0.9354, 0.7758],\n",
      "        [0.9356, 0.0527],\n",
      "        [0.8900, 0.8375],\n",
      "        [0.9296, 0.8769],\n",
      "        [0.9394, 0.8943],\n",
      "        [0.9360, 0.1116],\n",
      "        [0.2824, 0.9192]], device='cuda:0', grad_fn=<SigmoidBackward0>)\n",
      "Epoch:90, combine_score:0.028257, cls_loss:304.354309, transfer_loss:690.944824, total_loss:995.299072\n",
      "\n"
     ]
    },
    {
     "data": {
      "application/vnd.jupyter.widget-view+json": {
       "model_id": "13754c3d59864144a538d4425d384b35",
       "version_major": 2,
       "version_minor": 0
      },
      "text/plain": [
       "  0%|          | 0/1000 [00:00<?, ?it/s]"
      ]
     },
     "metadata": {},
     "output_type": "display_data"
    },
    {
     "data": {
      "application/vnd.jupyter.widget-view+json": {
       "model_id": "",
       "version_major": 2,
       "version_minor": 0
      },
      "text/plain": [
       "  0%|          | 0/1386 [00:00<?, ?it/s]"
      ]
     },
     "metadata": {},
     "output_type": "display_data"
    },
    {
     "name": "stdout",
     "output_type": "stream",
     "text": [
      "tensor([[0.5776, 0.9333],\n",
      "        [0.9243, 0.8744],\n",
      "        [0.9366, 0.0709],\n",
      "        [0.8642, 0.8918],\n",
      "        [0.9113, 0.9087],\n",
      "        [0.9236, 0.9287],\n",
      "        [0.9399, 0.1233],\n",
      "        [0.0562, 0.9163]], device='cuda:0', grad_fn=<SigmoidBackward0>)\n",
      "Epoch:91, combine_score:0.027985, cls_loss:306.876556, transfer_loss:690.800415, total_loss:997.676819\n",
      "\n"
     ]
    },
    {
     "data": {
      "application/vnd.jupyter.widget-view+json": {
       "model_id": "86c4e37c4dcf4989a8eae6664c3436cf",
       "version_major": 2,
       "version_minor": 0
      },
      "text/plain": [
       "  0%|          | 0/1000 [00:00<?, ?it/s]"
      ]
     },
     "metadata": {},
     "output_type": "display_data"
    },
    {
     "data": {
      "application/vnd.jupyter.widget-view+json": {
       "model_id": "",
       "version_major": 2,
       "version_minor": 0
      },
      "text/plain": [
       "  0%|          | 0/1386 [00:00<?, ?it/s]"
      ]
     },
     "metadata": {},
     "output_type": "display_data"
    },
    {
     "name": "stdout",
     "output_type": "stream",
     "text": [
      "tensor([[0.3675, 0.9174],\n",
      "        [0.9009, 0.9106],\n",
      "        [0.9412, 0.1114],\n",
      "        [0.8284, 0.8783],\n",
      "        [0.8860, 0.8960],\n",
      "        [0.8822, 0.9267],\n",
      "        [0.9390, 0.2190],\n",
      "        [0.0529, 0.9008]], device='cuda:0', grad_fn=<SigmoidBackward0>)\n",
      "Epoch:92, combine_score:0.028436, cls_loss:306.195557, transfer_loss:690.102600, total_loss:996.297791\n",
      "\n"
     ]
    },
    {
     "data": {
      "application/vnd.jupyter.widget-view+json": {
       "model_id": "18fc7759e5854f158847bcea8c022616",
       "version_major": 2,
       "version_minor": 0
      },
      "text/plain": [
       "  0%|          | 0/1000 [00:00<?, ?it/s]"
      ]
     },
     "metadata": {},
     "output_type": "display_data"
    },
    {
     "data": {
      "application/vnd.jupyter.widget-view+json": {
       "model_id": "",
       "version_major": 2,
       "version_minor": 0
      },
      "text/plain": [
       "  0%|          | 0/1386 [00:00<?, ?it/s]"
      ]
     },
     "metadata": {},
     "output_type": "display_data"
    },
    {
     "name": "stdout",
     "output_type": "stream",
     "text": [
      "tensor([[0.7259, 0.9401],\n",
      "        [0.9458, 0.4754],\n",
      "        [0.9411, 0.0439],\n",
      "        [0.8984, 0.7955],\n",
      "        [0.8968, 0.9038],\n",
      "        [0.9384, 0.9074],\n",
      "        [0.9513, 0.0686],\n",
      "        [0.0663, 0.9082]], device='cuda:0', grad_fn=<SigmoidBackward0>)\n",
      "Epoch:93, combine_score:0.029949, cls_loss:306.985657, transfer_loss:689.574524, total_loss:996.559998\n",
      "\n"
     ]
    },
    {
     "data": {
      "application/vnd.jupyter.widget-view+json": {
       "model_id": "790c60901ff146efb478f20aeca5a14c",
       "version_major": 2,
       "version_minor": 0
      },
      "text/plain": [
       "  0%|          | 0/1000 [00:00<?, ?it/s]"
      ]
     },
     "metadata": {},
     "output_type": "display_data"
    },
    {
     "data": {
      "application/vnd.jupyter.widget-view+json": {
       "model_id": "",
       "version_major": 2,
       "version_minor": 0
      },
      "text/plain": [
       "  0%|          | 0/1386 [00:00<?, ?it/s]"
      ]
     },
     "metadata": {},
     "output_type": "display_data"
    },
    {
     "name": "stdout",
     "output_type": "stream",
     "text": [
      "tensor([[0.3470, 0.9220],\n",
      "        [0.9467, 0.8507],\n",
      "        [0.9282, 0.1021],\n",
      "        [0.8665, 0.8965],\n",
      "        [0.8228, 0.9227],\n",
      "        [0.8651, 0.9365],\n",
      "        [0.9382, 0.1780],\n",
      "        [0.0428, 0.9103]], device='cuda:0', grad_fn=<SigmoidBackward0>)\n",
      "Epoch:94, combine_score:0.027880, cls_loss:306.452240, transfer_loss:691.523987, total_loss:997.976013\n",
      "\n"
     ]
    },
    {
     "data": {
      "application/vnd.jupyter.widget-view+json": {
       "model_id": "c13d2539cdcf4c6f9d5351c7cba804fc",
       "version_major": 2,
       "version_minor": 0
      },
      "text/plain": [
       "  0%|          | 0/1000 [00:00<?, ?it/s]"
      ]
     },
     "metadata": {},
     "output_type": "display_data"
    },
    {
     "data": {
      "application/vnd.jupyter.widget-view+json": {
       "model_id": "",
       "version_major": 2,
       "version_minor": 0
      },
      "text/plain": [
       "  0%|          | 0/1386 [00:00<?, ?it/s]"
      ]
     },
     "metadata": {},
     "output_type": "display_data"
    },
    {
     "name": "stdout",
     "output_type": "stream",
     "text": [
      "tensor([[0.9037, 0.9392],\n",
      "        [0.9469, 0.5625],\n",
      "        [0.9486, 0.0208],\n",
      "        [0.9144, 0.8185],\n",
      "        [0.9292, 0.7670],\n",
      "        [0.9453, 0.9026],\n",
      "        [0.9416, 0.0656],\n",
      "        [0.0975, 0.9076]], device='cuda:0', grad_fn=<SigmoidBackward0>)\n",
      "Epoch:95, combine_score:0.028798, cls_loss:309.510773, transfer_loss:690.839233, total_loss:1000.349182\n",
      "\n"
     ]
    },
    {
     "data": {
      "application/vnd.jupyter.widget-view+json": {
       "model_id": "0ffc1c5a85e54e60917c341ba15f997b",
       "version_major": 2,
       "version_minor": 0
      },
      "text/plain": [
       "  0%|          | 0/1000 [00:00<?, ?it/s]"
      ]
     },
     "metadata": {},
     "output_type": "display_data"
    },
    {
     "data": {
      "application/vnd.jupyter.widget-view+json": {
       "model_id": "",
       "version_major": 2,
       "version_minor": 0
      },
      "text/plain": [
       "  0%|          | 0/1386 [00:00<?, ?it/s]"
      ]
     },
     "metadata": {},
     "output_type": "display_data"
    },
    {
     "name": "stdout",
     "output_type": "stream",
     "text": [
      "tensor([[0.2474, 0.9134],\n",
      "        [0.9232, 0.8998],\n",
      "        [0.9440, 0.0379],\n",
      "        [0.8638, 0.8486],\n",
      "        [0.9076, 0.8606],\n",
      "        [0.7533, 0.9179],\n",
      "        [0.9455, 0.1543],\n",
      "        [0.0565, 0.9066]], device='cuda:0', grad_fn=<SigmoidBackward0>)\n",
      "Epoch:96, combine_score:0.029339, cls_loss:304.121613, transfer_loss:691.153809, total_loss:995.275940\n",
      "\n"
     ]
    },
    {
     "data": {
      "application/vnd.jupyter.widget-view+json": {
       "model_id": "5b17475c3d0845d6813604471e2507c9",
       "version_major": 2,
       "version_minor": 0
      },
      "text/plain": [
       "  0%|          | 0/1000 [00:00<?, ?it/s]"
      ]
     },
     "metadata": {},
     "output_type": "display_data"
    },
    {
     "data": {
      "application/vnd.jupyter.widget-view+json": {
       "model_id": "",
       "version_major": 2,
       "version_minor": 0
      },
      "text/plain": [
       "  0%|          | 0/1386 [00:00<?, ?it/s]"
      ]
     },
     "metadata": {},
     "output_type": "display_data"
    },
    {
     "name": "stdout",
     "output_type": "stream",
     "text": [
      "tensor([[0.4254, 0.9247],\n",
      "        [0.9528, 0.8859],\n",
      "        [0.9424, 0.2514],\n",
      "        [0.8422, 0.8510],\n",
      "        [0.7011, 0.9242],\n",
      "        [0.8239, 0.9335],\n",
      "        [0.9442, 0.2707],\n",
      "        [0.0265, 0.9192]], device='cuda:0', grad_fn=<SigmoidBackward0>)\n",
      "Epoch:97, combine_score:0.031743, cls_loss:303.732819, transfer_loss:691.530273, total_loss:995.263184\n",
      "\n"
     ]
    },
    {
     "data": {
      "application/vnd.jupyter.widget-view+json": {
       "model_id": "e682eecbca664da797428ab668aebfc0",
       "version_major": 2,
       "version_minor": 0
      },
      "text/plain": [
       "  0%|          | 0/1000 [00:00<?, ?it/s]"
      ]
     },
     "metadata": {},
     "output_type": "display_data"
    },
    {
     "data": {
      "application/vnd.jupyter.widget-view+json": {
       "model_id": "",
       "version_major": 2,
       "version_minor": 0
      },
      "text/plain": [
       "  0%|          | 0/1386 [00:00<?, ?it/s]"
      ]
     },
     "metadata": {},
     "output_type": "display_data"
    },
    {
     "name": "stdout",
     "output_type": "stream",
     "text": [
      "tensor([[0.5465, 0.9289],\n",
      "        [0.9491, 0.7834],\n",
      "        [0.9375, 0.0450],\n",
      "        [0.8773, 0.8362],\n",
      "        [0.8937, 0.9033],\n",
      "        [0.9095, 0.9291],\n",
      "        [0.9406, 0.0403],\n",
      "        [0.0446, 0.9154]], device='cuda:0', grad_fn=<SigmoidBackward0>)\n",
      "Epoch:98, combine_score:0.029766, cls_loss:305.292755, transfer_loss:690.817444, total_loss:996.110352\n",
      "\n"
     ]
    },
    {
     "data": {
      "application/vnd.jupyter.widget-view+json": {
       "model_id": "5c63a93000e6476cbdfee46ecc56b627",
       "version_major": 2,
       "version_minor": 0
      },
      "text/plain": [
       "  0%|          | 0/1000 [00:00<?, ?it/s]"
      ]
     },
     "metadata": {},
     "output_type": "display_data"
    },
    {
     "data": {
      "application/vnd.jupyter.widget-view+json": {
       "model_id": "",
       "version_major": 2,
       "version_minor": 0
      },
      "text/plain": [
       "  0%|          | 0/1386 [00:00<?, ?it/s]"
      ]
     },
     "metadata": {},
     "output_type": "display_data"
    },
    {
     "name": "stdout",
     "output_type": "stream",
     "text": [
      "tensor([[0.6175, 0.9288],\n",
      "        [0.9395, 0.7519],\n",
      "        [0.9346, 0.0307],\n",
      "        [0.8987, 0.8047],\n",
      "        [0.8901, 0.8763],\n",
      "        [0.9212, 0.9168],\n",
      "        [0.9356, 0.0804],\n",
      "        [0.1516, 0.8994]], device='cuda:0', grad_fn=<SigmoidBackward0>)\n",
      "Epoch:99, combine_score:0.028643, cls_loss:304.758636, transfer_loss:691.311340, total_loss:996.070129\n",
      "\n"
     ]
    }
   ],
   "source": [
    "parser = argparse.ArgumentParser(description='baseline')\n",
    "# Hyperparameters\n",
    "parser.add_argument('--batch_size', type=int, default=8)\n",
    "parser.add_argument('--num_epochs', type=int, default=100)\n",
    "parser.add_argument('--is_scheduler', action='store_true', default=True,help='use scheduler(default-False)')\n",
    "\n",
    "# model\n",
    "parser.add_argument('--seed', type=int, default=42, \n",
    "                    help='random seed (default: 42)')\n",
    "\n",
    "\n",
    "##modify\n",
    "parser.add_argument('--lr', '--learning-rate', default=1e-2, type=float,\n",
    "                        metavar='LR', help='initial learning rate', dest='lr')\n",
    "parser.add_argument('--lr-gamma', default=0.001,\n",
    "                    type=float, help='parameter for lr scheduler')\n",
    "parser.add_argument('--lr-decay', default=0.75,\n",
    "                    type=float, help='parameter for lr scheduler')\n",
    "parser.add_argument('--momentum', default=0.9,\n",
    "                    type=float, metavar='M', help='momentum')\n",
    "parser.add_argument('--wd', '--weight-decay', default=1e-3, type=float,\n",
    "                    metavar='W', help='weight decay (default: 1e-3)',\n",
    "                    dest='weight_decay')\n",
    "\n",
    "###\n",
    "parser.add_argument('--model_path', type=str,\n",
    "                    default=None, help='Model checkpoint')\n",
    "parser.add_argument('--comment', type=str, default=None,\n",
    "                    help='Comment to describe the saved model')\n",
    "\n",
    "# Auxiliary arguments\n",
    "parser.add_argument('--eval_output', type=str, default='epoch7.csv',\n",
    "                    help='Path to save the evaluation result')\n",
    "parser.add_argument('--eval', action='store_true', default=False,\n",
    "                    help='eval mode')\n",
    "parser.add_argument('--is_eval', action='store_true', default=False,help='eval database')\n",
    "parser.add_argument('--eval_part', type=int, default=0)\n",
    "\n",
    "# backend options\n",
    "parser.add_argument('--cudnn-deterministic-toggle', action='store_false', \\\n",
    "                    default=True, \n",
    "                    help='use cudnn-deterministic? (default true)')    \n",
    "\n",
    "parser.add_argument('--cudnn-benchmark-toggle', action='store_true', \\\n",
    "                    default=False, \n",
    "                    help='use cudnn-benchmark? (default false)') \n",
    "\n",
    "parser.add_argument('--temperature', default=2.0,\n",
    "                        type=float, help='parameter temperature scaling')\n",
    "parser.add_argument('--rho', type=float, default=0.05, help=\"GPU ID\")\n",
    "##===================================================Rawboost data augmentation ======================================================================#\n",
    "\n",
    "parser.add_argument('--algo', type=int, default=0, \n",
    "                help='Rawboost algos discriptions. 0: No augmentation 1: LnL_convolutive_noise, 2: ISD_additive_noise, 3: SSI_additive_noise, 4: series algo (1+2+3), \\\n",
    "                5: series algo (1+2), 6: series algo (1+3), 7: series algo(2+3), 8: parallel algo(1,2) .default=0]')\n",
    "\n",
    "# LnL_convolutive_noise parameters\n",
    "parser.add_argument('--nBands', type=int, default=5, \n",
    "                help='number of notch filters.The higher the number of bands, the more aggresive the distortions is.[default=5]')\n",
    "parser.add_argument('--minF', type=int, default=20, \n",
    "                help='minimum centre frequency [Hz] of notch filter.[default=20] ')\n",
    "parser.add_argument('--maxF', type=int, default=8000, \n",
    "                help='maximum centre frequency [Hz] (<sr/2)  of notch filter.[default=8000]')\n",
    "parser.add_argument('--minBW', type=int, default=100, \n",
    "                help='minimum width [Hz] of filter.[default=100] ')\n",
    "parser.add_argument('--maxBW', type=int, default=1000, \n",
    "                help='maximum width [Hz] of filter.[default=1000] ')\n",
    "parser.add_argument('--minCoeff', type=int, default=10, \n",
    "                help='minimum filter coefficients. More the filter coefficients more ideal the filter slope.[default=10]')\n",
    "parser.add_argument('--maxCoeff', type=int, default=100, \n",
    "                help='maximum filter coefficients. More the filter coefficients more ideal the filter slope.[default=100]')\n",
    "parser.add_argument('--minG', type=int, default=0, \n",
    "                help='minimum gain factor of linear component.[default=0]')\n",
    "parser.add_argument('--maxG', type=int, default=0, \n",
    "                help='maximum gain factor of linear component.[default=0]')\n",
    "parser.add_argument('--minBiasLinNonLin', type=int, default=5, \n",
    "                help=' minimum gain difference between linear and non-linear components.[default=5]')\n",
    "parser.add_argument('--maxBiasLinNonLin', type=int, default=20, \n",
    "                help=' maximum gain difference between linear and non-linear components.[default=20]')\n",
    "parser.add_argument('--N_f', type=int, default=5, \n",
    "                help='order of the (non-)linearity where N_f=1 refers only to linear components.[default=5]')\n",
    "\n",
    "# ISD_additive_noise parameters\n",
    "parser.add_argument('--P', type=int, default=10, \n",
    "                help='Maximum number of uniformly distributed samples in [%].[defaul=10]')\n",
    "parser.add_argument('--g_sd', type=int, default=2, \n",
    "                help='gain parameters > 0. [default=2]')\n",
    "parser.add_argument('-i', '--iters-per-epoch', default=1000, type=int,\n",
    "                        help='Number of iterations per epoch')\n",
    "# SSI_additive_noise parameters\n",
    "parser.add_argument('--SNRmin', type=int, default=10, \n",
    "                help='Minimum SNR value for coloured additive noise.[defaul=10]')\n",
    "parser.add_argument('--SNRmax', type=int, default=40, \n",
    "                help='Maximum SNR value for coloured additive noise.[defaul=40]')\n",
    "\n",
    "##===================================================Rawboost data augmentation ======================================================================#\n",
    "\n",
    "\n",
    "if not os.path.exists('models'):\n",
    "    os.mkdir('models')\n",
    "args = parser.parse_args(args=[])\n",
    "\n",
    "#make experiment reproducible\n",
    "set_random_seed(args.seed, args)\n",
    "\n",
    "# track = args.track\n",
    "\n",
    "# assert track in ['LA', 'PA','DF'], 'Invalid track given'\n",
    "\n",
    "# #database\n",
    "# prefix_2021 = 'ASVspoof2021.{}'.format(track)\n",
    "\n",
    "#define model saving path\n",
    "model_tag = ' adam_fold0_{}_{}_{}'.format(\n",
    "         args.num_epochs, args.batch_size, args.lr)\n",
    "if args.comment:\n",
    "    model_tag = model_tag + '_{}'.format(args.comment)\n",
    "model_save_path = os.path.join('models', model_tag)\n",
    "\n",
    "#set model save directory\n",
    "if not os.path.exists(model_save_path):\n",
    "    os.mkdir(model_save_path)\n",
    "\n",
    "#GPU device\n",
    "device = 'cuda' if torch.cuda.is_available() else 'cpu'                  \n",
    "print('Device: {}'.format(device))\n",
    "\n",
    "for_model = {\n",
    "        \"architecture\": \"AASIST\",\n",
    "        \"nb_samp\": 80000,\n",
    "        \"first_conv\": 128,\n",
    "        \"filts\": [70, [1, 32], [32, 32], [32, 64], [64, 64]],\n",
    "        \"gat_dims\": [64, 32],\n",
    "        \"pool_ratios\": [0.5, 0.7, 0.5, 0.5],\n",
    "        \"temperatures\": [2.0, 2.0, 100.0, 100.0]\n",
    "    }\n",
    "    \n",
    "classifier = Model(for_model)\n",
    "nb_params = sum([param.view(-1).size()[0] for param in classifier.parameters()])\n",
    "print('nb_params:',nb_params)\n",
    "classifier.to(device)\n",
    "\n",
    "if args.model_path:\n",
    "    classifier.load_state_dict(torch.load(args.model_path,map_location=device))\n",
    "    print('Model loaded : {}'.format(args.model_path))\n",
    "\n",
    "if args.eval:\n",
    "    print('eval')\n",
    "    file_eval = pd.read_csv('test.csv')\n",
    "    print('no. of eval trials',len(file_eval))\n",
    "    eval_set = Dataset_ASVspoof_eval(file_eval['id'].to_list())\n",
    "    eval_loader = DataLoader(eval_set, batch_size=args.batch_size,num_workers=8, shuffle=False)\n",
    "    inference(eval_loader, classifier, device, args.eval_output)\n",
    "    sys.exit(1)\n",
    "\n",
    "df = pd.read_csv('train.csv')\n",
    "df['label'] = np.where(df['label']=='real',1,0)\n",
    "target_df = pd.read_csv('unlabeled.csv')\n",
    "X = df['id'].to_list()\n",
    "y = df['label'].to_list()\n",
    "\n",
    "# Stratified K-Fold 설정\n",
    "k = 5\n",
    "skf = StratifiedKFold(n_splits=k, shuffle=True, random_state=42)\n",
    "\n",
    "# Stratified K-Fold 적용\n",
    "folds = list(skf.split(X, y))\n",
    "\n",
    "# 특정 fold 선택 (예: fold_index = 0)\n",
    "fold_index = 0\n",
    "train_indices, val_indices = folds[fold_index]\n",
    "\n",
    "X_train = [X[i] for i in train_indices]\n",
    "X_test = [X[i] for i in val_indices]\n",
    "y_train = [y[i] for i in train_indices]\n",
    "y_test = [y[i] for i in val_indices]\n",
    "train_source_dataset = Dataset_ASVspoof_train(args,list_IDs = X_train,labels = y_train,algo=args.algo)\n",
    "train_target_dataset = Dataset_ASVspoof_dev(list_IDs = target_df['0'].to_list(),args=args,algo=args.algo)\n",
    "\n",
    "\n",
    "\n",
    "train_source_loader = DataLoader(train_source_dataset, batch_size=args.batch_size,\n",
    "                                     shuffle=True, num_workers=8, drop_last=True)\n",
    "train_target_loader = DataLoader(train_target_dataset, batch_size=args.batch_size,\n",
    "                                     shuffle=True, num_workers=8, drop_last=True)\n",
    "\n",
    "eval_set = Dataset_ASVspoof_dev(list_IDs = target_df['0'].to_list(),args=args,algo=args.algo)\n",
    "eval_loader = DataLoader(eval_set, batch_size=args.batch_size,num_workers=8, shuffle=False)\n",
    "\n",
    "train_source_iter = ForeverDataIterator(train_source_loader)\n",
    "train_target_iter = ForeverDataIterator(train_target_loader)\n",
    "\n",
    "\n",
    "dev_set = Dataset_ASVspoof_train(args,list_IDs = X_test,labels = y_test,algo=0)\n",
    "dev_loader = DataLoader(dev_set, batch_size=args.batch_size,num_workers=8, shuffle=False)\n",
    "\n",
    "domain_discri = DomainDiscriminator(\n",
    "            160 * 2, hidden_size=1024).to(device)\n",
    "\n",
    "\n",
    "\n",
    "base_optimizer = torch.optim.Adam\n",
    "ad_optimizer = torch.optim.Adam(domain_discri.get_parameters(\n",
    "), args.lr, weight_decay=args.weight_decay)\n",
    "optimizer = SAM(classifier.parameters(), base_optimizer, rho=args.rho, adaptive=False,\n",
    "        lr=args.lr,weight_decay=args.weight_decay)\n",
    "\n",
    "\n",
    "lr_scheduler = LambdaLR(optimizer, lambda x: args.lr *\n",
    "                            (1. + args.lr_gamma * float(x)) ** (-args.lr_decay))\n",
    "lr_scheduler_ad = LambdaLR(\n",
    "        ad_optimizer, lambda x: args.lr * (1. + args.lr_gamma * float(x)) ** (-args.lr_decay))\n",
    "\n",
    "domain_adv = ConditionalDomainAdversarialLoss(\n",
    "        domain_discri, entropy_conditioning=False,\n",
    "        num_classes=2, features_dim=160, randomized=False,\n",
    "        randomized_dim=1024\n",
    "    ).to(device)\n",
    "\n",
    "\n",
    "wandb.init(\n",
    "        project=f\"FOLD_ADAM_BEST\",\n",
    "        name='fold0',\n",
    "        config=args\n",
    "    )\n",
    "for epoch in range(args.num_epochs):\n",
    "    # train for one epoch\n",
    "    \n",
    "    total_cls_loss, total_transfer_loss, total_loss = train(train_source_iter, train_target_iter, classifier, domain_adv, optimizer, ad_optimizer,\n",
    "          lr_scheduler, lr_scheduler_ad, \n",
    "          epoch, args)\n",
    "    torch.save(classifier.state_dict(), os.path.join(\n",
    "        model_save_path, 'epoch_{}.pth'.format(epoch)))\n",
    "    \n",
    "    # evaluate on validation set\n",
    "    combine_score = produce_evaluation_file(dev_loader, classifier, device,X_test)\n",
    "\n",
    "    data_iter = iter(eval_loader)\n",
    "    wav = next(data_iter)\n",
    "\n",
    "    print(torch.sigmoid(classifier(wav.to(device))[0]))\n",
    "    print(\"Epoch:{}, combine_score:{:.6f}, cls_loss:{:.6f}, transfer_loss:{:.6f}, total_loss:{:.6f}\\n\".format(\n",
    "        epoch, combine_score,total_cls_loss, total_transfer_loss, total_loss))\n",
    "    wandb.log({\n",
    "        'combine':combine_score,\n",
    "        'lr':lr_scheduler.get_last_lr()[0],\n",
    "        'ad_lr':lr_scheduler_ad.get_last_lr()[0],\n",
    "        'total_cls_loss':total_cls_loss,\n",
    "        'total_transfer_loss':total_transfer_loss,\n",
    "        'total_loss':total_loss\n",
    "            })"
   ]
  },
  {
   "cell_type": "code",
   "execution_count": 13,
   "id": "27c4b3cc-de95-458e-a994-317aaa4de5d6",
   "metadata": {},
   "outputs": [
    {
     "data": {
      "application/vnd.jupyter.widget-view+json": {
       "model_id": "58452e3477c546a0a89d431e7e5f8ac2",
       "version_major": 2,
       "version_minor": 0
      },
      "text/plain": [
       "  0%|          | 0/6250 [00:00<?, ?it/s]"
      ]
     },
     "metadata": {},
     "output_type": "display_data"
    }
   ],
   "source": [
    "file_eval = pd.read_csv('test.csv')\n",
    "eval_set = Dataset_ASVspoof_eval(file_eval['id'].to_list())\n",
    "eval_loader = DataLoader(eval_set, batch_size=args.batch_size,num_workers=8, shuffle=False)\n",
    "inference(eval_loader, classifier, device, 'asdf_fold0.csv')"
   ]
  },
  {
   "cell_type": "code",
   "execution_count": null,
   "id": "72aacca8-125e-4f50-98aa-a54498ded334",
   "metadata": {},
   "outputs": [],
   "source": []
  }
 ],
 "metadata": {
  "kernelspec": {
   "display_name": "Python 3 (ipykernel)",
   "language": "python",
   "name": "python3"
  },
  "language_info": {
   "codemirror_mode": {
    "name": "ipython",
    "version": 3
   },
   "file_extension": ".py",
   "mimetype": "text/x-python",
   "name": "python",
   "nbconvert_exporter": "python",
   "pygments_lexer": "ipython3",
   "version": "3.11.8"
  }
 },
 "nbformat": 4,
 "nbformat_minor": 5
}
