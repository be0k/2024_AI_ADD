{
 "cells": [
  {
   "cell_type": "markdown",
   "id": "ebcd47b3-5c3c-4176-8739-14bb28bb9922",
   "metadata": {},
   "source": [
    "# Library"
   ]
  },
  {
   "cell_type": "code",
   "execution_count": 1,
   "id": "bf9681d4-2ed8-4351-a54d-1f116ffbbba4",
   "metadata": {},
   "outputs": [],
   "source": [
    "#general\n",
    "import argparse\n",
    "import sys\n",
    "import os\n",
    "import random\n",
    "from scipy import signal\n",
    "import copy\n",
    "from typing import Union\n",
    "from tqdm.notebook import tqdm\n",
    "import numpy as np\n",
    "import pandas as pd\n",
    "from typing import Callable, Tuple\n",
    "\n",
    "from typing import List, Dict\n",
    "import torch.nn as nn\n",
    "import itertools\n",
    "import random\n",
    "import numpy as np\n",
    "\n",
    "import torch\n",
    "from torch.utils.data import Sampler\n",
    "from torch.utils.data import DataLoader, Dataset\n",
    "from typing import TypeVar, Iterable, Dict, List\n",
    "\n",
    "#sklearn\n",
    "from sklearn.metrics import accuracy_score, f1_score\n",
    "from sklearn.calibration import calibration_curve\n",
    "from sklearn.metrics import mean_squared_error\n",
    "from sklearn.metrics import roc_auc_score\n",
    "from sklearn.model_selection import train_test_split,StratifiedKFold\n",
    "from scipy.interpolate import interp1d\n",
    "from scipy.optimize import brentq\n",
    "from sklearn.metrics import roc_curve, precision_recall_fscore_support, roc_auc_score\n",
    "\n",
    "#hf\n",
    "from transformers import (AutoConfig,AutoModel)\n",
    "\n",
    "#torch\n",
    "import torch.nn.functional as F\n",
    "from torch.utils.data import Dataset\n",
    "import torch\n",
    "from torch import nn\n",
    "from torch import Tensor\n",
    "from torch.utils.data import DataLoader\n",
    "from torch.optim.lr_scheduler import LambdaLR\n",
    "\n",
    "\n",
    "#librosa\n",
    "import librosa\n",
    "\n",
    "#wandb\n",
    "import wandb\n",
    "\n",
    "\n",
    "import warnings\n",
    "warnings.filterwarnings(\"ignore\")"
   ]
  },
  {
   "cell_type": "code",
   "execution_count": 2,
   "id": "af531ac2-eb00-4068-b7f7-d4411a8e3589",
   "metadata": {},
   "outputs": [],
   "source": [
    "class ForeverDataIterator:\n",
    "    r\"\"\"A data iterator that will never stop producing data\"\"\"\n",
    "\n",
    "    def __init__(self, data_loader: DataLoader, device=None):\n",
    "        self.data_loader = data_loader\n",
    "        self.iter = iter(self.data_loader)\n",
    "        self.device = device\n",
    "\n",
    "    def __next__(self):\n",
    "        try:\n",
    "            data = next(self.iter)\n",
    "            if self.device is not None:\n",
    "                data = send_to_device(data, self.device)\n",
    "        except StopIteration:\n",
    "            self.iter = iter(self.data_loader)\n",
    "            data = next(self.iter)\n",
    "            if self.device is not None:\n",
    "                data = send_to_device(data, self.device)\n",
    "        return data\n",
    "\n",
    "    def __len__(self):\n",
    "        return len(self.data_loader)\n",
    "\n",
    "\n",
    "class SAM(torch.optim.Optimizer):\n",
    "    def __init__(self, params, base_optimizer, rho=0.05, adaptive=False, **kwargs):\n",
    "        assert rho >= 0.0, f\"Invalid rho, should be non-negative: {rho}\"\n",
    "\n",
    "        defaults = dict(rho=rho, adaptive=adaptive, **kwargs)\n",
    "        super(SAM, self).__init__(params, defaults)\n",
    "\n",
    "        self.base_optimizer = base_optimizer(self.param_groups, **kwargs)\n",
    "        self.param_groups = self.base_optimizer.param_groups\n",
    "\n",
    "    @torch.no_grad()\n",
    "    def first_step(self, zero_grad=False):\n",
    "        grad_norm = self._grad_norm()\n",
    "        for group in self.param_groups:\n",
    "            scale = group[\"rho\"] / (grad_norm + 1e-12)\n",
    "\n",
    "            for p in group[\"params\"]:\n",
    "                if p.grad is None: continue\n",
    "                e_w = (torch.pow(p, 2) if group[\"adaptive\"] else 1.0) * p.grad * scale.to(p)\n",
    "                p.add_(e_w)  # climb to the local maximum \"w + e(w)\"\n",
    "                self.state[p][\"e_w\"] = e_w\n",
    "\n",
    "        if zero_grad: self.zero_grad()\n",
    "\n",
    "    @torch.no_grad()\n",
    "    def second_step(self, zero_grad=False):\n",
    "        for group in self.param_groups:\n",
    "            for p in group[\"params\"]:\n",
    "                if p.grad is None: continue\n",
    "                p.sub_(self.state[p][\"e_w\"])  # get back to \"w\" from \"w + e(w)\"\n",
    "\n",
    "        self.base_optimizer.step()  # do the actual \"sharpness-aware\" update\n",
    "\n",
    "        if zero_grad: self.zero_grad()\n",
    "\n",
    "    @torch.no_grad()\n",
    "    def step(self, closure=None):\n",
    "        assert closure is not None, \"Sharpness Aware Minimization requires closure, but it was not provided\"\n",
    "        closure = torch.enable_grad()(closure)  # the closure should do a full forward-backward pass\n",
    "\n",
    "        self.first_step(zero_grad=True)\n",
    "        closure()\n",
    "        self.second_step()\n",
    "\n",
    "    def _grad_norm(self):\n",
    "        shared_device = self.param_groups[0][\"params\"][0].device  # put everything on the same device, in case of model parallelism\n",
    "        norm = torch.norm(\n",
    "                    torch.stack([\n",
    "                        ((torch.abs(p) if group[\"adaptive\"] else 1.0) * p.grad).norm(p=2).to(shared_device)\n",
    "                        for group in self.param_groups for p in group[\"params\"]\n",
    "                        if p.grad is not None\n",
    "                    ]),\n",
    "                    p=2\n",
    "               )\n",
    "        return norm\n",
    "\n",
    "\n",
    "class ConditionalDomainAdversarialLoss(nn.Module):\n",
    "    r\"\"\"The Conditional Domain Adversarial Loss used in `Conditional Adversarial Domain Adaptation (NIPS 2018) <https://arxiv.org/abs/1705.10667>`_\n",
    "\n",
    "    Conditional Domain adversarial loss measures the domain discrepancy through training a domain discriminator in a\n",
    "    conditional manner. Given domain discriminator :math:`D`, feature representation :math:`f` and\n",
    "    classifier predictions :math:`g`, the definition of CDAN loss is\n",
    "\n",
    "    .. math::\n",
    "        loss(\\mathcal{D}_s, \\mathcal{D}_t) &= \\mathbb{E}_{x_i^s \\sim \\mathcal{D}_s} \\text{log}[D(T(f_i^s, g_i^s))] \\\\\n",
    "        &+ \\mathbb{E}_{x_j^t \\sim \\mathcal{D}_t} \\text{log}[1-D(T(f_j^t, g_j^t))],\\\\\n",
    "\n",
    "    where :math:`T` is a :class:`MultiLinearMap`  or :class:`RandomizedMultiLinearMap` which convert two tensors to a single tensor.\n",
    "\n",
    "    Args:\n",
    "        domain_discriminator (torch.nn.Module): A domain discriminator object, which predicts the domains of\n",
    "          features. Its input shape is (N, F) and output shape is (N, 1)\n",
    "        entropy_conditioning (bool, optional): If True, use entropy-aware weight to reweight each training example.\n",
    "          Default: False\n",
    "        randomized (bool, optional): If True, use `randomized multi linear map`. Else, use `multi linear map`.\n",
    "          Default: False\n",
    "        num_classes (int, optional): Number of classes. Default: -1\n",
    "        features_dim (int, optional): Dimension of input features. Default: -1\n",
    "        randomized_dim (int, optional): Dimension of features after randomized. Default: 1024\n",
    "        reduction (str, optional): Specifies the reduction to apply to the output:\n",
    "          ``'none'`` | ``'mean'`` | ``'sum'``. ``'none'``: no reduction will be applied,\n",
    "          ``'mean'``: the sum of the output will be divided by the number of\n",
    "          elements in the output, ``'sum'``: the output will be summed. Default: ``'mean'``\n",
    "\n",
    "    .. note::\n",
    "        You need to provide `num_classes`, `features_dim` and `randomized_dim` **only when** `randomized`\n",
    "        is set True.\n",
    "\n",
    "    Inputs:\n",
    "        - g_s (tensor): unnormalized classifier predictions on source domain, :math:`g^s`\n",
    "        - f_s (tensor): feature representations on source domain, :math:`f^s`\n",
    "        - g_t (tensor): unnormalized classifier predictions on target domain, :math:`g^t`\n",
    "        - f_t (tensor): feature representations on target domain, :math:`f^t`\n",
    "\n",
    "    Shape:\n",
    "        - g_s, g_t: :math:`(minibatch, C)` where C means the number of classes.\n",
    "        - f_s, f_t: :math:`(minibatch, F)` where F means the dimension of input features.\n",
    "        - Output: scalar by default. If :attr:`reduction` is ``'none'``, then :math:`(minibatch, )`.\n",
    "\n",
    "    Examples::\n",
    "\n",
    "        >>> from dalib.modules.domain_discriminator import DomainDiscriminator\n",
    "        >>> from dalib.adaptation.cdan import ConditionalDomainAdversarialLoss\n",
    "        >>> import torch\n",
    "        >>> num_classes = 2\n",
    "        >>> feature_dim = 1024\n",
    "        >>> batch_size = 10\n",
    "        >>> discriminator = DomainDiscriminator(in_feature=feature_dim * num_classes, hidden_size=1024)\n",
    "        >>> loss = ConditionalDomainAdversarialLoss(discriminator, reduction='mean')\n",
    "        >>> # features from source domain and target domain\n",
    "        >>> f_s, f_t = torch.randn(batch_size, feature_dim), torch.randn(batch_size, feature_dim)\n",
    "        >>> # logits output from source domain adn target domain\n",
    "        >>> g_s, g_t = torch.randn(batch_size, num_classes), torch.randn(batch_size, num_classes)\n",
    "        >>> output = loss(g_s, f_s, g_t, f_t)\n",
    "    \"\"\"\n",
    "\n",
    "    def __init__(self, domain_discriminator: nn.Module, entropy_conditioning: Optional[bool] = False,\n",
    "                 randomized: Optional[bool] = False, num_classes: Optional[int] = -1,\n",
    "                 features_dim: Optional[int] = -1, randomized_dim: Optional[int] = 1024,\n",
    "                 reduction: Optional[str] = 'mean'):\n",
    "        super(ConditionalDomainAdversarialLoss, self).__init__()\n",
    "        self.domain_discriminator = domain_discriminator\n",
    "        self.grl = WarmStartGradientReverseLayer(alpha=1., lo=0., hi=1., max_iters=1000, auto_step=True)\n",
    "        self.entropy_conditioning = entropy_conditioning\n",
    "\n",
    "        if randomized:\n",
    "            assert num_classes > 0 and features_dim > 0 and randomized_dim > 0\n",
    "            self.map = RandomizedMultiLinearMap(features_dim, num_classes, randomized_dim)\n",
    "        else:\n",
    "            self.map = MultiLinearMap()\n",
    "\n",
    "        self.bce = lambda input, target, weight: F.binary_cross_entropy(input, target, weight,\n",
    "                                                                        reduction=reduction) if self.entropy_conditioning \\\n",
    "            else F.binary_cross_entropy(input, target, reduction=reduction)\n",
    "        self.domain_discriminator_accuracy = None\n",
    "\n",
    "    def forward(self, g_s: torch.Tensor, f_s: torch.Tensor, g_t: torch.Tensor, f_t: torch.Tensor) -> torch.Tensor:\n",
    "        f = torch.cat((f_s, f_t), dim=0)\n",
    "        g = torch.cat((g_s, g_t), dim=0)\n",
    "        g = F.softmax(g, dim=1).detach()\n",
    "        h = self.grl(self.map(f, g))\n",
    "        d = self.domain_discriminator(h)\n",
    "        d_label = torch.cat((\n",
    "            torch.ones((g_s.size(0), 1)).to(g_s.device),\n",
    "            torch.zeros((g_t.size(0), 1)).to(g_t.device),\n",
    "        ))\n",
    "        weight = 1.0 + torch.exp(-entropy(g))\n",
    "        batch_size = f.size(0)\n",
    "        weight = weight / torch.sum(weight) * batch_size\n",
    "        return self.bce(d, d_label, weight.view_as(d))\n",
    "\n",
    "\n",
    "class RandomizedMultiLinearMap(nn.Module):\n",
    "    \"\"\"Random multi linear map\n",
    "\n",
    "    Given two inputs :math:`f` and :math:`g`, the definition is\n",
    "\n",
    "    .. math::\n",
    "        T_{\\odot}(f,g) = \\dfrac{1}{\\sqrt{d}} (R_f f) \\odot (R_g g),\n",
    "\n",
    "    where :math:`\\odot` is element-wise product, :math:`R_f` and :math:`R_g` are random matrices\n",
    "    sampled only once and ﬁxed in training.\n",
    "\n",
    "    Args:\n",
    "        features_dim (int): dimension of input :math:`f`\n",
    "        num_classes (int): dimension of input :math:`g`\n",
    "        output_dim (int, optional): dimension of output tensor. Default: 1024\n",
    "\n",
    "    Shape:\n",
    "        - f: (minibatch, features_dim)\n",
    "        - g: (minibatch, num_classes)\n",
    "        - Outputs: (minibatch, output_dim)\n",
    "    \"\"\"\n",
    "\n",
    "    def __init__(self, features_dim: int, num_classes: int, output_dim: Optional[int] = 1024):\n",
    "        super(RandomizedMultiLinearMap, self).__init__()\n",
    "        self.Rf = torch.randn(features_dim, output_dim)\n",
    "        self.Rg = torch.randn(num_classes, output_dim)\n",
    "        self.output_dim = output_dim\n",
    "\n",
    "    def forward(self, f: torch.Tensor, g: torch.Tensor) -> torch.Tensor:\n",
    "        f = torch.mm(f, self.Rf.to(f.device))\n",
    "        g = torch.mm(g, self.Rg.to(g.device))\n",
    "        output = torch.mul(f, g) / np.sqrt(float(self.output_dim))\n",
    "        return output\n",
    "\n",
    "\n",
    "class MultiLinearMap(nn.Module):\n",
    "    \"\"\"Multi linear map\n",
    "\n",
    "    Shape:\n",
    "        - f: (minibatch, F)\n",
    "        - g: (minibatch, C)\n",
    "        - Outputs: (minibatch, F * C)\n",
    "    \"\"\"\n",
    "\n",
    "    def __init__(self):\n",
    "        super(MultiLinearMap, self).__init__()\n",
    "\n",
    "    def forward(self, f: torch.Tensor, g: torch.Tensor) -> torch.Tensor:\n",
    "        batch_size = f.size(0)\n",
    "        output = torch.bmm(g.unsqueeze(2), f.unsqueeze(1))\n",
    "        return output.view(batch_size, -1)\n",
    "\n",
    "\n",
    "from typing import Optional, Any, Tuple\n",
    "import numpy as np\n",
    "import torch.nn as nn\n",
    "from torch.autograd import Function\n",
    "import torch\n",
    "\n",
    "\n",
    "class GradientReverseFunction(Function):\n",
    "\n",
    "    @staticmethod\n",
    "    def forward(ctx: Any, input: torch.Tensor, coeff: Optional[float] = 1.) -> torch.Tensor:\n",
    "        ctx.coeff = coeff\n",
    "        output = input * 1.0\n",
    "        return output\n",
    "\n",
    "    @staticmethod\n",
    "    def backward(ctx: Any, grad_output: torch.Tensor) -> Tuple[torch.Tensor, Any]:\n",
    "        return grad_output.neg() * ctx.coeff, None\n",
    "\n",
    "\n",
    "class GradientReverseLayer(nn.Module):\n",
    "    def __init__(self):\n",
    "        super(GradientReverseLayer, self).__init__()\n",
    "\n",
    "    def forward(self, *input):\n",
    "        return GradientReverseFunction.apply(*input)\n",
    "\n",
    "\n",
    "class WarmStartGradientReverseLayer(nn.Module):\n",
    "    \"\"\"Gradient Reverse Layer :math:`\\mathcal{R}(x)` with warm start\n",
    "\n",
    "        The forward and backward behaviours are:\n",
    "\n",
    "        .. math::\n",
    "            \\mathcal{R}(x) = x,\n",
    "\n",
    "            \\dfrac{ d\\mathcal{R}} {dx} = - \\lambda I.\n",
    "\n",
    "        :math:`\\lambda` is initiated at :math:`lo` and is gradually changed to :math:`hi` using the following schedule:\n",
    "\n",
    "        .. math::\n",
    "            \\lambda = \\dfrac{2(hi-lo)}{1+\\exp(- α \\dfrac{i}{N})} - (hi-lo) + lo\n",
    "\n",
    "        where :math:`i` is the iteration step.\n",
    "\n",
    "        Args:\n",
    "            alpha (float, optional): :math:`α`. Default: 1.0\n",
    "            lo (float, optional): Initial value of :math:`\\lambda`. Default: 0.0\n",
    "            hi (float, optional): Final value of :math:`\\lambda`. Default: 1.0\n",
    "            max_iters (int, optional): :math:`N`. Default: 1000\n",
    "            auto_step (bool, optional): If True, increase :math:`i` each time `forward` is called.\n",
    "              Otherwise use function `step` to increase :math:`i`. Default: False\n",
    "        \"\"\"\n",
    "\n",
    "    def __init__(self, alpha: Optional[float] = 1.0, lo: Optional[float] = 0.0, hi: Optional[float] = 1.,\n",
    "                 max_iters: Optional[int] = 1000., auto_step: Optional[bool] = False):\n",
    "        super(WarmStartGradientReverseLayer, self).__init__()\n",
    "        self.alpha = alpha\n",
    "        self.lo = lo\n",
    "        self.hi = hi\n",
    "        self.iter_num = 0\n",
    "        self.max_iters = max_iters\n",
    "        self.auto_step = auto_step\n",
    "\n",
    "    def forward(self, input: torch.Tensor) -> torch.Tensor:\n",
    "        \"\"\"\"\"\"\n",
    "        coeff = float(\n",
    "            2.0 * (self.hi - self.lo) / (1.0 + np.exp(-self.alpha * self.iter_num / self.max_iters))\n",
    "            - (self.hi - self.lo) + self.lo\n",
    "        )\n",
    "        if self.auto_step:\n",
    "            self.step()\n",
    "        return GradientReverseFunction.apply(input, coeff)\n",
    "\n",
    "    def step(self):\n",
    "        \"\"\"Increase iteration number :math:`i` by 1\"\"\"\n",
    "        self.iter_num += 1"
   ]
  },
  {
   "cell_type": "markdown",
   "id": "12f22985-b074-4a19-8adc-05d9422fa222",
   "metadata": {},
   "source": [
    "# Model"
   ]
  },
  {
   "cell_type": "code",
   "execution_count": 3,
   "id": "4e405595-ff29-40dc-b476-81f62c7cdced",
   "metadata": {},
   "outputs": [],
   "source": [
    "class GraphAttentionLayer(nn.Module):\n",
    "    def __init__(self, in_dim, out_dim, **kwargs):\n",
    "        super().__init__()\n",
    "\n",
    "        # attention map\n",
    "        self.att_proj = nn.Linear(in_dim, out_dim)\n",
    "        self.att_weight = self._init_new_params(out_dim, 1)\n",
    "\n",
    "        # project\n",
    "        self.proj_with_att = nn.Linear(in_dim, out_dim)\n",
    "        self.proj_without_att = nn.Linear(in_dim, out_dim)\n",
    "\n",
    "        # batch norm\n",
    "        self.bn = nn.BatchNorm1d(out_dim)\n",
    "\n",
    "        # dropout for inputs\n",
    "        self.input_drop = nn.Dropout(p=0.2)\n",
    "\n",
    "        # activate\n",
    "        self.act = nn.SELU(inplace=True)\n",
    "\n",
    "        # temperature\n",
    "        self.temp = 1.\n",
    "        if \"temperature\" in kwargs:\n",
    "            self.temp = kwargs[\"temperature\"]\n",
    "\n",
    "    def forward(self, x):\n",
    "        '''\n",
    "        x   :(#bs, #node, #dim)\n",
    "        '''\n",
    "        # apply input dropout\n",
    "        x = self.input_drop(x)\n",
    "\n",
    "        # derive attention map\n",
    "        att_map = self._derive_att_map(x)\n",
    "\n",
    "        # projection\n",
    "        x = self._project(x, att_map)\n",
    "\n",
    "        # apply batch norm\n",
    "        x = self._apply_BN(x)\n",
    "        x = self.act(x)\n",
    "        return x\n",
    "\n",
    "    def _pairwise_mul_nodes(self, x):\n",
    "        '''\n",
    "        Calculates pairwise multiplication of nodes.\n",
    "        - for attention map\n",
    "        x           :(#bs, #node, #dim)\n",
    "        out_shape   :(#bs, #node, #node, #dim)\n",
    "        '''\n",
    "\n",
    "        nb_nodes = x.size(1)\n",
    "        x = x.unsqueeze(2).expand(-1, -1, nb_nodes, -1)\n",
    "        x_mirror = x.transpose(1, 2)\n",
    "\n",
    "        return x * x_mirror\n",
    "\n",
    "    def _derive_att_map(self, x):\n",
    "        '''\n",
    "        x           :(#bs, #node, #dim)\n",
    "        out_shape   :(#bs, #node, #node, 1)\n",
    "        '''\n",
    "        att_map = self._pairwise_mul_nodes(x)\n",
    "        # size: (#bs, #node, #node, #dim_out)\n",
    "        att_map = torch.tanh(self.att_proj(att_map))\n",
    "        # size: (#bs, #node, #node, 1)\n",
    "        att_map = torch.matmul(att_map, self.att_weight)\n",
    "\n",
    "        # apply temperature\n",
    "        att_map = att_map / self.temp\n",
    "\n",
    "        att_map = F.softmax(att_map, dim=-2)\n",
    "\n",
    "        return att_map\n",
    "\n",
    "    def _project(self, x, att_map):\n",
    "        x1 = self.proj_with_att(torch.matmul(att_map.squeeze(-1), x))\n",
    "        x2 = self.proj_without_att(x)\n",
    "\n",
    "        return x1 + x2\n",
    "\n",
    "    def _apply_BN(self, x):\n",
    "        org_size = x.size()\n",
    "        x = x.view(-1, org_size[-1])\n",
    "        x = self.bn(x)\n",
    "        x = x.view(org_size)\n",
    "\n",
    "        return x\n",
    "\n",
    "    def _init_new_params(self, *size):\n",
    "        out = nn.Parameter(torch.FloatTensor(*size))\n",
    "        nn.init.xavier_normal_(out)\n",
    "        return out\n",
    "\n",
    "\n",
    "class HtrgGraphAttentionLayer(nn.Module):\n",
    "    def __init__(self, in_dim, out_dim, **kwargs):\n",
    "        super().__init__()\n",
    "\n",
    "        self.proj_type1 = nn.Linear(in_dim, in_dim)\n",
    "        self.proj_type2 = nn.Linear(in_dim, in_dim)\n",
    "\n",
    "        # attention map\n",
    "        self.att_proj = nn.Linear(in_dim, out_dim)\n",
    "        self.att_projM = nn.Linear(in_dim, out_dim)\n",
    "\n",
    "        self.att_weight11 = self._init_new_params(out_dim, 1)\n",
    "        self.att_weight22 = self._init_new_params(out_dim, 1)\n",
    "        self.att_weight12 = self._init_new_params(out_dim, 1)\n",
    "        self.att_weightM = self._init_new_params(out_dim, 1)\n",
    "\n",
    "        # project\n",
    "        self.proj_with_att = nn.Linear(in_dim, out_dim)\n",
    "        self.proj_without_att = nn.Linear(in_dim, out_dim)\n",
    "\n",
    "        self.proj_with_attM = nn.Linear(in_dim, out_dim)\n",
    "        self.proj_without_attM = nn.Linear(in_dim, out_dim)\n",
    "\n",
    "        # batch norm\n",
    "        self.bn = nn.BatchNorm1d(out_dim)\n",
    "\n",
    "        # dropout for inputs\n",
    "        self.input_drop = nn.Dropout(p=0.2)\n",
    "\n",
    "        # activate\n",
    "        self.act = nn.SELU(inplace=True)\n",
    "\n",
    "        # temperature\n",
    "        self.temp = 1.\n",
    "        if \"temperature\" in kwargs:\n",
    "            self.temp = kwargs[\"temperature\"]\n",
    "\n",
    "    def forward(self, x1, x2, master=None):\n",
    "        '''\n",
    "        x1  :(#bs, #node, #dim)\n",
    "        x2  :(#bs, #node, #dim)\n",
    "        '''\n",
    "        num_type1 = x1.size(1)\n",
    "        num_type2 = x2.size(1)\n",
    "\n",
    "        x1 = self.proj_type1(x1)\n",
    "        x2 = self.proj_type2(x2)\n",
    "\n",
    "        x = torch.cat([x1, x2], dim=1)\n",
    "\n",
    "        if master is None:\n",
    "            master = torch.mean(x, dim=1, keepdim=True)\n",
    "\n",
    "        # apply input dropout\n",
    "        x = self.input_drop(x)\n",
    "\n",
    "        # derive attention map\n",
    "        att_map = self._derive_att_map(x, num_type1, num_type2)\n",
    "\n",
    "        # directional edge for master node\n",
    "        master = self._update_master(x, master)\n",
    "\n",
    "        # projection\n",
    "        x = self._project(x, att_map)\n",
    "\n",
    "        # apply batch norm\n",
    "        x = self._apply_BN(x)\n",
    "        x = self.act(x)\n",
    "\n",
    "        x1 = x.narrow(1, 0, num_type1)\n",
    "        x2 = x.narrow(1, num_type1, num_type2)\n",
    "\n",
    "        return x1, x2, master\n",
    "\n",
    "    def _update_master(self, x, master):\n",
    "\n",
    "        att_map = self._derive_att_map_master(x, master)\n",
    "        master = self._project_master(x, master, att_map)\n",
    "\n",
    "        return master\n",
    "\n",
    "    def _pairwise_mul_nodes(self, x):\n",
    "        '''\n",
    "        Calculates pairwise multiplication of nodes.\n",
    "        - for attention map\n",
    "        x           :(#bs, #node, #dim)\n",
    "        out_shape   :(#bs, #node, #node, #dim)\n",
    "        '''\n",
    "\n",
    "        nb_nodes = x.size(1)\n",
    "        x = x.unsqueeze(2).expand(-1, -1, nb_nodes, -1)\n",
    "        x_mirror = x.transpose(1, 2)\n",
    "\n",
    "        return x * x_mirror\n",
    "\n",
    "    def _derive_att_map_master(self, x, master):\n",
    "        '''\n",
    "        x           :(#bs, #node, #dim)\n",
    "        out_shape   :(#bs, #node, #node, 1)\n",
    "        '''\n",
    "        att_map = x * master\n",
    "        att_map = torch.tanh(self.att_projM(att_map))\n",
    "\n",
    "        att_map = torch.matmul(att_map, self.att_weightM)\n",
    "\n",
    "        # apply temperature\n",
    "        att_map = att_map / self.temp\n",
    "\n",
    "        att_map = F.softmax(att_map, dim=-2)\n",
    "\n",
    "        return att_map\n",
    "\n",
    "    def _derive_att_map(self, x, num_type1, num_type2):\n",
    "        '''\n",
    "        x           :(#bs, #node, #dim)\n",
    "        out_shape   :(#bs, #node, #node, 1)\n",
    "        '''\n",
    "        att_map = self._pairwise_mul_nodes(x)\n",
    "        # size: (#bs, #node, #node, #dim_out)\n",
    "        att_map = torch.tanh(self.att_proj(att_map))\n",
    "        # size: (#bs, #node, #node, 1)\n",
    "\n",
    "        att_board = torch.zeros_like(att_map[:, :, :, 0]).unsqueeze(-1)\n",
    "\n",
    "        att_board[:, :num_type1, :num_type1, :] = torch.matmul(\n",
    "            att_map[:, :num_type1, :num_type1, :], self.att_weight11)\n",
    "        att_board[:, num_type1:, num_type1:, :] = torch.matmul(\n",
    "            att_map[:, num_type1:, num_type1:, :], self.att_weight22)\n",
    "        att_board[:, :num_type1, num_type1:, :] = torch.matmul(\n",
    "            att_map[:, :num_type1, num_type1:, :], self.att_weight12)\n",
    "        att_board[:, num_type1:, :num_type1, :] = torch.matmul(\n",
    "            att_map[:, num_type1:, :num_type1, :], self.att_weight12)\n",
    "\n",
    "        att_map = att_board\n",
    "\n",
    "        # att_map = torch.matmul(att_map, self.att_weight12)\n",
    "\n",
    "        # apply temperature\n",
    "        att_map = att_map / self.temp\n",
    "\n",
    "        att_map = F.softmax(att_map, dim=-2)\n",
    "\n",
    "        return att_map\n",
    "\n",
    "    def _project(self, x, att_map):\n",
    "        x1 = self.proj_with_att(torch.matmul(att_map.squeeze(-1), x))\n",
    "        x2 = self.proj_without_att(x)\n",
    "\n",
    "        return x1 + x2\n",
    "\n",
    "    def _project_master(self, x, master, att_map):\n",
    "\n",
    "        x1 = self.proj_with_attM(torch.matmul(\n",
    "            att_map.squeeze(-1).unsqueeze(1), x))\n",
    "        x2 = self.proj_without_attM(master)\n",
    "\n",
    "        return x1 + x2\n",
    "\n",
    "    def _apply_BN(self, x):\n",
    "        org_size = x.size()\n",
    "        x = x.view(-1, org_size[-1])\n",
    "        x = self.bn(x)\n",
    "        x = x.view(org_size)\n",
    "\n",
    "        return x\n",
    "\n",
    "    def _init_new_params(self, *size):\n",
    "        out = nn.Parameter(torch.FloatTensor(*size))\n",
    "        nn.init.xavier_normal_(out)\n",
    "        return out\n",
    "\n",
    "\n",
    "class GraphPool(nn.Module):\n",
    "    def __init__(self, k: float, in_dim: int, p: Union[float, int]):\n",
    "        super().__init__()\n",
    "        self.k = k\n",
    "        self.sigmoid = nn.Sigmoid()\n",
    "        self.proj = nn.Linear(in_dim, 1)\n",
    "        self.drop = nn.Dropout(p=p) if p > 0 else nn.Identity()\n",
    "        self.in_dim = in_dim\n",
    "\n",
    "    def forward(self, h):\n",
    "        Z = self.drop(h)\n",
    "        weights = self.proj(Z)\n",
    "        scores = self.sigmoid(weights)\n",
    "        new_h = self.top_k_graph(scores, h, self.k)\n",
    "\n",
    "        return new_h\n",
    "\n",
    "    def top_k_graph(self, scores, h, k):\n",
    "        \"\"\"\n",
    "        args\n",
    "        =====\n",
    "        scores: attention-based weights (#bs, #node, 1)\n",
    "        h: graph data (#bs, #node, #dim)\n",
    "        k: ratio of remaining nodes, (float)\n",
    "\n",
    "        returns\n",
    "        =====\n",
    "        h: graph pool applied data (#bs, #node', #dim)\n",
    "        \"\"\"\n",
    "        _, n_nodes, n_feat = h.size()\n",
    "        n_nodes = max(int(n_nodes * k), 1)\n",
    "        _, idx = torch.topk(scores, n_nodes, dim=1)\n",
    "        idx = idx.expand(-1, -1, n_feat)\n",
    "\n",
    "        h = h * scores\n",
    "        h = torch.gather(h, 1, idx)\n",
    "\n",
    "        return h\n",
    "\n",
    "\n",
    "class CONV(nn.Module):\n",
    "    @staticmethod\n",
    "    def to_mel(hz):\n",
    "        return 2595 * np.log10(1 + hz / 700)\n",
    "\n",
    "    @staticmethod\n",
    "    def to_hz(mel):\n",
    "        return 700 * (10**(mel / 2595) - 1)\n",
    "\n",
    "    def __init__(self,\n",
    "                 out_channels,\n",
    "                 kernel_size,\n",
    "                 sample_rate=16000,\n",
    "                 in_channels=1,\n",
    "                 stride=1,\n",
    "                 padding=0,\n",
    "                 dilation=1,\n",
    "                 bias=False,\n",
    "                 groups=1,\n",
    "                 mask=False):\n",
    "        super().__init__()\n",
    "        if in_channels != 1:\n",
    "\n",
    "            msg = \"SincConv only support one input channel (here, in_channels = {%i})\" % (\n",
    "                in_channels)\n",
    "            raise ValueError(msg)\n",
    "        self.out_channels = out_channels\n",
    "        self.kernel_size = kernel_size\n",
    "        self.sample_rate = sample_rate\n",
    "\n",
    "        # Forcing the filters to be odd (i.e, perfectly symmetrics)\n",
    "        if kernel_size % 2 == 0:\n",
    "            self.kernel_size = self.kernel_size + 1\n",
    "        self.stride = stride\n",
    "        self.padding = padding\n",
    "        self.dilation = dilation\n",
    "        self.mask = mask\n",
    "        if bias:\n",
    "            raise ValueError('SincConv does not support bias.')\n",
    "        if groups > 1:\n",
    "            raise ValueError('SincConv does not support groups.')\n",
    "\n",
    "        NFFT = 512\n",
    "        f = int(self.sample_rate / 2) * np.linspace(0, 1, int(NFFT / 2) + 1)\n",
    "        fmel = self.to_mel(f)\n",
    "        fmelmax = np.max(fmel)\n",
    "        fmelmin = np.min(fmel)\n",
    "        filbandwidthsmel = np.linspace(fmelmin, fmelmax, self.out_channels + 1)\n",
    "        filbandwidthsf = self.to_hz(filbandwidthsmel)\n",
    "\n",
    "        self.mel = filbandwidthsf\n",
    "        self.hsupp = torch.arange(-(self.kernel_size - 1) / 2,\n",
    "                                  (self.kernel_size - 1) / 2 + 1)\n",
    "        self.band_pass = torch.zeros(self.out_channels, self.kernel_size)\n",
    "        for i in range(len(self.mel) - 1):\n",
    "            fmin = self.mel[i]\n",
    "            fmax = self.mel[i + 1]\n",
    "            hHigh = (2*fmax/self.sample_rate) * \\\n",
    "                np.sinc(2*fmax*self.hsupp/self.sample_rate)\n",
    "            hLow = (2*fmin/self.sample_rate) * \\\n",
    "                np.sinc(2*fmin*self.hsupp/self.sample_rate)\n",
    "            hideal = hHigh - hLow\n",
    "\n",
    "            self.band_pass[i, :] = Tensor(np.hamming(\n",
    "                self.kernel_size)) * Tensor(hideal)\n",
    "\n",
    "    def forward(self, x, mask=False):\n",
    "        band_pass_filter = self.band_pass.clone().to(x.device)\n",
    "        if mask:\n",
    "            A = np.random.uniform(0, 20)\n",
    "            A = int(A)\n",
    "            A0 = random.randint(0, band_pass_filter.shape[0] - A)\n",
    "            band_pass_filter[A0:A0 + A, :] = 0\n",
    "        else:\n",
    "            band_pass_filter = band_pass_filter\n",
    "\n",
    "        self.filters = (band_pass_filter).view(self.out_channels, 1,\n",
    "                                               self.kernel_size)\n",
    "\n",
    "        return F.conv1d(x,\n",
    "                        self.filters,\n",
    "                        stride=self.stride,\n",
    "                        padding=self.padding,\n",
    "                        dilation=self.dilation,\n",
    "                        bias=None,\n",
    "                        groups=1)\n",
    "\n",
    "\n",
    "class Residual_block(nn.Module):\n",
    "    def __init__(self, nb_filts, first=False):\n",
    "        super().__init__()\n",
    "        self.first = first\n",
    "\n",
    "        if not self.first:\n",
    "            self.bn1 = nn.BatchNorm2d(num_features=nb_filts[0])\n",
    "        self.conv1 = nn.Conv2d(in_channels=nb_filts[0],\n",
    "                               out_channels=nb_filts[1],\n",
    "                               kernel_size=(2, 3),\n",
    "                               padding=(1, 1),\n",
    "                               stride=1)\n",
    "        self.selu = nn.SELU(inplace=True)\n",
    "\n",
    "        self.bn2 = nn.BatchNorm2d(num_features=nb_filts[1])\n",
    "        self.conv2 = nn.Conv2d(in_channels=nb_filts[1],\n",
    "                               out_channels=nb_filts[1],\n",
    "                               kernel_size=(2, 3),\n",
    "                               padding=(0, 1),\n",
    "                               stride=1)\n",
    "\n",
    "        if nb_filts[0] != nb_filts[1]:\n",
    "            self.downsample = True\n",
    "            self.conv_downsample = nn.Conv2d(in_channels=nb_filts[0],\n",
    "                                             out_channels=nb_filts[1],\n",
    "                                             padding=(0, 1),\n",
    "                                             kernel_size=(1, 3),\n",
    "                                             stride=1)\n",
    "\n",
    "        else:\n",
    "            self.downsample = False\n",
    "        self.mp = nn.MaxPool2d((1, 3))  # self.mp = nn.MaxPool2d((1,4))\n",
    "\n",
    "    def forward(self, x):\n",
    "        identity = x\n",
    "        if not self.first:\n",
    "            out = self.bn1(x)\n",
    "            out = self.selu(out)\n",
    "        else:\n",
    "            out = x\n",
    "        out = self.conv1(x)\n",
    "\n",
    "        # print('out',out.shape)\n",
    "        out = self.bn2(out)\n",
    "        out = self.selu(out)\n",
    "        # print('out',out.shape)\n",
    "        out = self.conv2(out)\n",
    "        #print('conv2 out',out.shape)\n",
    "        if self.downsample:\n",
    "            identity = self.conv_downsample(identity)\n",
    "\n",
    "        out += identity\n",
    "        out = self.mp(out)\n",
    "        return out\n",
    "\n",
    "\n",
    "class Model(nn.Module):\n",
    "    def __init__(self, d_args):\n",
    "        super().__init__()\n",
    "\n",
    "        self.d_args = d_args\n",
    "        filts = d_args[\"filts\"]\n",
    "        gat_dims = d_args[\"gat_dims\"]\n",
    "        pool_ratios = d_args[\"pool_ratios\"]\n",
    "        temperatures = d_args[\"temperatures\"]\n",
    "\n",
    "        self.conv_time = CONV(out_channels=filts[0],\n",
    "                              kernel_size=d_args[\"first_conv\"],\n",
    "                              in_channels=1)\n",
    "        self.first_bn = nn.BatchNorm2d(num_features=1)\n",
    "\n",
    "        self.drop = nn.Dropout(0.5, inplace=True)\n",
    "        self.drop_way = nn.Dropout(0.2, inplace=True)\n",
    "        self.selu = nn.SELU(inplace=True)\n",
    "\n",
    "        self.encoder = nn.Sequential(\n",
    "            nn.Sequential(Residual_block(nb_filts=filts[1], first=True)),\n",
    "            nn.Sequential(Residual_block(nb_filts=filts[2])),\n",
    "            nn.Sequential(Residual_block(nb_filts=filts[3])),\n",
    "            nn.Sequential(Residual_block(nb_filts=filts[4])),\n",
    "            nn.Sequential(Residual_block(nb_filts=filts[4])),\n",
    "            nn.Sequential(Residual_block(nb_filts=filts[4])))\n",
    "\n",
    "        self.pos_S = nn.Parameter(torch.randn(1, 23, filts[-1][-1]))\n",
    "        self.master1 = nn.Parameter(torch.randn(1, 1, gat_dims[0]))\n",
    "        self.master2 = nn.Parameter(torch.randn(1, 1, gat_dims[0]))\n",
    "\n",
    "        self.GAT_layer_S = GraphAttentionLayer(filts[-1][-1],\n",
    "                                               gat_dims[0],\n",
    "                                               temperature=temperatures[0])\n",
    "        self.GAT_layer_T = GraphAttentionLayer(filts[-1][-1],\n",
    "                                               gat_dims[0],\n",
    "                                               temperature=temperatures[1])\n",
    "\n",
    "        self.HtrgGAT_layer_ST11 = HtrgGraphAttentionLayer(\n",
    "            gat_dims[0], gat_dims[1], temperature=temperatures[2])\n",
    "        self.HtrgGAT_layer_ST12 = HtrgGraphAttentionLayer(\n",
    "            gat_dims[1], gat_dims[1], temperature=temperatures[2])\n",
    "\n",
    "        self.HtrgGAT_layer_ST21 = HtrgGraphAttentionLayer(\n",
    "            gat_dims[0], gat_dims[1], temperature=temperatures[2])\n",
    "\n",
    "        self.HtrgGAT_layer_ST22 = HtrgGraphAttentionLayer(\n",
    "            gat_dims[1], gat_dims[1], temperature=temperatures[2])\n",
    "\n",
    "        self.pool_S = GraphPool(pool_ratios[0], gat_dims[0], 0.3)\n",
    "        self.pool_T = GraphPool(pool_ratios[1], gat_dims[0], 0.3)\n",
    "        self.pool_hS1 = GraphPool(pool_ratios[2], gat_dims[1], 0.3)\n",
    "        self.pool_hT1 = GraphPool(pool_ratios[2], gat_dims[1], 0.3)\n",
    "\n",
    "        self.pool_hS2 = GraphPool(pool_ratios[2], gat_dims[1], 0.3)\n",
    "        self.pool_hT2 = GraphPool(pool_ratios[2], gat_dims[1], 0.3)\n",
    "\n",
    "        self.out_layer = nn.Linear(5 * gat_dims[1], 2)\n",
    "\n",
    "    def forward(self, x, Freq_aug=False):\n",
    "\n",
    "        x = x.unsqueeze(1)\n",
    "        x = self.conv_time(x, mask=Freq_aug)\n",
    "        x = x.unsqueeze(dim=1)\n",
    "        x = F.max_pool2d(torch.abs(x), (3, 3))\n",
    "        x = self.first_bn(x)\n",
    "        x = self.selu(x)\n",
    "\n",
    "        # get embeddings using encoder\n",
    "        # (#bs, #filt, #spec, #seq)\n",
    "        e = self.encoder(x)\n",
    "\n",
    "        # spectral GAT (GAT-S)\n",
    "        e_S, _ = torch.max(torch.abs(e), dim=3)  # max along time\n",
    "        e_S = e_S.transpose(1, 2) + self.pos_S\n",
    "\n",
    "        gat_S = self.GAT_layer_S(e_S)\n",
    "        out_S = self.pool_S(gat_S)  # (#bs, #node, #dim)\n",
    "\n",
    "        # temporal GAT (GAT-T)\n",
    "        e_T, _ = torch.max(torch.abs(e), dim=2)  # max along freq\n",
    "        e_T = e_T.transpose(1, 2)\n",
    "\n",
    "        gat_T = self.GAT_layer_T(e_T)\n",
    "        out_T = self.pool_T(gat_T)\n",
    "\n",
    "        # learnable master node\n",
    "        master1 = self.master1.expand(x.size(0), -1, -1)\n",
    "        master2 = self.master2.expand(x.size(0), -1, -1)\n",
    "\n",
    "        # inference 1\n",
    "        out_T1, out_S1, master1 = self.HtrgGAT_layer_ST11(\n",
    "            out_T, out_S, master=self.master1)\n",
    "\n",
    "        out_S1 = self.pool_hS1(out_S1)\n",
    "        out_T1 = self.pool_hT1(out_T1)\n",
    "\n",
    "        out_T_aug, out_S_aug, master_aug = self.HtrgGAT_layer_ST12(\n",
    "            out_T1, out_S1, master=master1)\n",
    "        out_T1 = out_T1 + out_T_aug\n",
    "        out_S1 = out_S1 + out_S_aug\n",
    "        master1 = master1 + master_aug\n",
    "\n",
    "        # inference 2\n",
    "        out_T2, out_S2, master2 = self.HtrgGAT_layer_ST21(\n",
    "            out_T, out_S, master=self.master2)\n",
    "        out_S2 = self.pool_hS2(out_S2)\n",
    "        out_T2 = self.pool_hT2(out_T2)\n",
    "\n",
    "        out_T_aug, out_S_aug, master_aug = self.HtrgGAT_layer_ST22(\n",
    "            out_T2, out_S2, master=master2)\n",
    "        out_T2 = out_T2 + out_T_aug\n",
    "        out_S2 = out_S2 + out_S_aug\n",
    "        master2 = master2 + master_aug\n",
    "\n",
    "        out_T1 = self.drop_way(out_T1)\n",
    "        out_T2 = self.drop_way(out_T2)\n",
    "        out_S1 = self.drop_way(out_S1)\n",
    "        out_S2 = self.drop_way(out_S2)\n",
    "        master1 = self.drop_way(master1)\n",
    "        master2 = self.drop_way(master2)\n",
    "\n",
    "        out_T = torch.max(out_T1, out_T2)\n",
    "        out_S = torch.max(out_S1, out_S2)\n",
    "        master = torch.max(master1, master2)\n",
    "\n",
    "        T_max, _ = torch.max(torch.abs(out_T), dim=1)\n",
    "        T_avg = torch.mean(out_T, dim=1)\n",
    "\n",
    "        S_max, _ = torch.max(torch.abs(out_S), dim=1)\n",
    "        S_avg = torch.mean(out_S, dim=1)\n",
    "\n",
    "        last_hidden = torch.cat(\n",
    "            [T_max, T_avg, S_max, S_avg, master.squeeze(1)], dim=1)\n",
    "\n",
    "        last_hidden = self.drop(last_hidden)\n",
    "        output = self.out_layer(last_hidden)\n",
    "\n",
    "        return output,last_hidden"
   ]
  },
  {
   "cell_type": "markdown",
   "id": "d553dbe4-1cdc-42e9-89da-992938bbad01",
   "metadata": {},
   "source": [
    "# RawBoost"
   ]
  },
  {
   "cell_type": "code",
   "execution_count": 4,
   "id": "722762a2-2d04-4e7e-b584-3c86e25aeb6c",
   "metadata": {},
   "outputs": [],
   "source": [
    "'''\n",
    "   Hemlata Tak, Madhu Kamble, Jose Patino, Massimiliano Todisco, Nicholas Evans.\n",
    "   RawBoost: A Raw Data Boosting and Augmentation Method applied to Automatic Speaker Verification Anti-Spoofing.\n",
    "   In Proc. ICASSP 2022, pp:6382--6386.\n",
    "'''\n",
    "\n",
    "def randRange(x1, x2, integer):\n",
    "    y = np.random.uniform(low=x1, high=x2, size=(1,))\n",
    "    if integer:\n",
    "        y = int(y)\n",
    "    return y\n",
    "\n",
    "def normWav(x,always):\n",
    "    if always:\n",
    "        x = x/np.amax(abs(x))\n",
    "    elif np.amax(abs(x)) > 1:\n",
    "            x = x/np.amax(abs(x))\n",
    "    return x\n",
    "\n",
    "\n",
    "def genNotchCoeffs(nBands,minF,maxF,minBW,maxBW,minCoeff,maxCoeff,minG,maxG,fs):\n",
    "    b = 1\n",
    "    for i in range(0, nBands):\n",
    "        fc = randRange(minF,maxF,0);\n",
    "        bw = randRange(minBW,maxBW,0);\n",
    "        c = randRange(minCoeff,maxCoeff,1);\n",
    "          \n",
    "        if c/2 == int(c/2):\n",
    "            c = c + 1\n",
    "        f1 = fc - bw/2\n",
    "        f2 = fc + bw/2\n",
    "        if f1 <= 0:\n",
    "            f1 = 1/1000\n",
    "        if f2 >= fs/2:\n",
    "            f2 =  fs/2-1/1000\n",
    "        b = np.convolve(signal.firwin(c, [float(f1), float(f2)], window='hamming', fs=fs),b)\n",
    "\n",
    "    G = randRange(minG,maxG,0); \n",
    "    _, h = signal.freqz(b, 1, fs=fs)    \n",
    "    b = pow(10, G/20)*b/np.amax(abs(h))   \n",
    "    return b\n",
    "\n",
    "\n",
    "def filterFIR(x,b):\n",
    "    N = b.shape[0] + 1\n",
    "    xpad = np.pad(x, (0, N), 'constant')\n",
    "    y = signal.lfilter(b, 1, xpad)\n",
    "    y = y[int(N/2):int(y.shape[0]-N/2)]\n",
    "    return y\n",
    "\n",
    "# Linear and non-linear convolutive noise\n",
    "def LnL_convolutive_noise(x,N_f,nBands,minF,maxF,minBW,maxBW,minCoeff,maxCoeff,minG,maxG,minBiasLinNonLin,maxBiasLinNonLin,fs):\n",
    "    y = [0] * x.shape[0]\n",
    "    for i in range(0, N_f):\n",
    "        if i == 1:\n",
    "            minG = minG-minBiasLinNonLin;\n",
    "            maxG = maxG-maxBiasLinNonLin;\n",
    "        b = genNotchCoeffs(nBands,minF,maxF,minBW,maxBW,minCoeff,maxCoeff,minG,maxG,fs)\n",
    "        y = y + filterFIR(np.power(x, (i+1)),  b)     \n",
    "    y = y - np.mean(y)\n",
    "    y = normWav(y,0)\n",
    "    return y\n",
    "\n",
    "\n",
    "# Impulsive signal dependent noise\n",
    "def ISD_additive_noise(x, P, g_sd):\n",
    "    beta = randRange(0, P, 0)\n",
    "    \n",
    "    y = copy.deepcopy(x)\n",
    "    x_len = x.shape[0]\n",
    "    n = int(x_len*(beta/100))\n",
    "    p = np.random.permutation(x_len)[:n]\n",
    "    f_r= np.multiply(((2*np.random.rand(p.shape[0]))-1),((2*np.random.rand(p.shape[0]))-1))\n",
    "    r = g_sd * x[p] * f_r\n",
    "    y[p] = x[p] + r\n",
    "    y = normWav(y,0)\n",
    "    return y\n",
    "\n",
    "\n",
    "# Stationary signal independent noise\n",
    "\n",
    "def SSI_additive_noise(x,SNRmin,SNRmax,nBands,minF,maxF,minBW,maxBW,minCoeff,maxCoeff,minG,maxG,fs):\n",
    "    noise = np.random.normal(0, 1, x.shape[0])\n",
    "    b = genNotchCoeffs(nBands,minF,maxF,minBW,maxBW,minCoeff,maxCoeff,minG,maxG,fs)\n",
    "    noise = filterFIR(noise, b)\n",
    "    noise = normWav(noise,1)\n",
    "    SNR = randRange(SNRmin, SNRmax, 0)\n",
    "    noise = noise / np.linalg.norm(noise,2) * np.linalg.norm(x,2) / 10.0**(0.05 * SNR)\n",
    "    x = x + noise\n",
    "    return x"
   ]
  },
  {
   "cell_type": "markdown",
   "id": "508da7ad-b12f-4d68-bf45-aafb6f5f3a5f",
   "metadata": {},
   "source": [
    "# Data Utils"
   ]
  },
  {
   "cell_type": "code",
   "execution_count": 5,
   "id": "e271b211-6947-4b30-ae59-c92660e2e57b",
   "metadata": {},
   "outputs": [],
   "source": [
    "def pad(x, max_len=80000):\n",
    "    x_len = x.shape[0]\n",
    "    if x_len >= max_len:\n",
    "        return x[:max_len]\n",
    "    # need to pad\n",
    "    num_repeats = int(max_len / x_len)+1\n",
    "    padded_x = np.tile(x, (1, num_repeats))[:, :max_len][0]\n",
    "    return padded_x\t\n",
    "\n",
    "class Dataset_ASVspoof_train(Dataset):\n",
    "    def __init__(self,args,list_IDs, labels,algo):\n",
    "            '''self.list_IDs\t: list of strings (each string: utt key),\n",
    "               self.labels      : dictionary (key: utt key, value: label integer)'''\n",
    "            self.list_IDs = list_IDs\n",
    "            self.labels = labels\n",
    "            self.algo=algo\n",
    "            self.args=args\n",
    "            self.cut=80000 # take ~4 sec audio (64600 samples)\n",
    "    def get_labels(self):\n",
    "            return self.labels\n",
    "        \n",
    "    def __len__(self):\n",
    "            return len(self.list_IDs)\n",
    "\n",
    "    def __getitem__(self, index):\n",
    "            X,fs = librosa.load('./train16000/'+self.list_IDs[index]+'.wav', sr=16000)\n",
    "\n",
    "            Y1= pad(X,self.cut)\n",
    "            tmp = np.random.randint(0, len(self.list_IDs))\n",
    "            X,fs = librosa.load('./train16000/'+self.list_IDs[tmp]+'.wav', sr=16000)\n",
    "            Y2= pad(X,self.cut)\n",
    "            Y1 = process_Rawboost_feature(Y1 + Y2,fs,self.args,self.algo)     \n",
    "            return Tensor(Y1), Tensor([(self.labels[index] and self.labels[tmp])^1,self.labels[index] or self.labels[tmp]])\n",
    "\n",
    "\n",
    "\n",
    "class Dataset_ASVspoof_dev(Dataset):\n",
    "    def __init__(self, list_IDs,args,algo):\n",
    "            '''self.list_IDs\t: list of strings (each string: utt key),\n",
    "               '''\n",
    "            self.args = args\n",
    "            self.algo = algo\n",
    "            self.list_IDs = list_IDs\n",
    "            self.cut=80000 # take ~4 sec audio (64600 samples)\n",
    "    \n",
    "    def __len__(self):\n",
    "            return len(self.list_IDs)\n",
    "        \n",
    "    def __getitem__(self, index):\n",
    "            utt_id = self.list_IDs[index]\n",
    "            X, fs = librosa.load('./unlabeled_data16000/'+utt_id+'.wav', sr=16000)\n",
    "            Y=process_Rawboost_feature(X,fs,self.args,self.algo)\n",
    "            X_pad = pad(Y,self.cut)\n",
    "            x_inp = Tensor(X_pad)\n",
    "            return x_inp\n",
    "        \n",
    "\n",
    "class Dataset_ASVspoof_eval(Dataset):\n",
    "    def __init__(self, list_IDs):\n",
    "            '''self.list_IDs\t: list of strings (each string: utt key),\n",
    "               '''\n",
    "               \n",
    "            self.list_IDs = list_IDs\n",
    "            self.cut=80000 # take ~4 sec audio (64600 samples)\n",
    "    \n",
    "    def __len__(self):\n",
    "            return len(self.list_IDs)\n",
    "        \n",
    "    def __getitem__(self, index):\n",
    "            utt_id = self.list_IDs[index]\n",
    "            X, fs = librosa.load('./test16000/'+utt_id+'.wav', sr=16000)\n",
    "            X_pad = pad(X,self.cut)\n",
    "            x_inp = Tensor(X_pad)\n",
    "            return x_inp\n",
    "\n",
    "#--------------RawBoost data augmentation algorithms---------------------------##\n",
    "\n",
    "def process_Rawboost_feature(feature, sr,args,algo):\n",
    "    \n",
    "    # Data process by Convolutive noise (1st algo)\n",
    "    if algo==1:\n",
    "\n",
    "        feature =LnL_convolutive_noise(feature,args.N_f,args.nBands,args.minF,args.maxF,args.minBW,args.maxBW,args.minCoeff,args.maxCoeff,args.minG,args.maxG,args.minBiasLinNonLin,args.maxBiasLinNonLin,sr)\n",
    "                            \n",
    "    # Data process by Impulsive noise (2nd algo)\n",
    "    elif algo==2:\n",
    "        \n",
    "        feature=ISD_additive_noise(feature, args.P, args.g_sd)\n",
    "                            \n",
    "    # Data process by coloured additive noise (3rd algo)\n",
    "    elif algo==3:\n",
    "        \n",
    "        feature=SSI_additive_noise(feature,args.SNRmin,args.SNRmax,args.nBands,args.minF,args.maxF,args.minBW,args.maxBW,args.minCoeff,args.maxCoeff,args.minG,args.maxG,sr)\n",
    "    \n",
    "    # Data process by all 3 algo. together in series (1+2+3)\n",
    "    elif algo==4:\n",
    "        \n",
    "        feature =LnL_convolutive_noise(feature,args.N_f,args.nBands,args.minF,args.maxF,args.minBW,args.maxBW,\n",
    "                 args.minCoeff,args.maxCoeff,args.minG,args.maxG,args.minBiasLinNonLin,args.maxBiasLinNonLin,sr)                         \n",
    "        feature=ISD_additive_noise(feature, args.P, args.g_sd)  \n",
    "        feature=SSI_additive_noise(feature,args.SNRmin,args.SNRmax,args.nBands,args.minF,\n",
    "                args.maxF,args.minBW,args.maxBW,args.minCoeff,args.maxCoeff,args.minG,args.maxG,sr)                 \n",
    "\n",
    "    # Data process by 1st two algo. together in series (1+2)\n",
    "    elif algo==5:\n",
    "        \n",
    "        feature =LnL_convolutive_noise(feature,args.N_f,args.nBands,args.minF,args.maxF,args.minBW,args.maxBW,\n",
    "                 args.minCoeff,args.maxCoeff,args.minG,args.maxG,args.minBiasLinNonLin,args.maxBiasLinNonLin,sr)                         \n",
    "        feature=ISD_additive_noise(feature, args.P, args.g_sd)                \n",
    "                            \n",
    "\n",
    "    # Data process by 1st and 3rd algo. together in series (1+3)\n",
    "    elif algo==6:  \n",
    "        \n",
    "        feature =LnL_convolutive_noise(feature,args.N_f,args.nBands,args.minF,args.maxF,args.minBW,args.maxBW,\n",
    "                 args.minCoeff,args.maxCoeff,args.minG,args.maxG,args.minBiasLinNonLin,args.maxBiasLinNonLin,sr)                         \n",
    "        feature=SSI_additive_noise(feature,args.SNRmin,args.SNRmax,args.nBands,args.minF,args.maxF,args.minBW,args.maxBW,args.minCoeff,args.maxCoeff,args.minG,args.maxG,sr) \n",
    "\n",
    "    # Data process by 2nd and 3rd algo. together in series (2+3)\n",
    "    elif algo==7: \n",
    "        \n",
    "        feature=ISD_additive_noise(feature, args.P, args.g_sd)\n",
    "        feature=SSI_additive_noise(feature,args.SNRmin,args.SNRmax,args.nBands,args.minF,args.maxF,args.minBW,args.maxBW,args.minCoeff,args.maxCoeff,args.minG,args.maxG,sr) \n",
    "   \n",
    "    # Data process by 1st two algo. together in Parallel (1||2)\n",
    "    elif algo==8:\n",
    "        \n",
    "        feature1 =LnL_convolutive_noise(feature,args.N_f,args.nBands,args.minF,args.maxF,args.minBW,args.maxBW,\n",
    "                 args.minCoeff,args.maxCoeff,args.minG,args.maxG,args.minBiasLinNonLin,args.maxBiasLinNonLin,sr)                         \n",
    "        feature2=ISD_additive_noise(feature, args.P, args.g_sd)\n",
    "\n",
    "        feature_para=feature1+feature2\n",
    "        feature=normWav(feature_para,0)  #normalized resultant waveform\n",
    " \n",
    "    # original data without Rawboost processing           \n",
    "    else:\n",
    "        \n",
    "        feature=feature\n",
    "    \n",
    "    return feature"
   ]
  },
  {
   "cell_type": "code",
   "execution_count": 6,
   "id": "51f91053-6df5-427c-af97-f936a89cffcc",
   "metadata": {},
   "outputs": [],
   "source": [
    "import itertools\n",
    "import random\n",
    "import numpy as np\n",
    "\n",
    "import torch\n",
    "from torch.utils.data import Sampler\n",
    "from torch.utils.data import DataLoader, Dataset\n",
    "from typing import TypeVar, Iterable, Dict, List\n",
    "\n",
    "T_co = TypeVar('T_co', covariant=True)\n",
    "T = TypeVar('T')\n",
    "\n",
    "\n",
    "def send_to_device(tensor, device):\n",
    "    \"\"\"\n",
    "    Recursively sends the elements in a nested list/tuple/dictionary of tensors to a given device.\n",
    "\n",
    "    Args:\n",
    "        tensor (nested list/tuple/dictionary of :obj:`torch.Tensor`):\n",
    "            The data to send to a given device.\n",
    "        device (:obj:`torch.device`):\n",
    "            The device to send the data to\n",
    "\n",
    "    Returns:\n",
    "        The same data structure as :obj:`tensor` with all tensors sent to the proper device.\n",
    "    \"\"\"\n",
    "    if isinstance(tensor, (list, tuple)):\n",
    "        return type(tensor)(send_to_device(t, device) for t in tensor)\n",
    "    elif isinstance(tensor, dict):\n",
    "        return type(tensor)({k: send_to_device(v, device) for k, v in tensor.items()})\n",
    "    elif not hasattr(tensor, \"to\"):\n",
    "        return tensor\n",
    "    return tensor.to(device)\n",
    "\n",
    "\n",
    "class ForeverDataIterator:\n",
    "    r\"\"\"A data iterator that will never stop producing data\"\"\"\n",
    "\n",
    "    def __init__(self, data_loader: DataLoader, device=None):\n",
    "        self.data_loader = data_loader\n",
    "        self.iter = iter(self.data_loader)\n",
    "        self.device = device\n",
    "\n",
    "    def __next__(self):\n",
    "        try:\n",
    "            data = next(self.iter)\n",
    "            if self.device is not None:\n",
    "                data = send_to_device(data, self.device)\n",
    "        except StopIteration:\n",
    "            self.iter = iter(self.data_loader)\n",
    "            data = next(self.iter)\n",
    "            if self.device is not None:\n",
    "                data = send_to_device(data, self.device)\n",
    "        return data\n",
    "\n",
    "    def __len__(self):\n",
    "        return len(self.data_loader)\n",
    "\n",
    "\n",
    "def entropy(predictions: torch.Tensor, reduction='none') -> torch.Tensor:\n",
    "    r\"\"\"Entropy of prediction.\n",
    "    The definition is:\n",
    "\n",
    "    .. math::\n",
    "        entropy(p) = - \\sum_{c=1}^C p_c \\log p_c\n",
    "\n",
    "    where C is number of classes.\n",
    "\n",
    "    Args:\n",
    "        predictions (tensor): Classifier predictions. Expected to contain raw, normalized scores for each class\n",
    "        reduction (str, optional): Specifies the reduction to apply to the output:\n",
    "          ``'none'`` | ``'mean'``. ``'none'``: no reduction will be applied,\n",
    "          ``'mean'``: the sum of the output will be divided by the number of\n",
    "          elements in the output. Default: ``'mean'``\n",
    "\n",
    "    Shape:\n",
    "        - predictions: :math:`(minibatch, C)` where C means the number of classes.\n",
    "        - Output: :math:`(minibatch, )` by default. If :attr:`reduction` is ``'mean'``, then scalar.\n",
    "    \"\"\"\n",
    "    epsilon = 1e-5\n",
    "    H = -predictions * torch.log(predictions + epsilon)\n",
    "    H = H.sum(dim=1)\n",
    "    if reduction == 'mean':\n",
    "        return H.mean()\n",
    "    else:\n",
    "        return H\n",
    "\n",
    "\n",
    "\n",
    "class MinimumClassConfusionLoss(nn.Module):\n",
    "    r\"\"\"\n",
    "    Minimum Class Confusion loss minimizes the class confusion in the target predictions.\n",
    "\n",
    "    You can see more details in `Minimum Class Confusion for Versatile Domain Adaptation (ECCV 2020) <https://arxiv.org/abs/1912.03699>`_\n",
    "\n",
    "    Args:\n",
    "        temperature (float) : The temperature for rescaling, the prediction will shrink to vanilla softmax if\n",
    "          temperature is 1.0.\n",
    "\n",
    "    .. note::\n",
    "        Make sure that temperature is larger than 0.\n",
    "\n",
    "    Inputs: g_t\n",
    "        - g_t (tensor): unnormalized classifier predictions on target domain, :math:`g^t`\n",
    "\n",
    "    Shape:\n",
    "        - g_t: :math:`(minibatch, C)` where C means the number of classes.\n",
    "        - Output: scalar.\n",
    "\n",
    "    Examples::\n",
    "        >>> temperature = 2.0\n",
    "        >>> loss = MinimumClassConfusionLoss(temperature)\n",
    "        >>> # logits output from target domain\n",
    "        >>> g_t = torch.randn(batch_size, num_classes)\n",
    "        >>> output = loss(g_t)\n",
    "\n",
    "    MCC can also serve as a regularizer for existing methods.\n",
    "    Examples::\n",
    "        >>> from dalib.modules.domain_discriminator import DomainDiscriminator\n",
    "        >>> num_classes = 2\n",
    "        >>> feature_dim = 1024\n",
    "        >>> batch_size = 10\n",
    "        >>> temperature = 2.0\n",
    "        >>> discriminator = DomainDiscriminator(in_feature=feature_dim, hidden_size=1024)\n",
    "        >>> cdan_loss = ConditionalDomainAdversarialLoss(discriminator, reduction='mean')\n",
    "        >>> mcc_loss = MinimumClassConfusionLoss(temperature)\n",
    "        >>> # features from source domain and target domain\n",
    "        >>> f_s, f_t = torch.randn(batch_size, feature_dim), torch.randn(batch_size, feature_dim)\n",
    "        >>> # logits output from source domain adn target domain\n",
    "        >>> g_s, g_t = torch.randn(batch_size, num_classes), torch.randn(batch_size, num_classes)\n",
    "        >>> total_loss = cdan_loss(g_s, f_s, g_t, f_t) + mcc_loss(g_t)\n",
    "    \"\"\"\n",
    "\n",
    "    def __init__(self, temperature: float):\n",
    "        super(MinimumClassConfusionLoss, self).__init__()\n",
    "        self.temperature = temperature\n",
    "\n",
    "    def forward(self, logits: torch.Tensor) -> torch.Tensor:\n",
    "        batch_size, num_classes = logits.shape\n",
    "        predictions = F.softmax(logits / self.temperature, dim=1)  # batch_size x num_classes\n",
    "        entropy_weight = entropy(predictions).detach()\n",
    "        entropy_weight = 1 + torch.exp(-entropy_weight)\n",
    "        entropy_weight = (batch_size * entropy_weight / torch.sum(entropy_weight)).unsqueeze(dim=1)  # batch_size x 1\n",
    "        class_confusion_matrix = torch.mm((predictions * entropy_weight).transpose(1, 0), predictions) # num_classes x num_classes\n",
    "        class_confusion_matrix = class_confusion_matrix / torch.sum(class_confusion_matrix, dim=1)\n",
    "        mcc_loss = (torch.sum(class_confusion_matrix) - torch.trace(class_confusion_matrix)) / num_classes\n",
    "        return mcc_loss"
   ]
  },
  {
   "cell_type": "markdown",
   "id": "67f44dc4-acf4-43e9-946c-4e293983ec0d",
   "metadata": {},
   "source": [
    "# Seed"
   ]
  },
  {
   "cell_type": "code",
   "execution_count": 7,
   "id": "48443325-7a07-4502-a351-763911467b4b",
   "metadata": {},
   "outputs": [],
   "source": [
    "def set_random_seed(random_seed, args=None):\n",
    "    \"\"\" set_random_seed(random_seed, args=None)\n",
    "    \n",
    "    Set the random_seed for numpy, python, and cudnn\n",
    "    \n",
    "    input\n",
    "    -----\n",
    "      random_seed: integer random seed\n",
    "      args: argue parser\n",
    "    \"\"\"\n",
    "    \n",
    "    # initialization                                       \n",
    "    torch.manual_seed(random_seed)\n",
    "    random.seed(random_seed)\n",
    "    np.random.seed(random_seed)\n",
    "    os.environ['PYTHONHASHSEED'] = str(random_seed)\n",
    "\n",
    "    #For torch.backends.cudnn.deterministic\n",
    "    #Note: this default configuration may result in RuntimeError\n",
    "    #see https://pytorch.org/docs/stable/notes/randomness.html    \n",
    "    if args is None:\n",
    "        cudnn_deterministic = True\n",
    "        cudnn_benchmark = False\n",
    "    else:\n",
    "        cudnn_deterministic = args.cudnn_deterministic_toggle\n",
    "        cudnn_benchmark = args.cudnn_benchmark_toggle\n",
    "    \n",
    "        if not cudnn_deterministic:\n",
    "            print(\"cudnn_deterministic set to False\")\n",
    "        if cudnn_benchmark:\n",
    "            print(\"cudnn_benchmark set to True\")\n",
    "    \n",
    "    if torch.cuda.is_available():\n",
    "        torch.cuda.manual_seed_all(random_seed)\n",
    "        torch.backends.cudnn.deterministic = cudnn_deterministic\n",
    "        torch.backends.cudnn.benchmark = cudnn_benchmark\n",
    "    return"
   ]
  },
  {
   "cell_type": "markdown",
   "id": "99e5c4d0-927a-41a5-899d-1d35767d7a12",
   "metadata": {},
   "source": [
    "# Metrics"
   ]
  },
  {
   "cell_type": "code",
   "execution_count": 8,
   "id": "d127ff40-f591-4850-a107-2995665f6a56",
   "metadata": {},
   "outputs": [],
   "source": [
    "def expected_calibration_error(y_true, y_prob, n_bins=10):\n",
    "    prob_true, prob_pred = calibration_curve(y_true, y_prob, n_bins=n_bins, strategy='uniform')\n",
    "    bin_totals = np.histogram(y_prob, bins=np.linspace(0, 1, n_bins + 1), density=False)[0]\n",
    "    non_empty_bins = bin_totals > 0\n",
    "    bin_weights = bin_totals / len(y_prob)\n",
    "    bin_weights = bin_weights[non_empty_bins]\n",
    "    prob_true = prob_true[:len(bin_weights)]\n",
    "    prob_pred = prob_pred[:len(bin_weights)]\n",
    "    ece = np.sum(bin_weights * np.abs(prob_true - prob_pred))\n",
    "    return ece\n",
    "    \n",
    "def auc_brier_ece(answer_df, submission_df):\n",
    "    # Check for missing values in submission_df\n",
    "    if submission_df.isnull().values.any():\n",
    "        raise ValueError(\"The submission dataframe contains missing values.\")\n",
    "\n",
    "\n",
    "    # Check if the number and names of columns are the same in both dataframes\n",
    "    if len(answer_df.columns) != len(submission_df.columns) or not all(answer_df.columns == submission_df.columns):\n",
    "        raise ValueError(\"The columns of the answer and submission dataframes do not match.\")\n",
    "        \n",
    "    submission_df = submission_df[submission_df.iloc[:, 0].isin(answer_df.iloc[:, 0])]\n",
    "    submission_df.index = range(submission_df.shape[0])\n",
    "    \n",
    "    # Calculate AUC for each class\n",
    "    auc_scores = []\n",
    "    for column in answer_df.columns[1:]:\n",
    "        y_true = answer_df[column]\n",
    "        y_scores = submission_df[column]\n",
    "        auc = roc_auc_score(y_true, y_scores)\n",
    "        auc_scores.append(auc)\n",
    "\n",
    "\n",
    "    # Calculate mean AUC\n",
    "    mean_auc = np.mean(auc_scores)\n",
    "\n",
    "\n",
    "    brier_scores = []\n",
    "    ece_scores = []\n",
    "    \n",
    "    # Calculate Brier Score and ECE for each class\n",
    "    for column in answer_df.columns[1:]:\n",
    "        y_true = answer_df[column].values\n",
    "        y_prob = submission_df[column].values\n",
    "        \n",
    "        # Brier Score\n",
    "        brier = mean_squared_error(y_true, y_prob)\n",
    "        brier_scores.append(brier)\n",
    "        \n",
    "        # ECE\n",
    "        ece = expected_calibration_error(y_true, y_prob)\n",
    "        ece_scores.append(ece)\n",
    "    \n",
    "    # Calculate mean Brier Score and mean ECE\n",
    "    mean_brier = np.mean(brier_scores)\n",
    "    mean_ece = np.mean(ece_scores)\n",
    "    \n",
    "    # Calculate combined score\n",
    "    combined_score = 0.5 * (1 - mean_auc) + 0.25 * mean_brier + 0.25 * mean_ece\n",
    "    \n",
    "    return combined_score"
   ]
  },
  {
   "cell_type": "markdown",
   "id": "89010705-cca9-4480-9a00-a524664440f0",
   "metadata": {},
   "source": [
    "# Main"
   ]
  },
  {
   "cell_type": "code",
   "execution_count": 9,
   "id": "9a632e17-5bb0-4a5b-a45a-0e98407b6a79",
   "metadata": {},
   "outputs": [],
   "source": [
    "def produce_evaluation_file(\n",
    "    data_loader: DataLoader,\n",
    "    model,\n",
    "    device: torch.device,\n",
    "    id):\n",
    "    \"\"\"Perform evaluation and save the score to a file\"\"\"\n",
    "    model.eval()\n",
    "\n",
    "    predictions = []\n",
    "    trues = []\n",
    "    with torch.no_grad():\n",
    "        for batch_x, batch_y in tqdm(data_loader, leave=False):\n",
    "            batch_x = batch_x.to(device)\n",
    "            batch_out = torch.sigmoid(model(batch_x)[0]).cpu().detach().numpy()\n",
    "            # add outputs\n",
    "            predictions += batch_out.tolist()\n",
    "            trues += batch_y.numpy().tolist()\n",
    "    predictions = np.array(predictions)\n",
    "    trues = np.array(trues)\n",
    "    sub = pd.DataFrame({'id':id,\n",
    "                  'fake':predictions[:,0],\n",
    "                  'real':predictions[:,1]})\n",
    "\n",
    "    ans = pd.DataFrame({'id':id,\n",
    "                  'fake':trues[:,0],\n",
    "                  'real':trues[:,1]})\n",
    "\n",
    "    combine_score = auc_brier_ece(ans, sub)\n",
    "    return combine_score\n",
    "\n",
    "def inference(data_loader, model, device, save_path):\n",
    "    model.to(device)\n",
    "    model.eval()\n",
    "    predictions = []\n",
    "    with torch.no_grad():\n",
    "        for features in tqdm(iter(data_loader)):\n",
    "            features = features.to(device)\n",
    "            \n",
    "            probs = torch.sigmoid(model(features)[0])\n",
    "            \n",
    "            probs  = probs.cpu().detach().numpy()\n",
    "            predictions += probs.tolist()\n",
    "    submit = pd.read_csv('./sample_submission.csv')\n",
    "    submit.iloc[:, 1:] = predictions\n",
    "    submit.to_csv(save_path, index=False)\n",
    "    \n",
    "def label_smoothing(labels, smoothing=0.1):\n",
    "\n",
    "    assert 0 <= smoothing < 1\n",
    "    with torch.no_grad():\n",
    "        smoothed_labels = labels * (1 - smoothing) + smoothing / 2\n",
    "        \n",
    "    return smoothed_labels\n",
    "\n",
    "def train(train_source_iter: ForeverDataIterator, train_target_iter: ForeverDataIterator, model,\n",
    "          domain_adv: ConditionalDomainAdversarialLoss,optimizer, ad_optimizer,\n",
    "          lr_scheduler: LambdaLR, lr_scheduler_ad,\n",
    "          epoch: int, args: argparse.Namespace):\n",
    "    # switch to train mode\n",
    "    model.train()\n",
    "    domain_adv.train()\n",
    "    criterion = nn.BCEWithLogitsLoss()\n",
    "    total_cls_loss = 0\n",
    "    total_transfer_loss = 0\n",
    "    total_loss = 0\n",
    "    for i in tqdm(range(args.iters_per_epoch)):\n",
    "        x_s, labels_s = next(train_source_iter)\n",
    "        x_t= next(train_target_iter)\n",
    "\n",
    "        x_s = x_s.to(device)\n",
    "        x_t = x_t.to(device)\n",
    "        labels_s = label_smoothing(labels_s).to(device)\n",
    "\n",
    "        # measure data loading time\n",
    "        optimizer.zero_grad()\n",
    "        ad_optimizer.zero_grad()\n",
    "\n",
    "        # compute task loss for first step\n",
    "        x = torch.cat((x_s, x_t), dim=0)\n",
    "        y, f = model(x)\n",
    "        y_s, y_t = y.chunk(2, dim=0)\n",
    "        f_s, f_t = f.chunk(2, dim=0)\n",
    "        cls_loss = criterion(y_s, labels_s)\n",
    "        loss = cls_loss \n",
    "        loss.backward()\n",
    "\n",
    "        # Calculate ϵ̂ (w) and add it to the weights\n",
    "        optimizer.first_step(zero_grad=True)\n",
    "\n",
    "        # Calculate task loss and domain loss\n",
    "        y, f = model(x)\n",
    "        y_s, y_t = y.chunk(2, dim=0)\n",
    "        f_s, f_t = f.chunk(2, dim=0)\n",
    "\n",
    "        cls_loss = criterion(y_s, labels_s)\n",
    "        transfer_loss = domain_adv(y_s, f_s, y_t, f_t)\n",
    "        loss = cls_loss + transfer_loss * 1.\n",
    "        \n",
    "        total_cls_loss += cls_loss\n",
    "        total_transfer_loss += transfer_loss\n",
    "        total_loss += loss\n",
    "        \n",
    "        loss.backward()\n",
    "        # Update parameters of domain classifier\n",
    "        ad_optimizer.step()\n",
    "        # Update parameters (Sharpness-Aware update)\n",
    "        optimizer.second_step(zero_grad=True)\n",
    "    lr_scheduler.step(total_cls_loss)\n",
    "    lr_scheduler_ad.step(total_transfer_loss)\n",
    "\n",
    "    return total_cls_loss, total_transfer_loss, total_loss"
   ]
  },
  {
   "cell_type": "code",
   "execution_count": 10,
   "id": "55443bd9-edb5-4a18-a523-36fa0884cc05",
   "metadata": {},
   "outputs": [],
   "source": [
    "\"\"\"\n",
    "@author: Junguang Jiang\n",
    "@contact: JiangJunguang1123@outlook.com\n",
    "\"\"\"\n",
    "from typing import List, Dict\n",
    "import torch.nn as nn\n",
    "\n",
    "__all__ = ['DomainDiscriminator']\n",
    "\n",
    "\n",
    "class DomainDiscriminator(nn.Sequential):\n",
    "    r\"\"\"Domain discriminator model from\n",
    "    `Domain-Adversarial Training of Neural Networks (ICML 2015) <https://arxiv.org/abs/1505.07818>`_\n",
    "\n",
    "    Distinguish whether the input features come from the source domain or the target domain.\n",
    "    The source domain label is 1 and the target domain label is 0.\n",
    "\n",
    "    Args:\n",
    "        in_feature (int): dimension of the input feature\n",
    "        hidden_size (int): dimension of the hidden features\n",
    "        batch_norm (bool): whether use :class:`~torch.nn.BatchNorm1d`.\n",
    "            Use :class:`~torch.nn.Dropout` if ``batch_norm`` is False. Default: True.\n",
    "\n",
    "    Shape:\n",
    "        - Inputs: (minibatch, `in_feature`)\n",
    "        - Outputs: :math:`(minibatch, 1)`\n",
    "    \"\"\"\n",
    "\n",
    "    def __init__(self, in_feature: int, hidden_size: int, batch_norm=True):\n",
    "        if batch_norm:\n",
    "            super(DomainDiscriminator, self).__init__(\n",
    "                nn.Linear(in_feature, hidden_size),\n",
    "                nn.BatchNorm1d(hidden_size),\n",
    "                nn.ReLU(),\n",
    "                nn.Linear(hidden_size, hidden_size),\n",
    "                nn.BatchNorm1d(hidden_size),\n",
    "                nn.ReLU(),\n",
    "                nn.Linear(hidden_size, 1),\n",
    "                nn.Sigmoid()\n",
    "            )\n",
    "        else:\n",
    "            super(DomainDiscriminator, self).__init__(\n",
    "                nn.Linear(in_feature, hidden_size),\n",
    "                nn.ReLU(inplace=True),\n",
    "                nn.Dropout(0.5),\n",
    "                nn.Linear(hidden_size, hidden_size),\n",
    "                nn.ReLU(inplace=True),\n",
    "                nn.Dropout(0.5),\n",
    "                nn.Linear(hidden_size, 1),\n",
    "                nn.Sigmoid()\n",
    "            )\n",
    "\n",
    "    def get_parameters(self) -> List[Dict]:\n",
    "        return [{\"params\": self.parameters(), \"lr\": 1.}]"
   ]
  },
  {
   "cell_type": "code",
   "execution_count": 11,
   "id": "4da08fd0",
   "metadata": {
    "scrolled": true
   },
   "outputs": [
    {
     "name": "stdout",
     "output_type": "stream",
     "text": [
      "Device: cuda\n",
      "nb_params: 297866\n"
     ]
    },
    {
     "name": "stderr",
     "output_type": "stream",
     "text": [
      "\u001b[34m\u001b[1mwandb\u001b[0m: Currently logged in as: \u001b[33mbeok\u001b[0m (\u001b[33mbeokay\u001b[0m). Use \u001b[1m`wandb login --relogin`\u001b[0m to force relogin\n"
     ]
    },
    {
     "data": {
      "text/html": [
       "wandb version 0.17.4 is available!  To upgrade, please run:\n",
       " $ pip install wandb --upgrade"
      ],
      "text/plain": [
       "<IPython.core.display.HTML object>"
      ]
     },
     "metadata": {},
     "output_type": "display_data"
    },
    {
     "data": {
      "text/html": [
       "Tracking run with wandb version 0.17.3"
      ],
      "text/plain": [
       "<IPython.core.display.HTML object>"
      ]
     },
     "metadata": {},
     "output_type": "display_data"
    },
    {
     "data": {
      "text/html": [
       "Run data is saved locally in <code>/home/server7/Desktop/ai/wandb/run-20240716_112002-r09pm21h</code>"
      ],
      "text/plain": [
       "<IPython.core.display.HTML object>"
      ]
     },
     "metadata": {},
     "output_type": "display_data"
    },
    {
     "data": {
      "text/html": [
       "Syncing run <strong><a href='https://wandb.ai/beokay/FOLD_ADAM_BEST/runs/r09pm21h' target=\"_blank\">fold2</a></strong> to <a href='https://wandb.ai/beokay/FOLD_ADAM_BEST' target=\"_blank\">Weights & Biases</a> (<a href='https://wandb.me/run' target=\"_blank\">docs</a>)<br/>"
      ],
      "text/plain": [
       "<IPython.core.display.HTML object>"
      ]
     },
     "metadata": {},
     "output_type": "display_data"
    },
    {
     "data": {
      "text/html": [
       " View project at <a href='https://wandb.ai/beokay/FOLD_ADAM_BEST' target=\"_blank\">https://wandb.ai/beokay/FOLD_ADAM_BEST</a>"
      ],
      "text/plain": [
       "<IPython.core.display.HTML object>"
      ]
     },
     "metadata": {},
     "output_type": "display_data"
    },
    {
     "data": {
      "text/html": [
       " View run at <a href='https://wandb.ai/beokay/FOLD_ADAM_BEST/runs/r09pm21h' target=\"_blank\">https://wandb.ai/beokay/FOLD_ADAM_BEST/runs/r09pm21h</a>"
      ],
      "text/plain": [
       "<IPython.core.display.HTML object>"
      ]
     },
     "metadata": {},
     "output_type": "display_data"
    },
    {
     "data": {
      "application/vnd.jupyter.widget-view+json": {
       "model_id": "a92420920bd34e1f9fea8d05fd18b837",
       "version_major": 2,
       "version_minor": 0
      },
      "text/plain": [
       "  0%|          | 0/1000 [00:00<?, ?it/s]"
      ]
     },
     "metadata": {},
     "output_type": "display_data"
    },
    {
     "data": {
      "application/vnd.jupyter.widget-view+json": {
       "model_id": "",
       "version_major": 2,
       "version_minor": 0
      },
      "text/plain": [
       "  0%|          | 0/1386 [00:00<?, ?it/s]"
      ]
     },
     "metadata": {},
     "output_type": "display_data"
    },
    {
     "name": "stdout",
     "output_type": "stream",
     "text": [
      "tensor([[0.5484, 0.8191],\n",
      "        [0.5594, 0.7449],\n",
      "        [0.6596, 0.5441],\n",
      "        [0.5675, 0.7218],\n",
      "        [0.6830, 0.5711],\n",
      "        [0.6018, 0.6889],\n",
      "        [0.5604, 0.7340],\n",
      "        [0.5616, 0.7146]], device='cuda:0', grad_fn=<SigmoidBackward0>)\n",
      "Epoch:0, combine_score:0.165382, cls_loss:656.490540, transfer_loss:488.093506, total_loss:1144.583496\n",
      "\n"
     ]
    },
    {
     "data": {
      "application/vnd.jupyter.widget-view+json": {
       "model_id": "0e7b6e4d5c3546909a171343a51ce1ca",
       "version_major": 2,
       "version_minor": 0
      },
      "text/plain": [
       "  0%|          | 0/1000 [00:00<?, ?it/s]"
      ]
     },
     "metadata": {},
     "output_type": "display_data"
    },
    {
     "data": {
      "application/vnd.jupyter.widget-view+json": {
       "model_id": "",
       "version_major": 2,
       "version_minor": 0
      },
      "text/plain": [
       "  0%|          | 0/1386 [00:00<?, ?it/s]"
      ]
     },
     "metadata": {},
     "output_type": "display_data"
    },
    {
     "name": "stdout",
     "output_type": "stream",
     "text": [
      "tensor([[0.3890, 0.9140],\n",
      "        [0.5526, 0.8213],\n",
      "        [0.9081, 0.3716],\n",
      "        [0.5766, 0.7946],\n",
      "        [0.8234, 0.4959],\n",
      "        [0.6291, 0.7528],\n",
      "        [0.6982, 0.6855],\n",
      "        [0.7428, 0.6215]], device='cuda:0', grad_fn=<SigmoidBackward0>)\n",
      "Epoch:1, combine_score:0.129728, cls_loss:581.195435, transfer_loss:643.148132, total_loss:1224.344116\n",
      "\n"
     ]
    },
    {
     "data": {
      "application/vnd.jupyter.widget-view+json": {
       "model_id": "ea7ac5af3d4c4525863322d79a79dd3e",
       "version_major": 2,
       "version_minor": 0
      },
      "text/plain": [
       "  0%|          | 0/1000 [00:00<?, ?it/s]"
      ]
     },
     "metadata": {},
     "output_type": "display_data"
    },
    {
     "data": {
      "application/vnd.jupyter.widget-view+json": {
       "model_id": "",
       "version_major": 2,
       "version_minor": 0
      },
      "text/plain": [
       "  0%|          | 0/1386 [00:00<?, ?it/s]"
      ]
     },
     "metadata": {},
     "output_type": "display_data"
    },
    {
     "name": "stdout",
     "output_type": "stream",
     "text": [
      "tensor([[0.4645, 0.8361],\n",
      "        [0.7464, 0.6132],\n",
      "        [0.9291, 0.2740],\n",
      "        [0.7311, 0.6443],\n",
      "        [0.7805, 0.5551],\n",
      "        [0.7015, 0.6323],\n",
      "        [0.8312, 0.4886],\n",
      "        [0.7349, 0.6354]], device='cuda:0', grad_fn=<SigmoidBackward0>)\n",
      "Epoch:2, combine_score:0.108572, cls_loss:561.999146, transfer_loss:673.803040, total_loss:1235.802002\n",
      "\n"
     ]
    },
    {
     "data": {
      "application/vnd.jupyter.widget-view+json": {
       "model_id": "95866b456f1e4caf88ad054eb4049496",
       "version_major": 2,
       "version_minor": 0
      },
      "text/plain": [
       "  0%|          | 0/1000 [00:00<?, ?it/s]"
      ]
     },
     "metadata": {},
     "output_type": "display_data"
    },
    {
     "data": {
      "application/vnd.jupyter.widget-view+json": {
       "model_id": "",
       "version_major": 2,
       "version_minor": 0
      },
      "text/plain": [
       "  0%|          | 0/1386 [00:00<?, ?it/s]"
      ]
     },
     "metadata": {},
     "output_type": "display_data"
    },
    {
     "name": "stdout",
     "output_type": "stream",
     "text": [
      "tensor([[0.4755, 0.8810],\n",
      "        [0.7999, 0.6340],\n",
      "        [0.9510, 0.2262],\n",
      "        [0.6620, 0.7545],\n",
      "        [0.7844, 0.6111],\n",
      "        [0.7269, 0.6818],\n",
      "        [0.8910, 0.4529],\n",
      "        [0.7358, 0.6816]], device='cuda:0', grad_fn=<SigmoidBackward0>)\n",
      "Epoch:3, combine_score:0.098568, cls_loss:524.156738, transfer_loss:679.612061, total_loss:1203.768921\n",
      "\n"
     ]
    },
    {
     "data": {
      "application/vnd.jupyter.widget-view+json": {
       "model_id": "89bdf216255d433b84c95e72d552afd5",
       "version_major": 2,
       "version_minor": 0
      },
      "text/plain": [
       "  0%|          | 0/1000 [00:00<?, ?it/s]"
      ]
     },
     "metadata": {},
     "output_type": "display_data"
    },
    {
     "data": {
      "application/vnd.jupyter.widget-view+json": {
       "model_id": "",
       "version_major": 2,
       "version_minor": 0
      },
      "text/plain": [
       "  0%|          | 0/1386 [00:00<?, ?it/s]"
      ]
     },
     "metadata": {},
     "output_type": "display_data"
    },
    {
     "name": "stdout",
     "output_type": "stream",
     "text": [
      "tensor([[0.1977, 0.9541],\n",
      "        [0.7619, 0.6800],\n",
      "        [0.9664, 0.1549],\n",
      "        [0.6544, 0.7915],\n",
      "        [0.7602, 0.6350],\n",
      "        [0.6103, 0.7785],\n",
      "        [0.8963, 0.4365],\n",
      "        [0.5826, 0.8096]], device='cuda:0', grad_fn=<SigmoidBackward0>)\n",
      "Epoch:4, combine_score:0.085805, cls_loss:501.804626, transfer_loss:682.449768, total_loss:1184.252930\n",
      "\n"
     ]
    },
    {
     "data": {
      "application/vnd.jupyter.widget-view+json": {
       "model_id": "6eb31fb845084386b4c95011033e1e73",
       "version_major": 2,
       "version_minor": 0
      },
      "text/plain": [
       "  0%|          | 0/1000 [00:00<?, ?it/s]"
      ]
     },
     "metadata": {},
     "output_type": "display_data"
    },
    {
     "data": {
      "application/vnd.jupyter.widget-view+json": {
       "model_id": "",
       "version_major": 2,
       "version_minor": 0
      },
      "text/plain": [
       "  0%|          | 0/1386 [00:00<?, ?it/s]"
      ]
     },
     "metadata": {},
     "output_type": "display_data"
    },
    {
     "name": "stdout",
     "output_type": "stream",
     "text": [
      "tensor([[0.2289, 0.9502],\n",
      "        [0.7018, 0.7947],\n",
      "        [0.9612, 0.2414],\n",
      "        [0.5103, 0.8931],\n",
      "        [0.4560, 0.8727],\n",
      "        [0.6942, 0.7798],\n",
      "        [0.8884, 0.5200],\n",
      "        [0.2865, 0.9385]], device='cuda:0', grad_fn=<SigmoidBackward0>)\n",
      "Epoch:5, combine_score:0.078854, cls_loss:483.555450, transfer_loss:685.379883, total_loss:1168.934937\n",
      "\n"
     ]
    },
    {
     "data": {
      "application/vnd.jupyter.widget-view+json": {
       "model_id": "24d663cecb944995a2473d6c38550479",
       "version_major": 2,
       "version_minor": 0
      },
      "text/plain": [
       "  0%|          | 0/1000 [00:00<?, ?it/s]"
      ]
     },
     "metadata": {},
     "output_type": "display_data"
    },
    {
     "data": {
      "application/vnd.jupyter.widget-view+json": {
       "model_id": "",
       "version_major": 2,
       "version_minor": 0
      },
      "text/plain": [
       "  0%|          | 0/1386 [00:00<?, ?it/s]"
      ]
     },
     "metadata": {},
     "output_type": "display_data"
    },
    {
     "name": "stdout",
     "output_type": "stream",
     "text": [
      "tensor([[0.2017, 0.9549],\n",
      "        [0.8154, 0.6755],\n",
      "        [0.9716, 0.2198],\n",
      "        [0.6764, 0.8474],\n",
      "        [0.6320, 0.7882],\n",
      "        [0.7926, 0.7385],\n",
      "        [0.9165, 0.4527],\n",
      "        [0.3370, 0.9273]], device='cuda:0', grad_fn=<SigmoidBackward0>)\n",
      "Epoch:6, combine_score:0.070077, cls_loss:471.357025, transfer_loss:687.363525, total_loss:1158.720703\n",
      "\n"
     ]
    },
    {
     "data": {
      "application/vnd.jupyter.widget-view+json": {
       "model_id": "8bf177c03313434482043ce5822f51f2",
       "version_major": 2,
       "version_minor": 0
      },
      "text/plain": [
       "  0%|          | 0/1000 [00:00<?, ?it/s]"
      ]
     },
     "metadata": {},
     "output_type": "display_data"
    },
    {
     "data": {
      "application/vnd.jupyter.widget-view+json": {
       "model_id": "",
       "version_major": 2,
       "version_minor": 0
      },
      "text/plain": [
       "  0%|          | 0/1386 [00:00<?, ?it/s]"
      ]
     },
     "metadata": {},
     "output_type": "display_data"
    },
    {
     "name": "stdout",
     "output_type": "stream",
     "text": [
      "tensor([[0.1877, 0.9522],\n",
      "        [0.7840, 0.6958],\n",
      "        [0.9763, 0.1447],\n",
      "        [0.7030, 0.8237],\n",
      "        [0.7917, 0.6886],\n",
      "        [0.6912, 0.7607],\n",
      "        [0.9346, 0.3423],\n",
      "        [0.3687, 0.8990]], device='cuda:0', grad_fn=<SigmoidBackward0>)\n",
      "Epoch:7, combine_score:0.069629, cls_loss:463.685486, transfer_loss:682.239075, total_loss:1145.925049\n",
      "\n"
     ]
    },
    {
     "data": {
      "application/vnd.jupyter.widget-view+json": {
       "model_id": "673652bbe9a74d0d867f38986bdb8504",
       "version_major": 2,
       "version_minor": 0
      },
      "text/plain": [
       "  0%|          | 0/1000 [00:00<?, ?it/s]"
      ]
     },
     "metadata": {},
     "output_type": "display_data"
    },
    {
     "data": {
      "application/vnd.jupyter.widget-view+json": {
       "model_id": "",
       "version_major": 2,
       "version_minor": 0
      },
      "text/plain": [
       "  0%|          | 0/1386 [00:00<?, ?it/s]"
      ]
     },
     "metadata": {},
     "output_type": "display_data"
    },
    {
     "name": "stdout",
     "output_type": "stream",
     "text": [
      "tensor([[0.1639, 0.9597],\n",
      "        [0.8115, 0.7375],\n",
      "        [0.9726, 0.1981],\n",
      "        [0.6004, 0.8967],\n",
      "        [0.6484, 0.7960],\n",
      "        [0.5569, 0.8727],\n",
      "        [0.9290, 0.4522],\n",
      "        [0.1252, 0.9601]], device='cuda:0', grad_fn=<SigmoidBackward0>)\n",
      "Epoch:8, combine_score:0.061810, cls_loss:444.755951, transfer_loss:685.364929, total_loss:1130.122192\n",
      "\n"
     ]
    },
    {
     "data": {
      "application/vnd.jupyter.widget-view+json": {
       "model_id": "c91f4241b81045da9cd9c16ae02f18b4",
       "version_major": 2,
       "version_minor": 0
      },
      "text/plain": [
       "  0%|          | 0/1000 [00:00<?, ?it/s]"
      ]
     },
     "metadata": {},
     "output_type": "display_data"
    },
    {
     "data": {
      "application/vnd.jupyter.widget-view+json": {
       "model_id": "",
       "version_major": 2,
       "version_minor": 0
      },
      "text/plain": [
       "  0%|          | 0/1386 [00:00<?, ?it/s]"
      ]
     },
     "metadata": {},
     "output_type": "display_data"
    },
    {
     "name": "stdout",
     "output_type": "stream",
     "text": [
      "tensor([[0.2461, 0.9438],\n",
      "        [0.8663, 0.6357],\n",
      "        [0.9747, 0.0952],\n",
      "        [0.8580, 0.7601],\n",
      "        [0.8864, 0.6312],\n",
      "        [0.8944, 0.6697],\n",
      "        [0.9458, 0.2645],\n",
      "        [0.4029, 0.9045]], device='cuda:0', grad_fn=<SigmoidBackward0>)\n",
      "Epoch:9, combine_score:0.060644, cls_loss:433.755585, transfer_loss:685.395264, total_loss:1119.150757\n",
      "\n"
     ]
    },
    {
     "data": {
      "application/vnd.jupyter.widget-view+json": {
       "model_id": "ecaf9300529d45c599bf46f1cb98a2ee",
       "version_major": 2,
       "version_minor": 0
      },
      "text/plain": [
       "  0%|          | 0/1000 [00:00<?, ?it/s]"
      ]
     },
     "metadata": {},
     "output_type": "display_data"
    },
    {
     "data": {
      "application/vnd.jupyter.widget-view+json": {
       "model_id": "",
       "version_major": 2,
       "version_minor": 0
      },
      "text/plain": [
       "  0%|          | 0/1386 [00:00<?, ?it/s]"
      ]
     },
     "metadata": {},
     "output_type": "display_data"
    },
    {
     "name": "stdout",
     "output_type": "stream",
     "text": [
      "tensor([[0.2694, 0.9357],\n",
      "        [0.7967, 0.7739],\n",
      "        [0.9618, 0.1144],\n",
      "        [0.8549, 0.7657],\n",
      "        [0.8471, 0.7393],\n",
      "        [0.8596, 0.7462],\n",
      "        [0.9227, 0.3487],\n",
      "        [0.2793, 0.9248]], device='cuda:0', grad_fn=<SigmoidBackward0>)\n",
      "Epoch:10, combine_score:0.057633, cls_loss:422.060852, transfer_loss:685.559204, total_loss:1107.620850\n",
      "\n"
     ]
    },
    {
     "data": {
      "application/vnd.jupyter.widget-view+json": {
       "model_id": "8514ba3ec40d44698498984d3a625071",
       "version_major": 2,
       "version_minor": 0
      },
      "text/plain": [
       "  0%|          | 0/1000 [00:00<?, ?it/s]"
      ]
     },
     "metadata": {},
     "output_type": "display_data"
    },
    {
     "data": {
      "application/vnd.jupyter.widget-view+json": {
       "model_id": "",
       "version_major": 2,
       "version_minor": 0
      },
      "text/plain": [
       "  0%|          | 0/1386 [00:00<?, ?it/s]"
      ]
     },
     "metadata": {},
     "output_type": "display_data"
    },
    {
     "name": "stdout",
     "output_type": "stream",
     "text": [
      "tensor([[0.1918, 0.9275],\n",
      "        [0.8457, 0.7285],\n",
      "        [0.9675, 0.0540],\n",
      "        [0.8591, 0.7774],\n",
      "        [0.9026, 0.6211],\n",
      "        [0.9111, 0.6933],\n",
      "        [0.9416, 0.2031],\n",
      "        [0.3995, 0.8977]], device='cuda:0', grad_fn=<SigmoidBackward0>)\n",
      "Epoch:11, combine_score:0.056066, cls_loss:416.266449, transfer_loss:686.577026, total_loss:1102.843018\n",
      "\n"
     ]
    },
    {
     "data": {
      "application/vnd.jupyter.widget-view+json": {
       "model_id": "cd23a23f59184d27b9e0adeb28d5e8db",
       "version_major": 2,
       "version_minor": 0
      },
      "text/plain": [
       "  0%|          | 0/1000 [00:00<?, ?it/s]"
      ]
     },
     "metadata": {},
     "output_type": "display_data"
    },
    {
     "data": {
      "application/vnd.jupyter.widget-view+json": {
       "model_id": "",
       "version_major": 2,
       "version_minor": 0
      },
      "text/plain": [
       "  0%|          | 0/1386 [00:00<?, ?it/s]"
      ]
     },
     "metadata": {},
     "output_type": "display_data"
    },
    {
     "name": "stdout",
     "output_type": "stream",
     "text": [
      "tensor([[0.0785, 0.9400],\n",
      "        [0.8284, 0.7808],\n",
      "        [0.9679, 0.0470],\n",
      "        [0.8530, 0.8311],\n",
      "        [0.9142, 0.6064],\n",
      "        [0.9123, 0.7720],\n",
      "        [0.9396, 0.2409],\n",
      "        [0.3039, 0.9051]], device='cuda:0', grad_fn=<SigmoidBackward0>)\n",
      "Epoch:12, combine_score:0.054168, cls_loss:408.181793, transfer_loss:687.289368, total_loss:1095.471069\n",
      "\n"
     ]
    },
    {
     "data": {
      "application/vnd.jupyter.widget-view+json": {
       "model_id": "7fd1a5ed326f46e786d4ce3796c32bc7",
       "version_major": 2,
       "version_minor": 0
      },
      "text/plain": [
       "  0%|          | 0/1000 [00:00<?, ?it/s]"
      ]
     },
     "metadata": {},
     "output_type": "display_data"
    },
    {
     "data": {
      "application/vnd.jupyter.widget-view+json": {
       "model_id": "",
       "version_major": 2,
       "version_minor": 0
      },
      "text/plain": [
       "  0%|          | 0/1386 [00:00<?, ?it/s]"
      ]
     },
     "metadata": {},
     "output_type": "display_data"
    },
    {
     "name": "stdout",
     "output_type": "stream",
     "text": [
      "tensor([[0.1733, 0.9308],\n",
      "        [0.8789, 0.7526],\n",
      "        [0.9641, 0.0845],\n",
      "        [0.8726, 0.8519],\n",
      "        [0.9233, 0.7069],\n",
      "        [0.8723, 0.8307],\n",
      "        [0.9350, 0.3495],\n",
      "        [0.2182, 0.9130]], device='cuda:0', grad_fn=<SigmoidBackward0>)\n",
      "Epoch:13, combine_score:0.050401, cls_loss:405.468719, transfer_loss:686.760010, total_loss:1092.229492\n",
      "\n"
     ]
    },
    {
     "data": {
      "application/vnd.jupyter.widget-view+json": {
       "model_id": "d866afd5ff994f0bb94867e55820949f",
       "version_major": 2,
       "version_minor": 0
      },
      "text/plain": [
       "  0%|          | 0/1000 [00:00<?, ?it/s]"
      ]
     },
     "metadata": {},
     "output_type": "display_data"
    },
    {
     "data": {
      "application/vnd.jupyter.widget-view+json": {
       "model_id": "134cfa704d4c4a0dae1d0fec25fac738",
       "version_major": 2,
       "version_minor": 0
      },
      "text/plain": [
       "  0%|          | 0/1386 [00:00<?, ?it/s]"
      ]
     },
     "metadata": {},
     "output_type": "display_data"
    },
    {
     "name": "stdout",
     "output_type": "stream",
     "text": [
      "tensor([[0.1045, 0.9281],\n",
      "        [0.8834, 0.7675],\n",
      "        [0.9593, 0.0583],\n",
      "        [0.8901, 0.8203],\n",
      "        [0.8859, 0.7681],\n",
      "        [0.8924, 0.8454],\n",
      "        [0.9387, 0.2454],\n",
      "        [0.1740, 0.9142]], device='cuda:0', grad_fn=<SigmoidBackward0>)\n",
      "Epoch:14, combine_score:0.048271, cls_loss:396.958466, transfer_loss:687.759827, total_loss:1084.717651\n",
      "\n"
     ]
    },
    {
     "data": {
      "application/vnd.jupyter.widget-view+json": {
       "model_id": "5d42ec9c903c4a939c63fa99196594f3",
       "version_major": 2,
       "version_minor": 0
      },
      "text/plain": [
       "  0%|          | 0/1000 [00:00<?, ?it/s]"
      ]
     },
     "metadata": {},
     "output_type": "display_data"
    },
    {
     "data": {
      "application/vnd.jupyter.widget-view+json": {
       "model_id": "bbe5550bbaec4fb0ab06acda5bdb099d",
       "version_major": 2,
       "version_minor": 0
      },
      "text/plain": [
       "  0%|          | 0/1386 [00:00<?, ?it/s]"
      ]
     },
     "metadata": {},
     "output_type": "display_data"
    },
    {
     "name": "stdout",
     "output_type": "stream",
     "text": [
      "tensor([[0.2683, 0.9229],\n",
      "        [0.8936, 0.7437],\n",
      "        [0.9516, 0.0526],\n",
      "        [0.9163, 0.7924],\n",
      "        [0.9182, 0.6789],\n",
      "        [0.9376, 0.7645],\n",
      "        [0.9292, 0.2728],\n",
      "        [0.3224, 0.8973]], device='cuda:0', grad_fn=<SigmoidBackward0>)\n",
      "Epoch:15, combine_score:0.047784, cls_loss:389.241730, transfer_loss:687.904907, total_loss:1077.145508\n",
      "\n"
     ]
    },
    {
     "data": {
      "application/vnd.jupyter.widget-view+json": {
       "model_id": "95dfa64c992b449d84071b5a370eceb8",
       "version_major": 2,
       "version_minor": 0
      },
      "text/plain": [
       "  0%|          | 0/1000 [00:00<?, ?it/s]"
      ]
     },
     "metadata": {},
     "output_type": "display_data"
    },
    {
     "data": {
      "application/vnd.jupyter.widget-view+json": {
       "model_id": "b6b037023c074eb48778b751399b0015",
       "version_major": 2,
       "version_minor": 0
      },
      "text/plain": [
       "  0%|          | 0/1386 [00:00<?, ?it/s]"
      ]
     },
     "metadata": {},
     "output_type": "display_data"
    },
    {
     "name": "stdout",
     "output_type": "stream",
     "text": [
      "tensor([[0.1439, 0.9208],\n",
      "        [0.9071, 0.8214],\n",
      "        [0.9556, 0.0926],\n",
      "        [0.9070, 0.8701],\n",
      "        [0.9019, 0.8302],\n",
      "        [0.9265, 0.8441],\n",
      "        [0.9400, 0.3082],\n",
      "        [0.1518, 0.9069]], device='cuda:0', grad_fn=<SigmoidBackward0>)\n",
      "Epoch:16, combine_score:0.046127, cls_loss:389.631836, transfer_loss:684.839294, total_loss:1074.471802\n",
      "\n"
     ]
    },
    {
     "data": {
      "application/vnd.jupyter.widget-view+json": {
       "model_id": "f5471db69bb249f885c2a01af23de3cb",
       "version_major": 2,
       "version_minor": 0
      },
      "text/plain": [
       "  0%|          | 0/1000 [00:00<?, ?it/s]"
      ]
     },
     "metadata": {},
     "output_type": "display_data"
    },
    {
     "data": {
      "application/vnd.jupyter.widget-view+json": {
       "model_id": "81af232d0838474c82789e3922859d93",
       "version_major": 2,
       "version_minor": 0
      },
      "text/plain": [
       "  0%|          | 0/1386 [00:00<?, ?it/s]"
      ]
     },
     "metadata": {},
     "output_type": "display_data"
    },
    {
     "name": "stdout",
     "output_type": "stream",
     "text": [
      "tensor([[0.2547, 0.9144],\n",
      "        [0.9106, 0.7327],\n",
      "        [0.9546, 0.0673],\n",
      "        [0.8593, 0.8983],\n",
      "        [0.9066, 0.7740],\n",
      "        [0.9398, 0.7511],\n",
      "        [0.9343, 0.2537],\n",
      "        [0.1367, 0.8920]], device='cuda:0', grad_fn=<SigmoidBackward0>)\n",
      "Epoch:17, combine_score:0.045049, cls_loss:386.161835, transfer_loss:689.739929, total_loss:1075.902710\n",
      "\n"
     ]
    },
    {
     "data": {
      "application/vnd.jupyter.widget-view+json": {
       "model_id": "637896f30d4e41f7b016bce4aee51809",
       "version_major": 2,
       "version_minor": 0
      },
      "text/plain": [
       "  0%|          | 0/1000 [00:00<?, ?it/s]"
      ]
     },
     "metadata": {},
     "output_type": "display_data"
    },
    {
     "data": {
      "application/vnd.jupyter.widget-view+json": {
       "model_id": "a9a75e0f754f47c2929e68038151c07e",
       "version_major": 2,
       "version_minor": 0
      },
      "text/plain": [
       "  0%|          | 0/1386 [00:00<?, ?it/s]"
      ]
     },
     "metadata": {},
     "output_type": "display_data"
    },
    {
     "name": "stdout",
     "output_type": "stream",
     "text": [
      "tensor([[0.0981, 0.9356],\n",
      "        [0.9160, 0.8155],\n",
      "        [0.9539, 0.0782],\n",
      "        [0.8888, 0.8852],\n",
      "        [0.8838, 0.8277],\n",
      "        [0.9132, 0.8781],\n",
      "        [0.9333, 0.2475],\n",
      "        [0.0693, 0.9178]], device='cuda:0', grad_fn=<SigmoidBackward0>)\n",
      "Epoch:18, combine_score:0.047438, cls_loss:380.192352, transfer_loss:687.735107, total_loss:1067.927368\n",
      "\n"
     ]
    },
    {
     "data": {
      "application/vnd.jupyter.widget-view+json": {
       "model_id": "da37895764cf4b6b9f36a3fe324225d1",
       "version_major": 2,
       "version_minor": 0
      },
      "text/plain": [
       "  0%|          | 0/1000 [00:00<?, ?it/s]"
      ]
     },
     "metadata": {},
     "output_type": "display_data"
    },
    {
     "data": {
      "application/vnd.jupyter.widget-view+json": {
       "model_id": "604a46af4e8a4e2e89de6b1361ae5b80",
       "version_major": 2,
       "version_minor": 0
      },
      "text/plain": [
       "  0%|          | 0/1386 [00:00<?, ?it/s]"
      ]
     },
     "metadata": {},
     "output_type": "display_data"
    },
    {
     "name": "stdout",
     "output_type": "stream",
     "text": [
      "tensor([[0.3365, 0.9097],\n",
      "        [0.9170, 0.6787],\n",
      "        [0.9547, 0.0332],\n",
      "        [0.9156, 0.8578],\n",
      "        [0.9093, 0.7431],\n",
      "        [0.9415, 0.7421],\n",
      "        [0.9392, 0.1233],\n",
      "        [0.0992, 0.8917]], device='cuda:0', grad_fn=<SigmoidBackward0>)\n",
      "Epoch:19, combine_score:0.043432, cls_loss:381.082123, transfer_loss:688.951843, total_loss:1070.034302\n",
      "\n"
     ]
    },
    {
     "data": {
      "application/vnd.jupyter.widget-view+json": {
       "model_id": "6b6fe0e2f9c345ce96931d7e6204589f",
       "version_major": 2,
       "version_minor": 0
      },
      "text/plain": [
       "  0%|          | 0/1000 [00:00<?, ?it/s]"
      ]
     },
     "metadata": {},
     "output_type": "display_data"
    },
    {
     "data": {
      "application/vnd.jupyter.widget-view+json": {
       "model_id": "6ea0a161532846f0a7e76e3e27dac48f",
       "version_major": 2,
       "version_minor": 0
      },
      "text/plain": [
       "  0%|          | 0/1386 [00:00<?, ?it/s]"
      ]
     },
     "metadata": {},
     "output_type": "display_data"
    },
    {
     "name": "stdout",
     "output_type": "stream",
     "text": [
      "tensor([[0.2244, 0.9227],\n",
      "        [0.9013, 0.8586],\n",
      "        [0.9412, 0.1145],\n",
      "        [0.9200, 0.8643],\n",
      "        [0.9232, 0.7973],\n",
      "        [0.9376, 0.8655],\n",
      "        [0.9176, 0.4533],\n",
      "        [0.1909, 0.9023]], device='cuda:0', grad_fn=<SigmoidBackward0>)\n",
      "Epoch:20, combine_score:0.041650, cls_loss:376.048370, transfer_loss:689.163513, total_loss:1065.211182\n",
      "\n"
     ]
    },
    {
     "data": {
      "application/vnd.jupyter.widget-view+json": {
       "model_id": "2f38533ad0c94cc698f28cb0d576650f",
       "version_major": 2,
       "version_minor": 0
      },
      "text/plain": [
       "  0%|          | 0/1000 [00:00<?, ?it/s]"
      ]
     },
     "metadata": {},
     "output_type": "display_data"
    },
    {
     "data": {
      "application/vnd.jupyter.widget-view+json": {
       "model_id": "ffcf4a5f4f834c5b875bb3c5f0bdcc2c",
       "version_major": 2,
       "version_minor": 0
      },
      "text/plain": [
       "  0%|          | 0/1386 [00:00<?, ?it/s]"
      ]
     },
     "metadata": {},
     "output_type": "display_data"
    },
    {
     "name": "stdout",
     "output_type": "stream",
     "text": [
      "tensor([[0.4366, 0.9061],\n",
      "        [0.9258, 0.5906],\n",
      "        [0.9492, 0.0630],\n",
      "        [0.9272, 0.6866],\n",
      "        [0.9238, 0.7715],\n",
      "        [0.9474, 0.7713],\n",
      "        [0.9372, 0.1631],\n",
      "        [0.1026, 0.8861]], device='cuda:0', grad_fn=<SigmoidBackward0>)\n",
      "Epoch:21, combine_score:0.049523, cls_loss:370.198029, transfer_loss:690.771179, total_loss:1060.969238\n",
      "\n"
     ]
    },
    {
     "data": {
      "application/vnd.jupyter.widget-view+json": {
       "model_id": "50083349ddb94f29987362b0f4994f07",
       "version_major": 2,
       "version_minor": 0
      },
      "text/plain": [
       "  0%|          | 0/1000 [00:00<?, ?it/s]"
      ]
     },
     "metadata": {},
     "output_type": "display_data"
    },
    {
     "data": {
      "application/vnd.jupyter.widget-view+json": {
       "model_id": "46d00df289a94dbb8de3c65875a166c2",
       "version_major": 2,
       "version_minor": 0
      },
      "text/plain": [
       "  0%|          | 0/1386 [00:00<?, ?it/s]"
      ]
     },
     "metadata": {},
     "output_type": "display_data"
    },
    {
     "name": "stdout",
     "output_type": "stream",
     "text": [
      "tensor([[0.1905, 0.9166],\n",
      "        [0.9227, 0.5658],\n",
      "        [0.9545, 0.0314],\n",
      "        [0.9206, 0.8126],\n",
      "        [0.9252, 0.7133],\n",
      "        [0.9361, 0.8330],\n",
      "        [0.9421, 0.0998],\n",
      "        [0.1679, 0.8771]], device='cuda:0', grad_fn=<SigmoidBackward0>)\n",
      "Epoch:22, combine_score:0.044388, cls_loss:367.481140, transfer_loss:688.896423, total_loss:1056.377441\n",
      "\n"
     ]
    },
    {
     "data": {
      "application/vnd.jupyter.widget-view+json": {
       "model_id": "349cdbe57062426c9d2cf5599339080a",
       "version_major": 2,
       "version_minor": 0
      },
      "text/plain": [
       "  0%|          | 0/1000 [00:00<?, ?it/s]"
      ]
     },
     "metadata": {},
     "output_type": "display_data"
    },
    {
     "data": {
      "application/vnd.jupyter.widget-view+json": {
       "model_id": "fbc609b5b6504b178484ecfeba8d28e7",
       "version_major": 2,
       "version_minor": 0
      },
      "text/plain": [
       "  0%|          | 0/1386 [00:00<?, ?it/s]"
      ]
     },
     "metadata": {},
     "output_type": "display_data"
    },
    {
     "name": "stdout",
     "output_type": "stream",
     "text": [
      "tensor([[0.6013, 0.8995],\n",
      "        [0.9253, 0.4526],\n",
      "        [0.9479, 0.0494],\n",
      "        [0.9272, 0.7613],\n",
      "        [0.9325, 0.6286],\n",
      "        [0.9468, 0.7120],\n",
      "        [0.9361, 0.1517],\n",
      "        [0.1819, 0.8801]], device='cuda:0', grad_fn=<SigmoidBackward0>)\n",
      "Epoch:23, combine_score:0.050030, cls_loss:370.522430, transfer_loss:690.286255, total_loss:1060.810547\n",
      "\n"
     ]
    },
    {
     "data": {
      "application/vnd.jupyter.widget-view+json": {
       "model_id": "0a948dfd432d4e5aa239096f443cba96",
       "version_major": 2,
       "version_minor": 0
      },
      "text/plain": [
       "  0%|          | 0/1000 [00:00<?, ?it/s]"
      ]
     },
     "metadata": {},
     "output_type": "display_data"
    },
    {
     "data": {
      "application/vnd.jupyter.widget-view+json": {
       "model_id": "9ea05712066040fba3d7aa2ae2ec8b63",
       "version_major": 2,
       "version_minor": 0
      },
      "text/plain": [
       "  0%|          | 0/1386 [00:00<?, ?it/s]"
      ]
     },
     "metadata": {},
     "output_type": "display_data"
    },
    {
     "name": "stdout",
     "output_type": "stream",
     "text": [
      "tensor([[0.6453, 0.9287],\n",
      "        [0.9254, 0.5030],\n",
      "        [0.9456, 0.0343],\n",
      "        [0.9306, 0.7442],\n",
      "        [0.9258, 0.7403],\n",
      "        [0.9464, 0.7059],\n",
      "        [0.9335, 0.1142],\n",
      "        [0.1294, 0.8900]], device='cuda:0', grad_fn=<SigmoidBackward0>)\n",
      "Epoch:24, combine_score:0.043721, cls_loss:366.253723, transfer_loss:689.668396, total_loss:1055.921753\n",
      "\n"
     ]
    },
    {
     "data": {
      "application/vnd.jupyter.widget-view+json": {
       "model_id": "4d22c0c311bb4e5c83ecf2a84d8da369",
       "version_major": 2,
       "version_minor": 0
      },
      "text/plain": [
       "  0%|          | 0/1000 [00:00<?, ?it/s]"
      ]
     },
     "metadata": {},
     "output_type": "display_data"
    },
    {
     "data": {
      "application/vnd.jupyter.widget-view+json": {
       "model_id": "7178e18f5820416fb9dfa0f4f4c0cf6f",
       "version_major": 2,
       "version_minor": 0
      },
      "text/plain": [
       "  0%|          | 0/1386 [00:00<?, ?it/s]"
      ]
     },
     "metadata": {},
     "output_type": "display_data"
    },
    {
     "name": "stdout",
     "output_type": "stream",
     "text": [
      "tensor([[0.3021, 0.9153],\n",
      "        [0.9265, 0.6717],\n",
      "        [0.9495, 0.0268],\n",
      "        [0.9078, 0.8503],\n",
      "        [0.9237, 0.7385],\n",
      "        [0.9412, 0.8287],\n",
      "        [0.9332, 0.1080],\n",
      "        [0.1579, 0.8919]], device='cuda:0', grad_fn=<SigmoidBackward0>)\n",
      "Epoch:25, combine_score:0.041885, cls_loss:361.709595, transfer_loss:688.273438, total_loss:1049.984131\n",
      "\n"
     ]
    },
    {
     "data": {
      "application/vnd.jupyter.widget-view+json": {
       "model_id": "189304f4876140e683a6a83342c15995",
       "version_major": 2,
       "version_minor": 0
      },
      "text/plain": [
       "  0%|          | 0/1000 [00:00<?, ?it/s]"
      ]
     },
     "metadata": {},
     "output_type": "display_data"
    },
    {
     "data": {
      "application/vnd.jupyter.widget-view+json": {
       "model_id": "fda21b6b23344c79a3a2b6127d5fa8b5",
       "version_major": 2,
       "version_minor": 0
      },
      "text/plain": [
       "  0%|          | 0/1386 [00:00<?, ?it/s]"
      ]
     },
     "metadata": {},
     "output_type": "display_data"
    },
    {
     "name": "stdout",
     "output_type": "stream",
     "text": [
      "tensor([[0.0744, 0.9242],\n",
      "        [0.9240, 0.8021],\n",
      "        [0.9433, 0.0506],\n",
      "        [0.9064, 0.8858],\n",
      "        [0.9203, 0.7910],\n",
      "        [0.8824, 0.8994],\n",
      "        [0.9245, 0.1838],\n",
      "        [0.1401, 0.8912]], device='cuda:0', grad_fn=<SigmoidBackward0>)\n",
      "Epoch:26, combine_score:0.038043, cls_loss:356.119415, transfer_loss:690.305542, total_loss:1046.425537\n",
      "\n"
     ]
    },
    {
     "data": {
      "application/vnd.jupyter.widget-view+json": {
       "model_id": "6ffe2aee4eaf4998a88b1678a3d05851",
       "version_major": 2,
       "version_minor": 0
      },
      "text/plain": [
       "  0%|          | 0/1000 [00:00<?, ?it/s]"
      ]
     },
     "metadata": {},
     "output_type": "display_data"
    },
    {
     "data": {
      "application/vnd.jupyter.widget-view+json": {
       "model_id": "bbc6af87c29d4c608dc2680c4027a43e",
       "version_major": 2,
       "version_minor": 0
      },
      "text/plain": [
       "  0%|          | 0/1386 [00:00<?, ?it/s]"
      ]
     },
     "metadata": {},
     "output_type": "display_data"
    },
    {
     "name": "stdout",
     "output_type": "stream",
     "text": [
      "tensor([[0.8560, 0.9167],\n",
      "        [0.9259, 0.4464],\n",
      "        [0.9551, 0.0264],\n",
      "        [0.9308, 0.7838],\n",
      "        [0.9293, 0.6296],\n",
      "        [0.9495, 0.7763],\n",
      "        [0.9373, 0.1073],\n",
      "        [0.0983, 0.8909]], device='cuda:0', grad_fn=<SigmoidBackward0>)\n",
      "Epoch:27, combine_score:0.047333, cls_loss:355.531982, transfer_loss:690.286377, total_loss:1045.818115\n",
      "\n"
     ]
    },
    {
     "data": {
      "application/vnd.jupyter.widget-view+json": {
       "model_id": "eefec10376384de58f10f420301d6775",
       "version_major": 2,
       "version_minor": 0
      },
      "text/plain": [
       "  0%|          | 0/1000 [00:00<?, ?it/s]"
      ]
     },
     "metadata": {},
     "output_type": "display_data"
    },
    {
     "data": {
      "application/vnd.jupyter.widget-view+json": {
       "model_id": "5a97ade2ce8a4e72aea5f20053d323af",
       "version_major": 2,
       "version_minor": 0
      },
      "text/plain": [
       "  0%|          | 0/1386 [00:00<?, ?it/s]"
      ]
     },
     "metadata": {},
     "output_type": "display_data"
    },
    {
     "name": "stdout",
     "output_type": "stream",
     "text": [
      "tensor([[0.1541, 0.9135],\n",
      "        [0.9368, 0.6974],\n",
      "        [0.9443, 0.0506],\n",
      "        [0.9195, 0.8769],\n",
      "        [0.9148, 0.8364],\n",
      "        [0.9499, 0.8857],\n",
      "        [0.9318, 0.1531],\n",
      "        [0.0721, 0.8981]], device='cuda:0', grad_fn=<SigmoidBackward0>)\n",
      "Epoch:28, combine_score:0.041153, cls_loss:355.845825, transfer_loss:692.584106, total_loss:1048.429932\n",
      "\n"
     ]
    },
    {
     "data": {
      "application/vnd.jupyter.widget-view+json": {
       "model_id": "61457d9ac5cd466c9c18ff4ade5b0f5c",
       "version_major": 2,
       "version_minor": 0
      },
      "text/plain": [
       "  0%|          | 0/1000 [00:00<?, ?it/s]"
      ]
     },
     "metadata": {},
     "output_type": "display_data"
    },
    {
     "data": {
      "application/vnd.jupyter.widget-view+json": {
       "model_id": "cc2b99a0df2e441f99a209f26ad44a89",
       "version_major": 2,
       "version_minor": 0
      },
      "text/plain": [
       "  0%|          | 0/1386 [00:00<?, ?it/s]"
      ]
     },
     "metadata": {},
     "output_type": "display_data"
    },
    {
     "name": "stdout",
     "output_type": "stream",
     "text": [
      "tensor([[0.1202, 0.9121],\n",
      "        [0.9070, 0.8462],\n",
      "        [0.9417, 0.0312],\n",
      "        [0.9145, 0.8710],\n",
      "        [0.9106, 0.8397],\n",
      "        [0.9240, 0.8946],\n",
      "        [0.9267, 0.1583],\n",
      "        [0.1570, 0.8877]], device='cuda:0', grad_fn=<SigmoidBackward0>)\n",
      "Epoch:29, combine_score:0.038395, cls_loss:349.613342, transfer_loss:690.580688, total_loss:1040.193970\n",
      "\n"
     ]
    },
    {
     "data": {
      "application/vnd.jupyter.widget-view+json": {
       "model_id": "cdc53cd6ed6a4130a3f8e3429c787ce0",
       "version_major": 2,
       "version_minor": 0
      },
      "text/plain": [
       "  0%|          | 0/1000 [00:00<?, ?it/s]"
      ]
     },
     "metadata": {},
     "output_type": "display_data"
    },
    {
     "data": {
      "application/vnd.jupyter.widget-view+json": {
       "model_id": "d55cfe3ac3ac4645a61fabd9791bfc7d",
       "version_major": 2,
       "version_minor": 0
      },
      "text/plain": [
       "  0%|          | 0/1386 [00:00<?, ?it/s]"
      ]
     },
     "metadata": {},
     "output_type": "display_data"
    },
    {
     "name": "stdout",
     "output_type": "stream",
     "text": [
      "tensor([[0.7716, 0.9185],\n",
      "        [0.9386, 0.7538],\n",
      "        [0.9462, 0.0309],\n",
      "        [0.9378, 0.7469],\n",
      "        [0.9249, 0.7202],\n",
      "        [0.9506, 0.8527],\n",
      "        [0.9324, 0.1353],\n",
      "        [0.1824, 0.8759]], device='cuda:0', grad_fn=<SigmoidBackward0>)\n",
      "Epoch:30, combine_score:0.041357, cls_loss:354.627106, transfer_loss:691.613464, total_loss:1046.239868\n",
      "\n"
     ]
    },
    {
     "data": {
      "application/vnd.jupyter.widget-view+json": {
       "model_id": "60664186f0424fa48ecc6e1c41208872",
       "version_major": 2,
       "version_minor": 0
      },
      "text/plain": [
       "  0%|          | 0/1000 [00:00<?, ?it/s]"
      ]
     },
     "metadata": {},
     "output_type": "display_data"
    },
    {
     "data": {
      "application/vnd.jupyter.widget-view+json": {
       "model_id": "e8597b1edc19488f9d4401fdd5f42075",
       "version_major": 2,
       "version_minor": 0
      },
      "text/plain": [
       "  0%|          | 0/1386 [00:00<?, ?it/s]"
      ]
     },
     "metadata": {},
     "output_type": "display_data"
    },
    {
     "name": "stdout",
     "output_type": "stream",
     "text": [
      "tensor([[0.5424, 0.9065],\n",
      "        [0.9322, 0.8438],\n",
      "        [0.9331, 0.0578],\n",
      "        [0.9289, 0.8479],\n",
      "        [0.9126, 0.8197],\n",
      "        [0.9384, 0.8867],\n",
      "        [0.9260, 0.2418],\n",
      "        [0.0880, 0.8846]], device='cuda:0', grad_fn=<SigmoidBackward0>)\n",
      "Epoch:31, combine_score:0.037139, cls_loss:347.982544, transfer_loss:691.314392, total_loss:1039.296631\n",
      "\n"
     ]
    },
    {
     "data": {
      "application/vnd.jupyter.widget-view+json": {
       "model_id": "381566644a0c4033af8f1624ddd98439",
       "version_major": 2,
       "version_minor": 0
      },
      "text/plain": [
       "  0%|          | 0/1000 [00:00<?, ?it/s]"
      ]
     },
     "metadata": {},
     "output_type": "display_data"
    },
    {
     "data": {
      "application/vnd.jupyter.widget-view+json": {
       "model_id": "44a6a29a7ee54b98b756ad6c16349de3",
       "version_major": 2,
       "version_minor": 0
      },
      "text/plain": [
       "  0%|          | 0/1386 [00:00<?, ?it/s]"
      ]
     },
     "metadata": {},
     "output_type": "display_data"
    },
    {
     "name": "stdout",
     "output_type": "stream",
     "text": [
      "tensor([[0.2755, 0.9059],\n",
      "        [0.9283, 0.8250],\n",
      "        [0.9397, 0.0461],\n",
      "        [0.9178, 0.8574],\n",
      "        [0.8804, 0.8567],\n",
      "        [0.8267, 0.8943],\n",
      "        [0.9373, 0.2158],\n",
      "        [0.0591, 0.8878]], device='cuda:0', grad_fn=<SigmoidBackward0>)\n",
      "Epoch:32, combine_score:0.036820, cls_loss:346.030884, transfer_loss:690.935730, total_loss:1036.966797\n",
      "\n"
     ]
    },
    {
     "data": {
      "application/vnd.jupyter.widget-view+json": {
       "model_id": "9d418d92a55c4ca0bbde30a7e5fedcb6",
       "version_major": 2,
       "version_minor": 0
      },
      "text/plain": [
       "  0%|          | 0/1000 [00:00<?, ?it/s]"
      ]
     },
     "metadata": {},
     "output_type": "display_data"
    },
    {
     "data": {
      "application/vnd.jupyter.widget-view+json": {
       "model_id": "8b2a37eaa0fa47aab5836bc850a3e829",
       "version_major": 2,
       "version_minor": 0
      },
      "text/plain": [
       "  0%|          | 0/1386 [00:00<?, ?it/s]"
      ]
     },
     "metadata": {},
     "output_type": "display_data"
    },
    {
     "name": "stdout",
     "output_type": "stream",
     "text": [
      "tensor([[0.5278, 0.9017],\n",
      "        [0.9253, 0.5862],\n",
      "        [0.9444, 0.0358],\n",
      "        [0.9275, 0.8547],\n",
      "        [0.8936, 0.8530],\n",
      "        [0.9241, 0.8782],\n",
      "        [0.9350, 0.0816],\n",
      "        [0.0667, 0.8909]], device='cuda:0', grad_fn=<SigmoidBackward0>)\n",
      "Epoch:33, combine_score:0.034280, cls_loss:345.800018, transfer_loss:689.424500, total_loss:1035.224487\n",
      "\n"
     ]
    },
    {
     "data": {
      "application/vnd.jupyter.widget-view+json": {
       "model_id": "494367fa67a94c188fde77ecfd1d758b",
       "version_major": 2,
       "version_minor": 0
      },
      "text/plain": [
       "  0%|          | 0/1000 [00:00<?, ?it/s]"
      ]
     },
     "metadata": {},
     "output_type": "display_data"
    },
    {
     "data": {
      "application/vnd.jupyter.widget-view+json": {
       "model_id": "b8c2d665ae444bac91311fd7c49cc99c",
       "version_major": 2,
       "version_minor": 0
      },
      "text/plain": [
       "  0%|          | 0/1386 [00:00<?, ?it/s]"
      ]
     },
     "metadata": {},
     "output_type": "display_data"
    },
    {
     "name": "stdout",
     "output_type": "stream",
     "text": [
      "tensor([[0.7802, 0.9045],\n",
      "        [0.9364, 0.6642],\n",
      "        [0.9444, 0.0395],\n",
      "        [0.9414, 0.8262],\n",
      "        [0.9205, 0.8175],\n",
      "        [0.9491, 0.8402],\n",
      "        [0.9332, 0.1064],\n",
      "        [0.1265, 0.8764]], device='cuda:0', grad_fn=<SigmoidBackward0>)\n",
      "Epoch:34, combine_score:0.037066, cls_loss:348.104553, transfer_loss:691.035217, total_loss:1039.140381\n",
      "\n"
     ]
    },
    {
     "data": {
      "application/vnd.jupyter.widget-view+json": {
       "model_id": "045fd06aef59474880d84d2363529618",
       "version_major": 2,
       "version_minor": 0
      },
      "text/plain": [
       "  0%|          | 0/1000 [00:00<?, ?it/s]"
      ]
     },
     "metadata": {},
     "output_type": "display_data"
    },
    {
     "data": {
      "application/vnd.jupyter.widget-view+json": {
       "model_id": "f3cf42a1466a4751b3325b3f9b0f14d1",
       "version_major": 2,
       "version_minor": 0
      },
      "text/plain": [
       "  0%|          | 0/1386 [00:00<?, ?it/s]"
      ]
     },
     "metadata": {},
     "output_type": "display_data"
    },
    {
     "name": "stdout",
     "output_type": "stream",
     "text": [
      "tensor([[0.5793, 0.9222],\n",
      "        [0.9378, 0.8221],\n",
      "        [0.9474, 0.0435],\n",
      "        [0.9271, 0.8979],\n",
      "        [0.9206, 0.8612],\n",
      "        [0.9520, 0.8830],\n",
      "        [0.9314, 0.1321],\n",
      "        [0.1346, 0.8880]], device='cuda:0', grad_fn=<SigmoidBackward0>)\n",
      "Epoch:35, combine_score:0.032536, cls_loss:342.326263, transfer_loss:688.950562, total_loss:1031.276123\n",
      "\n"
     ]
    },
    {
     "data": {
      "application/vnd.jupyter.widget-view+json": {
       "model_id": "8089a935fd5f4a49bbe5dac0f0798091",
       "version_major": 2,
       "version_minor": 0
      },
      "text/plain": [
       "  0%|          | 0/1000 [00:00<?, ?it/s]"
      ]
     },
     "metadata": {},
     "output_type": "display_data"
    },
    {
     "data": {
      "application/vnd.jupyter.widget-view+json": {
       "model_id": "eee76acebafb450eab11b84eabec83c9",
       "version_major": 2,
       "version_minor": 0
      },
      "text/plain": [
       "  0%|          | 0/1386 [00:00<?, ?it/s]"
      ]
     },
     "metadata": {},
     "output_type": "display_data"
    },
    {
     "name": "stdout",
     "output_type": "stream",
     "text": [
      "tensor([[0.1317, 0.9013],\n",
      "        [0.9208, 0.8182],\n",
      "        [0.9478, 0.0243],\n",
      "        [0.9154, 0.8837],\n",
      "        [0.9236, 0.7829],\n",
      "        [0.9393, 0.8918],\n",
      "        [0.9259, 0.1005],\n",
      "        [0.0915, 0.8760]], device='cuda:0', grad_fn=<SigmoidBackward0>)\n",
      "Epoch:36, combine_score:0.036155, cls_loss:341.802948, transfer_loss:690.713440, total_loss:1032.515991\n",
      "\n"
     ]
    },
    {
     "data": {
      "application/vnd.jupyter.widget-view+json": {
       "model_id": "15222fbef43142f58468ef1f7bab43bc",
       "version_major": 2,
       "version_minor": 0
      },
      "text/plain": [
       "  0%|          | 0/1000 [00:00<?, ?it/s]"
      ]
     },
     "metadata": {},
     "output_type": "display_data"
    },
    {
     "data": {
      "application/vnd.jupyter.widget-view+json": {
       "model_id": "aedf109480914c77b8285fdced61993c",
       "version_major": 2,
       "version_minor": 0
      },
      "text/plain": [
       "  0%|          | 0/1386 [00:00<?, ?it/s]"
      ]
     },
     "metadata": {},
     "output_type": "display_data"
    },
    {
     "name": "stdout",
     "output_type": "stream",
     "text": [
      "tensor([[0.1870, 0.9127],\n",
      "        [0.8451, 0.8899],\n",
      "        [0.9427, 0.0311],\n",
      "        [0.9342, 0.8792],\n",
      "        [0.6758, 0.8877],\n",
      "        [0.9019, 0.9198],\n",
      "        [0.9352, 0.0972],\n",
      "        [0.0351, 0.8937]], device='cuda:0', grad_fn=<SigmoidBackward0>)\n",
      "Epoch:37, combine_score:0.033782, cls_loss:343.545105, transfer_loss:691.524780, total_loss:1035.070190\n",
      "\n"
     ]
    },
    {
     "data": {
      "application/vnd.jupyter.widget-view+json": {
       "model_id": "ad4c56e8d9c24ea48fa50202cba02dc0",
       "version_major": 2,
       "version_minor": 0
      },
      "text/plain": [
       "  0%|          | 0/1000 [00:00<?, ?it/s]"
      ]
     },
     "metadata": {},
     "output_type": "display_data"
    },
    {
     "data": {
      "application/vnd.jupyter.widget-view+json": {
       "model_id": "8d9fac1ad9f348dd99633ac79d10dd48",
       "version_major": 2,
       "version_minor": 0
      },
      "text/plain": [
       "  0%|          | 0/1386 [00:00<?, ?it/s]"
      ]
     },
     "metadata": {},
     "output_type": "display_data"
    },
    {
     "name": "stdout",
     "output_type": "stream",
     "text": [
      "tensor([[0.2852, 0.9086],\n",
      "        [0.9038, 0.8498],\n",
      "        [0.9473, 0.0287],\n",
      "        [0.9123, 0.8839],\n",
      "        [0.9044, 0.8581],\n",
      "        [0.9513, 0.8732],\n",
      "        [0.9355, 0.1052],\n",
      "        [0.0788, 0.8786]], device='cuda:0', grad_fn=<SigmoidBackward0>)\n",
      "Epoch:38, combine_score:0.035019, cls_loss:334.644440, transfer_loss:690.961304, total_loss:1025.606201\n",
      "\n"
     ]
    },
    {
     "data": {
      "application/vnd.jupyter.widget-view+json": {
       "model_id": "230aff9c88964538ab258d2f1a9331f1",
       "version_major": 2,
       "version_minor": 0
      },
      "text/plain": [
       "  0%|          | 0/1000 [00:00<?, ?it/s]"
      ]
     },
     "metadata": {},
     "output_type": "display_data"
    },
    {
     "data": {
      "application/vnd.jupyter.widget-view+json": {
       "model_id": "01be61fcbf59493c9e9ff0eaac6924a6",
       "version_major": 2,
       "version_minor": 0
      },
      "text/plain": [
       "  0%|          | 0/1386 [00:00<?, ?it/s]"
      ]
     },
     "metadata": {},
     "output_type": "display_data"
    },
    {
     "name": "stdout",
     "output_type": "stream",
     "text": [
      "tensor([[0.3393, 0.9142],\n",
      "        [0.9388, 0.7694],\n",
      "        [0.9455, 0.0467],\n",
      "        [0.9400, 0.7579],\n",
      "        [0.9140, 0.8574],\n",
      "        [0.9548, 0.8776],\n",
      "        [0.9394, 0.0721],\n",
      "        [0.0878, 0.8912]], device='cuda:0', grad_fn=<SigmoidBackward0>)\n",
      "Epoch:39, combine_score:0.034411, cls_loss:345.935150, transfer_loss:687.496521, total_loss:1033.431641\n",
      "\n"
     ]
    },
    {
     "data": {
      "application/vnd.jupyter.widget-view+json": {
       "model_id": "e19dcf9650bd4bbea56693049b189dd8",
       "version_major": 2,
       "version_minor": 0
      },
      "text/plain": [
       "  0%|          | 0/1000 [00:00<?, ?it/s]"
      ]
     },
     "metadata": {},
     "output_type": "display_data"
    },
    {
     "data": {
      "application/vnd.jupyter.widget-view+json": {
       "model_id": "9069c4a2e20640f58896b92385ef198a",
       "version_major": 2,
       "version_minor": 0
      },
      "text/plain": [
       "  0%|          | 0/1386 [00:00<?, ?it/s]"
      ]
     },
     "metadata": {},
     "output_type": "display_data"
    },
    {
     "name": "stdout",
     "output_type": "stream",
     "text": [
      "tensor([[0.4685, 0.9260],\n",
      "        [0.9415, 0.8038],\n",
      "        [0.9500, 0.0334],\n",
      "        [0.9393, 0.8210],\n",
      "        [0.9150, 0.8660],\n",
      "        [0.9468, 0.9180],\n",
      "        [0.9393, 0.0614],\n",
      "        [0.0564, 0.8965]], device='cuda:0', grad_fn=<SigmoidBackward0>)\n",
      "Epoch:40, combine_score:0.032693, cls_loss:336.694733, transfer_loss:691.396057, total_loss:1028.091431\n",
      "\n"
     ]
    },
    {
     "data": {
      "application/vnd.jupyter.widget-view+json": {
       "model_id": "2045d501afb74c49ad3f85c820db55f0",
       "version_major": 2,
       "version_minor": 0
      },
      "text/plain": [
       "  0%|          | 0/1000 [00:00<?, ?it/s]"
      ]
     },
     "metadata": {},
     "output_type": "display_data"
    },
    {
     "data": {
      "application/vnd.jupyter.widget-view+json": {
       "model_id": "fee2bde5d0964b83b120ac1cb9e07385",
       "version_major": 2,
       "version_minor": 0
      },
      "text/plain": [
       "  0%|          | 0/1386 [00:00<?, ?it/s]"
      ]
     },
     "metadata": {},
     "output_type": "display_data"
    },
    {
     "name": "stdout",
     "output_type": "stream",
     "text": [
      "tensor([[0.5760, 0.9183],\n",
      "        [0.9352, 0.8137],\n",
      "        [0.9433, 0.0466],\n",
      "        [0.9428, 0.7661],\n",
      "        [0.8725, 0.8918],\n",
      "        [0.9516, 0.8952],\n",
      "        [0.9395, 0.0683],\n",
      "        [0.0982, 0.8885]], device='cuda:0', grad_fn=<SigmoidBackward0>)\n",
      "Epoch:41, combine_score:0.034428, cls_loss:333.807404, transfer_loss:690.439819, total_loss:1024.247070\n",
      "\n"
     ]
    },
    {
     "data": {
      "application/vnd.jupyter.widget-view+json": {
       "model_id": "7ca56e15cebe44d897f8b69ff95e295d",
       "version_major": 2,
       "version_minor": 0
      },
      "text/plain": [
       "  0%|          | 0/1000 [00:00<?, ?it/s]"
      ]
     },
     "metadata": {},
     "output_type": "display_data"
    },
    {
     "data": {
      "application/vnd.jupyter.widget-view+json": {
       "model_id": "c39344837a2d42c1be4a2b7a680cb8b8",
       "version_major": 2,
       "version_minor": 0
      },
      "text/plain": [
       "  0%|          | 0/1386 [00:00<?, ?it/s]"
      ]
     },
     "metadata": {},
     "output_type": "display_data"
    },
    {
     "name": "stdout",
     "output_type": "stream",
     "text": [
      "tensor([[0.1649, 0.9120],\n",
      "        [0.9129, 0.8927],\n",
      "        [0.9405, 0.0699],\n",
      "        [0.8996, 0.9020],\n",
      "        [0.8973, 0.8935],\n",
      "        [0.9287, 0.9228],\n",
      "        [0.9284, 0.1672],\n",
      "        [0.0532, 0.8997]], device='cuda:0', grad_fn=<SigmoidBackward0>)\n",
      "Epoch:42, combine_score:0.036040, cls_loss:333.357391, transfer_loss:689.960449, total_loss:1023.317200\n",
      "\n"
     ]
    },
    {
     "data": {
      "application/vnd.jupyter.widget-view+json": {
       "model_id": "7f1044a66c4d47d88c98381dc4a71fa5",
       "version_major": 2,
       "version_minor": 0
      },
      "text/plain": [
       "  0%|          | 0/1000 [00:00<?, ?it/s]"
      ]
     },
     "metadata": {},
     "output_type": "display_data"
    },
    {
     "data": {
      "application/vnd.jupyter.widget-view+json": {
       "model_id": "8873316191ae4eb080cc89368955b93a",
       "version_major": 2,
       "version_minor": 0
      },
      "text/plain": [
       "  0%|          | 0/1386 [00:00<?, ?it/s]"
      ]
     },
     "metadata": {},
     "output_type": "display_data"
    },
    {
     "name": "stdout",
     "output_type": "stream",
     "text": [
      "tensor([[0.2591, 0.9058],\n",
      "        [0.9392, 0.6405],\n",
      "        [0.9544, 0.0154],\n",
      "        [0.9302, 0.8063],\n",
      "        [0.9201, 0.8546],\n",
      "        [0.9581, 0.8663],\n",
      "        [0.9449, 0.0363],\n",
      "        [0.0551, 0.9015]], device='cuda:0', grad_fn=<SigmoidBackward0>)\n",
      "Epoch:43, combine_score:0.035877, cls_loss:334.118622, transfer_loss:689.837036, total_loss:1023.955872\n",
      "\n"
     ]
    },
    {
     "data": {
      "application/vnd.jupyter.widget-view+json": {
       "model_id": "08a4da6ee59344ae8d4933bfcd287e65",
       "version_major": 2,
       "version_minor": 0
      },
      "text/plain": [
       "  0%|          | 0/1000 [00:00<?, ?it/s]"
      ]
     },
     "metadata": {},
     "output_type": "display_data"
    },
    {
     "data": {
      "application/vnd.jupyter.widget-view+json": {
       "model_id": "5e915ccaabd74f42b51f52d381185902",
       "version_major": 2,
       "version_minor": 0
      },
      "text/plain": [
       "  0%|          | 0/1386 [00:00<?, ?it/s]"
      ]
     },
     "metadata": {},
     "output_type": "display_data"
    },
    {
     "name": "stdout",
     "output_type": "stream",
     "text": [
      "tensor([[0.3590, 0.9232],\n",
      "        [0.9231, 0.8390],\n",
      "        [0.9417, 0.0544],\n",
      "        [0.9383, 0.8070],\n",
      "        [0.8504, 0.9067],\n",
      "        [0.9223, 0.9219],\n",
      "        [0.9357, 0.0912],\n",
      "        [0.0575, 0.9037]], device='cuda:0', grad_fn=<SigmoidBackward0>)\n",
      "Epoch:44, combine_score:0.032401, cls_loss:331.932861, transfer_loss:690.145935, total_loss:1022.077759\n",
      "\n"
     ]
    },
    {
     "data": {
      "application/vnd.jupyter.widget-view+json": {
       "model_id": "e8006bfab530443ab1ed9abda2608f0e",
       "version_major": 2,
       "version_minor": 0
      },
      "text/plain": [
       "  0%|          | 0/1000 [00:00<?, ?it/s]"
      ]
     },
     "metadata": {},
     "output_type": "display_data"
    },
    {
     "data": {
      "application/vnd.jupyter.widget-view+json": {
       "model_id": "8c9576c459e84bd58910019724924e98",
       "version_major": 2,
       "version_minor": 0
      },
      "text/plain": [
       "  0%|          | 0/1386 [00:00<?, ?it/s]"
      ]
     },
     "metadata": {},
     "output_type": "display_data"
    },
    {
     "name": "stdout",
     "output_type": "stream",
     "text": [
      "tensor([[0.7887, 0.9300],\n",
      "        [0.9299, 0.4855],\n",
      "        [0.9484, 0.0237],\n",
      "        [0.9400, 0.8599],\n",
      "        [0.9180, 0.8534],\n",
      "        [0.9486, 0.8542],\n",
      "        [0.9337, 0.0636],\n",
      "        [0.1040, 0.8979]], device='cuda:0', grad_fn=<SigmoidBackward0>)\n",
      "Epoch:45, combine_score:0.031697, cls_loss:333.385406, transfer_loss:691.271545, total_loss:1024.657593\n",
      "\n"
     ]
    },
    {
     "data": {
      "application/vnd.jupyter.widget-view+json": {
       "model_id": "a14da045df3d49a889e86043f4afdddf",
       "version_major": 2,
       "version_minor": 0
      },
      "text/plain": [
       "  0%|          | 0/1000 [00:00<?, ?it/s]"
      ]
     },
     "metadata": {},
     "output_type": "display_data"
    },
    {
     "data": {
      "application/vnd.jupyter.widget-view+json": {
       "model_id": "bd3ea8abaa17418daa1d6e68dbc60bcb",
       "version_major": 2,
       "version_minor": 0
      },
      "text/plain": [
       "  0%|          | 0/1386 [00:00<?, ?it/s]"
      ]
     },
     "metadata": {},
     "output_type": "display_data"
    },
    {
     "name": "stdout",
     "output_type": "stream",
     "text": [
      "tensor([[0.8187, 0.9182],\n",
      "        [0.8923, 0.7921],\n",
      "        [0.9463, 0.0172],\n",
      "        [0.9298, 0.7964],\n",
      "        [0.9182, 0.7729],\n",
      "        [0.9130, 0.8953],\n",
      "        [0.9365, 0.0506],\n",
      "        [0.3104, 0.8808]], device='cuda:0', grad_fn=<SigmoidBackward0>)\n",
      "Epoch:46, combine_score:0.034558, cls_loss:334.230927, transfer_loss:687.888184, total_loss:1022.119019\n",
      "\n"
     ]
    },
    {
     "data": {
      "application/vnd.jupyter.widget-view+json": {
       "model_id": "867d0ba7f715488c95dee132cc3a511e",
       "version_major": 2,
       "version_minor": 0
      },
      "text/plain": [
       "  0%|          | 0/1000 [00:00<?, ?it/s]"
      ]
     },
     "metadata": {},
     "output_type": "display_data"
    },
    {
     "data": {
      "application/vnd.jupyter.widget-view+json": {
       "model_id": "164c169ea6054cb086abdbd344643c0a",
       "version_major": 2,
       "version_minor": 0
      },
      "text/plain": [
       "  0%|          | 0/1386 [00:00<?, ?it/s]"
      ]
     },
     "metadata": {},
     "output_type": "display_data"
    },
    {
     "name": "stdout",
     "output_type": "stream",
     "text": [
      "tensor([[0.3803, 0.9246],\n",
      "        [0.9368, 0.8778],\n",
      "        [0.9506, 0.0644],\n",
      "        [0.9397, 0.8644],\n",
      "        [0.8429, 0.9135],\n",
      "        [0.8346, 0.9307],\n",
      "        [0.9409, 0.1255],\n",
      "        [0.0424, 0.9035]], device='cuda:0', grad_fn=<SigmoidBackward0>)\n",
      "Epoch:47, combine_score:0.032510, cls_loss:334.102997, transfer_loss:690.316833, total_loss:1024.419678\n",
      "\n"
     ]
    },
    {
     "data": {
      "application/vnd.jupyter.widget-view+json": {
       "model_id": "f8b25ea402ac4b7586748ba6e9c4270c",
       "version_major": 2,
       "version_minor": 0
      },
      "text/plain": [
       "  0%|          | 0/1000 [00:00<?, ?it/s]"
      ]
     },
     "metadata": {},
     "output_type": "display_data"
    },
    {
     "data": {
      "application/vnd.jupyter.widget-view+json": {
       "model_id": "fdca9f5689a4457aaf2d2e0ccb6d8d92",
       "version_major": 2,
       "version_minor": 0
      },
      "text/plain": [
       "  0%|          | 0/1386 [00:00<?, ?it/s]"
      ]
     },
     "metadata": {},
     "output_type": "display_data"
    },
    {
     "name": "stdout",
     "output_type": "stream",
     "text": [
      "tensor([[0.4213, 0.9212],\n",
      "        [0.9392, 0.8354],\n",
      "        [0.9447, 0.0127],\n",
      "        [0.9479, 0.8338],\n",
      "        [0.9226, 0.8275],\n",
      "        [0.9484, 0.9143],\n",
      "        [0.9347, 0.0475],\n",
      "        [0.2316, 0.8884]], device='cuda:0', grad_fn=<SigmoidBackward0>)\n",
      "Epoch:48, combine_score:0.030896, cls_loss:326.275116, transfer_loss:691.906006, total_loss:1018.181519\n",
      "\n"
     ]
    },
    {
     "data": {
      "application/vnd.jupyter.widget-view+json": {
       "model_id": "f4e4dc5463344730933231d15eab2d61",
       "version_major": 2,
       "version_minor": 0
      },
      "text/plain": [
       "  0%|          | 0/1000 [00:00<?, ?it/s]"
      ]
     },
     "metadata": {},
     "output_type": "display_data"
    },
    {
     "data": {
      "application/vnd.jupyter.widget-view+json": {
       "model_id": "c819e5b21d1549c09e21136864b85b8f",
       "version_major": 2,
       "version_minor": 0
      },
      "text/plain": [
       "  0%|          | 0/1386 [00:00<?, ?it/s]"
      ]
     },
     "metadata": {},
     "output_type": "display_data"
    },
    {
     "name": "stdout",
     "output_type": "stream",
     "text": [
      "tensor([[0.4206, 0.9190],\n",
      "        [0.9300, 0.8875],\n",
      "        [0.9381, 0.0577],\n",
      "        [0.9390, 0.8594],\n",
      "        [0.8137, 0.9060],\n",
      "        [0.8960, 0.9211],\n",
      "        [0.9335, 0.2179],\n",
      "        [0.0709, 0.8975]], device='cuda:0', grad_fn=<SigmoidBackward0>)\n",
      "Epoch:49, combine_score:0.033167, cls_loss:327.574036, transfer_loss:690.955872, total_loss:1018.530090\n",
      "\n"
     ]
    },
    {
     "data": {
      "application/vnd.jupyter.widget-view+json": {
       "model_id": "2c235da7bdeb45ab85e57de8d01885b0",
       "version_major": 2,
       "version_minor": 0
      },
      "text/plain": [
       "  0%|          | 0/1000 [00:00<?, ?it/s]"
      ]
     },
     "metadata": {},
     "output_type": "display_data"
    },
    {
     "data": {
      "application/vnd.jupyter.widget-view+json": {
       "model_id": "f82d07681b294b2ca9ce221eb5670dd1",
       "version_major": 2,
       "version_minor": 0
      },
      "text/plain": [
       "  0%|          | 0/1386 [00:00<?, ?it/s]"
      ]
     },
     "metadata": {},
     "output_type": "display_data"
    },
    {
     "name": "stdout",
     "output_type": "stream",
     "text": [
      "tensor([[0.6649, 0.9221],\n",
      "        [0.9267, 0.7798],\n",
      "        [0.9383, 0.0270],\n",
      "        [0.9309, 0.8132],\n",
      "        [0.8943, 0.8628],\n",
      "        [0.9284, 0.9073],\n",
      "        [0.9343, 0.0633],\n",
      "        [0.2138, 0.8903]], device='cuda:0', grad_fn=<SigmoidBackward0>)\n",
      "Epoch:50, combine_score:0.034214, cls_loss:330.046539, transfer_loss:690.204651, total_loss:1020.250610\n",
      "\n"
     ]
    },
    {
     "data": {
      "application/vnd.jupyter.widget-view+json": {
       "model_id": "e047b7a0025d465ea5593ea06068b643",
       "version_major": 2,
       "version_minor": 0
      },
      "text/plain": [
       "  0%|          | 0/1000 [00:00<?, ?it/s]"
      ]
     },
     "metadata": {},
     "output_type": "display_data"
    },
    {
     "data": {
      "application/vnd.jupyter.widget-view+json": {
       "model_id": "9bd532b1bedb4ab980173470a4d3588b",
       "version_major": 2,
       "version_minor": 0
      },
      "text/plain": [
       "  0%|          | 0/1386 [00:00<?, ?it/s]"
      ]
     },
     "metadata": {},
     "output_type": "display_data"
    },
    {
     "name": "stdout",
     "output_type": "stream",
     "text": [
      "tensor([[0.4748, 0.9190],\n",
      "        [0.9274, 0.8318],\n",
      "        [0.9331, 0.0927],\n",
      "        [0.9285, 0.8591],\n",
      "        [0.8947, 0.9099],\n",
      "        [0.9330, 0.9242],\n",
      "        [0.9276, 0.1799],\n",
      "        [0.1127, 0.9007]], device='cuda:0', grad_fn=<SigmoidBackward0>)\n",
      "Epoch:51, combine_score:0.032230, cls_loss:329.217773, transfer_loss:691.258728, total_loss:1020.476318\n",
      "\n"
     ]
    },
    {
     "data": {
      "application/vnd.jupyter.widget-view+json": {
       "model_id": "90ae4995278744649ffa67c163cf8099",
       "version_major": 2,
       "version_minor": 0
      },
      "text/plain": [
       "  0%|          | 0/1000 [00:00<?, ?it/s]"
      ]
     },
     "metadata": {},
     "output_type": "display_data"
    },
    {
     "data": {
      "application/vnd.jupyter.widget-view+json": {
       "model_id": "e3528d8aaac44e8f8b66083fd170c471",
       "version_major": 2,
       "version_minor": 0
      },
      "text/plain": [
       "  0%|          | 0/1386 [00:00<?, ?it/s]"
      ]
     },
     "metadata": {},
     "output_type": "display_data"
    },
    {
     "name": "stdout",
     "output_type": "stream",
     "text": [
      "tensor([[0.4260, 0.9156],\n",
      "        [0.9210, 0.8704],\n",
      "        [0.9439, 0.0251],\n",
      "        [0.8850, 0.8741],\n",
      "        [0.8751, 0.8684],\n",
      "        [0.9280, 0.9122],\n",
      "        [0.9334, 0.0958],\n",
      "        [0.1101, 0.8872]], device='cuda:0', grad_fn=<SigmoidBackward0>)\n",
      "Epoch:52, combine_score:0.032040, cls_loss:325.582916, transfer_loss:690.811279, total_loss:1016.394226\n",
      "\n"
     ]
    },
    {
     "data": {
      "application/vnd.jupyter.widget-view+json": {
       "model_id": "1f75e4213fcd43a7a703644df08b74f2",
       "version_major": 2,
       "version_minor": 0
      },
      "text/plain": [
       "  0%|          | 0/1000 [00:00<?, ?it/s]"
      ]
     },
     "metadata": {},
     "output_type": "display_data"
    },
    {
     "data": {
      "application/vnd.jupyter.widget-view+json": {
       "model_id": "713349c88cf84a43a6fb2e7e5e76e851",
       "version_major": 2,
       "version_minor": 0
      },
      "text/plain": [
       "  0%|          | 0/1386 [00:00<?, ?it/s]"
      ]
     },
     "metadata": {},
     "output_type": "display_data"
    },
    {
     "name": "stdout",
     "output_type": "stream",
     "text": [
      "tensor([[0.4705, 0.9212],\n",
      "        [0.9343, 0.8648],\n",
      "        [0.9549, 0.0139],\n",
      "        [0.9342, 0.8454],\n",
      "        [0.9015, 0.8741],\n",
      "        [0.9392, 0.9152],\n",
      "        [0.9453, 0.0643],\n",
      "        [0.1760, 0.8923]], device='cuda:0', grad_fn=<SigmoidBackward0>)\n",
      "Epoch:53, combine_score:0.032748, cls_loss:327.180481, transfer_loss:690.276001, total_loss:1017.456360\n",
      "\n"
     ]
    },
    {
     "data": {
      "application/vnd.jupyter.widget-view+json": {
       "model_id": "65a75b5847804fc78b8d1fb992cf389f",
       "version_major": 2,
       "version_minor": 0
      },
      "text/plain": [
       "  0%|          | 0/1000 [00:00<?, ?it/s]"
      ]
     },
     "metadata": {},
     "output_type": "display_data"
    },
    {
     "data": {
      "application/vnd.jupyter.widget-view+json": {
       "model_id": "64660e8a845c4d468a4198a0d49243d3",
       "version_major": 2,
       "version_minor": 0
      },
      "text/plain": [
       "  0%|          | 0/1386 [00:00<?, ?it/s]"
      ]
     },
     "metadata": {},
     "output_type": "display_data"
    },
    {
     "name": "stdout",
     "output_type": "stream",
     "text": [
      "tensor([[0.8477, 0.9297],\n",
      "        [0.9304, 0.7325],\n",
      "        [0.9486, 0.0200],\n",
      "        [0.9196, 0.8604],\n",
      "        [0.9114, 0.7808],\n",
      "        [0.9425, 0.8890],\n",
      "        [0.9362, 0.0881],\n",
      "        [0.3177, 0.8827]], device='cuda:0', grad_fn=<SigmoidBackward0>)\n",
      "Epoch:54, combine_score:0.033335, cls_loss:325.306183, transfer_loss:691.526245, total_loss:1016.832886\n",
      "\n"
     ]
    },
    {
     "data": {
      "application/vnd.jupyter.widget-view+json": {
       "model_id": "9b20cb0f12624c37bc1b75d41da9e9c8",
       "version_major": 2,
       "version_minor": 0
      },
      "text/plain": [
       "  0%|          | 0/1000 [00:00<?, ?it/s]"
      ]
     },
     "metadata": {},
     "output_type": "display_data"
    },
    {
     "data": {
      "application/vnd.jupyter.widget-view+json": {
       "model_id": "677d92c5a44f46e9814bcd358f7ea6c5",
       "version_major": 2,
       "version_minor": 0
      },
      "text/plain": [
       "  0%|          | 0/1386 [00:00<?, ?it/s]"
      ]
     },
     "metadata": {},
     "output_type": "display_data"
    },
    {
     "name": "stdout",
     "output_type": "stream",
     "text": [
      "tensor([[0.7290, 0.9261],\n",
      "        [0.9000, 0.8440],\n",
      "        [0.9455, 0.0357],\n",
      "        [0.9265, 0.8030],\n",
      "        [0.8559, 0.8770],\n",
      "        [0.9095, 0.9139],\n",
      "        [0.9358, 0.0990],\n",
      "        [0.0896, 0.8951]], device='cuda:0', grad_fn=<SigmoidBackward0>)\n",
      "Epoch:55, combine_score:0.034825, cls_loss:323.716431, transfer_loss:691.971191, total_loss:1015.687439\n",
      "\n"
     ]
    },
    {
     "data": {
      "application/vnd.jupyter.widget-view+json": {
       "model_id": "d60dfb9eb8394d1790f2d527093797f7",
       "version_major": 2,
       "version_minor": 0
      },
      "text/plain": [
       "  0%|          | 0/1000 [00:00<?, ?it/s]"
      ]
     },
     "metadata": {},
     "output_type": "display_data"
    },
    {
     "data": {
      "application/vnd.jupyter.widget-view+json": {
       "model_id": "5fc56277c932455e9941673a76de8497",
       "version_major": 2,
       "version_minor": 0
      },
      "text/plain": [
       "  0%|          | 0/1386 [00:00<?, ?it/s]"
      ]
     },
     "metadata": {},
     "output_type": "display_data"
    },
    {
     "name": "stdout",
     "output_type": "stream",
     "text": [
      "tensor([[0.7413, 0.9339],\n",
      "        [0.9383, 0.7766],\n",
      "        [0.9422, 0.0357],\n",
      "        [0.8997, 0.8537],\n",
      "        [0.8882, 0.8535],\n",
      "        [0.9393, 0.9053],\n",
      "        [0.9334, 0.0885],\n",
      "        [0.1263, 0.8991]], device='cuda:0', grad_fn=<SigmoidBackward0>)\n",
      "Epoch:56, combine_score:0.034308, cls_loss:325.590088, transfer_loss:691.945984, total_loss:1017.535950\n",
      "\n"
     ]
    },
    {
     "data": {
      "application/vnd.jupyter.widget-view+json": {
       "model_id": "c430a197134943999dc369cf29c02a3c",
       "version_major": 2,
       "version_minor": 0
      },
      "text/plain": [
       "  0%|          | 0/1000 [00:00<?, ?it/s]"
      ]
     },
     "metadata": {},
     "output_type": "display_data"
    },
    {
     "data": {
      "application/vnd.jupyter.widget-view+json": {
       "model_id": "b6d3a33ef61c4c1ea7ef5c3325595742",
       "version_major": 2,
       "version_minor": 0
      },
      "text/plain": [
       "  0%|          | 0/1386 [00:00<?, ?it/s]"
      ]
     },
     "metadata": {},
     "output_type": "display_data"
    },
    {
     "name": "stdout",
     "output_type": "stream",
     "text": [
      "tensor([[0.3492, 0.9139],\n",
      "        [0.9262, 0.7970],\n",
      "        [0.9509, 0.0282],\n",
      "        [0.9170, 0.8527],\n",
      "        [0.8618, 0.8819],\n",
      "        [0.8586, 0.9155],\n",
      "        [0.9437, 0.0569],\n",
      "        [0.0916, 0.8923]], device='cuda:0', grad_fn=<SigmoidBackward0>)\n",
      "Epoch:57, combine_score:0.031518, cls_loss:321.242737, transfer_loss:691.127502, total_loss:1012.369873\n",
      "\n"
     ]
    },
    {
     "data": {
      "application/vnd.jupyter.widget-view+json": {
       "model_id": "182447c68bb14844beef04403fec91e9",
       "version_major": 2,
       "version_minor": 0
      },
      "text/plain": [
       "  0%|          | 0/1000 [00:00<?, ?it/s]"
      ]
     },
     "metadata": {},
     "output_type": "display_data"
    },
    {
     "data": {
      "application/vnd.jupyter.widget-view+json": {
       "model_id": "c02d5e5ab7e541ca92f009177bc50698",
       "version_major": 2,
       "version_minor": 0
      },
      "text/plain": [
       "  0%|          | 0/1386 [00:00<?, ?it/s]"
      ]
     },
     "metadata": {},
     "output_type": "display_data"
    },
    {
     "name": "stdout",
     "output_type": "stream",
     "text": [
      "tensor([[0.4419, 0.9374],\n",
      "        [0.9330, 0.8979],\n",
      "        [0.9423, 0.1069],\n",
      "        [0.8900, 0.8894],\n",
      "        [0.8612, 0.9222],\n",
      "        [0.9348, 0.9426],\n",
      "        [0.9315, 0.2001],\n",
      "        [0.0575, 0.9155]], device='cuda:0', grad_fn=<SigmoidBackward0>)\n",
      "Epoch:58, combine_score:0.032532, cls_loss:325.962860, transfer_loss:690.757324, total_loss:1016.720032\n",
      "\n"
     ]
    },
    {
     "data": {
      "application/vnd.jupyter.widget-view+json": {
       "model_id": "08245c0bef7346f9ba0e43483de018d3",
       "version_major": 2,
       "version_minor": 0
      },
      "text/plain": [
       "  0%|          | 0/1000 [00:00<?, ?it/s]"
      ]
     },
     "metadata": {},
     "output_type": "display_data"
    },
    {
     "data": {
      "application/vnd.jupyter.widget-view+json": {
       "model_id": "718b7342ad634fab86fb55b1ae6b451c",
       "version_major": 2,
       "version_minor": 0
      },
      "text/plain": [
       "  0%|          | 0/1386 [00:00<?, ?it/s]"
      ]
     },
     "metadata": {},
     "output_type": "display_data"
    },
    {
     "name": "stdout",
     "output_type": "stream",
     "text": [
      "tensor([[0.8795, 0.9363],\n",
      "        [0.9403, 0.6262],\n",
      "        [0.9428, 0.0271],\n",
      "        [0.9359, 0.7804],\n",
      "        [0.9257, 0.8326],\n",
      "        [0.9463, 0.9074],\n",
      "        [0.9446, 0.0274],\n",
      "        [0.1155, 0.8895]], device='cuda:0', grad_fn=<SigmoidBackward0>)\n",
      "Epoch:59, combine_score:0.032439, cls_loss:321.709534, transfer_loss:690.703003, total_loss:1012.412842\n",
      "\n"
     ]
    },
    {
     "data": {
      "application/vnd.jupyter.widget-view+json": {
       "model_id": "8afc5274dca84085b8264dabae9fe82d",
       "version_major": 2,
       "version_minor": 0
      },
      "text/plain": [
       "  0%|          | 0/1000 [00:00<?, ?it/s]"
      ]
     },
     "metadata": {},
     "output_type": "display_data"
    },
    {
     "data": {
      "application/vnd.jupyter.widget-view+json": {
       "model_id": "b9ff80652d034721ace209c2ea57fc30",
       "version_major": 2,
       "version_minor": 0
      },
      "text/plain": [
       "  0%|          | 0/1386 [00:00<?, ?it/s]"
      ]
     },
     "metadata": {},
     "output_type": "display_data"
    },
    {
     "name": "stdout",
     "output_type": "stream",
     "text": [
      "tensor([[0.2418, 0.9283],\n",
      "        [0.6059, 0.8872],\n",
      "        [0.9437, 0.0446],\n",
      "        [0.9227, 0.8775],\n",
      "        [0.8783, 0.8850],\n",
      "        [0.8690, 0.9226],\n",
      "        [0.9426, 0.2177],\n",
      "        [0.0688, 0.9131]], device='cuda:0', grad_fn=<SigmoidBackward0>)\n",
      "Epoch:60, combine_score:0.028111, cls_loss:322.118805, transfer_loss:691.190552, total_loss:1013.310486\n",
      "\n"
     ]
    },
    {
     "data": {
      "application/vnd.jupyter.widget-view+json": {
       "model_id": "544bd85de6624ae192a9744ea6eb347d",
       "version_major": 2,
       "version_minor": 0
      },
      "text/plain": [
       "  0%|          | 0/1000 [00:00<?, ?it/s]"
      ]
     },
     "metadata": {},
     "output_type": "display_data"
    },
    {
     "data": {
      "application/vnd.jupyter.widget-view+json": {
       "model_id": "39ad468eda0747f0973fa7db56c82fca",
       "version_major": 2,
       "version_minor": 0
      },
      "text/plain": [
       "  0%|          | 0/1386 [00:00<?, ?it/s]"
      ]
     },
     "metadata": {},
     "output_type": "display_data"
    },
    {
     "name": "stdout",
     "output_type": "stream",
     "text": [
      "tensor([[0.6554, 0.9351],\n",
      "        [0.9308, 0.8585],\n",
      "        [0.9477, 0.0357],\n",
      "        [0.9194, 0.8680],\n",
      "        [0.9050, 0.8830],\n",
      "        [0.9392, 0.9334],\n",
      "        [0.9418, 0.0712],\n",
      "        [0.1504, 0.9027]], device='cuda:0', grad_fn=<SigmoidBackward0>)\n",
      "Epoch:61, combine_score:0.034344, cls_loss:322.736328, transfer_loss:689.316833, total_loss:1012.052795\n",
      "\n"
     ]
    },
    {
     "data": {
      "application/vnd.jupyter.widget-view+json": {
       "model_id": "c328a96cf06848d99feb6fa47a1e3c5e",
       "version_major": 2,
       "version_minor": 0
      },
      "text/plain": [
       "  0%|          | 0/1000 [00:00<?, ?it/s]"
      ]
     },
     "metadata": {},
     "output_type": "display_data"
    },
    {
     "data": {
      "application/vnd.jupyter.widget-view+json": {
       "model_id": "0097a9a1d11d4aa4915831067eb3ec53",
       "version_major": 2,
       "version_minor": 0
      },
      "text/plain": [
       "  0%|          | 0/1386 [00:00<?, ?it/s]"
      ]
     },
     "metadata": {},
     "output_type": "display_data"
    },
    {
     "name": "stdout",
     "output_type": "stream",
     "text": [
      "tensor([[0.3169, 0.9157],\n",
      "        [0.8824, 0.8920],\n",
      "        [0.9443, 0.0285],\n",
      "        [0.9408, 0.8367],\n",
      "        [0.9200, 0.8297],\n",
      "        [0.9274, 0.9137],\n",
      "        [0.9347, 0.1592],\n",
      "        [0.1524, 0.8822]], device='cuda:0', grad_fn=<SigmoidBackward0>)\n",
      "Epoch:62, combine_score:0.031167, cls_loss:320.562378, transfer_loss:687.917725, total_loss:1008.480774\n",
      "\n"
     ]
    },
    {
     "data": {
      "application/vnd.jupyter.widget-view+json": {
       "model_id": "20abcbe979fb4a0caed65877898165b8",
       "version_major": 2,
       "version_minor": 0
      },
      "text/plain": [
       "  0%|          | 0/1000 [00:00<?, ?it/s]"
      ]
     },
     "metadata": {},
     "output_type": "display_data"
    },
    {
     "data": {
      "application/vnd.jupyter.widget-view+json": {
       "model_id": "52dc99250703492d9958872ba91680a1",
       "version_major": 2,
       "version_minor": 0
      },
      "text/plain": [
       "  0%|          | 0/1386 [00:00<?, ?it/s]"
      ]
     },
     "metadata": {},
     "output_type": "display_data"
    },
    {
     "name": "stdout",
     "output_type": "stream",
     "text": [
      "tensor([[0.8389, 0.9372],\n",
      "        [0.9313, 0.4295],\n",
      "        [0.9482, 0.0167],\n",
      "        [0.9228, 0.8060],\n",
      "        [0.8670, 0.8723],\n",
      "        [0.9270, 0.9128],\n",
      "        [0.9418, 0.0295],\n",
      "        [0.0436, 0.9101]], device='cuda:0', grad_fn=<SigmoidBackward0>)\n",
      "Epoch:63, combine_score:0.031463, cls_loss:321.663055, transfer_loss:691.068481, total_loss:1012.731873\n",
      "\n"
     ]
    },
    {
     "data": {
      "application/vnd.jupyter.widget-view+json": {
       "model_id": "29ec5ca95dff442f974a57a1e228b9e9",
       "version_major": 2,
       "version_minor": 0
      },
      "text/plain": [
       "  0%|          | 0/1000 [00:00<?, ?it/s]"
      ]
     },
     "metadata": {},
     "output_type": "display_data"
    },
    {
     "data": {
      "application/vnd.jupyter.widget-view+json": {
       "model_id": "b17e05e0ee0742879933021fd0176797",
       "version_major": 2,
       "version_minor": 0
      },
      "text/plain": [
       "  0%|          | 0/1386 [00:00<?, ?it/s]"
      ]
     },
     "metadata": {},
     "output_type": "display_data"
    },
    {
     "name": "stdout",
     "output_type": "stream",
     "text": [
      "tensor([[0.7021, 0.9335],\n",
      "        [0.9100, 0.8333],\n",
      "        [0.9404, 0.0306],\n",
      "        [0.8974, 0.8880],\n",
      "        [0.8773, 0.8986],\n",
      "        [0.8912, 0.9234],\n",
      "        [0.9322, 0.0802],\n",
      "        [0.0871, 0.9033]], device='cuda:0', grad_fn=<SigmoidBackward0>)\n",
      "Epoch:64, combine_score:0.029920, cls_loss:320.227509, transfer_loss:688.090576, total_loss:1008.317749\n",
      "\n"
     ]
    },
    {
     "data": {
      "application/vnd.jupyter.widget-view+json": {
       "model_id": "5adae4c6b0c349169ca7fc53ef857f54",
       "version_major": 2,
       "version_minor": 0
      },
      "text/plain": [
       "  0%|          | 0/1000 [00:00<?, ?it/s]"
      ]
     },
     "metadata": {},
     "output_type": "display_data"
    },
    {
     "data": {
      "application/vnd.jupyter.widget-view+json": {
       "model_id": "1f449f4c369c4045bfa6b109a3250780",
       "version_major": 2,
       "version_minor": 0
      },
      "text/plain": [
       "  0%|          | 0/1386 [00:00<?, ?it/s]"
      ]
     },
     "metadata": {},
     "output_type": "display_data"
    },
    {
     "name": "stdout",
     "output_type": "stream",
     "text": [
      "tensor([[0.3284, 0.9211],\n",
      "        [0.8877, 0.8796],\n",
      "        [0.9387, 0.0362],\n",
      "        [0.9150, 0.8636],\n",
      "        [0.7953, 0.8832],\n",
      "        [0.7458, 0.9110],\n",
      "        [0.9355, 0.0719],\n",
      "        [0.0535, 0.9030]], device='cuda:0', grad_fn=<SigmoidBackward0>)\n",
      "Epoch:65, combine_score:0.029463, cls_loss:324.070801, transfer_loss:691.607483, total_loss:1015.679077\n",
      "\n"
     ]
    },
    {
     "data": {
      "application/vnd.jupyter.widget-view+json": {
       "model_id": "15c8cc82babd44eaaf9554a2cc11d514",
       "version_major": 2,
       "version_minor": 0
      },
      "text/plain": [
       "  0%|          | 0/1000 [00:00<?, ?it/s]"
      ]
     },
     "metadata": {},
     "output_type": "display_data"
    },
    {
     "data": {
      "application/vnd.jupyter.widget-view+json": {
       "model_id": "b47ddab30e764033a1e74bbb63cde08e",
       "version_major": 2,
       "version_minor": 0
      },
      "text/plain": [
       "  0%|          | 0/1386 [00:00<?, ?it/s]"
      ]
     },
     "metadata": {},
     "output_type": "display_data"
    },
    {
     "name": "stdout",
     "output_type": "stream",
     "text": [
      "tensor([[0.7758, 0.9343],\n",
      "        [0.9231, 0.8573],\n",
      "        [0.9378, 0.0286],\n",
      "        [0.9162, 0.8359],\n",
      "        [0.9003, 0.8615],\n",
      "        [0.9086, 0.9146],\n",
      "        [0.9335, 0.0792],\n",
      "        [0.1330, 0.9020]], device='cuda:0', grad_fn=<SigmoidBackward0>)\n",
      "Epoch:66, combine_score:0.030653, cls_loss:319.703461, transfer_loss:691.803711, total_loss:1011.506836\n",
      "\n"
     ]
    },
    {
     "data": {
      "application/vnd.jupyter.widget-view+json": {
       "model_id": "27e05e5b697e47789b50a1593c0ec61b",
       "version_major": 2,
       "version_minor": 0
      },
      "text/plain": [
       "  0%|          | 0/1000 [00:00<?, ?it/s]"
      ]
     },
     "metadata": {},
     "output_type": "display_data"
    },
    {
     "data": {
      "application/vnd.jupyter.widget-view+json": {
       "model_id": "fb4f7df740694d80b0335584be62bc9a",
       "version_major": 2,
       "version_minor": 0
      },
      "text/plain": [
       "  0%|          | 0/1386 [00:00<?, ?it/s]"
      ]
     },
     "metadata": {},
     "output_type": "display_data"
    },
    {
     "name": "stdout",
     "output_type": "stream",
     "text": [
      "tensor([[0.4865, 0.9301],\n",
      "        [0.8482, 0.8981],\n",
      "        [0.9448, 0.0268],\n",
      "        [0.8269, 0.8938],\n",
      "        [0.8827, 0.8997],\n",
      "        [0.9004, 0.9280],\n",
      "        [0.9340, 0.1033],\n",
      "        [0.0720, 0.9077]], device='cuda:0', grad_fn=<SigmoidBackward0>)\n",
      "Epoch:67, combine_score:0.031654, cls_loss:320.400177, transfer_loss:691.969666, total_loss:1012.370911\n",
      "\n"
     ]
    },
    {
     "data": {
      "application/vnd.jupyter.widget-view+json": {
       "model_id": "bab63e0986654195b8cfc9bb09bab990",
       "version_major": 2,
       "version_minor": 0
      },
      "text/plain": [
       "  0%|          | 0/1000 [00:00<?, ?it/s]"
      ]
     },
     "metadata": {},
     "output_type": "display_data"
    },
    {
     "data": {
      "application/vnd.jupyter.widget-view+json": {
       "model_id": "6091eb05baa745f98ad088ef51370592",
       "version_major": 2,
       "version_minor": 0
      },
      "text/plain": [
       "  0%|          | 0/1386 [00:00<?, ?it/s]"
      ]
     },
     "metadata": {},
     "output_type": "display_data"
    },
    {
     "name": "stdout",
     "output_type": "stream",
     "text": [
      "tensor([[0.7818, 0.9413],\n",
      "        [0.7521, 0.8847],\n",
      "        [0.9511, 0.0175],\n",
      "        [0.8971, 0.8783],\n",
      "        [0.9230, 0.5435],\n",
      "        [0.8649, 0.9095],\n",
      "        [0.9395, 0.0855],\n",
      "        [0.8208, 0.8325]], device='cuda:0', grad_fn=<SigmoidBackward0>)\n",
      "Epoch:68, combine_score:0.030109, cls_loss:320.182892, transfer_loss:688.805176, total_loss:1008.987549\n",
      "\n"
     ]
    },
    {
     "data": {
      "application/vnd.jupyter.widget-view+json": {
       "model_id": "e73e931bce5746b5a252a70c8d0822fa",
       "version_major": 2,
       "version_minor": 0
      },
      "text/plain": [
       "  0%|          | 0/1000 [00:00<?, ?it/s]"
      ]
     },
     "metadata": {},
     "output_type": "display_data"
    },
    {
     "data": {
      "application/vnd.jupyter.widget-view+json": {
       "model_id": "0142f846ca844a76b3805f496dd076ff",
       "version_major": 2,
       "version_minor": 0
      },
      "text/plain": [
       "  0%|          | 0/1386 [00:00<?, ?it/s]"
      ]
     },
     "metadata": {},
     "output_type": "display_data"
    },
    {
     "name": "stdout",
     "output_type": "stream",
     "text": [
      "tensor([[0.8542, 0.9384],\n",
      "        [0.9323, 0.7305],\n",
      "        [0.9550, 0.0100],\n",
      "        [0.9292, 0.8558],\n",
      "        [0.9128, 0.7787],\n",
      "        [0.9354, 0.9129],\n",
      "        [0.9334, 0.0472],\n",
      "        [0.2135, 0.8976]], device='cuda:0', grad_fn=<SigmoidBackward0>)\n",
      "Epoch:69, combine_score:0.028049, cls_loss:320.088989, transfer_loss:691.142395, total_loss:1011.231140\n",
      "\n"
     ]
    },
    {
     "data": {
      "application/vnd.jupyter.widget-view+json": {
       "model_id": "5d8f8844538149d9ab49cd19d8cf3cef",
       "version_major": 2,
       "version_minor": 0
      },
      "text/plain": [
       "  0%|          | 0/1000 [00:00<?, ?it/s]"
      ]
     },
     "metadata": {},
     "output_type": "display_data"
    },
    {
     "data": {
      "application/vnd.jupyter.widget-view+json": {
       "model_id": "7aca146a813240d4b85c8546fb989cf3",
       "version_major": 2,
       "version_minor": 0
      },
      "text/plain": [
       "  0%|          | 0/1386 [00:00<?, ?it/s]"
      ]
     },
     "metadata": {},
     "output_type": "display_data"
    },
    {
     "name": "stdout",
     "output_type": "stream",
     "text": [
      "tensor([[0.7644, 0.9430],\n",
      "        [0.9305, 0.8419],\n",
      "        [0.9442, 0.0194],\n",
      "        [0.8435, 0.8823],\n",
      "        [0.9135, 0.7869],\n",
      "        [0.8275, 0.9313],\n",
      "        [0.9345, 0.0579],\n",
      "        [0.1014, 0.9065]], device='cuda:0', grad_fn=<SigmoidBackward0>)\n",
      "Epoch:70, combine_score:0.029286, cls_loss:315.570526, transfer_loss:690.288757, total_loss:1005.859985\n",
      "\n"
     ]
    },
    {
     "data": {
      "application/vnd.jupyter.widget-view+json": {
       "model_id": "ba95a73c9ba046488624a6066c4e8abb",
       "version_major": 2,
       "version_minor": 0
      },
      "text/plain": [
       "  0%|          | 0/1000 [00:00<?, ?it/s]"
      ]
     },
     "metadata": {},
     "output_type": "display_data"
    },
    {
     "data": {
      "application/vnd.jupyter.widget-view+json": {
       "model_id": "dff7b1e5e0b44939a6424ff978950c71",
       "version_major": 2,
       "version_minor": 0
      },
      "text/plain": [
       "  0%|          | 0/1386 [00:00<?, ?it/s]"
      ]
     },
     "metadata": {},
     "output_type": "display_data"
    },
    {
     "name": "stdout",
     "output_type": "stream",
     "text": [
      "tensor([[0.8045, 0.9461],\n",
      "        [0.9270, 0.7789],\n",
      "        [0.9388, 0.0383],\n",
      "        [0.9339, 0.8100],\n",
      "        [0.9294, 0.8387],\n",
      "        [0.9209, 0.9281],\n",
      "        [0.9296, 0.0951],\n",
      "        [0.0914, 0.9057]], device='cuda:0', grad_fn=<SigmoidBackward0>)\n",
      "Epoch:71, combine_score:0.031249, cls_loss:319.882385, transfer_loss:691.937256, total_loss:1011.820068\n",
      "\n"
     ]
    },
    {
     "data": {
      "application/vnd.jupyter.widget-view+json": {
       "model_id": "b36f539d681a499b9f80f0eba07f0848",
       "version_major": 2,
       "version_minor": 0
      },
      "text/plain": [
       "  0%|          | 0/1000 [00:00<?, ?it/s]"
      ]
     },
     "metadata": {},
     "output_type": "display_data"
    },
    {
     "data": {
      "application/vnd.jupyter.widget-view+json": {
       "model_id": "b2b47cfd2ddd465489c12a23186bac53",
       "version_major": 2,
       "version_minor": 0
      },
      "text/plain": [
       "  0%|          | 0/1386 [00:00<?, ?it/s]"
      ]
     },
     "metadata": {},
     "output_type": "display_data"
    },
    {
     "name": "stdout",
     "output_type": "stream",
     "text": [
      "tensor([[0.6062, 0.9362],\n",
      "        [0.9236, 0.8310],\n",
      "        [0.9379, 0.0405],\n",
      "        [0.9125, 0.8666],\n",
      "        [0.7657, 0.9099],\n",
      "        [0.8758, 0.9271],\n",
      "        [0.9345, 0.1282],\n",
      "        [0.0457, 0.9079]], device='cuda:0', grad_fn=<SigmoidBackward0>)\n",
      "Epoch:72, combine_score:0.030902, cls_loss:312.996338, transfer_loss:692.311096, total_loss:1005.307312\n",
      "\n"
     ]
    },
    {
     "data": {
      "application/vnd.jupyter.widget-view+json": {
       "model_id": "335079093f4c4b119dd5e295019de0ba",
       "version_major": 2,
       "version_minor": 0
      },
      "text/plain": [
       "  0%|          | 0/1000 [00:00<?, ?it/s]"
      ]
     },
     "metadata": {},
     "output_type": "display_data"
    },
    {
     "data": {
      "application/vnd.jupyter.widget-view+json": {
       "model_id": "7d652e21e84340919779f5220752995c",
       "version_major": 2,
       "version_minor": 0
      },
      "text/plain": [
       "  0%|          | 0/1386 [00:00<?, ?it/s]"
      ]
     },
     "metadata": {},
     "output_type": "display_data"
    },
    {
     "name": "stdout",
     "output_type": "stream",
     "text": [
      "tensor([[0.9223, 0.9469],\n",
      "        [0.9437, 0.7366],\n",
      "        [0.9551, 0.0083],\n",
      "        [0.9391, 0.6725],\n",
      "        [0.9258, 0.6485],\n",
      "        [0.9492, 0.8949],\n",
      "        [0.9460, 0.0192],\n",
      "        [0.1384, 0.9049]], device='cuda:0', grad_fn=<SigmoidBackward0>)\n",
      "Epoch:73, combine_score:0.030996, cls_loss:312.598175, transfer_loss:692.215027, total_loss:1004.812866\n",
      "\n"
     ]
    },
    {
     "data": {
      "application/vnd.jupyter.widget-view+json": {
       "model_id": "67f601700b5741ba824c09e12ef2d839",
       "version_major": 2,
       "version_minor": 0
      },
      "text/plain": [
       "  0%|          | 0/1000 [00:00<?, ?it/s]"
      ]
     },
     "metadata": {},
     "output_type": "display_data"
    },
    {
     "data": {
      "application/vnd.jupyter.widget-view+json": {
       "model_id": "d6d4a50d965048b0a2baf5824d635edf",
       "version_major": 2,
       "version_minor": 0
      },
      "text/plain": [
       "  0%|          | 0/1386 [00:00<?, ?it/s]"
      ]
     },
     "metadata": {},
     "output_type": "display_data"
    },
    {
     "name": "stdout",
     "output_type": "stream",
     "text": [
      "tensor([[0.6437, 0.9283],\n",
      "        [0.9159, 0.8205],\n",
      "        [0.9417, 0.0158],\n",
      "        [0.9015, 0.8278],\n",
      "        [0.8719, 0.8433],\n",
      "        [0.8602, 0.9152],\n",
      "        [0.9311, 0.0686],\n",
      "        [0.1332, 0.8862]], device='cuda:0', grad_fn=<SigmoidBackward0>)\n",
      "Epoch:74, combine_score:0.028434, cls_loss:312.162109, transfer_loss:691.415283, total_loss:1003.577454\n",
      "\n"
     ]
    },
    {
     "data": {
      "application/vnd.jupyter.widget-view+json": {
       "model_id": "5c728cae3c954a2ba5b2bc0ec26d5938",
       "version_major": 2,
       "version_minor": 0
      },
      "text/plain": [
       "  0%|          | 0/1000 [00:00<?, ?it/s]"
      ]
     },
     "metadata": {},
     "output_type": "display_data"
    },
    {
     "data": {
      "application/vnd.jupyter.widget-view+json": {
       "model_id": "772e8019b90a4d958d97c3f627c26616",
       "version_major": 2,
       "version_minor": 0
      },
      "text/plain": [
       "  0%|          | 0/1386 [00:00<?, ?it/s]"
      ]
     },
     "metadata": {},
     "output_type": "display_data"
    },
    {
     "name": "stdout",
     "output_type": "stream",
     "text": [
      "tensor([[0.6363, 0.9285],\n",
      "        [0.9176, 0.8772],\n",
      "        [0.9431, 0.0253],\n",
      "        [0.9240, 0.8308],\n",
      "        [0.9223, 0.7386],\n",
      "        [0.9415, 0.9266],\n",
      "        [0.9443, 0.0829],\n",
      "        [0.3277, 0.8800]], device='cuda:0', grad_fn=<SigmoidBackward0>)\n",
      "Epoch:75, combine_score:0.031475, cls_loss:314.488220, transfer_loss:691.313416, total_loss:1005.801575\n",
      "\n"
     ]
    },
    {
     "data": {
      "application/vnd.jupyter.widget-view+json": {
       "model_id": "e3467fa600134967b7328a5ae2545f96",
       "version_major": 2,
       "version_minor": 0
      },
      "text/plain": [
       "  0%|          | 0/1000 [00:00<?, ?it/s]"
      ]
     },
     "metadata": {},
     "output_type": "display_data"
    },
    {
     "data": {
      "application/vnd.jupyter.widget-view+json": {
       "model_id": "452a2ec71ad148178b4675f16e76dbe4",
       "version_major": 2,
       "version_minor": 0
      },
      "text/plain": [
       "  0%|          | 0/1386 [00:00<?, ?it/s]"
      ]
     },
     "metadata": {},
     "output_type": "display_data"
    },
    {
     "name": "stdout",
     "output_type": "stream",
     "text": [
      "tensor([[0.6610, 0.9278],\n",
      "        [0.9445, 0.5566],\n",
      "        [0.9495, 0.0181],\n",
      "        [0.9358, 0.7664],\n",
      "        [0.8501, 0.8625],\n",
      "        [0.9389, 0.9041],\n",
      "        [0.9500, 0.0173],\n",
      "        [0.0555, 0.9113]], device='cuda:0', grad_fn=<SigmoidBackward0>)\n",
      "Epoch:76, combine_score:0.030484, cls_loss:314.149200, transfer_loss:691.188416, total_loss:1005.335999\n",
      "\n"
     ]
    },
    {
     "data": {
      "application/vnd.jupyter.widget-view+json": {
       "model_id": "e3b72310133c4b56bd0e0df30aa1d530",
       "version_major": 2,
       "version_minor": 0
      },
      "text/plain": [
       "  0%|          | 0/1000 [00:00<?, ?it/s]"
      ]
     },
     "metadata": {},
     "output_type": "display_data"
    },
    {
     "data": {
      "application/vnd.jupyter.widget-view+json": {
       "model_id": "70f3362da68a4746bcb9fae535a74136",
       "version_major": 2,
       "version_minor": 0
      },
      "text/plain": [
       "  0%|          | 0/1386 [00:00<?, ?it/s]"
      ]
     },
     "metadata": {},
     "output_type": "display_data"
    },
    {
     "name": "stdout",
     "output_type": "stream",
     "text": [
      "tensor([[0.7645, 0.9287],\n",
      "        [0.9377, 0.6516],\n",
      "        [0.9533, 0.0187],\n",
      "        [0.9344, 0.8249],\n",
      "        [0.8550, 0.8889],\n",
      "        [0.9110, 0.9023],\n",
      "        [0.9476, 0.0670],\n",
      "        [0.0298, 0.9193]], device='cuda:0', grad_fn=<SigmoidBackward0>)\n",
      "Epoch:77, combine_score:0.028165, cls_loss:312.034607, transfer_loss:691.201233, total_loss:1003.235229\n",
      "\n"
     ]
    },
    {
     "data": {
      "application/vnd.jupyter.widget-view+json": {
       "model_id": "8888dab9e6fb471abb3f2e982ca6f098",
       "version_major": 2,
       "version_minor": 0
      },
      "text/plain": [
       "  0%|          | 0/1000 [00:00<?, ?it/s]"
      ]
     },
     "metadata": {},
     "output_type": "display_data"
    },
    {
     "data": {
      "application/vnd.jupyter.widget-view+json": {
       "model_id": "aa57e81fb1694a15a7a141bd6d31e6cb",
       "version_major": 2,
       "version_minor": 0
      },
      "text/plain": [
       "  0%|          | 0/1386 [00:00<?, ?it/s]"
      ]
     },
     "metadata": {},
     "output_type": "display_data"
    },
    {
     "name": "stdout",
     "output_type": "stream",
     "text": [
      "tensor([[0.8002, 0.9391],\n",
      "        [0.9556, 0.7904],\n",
      "        [0.9479, 0.0459],\n",
      "        [0.9393, 0.7445],\n",
      "        [0.8837, 0.8738],\n",
      "        [0.9428, 0.9277],\n",
      "        [0.9474, 0.0569],\n",
      "        [0.1399, 0.9021]], device='cuda:0', grad_fn=<SigmoidBackward0>)\n",
      "Epoch:78, combine_score:0.031420, cls_loss:313.042999, transfer_loss:691.380188, total_loss:1004.423584\n",
      "\n"
     ]
    },
    {
     "data": {
      "application/vnd.jupyter.widget-view+json": {
       "model_id": "a294d5c41cfd4827bbc1f4c3f28e0bfb",
       "version_major": 2,
       "version_minor": 0
      },
      "text/plain": [
       "  0%|          | 0/1000 [00:00<?, ?it/s]"
      ]
     },
     "metadata": {},
     "output_type": "display_data"
    },
    {
     "data": {
      "application/vnd.jupyter.widget-view+json": {
       "model_id": "2e23274911324ed2b9f596f6957e3a18",
       "version_major": 2,
       "version_minor": 0
      },
      "text/plain": [
       "  0%|          | 0/1386 [00:00<?, ?it/s]"
      ]
     },
     "metadata": {},
     "output_type": "display_data"
    },
    {
     "name": "stdout",
     "output_type": "stream",
     "text": [
      "tensor([[0.5609, 0.9296],\n",
      "        [0.9101, 0.8738],\n",
      "        [0.9532, 0.0109],\n",
      "        [0.9256, 0.7979],\n",
      "        [0.9119, 0.7376],\n",
      "        [0.9162, 0.9088],\n",
      "        [0.9443, 0.0777],\n",
      "        [0.4992, 0.8826]], device='cuda:0', grad_fn=<SigmoidBackward0>)\n",
      "Epoch:79, combine_score:0.029884, cls_loss:316.360138, transfer_loss:689.549133, total_loss:1005.910645\n",
      "\n"
     ]
    },
    {
     "data": {
      "application/vnd.jupyter.widget-view+json": {
       "model_id": "33584b5876a842808dc06da6d60bb939",
       "version_major": 2,
       "version_minor": 0
      },
      "text/plain": [
       "  0%|          | 0/1000 [00:00<?, ?it/s]"
      ]
     },
     "metadata": {},
     "output_type": "display_data"
    },
    {
     "data": {
      "application/vnd.jupyter.widget-view+json": {
       "model_id": "81d7c806d79f41e09e420decbb1bfd41",
       "version_major": 2,
       "version_minor": 0
      },
      "text/plain": [
       "  0%|          | 0/1386 [00:00<?, ?it/s]"
      ]
     },
     "metadata": {},
     "output_type": "display_data"
    },
    {
     "name": "stdout",
     "output_type": "stream",
     "text": [
      "tensor([[0.7457, 0.9398],\n",
      "        [0.9374, 0.7319],\n",
      "        [0.9522, 0.0251],\n",
      "        [0.8708, 0.8835],\n",
      "        [0.8823, 0.8615],\n",
      "        [0.8608, 0.9210],\n",
      "        [0.9495, 0.0911],\n",
      "        [0.1309, 0.9020]], device='cuda:0', grad_fn=<SigmoidBackward0>)\n",
      "Epoch:80, combine_score:0.027528, cls_loss:311.833313, transfer_loss:691.848022, total_loss:1003.681274\n",
      "\n"
     ]
    },
    {
     "data": {
      "application/vnd.jupyter.widget-view+json": {
       "model_id": "bf3c870be8664f28bb3004a55d82505b",
       "version_major": 2,
       "version_minor": 0
      },
      "text/plain": [
       "  0%|          | 0/1000 [00:00<?, ?it/s]"
      ]
     },
     "metadata": {},
     "output_type": "display_data"
    },
    {
     "data": {
      "application/vnd.jupyter.widget-view+json": {
       "model_id": "b8ee14d05ec54618962a94727128daa0",
       "version_major": 2,
       "version_minor": 0
      },
      "text/plain": [
       "  0%|          | 0/1386 [00:00<?, ?it/s]"
      ]
     },
     "metadata": {},
     "output_type": "display_data"
    },
    {
     "name": "stdout",
     "output_type": "stream",
     "text": [
      "tensor([[0.7738, 0.9325],\n",
      "        [0.9317, 0.5326],\n",
      "        [0.9457, 0.0166],\n",
      "        [0.9201, 0.8392],\n",
      "        [0.9022, 0.8569],\n",
      "        [0.9229, 0.9130],\n",
      "        [0.9354, 0.0534],\n",
      "        [0.1150, 0.9128]], device='cuda:0', grad_fn=<SigmoidBackward0>)\n",
      "Epoch:81, combine_score:0.028790, cls_loss:312.799805, transfer_loss:689.009949, total_loss:1001.809021\n",
      "\n"
     ]
    },
    {
     "data": {
      "application/vnd.jupyter.widget-view+json": {
       "model_id": "e100fd7f525b440294a54bc4bf4eb884",
       "version_major": 2,
       "version_minor": 0
      },
      "text/plain": [
       "  0%|          | 0/1000 [00:00<?, ?it/s]"
      ]
     },
     "metadata": {},
     "output_type": "display_data"
    },
    {
     "data": {
      "application/vnd.jupyter.widget-view+json": {
       "model_id": "0024b7804afa42e1b794c6381b553098",
       "version_major": 2,
       "version_minor": 0
      },
      "text/plain": [
       "  0%|          | 0/1386 [00:00<?, ?it/s]"
      ]
     },
     "metadata": {},
     "output_type": "display_data"
    },
    {
     "name": "stdout",
     "output_type": "stream",
     "text": [
      "tensor([[0.5786, 0.9226],\n",
      "        [0.9453, 0.7642],\n",
      "        [0.9450, 0.0330],\n",
      "        [0.8662, 0.8677],\n",
      "        [0.8805, 0.8923],\n",
      "        [0.9395, 0.9193],\n",
      "        [0.9434, 0.1702],\n",
      "        [0.0574, 0.9071]], device='cuda:0', grad_fn=<SigmoidBackward0>)\n",
      "Epoch:82, combine_score:0.026888, cls_loss:313.102081, transfer_loss:692.220642, total_loss:1005.322266\n",
      "\n"
     ]
    },
    {
     "data": {
      "application/vnd.jupyter.widget-view+json": {
       "model_id": "b69a5e0731bd4c859afb8fdb19101621",
       "version_major": 2,
       "version_minor": 0
      },
      "text/plain": [
       "  0%|          | 0/1000 [00:00<?, ?it/s]"
      ]
     },
     "metadata": {},
     "output_type": "display_data"
    },
    {
     "data": {
      "application/vnd.jupyter.widget-view+json": {
       "model_id": "8bf10dff99ae4455a77696fc0449e016",
       "version_major": 2,
       "version_minor": 0
      },
      "text/plain": [
       "  0%|          | 0/1386 [00:00<?, ?it/s]"
      ]
     },
     "metadata": {},
     "output_type": "display_data"
    },
    {
     "name": "stdout",
     "output_type": "stream",
     "text": [
      "tensor([[0.6477, 0.9348],\n",
      "        [0.9232, 0.8249],\n",
      "        [0.9533, 0.0446],\n",
      "        [0.8453, 0.8744],\n",
      "        [0.8826, 0.8968],\n",
      "        [0.8860, 0.9232],\n",
      "        [0.9577, 0.0867],\n",
      "        [0.0511, 0.9116]], device='cuda:0', grad_fn=<SigmoidBackward0>)\n",
      "Epoch:83, combine_score:0.027565, cls_loss:308.580750, transfer_loss:690.861938, total_loss:999.442261\n",
      "\n"
     ]
    },
    {
     "data": {
      "application/vnd.jupyter.widget-view+json": {
       "model_id": "b3a5aa8dc57140dc85fc12d2363ef486",
       "version_major": 2,
       "version_minor": 0
      },
      "text/plain": [
       "  0%|          | 0/1000 [00:00<?, ?it/s]"
      ]
     },
     "metadata": {},
     "output_type": "display_data"
    },
    {
     "data": {
      "application/vnd.jupyter.widget-view+json": {
       "model_id": "4d321f02dea344718fb08b2f85375403",
       "version_major": 2,
       "version_minor": 0
      },
      "text/plain": [
       "  0%|          | 0/1386 [00:00<?, ?it/s]"
      ]
     },
     "metadata": {},
     "output_type": "display_data"
    },
    {
     "name": "stdout",
     "output_type": "stream",
     "text": [
      "tensor([[0.5149, 0.9243],\n",
      "        [0.9242, 0.8806],\n",
      "        [0.9370, 0.0349],\n",
      "        [0.8721, 0.8800],\n",
      "        [0.8844, 0.8954],\n",
      "        [0.8772, 0.9253],\n",
      "        [0.9366, 0.0976],\n",
      "        [0.0463, 0.9126]], device='cuda:0', grad_fn=<SigmoidBackward0>)\n",
      "Epoch:84, combine_score:0.028495, cls_loss:311.914185, transfer_loss:689.688843, total_loss:1001.603943\n",
      "\n"
     ]
    },
    {
     "data": {
      "application/vnd.jupyter.widget-view+json": {
       "model_id": "6ddf597513dc4902bb8a188693c43adc",
       "version_major": 2,
       "version_minor": 0
      },
      "text/plain": [
       "  0%|          | 0/1000 [00:00<?, ?it/s]"
      ]
     },
     "metadata": {},
     "output_type": "display_data"
    },
    {
     "data": {
      "application/vnd.jupyter.widget-view+json": {
       "model_id": "979423b02a2e45e68d1fea1c69c15cfb",
       "version_major": 2,
       "version_minor": 0
      },
      "text/plain": [
       "  0%|          | 0/1386 [00:00<?, ?it/s]"
      ]
     },
     "metadata": {},
     "output_type": "display_data"
    },
    {
     "name": "stdout",
     "output_type": "stream",
     "text": [
      "tensor([[0.4940, 0.9279],\n",
      "        [0.8954, 0.9048],\n",
      "        [0.9528, 0.1522],\n",
      "        [0.9089, 0.8917],\n",
      "        [0.7946, 0.9143],\n",
      "        [0.7066, 0.9276],\n",
      "        [0.9506, 0.2137],\n",
      "        [0.1533, 0.9004]], device='cuda:0', grad_fn=<SigmoidBackward0>)\n",
      "Epoch:85, combine_score:0.029354, cls_loss:307.235657, transfer_loss:691.624146, total_loss:998.859192\n",
      "\n"
     ]
    },
    {
     "data": {
      "application/vnd.jupyter.widget-view+json": {
       "model_id": "3f879d2cb18a4f9c9cf638679ce86492",
       "version_major": 2,
       "version_minor": 0
      },
      "text/plain": [
       "  0%|          | 0/1000 [00:00<?, ?it/s]"
      ]
     },
     "metadata": {},
     "output_type": "display_data"
    },
    {
     "data": {
      "application/vnd.jupyter.widget-view+json": {
       "model_id": "e4c25bf6c26b4990b301849714e42087",
       "version_major": 2,
       "version_minor": 0
      },
      "text/plain": [
       "  0%|          | 0/1386 [00:00<?, ?it/s]"
      ]
     },
     "metadata": {},
     "output_type": "display_data"
    },
    {
     "name": "stdout",
     "output_type": "stream",
     "text": [
      "tensor([[0.8823, 0.9401],\n",
      "        [0.9537, 0.7889],\n",
      "        [0.9439, 0.0164],\n",
      "        [0.9549, 0.8584],\n",
      "        [0.9276, 0.8054],\n",
      "        [0.9557, 0.8358],\n",
      "        [0.9364, 0.1982],\n",
      "        [0.3954, 0.9025]], device='cuda:0', grad_fn=<SigmoidBackward0>)\n",
      "Epoch:86, combine_score:0.032649, cls_loss:306.529572, transfer_loss:689.255127, total_loss:995.784302\n",
      "\n"
     ]
    },
    {
     "data": {
      "application/vnd.jupyter.widget-view+json": {
       "model_id": "c9c278789efe4dca899488bc967ad1d5",
       "version_major": 2,
       "version_minor": 0
      },
      "text/plain": [
       "  0%|          | 0/1000 [00:00<?, ?it/s]"
      ]
     },
     "metadata": {},
     "output_type": "display_data"
    },
    {
     "data": {
      "application/vnd.jupyter.widget-view+json": {
       "model_id": "30fa5e7ac9cb45f3814d9ff1cfb4a53d",
       "version_major": 2,
       "version_minor": 0
      },
      "text/plain": [
       "  0%|          | 0/1386 [00:00<?, ?it/s]"
      ]
     },
     "metadata": {},
     "output_type": "display_data"
    },
    {
     "name": "stdout",
     "output_type": "stream",
     "text": [
      "tensor([[0.4674, 0.9254],\n",
      "        [0.9218, 0.8757],\n",
      "        [0.9458, 0.0476],\n",
      "        [0.9143, 0.8932],\n",
      "        [0.9144, 0.8518],\n",
      "        [0.9209, 0.9256],\n",
      "        [0.9464, 0.1963],\n",
      "        [0.1376, 0.9019]], device='cuda:0', grad_fn=<SigmoidBackward0>)\n",
      "Epoch:87, combine_score:0.027993, cls_loss:311.139069, transfer_loss:689.744995, total_loss:1000.883911\n",
      "\n"
     ]
    },
    {
     "data": {
      "application/vnd.jupyter.widget-view+json": {
       "model_id": "cfc3e3cdf40f485594b2d8ee0a43628c",
       "version_major": 2,
       "version_minor": 0
      },
      "text/plain": [
       "  0%|          | 0/1000 [00:00<?, ?it/s]"
      ]
     },
     "metadata": {},
     "output_type": "display_data"
    },
    {
     "name": "stderr",
     "output_type": "stream",
     "text": [
      "wandb: Network error (ReadTimeout), entering retry loop.\n"
     ]
    },
    {
     "data": {
      "application/vnd.jupyter.widget-view+json": {
       "model_id": "f232eac53b924152a62c4948f76f5bac",
       "version_major": 2,
       "version_minor": 0
      },
      "text/plain": [
       "  0%|          | 0/1386 [00:00<?, ?it/s]"
      ]
     },
     "metadata": {},
     "output_type": "display_data"
    },
    {
     "name": "stdout",
     "output_type": "stream",
     "text": [
      "tensor([[0.5628, 0.9281],\n",
      "        [0.9348, 0.8152],\n",
      "        [0.9422, 0.0657],\n",
      "        [0.8922, 0.8871],\n",
      "        [0.6788, 0.9016],\n",
      "        [0.7199, 0.9198],\n",
      "        [0.9425, 0.1688],\n",
      "        [0.0252, 0.9175]], device='cuda:0', grad_fn=<SigmoidBackward0>)\n",
      "Epoch:88, combine_score:0.026549, cls_loss:310.310333, transfer_loss:692.588501, total_loss:1002.899292\n",
      "\n"
     ]
    },
    {
     "data": {
      "application/vnd.jupyter.widget-view+json": {
       "model_id": "30eba26d661f438f8c70ddd121161059",
       "version_major": 2,
       "version_minor": 0
      },
      "text/plain": [
       "  0%|          | 0/1000 [00:00<?, ?it/s]"
      ]
     },
     "metadata": {},
     "output_type": "display_data"
    },
    {
     "data": {
      "application/vnd.jupyter.widget-view+json": {
       "model_id": "18bdac7eeb804622a9b908cb8c4a35d6",
       "version_major": 2,
       "version_minor": 0
      },
      "text/plain": [
       "  0%|          | 0/1386 [00:00<?, ?it/s]"
      ]
     },
     "metadata": {},
     "output_type": "display_data"
    },
    {
     "name": "stdout",
     "output_type": "stream",
     "text": [
      "tensor([[0.5695, 0.9277],\n",
      "        [0.9305, 0.7443],\n",
      "        [0.9485, 0.0245],\n",
      "        [0.8684, 0.8519],\n",
      "        [0.9038, 0.8416],\n",
      "        [0.8507, 0.9179],\n",
      "        [0.9429, 0.1092],\n",
      "        [0.1286, 0.8942]], device='cuda:0', grad_fn=<SigmoidBackward0>)\n",
      "Epoch:89, combine_score:0.026587, cls_loss:307.527924, transfer_loss:689.918396, total_loss:997.446411\n",
      "\n"
     ]
    },
    {
     "data": {
      "application/vnd.jupyter.widget-view+json": {
       "model_id": "05981e5b5f8e4a84a8293f73b30bee65",
       "version_major": 2,
       "version_minor": 0
      },
      "text/plain": [
       "  0%|          | 0/1000 [00:00<?, ?it/s]"
      ]
     },
     "metadata": {},
     "output_type": "display_data"
    },
    {
     "data": {
      "application/vnd.jupyter.widget-view+json": {
       "model_id": "ea7dad894bd048869a93e08ab593a3b8",
       "version_major": 2,
       "version_minor": 0
      },
      "text/plain": [
       "  0%|          | 0/1386 [00:00<?, ?it/s]"
      ]
     },
     "metadata": {},
     "output_type": "display_data"
    },
    {
     "name": "stdout",
     "output_type": "stream",
     "text": [
      "tensor([[0.7864, 0.9339],\n",
      "        [0.9379, 0.7184],\n",
      "        [0.9455, 0.0321],\n",
      "        [0.8947, 0.8735],\n",
      "        [0.8206, 0.8917],\n",
      "        [0.8133, 0.9187],\n",
      "        [0.9480, 0.0409],\n",
      "        [0.0515, 0.9048]], device='cuda:0', grad_fn=<SigmoidBackward0>)\n",
      "Epoch:90, combine_score:0.027614, cls_loss:308.291260, transfer_loss:691.230530, total_loss:999.522034\n",
      "\n"
     ]
    },
    {
     "data": {
      "application/vnd.jupyter.widget-view+json": {
       "model_id": "e0e9d31915374872b8a77098d90dec7f",
       "version_major": 2,
       "version_minor": 0
      },
      "text/plain": [
       "  0%|          | 0/1000 [00:00<?, ?it/s]"
      ]
     },
     "metadata": {},
     "output_type": "display_data"
    },
    {
     "data": {
      "application/vnd.jupyter.widget-view+json": {
       "model_id": "f73def46ec154ba4bf3f1a582b762a14",
       "version_major": 2,
       "version_minor": 0
      },
      "text/plain": [
       "  0%|          | 0/1386 [00:00<?, ?it/s]"
      ]
     },
     "metadata": {},
     "output_type": "display_data"
    },
    {
     "name": "stdout",
     "output_type": "stream",
     "text": [
      "tensor([[0.7679, 0.9439],\n",
      "        [0.9446, 0.8231],\n",
      "        [0.9292, 0.0839],\n",
      "        [0.9157, 0.8725],\n",
      "        [0.8902, 0.8921],\n",
      "        [0.9062, 0.9345],\n",
      "        [0.9297, 0.1551],\n",
      "        [0.1135, 0.9158]], device='cuda:0', grad_fn=<SigmoidBackward0>)\n",
      "Epoch:91, combine_score:0.025949, cls_loss:309.032684, transfer_loss:691.043457, total_loss:1000.075500\n",
      "\n"
     ]
    },
    {
     "data": {
      "application/vnd.jupyter.widget-view+json": {
       "model_id": "f38d311bbc584f7fb454c78b3608801c",
       "version_major": 2,
       "version_minor": 0
      },
      "text/plain": [
       "  0%|          | 0/1000 [00:00<?, ?it/s]"
      ]
     },
     "metadata": {},
     "output_type": "display_data"
    },
    {
     "data": {
      "application/vnd.jupyter.widget-view+json": {
       "model_id": "304e7df0b52744f2805cd8c8a355e51f",
       "version_major": 2,
       "version_minor": 0
      },
      "text/plain": [
       "  0%|          | 0/1386 [00:00<?, ?it/s]"
      ]
     },
     "metadata": {},
     "output_type": "display_data"
    },
    {
     "name": "stdout",
     "output_type": "stream",
     "text": [
      "tensor([[0.8362, 0.9343],\n",
      "        [0.9387, 0.5189],\n",
      "        [0.9535, 0.0114],\n",
      "        [0.9364, 0.7846],\n",
      "        [0.9180, 0.7344],\n",
      "        [0.9242, 0.9069],\n",
      "        [0.9454, 0.0417],\n",
      "        [0.1326, 0.9003]], device='cuda:0', grad_fn=<SigmoidBackward0>)\n",
      "Epoch:92, combine_score:0.027101, cls_loss:306.393524, transfer_loss:692.037537, total_loss:998.430664\n",
      "\n"
     ]
    },
    {
     "data": {
      "application/vnd.jupyter.widget-view+json": {
       "model_id": "42a39400aa4445f484424f39ecceb5da",
       "version_major": 2,
       "version_minor": 0
      },
      "text/plain": [
       "  0%|          | 0/1000 [00:00<?, ?it/s]"
      ]
     },
     "metadata": {},
     "output_type": "display_data"
    },
    {
     "data": {
      "application/vnd.jupyter.widget-view+json": {
       "model_id": "2ee8f88547804c06ab3d19429846d99a",
       "version_major": 2,
       "version_minor": 0
      },
      "text/plain": [
       "  0%|          | 0/1386 [00:00<?, ?it/s]"
      ]
     },
     "metadata": {},
     "output_type": "display_data"
    },
    {
     "name": "stdout",
     "output_type": "stream",
     "text": [
      "tensor([[0.5646, 0.9274],\n",
      "        [0.9290, 0.8072],\n",
      "        [0.9533, 0.0277],\n",
      "        [0.8859, 0.8598],\n",
      "        [0.8963, 0.8709],\n",
      "        [0.8306, 0.9185],\n",
      "        [0.9511, 0.1331],\n",
      "        [0.0740, 0.9072]], device='cuda:0', grad_fn=<SigmoidBackward0>)\n",
      "Epoch:93, combine_score:0.031582, cls_loss:308.065796, transfer_loss:692.202454, total_loss:1000.268311\n",
      "\n"
     ]
    },
    {
     "data": {
      "application/vnd.jupyter.widget-view+json": {
       "model_id": "2c7733a5b6fb474286579d7c97f1becf",
       "version_major": 2,
       "version_minor": 0
      },
      "text/plain": [
       "  0%|          | 0/1000 [00:00<?, ?it/s]"
      ]
     },
     "metadata": {},
     "output_type": "display_data"
    },
    {
     "data": {
      "application/vnd.jupyter.widget-view+json": {
       "model_id": "76b2471ebbd2462380b0b0feed1c9b4c",
       "version_major": 2,
       "version_minor": 0
      },
      "text/plain": [
       "  0%|          | 0/1386 [00:00<?, ?it/s]"
      ]
     },
     "metadata": {},
     "output_type": "display_data"
    },
    {
     "name": "stdout",
     "output_type": "stream",
     "text": [
      "tensor([[0.1396, 0.9162],\n",
      "        [0.7784, 0.8916],\n",
      "        [0.9471, 0.1135],\n",
      "        [0.7969, 0.8943],\n",
      "        [0.7905, 0.9136],\n",
      "        [0.2012, 0.8989],\n",
      "        [0.9527, 0.3330],\n",
      "        [0.0800, 0.9090]], device='cuda:0', grad_fn=<SigmoidBackward0>)\n",
      "Epoch:94, combine_score:0.036549, cls_loss:307.802917, transfer_loss:692.641113, total_loss:1000.443298\n",
      "\n"
     ]
    },
    {
     "data": {
      "application/vnd.jupyter.widget-view+json": {
       "model_id": "99de9b84e1b54594b29785f6ab4c08cf",
       "version_major": 2,
       "version_minor": 0
      },
      "text/plain": [
       "  0%|          | 0/1000 [00:00<?, ?it/s]"
      ]
     },
     "metadata": {},
     "output_type": "display_data"
    },
    {
     "data": {
      "application/vnd.jupyter.widget-view+json": {
       "model_id": "e1def1e06ec746c694de8979e31eb465",
       "version_major": 2,
       "version_minor": 0
      },
      "text/plain": [
       "  0%|          | 0/1386 [00:00<?, ?it/s]"
      ]
     },
     "metadata": {},
     "output_type": "display_data"
    },
    {
     "name": "stdout",
     "output_type": "stream",
     "text": [
      "tensor([[0.5428, 0.9302],\n",
      "        [0.8893, 0.8482],\n",
      "        [0.9464, 0.0379],\n",
      "        [0.9136, 0.8639],\n",
      "        [0.9115, 0.8195],\n",
      "        [0.9043, 0.9148],\n",
      "        [0.9518, 0.1592],\n",
      "        [0.2921, 0.8933]], device='cuda:0', grad_fn=<SigmoidBackward0>)\n",
      "Epoch:95, combine_score:0.027934, cls_loss:308.035583, transfer_loss:693.036743, total_loss:1001.072998\n",
      "\n"
     ]
    },
    {
     "data": {
      "application/vnd.jupyter.widget-view+json": {
       "model_id": "4a8e2d21377346f79b7dec5d51a90eef",
       "version_major": 2,
       "version_minor": 0
      },
      "text/plain": [
       "  0%|          | 0/1000 [00:00<?, ?it/s]"
      ]
     },
     "metadata": {},
     "output_type": "display_data"
    },
    {
     "data": {
      "application/vnd.jupyter.widget-view+json": {
       "model_id": "45ba72df6589483b8c0a662fda189dd9",
       "version_major": 2,
       "version_minor": 0
      },
      "text/plain": [
       "  0%|          | 0/1386 [00:00<?, ?it/s]"
      ]
     },
     "metadata": {},
     "output_type": "display_data"
    },
    {
     "name": "stdout",
     "output_type": "stream",
     "text": [
      "tensor([[0.8969, 0.9375],\n",
      "        [0.9561, 0.6729],\n",
      "        [0.9555, 0.0767],\n",
      "        [0.9373, 0.8562],\n",
      "        [0.9242, 0.8567],\n",
      "        [0.9409, 0.9224],\n",
      "        [0.9600, 0.1050],\n",
      "        [0.2536, 0.9076]], device='cuda:0', grad_fn=<SigmoidBackward0>)\n",
      "Epoch:96, combine_score:0.029790, cls_loss:304.953156, transfer_loss:689.607910, total_loss:994.559998\n",
      "\n"
     ]
    },
    {
     "data": {
      "application/vnd.jupyter.widget-view+json": {
       "model_id": "a0517e3e273e4f87b801a80250dae4b9",
       "version_major": 2,
       "version_minor": 0
      },
      "text/plain": [
       "  0%|          | 0/1000 [00:00<?, ?it/s]"
      ]
     },
     "metadata": {},
     "output_type": "display_data"
    },
    {
     "data": {
      "application/vnd.jupyter.widget-view+json": {
       "model_id": "28eb9545af1041759f9dab669a182bd2",
       "version_major": 2,
       "version_minor": 0
      },
      "text/plain": [
       "  0%|          | 0/1386 [00:00<?, ?it/s]"
      ]
     },
     "metadata": {},
     "output_type": "display_data"
    },
    {
     "name": "stdout",
     "output_type": "stream",
     "text": [
      "tensor([[0.7600, 0.9339],\n",
      "        [0.9438, 0.8635],\n",
      "        [0.9685, 0.4665],\n",
      "        [0.8510, 0.8836],\n",
      "        [0.9074, 0.9356],\n",
      "        [0.8939, 0.9420],\n",
      "        [0.9666, 0.3999],\n",
      "        [0.0445, 0.9220]], device='cuda:0', grad_fn=<SigmoidBackward0>)\n",
      "Epoch:97, combine_score:0.028861, cls_loss:310.521271, transfer_loss:683.236328, total_loss:993.756653\n",
      "\n"
     ]
    },
    {
     "data": {
      "application/vnd.jupyter.widget-view+json": {
       "model_id": "ad21d6ec4ff14a219ff1bf9374efbc09",
       "version_major": 2,
       "version_minor": 0
      },
      "text/plain": [
       "  0%|          | 0/1000 [00:00<?, ?it/s]"
      ]
     },
     "metadata": {},
     "output_type": "display_data"
    },
    {
     "data": {
      "application/vnd.jupyter.widget-view+json": {
       "model_id": "dfd7b2dc74e94a85ac07f8853f6f73ed",
       "version_major": 2,
       "version_minor": 0
      },
      "text/plain": [
       "  0%|          | 0/1386 [00:00<?, ?it/s]"
      ]
     },
     "metadata": {},
     "output_type": "display_data"
    },
    {
     "name": "stdout",
     "output_type": "stream",
     "text": [
      "tensor([[0.8048, 0.9354],\n",
      "        [0.9471, 0.7838],\n",
      "        [0.9665, 0.2097],\n",
      "        [0.9291, 0.8702],\n",
      "        [0.8855, 0.9200],\n",
      "        [0.8517, 0.9274],\n",
      "        [0.9616, 0.1672],\n",
      "        [0.1128, 0.9081]], device='cuda:0', grad_fn=<SigmoidBackward0>)\n",
      "Epoch:98, combine_score:0.026094, cls_loss:311.959839, transfer_loss:683.000488, total_loss:994.960449\n",
      "\n"
     ]
    },
    {
     "data": {
      "application/vnd.jupyter.widget-view+json": {
       "model_id": "02ac9d4b02424cb390a214e390060e7f",
       "version_major": 2,
       "version_minor": 0
      },
      "text/plain": [
       "  0%|          | 0/1000 [00:00<?, ?it/s]"
      ]
     },
     "metadata": {},
     "output_type": "display_data"
    },
    {
     "data": {
      "application/vnd.jupyter.widget-view+json": {
       "model_id": "a30422d6cc454dffa182e1d3bb216b8e",
       "version_major": 2,
       "version_minor": 0
      },
      "text/plain": [
       "  0%|          | 0/1386 [00:00<?, ?it/s]"
      ]
     },
     "metadata": {},
     "output_type": "display_data"
    },
    {
     "name": "stdout",
     "output_type": "stream",
     "text": [
      "tensor([[0.7853, 0.9263],\n",
      "        [0.9324, 0.7324],\n",
      "        [0.9415, 0.1179],\n",
      "        [0.7492, 0.8623],\n",
      "        [0.8862, 0.8847],\n",
      "        [0.8352, 0.9149],\n",
      "        [0.9374, 0.2076],\n",
      "        [0.0545, 0.9035]], device='cuda:0', grad_fn=<SigmoidBackward0>)\n",
      "Epoch:99, combine_score:0.028764, cls_loss:304.555145, transfer_loss:691.696167, total_loss:996.250854\n",
      "\n"
     ]
    }
   ],
   "source": [
    "parser = argparse.ArgumentParser(description='baseline')\n",
    "# Hyperparameters\n",
    "parser.add_argument('--batch_size', type=int, default=8)\n",
    "parser.add_argument('--num_epochs', type=int, default=100)\n",
    "parser.add_argument('--is_scheduler', action='store_true', default=True,help='use scheduler(default-False)')\n",
    "\n",
    "# model\n",
    "parser.add_argument('--seed', type=int, default=42, \n",
    "                    help='random seed (default: 42)')\n",
    "\n",
    "\n",
    "##modify\n",
    "parser.add_argument('--lr', '--learning-rate', default=1e-2, type=float,\n",
    "                        metavar='LR', help='initial learning rate', dest='lr')\n",
    "parser.add_argument('--lr-gamma', default=0.001,\n",
    "                    type=float, help='parameter for lr scheduler')\n",
    "parser.add_argument('--lr-decay', default=0.75,\n",
    "                    type=float, help='parameter for lr scheduler')\n",
    "parser.add_argument('--momentum', default=0.9,\n",
    "                    type=float, metavar='M', help='momentum')\n",
    "parser.add_argument('--wd', '--weight-decay', default=1e-3, type=float,\n",
    "                    metavar='W', help='weight decay (default: 1e-3)',\n",
    "                    dest='weight_decay')\n",
    "\n",
    "###\n",
    "parser.add_argument('--model_path', type=str,\n",
    "                    default=None, help='Model checkpoint')\n",
    "parser.add_argument('--comment', type=str, default=None,\n",
    "                    help='Comment to describe the saved model')\n",
    "\n",
    "# Auxiliary arguments\n",
    "parser.add_argument('--eval_output', type=str, default='epoch7.csv',\n",
    "                    help='Path to save the evaluation result')\n",
    "parser.add_argument('--eval', action='store_true', default=False,\n",
    "                    help='eval mode')\n",
    "parser.add_argument('--is_eval', action='store_true', default=False,help='eval database')\n",
    "parser.add_argument('--eval_part', type=int, default=0)\n",
    "\n",
    "# backend options\n",
    "parser.add_argument('--cudnn-deterministic-toggle', action='store_false', \\\n",
    "                    default=True, \n",
    "                    help='use cudnn-deterministic? (default true)')    \n",
    "\n",
    "parser.add_argument('--cudnn-benchmark-toggle', action='store_true', \\\n",
    "                    default=False, \n",
    "                    help='use cudnn-benchmark? (default false)') \n",
    "\n",
    "parser.add_argument('--temperature', default=2.0,\n",
    "                        type=float, help='parameter temperature scaling')\n",
    "parser.add_argument('--rho', type=float, default=0.05, help=\"GPU ID\")\n",
    "##===================================================Rawboost data augmentation ======================================================================#\n",
    "\n",
    "parser.add_argument('--algo', type=int, default=0, \n",
    "                help='Rawboost algos discriptions. 0: No augmentation 1: LnL_convolutive_noise, 2: ISD_additive_noise, 3: SSI_additive_noise, 4: series algo (1+2+3), \\\n",
    "                5: series algo (1+2), 6: series algo (1+3), 7: series algo(2+3), 8: parallel algo(1,2) .default=0]')\n",
    "\n",
    "# LnL_convolutive_noise parameters\n",
    "parser.add_argument('--nBands', type=int, default=5, \n",
    "                help='number of notch filters.The higher the number of bands, the more aggresive the distortions is.[default=5]')\n",
    "parser.add_argument('--minF', type=int, default=20, \n",
    "                help='minimum centre frequency [Hz] of notch filter.[default=20] ')\n",
    "parser.add_argument('--maxF', type=int, default=8000, \n",
    "                help='maximum centre frequency [Hz] (<sr/2)  of notch filter.[default=8000]')\n",
    "parser.add_argument('--minBW', type=int, default=100, \n",
    "                help='minimum width [Hz] of filter.[default=100] ')\n",
    "parser.add_argument('--maxBW', type=int, default=1000, \n",
    "                help='maximum width [Hz] of filter.[default=1000] ')\n",
    "parser.add_argument('--minCoeff', type=int, default=10, \n",
    "                help='minimum filter coefficients. More the filter coefficients more ideal the filter slope.[default=10]')\n",
    "parser.add_argument('--maxCoeff', type=int, default=100, \n",
    "                help='maximum filter coefficients. More the filter coefficients more ideal the filter slope.[default=100]')\n",
    "parser.add_argument('--minG', type=int, default=0, \n",
    "                help='minimum gain factor of linear component.[default=0]')\n",
    "parser.add_argument('--maxG', type=int, default=0, \n",
    "                help='maximum gain factor of linear component.[default=0]')\n",
    "parser.add_argument('--minBiasLinNonLin', type=int, default=5, \n",
    "                help=' minimum gain difference between linear and non-linear components.[default=5]')\n",
    "parser.add_argument('--maxBiasLinNonLin', type=int, default=20, \n",
    "                help=' maximum gain difference between linear and non-linear components.[default=20]')\n",
    "parser.add_argument('--N_f', type=int, default=5, \n",
    "                help='order of the (non-)linearity where N_f=1 refers only to linear components.[default=5]')\n",
    "\n",
    "# ISD_additive_noise parameters\n",
    "parser.add_argument('--P', type=int, default=10, \n",
    "                help='Maximum number of uniformly distributed samples in [%].[defaul=10]')\n",
    "parser.add_argument('--g_sd', type=int, default=2, \n",
    "                help='gain parameters > 0. [default=2]')\n",
    "parser.add_argument('-i', '--iters-per-epoch', default=1000, type=int,\n",
    "                        help='Number of iterations per epoch')\n",
    "# SSI_additive_noise parameters\n",
    "parser.add_argument('--SNRmin', type=int, default=10, \n",
    "                help='Minimum SNR value for coloured additive noise.[defaul=10]')\n",
    "parser.add_argument('--SNRmax', type=int, default=40, \n",
    "                help='Maximum SNR value for coloured additive noise.[defaul=40]')\n",
    "\n",
    "##===================================================Rawboost data augmentation ======================================================================#\n",
    "\n",
    "\n",
    "if not os.path.exists('models'):\n",
    "    os.mkdir('models')\n",
    "args = parser.parse_args(args=[])\n",
    "\n",
    "#make experiment reproducible\n",
    "set_random_seed(args.seed, args)\n",
    "\n",
    "# track = args.track\n",
    "\n",
    "# assert track in ['LA', 'PA','DF'], 'Invalid track given'\n",
    "\n",
    "# #database\n",
    "# prefix_2021 = 'ASVspoof2021.{}'.format(track)\n",
    "\n",
    "#define model saving path\n",
    "model_tag = ' adam_fold2_{}_{}_{}'.format(\n",
    "         args.num_epochs, args.batch_size, args.lr)\n",
    "if args.comment:\n",
    "    model_tag = model_tag + '_{}'.format(args.comment)\n",
    "model_save_path = os.path.join('models', model_tag)\n",
    "\n",
    "#set model save directory\n",
    "if not os.path.exists(model_save_path):\n",
    "    os.mkdir(model_save_path)\n",
    "\n",
    "#GPU device\n",
    "device = 'cuda' if torch.cuda.is_available() else 'cpu'                  \n",
    "print('Device: {}'.format(device))\n",
    "\n",
    "for_model = {\n",
    "        \"architecture\": \"AASIST\",\n",
    "        \"nb_samp\": 80000,\n",
    "        \"first_conv\": 128,\n",
    "        \"filts\": [70, [1, 32], [32, 32], [32, 64], [64, 64]],\n",
    "        \"gat_dims\": [64, 32],\n",
    "        \"pool_ratios\": [0.5, 0.7, 0.5, 0.5],\n",
    "        \"temperatures\": [2.0, 2.0, 100.0, 100.0]\n",
    "    }\n",
    "    \n",
    "classifier = Model(for_model)\n",
    "nb_params = sum([param.view(-1).size()[0] for param in classifier.parameters()])\n",
    "print('nb_params:',nb_params)\n",
    "classifier.to(device)\n",
    "\n",
    "if args.model_path:\n",
    "    classifier.load_state_dict(torch.load(args.model_path,map_location=device))\n",
    "    print('Model loaded : {}'.format(args.model_path))\n",
    "\n",
    "if args.eval:\n",
    "    print('eval')\n",
    "    file_eval = pd.read_csv('test.csv')\n",
    "    print('no. of eval trials',len(file_eval))\n",
    "    eval_set = Dataset_ASVspoof_eval(file_eval['id'].to_list())\n",
    "    eval_loader = DataLoader(eval_set, batch_size=args.batch_size,num_workers=8, shuffle=False)\n",
    "    inference(eval_loader, classifier, device, args.eval_output)\n",
    "    sys.exit(1)\n",
    "\n",
    "df = pd.read_csv('train.csv')\n",
    "df['label'] = np.where(df['label']=='real',1,0)\n",
    "target_df = pd.read_csv('unlabeled.csv')\n",
    "X = df['id'].to_list()\n",
    "y = df['label'].to_list()\n",
    "\n",
    "# Stratified K-Fold 설정\n",
    "k = 5\n",
    "skf = StratifiedKFold(n_splits=k, shuffle=True, random_state=42)\n",
    "\n",
    "# Stratified K-Fold 적용\n",
    "folds = list(skf.split(X, y))\n",
    "\n",
    "# 특정 fold 선택 (예: fold_index = 0)\n",
    "fold_index = 2\n",
    "train_indices, val_indices = folds[fold_index]\n",
    "\n",
    "X_train = [X[i] for i in train_indices]\n",
    "X_test = [X[i] for i in val_indices]\n",
    "y_train = [y[i] for i in train_indices]\n",
    "y_test = [y[i] for i in val_indices]\n",
    "train_source_dataset = Dataset_ASVspoof_train(args,list_IDs = X_train,labels = y_train,algo=args.algo)\n",
    "train_target_dataset = Dataset_ASVspoof_dev(list_IDs = target_df['0'].to_list(),args=args,algo=args.algo)\n",
    "\n",
    "\n",
    "\n",
    "train_source_loader = DataLoader(train_source_dataset, batch_size=args.batch_size,\n",
    "                                     shuffle=True, num_workers=8, drop_last=True)\n",
    "train_target_loader = DataLoader(train_target_dataset, batch_size=args.batch_size,\n",
    "                                     shuffle=True, num_workers=8, drop_last=True)\n",
    "\n",
    "eval_set = Dataset_ASVspoof_dev(list_IDs = target_df['0'].to_list(),args=args,algo=args.algo)\n",
    "eval_loader = DataLoader(eval_set, batch_size=args.batch_size,num_workers=8, shuffle=False)\n",
    "\n",
    "\n",
    "train_source_iter = ForeverDataIterator(train_source_loader)\n",
    "train_target_iter = ForeverDataIterator(train_target_loader)\n",
    "\n",
    "\n",
    "dev_set = Dataset_ASVspoof_train(args,list_IDs = X_test,labels = y_test,algo=0)\n",
    "dev_loader = DataLoader(dev_set, batch_size=args.batch_size,num_workers=8, shuffle=False)\n",
    "\n",
    "domain_discri = DomainDiscriminator(\n",
    "            160 * 2, hidden_size=1024).to(device)\n",
    "\n",
    "\n",
    "\n",
    "base_optimizer = torch.optim.Adam\n",
    "ad_optimizer = torch.optim.Adam(domain_discri.get_parameters(\n",
    "), args.lr, weight_decay=args.weight_decay)\n",
    "optimizer = SAM(classifier.parameters(), base_optimizer, rho=args.rho, adaptive=False,\n",
    "        lr=args.lr,weight_decay=args.weight_decay)\n",
    "\n",
    "\n",
    "lr_scheduler = LambdaLR(optimizer, lambda x: args.lr *\n",
    "                            (1. + args.lr_gamma * float(x)) ** (-args.lr_decay))\n",
    "lr_scheduler_ad = LambdaLR(\n",
    "        ad_optimizer, lambda x: args.lr * (1. + args.lr_gamma * float(x)) ** (-args.lr_decay))\n",
    "\n",
    "domain_adv = ConditionalDomainAdversarialLoss(\n",
    "        domain_discri, entropy_conditioning=False,\n",
    "        num_classes=2, features_dim=160, randomized=False,\n",
    "        randomized_dim=1024\n",
    "    ).to(device)\n",
    "\n",
    "\n",
    "wandb.init(\n",
    "        project=f\"FOLD_ADAM_BEST\",\n",
    "        name='fold2',\n",
    "        config=args\n",
    "    )\n",
    "for epoch in range(args.num_epochs):\n",
    "    # train for one epoch\n",
    "    \n",
    "    total_cls_loss, total_transfer_loss, total_loss = train(train_source_iter, train_target_iter, classifier, domain_adv, optimizer, ad_optimizer,\n",
    "          lr_scheduler, lr_scheduler_ad, \n",
    "          epoch, args)\n",
    "    torch.save(classifier.state_dict(), os.path.join(\n",
    "        model_save_path, 'epoch_{}.pth'.format(epoch)))\n",
    "    \n",
    "    # evaluate on validation set\n",
    "    combine_score = produce_evaluation_file(dev_loader, classifier, device,X_test)\n",
    "\n",
    "    data_iter = iter(eval_loader)\n",
    "    wav = next(data_iter)\n",
    "\n",
    "    print(torch.sigmoid(classifier(wav.to(device))[0]))\n",
    "    print(\"Epoch:{}, combine_score:{:.6f}, cls_loss:{:.6f}, transfer_loss:{:.6f}, total_loss:{:.6f}\\n\".format(\n",
    "        epoch, combine_score,total_cls_loss, total_transfer_loss, total_loss))\n",
    "    wandb.log({\n",
    "        'combine':combine_score,\n",
    "        'lr':lr_scheduler.get_last_lr()[0],\n",
    "        'ad_lr':lr_scheduler_ad.get_last_lr()[0],\n",
    "        'total_cls_loss':total_cls_loss,\n",
    "        'total_transfer_loss':total_transfer_loss,\n",
    "        'total_loss':total_loss\n",
    "            })"
   ]
  },
  {
   "cell_type": "code",
   "execution_count": 13,
   "id": "78038a84-e1e9-473e-8919-d886d666b628",
   "metadata": {},
   "outputs": [
    {
     "data": {
      "application/vnd.jupyter.widget-view+json": {
       "model_id": "7f8e0ebe5ecf4a3ab664d988d2bf9152",
       "version_major": 2,
       "version_minor": 0
      },
      "text/plain": [
       "  0%|          | 0/6250 [00:00<?, ?it/s]"
      ]
     },
     "metadata": {},
     "output_type": "display_data"
    }
   ],
   "source": [
    "file_eval = pd.read_csv('test.csv')\n",
    "eval_set = Dataset_ASVspoof_eval(file_eval['id'].to_list())\n",
    "eval_loader = DataLoader(eval_set, batch_size=args.batch_size,num_workers=8, shuffle=False)\n",
    "inference(eval_loader, classifier, device, 'asdf_fold2.csv')"
   ]
  },
  {
   "cell_type": "code",
   "execution_count": 16,
   "id": "72aacca8-125e-4f50-98aa-a54498ded334",
   "metadata": {},
   "outputs": [
    {
     "data": {
      "application/vnd.jupyter.widget-view+json": {
       "model_id": "074ecbbd06324e0eb4ac7989d95f4103",
       "version_major": 2,
       "version_minor": 0
      },
      "text/plain": [
       "config.yaml:   0%|          | 0.00/469 [00:00<?, ?B/s]"
      ]
     },
     "metadata": {},
     "output_type": "display_data"
    },
    {
     "data": {
      "application/vnd.jupyter.widget-view+json": {
       "model_id": "5d8e27f26f1d48bf9556246e3cb87c0f",
       "version_major": 2,
       "version_minor": 0
      },
      "text/plain": [
       "pytorch_model.bin:   0%|          | 0.00/5.91M [00:00<?, ?B/s]"
      ]
     },
     "metadata": {},
     "output_type": "display_data"
    },
    {
     "data": {
      "application/vnd.jupyter.widget-view+json": {
       "model_id": "681796cc26434dacb62dc2f278a8a528",
       "version_major": 2,
       "version_minor": 0
      },
      "text/plain": [
       "config.yaml:   0%|          | 0.00/399 [00:00<?, ?B/s]"
      ]
     },
     "metadata": {},
     "output_type": "display_data"
    },
    {
     "data": {
      "application/vnd.jupyter.widget-view+json": {
       "model_id": "e32e2cb76d3448d8b584ff368c5f281f",
       "version_major": 2,
       "version_minor": 0
      },
      "text/plain": [
       "pytorch_model.bin:   0%|          | 0.00/26.6M [00:00<?, ?B/s]"
      ]
     },
     "metadata": {},
     "output_type": "display_data"
    },
    {
     "data": {
      "application/vnd.jupyter.widget-view+json": {
       "model_id": "dd39b79a54fa4e5cb187cabda66ae4d0",
       "version_major": 2,
       "version_minor": 0
      },
      "text/plain": [
       "config.yaml:   0%|          | 0.00/221 [00:00<?, ?B/s]"
      ]
     },
     "metadata": {},
     "output_type": "display_data"
    },
    {
     "data": {
      "application/vnd.jupyter.widget-view+json": {
       "model_id": "eabb9ab89d914b58b749f573f180b30b",
       "version_major": 2,
       "version_minor": 0
      },
      "text/plain": [
       "  0%|          | 0/50000 [00:00<?, ?it/s]"
      ]
     },
     "metadata": {},
     "output_type": "display_data"
    },
    {
     "ename": "KeyboardInterrupt",
     "evalue": "",
     "output_type": "error",
     "traceback": [
      "\u001b[0;31m---------------------------------------------------------------------------\u001b[0m",
      "\u001b[0;31mKeyboardInterrupt\u001b[0m                         Traceback (most recent call last)",
      "Cell \u001b[0;32mIn[16], line 15\u001b[0m\n\u001b[1;32m     13\u001b[0m cnt \u001b[38;5;241m=\u001b[39m []\n\u001b[1;32m     14\u001b[0m \u001b[38;5;28;01mfor\u001b[39;00m file_path \u001b[38;5;129;01min\u001b[39;00m tqdm(df[\u001b[38;5;124m'\u001b[39m\u001b[38;5;124mid\u001b[39m\u001b[38;5;124m'\u001b[39m]):\n\u001b[0;32m---> 15\u001b[0m     diarization \u001b[38;5;241m=\u001b[39m pipeline(\u001b[38;5;124mf\u001b[39m\u001b[38;5;124m'\u001b[39m\u001b[38;5;124mtest/\u001b[39m\u001b[38;5;132;01m{\u001b[39;00mfile_path\u001b[38;5;132;01m}\u001b[39;00m\u001b[38;5;124m.ogg\u001b[39m\u001b[38;5;124m'\u001b[39m, min_speakers\u001b[38;5;241m=\u001b[39m\u001b[38;5;241m0\u001b[39m, max_speakers\u001b[38;5;241m=\u001b[39m\u001b[38;5;241m2\u001b[39m)\n\u001b[1;32m     17\u001b[0m     \u001b[38;5;66;03m# 화자 수 추정\u001b[39;00m\n\u001b[1;32m     18\u001b[0m     speakers \u001b[38;5;241m=\u001b[39m \u001b[38;5;28mset\u001b[39m()\n",
      "File \u001b[0;32m~/anaconda3/envs/low/lib/python3.11/site-packages/pyannote/audio/core/pipeline.py:326\u001b[0m, in \u001b[0;36mPipeline.__call__\u001b[0;34m(self, file, **kwargs)\u001b[0m\n\u001b[1;32m    323\u001b[0m \u001b[38;5;28;01mif\u001b[39;00m \u001b[38;5;28mhasattr\u001b[39m(\u001b[38;5;28mself\u001b[39m, \u001b[38;5;124m\"\u001b[39m\u001b[38;5;124mpreprocessors\u001b[39m\u001b[38;5;124m\"\u001b[39m):\n\u001b[1;32m    324\u001b[0m     file \u001b[38;5;241m=\u001b[39m ProtocolFile(file, lazy\u001b[38;5;241m=\u001b[39m\u001b[38;5;28mself\u001b[39m\u001b[38;5;241m.\u001b[39mpreprocessors)\n\u001b[0;32m--> 326\u001b[0m \u001b[38;5;28;01mreturn\u001b[39;00m \u001b[38;5;28mself\u001b[39m\u001b[38;5;241m.\u001b[39mapply(file, \u001b[38;5;241m*\u001b[39m\u001b[38;5;241m*\u001b[39mkwargs)\n",
      "File \u001b[0;32m~/anaconda3/envs/low/lib/python3.11/site-packages/pyannote/audio/pipelines/speaker_diarization.py:524\u001b[0m, in \u001b[0;36mSpeakerDiarization.apply\u001b[0;34m(self, file, num_speakers, min_speakers, max_speakers, return_embeddings, hook)\u001b[0m\n\u001b[1;32m    521\u001b[0m     embeddings \u001b[38;5;241m=\u001b[39m \u001b[38;5;28;01mNone\u001b[39;00m\n\u001b[1;32m    523\u001b[0m \u001b[38;5;28;01melse\u001b[39;00m:\n\u001b[0;32m--> 524\u001b[0m     embeddings \u001b[38;5;241m=\u001b[39m \u001b[38;5;28mself\u001b[39m\u001b[38;5;241m.\u001b[39mget_embeddings(\n\u001b[1;32m    525\u001b[0m         file,\n\u001b[1;32m    526\u001b[0m         binarized_segmentations,\n\u001b[1;32m    527\u001b[0m         exclude_overlap\u001b[38;5;241m=\u001b[39m\u001b[38;5;28mself\u001b[39m\u001b[38;5;241m.\u001b[39membedding_exclude_overlap,\n\u001b[1;32m    528\u001b[0m         hook\u001b[38;5;241m=\u001b[39mhook,\n\u001b[1;32m    529\u001b[0m     )\n\u001b[1;32m    530\u001b[0m     hook(\u001b[38;5;124m\"\u001b[39m\u001b[38;5;124membeddings\u001b[39m\u001b[38;5;124m\"\u001b[39m, embeddings)\n\u001b[1;32m    531\u001b[0m     \u001b[38;5;66;03m#   shape: (num_chunks, local_num_speakers, dimension)\u001b[39;00m\n",
      "File \u001b[0;32m~/anaconda3/envs/low/lib/python3.11/site-packages/pyannote/audio/pipelines/speaker_diarization.py:348\u001b[0m, in \u001b[0;36mSpeakerDiarization.get_embeddings\u001b[0;34m(self, file, binary_segmentations, exclude_overlap, hook)\u001b[0m\n\u001b[1;32m    345\u001b[0m mask_batch \u001b[38;5;241m=\u001b[39m torch\u001b[38;5;241m.\u001b[39mvstack(masks)\n\u001b[1;32m    346\u001b[0m \u001b[38;5;66;03m# (batch_size, num_frames) torch.Tensor\u001b[39;00m\n\u001b[0;32m--> 348\u001b[0m embedding_batch: np\u001b[38;5;241m.\u001b[39mndarray \u001b[38;5;241m=\u001b[39m \u001b[38;5;28mself\u001b[39m\u001b[38;5;241m.\u001b[39m_embedding(\n\u001b[1;32m    349\u001b[0m     waveform_batch, masks\u001b[38;5;241m=\u001b[39mmask_batch\n\u001b[1;32m    350\u001b[0m )\n\u001b[1;32m    351\u001b[0m \u001b[38;5;66;03m# (batch_size, dimension) np.ndarray\u001b[39;00m\n\u001b[1;32m    353\u001b[0m embedding_batches\u001b[38;5;241m.\u001b[39mappend(embedding_batch)\n",
      "File \u001b[0;32m~/anaconda3/envs/low/lib/python3.11/site-packages/pyannote/audio/pipelines/speaker_verification.py:705\u001b[0m, in \u001b[0;36mPyannoteAudioPretrainedSpeakerEmbedding.__call__\u001b[0;34m(self, waveforms, masks)\u001b[0m\n\u001b[1;32m    701\u001b[0m             warnings\u001b[38;5;241m.\u001b[39msimplefilter(\u001b[38;5;124m\"\u001b[39m\u001b[38;5;124mignore\u001b[39m\u001b[38;5;124m\"\u001b[39m)\n\u001b[1;32m    702\u001b[0m             embeddings \u001b[38;5;241m=\u001b[39m \u001b[38;5;28mself\u001b[39m\u001b[38;5;241m.\u001b[39mmodel_(\n\u001b[1;32m    703\u001b[0m                 waveforms\u001b[38;5;241m.\u001b[39mto(\u001b[38;5;28mself\u001b[39m\u001b[38;5;241m.\u001b[39mdevice), weights\u001b[38;5;241m=\u001b[39mmasks\u001b[38;5;241m.\u001b[39mto(\u001b[38;5;28mself\u001b[39m\u001b[38;5;241m.\u001b[39mdevice)\n\u001b[1;32m    704\u001b[0m             )\n\u001b[0;32m--> 705\u001b[0m \u001b[38;5;28;01mreturn\u001b[39;00m embeddings\u001b[38;5;241m.\u001b[39mcpu()\u001b[38;5;241m.\u001b[39mnumpy()\n",
      "\u001b[0;31mKeyboardInterrupt\u001b[0m: "
     ]
    }
   ],
   "source": [
    "from pyannote.audio import Pipeline\n",
    "import pandas as pd\n",
    "import torch\n",
    "from tqdm.notebook import tqdm\n",
    "\n",
    "df = pd.read_csv('test.csv')\n",
    "\n",
    "pipeline = Pipeline.from_pretrained(\n",
    "    \"pyannote/speaker-diarization-3.1\",\n",
    "    use_auth_token=True)\n",
    "\n",
    "pipeline.to(torch.device('cuda'))\n",
    "cnt = []\n",
    "for file_path in tqdm(df['id']):\n",
    "    diarization = pipeline(f'test/{file_path}.ogg', min_speakers=0, max_speakers=2)\n",
    "    \n",
    "    # 화자 수 추정\n",
    "    speakers = set()\n",
    "    for turn, _, speaker in diarization.itertracks(yield_label=True):\n",
    "        speakers.add(speaker)\n",
    "    \n",
    "    cnt.append(len(speakers))"
   ]
  },
  {
   "cell_type": "code",
   "execution_count": 15,
   "id": "bfc16ce9-d0c4-4f9e-b306-b46b50b8456c",
   "metadata": {},
   "outputs": [
    {
     "data": {
      "application/vnd.jupyter.widget-view+json": {
       "model_id": "ef28a05cf3944cdda3ceac61e23f1f8c",
       "version_major": 2,
       "version_minor": 0
      },
      "text/plain": [
       "VBox(children=(HTML(value='<center> <img\\nsrc=https://huggingface.co/front/assets/huggingface_logo-noborder.sv…"
      ]
     },
     "metadata": {},
     "output_type": "display_data"
    }
   ],
   "source": [
    "import huggingface_hub\n",
    "huggingface_hub.login()"
   ]
  },
  {
   "cell_type": "code",
   "execution_count": null,
   "id": "c1cee107-ff63-4451-b5d8-7ad413263514",
   "metadata": {},
   "outputs": [],
   "source": []
  }
 ],
 "metadata": {
  "kernelspec": {
   "display_name": "Python 3 (ipykernel)",
   "language": "python",
   "name": "python3"
  },
  "language_info": {
   "codemirror_mode": {
    "name": "ipython",
    "version": 3
   },
   "file_extension": ".py",
   "mimetype": "text/x-python",
   "name": "python",
   "nbconvert_exporter": "python",
   "pygments_lexer": "ipython3",
   "version": "3.11.8"
  }
 },
 "nbformat": 4,
 "nbformat_minor": 5
}
